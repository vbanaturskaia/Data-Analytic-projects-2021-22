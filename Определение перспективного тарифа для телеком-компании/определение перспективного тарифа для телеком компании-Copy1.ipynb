{
 "cells": [
  {
   "cell_type": "markdown",
   "metadata": {},
   "source": [
    "# Определение перспективного тарифа для телеком-компании"
   ]
  },
  {
   "cell_type": "markdown",
   "metadata": {},
   "source": [
    "## Содержание проекта\n",
    "2. [Описание проекта](#1)\n",
    "3. [Предобработка данных](#2)\n",
    "* [Вывод](#2.1)\n",
    "4. [Расчет метрик](#3)\n",
    "* [Вывод](#3.1)\n",
    "5. [Анализ данных](#4)\n",
    "* [Вывод](#4.1)\n",
    "6. [Проверка гипотез](#5)\n",
    "* [Средняя выручка пользователей тарифов «Ультра» и «Смарт» различаются](#5.1)\n",
    "* [Средняя выручка пользователей из Москвы отличается от выручки пользователей из других регионов.](#5.2)\n",
    "7. [Общий вывод](#6)\n",
    "* [Рекомендации компании](#6.1)    "
   ]
  },
  {
   "cell_type": "markdown",
   "metadata": {},
   "source": [
    "##  Описание проекта <a id=\"1\"></a> "
   ]
  },
  {
   "cell_type": "markdown",
   "metadata": {},
   "source": [
    "Заказчик: федеральный оператор сотовой связи.  \n",
    "\n",
    "**Исходные данные** - выборка данных пользователей за 2018 год.  \n",
    "\n",
    "**Цель проекта** - на основе анализа данных, посчитанных метрик и созданных графиков оценить, какой тариф является более прибыльным для компании.  \n",
    "\n",
    "**Задачи**  \n",
    "- Провести предобработку данных (пропуски, дубликаты, типы данных и т.д.)  \n",
    "- Провести анализ данных (посчитать среднее количество, дисперсию и стандартное отклонение, построить гистограммы, описать распределение)  \n",
    "- Проверить гипотезы несколькими критериями  \n",
    "- Описать общий вывод\n"
   ]
  },
  {
   "cell_type": "markdown",
   "metadata": {},
   "source": [
    "**Описание тарифов**  \n",
    "1) Тариф «Смарт»:  \n",
    "- Ежемесячная плата: 550 рублей  \n",
    "- Включено 500 минут разговора, 50 сообщений и 15 Гб интернет-трафика  \n",
    "- Стоимость услуг сверх тарифного пакета: 1. минута разговора: 3 рубля («Мегалайн» всегда округляет вверх значения минут и мегабайтов. Если пользователь проговорил всего 1 секунду, в тарифе засчитывается целая минута); 2. сообщение: 3 рубля; 3. 1 Гб интернет-трафика: 200 рублей.  \n",
    "\n",
    "2) Тариф «Ультра»:  \n",
    "- Ежемесячная плата: 1950 рублей  \n",
    "- Включено 3000 минут разговора, 1000 сообщений и 30 Гб интернет-трафика  \n",
    "- Стоимость услуг сверх тарифного пакета: 1. минута разговора: 1 рубль; 2. сообщение: 1 рубль; 3. 1 Гб интернет-трафика: 150 рублей.  "
   ]
  },
  {
   "cell_type": "markdown",
   "metadata": {},
   "source": [
    "**Описание данных**  \n",
    "\n",
    "**Таблица users (информация о пользователях):**  \n",
    "- user_id — уникальный идентификатор пользователя  \n",
    "- first_name — имя пользователя  \n",
    "- last_name — фамилия пользователя  \n",
    "- age — возраст пользователя (годы)  \n",
    "- reg_date — дата подключения тарифа (день, месяц, год)  \n",
    "- churn_date — дата прекращения пользования тарифом (если значение пропущено, то тариф ещё действовал на момент выгрузки данных)  \n",
    "- city — город проживания пользователя  \n",
    "- tarif — название тарифного плана  \n",
    "\n",
    "**Таблица calls (информация о звонках):**  \n",
    "- id — уникальный номер звонка  \n",
    "- call_date — дата звонка  \n",
    "- duration — длительность звонка в минутах  \n",
    "- user_id — идентификатор пользователя, сделавшего звонок  \n",
    "\n",
    "**Таблица messages (информация о сообщениях):**  \n",
    "- id — уникальный номер сообщения  \n",
    "- message_date — дата сообщения  \n",
    "- user_id — идентификатор пользователя, отправившего сообщение  \n",
    "\n",
    "**Таблица internet (информация об интернет-сессиях):**  \n",
    "- id — уникальный номер сессии  \n",
    "- mb_used — объём потраченного за сессию интернет-трафика (в мегабайтах)  \n",
    "- session_date — дата интернет-сессии  \n",
    "- user_id — идентификатор пользователя \n",
    "\n",
    "**Таблица tariffs (информация о тарифах):**\n",
    "- tariff_name — название тарифа  \n",
    "- rub_monthly_fee — ежемесячная абонентская плата в рублях  \n",
    "- minutes_included — количество минут разговора в месяц, включённых в абонентскую плату  \n",
    "- messages_included — количество сообщений в месяц, включённых в абонентскую плату  \n",
    "- mb_per_month_included — объём интернет-трафика, включённого в абонентскую плату (в мегабайтах)  \n",
    "- rub_per_minute — стоимость минуты разговора сверх тарифного пакета (например, если в тарифе 100 минут разговора в месяц, то со 101 минуты будет взиматься плата)  \n",
    "- rub_per_message — стоимость отправки сообщения сверх тарифного пакета  \n",
    "- rub_per_gb — стоимость дополнительного гигабайта интернет-трафика сверх тарифного пакета (1 гигабайт = 1024 мегабайта)  "
   ]
  },
  {
   "cell_type": "markdown",
   "metadata": {},
   "source": [
    "##  Предобработка данных  <a id=\"2\"></a> "
   ]
  },
  {
   "cell_type": "code",
   "execution_count": 1,
   "metadata": {},
   "outputs": [],
   "source": [
    "import pandas as pd\n",
    "import numpy as np\n",
    "import matplotlib.pyplot as plt\n",
    "import seaborn as sns\n",
    "from datetime import datetime, timedelta\n",
    "from matplotlib import pyplot as plt\n",
    "import warnings\n",
    "warnings.filterwarnings('ignore') #отключим всплывающие предупреждения питона\n",
    "from plotly.offline import download_plotlyjs, init_notebook_mode, plot, iplot\n",
    "import plotly.graph_objs as go\n",
    "import math\n",
    "from scipy import stats as st"
   ]
  },
  {
   "cell_type": "code",
   "execution_count": 2,
   "metadata": {},
   "outputs": [],
   "source": [
    "def first_look (df):\n",
    "    '''Функция получения первичной информации о датафрейме'''\n",
    "    print ('------------- Первые 5 строк ------------')\n",
    "    display(df.head())\n",
    "    print('')\n",
    "    print('')\n",
    "    print ('------------- Типы данных ------------')\n",
    "    print (df.info())\n",
    "    print('')\n",
    "    print('')\n",
    "    print ('------------- Пропуски ------------')\n",
    "    count = 0\n",
    "    for element in df.columns:\n",
    "        if df[element].isna().sum() > 0:\n",
    "            print(element, ' - ', df[element].isna().sum(), 'пропусков')\n",
    "            count = +1\n",
    "        if count == 0:\n",
    "            print('Пропусков НЕТ')\n",
    "    print('')\n",
    "    print('')\n",
    "    print('--------------Дубликаты--------------')\n",
    "    print(df.duplicated().sum(), 'дубликатов')\n"
   ]
  },
  {
   "cell_type": "code",
   "execution_count": 3,
   "metadata": {},
   "outputs": [],
   "source": [
    "calls, internet, messages,tariffs, users = (\n",
    "    pd.read_csv('https://code.s3.yandex.net/datasets/calls.csv'),  # журнал звонков\n",
    "    pd.read_csv('https://code.s3.yandex.net/datasets/internet.csv'),  # интернет-сессии\n",
    "    pd.read_csv('https://code.s3.yandex.net/datasets/messages.csv'),  # сообщения\n",
    "    pd.read_csv('https://code.s3.yandex.net/datasets/tariffs.csv'),  # тарифы\n",
    "    pd.read_csv('https://code.s3.yandex.net/datasets/users.csv'),  # пользователи\n",
    ")"
   ]
  },
  {
   "cell_type": "code",
   "execution_count": 4,
   "metadata": {
    "scrolled": false
   },
   "outputs": [
    {
     "name": "stdout",
     "output_type": "stream",
     "text": [
      "------------- Первые 5 строк ------------\n"
     ]
    },
    {
     "data": {
      "text/html": [
       "<div>\n",
       "<style scoped>\n",
       "    .dataframe tbody tr th:only-of-type {\n",
       "        vertical-align: middle;\n",
       "    }\n",
       "\n",
       "    .dataframe tbody tr th {\n",
       "        vertical-align: top;\n",
       "    }\n",
       "\n",
       "    .dataframe thead th {\n",
       "        text-align: right;\n",
       "    }\n",
       "</style>\n",
       "<table border=\"1\" class=\"dataframe\">\n",
       "  <thead>\n",
       "    <tr style=\"text-align: right;\">\n",
       "      <th></th>\n",
       "      <th>id</th>\n",
       "      <th>call_date</th>\n",
       "      <th>duration</th>\n",
       "      <th>user_id</th>\n",
       "    </tr>\n",
       "  </thead>\n",
       "  <tbody>\n",
       "    <tr>\n",
       "      <th>0</th>\n",
       "      <td>1000_0</td>\n",
       "      <td>2018-07-25</td>\n",
       "      <td>0.00</td>\n",
       "      <td>1000</td>\n",
       "    </tr>\n",
       "    <tr>\n",
       "      <th>1</th>\n",
       "      <td>1000_1</td>\n",
       "      <td>2018-08-17</td>\n",
       "      <td>0.00</td>\n",
       "      <td>1000</td>\n",
       "    </tr>\n",
       "    <tr>\n",
       "      <th>2</th>\n",
       "      <td>1000_2</td>\n",
       "      <td>2018-06-11</td>\n",
       "      <td>2.85</td>\n",
       "      <td>1000</td>\n",
       "    </tr>\n",
       "    <tr>\n",
       "      <th>3</th>\n",
       "      <td>1000_3</td>\n",
       "      <td>2018-09-21</td>\n",
       "      <td>13.80</td>\n",
       "      <td>1000</td>\n",
       "    </tr>\n",
       "    <tr>\n",
       "      <th>4</th>\n",
       "      <td>1000_4</td>\n",
       "      <td>2018-12-15</td>\n",
       "      <td>5.18</td>\n",
       "      <td>1000</td>\n",
       "    </tr>\n",
       "  </tbody>\n",
       "</table>\n",
       "</div>"
      ],
      "text/plain": [
       "       id   call_date  duration  user_id\n",
       "0  1000_0  2018-07-25      0.00     1000\n",
       "1  1000_1  2018-08-17      0.00     1000\n",
       "2  1000_2  2018-06-11      2.85     1000\n",
       "3  1000_3  2018-09-21     13.80     1000\n",
       "4  1000_4  2018-12-15      5.18     1000"
      ]
     },
     "metadata": {},
     "output_type": "display_data"
    },
    {
     "name": "stdout",
     "output_type": "stream",
     "text": [
      "\n",
      "\n",
      "------------- Типы данных ------------\n",
      "<class 'pandas.core.frame.DataFrame'>\n",
      "RangeIndex: 202607 entries, 0 to 202606\n",
      "Data columns (total 4 columns):\n",
      " #   Column     Non-Null Count   Dtype  \n",
      "---  ------     --------------   -----  \n",
      " 0   id         202607 non-null  object \n",
      " 1   call_date  202607 non-null  object \n",
      " 2   duration   202607 non-null  float64\n",
      " 3   user_id    202607 non-null  int64  \n",
      "dtypes: float64(1), int64(1), object(2)\n",
      "memory usage: 6.2+ MB\n",
      "None\n",
      "\n",
      "\n",
      "------------- Пропуски ------------\n",
      "Пропусков НЕТ\n",
      "Пропусков НЕТ\n",
      "Пропусков НЕТ\n",
      "Пропусков НЕТ\n",
      "\n",
      "\n",
      "--------------Дубликаты--------------\n",
      "0 дубликатов\n",
      "------------- Первые 5 строк ------------\n"
     ]
    },
    {
     "data": {
      "text/html": [
       "<div>\n",
       "<style scoped>\n",
       "    .dataframe tbody tr th:only-of-type {\n",
       "        vertical-align: middle;\n",
       "    }\n",
       "\n",
       "    .dataframe tbody tr th {\n",
       "        vertical-align: top;\n",
       "    }\n",
       "\n",
       "    .dataframe thead th {\n",
       "        text-align: right;\n",
       "    }\n",
       "</style>\n",
       "<table border=\"1\" class=\"dataframe\">\n",
       "  <thead>\n",
       "    <tr style=\"text-align: right;\">\n",
       "      <th></th>\n",
       "      <th>Unnamed: 0</th>\n",
       "      <th>id</th>\n",
       "      <th>mb_used</th>\n",
       "      <th>session_date</th>\n",
       "      <th>user_id</th>\n",
       "    </tr>\n",
       "  </thead>\n",
       "  <tbody>\n",
       "    <tr>\n",
       "      <th>0</th>\n",
       "      <td>0</td>\n",
       "      <td>1000_0</td>\n",
       "      <td>112.95</td>\n",
       "      <td>2018-11-25</td>\n",
       "      <td>1000</td>\n",
       "    </tr>\n",
       "    <tr>\n",
       "      <th>1</th>\n",
       "      <td>1</td>\n",
       "      <td>1000_1</td>\n",
       "      <td>1052.81</td>\n",
       "      <td>2018-09-07</td>\n",
       "      <td>1000</td>\n",
       "    </tr>\n",
       "    <tr>\n",
       "      <th>2</th>\n",
       "      <td>2</td>\n",
       "      <td>1000_2</td>\n",
       "      <td>1197.26</td>\n",
       "      <td>2018-06-25</td>\n",
       "      <td>1000</td>\n",
       "    </tr>\n",
       "    <tr>\n",
       "      <th>3</th>\n",
       "      <td>3</td>\n",
       "      <td>1000_3</td>\n",
       "      <td>550.27</td>\n",
       "      <td>2018-08-22</td>\n",
       "      <td>1000</td>\n",
       "    </tr>\n",
       "    <tr>\n",
       "      <th>4</th>\n",
       "      <td>4</td>\n",
       "      <td>1000_4</td>\n",
       "      <td>302.56</td>\n",
       "      <td>2018-09-24</td>\n",
       "      <td>1000</td>\n",
       "    </tr>\n",
       "  </tbody>\n",
       "</table>\n",
       "</div>"
      ],
      "text/plain": [
       "   Unnamed: 0      id  mb_used session_date  user_id\n",
       "0           0  1000_0   112.95   2018-11-25     1000\n",
       "1           1  1000_1  1052.81   2018-09-07     1000\n",
       "2           2  1000_2  1197.26   2018-06-25     1000\n",
       "3           3  1000_3   550.27   2018-08-22     1000\n",
       "4           4  1000_4   302.56   2018-09-24     1000"
      ]
     },
     "metadata": {},
     "output_type": "display_data"
    },
    {
     "name": "stdout",
     "output_type": "stream",
     "text": [
      "\n",
      "\n",
      "------------- Типы данных ------------\n",
      "<class 'pandas.core.frame.DataFrame'>\n",
      "RangeIndex: 149396 entries, 0 to 149395\n",
      "Data columns (total 5 columns):\n",
      " #   Column        Non-Null Count   Dtype  \n",
      "---  ------        --------------   -----  \n",
      " 0   Unnamed: 0    149396 non-null  int64  \n",
      " 1   id            149396 non-null  object \n",
      " 2   mb_used       149396 non-null  float64\n",
      " 3   session_date  149396 non-null  object \n",
      " 4   user_id       149396 non-null  int64  \n",
      "dtypes: float64(1), int64(2), object(2)\n",
      "memory usage: 5.7+ MB\n",
      "None\n",
      "\n",
      "\n",
      "------------- Пропуски ------------\n",
      "Пропусков НЕТ\n",
      "Пропусков НЕТ\n",
      "Пропусков НЕТ\n",
      "Пропусков НЕТ\n",
      "Пропусков НЕТ\n",
      "\n",
      "\n",
      "--------------Дубликаты--------------\n",
      "0 дубликатов\n",
      "------------- Первые 5 строк ------------\n"
     ]
    },
    {
     "data": {
      "text/html": [
       "<div>\n",
       "<style scoped>\n",
       "    .dataframe tbody tr th:only-of-type {\n",
       "        vertical-align: middle;\n",
       "    }\n",
       "\n",
       "    .dataframe tbody tr th {\n",
       "        vertical-align: top;\n",
       "    }\n",
       "\n",
       "    .dataframe thead th {\n",
       "        text-align: right;\n",
       "    }\n",
       "</style>\n",
       "<table border=\"1\" class=\"dataframe\">\n",
       "  <thead>\n",
       "    <tr style=\"text-align: right;\">\n",
       "      <th></th>\n",
       "      <th>id</th>\n",
       "      <th>message_date</th>\n",
       "      <th>user_id</th>\n",
       "    </tr>\n",
       "  </thead>\n",
       "  <tbody>\n",
       "    <tr>\n",
       "      <th>0</th>\n",
       "      <td>1000_0</td>\n",
       "      <td>2018-06-27</td>\n",
       "      <td>1000</td>\n",
       "    </tr>\n",
       "    <tr>\n",
       "      <th>1</th>\n",
       "      <td>1000_1</td>\n",
       "      <td>2018-10-08</td>\n",
       "      <td>1000</td>\n",
       "    </tr>\n",
       "    <tr>\n",
       "      <th>2</th>\n",
       "      <td>1000_2</td>\n",
       "      <td>2018-08-04</td>\n",
       "      <td>1000</td>\n",
       "    </tr>\n",
       "    <tr>\n",
       "      <th>3</th>\n",
       "      <td>1000_3</td>\n",
       "      <td>2018-06-16</td>\n",
       "      <td>1000</td>\n",
       "    </tr>\n",
       "    <tr>\n",
       "      <th>4</th>\n",
       "      <td>1000_4</td>\n",
       "      <td>2018-12-05</td>\n",
       "      <td>1000</td>\n",
       "    </tr>\n",
       "  </tbody>\n",
       "</table>\n",
       "</div>"
      ],
      "text/plain": [
       "       id message_date  user_id\n",
       "0  1000_0   2018-06-27     1000\n",
       "1  1000_1   2018-10-08     1000\n",
       "2  1000_2   2018-08-04     1000\n",
       "3  1000_3   2018-06-16     1000\n",
       "4  1000_4   2018-12-05     1000"
      ]
     },
     "metadata": {},
     "output_type": "display_data"
    },
    {
     "name": "stdout",
     "output_type": "stream",
     "text": [
      "\n",
      "\n",
      "------------- Типы данных ------------\n",
      "<class 'pandas.core.frame.DataFrame'>\n",
      "RangeIndex: 123036 entries, 0 to 123035\n",
      "Data columns (total 3 columns):\n",
      " #   Column        Non-Null Count   Dtype \n",
      "---  ------        --------------   ----- \n",
      " 0   id            123036 non-null  object\n",
      " 1   message_date  123036 non-null  object\n",
      " 2   user_id       123036 non-null  int64 \n",
      "dtypes: int64(1), object(2)\n",
      "memory usage: 2.8+ MB\n",
      "None\n",
      "\n",
      "\n",
      "------------- Пропуски ------------\n",
      "Пропусков НЕТ\n",
      "Пропусков НЕТ\n",
      "Пропусков НЕТ\n",
      "\n",
      "\n",
      "--------------Дубликаты--------------\n",
      "0 дубликатов\n",
      "------------- Первые 5 строк ------------\n"
     ]
    },
    {
     "data": {
      "text/html": [
       "<div>\n",
       "<style scoped>\n",
       "    .dataframe tbody tr th:only-of-type {\n",
       "        vertical-align: middle;\n",
       "    }\n",
       "\n",
       "    .dataframe tbody tr th {\n",
       "        vertical-align: top;\n",
       "    }\n",
       "\n",
       "    .dataframe thead th {\n",
       "        text-align: right;\n",
       "    }\n",
       "</style>\n",
       "<table border=\"1\" class=\"dataframe\">\n",
       "  <thead>\n",
       "    <tr style=\"text-align: right;\">\n",
       "      <th></th>\n",
       "      <th>messages_included</th>\n",
       "      <th>mb_per_month_included</th>\n",
       "      <th>minutes_included</th>\n",
       "      <th>rub_monthly_fee</th>\n",
       "      <th>rub_per_gb</th>\n",
       "      <th>rub_per_message</th>\n",
       "      <th>rub_per_minute</th>\n",
       "      <th>tariff_name</th>\n",
       "    </tr>\n",
       "  </thead>\n",
       "  <tbody>\n",
       "    <tr>\n",
       "      <th>0</th>\n",
       "      <td>50</td>\n",
       "      <td>15360</td>\n",
       "      <td>500</td>\n",
       "      <td>550</td>\n",
       "      <td>200</td>\n",
       "      <td>3</td>\n",
       "      <td>3</td>\n",
       "      <td>smart</td>\n",
       "    </tr>\n",
       "    <tr>\n",
       "      <th>1</th>\n",
       "      <td>1000</td>\n",
       "      <td>30720</td>\n",
       "      <td>3000</td>\n",
       "      <td>1950</td>\n",
       "      <td>150</td>\n",
       "      <td>1</td>\n",
       "      <td>1</td>\n",
       "      <td>ultra</td>\n",
       "    </tr>\n",
       "  </tbody>\n",
       "</table>\n",
       "</div>"
      ],
      "text/plain": [
       "   messages_included  mb_per_month_included  minutes_included  \\\n",
       "0                 50                  15360               500   \n",
       "1               1000                  30720              3000   \n",
       "\n",
       "   rub_monthly_fee  rub_per_gb  rub_per_message  rub_per_minute tariff_name  \n",
       "0              550         200                3               3       smart  \n",
       "1             1950         150                1               1       ultra  "
      ]
     },
     "metadata": {},
     "output_type": "display_data"
    },
    {
     "name": "stdout",
     "output_type": "stream",
     "text": [
      "\n",
      "\n",
      "------------- Типы данных ------------\n",
      "<class 'pandas.core.frame.DataFrame'>\n",
      "RangeIndex: 2 entries, 0 to 1\n",
      "Data columns (total 8 columns):\n",
      " #   Column                 Non-Null Count  Dtype \n",
      "---  ------                 --------------  ----- \n",
      " 0   messages_included      2 non-null      int64 \n",
      " 1   mb_per_month_included  2 non-null      int64 \n",
      " 2   minutes_included       2 non-null      int64 \n",
      " 3   rub_monthly_fee        2 non-null      int64 \n",
      " 4   rub_per_gb             2 non-null      int64 \n",
      " 5   rub_per_message        2 non-null      int64 \n",
      " 6   rub_per_minute         2 non-null      int64 \n",
      " 7   tariff_name            2 non-null      object\n",
      "dtypes: int64(7), object(1)\n",
      "memory usage: 256.0+ bytes\n",
      "None\n",
      "\n",
      "\n",
      "------------- Пропуски ------------\n",
      "Пропусков НЕТ\n",
      "Пропусков НЕТ\n",
      "Пропусков НЕТ\n",
      "Пропусков НЕТ\n",
      "Пропусков НЕТ\n",
      "Пропусков НЕТ\n",
      "Пропусков НЕТ\n",
      "Пропусков НЕТ\n",
      "\n",
      "\n",
      "--------------Дубликаты--------------\n",
      "0 дубликатов\n",
      "------------- Первые 5 строк ------------\n"
     ]
    },
    {
     "data": {
      "text/html": [
       "<div>\n",
       "<style scoped>\n",
       "    .dataframe tbody tr th:only-of-type {\n",
       "        vertical-align: middle;\n",
       "    }\n",
       "\n",
       "    .dataframe tbody tr th {\n",
       "        vertical-align: top;\n",
       "    }\n",
       "\n",
       "    .dataframe thead th {\n",
       "        text-align: right;\n",
       "    }\n",
       "</style>\n",
       "<table border=\"1\" class=\"dataframe\">\n",
       "  <thead>\n",
       "    <tr style=\"text-align: right;\">\n",
       "      <th></th>\n",
       "      <th>user_id</th>\n",
       "      <th>age</th>\n",
       "      <th>churn_date</th>\n",
       "      <th>city</th>\n",
       "      <th>first_name</th>\n",
       "      <th>last_name</th>\n",
       "      <th>reg_date</th>\n",
       "      <th>tariff</th>\n",
       "    </tr>\n",
       "  </thead>\n",
       "  <tbody>\n",
       "    <tr>\n",
       "      <th>0</th>\n",
       "      <td>1000</td>\n",
       "      <td>52</td>\n",
       "      <td>NaN</td>\n",
       "      <td>Краснодар</td>\n",
       "      <td>Рафаил</td>\n",
       "      <td>Верещагин</td>\n",
       "      <td>2018-05-25</td>\n",
       "      <td>ultra</td>\n",
       "    </tr>\n",
       "    <tr>\n",
       "      <th>1</th>\n",
       "      <td>1001</td>\n",
       "      <td>41</td>\n",
       "      <td>NaN</td>\n",
       "      <td>Москва</td>\n",
       "      <td>Иван</td>\n",
       "      <td>Ежов</td>\n",
       "      <td>2018-11-01</td>\n",
       "      <td>smart</td>\n",
       "    </tr>\n",
       "    <tr>\n",
       "      <th>2</th>\n",
       "      <td>1002</td>\n",
       "      <td>59</td>\n",
       "      <td>NaN</td>\n",
       "      <td>Стерлитамак</td>\n",
       "      <td>Евгений</td>\n",
       "      <td>Абрамович</td>\n",
       "      <td>2018-06-17</td>\n",
       "      <td>smart</td>\n",
       "    </tr>\n",
       "    <tr>\n",
       "      <th>3</th>\n",
       "      <td>1003</td>\n",
       "      <td>23</td>\n",
       "      <td>NaN</td>\n",
       "      <td>Москва</td>\n",
       "      <td>Белла</td>\n",
       "      <td>Белякова</td>\n",
       "      <td>2018-08-17</td>\n",
       "      <td>ultra</td>\n",
       "    </tr>\n",
       "    <tr>\n",
       "      <th>4</th>\n",
       "      <td>1004</td>\n",
       "      <td>68</td>\n",
       "      <td>NaN</td>\n",
       "      <td>Новокузнецк</td>\n",
       "      <td>Татьяна</td>\n",
       "      <td>Авдеенко</td>\n",
       "      <td>2018-05-14</td>\n",
       "      <td>ultra</td>\n",
       "    </tr>\n",
       "  </tbody>\n",
       "</table>\n",
       "</div>"
      ],
      "text/plain": [
       "   user_id  age churn_date         city first_name  last_name    reg_date  \\\n",
       "0     1000   52        NaN    Краснодар     Рафаил  Верещагин  2018-05-25   \n",
       "1     1001   41        NaN       Москва       Иван       Ежов  2018-11-01   \n",
       "2     1002   59        NaN  Стерлитамак    Евгений  Абрамович  2018-06-17   \n",
       "3     1003   23        NaN       Москва      Белла   Белякова  2018-08-17   \n",
       "4     1004   68        NaN  Новокузнецк    Татьяна   Авдеенко  2018-05-14   \n",
       "\n",
       "  tariff  \n",
       "0  ultra  \n",
       "1  smart  \n",
       "2  smart  \n",
       "3  ultra  \n",
       "4  ultra  "
      ]
     },
     "metadata": {},
     "output_type": "display_data"
    },
    {
     "name": "stdout",
     "output_type": "stream",
     "text": [
      "\n",
      "\n",
      "------------- Типы данных ------------\n",
      "<class 'pandas.core.frame.DataFrame'>\n",
      "RangeIndex: 500 entries, 0 to 499\n",
      "Data columns (total 8 columns):\n",
      " #   Column      Non-Null Count  Dtype \n",
      "---  ------      --------------  ----- \n",
      " 0   user_id     500 non-null    int64 \n",
      " 1   age         500 non-null    int64 \n",
      " 2   churn_date  38 non-null     object\n",
      " 3   city        500 non-null    object\n",
      " 4   first_name  500 non-null    object\n",
      " 5   last_name   500 non-null    object\n",
      " 6   reg_date    500 non-null    object\n",
      " 7   tariff      500 non-null    object\n",
      "dtypes: int64(2), object(6)\n",
      "memory usage: 31.4+ KB\n",
      "None\n",
      "\n",
      "\n",
      "------------- Пропуски ------------\n",
      "Пропусков НЕТ\n",
      "Пропусков НЕТ\n",
      "churn_date  -  462 пропусков\n",
      "\n",
      "\n",
      "--------------Дубликаты--------------\n",
      "0 дубликатов\n"
     ]
    }
   ],
   "source": [
    "data_list=[calls, internet, messages,tariffs, users]\n",
    "for data in data_list:\n",
    "    first_look(data)"
   ]
  },
  {
   "cell_type": "markdown",
   "metadata": {},
   "source": [
    "Пропуски имеются только в столбце churn_date, но это означает,что тариф ещё действовал на момент выгрузки данных."
   ]
  },
  {
   "cell_type": "code",
   "execution_count": 5,
   "metadata": {},
   "outputs": [],
   "source": [
    "#приведем столбцы, содержащие дату к нужному формату:\n",
    "time_format = '%Y-%m-%d'\n",
    "calls['call_date'] = pd.to_datetime(calls['call_date'], format = time_format)\n",
    "internet['session_date']= pd.to_datetime(internet['session_date'], format = time_format)\n",
    "messages['message_date']= pd.to_datetime(messages['message_date'], format = time_format)\n",
    "users['reg_date'] = pd.to_datetime(users['reg_date'], format = time_format)\n",
    "users['churn_date'] = pd.to_datetime(users['churn_date'], format = time_format)"
   ]
  },
  {
   "cell_type": "code",
   "execution_count": 6,
   "metadata": {},
   "outputs": [],
   "source": [
    "#Unnamed: 0 не несет никакой информации, удаляем его\n",
    "internet = internet.drop(columns = ['Unnamed: 0'])"
   ]
  },
  {
   "cell_type": "markdown",
   "metadata": {},
   "source": [
    "Имеется важное примечание:\n",
    "«Мегалайн» всегда округляет секунды до минут, а мегабайты — до гигабайт. Каждый звонок округляется отдельно: даже если он длился всего 1 секунду, будет засчитан как 1 минута.\n",
    "Для веб-трафика отдельные сессии не считаются. Вместо этого общая сумма за месяц округляется в бо́льшую сторону. Если абонент использует 1025 мегабайт в этом месяце, с него возьмут плату за 2 гигабайта.\n",
    "Округлим данные столбцов, содержащих информацию о продолжительности звонков и объеме интернета, согласно данному примечанию и приведем к формату int"
   ]
  },
  {
   "cell_type": "code",
   "execution_count": 7,
   "metadata": {},
   "outputs": [],
   "source": [
    "calls['duration']=calls['duration'].apply(pd.np.ceil)\n",
    "calls['duration']=calls['duration'].astype('int')\n",
    "internet['mb_used']=internet['mb_used'].apply(pd.np.ceil)\n",
    "internet['mb_used']=internet['mb_used'].astype('int')"
   ]
  },
  {
   "cell_type": "code",
   "execution_count": 8,
   "metadata": {},
   "outputs": [],
   "source": [
    "# построим гистограмму и ящик с усами для числовых столбцов\n",
    "def hist_boxplot(df,column):\n",
    "    df[column].hist()\n",
    "    plt.ylabel('Количество')\n",
    "    plt.xlabel('Длительность')\n",
    "    plt.title('Гистограмма распределения')\n",
    "    plt.show()\n",
    "    df.boxplot(column)\n",
    "    plt.xlabel('Количество')\n",
    "    plt.ylabel('Длительность')\n",
    "    plt.title('Ящик с усами')\n",
    "    plt.show()"
   ]
  },
  {
   "cell_type": "code",
   "execution_count": 9,
   "metadata": {},
   "outputs": [
    {
     "data": {
      "image/png": "[encoded data removed]",
      "text/plain": [
       "<Figure size 432x288 with 1 Axes>"
      ]
     },
     "metadata": {
      "needs_background": "light"
     },
     "output_type": "display_data"
    },
    {
     "data": {
      "image/png": "[encoded data removed]",
      "text/plain": [
       "<Figure size 432x288 with 1 Axes>"
      ]
     },
     "metadata": {
      "needs_background": "light"
     },
     "output_type": "display_data"
    }
   ],
   "source": [
    "hist_boxplot(calls,'duration')"
   ]
  },
  {
   "cell_type": "code",
   "execution_count": 10,
   "metadata": {},
   "outputs": [
    {
     "data": {
      "text/plain": [
       "1041"
      ]
     },
     "metadata": {},
     "output_type": "display_data"
    }
   ],
   "source": [
    "#посмотрим, сколько значений находится за пределами верхнего уса\n",
    "display((calls['duration'] > 24).sum())"
   ]
  },
  {
   "cell_type": "code",
   "execution_count": 11,
   "metadata": {},
   "outputs": [],
   "source": [
    "#вычисляем предел усов\n",
    "def boxplot_quantile(df,column):\n",
    "    q1 = df[column].quantile(0.25)\n",
    "    q3 = df[column].quantile(0.75)\n",
    "    iqr = q3 - q1\n",
    "    mistash_down = q1 - 1.5 * iqr\n",
    "    mistash_up = q3 + 1.5 * iqr\n",
    "    print('Нижний ус = ', mistash_down)\n",
    "    print('Верхний ус = ', mistash_up)\n",
    "    print('Сколько выше верхнего уса - ', (df[column] > mistash_up).sum())\n",
    "    print('Процент значений выше верхнего уса - ', ((df[column] > mistash_up).sum()/ df[column].count()*100),'%')\n",
    "    print('Процент значений ниже нижнего уса - ', ((df[column] > mistash_down).sum()/ df[column].count()*100),'%')"
   ]
  },
  {
   "cell_type": "code",
   "execution_count": 12,
   "metadata": {},
   "outputs": [
    {
     "name": "stdout",
     "output_type": "stream",
     "text": [
      "Нижний ус =  -11.5\n",
      "Верхний ус =  24.5\n",
      "Сколько выше верхнего уса -  1041\n",
      "Процент значений выше верхнего уса -  0.5138025833263411 %\n",
      "Процент значений ниже нижнего уса -  100.0 %\n"
     ]
    }
   ],
   "source": [
    "boxplot_quantile(calls,'duration')"
   ]
  },
  {
   "cell_type": "markdown",
   "metadata": {},
   "source": [
    "Выбросов меньше 1% - оставим так как есть. Аналогично посмотрим распределение для других столбцов."
   ]
  },
  {
   "cell_type": "code",
   "execution_count": 13,
   "metadata": {},
   "outputs": [
    {
     "data": {
      "image/png": "[encoded data removed]",
      "text/plain": [
       "<Figure size 432x288 with 1 Axes>"
      ]
     },
     "metadata": {
      "needs_background": "light"
     },
     "output_type": "display_data"
    },
    {
     "data": {
      "image/png": "[encoded data removed]",
      "text/plain": [
       "<Figure size 432x288 with 1 Axes>"
      ]
     },
     "metadata": {
      "needs_background": "light"
     },
     "output_type": "display_data"
    }
   ],
   "source": [
    "hist_boxplot(internet,'mb_used')"
   ]
  },
  {
   "cell_type": "code",
   "execution_count": 14,
   "metadata": {},
   "outputs": [
    {
     "name": "stdout",
     "output_type": "stream",
     "text": [
      "Нижний ус =  -492.5\n",
      "Верхний ус =  1191.5\n",
      "Сколько выше верхнего уса -  547\n",
      "Процент значений выше верхнего уса -  0.366140994404134 %\n",
      "Процент значений ниже нижнего уса -  100.0 %\n"
     ]
    }
   ],
   "source": [
    "boxplot_quantile(internet,'mb_used')"
   ]
  },
  {
   "cell_type": "markdown",
   "metadata": {},
   "source": [
    "### Вывод: <a id=\"2.1\"></a> "
   ]
  },
  {
   "cell_type": "markdown",
   "metadata": {},
   "source": [
    "Предобработка завершена.Данные приведены к нужному формату, удален ненужный столбец,дубликаты не найдены, пропуски в столбце churn_date допустимы согласно условию, выбросы не удалены,так как они составляют менее 1 % от всех данных, распределение данных, судя по диаграммам, соответствуют распределению Пуассона, что является нормальным."
   ]
  },
  {
   "cell_type": "markdown",
   "metadata": {},
   "source": [
    "## Расчет метрик <a id=\"3\"></a> "
   ]
  },
  {
   "cell_type": "code",
   "execution_count": 15,
   "metadata": {},
   "outputs": [],
   "source": [
    "#количество сделанных звонков и израсходованных минут разговора по месяцам для каждого пользователя\n",
    "calls['month']=calls['call_date'].dt.month"
   ]
  },
  {
   "cell_type": "code",
   "execution_count": 16,
   "metadata": {},
   "outputs": [],
   "source": [
    "calls_month = (\n",
    "    calls.groupby(['user_id','month'])\n",
    "    .agg({'duration':['sum','count']})\n",
    ")"
   ]
  },
  {
   "cell_type": "code",
   "execution_count": 17,
   "metadata": {},
   "outputs": [],
   "source": [
    "calls_month.columns=['sum_duration','count_minutes']"
   ]
  },
  {
   "cell_type": "code",
   "execution_count": 18,
   "metadata": {},
   "outputs": [
    {
     "data": {
      "text/html": [
       "<div>\n",
       "<style scoped>\n",
       "    .dataframe tbody tr th:only-of-type {\n",
       "        vertical-align: middle;\n",
       "    }\n",
       "\n",
       "    .dataframe tbody tr th {\n",
       "        vertical-align: top;\n",
       "    }\n",
       "\n",
       "    .dataframe thead th {\n",
       "        text-align: right;\n",
       "    }\n",
       "</style>\n",
       "<table border=\"1\" class=\"dataframe\">\n",
       "  <thead>\n",
       "    <tr style=\"text-align: right;\">\n",
       "      <th></th>\n",
       "      <th></th>\n",
       "      <th>sum_duration</th>\n",
       "      <th>count_minutes</th>\n",
       "    </tr>\n",
       "    <tr>\n",
       "      <th>user_id</th>\n",
       "      <th>month</th>\n",
       "      <th></th>\n",
       "      <th></th>\n",
       "    </tr>\n",
       "  </thead>\n",
       "  <tbody>\n",
       "    <tr>\n",
       "      <th rowspan=\"5\" valign=\"top\">1000</th>\n",
       "      <th>5</th>\n",
       "      <td>159</td>\n",
       "      <td>22</td>\n",
       "    </tr>\n",
       "    <tr>\n",
       "      <th>6</th>\n",
       "      <td>172</td>\n",
       "      <td>43</td>\n",
       "    </tr>\n",
       "    <tr>\n",
       "      <th>7</th>\n",
       "      <td>340</td>\n",
       "      <td>47</td>\n",
       "    </tr>\n",
       "    <tr>\n",
       "      <th>8</th>\n",
       "      <td>408</td>\n",
       "      <td>52</td>\n",
       "    </tr>\n",
       "    <tr>\n",
       "      <th>9</th>\n",
       "      <td>466</td>\n",
       "      <td>58</td>\n",
       "    </tr>\n",
       "    <tr>\n",
       "      <th>...</th>\n",
       "      <th>...</th>\n",
       "      <td>...</td>\n",
       "      <td>...</td>\n",
       "    </tr>\n",
       "    <tr>\n",
       "      <th>1498</th>\n",
       "      <th>10</th>\n",
       "      <td>247</td>\n",
       "      <td>41</td>\n",
       "    </tr>\n",
       "    <tr>\n",
       "      <th rowspan=\"4\" valign=\"top\">1499</th>\n",
       "      <th>9</th>\n",
       "      <td>70</td>\n",
       "      <td>9</td>\n",
       "    </tr>\n",
       "    <tr>\n",
       "      <th>10</th>\n",
       "      <td>449</td>\n",
       "      <td>68</td>\n",
       "    </tr>\n",
       "    <tr>\n",
       "      <th>11</th>\n",
       "      <td>612</td>\n",
       "      <td>74</td>\n",
       "    </tr>\n",
       "    <tr>\n",
       "      <th>12</th>\n",
       "      <td>492</td>\n",
       "      <td>69</td>\n",
       "    </tr>\n",
       "  </tbody>\n",
       "</table>\n",
       "<p>3174 rows × 2 columns</p>\n",
       "</div>"
      ],
      "text/plain": [
       "               sum_duration  count_minutes\n",
       "user_id month                             \n",
       "1000    5               159             22\n",
       "        6               172             43\n",
       "        7               340             47\n",
       "        8               408             52\n",
       "        9               466             58\n",
       "...                     ...            ...\n",
       "1498    10              247             41\n",
       "1499    9                70              9\n",
       "        10              449             68\n",
       "        11              612             74\n",
       "        12              492             69\n",
       "\n",
       "[3174 rows x 2 columns]"
      ]
     },
     "execution_count": 18,
     "metadata": {},
     "output_type": "execute_result"
    }
   ],
   "source": [
    "calls_month"
   ]
  },
  {
   "cell_type": "code",
   "execution_count": 19,
   "metadata": {},
   "outputs": [],
   "source": [
    "#количество отправленных сообщений по месяцам для каждого пользователя\n",
    "messages['month']=messages['message_date'].dt.month\n",
    "messages_month = (\n",
    "    messages.groupby(['user_id','month'])\n",
    "    .agg({'id':'count'})\n",
    "    .rename(columns={'id':'count_sms'})\n",
    ")"
   ]
  },
  {
   "cell_type": "code",
   "execution_count": 20,
   "metadata": {},
   "outputs": [
    {
     "data": {
      "text/html": [
       "<div>\n",
       "<style scoped>\n",
       "    .dataframe tbody tr th:only-of-type {\n",
       "        vertical-align: middle;\n",
       "    }\n",
       "\n",
       "    .dataframe tbody tr th {\n",
       "        vertical-align: top;\n",
       "    }\n",
       "\n",
       "    .dataframe thead th {\n",
       "        text-align: right;\n",
       "    }\n",
       "</style>\n",
       "<table border=\"1\" class=\"dataframe\">\n",
       "  <thead>\n",
       "    <tr style=\"text-align: right;\">\n",
       "      <th></th>\n",
       "      <th></th>\n",
       "      <th>count_sms</th>\n",
       "    </tr>\n",
       "    <tr>\n",
       "      <th>user_id</th>\n",
       "      <th>month</th>\n",
       "      <th></th>\n",
       "    </tr>\n",
       "  </thead>\n",
       "  <tbody>\n",
       "    <tr>\n",
       "      <th rowspan=\"5\" valign=\"top\">1000</th>\n",
       "      <th>5</th>\n",
       "      <td>22</td>\n",
       "    </tr>\n",
       "    <tr>\n",
       "      <th>6</th>\n",
       "      <td>60</td>\n",
       "    </tr>\n",
       "    <tr>\n",
       "      <th>7</th>\n",
       "      <td>75</td>\n",
       "    </tr>\n",
       "    <tr>\n",
       "      <th>8</th>\n",
       "      <td>81</td>\n",
       "    </tr>\n",
       "    <tr>\n",
       "      <th>9</th>\n",
       "      <td>57</td>\n",
       "    </tr>\n",
       "    <tr>\n",
       "      <th>...</th>\n",
       "      <th>...</th>\n",
       "      <td>...</td>\n",
       "    </tr>\n",
       "    <tr>\n",
       "      <th>1498</th>\n",
       "      <th>10</th>\n",
       "      <td>42</td>\n",
       "    </tr>\n",
       "    <tr>\n",
       "      <th rowspan=\"4\" valign=\"top\">1499</th>\n",
       "      <th>9</th>\n",
       "      <td>11</td>\n",
       "    </tr>\n",
       "    <tr>\n",
       "      <th>10</th>\n",
       "      <td>48</td>\n",
       "    </tr>\n",
       "    <tr>\n",
       "      <th>11</th>\n",
       "      <td>59</td>\n",
       "    </tr>\n",
       "    <tr>\n",
       "      <th>12</th>\n",
       "      <td>66</td>\n",
       "    </tr>\n",
       "  </tbody>\n",
       "</table>\n",
       "<p>2717 rows × 1 columns</p>\n",
       "</div>"
      ],
      "text/plain": [
       "               count_sms\n",
       "user_id month           \n",
       "1000    5             22\n",
       "        6             60\n",
       "        7             75\n",
       "        8             81\n",
       "        9             57\n",
       "...                  ...\n",
       "1498    10            42\n",
       "1499    9             11\n",
       "        10            48\n",
       "        11            59\n",
       "        12            66\n",
       "\n",
       "[2717 rows x 1 columns]"
      ]
     },
     "execution_count": 20,
     "metadata": {},
     "output_type": "execute_result"
    }
   ],
   "source": [
    "messages_month"
   ]
  },
  {
   "cell_type": "code",
   "execution_count": 21,
   "metadata": {},
   "outputs": [],
   "source": [
    "#объем израсходованного интернет-трафика по месяцам по каждому пользователю\n",
    "internet['month']=internet['session_date'].dt.month\n",
    "internet_month = (\n",
    "    internet.groupby(['user_id','month'])\n",
    "    .agg({'mb_used':'sum'})\n",
    ")"
   ]
  },
  {
   "cell_type": "code",
   "execution_count": 22,
   "metadata": {},
   "outputs": [
    {
     "data": {
      "text/html": [
       "<div>\n",
       "<style scoped>\n",
       "    .dataframe tbody tr th:only-of-type {\n",
       "        vertical-align: middle;\n",
       "    }\n",
       "\n",
       "    .dataframe tbody tr th {\n",
       "        vertical-align: top;\n",
       "    }\n",
       "\n",
       "    .dataframe thead th {\n",
       "        text-align: right;\n",
       "    }\n",
       "</style>\n",
       "<table border=\"1\" class=\"dataframe\">\n",
       "  <thead>\n",
       "    <tr style=\"text-align: right;\">\n",
       "      <th></th>\n",
       "      <th></th>\n",
       "      <th>mb_used</th>\n",
       "    </tr>\n",
       "    <tr>\n",
       "      <th>user_id</th>\n",
       "      <th>month</th>\n",
       "      <th></th>\n",
       "    </tr>\n",
       "  </thead>\n",
       "  <tbody>\n",
       "    <tr>\n",
       "      <th rowspan=\"5\" valign=\"top\">1000</th>\n",
       "      <th>5</th>\n",
       "      <td>2256</td>\n",
       "    </tr>\n",
       "    <tr>\n",
       "      <th>6</th>\n",
       "      <td>23257</td>\n",
       "    </tr>\n",
       "    <tr>\n",
       "      <th>7</th>\n",
       "      <td>14016</td>\n",
       "    </tr>\n",
       "    <tr>\n",
       "      <th>8</th>\n",
       "      <td>14070</td>\n",
       "    </tr>\n",
       "    <tr>\n",
       "      <th>9</th>\n",
       "      <td>14581</td>\n",
       "    </tr>\n",
       "    <tr>\n",
       "      <th>...</th>\n",
       "      <th>...</th>\n",
       "      <td>...</td>\n",
       "    </tr>\n",
       "    <tr>\n",
       "      <th>1498</th>\n",
       "      <th>10</th>\n",
       "      <td>20604</td>\n",
       "    </tr>\n",
       "    <tr>\n",
       "      <th rowspan=\"4\" valign=\"top\">1499</th>\n",
       "      <th>9</th>\n",
       "      <td>1848</td>\n",
       "    </tr>\n",
       "    <tr>\n",
       "      <th>10</th>\n",
       "      <td>17809</td>\n",
       "    </tr>\n",
       "    <tr>\n",
       "      <th>11</th>\n",
       "      <td>17984</td>\n",
       "    </tr>\n",
       "    <tr>\n",
       "      <th>12</th>\n",
       "      <td>13077</td>\n",
       "    </tr>\n",
       "  </tbody>\n",
       "</table>\n",
       "<p>3203 rows × 1 columns</p>\n",
       "</div>"
      ],
      "text/plain": [
       "               mb_used\n",
       "user_id month         \n",
       "1000    5         2256\n",
       "        6        23257\n",
       "        7        14016\n",
       "        8        14070\n",
       "        9        14581\n",
       "...                ...\n",
       "1498    10       20604\n",
       "1499    9         1848\n",
       "        10       17809\n",
       "        11       17984\n",
       "        12       13077\n",
       "\n",
       "[3203 rows x 1 columns]"
      ]
     },
     "execution_count": 22,
     "metadata": {},
     "output_type": "execute_result"
    }
   ],
   "source": [
    "internet_month"
   ]
  },
  {
   "cell_type": "code",
   "execution_count": 23,
   "metadata": {},
   "outputs": [
    {
     "data": {
      "text/html": [
       "<div>\n",
       "<style scoped>\n",
       "    .dataframe tbody tr th:only-of-type {\n",
       "        vertical-align: middle;\n",
       "    }\n",
       "\n",
       "    .dataframe tbody tr th {\n",
       "        vertical-align: top;\n",
       "    }\n",
       "\n",
       "    .dataframe thead th {\n",
       "        text-align: right;\n",
       "    }\n",
       "</style>\n",
       "<table border=\"1\" class=\"dataframe\">\n",
       "  <thead>\n",
       "    <tr style=\"text-align: right;\">\n",
       "      <th></th>\n",
       "      <th>user_id</th>\n",
       "      <th>city</th>\n",
       "      <th>tariff</th>\n",
       "    </tr>\n",
       "  </thead>\n",
       "  <tbody>\n",
       "    <tr>\n",
       "      <th>0</th>\n",
       "      <td>1000</td>\n",
       "      <td>Краснодар</td>\n",
       "      <td>ultra</td>\n",
       "    </tr>\n",
       "    <tr>\n",
       "      <th>1</th>\n",
       "      <td>1001</td>\n",
       "      <td>Москва</td>\n",
       "      <td>smart</td>\n",
       "    </tr>\n",
       "    <tr>\n",
       "      <th>2</th>\n",
       "      <td>1002</td>\n",
       "      <td>Стерлитамак</td>\n",
       "      <td>smart</td>\n",
       "    </tr>\n",
       "    <tr>\n",
       "      <th>3</th>\n",
       "      <td>1003</td>\n",
       "      <td>Москва</td>\n",
       "      <td>ultra</td>\n",
       "    </tr>\n",
       "    <tr>\n",
       "      <th>4</th>\n",
       "      <td>1004</td>\n",
       "      <td>Новокузнецк</td>\n",
       "      <td>ultra</td>\n",
       "    </tr>\n",
       "    <tr>\n",
       "      <th>...</th>\n",
       "      <td>...</td>\n",
       "      <td>...</td>\n",
       "      <td>...</td>\n",
       "    </tr>\n",
       "    <tr>\n",
       "      <th>495</th>\n",
       "      <td>1495</td>\n",
       "      <td>Иркутск</td>\n",
       "      <td>ultra</td>\n",
       "    </tr>\n",
       "    <tr>\n",
       "      <th>496</th>\n",
       "      <td>1496</td>\n",
       "      <td>Вологда</td>\n",
       "      <td>smart</td>\n",
       "    </tr>\n",
       "    <tr>\n",
       "      <th>497</th>\n",
       "      <td>1497</td>\n",
       "      <td>Челябинск</td>\n",
       "      <td>smart</td>\n",
       "    </tr>\n",
       "    <tr>\n",
       "      <th>498</th>\n",
       "      <td>1498</td>\n",
       "      <td>Владикавказ</td>\n",
       "      <td>smart</td>\n",
       "    </tr>\n",
       "    <tr>\n",
       "      <th>499</th>\n",
       "      <td>1499</td>\n",
       "      <td>Пермь</td>\n",
       "      <td>smart</td>\n",
       "    </tr>\n",
       "  </tbody>\n",
       "</table>\n",
       "<p>500 rows × 3 columns</p>\n",
       "</div>"
      ],
      "text/plain": [
       "     user_id         city tariff\n",
       "0       1000    Краснодар  ultra\n",
       "1       1001       Москва  smart\n",
       "2       1002  Стерлитамак  smart\n",
       "3       1003       Москва  ultra\n",
       "4       1004  Новокузнецк  ultra\n",
       "..       ...          ...    ...\n",
       "495     1495      Иркутск  ultra\n",
       "496     1496      Вологда  smart\n",
       "497     1497    Челябинск  smart\n",
       "498     1498  Владикавказ  smart\n",
       "499     1499        Пермь  smart\n",
       "\n",
       "[500 rows x 3 columns]"
      ]
     },
     "metadata": {},
     "output_type": "display_data"
    }
   ],
   "source": [
    "#помесячную выручку с каждого пользователя \n",
    "#формируем таблицу только с нужными столбцами\n",
    "user_tarif_city = users.loc[:,['user_id', 'city', 'tariff' ]]\n",
    "display(user_tarif_city)"
   ]
  },
  {
   "cell_type": "code",
   "execution_count": 24,
   "metadata": {},
   "outputs": [],
   "source": [
    "#Формируем общую сводную таблицу \n",
    "df = calls_month.join(messages_month, on=['user_id', 'month'], how='outer')\n"
   ]
  },
  {
   "cell_type": "code",
   "execution_count": 25,
   "metadata": {},
   "outputs": [
    {
     "data": {
      "text/html": [
       "<div>\n",
       "<style scoped>\n",
       "    .dataframe tbody tr th:only-of-type {\n",
       "        vertical-align: middle;\n",
       "    }\n",
       "\n",
       "    .dataframe tbody tr th {\n",
       "        vertical-align: top;\n",
       "    }\n",
       "\n",
       "    .dataframe thead th {\n",
       "        text-align: right;\n",
       "    }\n",
       "</style>\n",
       "<table border=\"1\" class=\"dataframe\">\n",
       "  <thead>\n",
       "    <tr style=\"text-align: right;\">\n",
       "      <th></th>\n",
       "      <th></th>\n",
       "      <th>sum_duration</th>\n",
       "      <th>count_minutes</th>\n",
       "      <th>count_sms</th>\n",
       "    </tr>\n",
       "    <tr>\n",
       "      <th>user_id</th>\n",
       "      <th>month</th>\n",
       "      <th></th>\n",
       "      <th></th>\n",
       "      <th></th>\n",
       "    </tr>\n",
       "  </thead>\n",
       "  <tbody>\n",
       "    <tr>\n",
       "      <th rowspan=\"5\" valign=\"top\">1000</th>\n",
       "      <th>5</th>\n",
       "      <td>159.0</td>\n",
       "      <td>22.0</td>\n",
       "      <td>22.0</td>\n",
       "    </tr>\n",
       "    <tr>\n",
       "      <th>6</th>\n",
       "      <td>172.0</td>\n",
       "      <td>43.0</td>\n",
       "      <td>60.0</td>\n",
       "    </tr>\n",
       "    <tr>\n",
       "      <th>7</th>\n",
       "      <td>340.0</td>\n",
       "      <td>47.0</td>\n",
       "      <td>75.0</td>\n",
       "    </tr>\n",
       "    <tr>\n",
       "      <th>8</th>\n",
       "      <td>408.0</td>\n",
       "      <td>52.0</td>\n",
       "      <td>81.0</td>\n",
       "    </tr>\n",
       "    <tr>\n",
       "      <th>9</th>\n",
       "      <td>466.0</td>\n",
       "      <td>58.0</td>\n",
       "      <td>57.0</td>\n",
       "    </tr>\n",
       "    <tr>\n",
       "      <th>...</th>\n",
       "      <th>...</th>\n",
       "      <td>...</td>\n",
       "      <td>...</td>\n",
       "      <td>...</td>\n",
       "    </tr>\n",
       "    <tr>\n",
       "      <th rowspan=\"5\" valign=\"top\">1489</th>\n",
       "      <th>8</th>\n",
       "      <td>NaN</td>\n",
       "      <td>NaN</td>\n",
       "      <td>17.0</td>\n",
       "    </tr>\n",
       "    <tr>\n",
       "      <th>9</th>\n",
       "      <td>NaN</td>\n",
       "      <td>NaN</td>\n",
       "      <td>32.0</td>\n",
       "    </tr>\n",
       "    <tr>\n",
       "      <th>10</th>\n",
       "      <td>NaN</td>\n",
       "      <td>NaN</td>\n",
       "      <td>21.0</td>\n",
       "    </tr>\n",
       "    <tr>\n",
       "      <th>11</th>\n",
       "      <td>NaN</td>\n",
       "      <td>NaN</td>\n",
       "      <td>20.0</td>\n",
       "    </tr>\n",
       "    <tr>\n",
       "      <th>12</th>\n",
       "      <td>NaN</td>\n",
       "      <td>NaN</td>\n",
       "      <td>35.0</td>\n",
       "    </tr>\n",
       "  </tbody>\n",
       "</table>\n",
       "<p>3213 rows × 3 columns</p>\n",
       "</div>"
      ],
      "text/plain": [
       "               sum_duration  count_minutes  count_sms\n",
       "user_id month                                        \n",
       "1000    5             159.0           22.0       22.0\n",
       "        6             172.0           43.0       60.0\n",
       "        7             340.0           47.0       75.0\n",
       "        8             408.0           52.0       81.0\n",
       "        9             466.0           58.0       57.0\n",
       "...                     ...            ...        ...\n",
       "1489    8               NaN            NaN       17.0\n",
       "        9               NaN            NaN       32.0\n",
       "        10              NaN            NaN       21.0\n",
       "        11              NaN            NaN       20.0\n",
       "        12              NaN            NaN       35.0\n",
       "\n",
       "[3213 rows x 3 columns]"
      ]
     },
     "execution_count": 25,
     "metadata": {},
     "output_type": "execute_result"
    }
   ],
   "source": [
    "df"
   ]
  },
  {
   "cell_type": "code",
   "execution_count": 26,
   "metadata": {},
   "outputs": [],
   "source": [
    "df = df.join(internet_month, on=['user_id', 'month'], how='outer')\n"
   ]
  },
  {
   "cell_type": "code",
   "execution_count": 27,
   "metadata": {},
   "outputs": [
    {
     "name": "stdout",
     "output_type": "stream",
     "text": [
      "------------- Первые 5 строк ------------\n"
     ]
    },
    {
     "data": {
      "text/html": [
       "<div>\n",
       "<style scoped>\n",
       "    .dataframe tbody tr th:only-of-type {\n",
       "        vertical-align: middle;\n",
       "    }\n",
       "\n",
       "    .dataframe tbody tr th {\n",
       "        vertical-align: top;\n",
       "    }\n",
       "\n",
       "    .dataframe thead th {\n",
       "        text-align: right;\n",
       "    }\n",
       "</style>\n",
       "<table border=\"1\" class=\"dataframe\">\n",
       "  <thead>\n",
       "    <tr style=\"text-align: right;\">\n",
       "      <th></th>\n",
       "      <th></th>\n",
       "      <th>sum_duration</th>\n",
       "      <th>count_minutes</th>\n",
       "      <th>count_sms</th>\n",
       "      <th>mb_used</th>\n",
       "    </tr>\n",
       "    <tr>\n",
       "      <th>user_id</th>\n",
       "      <th>month</th>\n",
       "      <th></th>\n",
       "      <th></th>\n",
       "      <th></th>\n",
       "      <th></th>\n",
       "    </tr>\n",
       "  </thead>\n",
       "  <tbody>\n",
       "    <tr>\n",
       "      <th rowspan=\"5\" valign=\"top\">1000</th>\n",
       "      <th>5</th>\n",
       "      <td>159.0</td>\n",
       "      <td>22.0</td>\n",
       "      <td>22.0</td>\n",
       "      <td>2256.0</td>\n",
       "    </tr>\n",
       "    <tr>\n",
       "      <th>6</th>\n",
       "      <td>172.0</td>\n",
       "      <td>43.0</td>\n",
       "      <td>60.0</td>\n",
       "      <td>23257.0</td>\n",
       "    </tr>\n",
       "    <tr>\n",
       "      <th>7</th>\n",
       "      <td>340.0</td>\n",
       "      <td>47.0</td>\n",
       "      <td>75.0</td>\n",
       "      <td>14016.0</td>\n",
       "    </tr>\n",
       "    <tr>\n",
       "      <th>8</th>\n",
       "      <td>408.0</td>\n",
       "      <td>52.0</td>\n",
       "      <td>81.0</td>\n",
       "      <td>14070.0</td>\n",
       "    </tr>\n",
       "    <tr>\n",
       "      <th>9</th>\n",
       "      <td>466.0</td>\n",
       "      <td>58.0</td>\n",
       "      <td>57.0</td>\n",
       "      <td>14581.0</td>\n",
       "    </tr>\n",
       "  </tbody>\n",
       "</table>\n",
       "</div>"
      ],
      "text/plain": [
       "               sum_duration  count_minutes  count_sms  mb_used\n",
       "user_id month                                                 \n",
       "1000    5             159.0           22.0       22.0   2256.0\n",
       "        6             172.0           43.0       60.0  23257.0\n",
       "        7             340.0           47.0       75.0  14016.0\n",
       "        8             408.0           52.0       81.0  14070.0\n",
       "        9             466.0           58.0       57.0  14581.0"
      ]
     },
     "metadata": {},
     "output_type": "display_data"
    },
    {
     "name": "stdout",
     "output_type": "stream",
     "text": [
      "\n",
      "\n",
      "------------- Типы данных ------------\n",
      "<class 'pandas.core.frame.DataFrame'>\n",
      "MultiIndex: 3214 entries, (1000, 5) to (1476, 4)\n",
      "Data columns (total 4 columns):\n",
      " #   Column         Non-Null Count  Dtype  \n",
      "---  ------         --------------  -----  \n",
      " 0   sum_duration   3174 non-null   float64\n",
      " 1   count_minutes  3174 non-null   float64\n",
      " 2   count_sms      2717 non-null   float64\n",
      " 3   mb_used        3203 non-null   float64\n",
      "dtypes: float64(4)\n",
      "memory usage: 130.4 KB\n",
      "None\n",
      "\n",
      "\n",
      "------------- Пропуски ------------\n",
      "sum_duration  -  40 пропусков\n",
      "count_minutes  -  40 пропусков\n",
      "count_sms  -  497 пропусков\n",
      "mb_used  -  11 пропусков\n",
      "\n",
      "\n",
      "--------------Дубликаты--------------\n",
      "0 дубликатов\n"
     ]
    }
   ],
   "source": [
    "first_look(df)"
   ]
  },
  {
   "cell_type": "markdown",
   "metadata": {},
   "source": [
    "Обнаружены пропуски в столбцах количество смс (497),продолжительность звонков (40), колшичество минут (40) и объем потраченного интернета (11). Скорее всего эти клиенты просто не пользуются данными услугами оператора, поэтому можем заменить нулями."
   ]
  },
  {
   "cell_type": "code",
   "execution_count": 28,
   "metadata": {},
   "outputs": [],
   "source": [
    "df['count_sms']=df['count_sms'].fillna(0)\n",
    "df['sum_duration']=df['sum_duration'].fillna(0)\n",
    "df['mb_used']=df['mb_used'].fillna(0)\n",
    "df['count_minutes']=df['count_minutes'].fillna(0)"
   ]
  },
  {
   "cell_type": "code",
   "execution_count": 29,
   "metadata": {},
   "outputs": [],
   "source": [
    "#присоединяем таблицу user_tarif_city к df\n",
    "df_total = df.reset_index().merge(user_tarif_city, on=['user_id'], how='left')"
   ]
  },
  {
   "cell_type": "code",
   "execution_count": 30,
   "metadata": {},
   "outputs": [],
   "source": [
    "# осталось присоединить таблицу tariffs к df_total по столбцу названия тарифа\n",
    "tariffs = tariffs.rename(columns={\"tariff_name\": \"tariff\"})"
   ]
  },
  {
   "cell_type": "code",
   "execution_count": 31,
   "metadata": {},
   "outputs": [],
   "source": [
    "df_total = df_total.reset_index().merge(tariffs, on=['tariff'], how='left')"
   ]
  },
  {
   "cell_type": "code",
   "execution_count": 32,
   "metadata": {},
   "outputs": [
    {
     "name": "stdout",
     "output_type": "stream",
     "text": [
      "<class 'pandas.core.frame.DataFrame'>\n",
      "Int64Index: 3214 entries, 0 to 3213\n",
      "Data columns (total 16 columns):\n",
      " #   Column                 Non-Null Count  Dtype  \n",
      "---  ------                 --------------  -----  \n",
      " 0   index                  3214 non-null   int64  \n",
      " 1   user_id                3214 non-null   int64  \n",
      " 2   month                  3214 non-null   int64  \n",
      " 3   sum_duration           3214 non-null   float64\n",
      " 4   count_minutes          3214 non-null   float64\n",
      " 5   count_sms              3214 non-null   float64\n",
      " 6   mb_used                3214 non-null   float64\n",
      " 7   city                   3214 non-null   object \n",
      " 8   tariff                 3214 non-null   object \n",
      " 9   messages_included      3214 non-null   int64  \n",
      " 10  mb_per_month_included  3214 non-null   int64  \n",
      " 11  minutes_included       3214 non-null   int64  \n",
      " 12  rub_monthly_fee        3214 non-null   int64  \n",
      " 13  rub_per_gb             3214 non-null   int64  \n",
      " 14  rub_per_message        3214 non-null   int64  \n",
      " 15  rub_per_minute         3214 non-null   int64  \n",
      "dtypes: float64(4), int64(10), object(2)\n",
      "memory usage: 426.9+ KB\n"
     ]
    }
   ],
   "source": [
    "df_total.info()"
   ]
  },
  {
   "cell_type": "code",
   "execution_count": 33,
   "metadata": {},
   "outputs": [],
   "source": [
    "df_total['mb_used']=df_total['mb_used']/1024 #переведем значение столбца в гигабайты\n",
    "df_total['mb_per_month_included']=df_total['mb_per_month_included']/1024 #аналогично с этим столбцом\n",
    "df_total = df_total.rename(columns={'mb_used': 'gb_used','mb_per_month_included':'gb_per_month_included'})"
   ]
  },
  {
   "cell_type": "code",
   "execution_count": 34,
   "metadata": {},
   "outputs": [],
   "source": [
    "# округляем в большую сторону gb_used\n",
    "df_total['gb_used']=df_total['gb_used'].apply(pd.np.ceil)\n",
    "df_total['gb_used']=df_total['gb_used'].astype('int')"
   ]
  },
  {
   "cell_type": "code",
   "execution_count": 35,
   "metadata": {},
   "outputs": [
    {
     "data": {
      "text/html": [
       "<div>\n",
       "<style scoped>\n",
       "    .dataframe tbody tr th:only-of-type {\n",
       "        vertical-align: middle;\n",
       "    }\n",
       "\n",
       "    .dataframe tbody tr th {\n",
       "        vertical-align: top;\n",
       "    }\n",
       "\n",
       "    .dataframe thead th {\n",
       "        text-align: right;\n",
       "    }\n",
       "</style>\n",
       "<table border=\"1\" class=\"dataframe\">\n",
       "  <thead>\n",
       "    <tr style=\"text-align: right;\">\n",
       "      <th></th>\n",
       "      <th>index</th>\n",
       "      <th>user_id</th>\n",
       "      <th>month</th>\n",
       "      <th>sum_duration</th>\n",
       "      <th>count_minutes</th>\n",
       "      <th>count_sms</th>\n",
       "      <th>gb_used</th>\n",
       "      <th>city</th>\n",
       "      <th>tariff</th>\n",
       "      <th>messages_included</th>\n",
       "      <th>gb_per_month_included</th>\n",
       "      <th>minutes_included</th>\n",
       "      <th>rub_monthly_fee</th>\n",
       "      <th>rub_per_gb</th>\n",
       "      <th>rub_per_message</th>\n",
       "      <th>rub_per_minute</th>\n",
       "    </tr>\n",
       "  </thead>\n",
       "  <tbody>\n",
       "    <tr>\n",
       "      <th>0</th>\n",
       "      <td>0</td>\n",
       "      <td>1000</td>\n",
       "      <td>5</td>\n",
       "      <td>159.0</td>\n",
       "      <td>22.0</td>\n",
       "      <td>22.0</td>\n",
       "      <td>3</td>\n",
       "      <td>Краснодар</td>\n",
       "      <td>ultra</td>\n",
       "      <td>1000</td>\n",
       "      <td>30.0</td>\n",
       "      <td>3000</td>\n",
       "      <td>1950</td>\n",
       "      <td>150</td>\n",
       "      <td>1</td>\n",
       "      <td>1</td>\n",
       "    </tr>\n",
       "    <tr>\n",
       "      <th>1</th>\n",
       "      <td>1</td>\n",
       "      <td>1000</td>\n",
       "      <td>6</td>\n",
       "      <td>172.0</td>\n",
       "      <td>43.0</td>\n",
       "      <td>60.0</td>\n",
       "      <td>23</td>\n",
       "      <td>Краснодар</td>\n",
       "      <td>ultra</td>\n",
       "      <td>1000</td>\n",
       "      <td>30.0</td>\n",
       "      <td>3000</td>\n",
       "      <td>1950</td>\n",
       "      <td>150</td>\n",
       "      <td>1</td>\n",
       "      <td>1</td>\n",
       "    </tr>\n",
       "    <tr>\n",
       "      <th>2</th>\n",
       "      <td>2</td>\n",
       "      <td>1000</td>\n",
       "      <td>7</td>\n",
       "      <td>340.0</td>\n",
       "      <td>47.0</td>\n",
       "      <td>75.0</td>\n",
       "      <td>14</td>\n",
       "      <td>Краснодар</td>\n",
       "      <td>ultra</td>\n",
       "      <td>1000</td>\n",
       "      <td>30.0</td>\n",
       "      <td>3000</td>\n",
       "      <td>1950</td>\n",
       "      <td>150</td>\n",
       "      <td>1</td>\n",
       "      <td>1</td>\n",
       "    </tr>\n",
       "    <tr>\n",
       "      <th>3</th>\n",
       "      <td>3</td>\n",
       "      <td>1000</td>\n",
       "      <td>8</td>\n",
       "      <td>408.0</td>\n",
       "      <td>52.0</td>\n",
       "      <td>81.0</td>\n",
       "      <td>14</td>\n",
       "      <td>Краснодар</td>\n",
       "      <td>ultra</td>\n",
       "      <td>1000</td>\n",
       "      <td>30.0</td>\n",
       "      <td>3000</td>\n",
       "      <td>1950</td>\n",
       "      <td>150</td>\n",
       "      <td>1</td>\n",
       "      <td>1</td>\n",
       "    </tr>\n",
       "    <tr>\n",
       "      <th>4</th>\n",
       "      <td>4</td>\n",
       "      <td>1000</td>\n",
       "      <td>9</td>\n",
       "      <td>466.0</td>\n",
       "      <td>58.0</td>\n",
       "      <td>57.0</td>\n",
       "      <td>15</td>\n",
       "      <td>Краснодар</td>\n",
       "      <td>ultra</td>\n",
       "      <td>1000</td>\n",
       "      <td>30.0</td>\n",
       "      <td>3000</td>\n",
       "      <td>1950</td>\n",
       "      <td>150</td>\n",
       "      <td>1</td>\n",
       "      <td>1</td>\n",
       "    </tr>\n",
       "  </tbody>\n",
       "</table>\n",
       "</div>"
      ],
      "text/plain": [
       "   index  user_id  month  sum_duration  count_minutes  count_sms  gb_used  \\\n",
       "0      0     1000      5         159.0           22.0       22.0        3   \n",
       "1      1     1000      6         172.0           43.0       60.0       23   \n",
       "2      2     1000      7         340.0           47.0       75.0       14   \n",
       "3      3     1000      8         408.0           52.0       81.0       14   \n",
       "4      4     1000      9         466.0           58.0       57.0       15   \n",
       "\n",
       "        city tariff  messages_included  gb_per_month_included  \\\n",
       "0  Краснодар  ultra               1000                   30.0   \n",
       "1  Краснодар  ultra               1000                   30.0   \n",
       "2  Краснодар  ultra               1000                   30.0   \n",
       "3  Краснодар  ultra               1000                   30.0   \n",
       "4  Краснодар  ultra               1000                   30.0   \n",
       "\n",
       "   minutes_included  rub_monthly_fee  rub_per_gb  rub_per_message  \\\n",
       "0              3000             1950         150                1   \n",
       "1              3000             1950         150                1   \n",
       "2              3000             1950         150                1   \n",
       "3              3000             1950         150                1   \n",
       "4              3000             1950         150                1   \n",
       "\n",
       "   rub_per_minute  \n",
       "0               1  \n",
       "1               1  \n",
       "2               1  \n",
       "3               1  \n",
       "4               1  "
      ]
     },
     "execution_count": 35,
     "metadata": {},
     "output_type": "execute_result"
    }
   ],
   "source": [
    "df_total.head()"
   ]
  },
  {
   "cell_type": "code",
   "execution_count": 36,
   "metadata": {},
   "outputs": [],
   "source": [
    "#посчитаем сколько пользователь в месяц тратит за минуты сверх-лимита\n",
    "df_total['minutes_paid'] = (df_total['sum_duration'] - df_total['minutes_included']) * df_total['rub_per_minute']\n",
    "#Меняем в столбце df_total['minutes_paid'] отрицательные значения на нулевые\n",
    "df_total.loc[df_total['minutes_paid'] < 0, 'minutes_paid'] = 0"
   ]
  },
  {
   "cell_type": "code",
   "execution_count": 37,
   "metadata": {},
   "outputs": [],
   "source": [
    "# аналогично посчитаем сколько пользователь в месяц тратит на интернет сверх-лимита\n",
    "df_total['internet_paid'] = (df_total['gb_used'] - df_total['gb_per_month_included']) * df_total['rub_per_gb']\n",
    "df_total.loc[df_total['internet_paid'] < 0, 'internet_paid'] = 0"
   ]
  },
  {
   "cell_type": "code",
   "execution_count": 38,
   "metadata": {},
   "outputs": [],
   "source": [
    "# расчет трат пользователей за СМС сверх тарифа\n",
    "df_total['message_paid'] = (df_total['count_sms'] - df_total['messages_included']) * df_total['rub_per_message']\n",
    "df_total.loc[df_total['message_paid'] < 0, 'message_paid'] = 0"
   ]
  },
  {
   "cell_type": "code",
   "execution_count": 39,
   "metadata": {},
   "outputs": [],
   "source": [
    "#рассчитаем общую выручку\n",
    "df_total['total_bill'] = (\n",
    "    df_total['minutes_paid'] + \n",
    "    df_total['internet_paid'] + \n",
    "    df_total['message_paid'] + \n",
    "    df_total['rub_monthly_fee']\n",
    ")"
   ]
  },
  {
   "cell_type": "markdown",
   "metadata": {},
   "source": [
    "### Вывод: <a id=\"3.1\"></a> "
   ]
  },
  {
   "cell_type": "markdown",
   "metadata": {},
   "source": [
    "Все необходимые метрики посчитаны - перейдем к анализу данных."
   ]
  },
  {
   "cell_type": "markdown",
   "metadata": {},
   "source": [
    "##  Анализ данных <a id=\"4\"></a> "
   ]
  },
  {
   "cell_type": "markdown",
   "metadata": {},
   "source": [
    "Сколько минут разговора, сколько сообщений и какой объём интернет-трафика требуется пользователям каждого тарифа в месяц?"
   ]
  },
  {
   "cell_type": "code",
   "execution_count": 40,
   "metadata": {},
   "outputs": [],
   "source": [
    "#посчитаем минуты\n",
    "df_total_call_month_sum = df_total.groupby(['user_id','month',\"tariff\"]).agg({'sum_duration':'sum'})"
   ]
  },
  {
   "cell_type": "code",
   "execution_count": 41,
   "metadata": {},
   "outputs": [
    {
     "data": {
      "text/html": [
       "<div>\n",
       "<style scoped>\n",
       "    .dataframe tbody tr th:only-of-type {\n",
       "        vertical-align: middle;\n",
       "    }\n",
       "\n",
       "    .dataframe tbody tr th {\n",
       "        vertical-align: top;\n",
       "    }\n",
       "\n",
       "    .dataframe thead th {\n",
       "        text-align: right;\n",
       "    }\n",
       "</style>\n",
       "<table border=\"1\" class=\"dataframe\">\n",
       "  <thead>\n",
       "    <tr style=\"text-align: right;\">\n",
       "      <th></th>\n",
       "      <th></th>\n",
       "      <th></th>\n",
       "      <th>sum_duration</th>\n",
       "    </tr>\n",
       "    <tr>\n",
       "      <th>user_id</th>\n",
       "      <th>month</th>\n",
       "      <th>tariff</th>\n",
       "      <th></th>\n",
       "    </tr>\n",
       "  </thead>\n",
       "  <tbody>\n",
       "    <tr>\n",
       "      <th rowspan=\"5\" valign=\"top\">1000</th>\n",
       "      <th>5</th>\n",
       "      <th>ultra</th>\n",
       "      <td>159.0</td>\n",
       "    </tr>\n",
       "    <tr>\n",
       "      <th>6</th>\n",
       "      <th>ultra</th>\n",
       "      <td>172.0</td>\n",
       "    </tr>\n",
       "    <tr>\n",
       "      <th>7</th>\n",
       "      <th>ultra</th>\n",
       "      <td>340.0</td>\n",
       "    </tr>\n",
       "    <tr>\n",
       "      <th>8</th>\n",
       "      <th>ultra</th>\n",
       "      <td>408.0</td>\n",
       "    </tr>\n",
       "    <tr>\n",
       "      <th>9</th>\n",
       "      <th>ultra</th>\n",
       "      <td>466.0</td>\n",
       "    </tr>\n",
       "  </tbody>\n",
       "</table>\n",
       "</div>"
      ],
      "text/plain": [
       "                      sum_duration\n",
       "user_id month tariff              \n",
       "1000    5     ultra          159.0\n",
       "        6     ultra          172.0\n",
       "        7     ultra          340.0\n",
       "        8     ultra          408.0\n",
       "        9     ultra          466.0"
      ]
     },
     "execution_count": 41,
     "metadata": {},
     "output_type": "execute_result"
    }
   ],
   "source": [
    "df_total_call_month_sum.head()"
   ]
  },
  {
   "cell_type": "code",
   "execution_count": 42,
   "metadata": {},
   "outputs": [
    {
     "data": {
      "image/png": "[encoded data removed]",
      "text/plain": [
       "<Figure size 432x288 with 1 Axes>"
      ]
     },
     "metadata": {
      "needs_background": "light"
     },
     "output_type": "display_data"
    }
   ],
   "source": [
    "# строим гистограмму\n",
    "smart_call_sum = df_total_call_month_sum.query(\"tariff == 'smart'\")\n",
    "ultra_call_sum = df_total_call_month_sum.query(\"tariff == 'ultra'\")\n",
    "\n",
    "smart_call_sum['sum_duration'].plot(kind='hist', alpha=1, grid=True)\n",
    "ultra_call_sum['sum_duration'].plot(kind='hist', alpha=0.7, grid=True)\n",
    "plt.xlabel('Количество')\n",
    "plt.ylabel('Длительность')\n",
    "plt.title('Сумма звонков в разбивке по тарифам')\n",
    "plt.legend(['Смарт','Ультра'])\n",
    "plt.show()"
   ]
  },
  {
   "cell_type": "markdown",
   "metadata": {},
   "source": [
    "В среднем по тарифу Ультра используется 650 минут в месяц, по тарифу Смарт - 500 минут."
   ]
  },
  {
   "cell_type": "code",
   "execution_count": 43,
   "metadata": {},
   "outputs": [],
   "source": [
    "#аналогично по смс\n",
    "df_total_mess_month_sum = df_total.groupby(['user_id', 'month','tariff']).agg({'count_sms':'sum'})"
   ]
  },
  {
   "cell_type": "code",
   "execution_count": 44,
   "metadata": {},
   "outputs": [
    {
     "data": {
      "image/png": "[encoded data removed]",
      "text/plain": [
       "<Figure size 432x288 with 1 Axes>"
      ]
     },
     "metadata": {
      "needs_background": "light"
     },
     "output_type": "display_data"
    }
   ],
   "source": [
    "smart_mess = df_total_mess_month_sum.query(\"tariff == 'smart'\")\n",
    "ultra_mess = df_total_mess_month_sum.query(\"tariff == 'ultra'\")\n",
    "\n",
    "smart_mess['count_sms'].plot(kind='hist', alpha=1)\n",
    "ultra_mess['count_sms'].plot(kind='hist', alpha=0.7)\n",
    "plt.xlabel('Количество СМС')\n",
    "plt.ylabel('Количество клиентов')\n",
    "plt.title('Количество смс в разбивке по тарифам')\n",
    "plt.legend(['Смарт','Ультра'])\n",
    "plt.show()"
   ]
  },
  {
   "cell_type": "markdown",
   "metadata": {},
   "source": [
    "Большинство пользователей тарифа Смарт отправляют ежемесячно не более 20 смс, тарифа Ультра - не более 50 смс.\n"
   ]
  },
  {
   "cell_type": "code",
   "execution_count": 45,
   "metadata": {},
   "outputs": [],
   "source": [
    "#сумма интернет-трафика\n",
    "df_total_inter_month_sum = df_total.groupby(['user_id','month','tariff']).agg({'gb_used':'sum'})"
   ]
  },
  {
   "cell_type": "code",
   "execution_count": 46,
   "metadata": {},
   "outputs": [
    {
     "data": {
      "image/png": "[encoded data removed]",
      "text/plain": [
       "<Figure size 432x288 with 1 Axes>"
      ]
     },
     "metadata": {
      "needs_background": "light"
     },
     "output_type": "display_data"
    }
   ],
   "source": [
    "smart_inter = df_total_inter_month_sum.query(\"tariff == 'smart'\")\n",
    "ultra_inter = df_total_inter_month_sum.query(\"tariff == 'ultra'\")\n",
    "\n",
    "smart_inter['gb_used'].plot(kind='hist', alpha=1)\n",
    "ultra_inter['gb_used'].plot(kind='hist', alpha=0.7)\n",
    "plt.xlabel('Обьем')\n",
    "plt.ylabel('Количество')\n",
    "plt.title('Объем трафика в разбивке по тарифам')\n",
    "plt.legend(['Смарт','Ультра'])\n",
    "plt.show()"
   ]
  },
  {
   "cell_type": "markdown",
   "metadata": {},
   "source": [
    "В среднем, пользователи тарифа Смарт тратят ежемесячно от 12 до 22 ГБ интернета, пользователи тарифа Ультра - от 15 и до 30 ГБ."
   ]
  },
  {
   "cell_type": "code",
   "execution_count": 47,
   "metadata": {},
   "outputs": [],
   "source": [
    "# Посчитаем среднее количество, дисперсию и стандартное отклонение\n",
    "total_var_std = df_total.groupby(['tariff']).agg({'sum_duration':['mean','median','var', 'std'], 'count_sms':['mean','median','var', 'std'], 'gb_used':['mean','median','var', 'std']}).reset_index()"
   ]
  },
  {
   "cell_type": "code",
   "execution_count": 48,
   "metadata": {},
   "outputs": [
    {
     "data": {
      "text/html": [
       "<div>\n",
       "<style scoped>\n",
       "    .dataframe tbody tr th:only-of-type {\n",
       "        vertical-align: middle;\n",
       "    }\n",
       "\n",
       "    .dataframe tbody tr th {\n",
       "        vertical-align: top;\n",
       "    }\n",
       "\n",
       "    .dataframe thead tr th {\n",
       "        text-align: left;\n",
       "    }\n",
       "</style>\n",
       "<table border=\"1\" class=\"dataframe\">\n",
       "  <thead>\n",
       "    <tr>\n",
       "      <th></th>\n",
       "      <th>tariff</th>\n",
       "      <th colspan=\"4\" halign=\"left\">sum_duration</th>\n",
       "      <th colspan=\"4\" halign=\"left\">count_sms</th>\n",
       "      <th colspan=\"4\" halign=\"left\">gb_used</th>\n",
       "    </tr>\n",
       "    <tr>\n",
       "      <th></th>\n",
       "      <th></th>\n",
       "      <th>mean</th>\n",
       "      <th>median</th>\n",
       "      <th>var</th>\n",
       "      <th>std</th>\n",
       "      <th>mean</th>\n",
       "      <th>median</th>\n",
       "      <th>var</th>\n",
       "      <th>std</th>\n",
       "      <th>mean</th>\n",
       "      <th>median</th>\n",
       "      <th>var</th>\n",
       "      <th>std</th>\n",
       "    </tr>\n",
       "  </thead>\n",
       "  <tbody>\n",
       "    <tr>\n",
       "      <th>0</th>\n",
       "      <td>smart</td>\n",
       "      <td>417.934948</td>\n",
       "      <td>422.0</td>\n",
       "      <td>36219.315784</td>\n",
       "      <td>190.313730</td>\n",
       "      <td>33.384029</td>\n",
       "      <td>28.0</td>\n",
       "      <td>796.812958</td>\n",
       "      <td>28.227876</td>\n",
       "      <td>16.359354</td>\n",
       "      <td>17</td>\n",
       "      <td>33.160304</td>\n",
       "      <td>5.758498</td>\n",
       "    </tr>\n",
       "    <tr>\n",
       "      <th>1</th>\n",
       "      <td>ultra</td>\n",
       "      <td>526.623350</td>\n",
       "      <td>518.0</td>\n",
       "      <td>100873.633397</td>\n",
       "      <td>317.606098</td>\n",
       "      <td>49.363452</td>\n",
       "      <td>38.0</td>\n",
       "      <td>2285.266143</td>\n",
       "      <td>47.804457</td>\n",
       "      <td>19.525888</td>\n",
       "      <td>19</td>\n",
       "      <td>97.334949</td>\n",
       "      <td>9.865848</td>\n",
       "    </tr>\n",
       "  </tbody>\n",
       "</table>\n",
       "</div>"
      ],
      "text/plain": [
       "  tariff sum_duration                                    count_sms         \\\n",
       "                 mean median            var         std       mean median   \n",
       "0  smart   417.934948  422.0   36219.315784  190.313730  33.384029   28.0   \n",
       "1  ultra   526.623350  518.0  100873.633397  317.606098  49.363452   38.0   \n",
       "\n",
       "                             gb_used                              \n",
       "           var        std       mean median        var       std  \n",
       "0   796.812958  28.227876  16.359354     17  33.160304  5.758498  \n",
       "1  2285.266143  47.804457  19.525888     19  97.334949  9.865848  "
      ]
     },
     "metadata": {},
     "output_type": "display_data"
    }
   ],
   "source": [
    "display(total_var_std)"
   ]
  },
  {
   "cell_type": "code",
   "execution_count": 49,
   "metadata": {},
   "outputs": [
    {
     "data": {
      "image/png": "[encoded data removed]",
      "text/plain": [
       "<Figure size 864x504 with 1 Axes>"
      ]
     },
     "metadata": {
      "needs_background": "light"
     },
     "output_type": "display_data"
    }
   ],
   "source": [
    "#посчитаем общую выручку помесячно\n",
    "call_month_bill = df_total.groupby(['month','tariff']).agg({'total_bill':'sum'}).reset_index()\n",
    "smart_bill_sum = call_month_bill.query(\"tariff == 'smart'\")\n",
    "ultra_bill_sum = call_month_bill.query(\"tariff == 'ultra'\")\n",
    "\n",
    "plt.figure(figsize=(12, 7))\n",
    "plt.plot(smart_bill_sum ['month'], smart_bill_sum ['total_bill'],label='смарт')\n",
    "plt.plot(ultra_bill_sum ['month'], ultra_bill_sum ['total_bill'],label='ультра')\n",
    "plt.title('Объем выручки по месяцам по каждому из тарифов', fontsize=17, color='blue')\n",
    "plt.xlabel('месяц',fontsize=12, color='red')\n",
    "plt.ylabel('Объем выручки,у.е.',fontsize=12, color='red')\n",
    "plt.grid(True)\n",
    "plt.legend()\n",
    "plt.show()\n"
   ]
  },
  {
   "cell_type": "code",
   "execution_count": 50,
   "metadata": {},
   "outputs": [
    {
     "data": {
      "image/png": "[encoded data removed]",
      "text/plain": [
       "<Figure size 1080x432 with 1 Axes>"
      ]
     },
     "metadata": {
      "needs_background": "light"
     },
     "output_type": "display_data"
    }
   ],
   "source": [
    "# Динамика подключивщихся пользователей по месяцам\n",
    "df_total.pivot_table(\n",
    "    index='month', \n",
    "    values='user_id', \n",
    "    columns='tariff', \n",
    "    aggfunc='count').plot(alpha=0.7, grid=True, figsize=(15, 6), title ='Кол-во новых пользователей по тарифам')\n",
    "plt.show()\n"
   ]
  },
  {
   "cell_type": "code",
   "execution_count": 51,
   "metadata": {},
   "outputs": [],
   "source": [
    "#Считаем доход с каждого клиента помесячно для каждого из тарифов\n",
    "dinamic_total_bill=df_total.pivot_table(index='month', values='total_bill', columns='tariff', aggfunc=sum)\n",
    "dinamic_user_id = df_total.pivot_table(index='month', values='user_id', columns='tariff', aggfunc='count')\n",
    "dinamic_total = dinamic_total_bill.reset_index().merge(dinamic_user_id, on=['month'], how='left')\n",
    "\"\"\"склеиваем таблицы с общей выручкой по месяцам с количеством подключившихся пользователей\"\"\"\n",
    "\n",
    "\"\"\"Делим общую выручку на количество пользователей помесячно узнаем сколько в месяц принес один пользователь с разных тарифов\"\"\"\n",
    "dinamic_total['profit_smart_user'] = dinamic_total['smart_x']/dinamic_total['smart_y']\n",
    "dinamic_total['profit_ultra_user'] = dinamic_total['ultra_x']/dinamic_total['ultra_y']\n",
    "dinamic_total = dinamic_total.rename(columns={'smart_x':'profit_smart_month','ultra_x':'profit_ultra_month','smart_y':'sum_user_smart', 'ultra_y': 'sum_user_ultra'})"
   ]
  },
  {
   "cell_type": "code",
   "execution_count": 52,
   "metadata": {},
   "outputs": [
    {
     "data": {
      "text/html": [
       "<div>\n",
       "<style scoped>\n",
       "    .dataframe tbody tr th:only-of-type {\n",
       "        vertical-align: middle;\n",
       "    }\n",
       "\n",
       "    .dataframe tbody tr th {\n",
       "        vertical-align: top;\n",
       "    }\n",
       "\n",
       "    .dataframe thead th {\n",
       "        text-align: right;\n",
       "    }\n",
       "</style>\n",
       "<table border=\"1\" class=\"dataframe\">\n",
       "  <thead>\n",
       "    <tr style=\"text-align: right;\">\n",
       "      <th>tariff</th>\n",
       "      <th>month</th>\n",
       "      <th>profit_smart_month</th>\n",
       "      <th>profit_ultra_month</th>\n",
       "      <th>sum_user_smart</th>\n",
       "      <th>sum_user_ultra</th>\n",
       "      <th>profit_smart_user</th>\n",
       "      <th>profit_ultra_user</th>\n",
       "    </tr>\n",
       "  </thead>\n",
       "  <tbody>\n",
       "    <tr>\n",
       "      <th>0</th>\n",
       "      <td>1</td>\n",
       "      <td>24525.0</td>\n",
       "      <td>17550.0</td>\n",
       "      <td>34</td>\n",
       "      <td>9</td>\n",
       "      <td>721.323529</td>\n",
       "      <td>1950.000000</td>\n",
       "    </tr>\n",
       "    <tr>\n",
       "      <th>1</th>\n",
       "      <td>2</td>\n",
       "      <td>48001.0</td>\n",
       "      <td>47400.0</td>\n",
       "      <td>58</td>\n",
       "      <td>24</td>\n",
       "      <td>827.603448</td>\n",
       "      <td>1975.000000</td>\n",
       "    </tr>\n",
       "    <tr>\n",
       "      <th>2</th>\n",
       "      <td>3</td>\n",
       "      <td>89676.0</td>\n",
       "      <td>74550.0</td>\n",
       "      <td>77</td>\n",
       "      <td>37</td>\n",
       "      <td>1164.623377</td>\n",
       "      <td>2014.864865</td>\n",
       "    </tr>\n",
       "    <tr>\n",
       "      <th>3</th>\n",
       "      <td>4</td>\n",
       "      <td>107866.0</td>\n",
       "      <td>110100.0</td>\n",
       "      <td>112</td>\n",
       "      <td>55</td>\n",
       "      <td>963.089286</td>\n",
       "      <td>2001.818182</td>\n",
       "    </tr>\n",
       "    <tr>\n",
       "      <th>4</th>\n",
       "      <td>5</td>\n",
       "      <td>169849.0</td>\n",
       "      <td>138150.0</td>\n",
       "      <td>141</td>\n",
       "      <td>67</td>\n",
       "      <td>1204.602837</td>\n",
       "      <td>2061.940299</td>\n",
       "    </tr>\n",
       "  </tbody>\n",
       "</table>\n",
       "</div>"
      ],
      "text/plain": [
       "tariff  month  profit_smart_month  profit_ultra_month  sum_user_smart  \\\n",
       "0           1             24525.0             17550.0              34   \n",
       "1           2             48001.0             47400.0              58   \n",
       "2           3             89676.0             74550.0              77   \n",
       "3           4            107866.0            110100.0             112   \n",
       "4           5            169849.0            138150.0             141   \n",
       "\n",
       "tariff  sum_user_ultra  profit_smart_user  profit_ultra_user  \n",
       "0                    9         721.323529        1950.000000  \n",
       "1                   24         827.603448        1975.000000  \n",
       "2                   37        1164.623377        2014.864865  \n",
       "3                   55         963.089286        2001.818182  \n",
       "4                   67        1204.602837        2061.940299  "
      ]
     },
     "execution_count": 52,
     "metadata": {},
     "output_type": "execute_result"
    }
   ],
   "source": [
    "dinamic_total.head()"
   ]
  },
  {
   "cell_type": "code",
   "execution_count": 53,
   "metadata": {},
   "outputs": [
    {
     "name": "stdout",
     "output_type": "stream",
     "text": [
      "Выручка за год с тарифа Смарт -  2885751 руб. \n",
      "Выручка за год с тарифа Ультра - 2040000 руб. \n",
      "________________________________________________________________\n",
      "\n",
      "Средняя выручка за год с тарифа Смарт -  240479 руб. \n",
      "Средняя выручка за год с тарифа Ультра - 170000 руб. \n",
      "________________________________________________________________\n",
      "\n",
      "Выручка за год с одного абонента тарифа Смарт -  14203 руб. \n",
      "Выручка за год с одного абонента тарифа Ультра - 24573 руб. \n",
      "________________________________________________________________\n",
      "\n",
      "Средняя выручка за год с одного абонента тарифа Смарт -  1184 руб. \n",
      "Средняя выручка за год с одного абонента тарифа Ультра - 2048 руб. \n"
     ]
    }
   ],
   "source": [
    "print('Выручка за год с тарифа Смарт -  {:.0f} руб. '.format(dinamic_total['profit_smart_month'].sum()))\n",
    "print('Выручка за год с тарифа Ультра - {:.0f} руб. '.format(dinamic_total['profit_ultra_month'].sum()))\n",
    "print('________________________________________________________________')\n",
    "print()\n",
    "print('Средняя выручка за год с тарифа Смарт -  {:.0f} руб. '.format(dinamic_total['profit_smart_month'].mean()))\n",
    "print('Средняя выручка за год с тарифа Ультра - {:.0f} руб. '.format(dinamic_total['profit_ultra_month'].mean()))\n",
    "print('________________________________________________________________')\n",
    "print()\n",
    "print('Выручка за год с одного абонента тарифа Смарт -  {:.0f} руб. '.format(dinamic_total['profit_smart_user'].sum()))\n",
    "print('Выручка за год с одного абонента тарифа Ультра - {:.0f} руб. '.format(dinamic_total['profit_ultra_user'].sum()))\n",
    "print('________________________________________________________________')\n",
    "print()\n",
    "print('Средняя выручка за год с одного абонента тарифа Смарт -  {:.0f} руб. '.format(dinamic_total['profit_smart_user'].mean()))\n",
    "print('Средняя выручка за год с одного абонента тарифа Ультра - {:.0f} руб. '.format(dinamic_total['profit_ultra_user'].mean()))"
   ]
  },
  {
   "cell_type": "markdown",
   "metadata": {},
   "source": [
    "### Вывод: <a id=\"4.1\"></a>"
   ]
  },
  {
   "cell_type": "markdown",
   "metadata": {},
   "source": [
    "Исходя из средних значений и медиан можно сделать следующие выводы:    \n",
    "\n",
    "В среднем по тарифу Ультра используется 650 минут в месяц,что почти на 30% больше, чем по тарифу Смарт - 500 минут.\n",
    "Большинство пользователей тарифа Смарт отправляют ежемесячно не более 20 смс, тарифа Ультра - не более 50 смс (почти в 2,5 раза больше). По объему интернет-трафика в тарифе Смарт используется  от 12 до 22 ГБ интернета ежемесячно, в тарифе Ультра - от 15 и до 30 ГБ.\n",
    "Средние и медианы отличаются не очень сильно , что говорит об отсутствии большого количества выбросов\n",
    "По стандартному отклонению мы видим большое отклонение от среднего во всех наших выборках, что возможно говорит об ежемесячном приросте клиентской базы.  \n",
    "\n",
    "По диаграммам можно сделать выводы:\n",
    "\n",
    "- Звонки:  \n",
    "\n",
    "Наиболее распостранена длительность на тарифе \"Смарт\" 450-500 минут разговоров в месяц и в случае тарифа \"Ультра\" наибольшая длительность очень растянута и достигает от 250 - 800 минут достигая небольшого пика в 650 мин. На тарифе \"Ультра клиенты раговаривают дольше чем на \"Смарте\".  \n",
    "\n",
    "- СМС:  \n",
    "\n",
    "В основном клиенты отправляют не очень большшое количество смс для обоих тарифов это до 50 в месяц\n",
    "На тарифе \"Ультра\" есть небоьшое количество клиентов отправляющие более 150 смс.  \n",
    "\n",
    "- Потребляемый интеренет траффик:  \n",
    "\n",
    "Максимальное количество потребляемого трафика на тарифе \"Ультра\" гораздо выше.  \n",
    "\n",
    "По графику прироста абонентов мы видим как компания в течении года наращивала базу абонентов. Прирост клиентов на тарифе смарт больше, скорее всего из-за более доступной цены. \n",
    "Не смотря на то, что стоимость тарифа Ультра выше, общая выручка с него меньше за счет меньшего количества абонентов. Абонент тарифа Ультра ежемесячно и всего в год приносит выручки больше чем абонент тарифа Смарт. Годовая выручка с одного абонента тарифа Ультра почти в 2 раза больше чем с абонента тарифа Смарт."
   ]
  },
  {
   "cell_type": "markdown",
   "metadata": {},
   "source": [
    "## Проверка гипотез <a id=\"5\"></a>"
   ]
  },
  {
   "cell_type": "markdown",
   "metadata": {},
   "source": [
    "Проверяем гипотезу, что средняя выручка пользователей тарифов «Ультра» и «Смарт» различается. Формируем нулевую и альтернативную гипотезу.Так как нулевая гипотеза всегда содержит знак равенства, то сформулируем ее следующим образом: Средняя выручка пользователей тарифов «Ультра» и «Смарт» равны. Исходя из нулевой гипотезы, альтернативная гипотеза будет звучать так: Средняя выручка пользователей тарифов «Ультра» и «Смарт» различается. Критический уровень статистической значимости alpha = .05. "
   ]
  },
  {
   "cell_type": "markdown",
   "metadata": {},
   "source": [
    "Н0: Средняя выручка пользователей тарифов «Ультра» и «Смарт» равны.  \n",
    "\n",
    "Н1: Средняя выручка пользователей тарифов «Ультра» и «Смарт» различается."
   ]
  },
  {
   "cell_type": "code",
   "execution_count": 54,
   "metadata": {},
   "outputs": [
    {
     "data": {
      "text/plain": [
       "2071.0659898477156"
      ]
     },
     "metadata": {},
     "output_type": "display_data"
    }
   ],
   "source": [
    "#Выделяем из общей таблицы среднюю выручку пользователей тарифа Ультра\n",
    "df_gipoteza_mean_bill_ultra = df_total[df_total['tariff'] == 'ultra']\n",
    "\n",
    "df_gipoteza_mean_bill_ultra = df_gipoteza_mean_bill_ultra['total_bill']\n",
    "display(df_gipoteza_mean_bill_ultra.mean())"
   ]
  },
  {
   "cell_type": "code",
   "execution_count": 55,
   "metadata": {},
   "outputs": [
    {
     "data": {
      "text/plain": [
       "1294.6393001345896"
      ]
     },
     "metadata": {},
     "output_type": "display_data"
    }
   ],
   "source": [
    "#Выделяем из общей таблицы среднюю выручку пользователей тарифа Смарт\n",
    "df_gipoteza_mean_bill_smart = df_total[df_total['tariff'] == 'smart']\n",
    "df_gipoteza_mean_bill_smart = df_gipoteza_mean_bill_smart['total_bill']\n",
    "display(df_gipoteza_mean_bill_smart.mean())"
   ]
  },
  {
   "cell_type": "code",
   "execution_count": 56,
   "metadata": {},
   "outputs": [],
   "source": [
    "#interested_value = 1295 # предполагаемое среднее \n",
    "    \n",
    "#results = st.ttest_1samp(\n",
    "#    df_gipoteza_mean_bill_ultra, \n",
    "#    interested_value)\n",
    "    \n",
    "#print('p-значение: ', results.pvalue)\n",
    "    \n",
    "#if (results.pvalue < alpha):\n",
    "#    print(\"Отвергаем нулевую гипотезу\")\n",
    "#else:\n",
    "#    print(\"Не получилось отвергнуть нулевую гипотезу\")"
   ]
  },
  {
   "cell_type": "code",
   "execution_count": 57,
   "metadata": {},
   "outputs": [
    {
     "name": "stdout",
     "output_type": "stream",
     "text": [
      "p-значение: 2.9776448000521676e-158\n",
      "Отвергаем нулевую гипотезу\n"
     ]
    }
   ],
   "source": [
    "#Используем Гипотезу о равенстве средних двух генеральных совокупностей\n",
    "\n",
    "alpha = .05 # критический уровень статистической значимости\n",
    "            # если p-value окажется меньше него - отвергнем гипотезу\n",
    "\n",
    "results = st.ttest_ind(\n",
    "    df_gipoteza_mean_bill_ultra, \n",
    "    df_gipoteza_mean_bill_smart)\n",
    "\n",
    "print('p-значение:', results.pvalue)\n",
    "\n",
    "if (results.pvalue < alpha):\n",
    "    print(\"Отвергаем нулевую гипотезу\")\n",
    "else:\n",
    "    print(\"Не получилось отвергнуть нулевую гипотезу\")"
   ]
  },
  {
   "cell_type": "markdown",
   "metadata": {},
   "source": [
    "Проверим двухстороннюю гипотезу о том, что средняя выручка пользователей тарифов «Ультра» и «Смарт» различается. Воспользуемся выборкой из 100 элементов."
   ]
  },
  {
   "cell_type": "code",
   "execution_count": 58,
   "metadata": {},
   "outputs": [],
   "source": [
    "df_gipoteza_mean_bill_smart_100 = df_gipoteza_mean_bill_smart[1 : 101]\n",
    "df_gipoteza_mean_bill_ultra_100 = df_gipoteza_mean_bill_ultra[75:176]"
   ]
  },
  {
   "cell_type": "code",
   "execution_count": 59,
   "metadata": {},
   "outputs": [
    {
     "name": "stdout",
     "output_type": "stream",
     "text": [
      "p-значение: 3.3784489632863777e-15\n",
      "Отвергаем нулевую гипотезу\n"
     ]
    }
   ],
   "source": [
    "alpha = .05 # критический уровень статистической значимости\n",
    "            # если p-value окажется меньше него - отвергнем гипотезу\n",
    "\n",
    "results = st.ttest_ind(\n",
    "    df_gipoteza_mean_bill_ultra_100, \n",
    "    df_gipoteza_mean_bill_smart_100)\n",
    "\n",
    "print('p-значение:', results.pvalue)\n",
    "\n",
    "if (results.pvalue < alpha):\n",
    "    print(\"Отвергаем нулевую гипотезу\")\n",
    "else:\n",
    "    print(\"Не получилось отвергнуть нулевую гипотезу\")"
   ]
  },
  {
   "cell_type": "markdown",
   "metadata": {},
   "source": [
    "По второй гипотезе о том, что средняя выручка пользователей из Москвы отличается от средней выручки пользователей из регионов, аналогично сформулируем нулевую и альтернативную гипотезу.  \n",
    "\n",
    "Н0:Средняя выручка пользователей из Москвы равна от выручки пользователей из других регионов.  \n",
    "\n",
    "Н1:Средняя выручка пользователей из Москвы отличается от выручки пользователей из других регионов."
   ]
  },
  {
   "cell_type": "code",
   "execution_count": 60,
   "metadata": {},
   "outputs": [],
   "source": [
    "#формируем таблицы жителей из Москвы и из регионов\n",
    "df_gipoteza_city_msk = df_total[df_total['city'] == 'Москва']\n",
    "df_gipoteza_city_msk = df_gipoteza_city_msk['total_bill']\n",
    "\n",
    "df_gipoteza_city_not_msk = df_total[df_total['city'] != 'Москва']\n",
    "df_gipoteza_city_not_msk = df_gipoteza_city_not_msk['total_bill']"
   ]
  },
  {
   "cell_type": "code",
   "execution_count": 61,
   "metadata": {},
   "outputs": [
    {
     "name": "stdout",
     "output_type": "stream",
     "text": [
      "p-значение: 0.531666503831252\n",
      "Не получилось отвергнуть нулевую гипотезу\n"
     ]
    }
   ],
   "source": [
    "alpha = .05 # критический уровень статистической значимости\n",
    "            # если p-value окажется меньше него - отвергнем гипотезу\n",
    "\n",
    "results = st.ttest_ind(\n",
    "    df_gipoteza_city_msk, \n",
    "    df_gipoteza_city_not_msk)\n",
    "\n",
    "print('p-значение:', results.pvalue)\n",
    "\n",
    "if (results.pvalue < alpha):\n",
    "    print(\"Отвергаем нулевую гипотезу\")\n",
    "else:\n",
    "    print(\"Не получилось отвергнуть нулевую гипотезу\")"
   ]
  },
  {
   "cell_type": "markdown",
   "metadata": {},
   "source": [
    "Гипотеза возможно имеет место быть подтвержденной."
   ]
  },
  {
   "cell_type": "markdown",
   "metadata": {},
   "source": [
    "##  ОБЩИЙ ВЫВОД <a id=\"6\"></a>"
   ]
  },
  {
   "cell_type": "markdown",
   "metadata": {},
   "source": [
    "В среднем по тарифу Ультра используется 650 минут в месяц,что почти на 30% больше, чем по тарифу Смарт - 500 минут.\n",
    "Большинство пользователей тарифа Смарт отправляют ежемесячно не более 20 смс, тарифа Ультра - не более 50 смс (почти в 2,5 раза больше). По объему интернет-трафика в тарифе Смарт используется  от 12 до 22 ГБ интернета ежемесячно, в тарифе Ультра - от 15 и до 30 ГБ.  \n",
    "\n",
    "Наиболее распостранена длительность на тарифе \"Смарт\" 450-500 минут разговоров в месяц и в случае тарифа \"Ультра\" наибольшая длительность очень растянута и достигает от 250 - 800 минут достигая небольшого пика в 650 мин. На тарифе \"Ультра клиенты раговаривают дольше чем на \"Смарте\".  \n",
    "\n",
    "В основном клиенты отправляют не очень большшое количество смс для обоих тарифов это до 50 в месяц\n",
    "На тарифе \"Ультра\" есть небоьшое количество клиентов отправляющие более 150 смс.  \n",
    "\n",
    "Максимальное количество потребляемого трафика на тарифе \"Ультра\" гораздо выше.  \n",
    "\n",
    "По графику прироста абонентов мы видим как компания в течении года наращивала базу абонентов. Прирост клиентов на тарифе смарт больше, скорее всего из-за более доступной цены. \n",
    "Не смотря на то, что стоимость тарифа Ультра выше, общая выручка с него меньше за счет меньшего количества абонентов. Абонент тарифа Ультра ежемесячно и всего в год приносит выручки больше чем абонент тарифа Смарт. Годовая выручка с одного абонента тарифа Ультра почти в 2 раза больше чем с абонента тарифа Смарт.  \n",
    "\n",
    "При проверке гипотез получились следующие результаты:  \n",
    "Гипотеза о том, что средняя выручка пользователей тарифов «Ультра» и «Смарт» различается - подтвердилась.  \n",
    "Гипотеза о том, что средняя выручка пользователей из Москвы отличается от выручки пользователей из других регионов - не подтвердилась.\n",
    "Оба тарифа приносят прибыль, в расчете на одного клиента прибыль тарифа Ультра выше, но валовую выручку больше приносит тариф смарт.\n",
    "\n",
    "\n"
   ]
  },
  {
   "cell_type": "markdown",
   "metadata": {},
   "source": [
    "### Рекомендации <a id=\"6.1\"></a>"
   ]
  },
  {
   "cell_type": "markdown",
   "metadata": {},
   "source": [
    "- Тарифы, исходя из разницы количества пользователей, используют абоненты разных целевых аудиторий, например с разным уровнем дохода. Не целесообразно закрывать ни один из тарифов.  \n",
    "- Судя по расходуемому объему интернет-трафика, в целях привлечения новых клиентов, возможно необходимо увеличения пакетного трафика до 20 и 35 ГБ в тарифах Смарт и Ультра, соответственно.  \n",
    "- Судя по велечине средней выручки в Москве и регионах, рекомендуется углубить экспансию в регионы, которые в среднем приносят сравнимую с Москвой прибыль.  \n",
    "- Вероятно излишнее количество пакетных минут и СМС на тарифе Ультра необходимо уменьшить, так как данное уменьшение не принесет вреда текущим пользователям."
   ]
  },
  {
   "cell_type": "code",
   "execution_count": null,
   "metadata": {},
   "outputs": [],
   "source": []
  }
 ],
 "metadata": {
  "ExecuteTimeLog": [
   {
    "duration": 635,
    "start_time": "2022-01-26T10:04:35.875Z"
   },
   {
    "duration": 151,
    "start_time": "2022-01-26T10:05:27.546Z"
   },
   {
    "duration": 15,
    "start_time": "2022-01-26T10:05:38.166Z"
   },
   {
    "duration": 1452,
    "start_time": "2022-01-26T12:55:52.605Z"
   },
   {
    "duration": 400,
    "start_time": "2022-01-26T12:55:55.325Z"
   },
   {
    "duration": 4,
    "start_time": "2022-01-26T12:56:36.736Z"
   },
   {
    "duration": 5367,
    "start_time": "2022-01-26T12:56:38.026Z"
   },
   {
    "duration": 274,
    "start_time": "2022-01-26T12:56:59.514Z"
   },
   {
    "duration": 349,
    "start_time": "2022-01-26T12:57:25.332Z"
   },
   {
    "duration": 90,
    "start_time": "2022-01-26T12:59:23.310Z"
   },
   {
    "duration": 364,
    "start_time": "2022-01-26T12:59:31.813Z"
   },
   {
    "duration": 325,
    "start_time": "2022-01-26T13:00:06.150Z"
   },
   {
    "duration": 2009,
    "start_time": "2022-01-27T13:34:53.053Z"
   },
   {
    "duration": 8,
    "start_time": "2022-01-27T13:34:55.065Z"
   },
   {
    "duration": 1044,
    "start_time": "2022-01-27T13:34:55.076Z"
   },
   {
    "duration": 452,
    "start_time": "2022-01-27T13:34:56.123Z"
   },
   {
    "duration": 39,
    "start_time": "2022-01-27T13:44:29.628Z"
   },
   {
    "duration": 58,
    "start_time": "2022-01-27T13:48:08.723Z"
   },
   {
    "duration": 412,
    "start_time": "2022-01-27T13:48:23.564Z"
   },
   {
    "duration": 557,
    "start_time": "2022-01-27T13:57:14.896Z"
   },
   {
    "duration": 6,
    "start_time": "2022-01-27T13:59:37.076Z"
   },
   {
    "duration": 407,
    "start_time": "2022-01-27T13:59:42.397Z"
   },
   {
    "duration": 396,
    "start_time": "2022-01-27T14:05:22.864Z"
   },
   {
    "duration": 5,
    "start_time": "2022-01-27T14:06:40.650Z"
   },
   {
    "duration": 414,
    "start_time": "2022-01-27T14:06:45.433Z"
   },
   {
    "duration": 20,
    "start_time": "2022-01-27T14:07:00.342Z"
   },
   {
    "duration": 113,
    "start_time": "2022-01-27T14:12:04.916Z"
   },
   {
    "duration": 20,
    "start_time": "2022-01-27T14:12:13.733Z"
   },
   {
    "duration": 16,
    "start_time": "2022-01-27T14:12:27.047Z"
   },
   {
    "duration": 131,
    "start_time": "2022-01-27T14:13:01.345Z"
   },
   {
    "duration": 13,
    "start_time": "2022-01-27T14:13:02.343Z"
   },
   {
    "duration": 1945,
    "start_time": "2022-01-27T14:13:12.425Z"
   },
   {
    "duration": 7,
    "start_time": "2022-01-27T14:13:14.373Z"
   },
   {
    "duration": 1012,
    "start_time": "2022-01-27T14:13:14.384Z"
   },
   {
    "duration": 466,
    "start_time": "2022-01-27T14:13:15.398Z"
   },
   {
    "duration": 109,
    "start_time": "2022-01-27T14:13:15.867Z"
   },
   {
    "duration": 136,
    "start_time": "2022-01-27T14:13:15.978Z"
   },
   {
    "duration": 13,
    "start_time": "2022-01-27T14:13:16.117Z"
   },
   {
    "duration": 2177,
    "start_time": "2022-01-27T14:13:33.260Z"
   },
   {
    "duration": 8,
    "start_time": "2022-01-27T14:13:35.440Z"
   },
   {
    "duration": 911,
    "start_time": "2022-01-27T14:13:35.452Z"
   },
   {
    "duration": 429,
    "start_time": "2022-01-27T14:13:36.365Z"
   },
   {
    "duration": 113,
    "start_time": "2022-01-27T14:13:36.797Z"
   },
   {
    "duration": 5,
    "start_time": "2022-01-27T14:15:53.144Z"
   },
   {
    "duration": 17,
    "start_time": "2022-01-27T14:16:00.871Z"
   },
   {
    "duration": 20,
    "start_time": "2022-01-27T14:16:17.506Z"
   },
   {
    "duration": 1895,
    "start_time": "2022-01-27T14:17:07.575Z"
   },
   {
    "duration": 6,
    "start_time": "2022-01-27T14:17:09.473Z"
   },
   {
    "duration": 880,
    "start_time": "2022-01-27T14:17:09.483Z"
   },
   {
    "duration": 446,
    "start_time": "2022-01-27T14:17:10.366Z"
   },
   {
    "duration": 111,
    "start_time": "2022-01-27T14:17:10.814Z"
   },
   {
    "duration": 20,
    "start_time": "2022-01-27T14:17:10.928Z"
   },
   {
    "duration": 20,
    "start_time": "2022-01-27T14:17:10.951Z"
   },
   {
    "duration": 18,
    "start_time": "2022-01-27T14:20:30.387Z"
   },
   {
    "duration": 16,
    "start_time": "2022-01-27T14:27:05.780Z"
   },
   {
    "duration": 17,
    "start_time": "2022-01-27T14:27:10.814Z"
   },
   {
    "duration": 17,
    "start_time": "2022-01-27T14:27:16.058Z"
   },
   {
    "duration": 2032,
    "start_time": "2022-01-27T14:28:08.866Z"
   },
   {
    "duration": 7,
    "start_time": "2022-01-27T14:28:10.901Z"
   },
   {
    "duration": 942,
    "start_time": "2022-01-27T14:28:10.910Z"
   },
   {
    "duration": 501,
    "start_time": "2022-01-27T14:28:11.855Z"
   },
   {
    "duration": 97,
    "start_time": "2022-01-27T14:28:12.358Z"
   },
   {
    "duration": 7,
    "start_time": "2022-01-27T14:28:12.457Z"
   },
   {
    "duration": 23,
    "start_time": "2022-01-27T14:28:12.466Z"
   },
   {
    "duration": 19,
    "start_time": "2022-01-27T14:28:12.492Z"
   },
   {
    "duration": 24,
    "start_time": "2022-01-27T14:42:46.237Z"
   },
   {
    "duration": 93,
    "start_time": "2022-01-27T14:43:48.439Z"
   },
   {
    "duration": 109,
    "start_time": "2022-01-27T14:44:02.019Z"
   },
   {
    "duration": 1892,
    "start_time": "2022-01-27T14:46:43.352Z"
   },
   {
    "duration": 7,
    "start_time": "2022-01-27T14:46:45.247Z"
   },
   {
    "duration": 1022,
    "start_time": "2022-01-27T14:46:45.258Z"
   },
   {
    "duration": 794,
    "start_time": "2022-01-27T14:46:46.284Z"
   },
   {
    "duration": 129,
    "start_time": "2022-01-27T14:46:47.081Z"
   },
   {
    "duration": 7,
    "start_time": "2022-01-27T14:46:47.213Z"
   },
   {
    "duration": 15,
    "start_time": "2022-01-27T14:49:44.907Z"
   },
   {
    "duration": 31,
    "start_time": "2022-01-27T14:52:45.988Z"
   },
   {
    "duration": 19,
    "start_time": "2022-01-27T14:52:51.810Z"
   },
   {
    "duration": 141,
    "start_time": "2022-01-27T14:55:31.469Z"
   },
   {
    "duration": 35,
    "start_time": "2022-01-27T14:55:51.458Z"
   },
   {
    "duration": 19,
    "start_time": "2022-01-27T14:55:57.343Z"
   },
   {
    "duration": 79,
    "start_time": "2022-01-27T14:59:32.374Z"
   },
   {
    "duration": 48,
    "start_time": "2022-01-27T14:59:33.250Z"
   },
   {
    "duration": 2271,
    "start_time": "2022-01-27T15:03:23.543Z"
   },
   {
    "duration": 8,
    "start_time": "2022-01-27T15:03:25.816Z"
   },
   {
    "duration": 982,
    "start_time": "2022-01-27T15:03:25.827Z"
   },
   {
    "duration": 584,
    "start_time": "2022-01-27T15:03:26.812Z"
   },
   {
    "duration": 123,
    "start_time": "2022-01-27T15:03:27.399Z"
   },
   {
    "duration": 7,
    "start_time": "2022-01-27T15:03:27.525Z"
   },
   {
    "duration": 44,
    "start_time": "2022-01-27T15:03:27.534Z"
   },
   {
    "duration": 17255,
    "start_time": "2022-01-27T15:03:27.581Z"
   },
   {
    "duration": -2058,
    "start_time": "2022-01-27T15:03:46.897Z"
   },
   {
    "duration": 674,
    "start_time": "2022-01-27T15:05:02.512Z"
   },
   {
    "duration": 64,
    "start_time": "2022-01-27T15:05:23.558Z"
   },
   {
    "duration": 54,
    "start_time": "2022-01-27T15:05:25.099Z"
   },
   {
    "duration": 31,
    "start_time": "2022-01-27T15:10:19.002Z"
   },
   {
    "duration": 21,
    "start_time": "2022-01-27T15:10:24.602Z"
   },
   {
    "duration": 28,
    "start_time": "2022-01-27T15:12:27.850Z"
   },
   {
    "duration": 17,
    "start_time": "2022-01-27T15:12:28.696Z"
   },
   {
    "duration": 22,
    "start_time": "2022-01-27T15:13:21.951Z"
   },
   {
    "duration": 21,
    "start_time": "2022-01-27T15:13:22.688Z"
   },
   {
    "duration": 7,
    "start_time": "2022-01-27T15:13:33.542Z"
   },
   {
    "duration": 99,
    "start_time": "2022-01-27T15:15:23.310Z"
   },
   {
    "duration": 48,
    "start_time": "2022-01-27T15:15:39.185Z"
   },
   {
    "duration": 6,
    "start_time": "2022-01-27T15:15:41.711Z"
   },
   {
    "duration": 22,
    "start_time": "2022-01-27T15:15:53.732Z"
   },
   {
    "duration": 25,
    "start_time": "2022-01-27T15:16:43.609Z"
   },
   {
    "duration": 20,
    "start_time": "2022-01-27T15:16:44.555Z"
   },
   {
    "duration": 99,
    "start_time": "2022-01-27T15:17:22.437Z"
   },
   {
    "duration": 28,
    "start_time": "2022-01-27T15:17:48.825Z"
   },
   {
    "duration": 19,
    "start_time": "2022-01-27T15:17:49.781Z"
   },
   {
    "duration": 5,
    "start_time": "2022-01-27T15:17:58.379Z"
   },
   {
    "duration": 101,
    "start_time": "2022-01-27T15:20:20.725Z"
   },
   {
    "duration": 29,
    "start_time": "2022-01-27T15:21:57.263Z"
   },
   {
    "duration": 5,
    "start_time": "2022-01-27T15:21:58.296Z"
   },
   {
    "duration": 18,
    "start_time": "2022-01-27T15:22:04.109Z"
   },
   {
    "duration": 21,
    "start_time": "2022-01-27T15:22:31.807Z"
   },
   {
    "duration": 20,
    "start_time": "2022-01-27T15:22:31.832Z"
   },
   {
    "duration": 8,
    "start_time": "2022-01-27T15:22:45.627Z"
   },
   {
    "duration": 30,
    "start_time": "2022-01-27T15:23:06.893Z"
   },
   {
    "duration": 6,
    "start_time": "2022-01-27T15:23:08.420Z"
   },
   {
    "duration": 18,
    "start_time": "2022-01-27T15:23:14.902Z"
   },
   {
    "duration": 20,
    "start_time": "2022-01-27T15:23:50.895Z"
   },
   {
    "duration": 21,
    "start_time": "2022-01-27T15:23:52.278Z"
   },
   {
    "duration": 1427,
    "start_time": "2022-01-27T15:26:42.934Z"
   },
   {
    "duration": 23,
    "start_time": "2022-01-27T15:27:13.477Z"
   },
   {
    "duration": 19,
    "start_time": "2022-01-27T15:27:14.280Z"
   },
   {
    "duration": 4,
    "start_time": "2022-01-27T15:27:16.320Z"
   },
   {
    "duration": 16,
    "start_time": "2022-01-27T15:27:22.150Z"
   },
   {
    "duration": 1867,
    "start_time": "2022-01-27T15:28:44.056Z"
   },
   {
    "duration": 7,
    "start_time": "2022-01-27T15:28:45.926Z"
   },
   {
    "duration": 1064,
    "start_time": "2022-01-27T15:28:45.936Z"
   },
   {
    "duration": 478,
    "start_time": "2022-01-27T15:28:47.002Z"
   },
   {
    "duration": 112,
    "start_time": "2022-01-27T15:28:47.482Z"
   },
   {
    "duration": 7,
    "start_time": "2022-01-27T15:28:47.597Z"
   },
   {
    "duration": 42,
    "start_time": "2022-01-27T15:28:47.606Z"
   },
   {
    "duration": 67,
    "start_time": "2022-01-27T15:28:47.652Z"
   },
   {
    "duration": 40,
    "start_time": "2022-01-27T15:28:47.721Z"
   },
   {
    "duration": 4,
    "start_time": "2022-01-27T15:28:47.763Z"
   },
   {
    "duration": 16,
    "start_time": "2022-01-27T15:28:47.770Z"
   },
   {
    "duration": 37,
    "start_time": "2022-01-27T16:53:26.288Z"
   },
   {
    "duration": 17,
    "start_time": "2022-01-27T16:53:40.913Z"
   },
   {
    "duration": 15,
    "start_time": "2022-01-27T16:53:58.824Z"
   },
   {
    "duration": 40,
    "start_time": "2022-01-27T16:54:33.443Z"
   },
   {
    "duration": 14,
    "start_time": "2022-01-27T16:54:34.268Z"
   },
   {
    "duration": 61,
    "start_time": "2022-01-27T16:57:37.722Z"
   },
   {
    "duration": 19,
    "start_time": "2022-01-27T16:57:43.349Z"
   },
   {
    "duration": 4,
    "start_time": "2022-01-27T17:16:33.732Z"
   },
   {
    "duration": 482,
    "start_time": "2022-01-27T17:26:03.870Z"
   },
   {
    "duration": 10,
    "start_time": "2022-01-27T17:26:26.633Z"
   },
   {
    "duration": 17,
    "start_time": "2022-01-27T17:26:33.684Z"
   },
   {
    "duration": 1962,
    "start_time": "2022-01-27T17:27:21.331Z"
   },
   {
    "duration": 7,
    "start_time": "2022-01-27T17:27:23.296Z"
   },
   {
    "duration": 1040,
    "start_time": "2022-01-27T17:27:23.306Z"
   },
   {
    "duration": 453,
    "start_time": "2022-01-27T17:27:24.348Z"
   },
   {
    "duration": 121,
    "start_time": "2022-01-27T17:27:24.803Z"
   },
   {
    "duration": 7,
    "start_time": "2022-01-27T17:27:24.926Z"
   },
   {
    "duration": 37,
    "start_time": "2022-01-27T17:27:24.935Z"
   },
   {
    "duration": 30,
    "start_time": "2022-01-27T17:27:24.977Z"
   },
   {
    "duration": 8,
    "start_time": "2022-01-27T17:27:25.010Z"
   },
   {
    "duration": 42,
    "start_time": "2022-01-27T17:27:25.020Z"
   },
   {
    "duration": 41,
    "start_time": "2022-01-27T17:27:25.064Z"
   },
   {
    "duration": 13,
    "start_time": "2022-01-27T17:27:25.107Z"
   },
   {
    "duration": 66,
    "start_time": "2022-01-27T17:27:25.122Z"
   },
   {
    "duration": 16,
    "start_time": "2022-01-27T17:27:25.191Z"
   },
   {
    "duration": 8,
    "start_time": "2022-01-27T17:27:25.209Z"
   },
   {
    "duration": 1915,
    "start_time": "2022-01-27T17:42:19.037Z"
   },
   {
    "duration": 7,
    "start_time": "2022-01-27T17:42:20.955Z"
   },
   {
    "duration": 943,
    "start_time": "2022-01-27T17:42:20.965Z"
   },
   {
    "duration": 493,
    "start_time": "2022-01-27T17:42:21.912Z"
   },
   {
    "duration": 140,
    "start_time": "2022-01-27T17:42:22.408Z"
   },
   {
    "duration": 20,
    "start_time": "2022-01-27T17:42:22.551Z"
   },
   {
    "duration": 28,
    "start_time": "2022-01-27T17:42:22.573Z"
   },
   {
    "duration": 42,
    "start_time": "2022-01-27T17:42:22.606Z"
   },
   {
    "duration": 33,
    "start_time": "2022-01-27T17:42:22.651Z"
   },
   {
    "duration": 5,
    "start_time": "2022-01-27T17:42:22.686Z"
   },
   {
    "duration": 24,
    "start_time": "2022-01-27T17:42:22.693Z"
   },
   {
    "duration": 65,
    "start_time": "2022-01-27T17:42:22.720Z"
   },
   {
    "duration": 12,
    "start_time": "2022-01-27T17:42:22.788Z"
   },
   {
    "duration": 62,
    "start_time": "2022-01-27T17:42:22.803Z"
   },
   {
    "duration": 17,
    "start_time": "2022-01-27T17:42:22.867Z"
   },
   {
    "duration": 7,
    "start_time": "2022-01-27T17:42:22.887Z"
   },
   {
    "duration": 2037,
    "start_time": "2022-01-27T17:45:22.933Z"
   },
   {
    "duration": 7,
    "start_time": "2022-01-27T17:45:24.973Z"
   },
   {
    "duration": 949,
    "start_time": "2022-01-27T17:45:24.985Z"
   },
   {
    "duration": 511,
    "start_time": "2022-01-27T17:45:25.937Z"
   },
   {
    "duration": 108,
    "start_time": "2022-01-27T17:45:26.451Z"
   },
   {
    "duration": 12,
    "start_time": "2022-01-27T17:45:26.562Z"
   },
   {
    "duration": 18,
    "start_time": "2022-01-27T17:45:26.577Z"
   },
   {
    "duration": 50,
    "start_time": "2022-01-27T17:45:26.600Z"
   },
   {
    "duration": 35,
    "start_time": "2022-01-27T17:45:26.653Z"
   },
   {
    "duration": 5,
    "start_time": "2022-01-27T17:45:26.691Z"
   },
   {
    "duration": 50,
    "start_time": "2022-01-27T17:45:26.699Z"
   },
   {
    "duration": 41,
    "start_time": "2022-01-27T17:45:26.751Z"
   },
   {
    "duration": 12,
    "start_time": "2022-01-27T17:45:26.795Z"
   },
   {
    "duration": 73,
    "start_time": "2022-01-27T17:45:26.810Z"
   },
   {
    "duration": 15,
    "start_time": "2022-01-27T17:45:26.886Z"
   },
   {
    "duration": 4,
    "start_time": "2022-01-27T17:45:26.903Z"
   },
   {
    "duration": 14,
    "start_time": "2022-01-27T17:54:09.474Z"
   },
   {
    "duration": 457,
    "start_time": "2022-01-27T17:56:53.873Z"
   },
   {
    "duration": 301,
    "start_time": "2022-01-27T17:57:46.808Z"
   },
   {
    "duration": 12,
    "start_time": "2022-01-27T18:07:56.718Z"
   },
   {
    "duration": 16,
    "start_time": "2022-01-27T18:08:00.143Z"
   },
   {
    "duration": 23,
    "start_time": "2022-01-27T18:09:56.048Z"
   },
   {
    "duration": 2005,
    "start_time": "2022-01-27T18:10:02.314Z"
   },
   {
    "duration": 9,
    "start_time": "2022-01-27T18:10:04.323Z"
   },
   {
    "duration": 1050,
    "start_time": "2022-01-27T18:10:04.335Z"
   },
   {
    "duration": 464,
    "start_time": "2022-01-27T18:10:05.388Z"
   },
   {
    "duration": 101,
    "start_time": "2022-01-27T18:10:05.855Z"
   },
   {
    "duration": 10,
    "start_time": "2022-01-27T18:10:05.959Z"
   },
   {
    "duration": 20,
    "start_time": "2022-01-27T18:10:05.971Z"
   },
   {
    "duration": 34,
    "start_time": "2022-01-27T18:10:05.994Z"
   },
   {
    "duration": 35,
    "start_time": "2022-01-27T18:10:06.031Z"
   },
   {
    "duration": 1374,
    "start_time": "2022-01-27T18:10:06.069Z"
   },
   {
    "duration": -49,
    "start_time": "2022-01-27T18:10:07.494Z"
   },
   {
    "duration": -54,
    "start_time": "2022-01-27T18:10:07.501Z"
   },
   {
    "duration": -57,
    "start_time": "2022-01-27T18:10:07.506Z"
   },
   {
    "duration": -61,
    "start_time": "2022-01-27T18:10:07.511Z"
   },
   {
    "duration": -66,
    "start_time": "2022-01-27T18:10:07.518Z"
   },
   {
    "duration": -70,
    "start_time": "2022-01-27T18:10:07.523Z"
   },
   {
    "duration": -76,
    "start_time": "2022-01-27T18:10:07.531Z"
   },
   {
    "duration": -106,
    "start_time": "2022-01-27T18:10:07.563Z"
   },
   {
    "duration": 21,
    "start_time": "2022-01-27T18:11:20.498Z"
   },
   {
    "duration": 4,
    "start_time": "2022-01-27T18:12:46.304Z"
   },
   {
    "duration": 21,
    "start_time": "2022-01-27T18:12:54.611Z"
   },
   {
    "duration": 39,
    "start_time": "2022-01-27T18:13:13.134Z"
   },
   {
    "duration": 18,
    "start_time": "2022-01-27T18:13:14.537Z"
   },
   {
    "duration": 39,
    "start_time": "2022-01-27T18:13:29.018Z"
   },
   {
    "duration": 18,
    "start_time": "2022-01-27T18:13:30.165Z"
   },
   {
    "duration": 13,
    "start_time": "2022-01-27T18:13:39.406Z"
   },
   {
    "duration": 27,
    "start_time": "2022-01-27T18:13:56.087Z"
   },
   {
    "duration": 23,
    "start_time": "2022-01-27T18:13:58.037Z"
   },
   {
    "duration": 1881,
    "start_time": "2022-01-27T18:14:13.092Z"
   },
   {
    "duration": 7,
    "start_time": "2022-01-27T18:14:14.976Z"
   },
   {
    "duration": 899,
    "start_time": "2022-01-27T18:14:14.987Z"
   },
   {
    "duration": 463,
    "start_time": "2022-01-27T18:14:15.889Z"
   },
   {
    "duration": 101,
    "start_time": "2022-01-27T18:14:16.354Z"
   },
   {
    "duration": 10,
    "start_time": "2022-01-27T18:14:16.458Z"
   },
   {
    "duration": 11,
    "start_time": "2022-01-27T18:14:16.471Z"
   },
   {
    "duration": 31,
    "start_time": "2022-01-27T18:14:16.486Z"
   },
   {
    "duration": 54,
    "start_time": "2022-01-27T18:14:16.521Z"
   },
   {
    "duration": 4,
    "start_time": "2022-01-27T18:14:16.577Z"
   },
   {
    "duration": 21,
    "start_time": "2022-01-27T18:14:16.584Z"
   },
   {
    "duration": 73,
    "start_time": "2022-01-27T18:14:16.608Z"
   },
   {
    "duration": 20,
    "start_time": "2022-01-27T18:14:16.684Z"
   },
   {
    "duration": 62,
    "start_time": "2022-01-27T18:14:16.706Z"
   },
   {
    "duration": 19,
    "start_time": "2022-01-27T18:14:16.770Z"
   },
   {
    "duration": 17,
    "start_time": "2022-01-27T18:14:16.791Z"
   },
   {
    "duration": 10,
    "start_time": "2022-01-27T18:14:16.811Z"
   },
   {
    "duration": 28,
    "start_time": "2022-01-27T18:14:16.850Z"
   },
   {
    "duration": 1829,
    "start_time": "2022-01-27T18:15:41.301Z"
   },
   {
    "duration": 7,
    "start_time": "2022-01-27T18:15:43.133Z"
   },
   {
    "duration": 982,
    "start_time": "2022-01-27T18:15:43.142Z"
   },
   {
    "duration": 440,
    "start_time": "2022-01-27T18:15:44.126Z"
   },
   {
    "duration": 104,
    "start_time": "2022-01-27T18:15:44.569Z"
   },
   {
    "duration": 10,
    "start_time": "2022-01-27T18:15:44.675Z"
   },
   {
    "duration": 18,
    "start_time": "2022-01-27T18:15:44.688Z"
   },
   {
    "duration": 50,
    "start_time": "2022-01-27T18:15:44.710Z"
   },
   {
    "duration": 28,
    "start_time": "2022-01-27T18:15:44.763Z"
   },
   {
    "duration": 4,
    "start_time": "2022-01-27T18:15:44.794Z"
   },
   {
    "duration": 51,
    "start_time": "2022-01-27T18:15:44.800Z"
   },
   {
    "duration": 40,
    "start_time": "2022-01-27T18:15:44.854Z"
   },
   {
    "duration": 17,
    "start_time": "2022-01-27T18:15:44.897Z"
   },
   {
    "duration": 63,
    "start_time": "2022-01-27T18:15:44.916Z"
   },
   {
    "duration": 18,
    "start_time": "2022-01-27T18:15:44.981Z"
   },
   {
    "duration": 34,
    "start_time": "2022-01-27T18:15:45.001Z"
   },
   {
    "duration": 519,
    "start_time": "2022-01-27T18:15:45.038Z"
   },
   {
    "duration": -55,
    "start_time": "2022-01-27T18:15:45.615Z"
   },
   {
    "duration": 9,
    "start_time": "2022-01-27T18:16:20.552Z"
   },
   {
    "duration": 21,
    "start_time": "2022-01-27T18:16:22.791Z"
   },
   {
    "duration": 10,
    "start_time": "2022-01-27T18:17:30.738Z"
   },
   {
    "duration": 26,
    "start_time": "2022-01-27T18:17:33.043Z"
   },
   {
    "duration": 15,
    "start_time": "2022-01-27T18:18:17.742Z"
   },
   {
    "duration": 12,
    "start_time": "2022-01-27T18:18:22.880Z"
   },
   {
    "duration": 29,
    "start_time": "2022-01-27T18:19:06.806Z"
   },
   {
    "duration": 20,
    "start_time": "2022-01-27T18:23:53.575Z"
   },
   {
    "duration": 10,
    "start_time": "2022-01-27T18:24:36.365Z"
   },
   {
    "duration": 6,
    "start_time": "2022-01-27T18:25:17.736Z"
   },
   {
    "duration": 13,
    "start_time": "2022-01-27T18:25:18.679Z"
   },
   {
    "duration": 13,
    "start_time": "2022-01-27T18:26:55.342Z"
   },
   {
    "duration": 24,
    "start_time": "2022-01-27T18:26:58.647Z"
   },
   {
    "duration": 5,
    "start_time": "2022-01-27T18:30:13.615Z"
   },
   {
    "duration": 11,
    "start_time": "2022-01-27T18:30:37.828Z"
   },
   {
    "duration": 31,
    "start_time": "2022-01-27T18:30:42.797Z"
   },
   {
    "duration": 19,
    "start_time": "2022-01-27T18:32:00.100Z"
   },
   {
    "duration": 13,
    "start_time": "2022-01-27T18:32:14.273Z"
   },
   {
    "duration": 15,
    "start_time": "2022-01-27T18:38:19.513Z"
   },
   {
    "duration": 20,
    "start_time": "2022-01-27T18:38:35.025Z"
   },
   {
    "duration": 12,
    "start_time": "2022-01-27T18:39:39.264Z"
   },
   {
    "duration": 6,
    "start_time": "2022-01-27T18:43:10.810Z"
   },
   {
    "duration": 30,
    "start_time": "2022-01-27T18:43:19.090Z"
   },
   {
    "duration": 12,
    "start_time": "2022-01-27T18:53:17.693Z"
   },
   {
    "duration": 47,
    "start_time": "2022-01-27T18:53:18.914Z"
   },
   {
    "duration": 2367,
    "start_time": "2022-01-27T18:54:00.333Z"
   },
   {
    "duration": 10,
    "start_time": "2022-01-27T18:54:02.704Z"
   },
   {
    "duration": 1032,
    "start_time": "2022-01-27T18:54:02.717Z"
   },
   {
    "duration": 472,
    "start_time": "2022-01-27T18:54:03.751Z"
   },
   {
    "duration": 111,
    "start_time": "2022-01-27T18:54:04.226Z"
   },
   {
    "duration": 9,
    "start_time": "2022-01-27T18:54:04.348Z"
   },
   {
    "duration": 11,
    "start_time": "2022-01-27T18:54:04.360Z"
   },
   {
    "duration": 30,
    "start_time": "2022-01-27T18:54:04.374Z"
   },
   {
    "duration": 62,
    "start_time": "2022-01-27T18:54:04.408Z"
   },
   {
    "duration": 4,
    "start_time": "2022-01-27T18:54:04.472Z"
   },
   {
    "duration": 24,
    "start_time": "2022-01-27T18:54:04.478Z"
   },
   {
    "duration": 57,
    "start_time": "2022-01-27T18:54:04.504Z"
   },
   {
    "duration": 17,
    "start_time": "2022-01-27T18:54:04.564Z"
   },
   {
    "duration": 41,
    "start_time": "2022-01-27T18:54:04.583Z"
   },
   {
    "duration": 18,
    "start_time": "2022-01-27T18:54:04.649Z"
   },
   {
    "duration": 12,
    "start_time": "2022-01-27T18:54:04.669Z"
   },
   {
    "duration": 9,
    "start_time": "2022-01-27T18:54:04.684Z"
   },
   {
    "duration": 18,
    "start_time": "2022-01-27T18:54:04.696Z"
   },
   {
    "duration": 7,
    "start_time": "2022-01-27T18:54:04.748Z"
   },
   {
    "duration": 27,
    "start_time": "2022-01-27T18:54:04.758Z"
   },
   {
    "duration": 5,
    "start_time": "2022-01-27T18:54:04.787Z"
   },
   {
    "duration": 14,
    "start_time": "2022-01-27T18:54:04.794Z"
   },
   {
    "duration": 6,
    "start_time": "2022-01-27T18:54:04.848Z"
   },
   {
    "duration": 13,
    "start_time": "2022-01-27T18:54:04.856Z"
   },
   {
    "duration": 11,
    "start_time": "2022-01-27T18:54:04.871Z"
   },
   {
    "duration": 14,
    "start_time": "2022-01-27T18:54:04.885Z"
   },
   {
    "duration": 8,
    "start_time": "2022-01-27T18:54:04.901Z"
   },
   {
    "duration": 49,
    "start_time": "2022-01-27T18:54:04.911Z"
   },
   {
    "duration": 12,
    "start_time": "2022-01-27T18:54:04.962Z"
   },
   {
    "duration": 35,
    "start_time": "2022-01-27T18:54:04.976Z"
   },
   {
    "duration": 14,
    "start_time": "2022-01-27T18:57:14.403Z"
   },
   {
    "duration": 11,
    "start_time": "2022-01-27T18:58:42.859Z"
   },
   {
    "duration": 6,
    "start_time": "2022-01-27T19:00:16.683Z"
   },
   {
    "duration": 1950,
    "start_time": "2022-01-27T19:39:38.928Z"
   },
   {
    "duration": 8,
    "start_time": "2022-01-27T19:39:40.881Z"
   },
   {
    "duration": 978,
    "start_time": "2022-01-27T19:39:40.895Z"
   },
   {
    "duration": 474,
    "start_time": "2022-01-27T19:39:41.875Z"
   },
   {
    "duration": 111,
    "start_time": "2022-01-27T19:39:42.352Z"
   },
   {
    "duration": 10,
    "start_time": "2022-01-27T19:39:42.466Z"
   },
   {
    "duration": 15,
    "start_time": "2022-01-27T19:39:42.480Z"
   },
   {
    "duration": 50,
    "start_time": "2022-01-27T19:39:42.498Z"
   },
   {
    "duration": 29,
    "start_time": "2022-01-27T19:39:42.551Z"
   },
   {
    "duration": 4,
    "start_time": "2022-01-27T19:39:42.582Z"
   },
   {
    "duration": 25,
    "start_time": "2022-01-27T19:39:42.588Z"
   },
   {
    "duration": 63,
    "start_time": "2022-01-27T19:39:42.615Z"
   },
   {
    "duration": 18,
    "start_time": "2022-01-27T19:39:42.681Z"
   },
   {
    "duration": 66,
    "start_time": "2022-01-27T19:39:42.701Z"
   },
   {
    "duration": 17,
    "start_time": "2022-01-27T19:39:42.770Z"
   },
   {
    "duration": 13,
    "start_time": "2022-01-27T19:39:42.789Z"
   },
   {
    "duration": 10,
    "start_time": "2022-01-27T19:39:42.805Z"
   },
   {
    "duration": 21,
    "start_time": "2022-01-27T19:39:42.850Z"
   },
   {
    "duration": 11,
    "start_time": "2022-01-27T19:39:42.874Z"
   },
   {
    "duration": 70,
    "start_time": "2022-01-27T19:39:42.887Z"
   },
   {
    "duration": 6,
    "start_time": "2022-01-27T19:39:42.961Z"
   },
   {
    "duration": 13,
    "start_time": "2022-01-27T19:39:42.974Z"
   },
   {
    "duration": 9,
    "start_time": "2022-01-27T19:39:42.990Z"
   },
   {
    "duration": 14,
    "start_time": "2022-01-27T19:39:43.002Z"
   },
   {
    "duration": 13,
    "start_time": "2022-01-27T19:39:43.049Z"
   },
   {
    "duration": 14,
    "start_time": "2022-01-27T19:39:43.065Z"
   },
   {
    "duration": 6,
    "start_time": "2022-01-27T19:39:43.082Z"
   },
   {
    "duration": 23,
    "start_time": "2022-01-27T19:39:43.091Z"
   },
   {
    "duration": 40,
    "start_time": "2022-01-27T19:39:43.116Z"
   },
   {
    "duration": 10,
    "start_time": "2022-01-27T19:39:43.159Z"
   },
   {
    "duration": 11,
    "start_time": "2022-01-27T19:39:43.172Z"
   },
   {
    "duration": 11,
    "start_time": "2022-01-27T19:39:43.186Z"
   },
   {
    "duration": 11,
    "start_time": "2022-01-27T19:43:17.206Z"
   },
   {
    "duration": 23,
    "start_time": "2022-01-27T19:43:28.266Z"
   },
   {
    "duration": 358,
    "start_time": "2022-01-27T19:45:29.181Z"
   },
   {
    "duration": 11,
    "start_time": "2022-01-27T19:47:51.210Z"
   },
   {
    "duration": 23,
    "start_time": "2022-01-27T19:49:01.344Z"
   },
   {
    "duration": 342,
    "start_time": "2022-01-27T19:49:45.744Z"
   },
   {
    "duration": 336,
    "start_time": "2022-01-27T19:50:35.079Z"
   },
   {
    "duration": 12,
    "start_time": "2022-01-27T19:51:45.839Z"
   },
   {
    "duration": 569,
    "start_time": "2022-01-27T19:52:12.874Z"
   },
   {
    "duration": 356,
    "start_time": "2022-01-27T19:52:59.740Z"
   },
   {
    "duration": 42,
    "start_time": "2022-01-27T19:55:40.424Z"
   },
   {
    "duration": 29,
    "start_time": "2022-01-27T19:56:11.642Z"
   },
   {
    "duration": 23,
    "start_time": "2022-01-27T19:56:26.481Z"
   },
   {
    "duration": 1948,
    "start_time": "2022-01-27T20:20:08.135Z"
   },
   {
    "duration": 8,
    "start_time": "2022-01-27T20:20:10.086Z"
   },
   {
    "duration": 984,
    "start_time": "2022-01-27T20:20:10.097Z"
   },
   {
    "duration": 468,
    "start_time": "2022-01-27T20:20:11.084Z"
   },
   {
    "duration": 110,
    "start_time": "2022-01-27T20:20:11.555Z"
   },
   {
    "duration": 9,
    "start_time": "2022-01-27T20:20:11.668Z"
   },
   {
    "duration": 14,
    "start_time": "2022-01-27T20:20:11.680Z"
   },
   {
    "duration": 62,
    "start_time": "2022-01-27T20:20:11.698Z"
   },
   {
    "duration": 39,
    "start_time": "2022-01-27T20:20:11.763Z"
   },
   {
    "duration": 5,
    "start_time": "2022-01-27T20:20:11.806Z"
   },
   {
    "duration": 45,
    "start_time": "2022-01-27T20:20:11.813Z"
   },
   {
    "duration": 47,
    "start_time": "2022-01-27T20:20:11.862Z"
   },
   {
    "duration": 39,
    "start_time": "2022-01-27T20:20:11.912Z"
   },
   {
    "duration": 41,
    "start_time": "2022-01-27T20:20:11.954Z"
   },
   {
    "duration": 51,
    "start_time": "2022-01-27T20:20:11.998Z"
   },
   {
    "duration": 18,
    "start_time": "2022-01-27T20:20:12.052Z"
   },
   {
    "duration": 10,
    "start_time": "2022-01-27T20:20:12.074Z"
   },
   {
    "duration": 22,
    "start_time": "2022-01-27T20:20:12.086Z"
   },
   {
    "duration": 54,
    "start_time": "2022-01-27T20:20:12.110Z"
   },
   {
    "duration": 34,
    "start_time": "2022-01-27T20:20:12.167Z"
   },
   {
    "duration": 7,
    "start_time": "2022-01-27T20:20:12.204Z"
   },
   {
    "duration": 44,
    "start_time": "2022-01-27T20:20:12.214Z"
   },
   {
    "duration": 5,
    "start_time": "2022-01-27T20:20:12.265Z"
   },
   {
    "duration": 19,
    "start_time": "2022-01-27T20:20:12.275Z"
   },
   {
    "duration": 14,
    "start_time": "2022-01-27T20:20:12.297Z"
   },
   {
    "duration": 49,
    "start_time": "2022-01-27T20:20:12.315Z"
   },
   {
    "duration": 10,
    "start_time": "2022-01-27T20:20:12.366Z"
   },
   {
    "duration": 29,
    "start_time": "2022-01-27T20:20:12.379Z"
   },
   {
    "duration": 12,
    "start_time": "2022-01-27T20:20:12.411Z"
   },
   {
    "duration": 33,
    "start_time": "2022-01-27T20:20:12.425Z"
   },
   {
    "duration": 15,
    "start_time": "2022-01-27T20:20:12.461Z"
   },
   {
    "duration": 23,
    "start_time": "2022-01-27T20:20:12.478Z"
   },
   {
    "duration": 21,
    "start_time": "2022-01-27T20:20:12.504Z"
   },
   {
    "duration": 29,
    "start_time": "2022-01-27T20:20:12.527Z"
   },
   {
    "duration": 561,
    "start_time": "2022-01-27T20:20:12.559Z"
   },
   {
    "duration": 25,
    "start_time": "2022-01-27T20:20:13.123Z"
   },
   {
    "duration": 532,
    "start_time": "2022-01-27T20:20:13.151Z"
   },
   {
    "duration": 15,
    "start_time": "2022-01-27T20:20:13.686Z"
   },
   {
    "duration": 533,
    "start_time": "2022-01-27T20:20:13.703Z"
   },
   {
    "duration": 41,
    "start_time": "2022-01-27T20:20:14.239Z"
   },
   {
    "duration": 30,
    "start_time": "2022-01-27T20:20:14.283Z"
   },
   {
    "duration": 599,
    "start_time": "2022-01-27T20:22:41.776Z"
   },
   {
    "duration": 334,
    "start_time": "2022-01-27T20:26:17.545Z"
   },
   {
    "duration": 376,
    "start_time": "2022-01-27T20:26:28.015Z"
   },
   {
    "duration": 461,
    "start_time": "2022-01-27T20:28:39.846Z"
   },
   {
    "duration": 322,
    "start_time": "2022-01-27T20:28:53.412Z"
   },
   {
    "duration": 364,
    "start_time": "2022-01-27T20:29:06.111Z"
   },
   {
    "duration": 431,
    "start_time": "2022-01-27T20:30:03.637Z"
   },
   {
    "duration": 388,
    "start_time": "2022-01-27T20:30:17.240Z"
   },
   {
    "duration": 374,
    "start_time": "2022-01-27T20:30:24.060Z"
   },
   {
    "duration": 337,
    "start_time": "2022-01-27T20:30:32.741Z"
   },
   {
    "duration": 369,
    "start_time": "2022-01-27T20:30:39.393Z"
   },
   {
    "duration": 392,
    "start_time": "2022-01-27T20:31:04.847Z"
   },
   {
    "duration": 359,
    "start_time": "2022-01-27T20:31:14.513Z"
   },
   {
    "duration": 413,
    "start_time": "2022-01-27T20:31:20.041Z"
   },
   {
    "duration": 492,
    "start_time": "2022-01-27T20:45:48.999Z"
   },
   {
    "duration": 408,
    "start_time": "2022-01-27T20:46:02.381Z"
   },
   {
    "duration": 327,
    "start_time": "2022-01-27T20:46:32.199Z"
   },
   {
    "duration": 331,
    "start_time": "2022-01-27T20:47:14.270Z"
   },
   {
    "duration": 326,
    "start_time": "2022-01-27T20:47:38.130Z"
   },
   {
    "duration": 352,
    "start_time": "2022-01-27T20:48:03.316Z"
   },
   {
    "duration": 643,
    "start_time": "2022-01-27T20:48:29.717Z"
   },
   {
    "duration": 728,
    "start_time": "2022-01-27T20:51:16.522Z"
   },
   {
    "duration": 717,
    "start_time": "2022-01-27T20:51:33.992Z"
   },
   {
    "duration": 403,
    "start_time": "2022-01-27T20:51:54.213Z"
   },
   {
    "duration": 440,
    "start_time": "2022-01-27T20:52:47.075Z"
   },
   {
    "duration": 461,
    "start_time": "2022-01-27T20:53:18.007Z"
   },
   {
    "duration": 423,
    "start_time": "2022-01-27T20:54:03.018Z"
   },
   {
    "duration": 426,
    "start_time": "2022-01-27T20:55:58.969Z"
   },
   {
    "duration": 435,
    "start_time": "2022-01-27T20:57:12.227Z"
   },
   {
    "duration": 658,
    "start_time": "2022-01-27T20:57:44.172Z"
   },
   {
    "duration": 841,
    "start_time": "2022-01-27T20:58:10.375Z"
   },
   {
    "duration": 430,
    "start_time": "2022-01-27T20:58:17.691Z"
   },
   {
    "duration": 285,
    "start_time": "2022-01-27T21:01:43.937Z"
   },
   {
    "duration": 305,
    "start_time": "2022-01-27T21:02:43.020Z"
   },
   {
    "duration": 43,
    "start_time": "2022-01-27T21:03:24.216Z"
   },
   {
    "duration": 14,
    "start_time": "2022-01-27T21:03:40.582Z"
   },
   {
    "duration": 14,
    "start_time": "2022-01-27T21:05:00.703Z"
   },
   {
    "duration": 11,
    "start_time": "2022-01-27T21:10:28.032Z"
   },
   {
    "duration": 10,
    "start_time": "2022-01-27T21:11:52.865Z"
   },
   {
    "duration": 8,
    "start_time": "2022-01-27T21:12:16.854Z"
   },
   {
    "duration": 9,
    "start_time": "2022-01-27T21:12:47.210Z"
   },
   {
    "duration": 10,
    "start_time": "2022-01-27T21:12:47.860Z"
   },
   {
    "duration": 315,
    "start_time": "2022-01-27T21:14:05.166Z"
   },
   {
    "duration": 2083,
    "start_time": "2022-01-27T21:15:10.981Z"
   },
   {
    "duration": 7,
    "start_time": "2022-01-27T21:15:13.067Z"
   },
   {
    "duration": 1022,
    "start_time": "2022-01-27T21:15:13.077Z"
   },
   {
    "duration": 451,
    "start_time": "2022-01-27T21:15:14.102Z"
   },
   {
    "duration": 106,
    "start_time": "2022-01-27T21:15:14.555Z"
   },
   {
    "duration": 9,
    "start_time": "2022-01-27T21:15:14.664Z"
   },
   {
    "duration": 12,
    "start_time": "2022-01-27T21:15:14.675Z"
   },
   {
    "duration": 29,
    "start_time": "2022-01-27T21:15:14.691Z"
   },
   {
    "duration": 52,
    "start_time": "2022-01-27T21:15:14.723Z"
   },
   {
    "duration": 3,
    "start_time": "2022-01-27T21:15:14.778Z"
   },
   {
    "duration": 20,
    "start_time": "2022-01-27T21:15:14.784Z"
   },
   {
    "duration": 66,
    "start_time": "2022-01-27T21:15:14.806Z"
   },
   {
    "duration": 17,
    "start_time": "2022-01-27T21:15:14.874Z"
   },
   {
    "duration": 59,
    "start_time": "2022-01-27T21:15:14.894Z"
   },
   {
    "duration": 19,
    "start_time": "2022-01-27T21:15:14.955Z"
   },
   {
    "duration": 15,
    "start_time": "2022-01-27T21:15:14.977Z"
   },
   {
    "duration": 16,
    "start_time": "2022-01-27T21:15:14.995Z"
   },
   {
    "duration": 55,
    "start_time": "2022-01-27T21:15:15.014Z"
   },
   {
    "duration": 11,
    "start_time": "2022-01-27T21:15:15.072Z"
   },
   {
    "duration": 34,
    "start_time": "2022-01-27T21:15:15.085Z"
   },
   {
    "duration": 6,
    "start_time": "2022-01-27T21:15:15.149Z"
   },
   {
    "duration": 16,
    "start_time": "2022-01-27T21:15:15.158Z"
   },
   {
    "duration": 4,
    "start_time": "2022-01-27T21:15:15.180Z"
   },
   {
    "duration": 15,
    "start_time": "2022-01-27T21:15:15.187Z"
   },
   {
    "duration": 12,
    "start_time": "2022-01-27T21:15:15.205Z"
   },
   {
    "duration": 40,
    "start_time": "2022-01-27T21:15:15.220Z"
   },
   {
    "duration": 5,
    "start_time": "2022-01-27T21:15:15.262Z"
   },
   {
    "duration": 24,
    "start_time": "2022-01-27T21:15:15.270Z"
   },
   {
    "duration": 11,
    "start_time": "2022-01-27T21:15:15.297Z"
   },
   {
    "duration": 39,
    "start_time": "2022-01-27T21:15:15.311Z"
   },
   {
    "duration": 10,
    "start_time": "2022-01-27T21:15:15.352Z"
   },
   {
    "duration": 11,
    "start_time": "2022-01-27T21:15:15.364Z"
   },
   {
    "duration": 16,
    "start_time": "2022-01-27T21:15:15.378Z"
   },
   {
    "duration": 21,
    "start_time": "2022-01-27T21:15:15.396Z"
   },
   {
    "duration": 417,
    "start_time": "2022-01-27T21:15:15.419Z"
   },
   {
    "duration": 16,
    "start_time": "2022-01-27T21:15:15.838Z"
   },
   {
    "duration": 383,
    "start_time": "2022-01-27T21:15:15.857Z"
   },
   {
    "duration": 15,
    "start_time": "2022-01-27T21:15:16.242Z"
   },
   {
    "duration": 380,
    "start_time": "2022-01-27T21:15:16.259Z"
   },
   {
    "duration": 26,
    "start_time": "2022-01-27T21:15:16.648Z"
   },
   {
    "duration": 21,
    "start_time": "2022-01-27T21:15:16.677Z"
   },
   {
    "duration": 454,
    "start_time": "2022-01-27T21:15:16.700Z"
   },
   {
    "duration": 450,
    "start_time": "2022-01-27T21:15:17.156Z"
   },
   {
    "duration": 61,
    "start_time": "2022-01-27T21:15:17.609Z"
   },
   {
    "duration": 15,
    "start_time": "2022-01-27T21:15:17.672Z"
   },
   {
    "duration": 13,
    "start_time": "2022-01-27T21:15:17.690Z"
   },
   {
    "duration": 18,
    "start_time": "2022-01-27T21:15:17.706Z"
   },
   {
    "duration": 10,
    "start_time": "2022-01-27T21:15:17.748Z"
   },
   {
    "duration": 8,
    "start_time": "2022-01-27T21:15:17.760Z"
   },
   {
    "duration": 7,
    "start_time": "2022-01-27T21:15:26.740Z"
   },
   {
    "duration": 7,
    "start_time": "2022-01-27T21:17:11.637Z"
   },
   {
    "duration": 6,
    "start_time": "2022-01-27T21:17:16.905Z"
   },
   {
    "duration": 1919,
    "start_time": "2022-01-27T21:19:03.293Z"
   },
   {
    "duration": 7,
    "start_time": "2022-01-27T21:19:05.215Z"
   },
   {
    "duration": 898,
    "start_time": "2022-01-27T21:19:05.224Z"
   },
   {
    "duration": 448,
    "start_time": "2022-01-27T21:19:06.125Z"
   },
   {
    "duration": 113,
    "start_time": "2022-01-27T21:19:06.576Z"
   },
   {
    "duration": 9,
    "start_time": "2022-01-27T21:19:06.692Z"
   },
   {
    "duration": 12,
    "start_time": "2022-01-27T21:19:06.705Z"
   },
   {
    "duration": 50,
    "start_time": "2022-01-27T21:19:06.720Z"
   },
   {
    "duration": 28,
    "start_time": "2022-01-27T21:19:06.775Z"
   },
   {
    "duration": 4,
    "start_time": "2022-01-27T21:19:06.806Z"
   },
   {
    "duration": 38,
    "start_time": "2022-01-27T21:19:06.812Z"
   },
   {
    "duration": 38,
    "start_time": "2022-01-27T21:19:06.853Z"
   },
   {
    "duration": 19,
    "start_time": "2022-01-27T21:19:06.894Z"
   },
   {
    "duration": 71,
    "start_time": "2022-01-27T21:19:06.916Z"
   },
   {
    "duration": 19,
    "start_time": "2022-01-27T21:19:06.989Z"
   },
   {
    "duration": 40,
    "start_time": "2022-01-27T21:19:07.010Z"
   },
   {
    "duration": 12,
    "start_time": "2022-01-27T21:19:07.054Z"
   },
   {
    "duration": 23,
    "start_time": "2022-01-27T21:19:07.068Z"
   },
   {
    "duration": 8,
    "start_time": "2022-01-27T21:19:07.094Z"
   },
   {
    "duration": 70,
    "start_time": "2022-01-27T21:19:07.105Z"
   },
   {
    "duration": 6,
    "start_time": "2022-01-27T21:19:07.178Z"
   },
   {
    "duration": 18,
    "start_time": "2022-01-27T21:19:07.186Z"
   },
   {
    "duration": 42,
    "start_time": "2022-01-27T21:19:07.207Z"
   },
   {
    "duration": 20,
    "start_time": "2022-01-27T21:19:07.252Z"
   },
   {
    "duration": 12,
    "start_time": "2022-01-27T21:19:07.275Z"
   },
   {
    "duration": 16,
    "start_time": "2022-01-27T21:19:07.291Z"
   },
   {
    "duration": 6,
    "start_time": "2022-01-27T21:19:07.313Z"
   },
   {
    "duration": 43,
    "start_time": "2022-01-27T21:19:07.322Z"
   },
   {
    "duration": 12,
    "start_time": "2022-01-27T21:19:07.368Z"
   },
   {
    "duration": 13,
    "start_time": "2022-01-27T21:19:07.382Z"
   },
   {
    "duration": 9,
    "start_time": "2022-01-27T21:19:07.397Z"
   },
   {
    "duration": 43,
    "start_time": "2022-01-27T21:19:07.409Z"
   },
   {
    "duration": 18,
    "start_time": "2022-01-27T21:19:07.454Z"
   },
   {
    "duration": 21,
    "start_time": "2022-01-27T21:19:07.474Z"
   },
   {
    "duration": 428,
    "start_time": "2022-01-27T21:19:07.498Z"
   },
   {
    "duration": 19,
    "start_time": "2022-01-27T21:19:07.929Z"
   },
   {
    "duration": 384,
    "start_time": "2022-01-27T21:19:07.951Z"
   },
   {
    "duration": 15,
    "start_time": "2022-01-27T21:19:08.338Z"
   },
   {
    "duration": 374,
    "start_time": "2022-01-27T21:19:08.356Z"
   },
   {
    "duration": 33,
    "start_time": "2022-01-27T21:19:08.733Z"
   },
   {
    "duration": 22,
    "start_time": "2022-01-27T21:19:08.768Z"
   },
   {
    "duration": 447,
    "start_time": "2022-01-27T21:19:08.793Z"
   },
   {
    "duration": 439,
    "start_time": "2022-01-27T21:19:09.242Z"
   },
   {
    "duration": 66,
    "start_time": "2022-01-27T21:19:09.684Z"
   },
   {
    "duration": 13,
    "start_time": "2022-01-27T21:19:09.753Z"
   },
   {
    "duration": 16,
    "start_time": "2022-01-27T21:19:09.768Z"
   },
   {
    "duration": 15,
    "start_time": "2022-01-27T21:19:09.786Z"
   },
   {
    "duration": 12,
    "start_time": "2022-01-27T21:19:09.804Z"
   },
   {
    "duration": 32,
    "start_time": "2022-01-27T21:19:09.819Z"
   },
   {
    "duration": 10,
    "start_time": "2022-01-27T21:21:19.718Z"
   },
   {
    "duration": 9,
    "start_time": "2022-01-27T21:21:32.900Z"
   },
   {
    "duration": 7,
    "start_time": "2022-01-27T21:21:57.094Z"
   },
   {
    "duration": 4,
    "start_time": "2022-01-27T21:25:16.639Z"
   },
   {
    "duration": 7,
    "start_time": "2022-01-27T21:25:40.349Z"
   },
   {
    "duration": 25,
    "start_time": "2022-01-27T21:29:20.056Z"
   },
   {
    "duration": 9,
    "start_time": "2022-01-27T21:33:05.846Z"
   },
   {
    "duration": 8,
    "start_time": "2022-01-27T21:33:20.093Z"
   },
   {
    "duration": 1973,
    "start_time": "2022-01-27T21:35:40.610Z"
   },
   {
    "duration": 8,
    "start_time": "2022-01-27T21:35:42.586Z"
   },
   {
    "duration": 1051,
    "start_time": "2022-01-27T21:35:42.597Z"
   },
   {
    "duration": 507,
    "start_time": "2022-01-27T21:35:43.652Z"
   },
   {
    "duration": 114,
    "start_time": "2022-01-27T21:35:44.163Z"
   },
   {
    "duration": 10,
    "start_time": "2022-01-27T21:35:44.280Z"
   },
   {
    "duration": 11,
    "start_time": "2022-01-27T21:35:44.293Z"
   },
   {
    "duration": 55,
    "start_time": "2022-01-27T21:35:44.308Z"
   },
   {
    "duration": 28,
    "start_time": "2022-01-27T21:35:44.367Z"
   },
   {
    "duration": 5,
    "start_time": "2022-01-27T21:35:44.398Z"
   },
   {
    "duration": 49,
    "start_time": "2022-01-27T21:35:44.405Z"
   },
   {
    "duration": 39,
    "start_time": "2022-01-27T21:35:44.457Z"
   },
   {
    "duration": 18,
    "start_time": "2022-01-27T21:35:44.498Z"
   },
   {
    "duration": 40,
    "start_time": "2022-01-27T21:35:44.550Z"
   },
   {
    "duration": 20,
    "start_time": "2022-01-27T21:35:44.592Z"
   },
   {
    "duration": 44,
    "start_time": "2022-01-27T21:35:44.615Z"
   },
   {
    "duration": 8,
    "start_time": "2022-01-27T21:35:44.662Z"
   },
   {
    "duration": 22,
    "start_time": "2022-01-27T21:35:44.673Z"
   },
   {
    "duration": 57,
    "start_time": "2022-01-27T21:35:44.698Z"
   },
   {
    "duration": 43,
    "start_time": "2022-01-27T21:35:44.758Z"
   },
   {
    "duration": 43,
    "start_time": "2022-01-27T21:35:44.805Z"
   },
   {
    "duration": 15,
    "start_time": "2022-01-27T21:35:44.851Z"
   },
   {
    "duration": 5,
    "start_time": "2022-01-27T21:35:44.872Z"
   },
   {
    "duration": 11,
    "start_time": "2022-01-27T21:35:44.881Z"
   },
   {
    "duration": 11,
    "start_time": "2022-01-27T21:35:44.895Z"
   },
   {
    "duration": 51,
    "start_time": "2022-01-27T21:35:44.909Z"
   },
   {
    "duration": 7,
    "start_time": "2022-01-27T21:35:44.963Z"
   },
   {
    "duration": 24,
    "start_time": "2022-01-27T21:35:44.973Z"
   },
   {
    "duration": 17,
    "start_time": "2022-01-27T21:35:45.000Z"
   },
   {
    "duration": 36,
    "start_time": "2022-01-27T21:35:45.020Z"
   },
   {
    "duration": 15,
    "start_time": "2022-01-27T21:35:45.059Z"
   },
   {
    "duration": 15,
    "start_time": "2022-01-27T21:35:45.076Z"
   },
   {
    "duration": 16,
    "start_time": "2022-01-27T21:35:45.093Z"
   },
   {
    "duration": 48,
    "start_time": "2022-01-27T21:35:45.111Z"
   },
   {
    "duration": 607,
    "start_time": "2022-01-27T21:35:45.163Z"
   },
   {
    "duration": 10,
    "start_time": "2022-01-27T21:35:45.774Z"
   },
   {
    "duration": 393,
    "start_time": "2022-01-27T21:35:45.786Z"
   },
   {
    "duration": 11,
    "start_time": "2022-01-27T21:35:46.181Z"
   },
   {
    "duration": 387,
    "start_time": "2022-01-27T21:35:46.195Z"
   },
   {
    "duration": 26,
    "start_time": "2022-01-27T21:35:46.585Z"
   },
   {
    "duration": 38,
    "start_time": "2022-01-27T21:35:46.613Z"
   },
   {
    "duration": 445,
    "start_time": "2022-01-27T21:35:46.654Z"
   },
   {
    "duration": 526,
    "start_time": "2022-01-27T21:35:47.102Z"
   },
   {
    "duration": 51,
    "start_time": "2022-01-27T21:35:47.630Z"
   },
   {
    "duration": 13,
    "start_time": "2022-01-27T21:35:47.684Z"
   },
   {
    "duration": 13,
    "start_time": "2022-01-27T21:35:47.699Z"
   },
   {
    "duration": 36,
    "start_time": "2022-01-27T21:35:47.714Z"
   },
   {
    "duration": 11,
    "start_time": "2022-01-27T21:35:47.753Z"
   },
   {
    "duration": 10,
    "start_time": "2022-01-27T21:35:47.767Z"
   },
   {
    "duration": 8,
    "start_time": "2022-01-27T21:35:47.779Z"
   },
   {
    "duration": 4,
    "start_time": "2022-01-27T21:35:47.790Z"
   },
   {
    "duration": 17,
    "start_time": "2022-01-27T21:35:47.796Z"
   },
   {
    "duration": 10,
    "start_time": "2022-01-27T21:35:47.849Z"
   },
   {
    "duration": 9,
    "start_time": "2022-01-27T21:35:47.862Z"
   },
   {
    "duration": 1948,
    "start_time": "2022-01-28T10:28:23.828Z"
   },
   {
    "duration": 7,
    "start_time": "2022-01-28T10:28:25.779Z"
   },
   {
    "duration": 1306,
    "start_time": "2022-01-28T10:28:25.789Z"
   },
   {
    "duration": 435,
    "start_time": "2022-01-28T10:28:27.098Z"
   },
   {
    "duration": 124,
    "start_time": "2022-01-28T10:28:27.535Z"
   },
   {
    "duration": 10,
    "start_time": "2022-01-28T10:28:27.661Z"
   },
   {
    "duration": 11,
    "start_time": "2022-01-28T10:28:27.673Z"
   },
   {
    "duration": 31,
    "start_time": "2022-01-28T10:28:27.688Z"
   },
   {
    "duration": 58,
    "start_time": "2022-01-28T10:28:27.722Z"
   },
   {
    "duration": 5,
    "start_time": "2022-01-28T10:28:27.783Z"
   },
   {
    "duration": 21,
    "start_time": "2022-01-28T10:28:27.791Z"
   },
   {
    "duration": 78,
    "start_time": "2022-01-28T10:28:27.815Z"
   },
   {
    "duration": 21,
    "start_time": "2022-01-28T10:28:27.896Z"
   },
   {
    "duration": 68,
    "start_time": "2022-01-28T10:28:27.920Z"
   },
   {
    "duration": 19,
    "start_time": "2022-01-28T10:28:27.991Z"
   },
   {
    "duration": 14,
    "start_time": "2022-01-28T10:28:28.013Z"
   },
   {
    "duration": 34,
    "start_time": "2022-01-28T10:28:28.029Z"
   },
   {
    "duration": 23,
    "start_time": "2022-01-28T10:28:28.065Z"
   },
   {
    "duration": 8,
    "start_time": "2022-01-28T10:28:28.090Z"
   },
   {
    "duration": 69,
    "start_time": "2022-01-28T10:28:28.101Z"
   },
   {
    "duration": 5,
    "start_time": "2022-01-28T10:28:28.173Z"
   },
   {
    "duration": 12,
    "start_time": "2022-01-28T10:28:28.180Z"
   },
   {
    "duration": 5,
    "start_time": "2022-01-28T10:28:28.197Z"
   },
   {
    "duration": 11,
    "start_time": "2022-01-28T10:28:28.204Z"
   },
   {
    "duration": 48,
    "start_time": "2022-01-28T10:28:28.218Z"
   },
   {
    "duration": 13,
    "start_time": "2022-01-28T10:28:28.268Z"
   },
   {
    "duration": 6,
    "start_time": "2022-01-28T10:28:28.283Z"
   },
   {
    "duration": 21,
    "start_time": "2022-01-28T10:28:28.291Z"
   },
   {
    "duration": 10,
    "start_time": "2022-01-28T10:28:28.315Z"
   },
   {
    "duration": 11,
    "start_time": "2022-01-28T10:28:28.360Z"
   },
   {
    "duration": 11,
    "start_time": "2022-01-28T10:28:28.374Z"
   },
   {
    "duration": 7,
    "start_time": "2022-01-28T10:28:28.387Z"
   },
   {
    "duration": 12,
    "start_time": "2022-01-28T10:28:28.396Z"
   },
   {
    "duration": 57,
    "start_time": "2022-01-28T10:28:28.411Z"
   },
   {
    "duration": 423,
    "start_time": "2022-01-28T10:28:28.471Z"
   },
   {
    "duration": 10,
    "start_time": "2022-01-28T10:28:28.896Z"
   },
   {
    "duration": 410,
    "start_time": "2022-01-28T10:28:28.908Z"
   },
   {
    "duration": 11,
    "start_time": "2022-01-28T10:28:29.321Z"
   },
   {
    "duration": 398,
    "start_time": "2022-01-28T10:28:29.334Z"
   },
   {
    "duration": 38,
    "start_time": "2022-01-28T10:28:29.734Z"
   },
   {
    "duration": 21,
    "start_time": "2022-01-28T10:28:29.774Z"
   },
   {
    "duration": 447,
    "start_time": "2022-01-28T10:28:29.797Z"
   },
   {
    "duration": 461,
    "start_time": "2022-01-28T10:28:30.247Z"
   },
   {
    "duration": 63,
    "start_time": "2022-01-28T10:28:30.710Z"
   },
   {
    "duration": 13,
    "start_time": "2022-01-28T10:28:30.775Z"
   },
   {
    "duration": 22,
    "start_time": "2022-01-28T10:28:30.790Z"
   },
   {
    "duration": 26,
    "start_time": "2022-01-28T10:28:30.814Z"
   },
   {
    "duration": 21,
    "start_time": "2022-01-28T10:28:30.842Z"
   },
   {
    "duration": 8,
    "start_time": "2022-01-28T10:28:30.866Z"
   },
   {
    "duration": 10,
    "start_time": "2022-01-28T10:28:30.876Z"
   },
   {
    "duration": 5,
    "start_time": "2022-01-28T10:28:30.888Z"
   },
   {
    "duration": 9,
    "start_time": "2022-01-28T10:28:30.896Z"
   },
   {
    "duration": 54,
    "start_time": "2022-01-28T10:28:30.907Z"
   },
   {
    "duration": 7,
    "start_time": "2022-01-28T10:28:30.964Z"
   },
   {
    "duration": 44,
    "start_time": "2022-01-28T11:10:07.612Z"
   },
   {
    "duration": 2023,
    "start_time": "2022-01-28T11:10:26.263Z"
   },
   {
    "duration": 7,
    "start_time": "2022-01-28T11:10:28.289Z"
   },
   {
    "duration": 2784,
    "start_time": "2022-01-28T11:10:28.299Z"
   },
   {
    "duration": 514,
    "start_time": "2022-01-28T11:10:31.086Z"
   },
   {
    "duration": 122,
    "start_time": "2022-01-28T11:10:31.603Z"
   },
   {
    "duration": 9,
    "start_time": "2022-01-28T11:10:31.728Z"
   },
   {
    "duration": 21,
    "start_time": "2022-01-28T11:10:31.740Z"
   },
   {
    "duration": 34,
    "start_time": "2022-01-28T11:10:31.765Z"
   },
   {
    "duration": 30,
    "start_time": "2022-01-28T11:10:31.802Z"
   },
   {
    "duration": 49,
    "start_time": "2022-01-28T11:10:31.834Z"
   },
   {
    "duration": 4,
    "start_time": "2022-01-28T11:10:31.885Z"
   },
   {
    "duration": 22,
    "start_time": "2022-01-28T11:10:31.891Z"
   },
   {
    "duration": 72,
    "start_time": "2022-01-28T11:10:31.916Z"
   },
   {
    "duration": 18,
    "start_time": "2022-01-28T11:10:31.991Z"
   },
   {
    "duration": 66,
    "start_time": "2022-01-28T11:10:32.012Z"
   },
   {
    "duration": 19,
    "start_time": "2022-01-28T11:10:32.081Z"
   },
   {
    "duration": 14,
    "start_time": "2022-01-28T11:10:32.103Z"
   },
   {
    "duration": 45,
    "start_time": "2022-01-28T11:10:32.120Z"
   },
   {
    "duration": 21,
    "start_time": "2022-01-28T11:10:32.168Z"
   },
   {
    "duration": 8,
    "start_time": "2022-01-28T11:10:32.191Z"
   },
   {
    "duration": 69,
    "start_time": "2022-01-28T11:10:32.201Z"
   },
   {
    "duration": 5,
    "start_time": "2022-01-28T11:10:32.272Z"
   },
   {
    "duration": 11,
    "start_time": "2022-01-28T11:10:32.284Z"
   },
   {
    "duration": 5,
    "start_time": "2022-01-28T11:10:32.297Z"
   },
   {
    "duration": 12,
    "start_time": "2022-01-28T11:10:32.304Z"
   },
   {
    "duration": 48,
    "start_time": "2022-01-28T11:10:32.318Z"
   },
   {
    "duration": 13,
    "start_time": "2022-01-28T11:10:32.368Z"
   },
   {
    "duration": 5,
    "start_time": "2022-01-28T11:10:32.384Z"
   },
   {
    "duration": 22,
    "start_time": "2022-01-28T11:10:32.391Z"
   },
   {
    "duration": 44,
    "start_time": "2022-01-28T11:10:32.415Z"
   },
   {
    "duration": 10,
    "start_time": "2022-01-28T11:10:32.461Z"
   },
   {
    "duration": 9,
    "start_time": "2022-01-28T11:10:32.474Z"
   },
   {
    "duration": 8,
    "start_time": "2022-01-28T11:10:32.485Z"
   },
   {
    "duration": 11,
    "start_time": "2022-01-28T11:10:32.496Z"
   },
   {
    "duration": 58,
    "start_time": "2022-01-28T11:10:32.509Z"
   },
   {
    "duration": 434,
    "start_time": "2022-01-28T11:10:32.569Z"
   },
   {
    "duration": 9,
    "start_time": "2022-01-28T11:10:33.006Z"
   },
   {
    "duration": 424,
    "start_time": "2022-01-28T11:10:33.017Z"
   },
   {
    "duration": 19,
    "start_time": "2022-01-28T11:10:33.443Z"
   },
   {
    "duration": 398,
    "start_time": "2022-01-28T11:10:33.465Z"
   },
   {
    "duration": 32,
    "start_time": "2022-01-28T11:10:33.866Z"
   },
   {
    "duration": 24,
    "start_time": "2022-01-28T11:10:33.901Z"
   },
   {
    "duration": 431,
    "start_time": "2022-01-28T11:10:33.959Z"
   },
   {
    "duration": 457,
    "start_time": "2022-01-28T11:10:34.393Z"
   },
   {
    "duration": 46,
    "start_time": "2022-01-28T11:10:34.853Z"
   },
   {
    "duration": 16,
    "start_time": "2022-01-28T11:10:34.902Z"
   },
   {
    "duration": 49,
    "start_time": "2022-01-28T11:10:34.921Z"
   },
   {
    "duration": 10,
    "start_time": "2022-01-28T11:10:34.973Z"
   },
   {
    "duration": 9,
    "start_time": "2022-01-28T11:10:34.985Z"
   },
   {
    "duration": 11,
    "start_time": "2022-01-28T11:10:34.996Z"
   },
   {
    "duration": 52,
    "start_time": "2022-01-28T11:10:35.009Z"
   },
   {
    "duration": 12,
    "start_time": "2022-01-28T11:10:35.063Z"
   },
   {
    "duration": 13,
    "start_time": "2022-01-28T11:10:35.077Z"
   },
   {
    "duration": 15,
    "start_time": "2022-01-28T11:10:35.093Z"
   },
   {
    "duration": 8,
    "start_time": "2022-01-28T11:10:35.111Z"
   },
   {
    "duration": 518,
    "start_time": "2022-01-28T11:14:02.868Z"
   },
   {
    "duration": 1990,
    "start_time": "2022-01-28T11:14:08.125Z"
   },
   {
    "duration": 9,
    "start_time": "2022-01-28T11:14:10.118Z"
   },
   {
    "duration": 2079,
    "start_time": "2022-01-28T11:14:10.131Z"
   },
   {
    "duration": 453,
    "start_time": "2022-01-28T11:14:12.213Z"
   },
   {
    "duration": 109,
    "start_time": "2022-01-28T11:14:12.669Z"
   },
   {
    "duration": 10,
    "start_time": "2022-01-28T11:14:12.781Z"
   },
   {
    "duration": 13,
    "start_time": "2022-01-28T11:14:12.794Z"
   },
   {
    "duration": 65,
    "start_time": "2022-01-28T11:14:12.813Z"
   },
   {
    "duration": 554,
    "start_time": "2022-01-28T11:14:12.882Z"
   },
   {
    "duration": -941,
    "start_time": "2022-01-28T11:14:14.382Z"
   },
   {
    "duration": -953,
    "start_time": "2022-01-28T11:14:14.395Z"
   },
   {
    "duration": -963,
    "start_time": "2022-01-28T11:14:14.406Z"
   },
   {
    "duration": -970,
    "start_time": "2022-01-28T11:14:14.415Z"
   },
   {
    "duration": -980,
    "start_time": "2022-01-28T11:14:14.426Z"
   },
   {
    "duration": -986,
    "start_time": "2022-01-28T11:14:14.434Z"
   },
   {
    "duration": -993,
    "start_time": "2022-01-28T11:14:14.442Z"
   },
   {
    "duration": -999,
    "start_time": "2022-01-28T11:14:14.450Z"
   },
   {
    "duration": -1009,
    "start_time": "2022-01-28T11:14:14.461Z"
   },
   {
    "duration": -1016,
    "start_time": "2022-01-28T11:14:14.470Z"
   },
   {
    "duration": -1026,
    "start_time": "2022-01-28T11:14:14.481Z"
   },
   {
    "duration": -1035,
    "start_time": "2022-01-28T11:14:14.491Z"
   },
   {
    "duration": -1044,
    "start_time": "2022-01-28T11:14:14.502Z"
   },
   {
    "duration": -1053,
    "start_time": "2022-01-28T11:14:14.512Z"
   },
   {
    "duration": -1067,
    "start_time": "2022-01-28T11:14:14.527Z"
   },
   {
    "duration": -1079,
    "start_time": "2022-01-28T11:14:14.540Z"
   },
   {
    "duration": -1089,
    "start_time": "2022-01-28T11:14:14.552Z"
   },
   {
    "duration": -1096,
    "start_time": "2022-01-28T11:14:14.560Z"
   },
   {
    "duration": -1103,
    "start_time": "2022-01-28T11:14:14.568Z"
   },
   {
    "duration": -1110,
    "start_time": "2022-01-28T11:14:14.576Z"
   },
   {
    "duration": -1117,
    "start_time": "2022-01-28T11:14:14.585Z"
   },
   {
    "duration": -1124,
    "start_time": "2022-01-28T11:14:14.593Z"
   },
   {
    "duration": -1133,
    "start_time": "2022-01-28T11:14:14.603Z"
   },
   {
    "duration": -1140,
    "start_time": "2022-01-28T11:14:14.611Z"
   },
   {
    "duration": -1146,
    "start_time": "2022-01-28T11:14:14.619Z"
   },
   {
    "duration": -1152,
    "start_time": "2022-01-28T11:14:14.626Z"
   },
   {
    "duration": -1159,
    "start_time": "2022-01-28T11:14:14.634Z"
   },
   {
    "duration": -1165,
    "start_time": "2022-01-28T11:14:14.642Z"
   },
   {
    "duration": -1171,
    "start_time": "2022-01-28T11:14:14.649Z"
   },
   {
    "duration": -1177,
    "start_time": "2022-01-28T11:14:14.656Z"
   },
   {
    "duration": -1183,
    "start_time": "2022-01-28T11:14:14.664Z"
   },
   {
    "duration": -1189,
    "start_time": "2022-01-28T11:14:14.671Z"
   },
   {
    "duration": -1195,
    "start_time": "2022-01-28T11:14:14.679Z"
   },
   {
    "duration": -1200,
    "start_time": "2022-01-28T11:14:14.685Z"
   },
   {
    "duration": -1208,
    "start_time": "2022-01-28T11:14:14.694Z"
   },
   {
    "duration": -1213,
    "start_time": "2022-01-28T11:14:14.701Z"
   },
   {
    "duration": -1220,
    "start_time": "2022-01-28T11:14:14.709Z"
   },
   {
    "duration": -1225,
    "start_time": "2022-01-28T11:14:14.715Z"
   },
   {
    "duration": -1232,
    "start_time": "2022-01-28T11:14:14.723Z"
   },
   {
    "duration": -1237,
    "start_time": "2022-01-28T11:14:14.730Z"
   },
   {
    "duration": -1244,
    "start_time": "2022-01-28T11:14:14.738Z"
   },
   {
    "duration": -1248,
    "start_time": "2022-01-28T11:14:14.744Z"
   },
   {
    "duration": -1256,
    "start_time": "2022-01-28T11:14:14.753Z"
   },
   {
    "duration": -1263,
    "start_time": "2022-01-28T11:14:14.761Z"
   },
   {
    "duration": -1211,
    "start_time": "2022-01-28T11:14:14.770Z"
   },
   {
    "duration": -1217,
    "start_time": "2022-01-28T11:14:14.777Z"
   },
   {
    "duration": -1223,
    "start_time": "2022-01-28T11:14:14.785Z"
   },
   {
    "duration": 139,
    "start_time": "2022-01-28T11:17:54.383Z"
   },
   {
    "duration": 5,
    "start_time": "2022-01-28T11:18:02.826Z"
   },
   {
    "duration": 531,
    "start_time": "2022-01-28T11:18:33.903Z"
   },
   {
    "duration": 6,
    "start_time": "2022-01-28T11:19:40.252Z"
   },
   {
    "duration": 559,
    "start_time": "2022-01-28T11:19:41.776Z"
   },
   {
    "duration": 7,
    "start_time": "2022-01-28T11:22:19.505Z"
   },
   {
    "duration": 22,
    "start_time": "2022-01-28T11:23:18.229Z"
   },
   {
    "duration": 7,
    "start_time": "2022-01-28T11:27:36.832Z"
   },
   {
    "duration": 18,
    "start_time": "2022-01-28T11:27:59.566Z"
   },
   {
    "duration": 568,
    "start_time": "2022-01-28T11:29:17.829Z"
   },
   {
    "duration": 17,
    "start_time": "2022-01-28T11:29:45.563Z"
   },
   {
    "duration": 32,
    "start_time": "2022-01-28T11:39:10.767Z"
   },
   {
    "duration": 29,
    "start_time": "2022-01-28T11:39:14.250Z"
   },
   {
    "duration": 4,
    "start_time": "2022-01-28T11:39:17.135Z"
   },
   {
    "duration": 22,
    "start_time": "2022-01-28T11:39:18.628Z"
   },
   {
    "duration": 12,
    "start_time": "2022-01-28T11:39:30.973Z"
   },
   {
    "duration": 39,
    "start_time": "2022-01-28T11:39:34.699Z"
   },
   {
    "duration": 20,
    "start_time": "2022-01-28T11:39:35.952Z"
   },
   {
    "duration": 11,
    "start_time": "2022-01-28T11:39:42.322Z"
   },
   {
    "duration": 69,
    "start_time": "2022-01-28T11:39:55.197Z"
   },
   {
    "duration": 10,
    "start_time": "2022-01-28T11:39:56.201Z"
   },
   {
    "duration": 12,
    "start_time": "2022-01-28T11:40:08.174Z"
   },
   {
    "duration": 8,
    "start_time": "2022-01-28T11:40:11.699Z"
   },
   {
    "duration": 13,
    "start_time": "2022-01-28T11:40:12.664Z"
   },
   {
    "duration": 9,
    "start_time": "2022-01-28T11:40:17.767Z"
   },
   {
    "duration": 30,
    "start_time": "2022-01-28T11:40:19.202Z"
   },
   {
    "duration": 6,
    "start_time": "2022-01-28T11:40:30.032Z"
   },
   {
    "duration": 13,
    "start_time": "2022-01-28T11:40:31.546Z"
   },
   {
    "duration": 6,
    "start_time": "2022-01-28T11:40:32.774Z"
   },
   {
    "duration": 11,
    "start_time": "2022-01-28T11:40:39.135Z"
   },
   {
    "duration": 10,
    "start_time": "2022-01-28T11:40:41.096Z"
   },
   {
    "duration": 13,
    "start_time": "2022-01-28T11:40:42.470Z"
   },
   {
    "duration": 6,
    "start_time": "2022-01-28T11:40:47.196Z"
   },
   {
    "duration": 19,
    "start_time": "2022-01-28T11:40:47.911Z"
   },
   {
    "duration": 10,
    "start_time": "2022-01-28T11:40:54.866Z"
   },
   {
    "duration": 10,
    "start_time": "2022-01-28T11:41:00.270Z"
   },
   {
    "duration": 10,
    "start_time": "2022-01-28T11:41:02.598Z"
   },
   {
    "duration": 6,
    "start_time": "2022-01-28T11:41:04.091Z"
   },
   {
    "duration": 13,
    "start_time": "2022-01-28T11:45:30.880Z"
   },
   {
    "duration": 22,
    "start_time": "2022-01-28T11:45:31.841Z"
   },
   {
    "duration": 11,
    "start_time": "2022-01-28T11:45:42.719Z"
   },
   {
    "duration": 399,
    "start_time": "2022-01-28T11:45:50.813Z"
   },
   {
    "duration": 10,
    "start_time": "2022-01-28T11:45:59.585Z"
   },
   {
    "duration": 473,
    "start_time": "2022-01-28T11:46:00.338Z"
   },
   {
    "duration": 11,
    "start_time": "2022-01-28T11:46:05.002Z"
   },
   {
    "duration": 393,
    "start_time": "2022-01-28T11:46:05.921Z"
   },
   {
    "duration": 26,
    "start_time": "2022-01-28T11:46:08.863Z"
   },
   {
    "duration": 26,
    "start_time": "2022-01-28T11:46:10.277Z"
   },
   {
    "duration": 23,
    "start_time": "2022-01-28T11:46:22.204Z"
   },
   {
    "duration": 423,
    "start_time": "2022-01-28T11:46:29.567Z"
   },
   {
    "duration": 431,
    "start_time": "2022-01-28T11:46:32.143Z"
   },
   {
    "duration": 45,
    "start_time": "2022-01-28T11:46:39.847Z"
   },
   {
    "duration": 14,
    "start_time": "2022-01-28T11:46:42.486Z"
   },
   {
    "duration": 13,
    "start_time": "2022-01-28T11:46:47.113Z"
   },
   {
    "duration": 9,
    "start_time": "2022-01-28T12:42:25.975Z"
   },
   {
    "duration": 9,
    "start_time": "2022-01-28T12:42:27.420Z"
   },
   {
    "duration": 7,
    "start_time": "2022-01-28T12:42:35.201Z"
   },
   {
    "duration": 8,
    "start_time": "2022-01-28T12:46:07.838Z"
   },
   {
    "duration": 4,
    "start_time": "2022-01-28T12:46:12.503Z"
   },
   {
    "duration": 7,
    "start_time": "2022-01-28T12:46:14.524Z"
   },
   {
    "duration": 9,
    "start_time": "2022-01-28T12:47:41.104Z"
   },
   {
    "duration": 8,
    "start_time": "2022-01-28T12:47:43.669Z"
   },
   {
    "duration": 3,
    "start_time": "2022-01-28T13:17:17.077Z"
   },
   {
    "duration": 1980,
    "start_time": "2022-01-28T13:25:28.451Z"
   },
   {
    "duration": 7,
    "start_time": "2022-01-28T13:25:30.434Z"
   },
   {
    "duration": 1210,
    "start_time": "2022-01-28T13:25:30.445Z"
   },
   {
    "duration": 515,
    "start_time": "2022-01-28T13:25:31.658Z"
   },
   {
    "duration": 116,
    "start_time": "2022-01-28T13:25:32.175Z"
   },
   {
    "duration": 9,
    "start_time": "2022-01-28T13:25:32.293Z"
   },
   {
    "duration": 13,
    "start_time": "2022-01-28T13:25:32.305Z"
   },
   {
    "duration": 5,
    "start_time": "2022-01-28T13:25:32.322Z"
   },
   {
    "duration": 605,
    "start_time": "2022-01-28T13:25:32.330Z"
   },
   {
    "duration": 22,
    "start_time": "2022-01-28T13:25:32.937Z"
   },
   {
    "duration": 8,
    "start_time": "2022-01-28T13:25:32.962Z"
   },
   {
    "duration": 20,
    "start_time": "2022-01-28T13:25:32.972Z"
   },
   {
    "duration": 607,
    "start_time": "2022-01-28T13:25:32.994Z"
   },
   {
    "duration": 18,
    "start_time": "2022-01-28T13:25:33.604Z"
   },
   {
    "duration": 59,
    "start_time": "2022-01-28T13:25:33.625Z"
   },
   {
    "duration": 28,
    "start_time": "2022-01-28T13:25:33.687Z"
   },
   {
    "duration": 4,
    "start_time": "2022-01-28T13:25:33.717Z"
   },
   {
    "duration": 40,
    "start_time": "2022-01-28T13:25:33.724Z"
   },
   {
    "duration": 39,
    "start_time": "2022-01-28T13:25:33.767Z"
   },
   {
    "duration": 21,
    "start_time": "2022-01-28T13:25:33.808Z"
   },
   {
    "duration": 57,
    "start_time": "2022-01-28T13:25:33.832Z"
   },
   {
    "duration": 11,
    "start_time": "2022-01-28T13:25:33.891Z"
   },
   {
    "duration": 13,
    "start_time": "2022-01-28T13:25:33.909Z"
   },
   {
    "duration": 38,
    "start_time": "2022-01-28T13:25:33.925Z"
   },
   {
    "duration": 12,
    "start_time": "2022-01-28T13:25:33.966Z"
   },
   {
    "duration": 9,
    "start_time": "2022-01-28T13:25:33.981Z"
   },
   {
    "duration": 29,
    "start_time": "2022-01-28T13:25:33.992Z"
   },
   {
    "duration": 5,
    "start_time": "2022-01-28T13:25:34.060Z"
   },
   {
    "duration": 14,
    "start_time": "2022-01-28T13:25:34.067Z"
   },
   {
    "duration": 4,
    "start_time": "2022-01-28T13:25:34.084Z"
   },
   {
    "duration": 12,
    "start_time": "2022-01-28T13:25:34.091Z"
   },
   {
    "duration": 12,
    "start_time": "2022-01-28T13:25:34.105Z"
   },
   {
    "duration": 50,
    "start_time": "2022-01-28T13:25:34.119Z"
   },
   {
    "duration": 6,
    "start_time": "2022-01-28T13:25:34.171Z"
   },
   {
    "duration": 22,
    "start_time": "2022-01-28T13:25:34.179Z"
   },
   {
    "duration": 13,
    "start_time": "2022-01-28T13:25:34.204Z"
   },
   {
    "duration": 46,
    "start_time": "2022-01-28T13:25:34.221Z"
   },
   {
    "duration": 11,
    "start_time": "2022-01-28T13:25:34.270Z"
   },
   {
    "duration": 7,
    "start_time": "2022-01-28T13:25:34.283Z"
   },
   {
    "duration": 11,
    "start_time": "2022-01-28T13:25:34.292Z"
   },
   {
    "duration": 12,
    "start_time": "2022-01-28T13:25:34.305Z"
   },
   {
    "duration": 459,
    "start_time": "2022-01-28T13:25:34.319Z"
   },
   {
    "duration": 10,
    "start_time": "2022-01-28T13:25:34.781Z"
   },
   {
    "duration": 411,
    "start_time": "2022-01-28T13:25:34.794Z"
   },
   {
    "duration": 10,
    "start_time": "2022-01-28T13:25:35.208Z"
   },
   {
    "duration": 495,
    "start_time": "2022-01-28T13:25:35.221Z"
   },
   {
    "duration": 44,
    "start_time": "2022-01-28T13:25:35.718Z"
   },
   {
    "duration": 22,
    "start_time": "2022-01-28T13:25:35.764Z"
   },
   {
    "duration": 474,
    "start_time": "2022-01-28T13:25:35.789Z"
   },
   {
    "duration": 458,
    "start_time": "2022-01-28T13:25:36.265Z"
   },
   {
    "duration": 58,
    "start_time": "2022-01-28T13:25:36.726Z"
   },
   {
    "duration": 15,
    "start_time": "2022-01-28T13:25:36.786Z"
   },
   {
    "duration": 13,
    "start_time": "2022-01-28T13:25:36.803Z"
   },
   {
    "duration": 46,
    "start_time": "2022-01-28T13:25:36.819Z"
   },
   {
    "duration": 10,
    "start_time": "2022-01-28T13:25:36.868Z"
   },
   {
    "duration": 8,
    "start_time": "2022-01-28T13:25:36.881Z"
   },
   {
    "duration": 9,
    "start_time": "2022-01-28T13:25:36.892Z"
   },
   {
    "duration": 56,
    "start_time": "2022-01-28T13:25:36.904Z"
   },
   {
    "duration": 8,
    "start_time": "2022-01-28T13:25:36.963Z"
   },
   {
    "duration": 11,
    "start_time": "2022-01-28T13:25:36.974Z"
   },
   {
    "duration": 9,
    "start_time": "2022-01-28T13:25:36.988Z"
   },
   {
    "duration": 2028,
    "start_time": "2022-01-28T13:28:32.535Z"
   },
   {
    "duration": 7,
    "start_time": "2022-01-28T13:28:34.565Z"
   },
   {
    "duration": 1206,
    "start_time": "2022-01-28T13:28:34.575Z"
   },
   {
    "duration": 502,
    "start_time": "2022-01-28T13:28:35.784Z"
   },
   {
    "duration": 120,
    "start_time": "2022-01-28T13:28:36.288Z"
   },
   {
    "duration": 9,
    "start_time": "2022-01-28T13:28:36.411Z"
   },
   {
    "duration": 13,
    "start_time": "2022-01-28T13:28:36.422Z"
   },
   {
    "duration": 4,
    "start_time": "2022-01-28T13:28:36.460Z"
   },
   {
    "duration": 581,
    "start_time": "2022-01-28T13:28:36.467Z"
   },
   {
    "duration": 12,
    "start_time": "2022-01-28T13:28:37.051Z"
   },
   {
    "duration": 9,
    "start_time": "2022-01-28T13:28:37.065Z"
   },
   {
    "duration": 24,
    "start_time": "2022-01-28T13:28:37.077Z"
   },
   {
    "duration": 958,
    "start_time": "2022-01-28T13:28:37.104Z"
   },
   {
    "duration": 20,
    "start_time": "2022-01-28T13:28:38.065Z"
   },
   {
    "duration": 33,
    "start_time": "2022-01-28T13:28:38.088Z"
   },
   {
    "duration": 61,
    "start_time": "2022-01-28T13:28:38.124Z"
   },
   {
    "duration": 4,
    "start_time": "2022-01-28T13:28:38.188Z"
   },
   {
    "duration": 26,
    "start_time": "2022-01-28T13:28:38.194Z"
   },
   {
    "duration": 61,
    "start_time": "2022-01-28T13:28:38.222Z"
   },
   {
    "duration": 11,
    "start_time": "2022-01-28T13:28:38.286Z"
   },
   {
    "duration": 59,
    "start_time": "2022-01-28T13:28:38.300Z"
   },
   {
    "duration": 12,
    "start_time": "2022-01-28T13:28:38.362Z"
   },
   {
    "duration": 15,
    "start_time": "2022-01-28T13:28:38.383Z"
   },
   {
    "duration": 12,
    "start_time": "2022-01-28T13:28:38.402Z"
   },
   {
    "duration": 50,
    "start_time": "2022-01-28T13:28:38.417Z"
   },
   {
    "duration": 12,
    "start_time": "2022-01-28T13:28:38.470Z"
   },
   {
    "duration": 35,
    "start_time": "2022-01-28T13:28:38.484Z"
   },
   {
    "duration": 40,
    "start_time": "2022-01-28T13:28:38.522Z"
   },
   {
    "duration": 14,
    "start_time": "2022-01-28T13:28:38.565Z"
   },
   {
    "duration": 12,
    "start_time": "2022-01-28T13:28:38.582Z"
   },
   {
    "duration": 26,
    "start_time": "2022-01-28T13:28:38.596Z"
   },
   {
    "duration": 17,
    "start_time": "2022-01-28T13:28:38.624Z"
   },
   {
    "duration": 28,
    "start_time": "2022-01-28T13:28:38.643Z"
   },
   {
    "duration": 9,
    "start_time": "2022-01-28T13:28:38.673Z"
   },
   {
    "duration": 22,
    "start_time": "2022-01-28T13:28:38.684Z"
   },
   {
    "duration": 50,
    "start_time": "2022-01-28T13:28:38.709Z"
   },
   {
    "duration": 11,
    "start_time": "2022-01-28T13:28:38.762Z"
   },
   {
    "duration": 12,
    "start_time": "2022-01-28T13:28:38.776Z"
   },
   {
    "duration": 8,
    "start_time": "2022-01-28T13:28:38.791Z"
   },
   {
    "duration": 14,
    "start_time": "2022-01-28T13:28:38.801Z"
   },
   {
    "duration": 49,
    "start_time": "2022-01-28T13:28:38.817Z"
   },
   {
    "duration": 431,
    "start_time": "2022-01-28T13:28:38.869Z"
   },
   {
    "duration": 12,
    "start_time": "2022-01-28T13:28:39.303Z"
   },
   {
    "duration": 414,
    "start_time": "2022-01-28T13:28:39.319Z"
   },
   {
    "duration": 25,
    "start_time": "2022-01-28T13:28:39.736Z"
   },
   {
    "duration": 687,
    "start_time": "2022-01-28T13:28:39.764Z"
   },
   {
    "duration": 34,
    "start_time": "2022-01-28T13:28:40.458Z"
   },
   {
    "duration": 28,
    "start_time": "2022-01-28T13:28:40.495Z"
   },
   {
    "duration": 475,
    "start_time": "2022-01-28T13:28:40.526Z"
   },
   {
    "duration": 467,
    "start_time": "2022-01-28T13:28:41.004Z"
   },
   {
    "duration": 48,
    "start_time": "2022-01-28T13:28:41.473Z"
   },
   {
    "duration": 38,
    "start_time": "2022-01-28T13:28:41.524Z"
   },
   {
    "duration": 19,
    "start_time": "2022-01-28T13:28:41.564Z"
   },
   {
    "duration": 12,
    "start_time": "2022-01-28T13:28:41.585Z"
   },
   {
    "duration": 8,
    "start_time": "2022-01-28T13:28:41.600Z"
   },
   {
    "duration": 51,
    "start_time": "2022-01-28T13:28:41.610Z"
   },
   {
    "duration": 8,
    "start_time": "2022-01-28T13:28:41.664Z"
   },
   {
    "duration": 5,
    "start_time": "2022-01-28T13:28:41.674Z"
   },
   {
    "duration": 7,
    "start_time": "2022-01-28T13:28:41.682Z"
   },
   {
    "duration": 10,
    "start_time": "2022-01-28T13:28:41.691Z"
   },
   {
    "duration": 6,
    "start_time": "2022-01-28T13:28:41.704Z"
   },
   {
    "duration": 2603,
    "start_time": "2022-02-06T09:01:27.145Z"
   },
   {
    "duration": 5,
    "start_time": "2022-02-06T09:01:29.749Z"
   },
   {
    "duration": 810,
    "start_time": "2022-02-06T09:01:29.756Z"
   },
   {
    "duration": 351,
    "start_time": "2022-02-06T09:01:30.569Z"
   },
   {
    "duration": 71,
    "start_time": "2022-02-06T09:01:30.921Z"
   },
   {
    "duration": 7,
    "start_time": "2022-02-06T09:01:30.994Z"
   },
   {
    "duration": 29,
    "start_time": "2022-02-06T09:01:31.002Z"
   },
   {
    "duration": 7,
    "start_time": "2022-02-06T09:01:31.033Z"
   },
   {
    "duration": 380,
    "start_time": "2022-02-06T09:01:31.042Z"
   },
   {
    "duration": 5,
    "start_time": "2022-02-06T09:01:31.423Z"
   },
   {
    "duration": 5,
    "start_time": "2022-02-06T09:01:31.429Z"
   },
   {
    "duration": 18,
    "start_time": "2022-02-06T09:01:31.435Z"
   },
   {
    "duration": 440,
    "start_time": "2022-02-06T09:01:31.454Z"
   },
   {
    "duration": 13,
    "start_time": "2022-02-06T09:01:31.895Z"
   },
   {
    "duration": 65,
    "start_time": "2022-02-06T09:01:31.909Z"
   },
   {
    "duration": 21,
    "start_time": "2022-02-06T09:01:31.976Z"
   },
   {
    "duration": 3,
    "start_time": "2022-02-06T09:01:31.998Z"
   },
   {
    "duration": 10,
    "start_time": "2022-02-06T09:01:32.003Z"
   },
   {
    "duration": 71,
    "start_time": "2022-02-06T09:01:32.015Z"
   },
   {
    "duration": 6,
    "start_time": "2022-02-06T09:01:32.088Z"
   },
   {
    "duration": 71,
    "start_time": "2022-02-06T09:01:32.095Z"
   },
   {
    "duration": 7,
    "start_time": "2022-02-06T09:01:32.168Z"
   },
   {
    "duration": 9,
    "start_time": "2022-02-06T09:01:32.179Z"
   },
   {
    "duration": 6,
    "start_time": "2022-02-06T09:01:32.190Z"
   },
   {
    "duration": 11,
    "start_time": "2022-02-06T09:01:32.198Z"
   },
   {
    "duration": 7,
    "start_time": "2022-02-06T09:01:32.210Z"
   },
   {
    "duration": 44,
    "start_time": "2022-02-06T09:01:32.219Z"
   },
   {
    "duration": 4,
    "start_time": "2022-02-06T09:01:32.265Z"
   },
   {
    "duration": 14,
    "start_time": "2022-02-06T09:01:32.270Z"
   },
   {
    "duration": 18,
    "start_time": "2022-02-06T09:01:32.285Z"
   },
   {
    "duration": 28,
    "start_time": "2022-02-06T09:01:32.304Z"
   },
   {
    "duration": 18,
    "start_time": "2022-02-06T09:01:32.334Z"
   },
   {
    "duration": 10,
    "start_time": "2022-02-06T09:01:32.354Z"
   },
   {
    "duration": 6,
    "start_time": "2022-02-06T09:01:32.366Z"
   },
   {
    "duration": 15,
    "start_time": "2022-02-06T09:01:32.374Z"
   },
   {
    "duration": 12,
    "start_time": "2022-02-06T09:01:32.391Z"
   },
   {
    "duration": 14,
    "start_time": "2022-02-06T09:01:32.404Z"
   },
   {
    "duration": 9,
    "start_time": "2022-02-06T09:01:32.419Z"
   },
   {
    "duration": 8,
    "start_time": "2022-02-06T09:01:32.429Z"
   },
   {
    "duration": 14,
    "start_time": "2022-02-06T09:01:32.438Z"
   },
   {
    "duration": 13,
    "start_time": "2022-02-06T09:01:32.453Z"
   },
   {
    "duration": 243,
    "start_time": "2022-02-06T09:01:32.467Z"
   },
   {
    "duration": 8,
    "start_time": "2022-02-06T09:01:32.712Z"
   },
   {
    "duration": 241,
    "start_time": "2022-02-06T09:01:32.722Z"
   },
   {
    "duration": 8,
    "start_time": "2022-02-06T09:01:32.965Z"
   },
   {
    "duration": 335,
    "start_time": "2022-02-06T09:01:32.975Z"
   },
   {
    "duration": 18,
    "start_time": "2022-02-06T09:01:33.312Z"
   },
   {
    "duration": 30,
    "start_time": "2022-02-06T09:01:33.332Z"
   },
   {
    "duration": 263,
    "start_time": "2022-02-06T09:01:33.364Z"
   },
   {
    "duration": 267,
    "start_time": "2022-02-06T09:01:33.629Z"
   },
   {
    "duration": 27,
    "start_time": "2022-02-06T09:01:33.898Z"
   },
   {
    "duration": 11,
    "start_time": "2022-02-06T09:01:33.927Z"
   },
   {
    "duration": 8,
    "start_time": "2022-02-06T09:01:33.960Z"
   },
   {
    "duration": 8,
    "start_time": "2022-02-06T09:01:33.970Z"
   },
   {
    "duration": 11,
    "start_time": "2022-02-06T09:01:33.980Z"
   },
   {
    "duration": 8,
    "start_time": "2022-02-06T09:01:33.992Z"
   },
   {
    "duration": 7,
    "start_time": "2022-02-06T09:01:34.001Z"
   },
   {
    "duration": 5,
    "start_time": "2022-02-06T09:01:34.010Z"
   },
   {
    "duration": 7,
    "start_time": "2022-02-06T09:01:34.016Z"
   },
   {
    "duration": 39,
    "start_time": "2022-02-06T09:01:34.025Z"
   },
   {
    "duration": 5,
    "start_time": "2022-02-06T09:01:34.065Z"
   },
   {
    "duration": 23,
    "start_time": "2022-02-06T09:04:53.436Z"
   },
   {
    "duration": 33,
    "start_time": "2022-02-06T09:06:23.341Z"
   },
   {
    "duration": 1873,
    "start_time": "2022-02-07T10:41:27.010Z"
   },
   {
    "duration": 8,
    "start_time": "2022-02-07T10:41:28.886Z"
   },
   {
    "duration": 1148,
    "start_time": "2022-02-07T10:41:28.900Z"
   },
   {
    "duration": 498,
    "start_time": "2022-02-07T10:41:30.051Z"
   },
   {
    "duration": 119,
    "start_time": "2022-02-07T10:41:30.552Z"
   },
   {
    "duration": 10,
    "start_time": "2022-02-07T10:41:30.673Z"
   },
   {
    "duration": 18,
    "start_time": "2022-02-07T10:41:30.687Z"
   },
   {
    "duration": 6,
    "start_time": "2022-02-07T10:41:30.708Z"
   },
   {
    "duration": 733,
    "start_time": "2022-02-07T10:41:30.732Z"
   },
   {
    "duration": 6,
    "start_time": "2022-02-07T10:41:31.468Z"
   },
   {
    "duration": 8,
    "start_time": "2022-02-07T10:41:31.477Z"
   },
   {
    "duration": 51,
    "start_time": "2022-02-07T10:41:31.487Z"
   },
   {
    "duration": 563,
    "start_time": "2022-02-07T10:41:31.540Z"
   },
   {
    "duration": 31,
    "start_time": "2022-02-07T10:41:32.106Z"
   },
   {
    "duration": 31,
    "start_time": "2022-02-07T10:41:32.140Z"
   },
   {
    "duration": 31,
    "start_time": "2022-02-07T10:41:32.173Z"
   },
   {
    "duration": 26,
    "start_time": "2022-02-07T10:41:32.206Z"
   },
   {
    "duration": 20,
    "start_time": "2022-02-07T10:41:32.234Z"
   },
   {
    "duration": 38,
    "start_time": "2022-02-07T10:41:32.257Z"
   },
   {
    "duration": 49,
    "start_time": "2022-02-07T10:41:32.297Z"
   },
   {
    "duration": 42,
    "start_time": "2022-02-07T10:41:32.349Z"
   },
   {
    "duration": 38,
    "start_time": "2022-02-07T10:41:32.399Z"
   },
   {
    "duration": 16,
    "start_time": "2022-02-07T10:41:32.441Z"
   },
   {
    "duration": 13,
    "start_time": "2022-02-07T10:41:32.460Z"
   },
   {
    "duration": 28,
    "start_time": "2022-02-07T10:41:32.475Z"
   },
   {
    "duration": 8,
    "start_time": "2022-02-07T10:41:32.532Z"
   },
   {
    "duration": 31,
    "start_time": "2022-02-07T10:41:32.542Z"
   },
   {
    "duration": 6,
    "start_time": "2022-02-07T10:41:32.576Z"
   },
   {
    "duration": 54,
    "start_time": "2022-02-07T10:41:32.585Z"
   },
   {
    "duration": 8,
    "start_time": "2022-02-07T10:41:32.642Z"
   },
   {
    "duration": 16,
    "start_time": "2022-02-07T10:41:32.652Z"
   },
   {
    "duration": 10,
    "start_time": "2022-02-07T10:41:32.670Z"
   },
   {
    "duration": 11,
    "start_time": "2022-02-07T10:41:32.683Z"
   },
   {
    "duration": 38,
    "start_time": "2022-02-07T10:41:32.697Z"
   },
   {
    "duration": 22,
    "start_time": "2022-02-07T10:41:32.737Z"
   },
   {
    "duration": 10,
    "start_time": "2022-02-07T10:41:32.761Z"
   },
   {
    "duration": 10,
    "start_time": "2022-02-07T10:41:32.773Z"
   },
   {
    "duration": 47,
    "start_time": "2022-02-07T10:41:32.785Z"
   },
   {
    "duration": 6,
    "start_time": "2022-02-07T10:41:32.834Z"
   },
   {
    "duration": 15,
    "start_time": "2022-02-07T10:41:32.842Z"
   },
   {
    "duration": 11,
    "start_time": "2022-02-07T10:41:32.859Z"
   },
   {
    "duration": 420,
    "start_time": "2022-02-07T10:41:32.872Z"
   },
   {
    "duration": 9,
    "start_time": "2022-02-07T10:41:33.294Z"
   },
   {
    "duration": 385,
    "start_time": "2022-02-07T10:41:33.305Z"
   },
   {
    "duration": 9,
    "start_time": "2022-02-07T10:41:33.693Z"
   },
   {
    "duration": 455,
    "start_time": "2022-02-07T10:41:33.704Z"
   },
   {
    "duration": 27,
    "start_time": "2022-02-07T10:41:34.161Z"
   },
   {
    "duration": 43,
    "start_time": "2022-02-07T10:41:34.190Z"
   },
   {
    "duration": 439,
    "start_time": "2022-02-07T10:41:34.235Z"
   },
   {
    "duration": 451,
    "start_time": "2022-02-07T10:41:34.676Z"
   },
   {
    "duration": 47,
    "start_time": "2022-02-07T10:41:35.133Z"
   },
   {
    "duration": 17,
    "start_time": "2022-02-07T10:41:35.182Z"
   },
   {
    "duration": 37,
    "start_time": "2022-02-07T10:41:35.201Z"
   },
   {
    "duration": 13,
    "start_time": "2022-02-07T10:41:35.241Z"
   },
   {
    "duration": 8,
    "start_time": "2022-02-07T10:41:35.256Z"
   },
   {
    "duration": 8,
    "start_time": "2022-02-07T10:41:35.267Z"
   },
   {
    "duration": 10,
    "start_time": "2022-02-07T10:41:35.277Z"
   },
   {
    "duration": 42,
    "start_time": "2022-02-07T10:41:35.290Z"
   },
   {
    "duration": 7,
    "start_time": "2022-02-07T10:41:35.335Z"
   },
   {
    "duration": 23,
    "start_time": "2022-02-07T10:41:35.344Z"
   },
   {
    "duration": 24,
    "start_time": "2022-02-07T10:41:35.369Z"
   },
   {
    "duration": 1890,
    "start_time": "2022-02-07T10:48:44.091Z"
   },
   {
    "duration": 7,
    "start_time": "2022-02-07T10:48:45.984Z"
   },
   {
    "duration": 1309,
    "start_time": "2022-02-07T10:48:45.994Z"
   },
   {
    "duration": 564,
    "start_time": "2022-02-07T10:48:47.306Z"
   },
   {
    "duration": 123,
    "start_time": "2022-02-07T10:48:47.872Z"
   },
   {
    "duration": 11,
    "start_time": "2022-02-07T10:48:47.997Z"
   },
   {
    "duration": 24,
    "start_time": "2022-02-07T10:48:48.011Z"
   },
   {
    "duration": 6,
    "start_time": "2022-02-07T10:48:48.040Z"
   },
   {
    "duration": 588,
    "start_time": "2022-02-07T10:48:48.049Z"
   },
   {
    "duration": 7,
    "start_time": "2022-02-07T10:48:48.639Z"
   },
   {
    "duration": 7,
    "start_time": "2022-02-07T10:48:48.648Z"
   },
   {
    "duration": 21,
    "start_time": "2022-02-07T10:48:48.657Z"
   },
   {
    "duration": 598,
    "start_time": "2022-02-07T10:48:48.680Z"
   },
   {
    "duration": 17,
    "start_time": "2022-02-07T10:48:49.281Z"
   },
   {
    "duration": 51,
    "start_time": "2022-02-07T10:48:49.300Z"
   },
   {
    "duration": 29,
    "start_time": "2022-02-07T10:48:49.354Z"
   },
   {
    "duration": 4,
    "start_time": "2022-02-07T10:48:49.386Z"
   },
   {
    "duration": 45,
    "start_time": "2022-02-07T10:48:49.392Z"
   },
   {
    "duration": 43,
    "start_time": "2022-02-07T10:48:49.440Z"
   },
   {
    "duration": 18,
    "start_time": "2022-02-07T10:48:49.486Z"
   },
   {
    "duration": 61,
    "start_time": "2022-02-07T10:48:49.506Z"
   },
   {
    "duration": 19,
    "start_time": "2022-02-07T10:48:49.570Z"
   },
   {
    "duration": 43,
    "start_time": "2022-02-07T10:48:49.595Z"
   },
   {
    "duration": 11,
    "start_time": "2022-02-07T10:48:49.641Z"
   },
   {
    "duration": 21,
    "start_time": "2022-02-07T10:48:49.654Z"
   },
   {
    "duration": 8,
    "start_time": "2022-02-07T10:48:49.678Z"
   },
   {
    "duration": 64,
    "start_time": "2022-02-07T10:48:49.689Z"
   },
   {
    "duration": 5,
    "start_time": "2022-02-07T10:48:49.755Z"
   },
   {
    "duration": 14,
    "start_time": "2022-02-07T10:48:49.762Z"
   },
   {
    "duration": 5,
    "start_time": "2022-02-07T10:48:49.778Z"
   },
   {
    "duration": 49,
    "start_time": "2022-02-07T10:48:49.786Z"
   },
   {
    "duration": 11,
    "start_time": "2022-02-07T10:48:49.837Z"
   },
   {
    "duration": 11,
    "start_time": "2022-02-07T10:48:49.851Z"
   },
   {
    "duration": 6,
    "start_time": "2022-02-07T10:48:49.865Z"
   },
   {
    "duration": 23,
    "start_time": "2022-02-07T10:48:49.873Z"
   },
   {
    "duration": 41,
    "start_time": "2022-02-07T10:48:49.899Z"
   },
   {
    "duration": 14,
    "start_time": "2022-02-07T10:48:49.942Z"
   },
   {
    "duration": 16,
    "start_time": "2022-02-07T10:48:49.958Z"
   },
   {
    "duration": 9,
    "start_time": "2022-02-07T10:48:49.976Z"
   },
   {
    "duration": 21,
    "start_time": "2022-02-07T10:48:49.987Z"
   },
   {
    "duration": 29,
    "start_time": "2022-02-07T10:48:50.011Z"
   },
   {
    "duration": 431,
    "start_time": "2022-02-07T10:48:50.043Z"
   },
   {
    "duration": 9,
    "start_time": "2022-02-07T10:48:50.477Z"
   },
   {
    "duration": 408,
    "start_time": "2022-02-07T10:48:50.488Z"
   },
   {
    "duration": 10,
    "start_time": "2022-02-07T10:48:50.898Z"
   },
   {
    "duration": 485,
    "start_time": "2022-02-07T10:48:50.910Z"
   },
   {
    "duration": 37,
    "start_time": "2022-02-07T10:48:51.397Z"
   },
   {
    "duration": 22,
    "start_time": "2022-02-07T10:48:51.436Z"
   },
   {
    "duration": 447,
    "start_time": "2022-02-07T10:48:51.460Z"
   },
   {
    "duration": 460,
    "start_time": "2022-02-07T10:48:51.909Z"
   },
   {
    "duration": 64,
    "start_time": "2022-02-07T10:48:52.373Z"
   },
   {
    "duration": 14,
    "start_time": "2022-02-07T10:48:52.440Z"
   },
   {
    "duration": 16,
    "start_time": "2022-02-07T10:48:52.457Z"
   },
   {
    "duration": 14,
    "start_time": "2022-02-07T10:48:52.475Z"
   },
   {
    "duration": 45,
    "start_time": "2022-02-07T10:48:52.491Z"
   },
   {
    "duration": 9,
    "start_time": "2022-02-07T10:48:52.539Z"
   },
   {
    "duration": 9,
    "start_time": "2022-02-07T10:48:52.551Z"
   },
   {
    "duration": 5,
    "start_time": "2022-02-07T10:48:52.563Z"
   },
   {
    "duration": 8,
    "start_time": "2022-02-07T10:48:52.570Z"
   },
   {
    "duration": 59,
    "start_time": "2022-02-07T10:48:52.580Z"
   },
   {
    "duration": 10,
    "start_time": "2022-02-07T10:48:52.642Z"
   },
   {
    "duration": 1850,
    "start_time": "2022-02-07T11:00:01.375Z"
   },
   {
    "duration": 8,
    "start_time": "2022-02-07T11:00:03.229Z"
   },
   {
    "duration": 984,
    "start_time": "2022-02-07T11:00:03.242Z"
   },
   {
    "duration": 468,
    "start_time": "2022-02-07T11:00:04.229Z"
   },
   {
    "duration": 118,
    "start_time": "2022-02-07T11:00:04.699Z"
   },
   {
    "duration": 18,
    "start_time": "2022-02-07T11:00:04.820Z"
   },
   {
    "duration": 10,
    "start_time": "2022-02-07T11:00:04.844Z"
   },
   {
    "duration": 6,
    "start_time": "2022-02-07T11:00:04.858Z"
   },
   {
    "duration": 593,
    "start_time": "2022-02-07T11:00:04.867Z"
   },
   {
    "duration": 6,
    "start_time": "2022-02-07T11:00:05.462Z"
   },
   {
    "duration": 21,
    "start_time": "2022-02-07T11:00:05.470Z"
   },
   {
    "duration": 38,
    "start_time": "2022-02-07T11:00:05.493Z"
   },
   {
    "duration": 555,
    "start_time": "2022-02-07T11:00:05.534Z"
   },
   {
    "duration": 16,
    "start_time": "2022-02-07T11:00:06.091Z"
   },
   {
    "duration": 56,
    "start_time": "2022-02-07T11:00:06.110Z"
   },
   {
    "duration": 27,
    "start_time": "2022-02-07T11:00:06.168Z"
   },
   {
    "duration": 4,
    "start_time": "2022-02-07T11:00:06.198Z"
   },
   {
    "duration": 39,
    "start_time": "2022-02-07T11:00:06.204Z"
   },
   {
    "duration": 44,
    "start_time": "2022-02-07T11:00:06.246Z"
   },
   {
    "duration": 17,
    "start_time": "2022-02-07T11:00:06.292Z"
   },
   {
    "duration": 99,
    "start_time": "2022-02-07T11:00:06.311Z"
   },
   {
    "duration": 17,
    "start_time": "2022-02-07T11:00:06.416Z"
   },
   {
    "duration": 24,
    "start_time": "2022-02-07T11:00:06.436Z"
   },
   {
    "duration": 39,
    "start_time": "2022-02-07T11:00:06.462Z"
   },
   {
    "duration": 31,
    "start_time": "2022-02-07T11:00:06.504Z"
   },
   {
    "duration": 13,
    "start_time": "2022-02-07T11:00:06.537Z"
   },
   {
    "duration": 82,
    "start_time": "2022-02-07T11:00:06.553Z"
   },
   {
    "duration": 5,
    "start_time": "2022-02-07T11:00:06.637Z"
   },
   {
    "duration": 477,
    "start_time": "2022-02-07T11:00:06.644Z"
   },
   {
    "duration": -21,
    "start_time": "2022-02-07T11:00:07.144Z"
   },
   {
    "duration": -32,
    "start_time": "2022-02-07T11:00:07.157Z"
   },
   {
    "duration": -37,
    "start_time": "2022-02-07T11:00:07.163Z"
   },
   {
    "duration": -48,
    "start_time": "2022-02-07T11:00:07.175Z"
   },
   {
    "duration": -51,
    "start_time": "2022-02-07T11:00:07.180Z"
   },
   {
    "duration": -63,
    "start_time": "2022-02-07T11:00:07.193Z"
   },
   {
    "duration": -75,
    "start_time": "2022-02-07T11:00:07.206Z"
   },
   {
    "duration": -77,
    "start_time": "2022-02-07T11:00:07.210Z"
   },
   {
    "duration": -89,
    "start_time": "2022-02-07T11:00:07.223Z"
   },
   {
    "duration": -93,
    "start_time": "2022-02-07T11:00:07.228Z"
   },
   {
    "duration": -105,
    "start_time": "2022-02-07T11:00:07.242Z"
   },
   {
    "duration": -109,
    "start_time": "2022-02-07T11:00:07.247Z"
   },
   {
    "duration": -121,
    "start_time": "2022-02-07T11:00:07.260Z"
   },
   {
    "duration": -132,
    "start_time": "2022-02-07T11:00:07.273Z"
   },
   {
    "duration": -137,
    "start_time": "2022-02-07T11:00:07.279Z"
   },
   {
    "duration": -149,
    "start_time": "2022-02-07T11:00:07.292Z"
   },
   {
    "duration": -153,
    "start_time": "2022-02-07T11:00:07.297Z"
   },
   {
    "duration": -155,
    "start_time": "2022-02-07T11:00:07.301Z"
   },
   {
    "duration": -159,
    "start_time": "2022-02-07T11:00:07.306Z"
   },
   {
    "duration": -162,
    "start_time": "2022-02-07T11:00:07.311Z"
   },
   {
    "duration": -166,
    "start_time": "2022-02-07T11:00:07.316Z"
   },
   {
    "duration": -170,
    "start_time": "2022-02-07T11:00:07.321Z"
   },
   {
    "duration": -172,
    "start_time": "2022-02-07T11:00:07.325Z"
   },
   {
    "duration": -175,
    "start_time": "2022-02-07T11:00:07.329Z"
   },
   {
    "duration": -178,
    "start_time": "2022-02-07T11:00:07.333Z"
   },
   {
    "duration": -181,
    "start_time": "2022-02-07T11:00:07.337Z"
   },
   {
    "duration": -183,
    "start_time": "2022-02-07T11:00:07.341Z"
   },
   {
    "duration": -192,
    "start_time": "2022-02-07T11:00:07.351Z"
   },
   {
    "duration": -195,
    "start_time": "2022-02-07T11:00:07.356Z"
   },
   {
    "duration": -197,
    "start_time": "2022-02-07T11:00:07.359Z"
   },
   {
    "duration": -201,
    "start_time": "2022-02-07T11:00:07.364Z"
   },
   {
    "duration": -203,
    "start_time": "2022-02-07T11:00:07.367Z"
   },
   {
    "duration": -206,
    "start_time": "2022-02-07T11:00:07.372Z"
   },
   {
    "duration": 1902,
    "start_time": "2022-02-07T11:03:49.016Z"
   },
   {
    "duration": 7,
    "start_time": "2022-02-07T11:03:50.921Z"
   },
   {
    "duration": 838,
    "start_time": "2022-02-07T11:03:50.932Z"
   },
   {
    "duration": 464,
    "start_time": "2022-02-07T11:03:51.773Z"
   },
   {
    "duration": 98,
    "start_time": "2022-02-07T11:03:52.239Z"
   },
   {
    "duration": 9,
    "start_time": "2022-02-07T11:03:52.340Z"
   },
   {
    "duration": 13,
    "start_time": "2022-02-07T11:03:52.351Z"
   },
   {
    "duration": 5,
    "start_time": "2022-02-07T11:03:52.368Z"
   },
   {
    "duration": 694,
    "start_time": "2022-02-07T11:03:52.376Z"
   },
   {
    "duration": 6,
    "start_time": "2022-02-07T11:03:53.073Z"
   },
   {
    "duration": 12,
    "start_time": "2022-02-07T11:03:53.082Z"
   },
   {
    "duration": 50,
    "start_time": "2022-02-07T11:03:53.097Z"
   },
   {
    "duration": 568,
    "start_time": "2022-02-07T11:03:53.150Z"
   },
   {
    "duration": 26,
    "start_time": "2022-02-07T11:03:53.721Z"
   },
   {
    "duration": 30,
    "start_time": "2022-02-07T11:03:53.750Z"
   },
   {
    "duration": 53,
    "start_time": "2022-02-07T11:03:53.782Z"
   },
   {
    "duration": 4,
    "start_time": "2022-02-07T11:03:53.839Z"
   },
   {
    "duration": 108,
    "start_time": "2022-02-07T11:03:53.856Z"
   },
   {
    "duration": 39,
    "start_time": "2022-02-07T11:03:53.967Z"
   },
   {
    "duration": 18,
    "start_time": "2022-02-07T11:03:54.009Z"
   },
   {
    "duration": 39,
    "start_time": "2022-02-07T11:03:54.033Z"
   },
   {
    "duration": 18,
    "start_time": "2022-02-07T11:03:54.075Z"
   },
   {
    "duration": 44,
    "start_time": "2022-02-07T11:03:54.099Z"
   },
   {
    "duration": 14,
    "start_time": "2022-02-07T11:03:54.147Z"
   },
   {
    "duration": 22,
    "start_time": "2022-02-07T11:03:54.163Z"
   },
   {
    "duration": 49,
    "start_time": "2022-02-07T11:03:54.188Z"
   },
   {
    "duration": 35,
    "start_time": "2022-02-07T11:03:54.240Z"
   },
   {
    "duration": 6,
    "start_time": "2022-02-07T11:03:54.277Z"
   },
   {
    "duration": 426,
    "start_time": "2022-02-07T11:03:54.285Z"
   },
   {
    "duration": -276,
    "start_time": "2022-02-07T11:03:54.989Z"
   },
   {
    "duration": -283,
    "start_time": "2022-02-07T11:03:54.998Z"
   },
   {
    "duration": -285,
    "start_time": "2022-02-07T11:03:55.002Z"
   },
   {
    "duration": -294,
    "start_time": "2022-02-07T11:03:55.013Z"
   },
   {
    "duration": -296,
    "start_time": "2022-02-07T11:03:55.017Z"
   },
   {
    "duration": -301,
    "start_time": "2022-02-07T11:03:55.023Z"
   },
   {
    "duration": -308,
    "start_time": "2022-02-07T11:03:55.032Z"
   },
   {
    "duration": -311,
    "start_time": "2022-02-07T11:03:55.037Z"
   },
   {
    "duration": -320,
    "start_time": "2022-02-07T11:03:55.047Z"
   },
   {
    "duration": -322,
    "start_time": "2022-02-07T11:03:55.051Z"
   },
   {
    "duration": -333,
    "start_time": "2022-02-07T11:03:55.063Z"
   },
   {
    "duration": -335,
    "start_time": "2022-02-07T11:03:55.067Z"
   },
   {
    "duration": -340,
    "start_time": "2022-02-07T11:03:55.074Z"
   },
   {
    "duration": -343,
    "start_time": "2022-02-07T11:03:55.078Z"
   },
   {
    "duration": -345,
    "start_time": "2022-02-07T11:03:55.082Z"
   },
   {
    "duration": -348,
    "start_time": "2022-02-07T11:03:55.087Z"
   },
   {
    "duration": -353,
    "start_time": "2022-02-07T11:03:55.093Z"
   },
   {
    "duration": -356,
    "start_time": "2022-02-07T11:03:55.098Z"
   },
   {
    "duration": -360,
    "start_time": "2022-02-07T11:03:55.104Z"
   },
   {
    "duration": -362,
    "start_time": "2022-02-07T11:03:55.107Z"
   },
   {
    "duration": -365,
    "start_time": "2022-02-07T11:03:55.112Z"
   },
   {
    "duration": -367,
    "start_time": "2022-02-07T11:03:55.115Z"
   },
   {
    "duration": -370,
    "start_time": "2022-02-07T11:03:55.120Z"
   },
   {
    "duration": -372,
    "start_time": "2022-02-07T11:03:55.124Z"
   },
   {
    "duration": -375,
    "start_time": "2022-02-07T11:03:55.128Z"
   },
   {
    "duration": -377,
    "start_time": "2022-02-07T11:03:55.132Z"
   },
   {
    "duration": -380,
    "start_time": "2022-02-07T11:03:55.136Z"
   },
   {
    "duration": -382,
    "start_time": "2022-02-07T11:03:55.140Z"
   },
   {
    "duration": -384,
    "start_time": "2022-02-07T11:03:55.144Z"
   },
   {
    "duration": -386,
    "start_time": "2022-02-07T11:03:55.147Z"
   },
   {
    "duration": -389,
    "start_time": "2022-02-07T11:03:55.152Z"
   },
   {
    "duration": -392,
    "start_time": "2022-02-07T11:03:55.156Z"
   },
   {
    "duration": -394,
    "start_time": "2022-02-07T11:03:55.160Z"
   },
   {
    "duration": 8,
    "start_time": "2022-02-07T11:08:18.979Z"
   },
   {
    "duration": 27,
    "start_time": "2022-02-07T11:08:26.859Z"
   },
   {
    "duration": 1768,
    "start_time": "2022-02-07T11:09:19.783Z"
   },
   {
    "duration": 7,
    "start_time": "2022-02-07T11:09:21.553Z"
   },
   {
    "duration": 1116,
    "start_time": "2022-02-07T11:09:21.563Z"
   },
   {
    "duration": 459,
    "start_time": "2022-02-07T11:09:22.682Z"
   },
   {
    "duration": 108,
    "start_time": "2022-02-07T11:09:23.143Z"
   },
   {
    "duration": 11,
    "start_time": "2022-02-07T11:09:23.254Z"
   },
   {
    "duration": 14,
    "start_time": "2022-02-07T11:09:23.268Z"
   },
   {
    "duration": 5,
    "start_time": "2022-02-07T11:09:23.285Z"
   },
   {
    "duration": 564,
    "start_time": "2022-02-07T11:09:23.294Z"
   },
   {
    "duration": 8,
    "start_time": "2022-02-07T11:09:23.861Z"
   },
   {
    "duration": 9,
    "start_time": "2022-02-07T11:09:23.872Z"
   },
   {
    "duration": 52,
    "start_time": "2022-02-07T11:09:23.883Z"
   },
   {
    "duration": 560,
    "start_time": "2022-02-07T11:09:23.937Z"
   },
   {
    "duration": 32,
    "start_time": "2022-02-07T11:09:24.500Z"
   },
   {
    "duration": 32,
    "start_time": "2022-02-07T11:09:24.534Z"
   },
   {
    "duration": 28,
    "start_time": "2022-02-07T11:09:24.569Z"
   },
   {
    "duration": 3,
    "start_time": "2022-02-07T11:09:24.600Z"
   },
   {
    "duration": 23,
    "start_time": "2022-02-07T11:09:24.632Z"
   },
   {
    "duration": 43,
    "start_time": "2022-02-07T11:09:24.657Z"
   },
   {
    "duration": 38,
    "start_time": "2022-02-07T11:09:24.702Z"
   },
   {
    "duration": 41,
    "start_time": "2022-02-07T11:09:24.743Z"
   },
   {
    "duration": 17,
    "start_time": "2022-02-07T11:09:24.787Z"
   },
   {
    "duration": 16,
    "start_time": "2022-02-07T11:09:24.835Z"
   },
   {
    "duration": 14,
    "start_time": "2022-02-07T11:09:24.854Z"
   },
   {
    "duration": 21,
    "start_time": "2022-02-07T11:09:24.871Z"
   },
   {
    "duration": 48,
    "start_time": "2022-02-07T11:09:24.894Z"
   },
   {
    "duration": 29,
    "start_time": "2022-02-07T11:09:24.945Z"
   },
   {
    "duration": 7,
    "start_time": "2022-02-07T11:09:24.976Z"
   },
   {
    "duration": 14,
    "start_time": "2022-02-07T11:09:24.985Z"
   },
   {
    "duration": 35,
    "start_time": "2022-02-07T11:09:25.001Z"
   },
   {
    "duration": 17,
    "start_time": "2022-02-07T11:09:25.038Z"
   },
   {
    "duration": 10,
    "start_time": "2022-02-07T11:09:25.057Z"
   },
   {
    "duration": 11,
    "start_time": "2022-02-07T11:09:25.069Z"
   },
   {
    "duration": 5,
    "start_time": "2022-02-07T11:09:25.083Z"
   },
   {
    "duration": 57,
    "start_time": "2022-02-07T11:09:25.091Z"
   },
   {
    "duration": 11,
    "start_time": "2022-02-07T11:09:25.151Z"
   },
   {
    "duration": 11,
    "start_time": "2022-02-07T11:09:25.165Z"
   },
   {
    "duration": 9,
    "start_time": "2022-02-07T11:09:25.178Z"
   },
   {
    "duration": 7,
    "start_time": "2022-02-07T11:09:25.189Z"
   },
   {
    "duration": 40,
    "start_time": "2022-02-07T11:09:25.198Z"
   },
   {
    "duration": 11,
    "start_time": "2022-02-07T11:09:25.240Z"
   },
   {
    "duration": 408,
    "start_time": "2022-02-07T11:09:25.253Z"
   },
   {
    "duration": 12,
    "start_time": "2022-02-07T11:09:25.663Z"
   },
   {
    "duration": 393,
    "start_time": "2022-02-07T11:09:25.677Z"
   },
   {
    "duration": 10,
    "start_time": "2022-02-07T11:09:26.072Z"
   },
   {
    "duration": 459,
    "start_time": "2022-02-07T11:09:26.084Z"
   },
   {
    "duration": 25,
    "start_time": "2022-02-07T11:09:26.545Z"
   },
   {
    "duration": 20,
    "start_time": "2022-02-07T11:09:26.573Z"
   },
   {
    "duration": 439,
    "start_time": "2022-02-07T11:09:26.596Z"
   },
   {
    "duration": 457,
    "start_time": "2022-02-07T11:09:27.037Z"
   },
   {
    "duration": 54,
    "start_time": "2022-02-07T11:09:27.497Z"
   },
   {
    "duration": 13,
    "start_time": "2022-02-07T11:09:27.554Z"
   },
   {
    "duration": 13,
    "start_time": "2022-02-07T11:09:27.569Z"
   },
   {
    "duration": 13,
    "start_time": "2022-02-07T11:09:27.584Z"
   },
   {
    "duration": 37,
    "start_time": "2022-02-07T11:09:27.599Z"
   },
   {
    "duration": 6,
    "start_time": "2022-02-07T11:09:27.639Z"
   },
   {
    "duration": 12,
    "start_time": "2022-02-07T11:09:27.647Z"
   },
   {
    "duration": 10,
    "start_time": "2022-02-07T11:09:27.661Z"
   },
   {
    "duration": 11,
    "start_time": "2022-02-07T11:09:27.673Z"
   },
   {
    "duration": 17,
    "start_time": "2022-02-07T11:09:27.686Z"
   },
   {
    "duration": 30,
    "start_time": "2022-02-07T11:09:27.705Z"
   },
   {
    "duration": 1850,
    "start_time": "2022-02-07T11:15:50.987Z"
   },
   {
    "duration": 8,
    "start_time": "2022-02-07T11:15:52.839Z"
   },
   {
    "duration": 993,
    "start_time": "2022-02-07T11:15:52.850Z"
   },
   {
    "duration": 492,
    "start_time": "2022-02-07T11:15:53.846Z"
   },
   {
    "duration": 107,
    "start_time": "2022-02-07T11:15:54.341Z"
   },
   {
    "duration": 10,
    "start_time": "2022-02-07T11:15:54.450Z"
   },
   {
    "duration": 14,
    "start_time": "2022-02-07T11:15:54.464Z"
   },
   {
    "duration": 5,
    "start_time": "2022-02-07T11:15:54.483Z"
   },
   {
    "duration": 610,
    "start_time": "2022-02-07T11:15:54.492Z"
   },
   {
    "duration": 8,
    "start_time": "2022-02-07T11:15:55.105Z"
   },
   {
    "duration": 20,
    "start_time": "2022-02-07T11:15:55.116Z"
   },
   {
    "duration": 22,
    "start_time": "2022-02-07T11:15:55.139Z"
   },
   {
    "duration": 583,
    "start_time": "2022-02-07T11:15:55.164Z"
   },
   {
    "duration": 19,
    "start_time": "2022-02-07T11:15:55.750Z"
   },
   {
    "duration": 60,
    "start_time": "2022-02-07T11:15:55.772Z"
   },
   {
    "duration": 28,
    "start_time": "2022-02-07T11:15:55.834Z"
   },
   {
    "duration": 4,
    "start_time": "2022-02-07T11:15:55.865Z"
   },
   {
    "duration": 24,
    "start_time": "2022-02-07T11:15:55.872Z"
   },
   {
    "duration": 63,
    "start_time": "2022-02-07T11:15:55.898Z"
   },
   {
    "duration": 19,
    "start_time": "2022-02-07T11:15:55.963Z"
   },
   {
    "duration": 64,
    "start_time": "2022-02-07T11:15:55.984Z"
   },
   {
    "duration": 19,
    "start_time": "2022-02-07T11:15:56.051Z"
   },
   {
    "duration": 16,
    "start_time": "2022-02-07T11:15:56.076Z"
   },
   {
    "duration": 47,
    "start_time": "2022-02-07T11:15:56.095Z"
   },
   {
    "duration": 24,
    "start_time": "2022-02-07T11:15:56.145Z"
   },
   {
    "duration": 13,
    "start_time": "2022-02-07T11:15:56.172Z"
   },
   {
    "duration": 59,
    "start_time": "2022-02-07T11:15:56.187Z"
   },
   {
    "duration": 7,
    "start_time": "2022-02-07T11:15:56.248Z"
   },
   {
    "duration": 12,
    "start_time": "2022-02-07T11:15:56.257Z"
   },
   {
    "duration": 4,
    "start_time": "2022-02-07T11:15:56.272Z"
   },
   {
    "duration": 16,
    "start_time": "2022-02-07T11:15:56.278Z"
   },
   {
    "duration": 45,
    "start_time": "2022-02-07T11:15:56.296Z"
   },
   {
    "duration": 12,
    "start_time": "2022-02-07T11:15:56.343Z"
   },
   {
    "duration": 5,
    "start_time": "2022-02-07T11:15:56.358Z"
   },
   {
    "duration": 21,
    "start_time": "2022-02-07T11:15:56.366Z"
   },
   {
    "duration": 10,
    "start_time": "2022-02-07T11:15:56.389Z"
   },
   {
    "duration": 9,
    "start_time": "2022-02-07T11:15:56.433Z"
   },
   {
    "duration": 10,
    "start_time": "2022-02-07T11:15:56.445Z"
   },
   {
    "duration": 7,
    "start_time": "2022-02-07T11:15:56.458Z"
   },
   {
    "duration": 18,
    "start_time": "2022-02-07T11:15:56.468Z"
   },
   {
    "duration": 11,
    "start_time": "2022-02-07T11:15:56.489Z"
   },
   {
    "duration": 423,
    "start_time": "2022-02-07T11:15:56.503Z"
   },
   {
    "duration": 9,
    "start_time": "2022-02-07T11:15:56.932Z"
   },
   {
    "duration": 421,
    "start_time": "2022-02-07T11:15:56.944Z"
   },
   {
    "duration": 10,
    "start_time": "2022-02-07T11:15:57.367Z"
   },
   {
    "duration": 577,
    "start_time": "2022-02-07T11:15:57.380Z"
   },
   {
    "duration": 24,
    "start_time": "2022-02-07T11:15:57.960Z"
   },
   {
    "duration": 23,
    "start_time": "2022-02-07T11:15:57.986Z"
   },
   {
    "duration": 551,
    "start_time": "2022-02-07T11:15:58.011Z"
   },
   {
    "duration": 553,
    "start_time": "2022-02-07T11:15:58.564Z"
   },
   {
    "duration": 51,
    "start_time": "2022-02-07T11:15:59.120Z"
   },
   {
    "duration": 14,
    "start_time": "2022-02-07T11:15:59.173Z"
   },
   {
    "duration": 12,
    "start_time": "2022-02-07T11:15:59.189Z"
   },
   {
    "duration": 41,
    "start_time": "2022-02-07T11:15:59.203Z"
   },
   {
    "duration": 9,
    "start_time": "2022-02-07T11:15:59.246Z"
   },
   {
    "duration": 8,
    "start_time": "2022-02-07T11:15:59.258Z"
   },
   {
    "duration": 10,
    "start_time": "2022-02-07T11:15:59.268Z"
   },
   {
    "duration": 6,
    "start_time": "2022-02-07T11:15:59.280Z"
   },
   {
    "duration": 8,
    "start_time": "2022-02-07T11:15:59.288Z"
   },
   {
    "duration": 464,
    "start_time": "2022-02-07T11:15:59.298Z"
   },
   {
    "duration": -25,
    "start_time": "2022-02-07T11:15:59.789Z"
   },
   {
    "duration": -27,
    "start_time": "2022-02-07T11:15:59.793Z"
   },
   {
    "duration": 40,
    "start_time": "2022-02-07T11:16:10.976Z"
   },
   {
    "duration": 9,
    "start_time": "2022-02-07T11:16:58.600Z"
   },
   {
    "duration": 8,
    "start_time": "2022-02-07T11:17:00.135Z"
   },
   {
    "duration": 2059,
    "start_time": "2022-02-07T11:19:53.564Z"
   },
   {
    "duration": 7,
    "start_time": "2022-02-07T11:19:55.626Z"
   },
   {
    "duration": 1320,
    "start_time": "2022-02-07T11:19:55.636Z"
   },
   {
    "duration": 496,
    "start_time": "2022-02-07T11:19:56.959Z"
   },
   {
    "duration": 119,
    "start_time": "2022-02-07T11:19:57.458Z"
   },
   {
    "duration": 11,
    "start_time": "2022-02-07T11:19:57.580Z"
   },
   {
    "duration": 14,
    "start_time": "2022-02-07T11:19:57.594Z"
   },
   {
    "duration": 21,
    "start_time": "2022-02-07T11:19:57.613Z"
   },
   {
    "duration": 598,
    "start_time": "2022-02-07T11:19:57.639Z"
   },
   {
    "duration": 7,
    "start_time": "2022-02-07T11:19:58.240Z"
   },
   {
    "duration": 8,
    "start_time": "2022-02-07T11:19:58.250Z"
   },
   {
    "duration": 21,
    "start_time": "2022-02-07T11:19:58.261Z"
   },
   {
    "duration": 615,
    "start_time": "2022-02-07T11:19:58.285Z"
   },
   {
    "duration": 32,
    "start_time": "2022-02-07T11:19:58.903Z"
   },
   {
    "duration": 32,
    "start_time": "2022-02-07T11:19:58.938Z"
   },
   {
    "duration": 27,
    "start_time": "2022-02-07T11:19:58.973Z"
   },
   {
    "duration": 3,
    "start_time": "2022-02-07T11:19:59.002Z"
   },
   {
    "duration": 43,
    "start_time": "2022-02-07T11:19:59.008Z"
   },
   {
    "duration": 38,
    "start_time": "2022-02-07T11:19:59.053Z"
   },
   {
    "duration": 42,
    "start_time": "2022-02-07T11:19:59.093Z"
   },
   {
    "duration": 38,
    "start_time": "2022-02-07T11:19:59.138Z"
   },
   {
    "duration": 18,
    "start_time": "2022-02-07T11:19:59.178Z"
   },
   {
    "duration": 16,
    "start_time": "2022-02-07T11:19:59.233Z"
   },
   {
    "duration": 15,
    "start_time": "2022-02-07T11:19:59.253Z"
   },
   {
    "duration": 64,
    "start_time": "2022-02-07T11:19:59.270Z"
   },
   {
    "duration": 16,
    "start_time": "2022-02-07T11:19:59.337Z"
   },
   {
    "duration": 33,
    "start_time": "2022-02-07T11:19:59.355Z"
   },
   {
    "duration": 48,
    "start_time": "2022-02-07T11:19:59.390Z"
   },
   {
    "duration": 14,
    "start_time": "2022-02-07T11:19:59.440Z"
   },
   {
    "duration": 5,
    "start_time": "2022-02-07T11:19:59.456Z"
   },
   {
    "duration": 16,
    "start_time": "2022-02-07T11:19:59.463Z"
   },
   {
    "duration": 10,
    "start_time": "2022-02-07T11:19:59.481Z"
   },
   {
    "duration": 44,
    "start_time": "2022-02-07T11:19:59.493Z"
   },
   {
    "duration": 5,
    "start_time": "2022-02-07T11:19:59.539Z"
   },
   {
    "duration": 27,
    "start_time": "2022-02-07T11:19:59.546Z"
   },
   {
    "duration": 10,
    "start_time": "2022-02-07T11:19:59.575Z"
   },
   {
    "duration": 12,
    "start_time": "2022-02-07T11:19:59.587Z"
   },
   {
    "duration": 38,
    "start_time": "2022-02-07T11:19:59.601Z"
   },
   {
    "duration": 7,
    "start_time": "2022-02-07T11:19:59.642Z"
   },
   {
    "duration": 16,
    "start_time": "2022-02-07T11:19:59.651Z"
   },
   {
    "duration": 12,
    "start_time": "2022-02-07T11:19:59.669Z"
   },
   {
    "duration": 444,
    "start_time": "2022-02-07T11:19:59.683Z"
   },
   {
    "duration": 10,
    "start_time": "2022-02-07T11:20:00.130Z"
   },
   {
    "duration": 406,
    "start_time": "2022-02-07T11:20:00.142Z"
   },
   {
    "duration": 10,
    "start_time": "2022-02-07T11:20:00.551Z"
   },
   {
    "duration": 485,
    "start_time": "2022-02-07T11:20:00.564Z"
   },
   {
    "duration": 24,
    "start_time": "2022-02-07T11:20:01.052Z"
   },
   {
    "duration": 21,
    "start_time": "2022-02-07T11:20:01.079Z"
   },
   {
    "duration": 459,
    "start_time": "2022-02-07T11:20:01.103Z"
   },
   {
    "duration": 458,
    "start_time": "2022-02-07T11:20:01.564Z"
   },
   {
    "duration": 43,
    "start_time": "2022-02-07T11:20:02.033Z"
   },
   {
    "duration": 15,
    "start_time": "2022-02-07T11:20:02.078Z"
   },
   {
    "duration": 57,
    "start_time": "2022-02-07T11:20:02.095Z"
   },
   {
    "duration": 30,
    "start_time": "2022-02-07T11:20:02.155Z"
   },
   {
    "duration": 25,
    "start_time": "2022-02-07T11:20:02.187Z"
   },
   {
    "duration": 11,
    "start_time": "2022-02-07T11:20:02.214Z"
   },
   {
    "duration": 22,
    "start_time": "2022-02-07T11:20:02.228Z"
   },
   {
    "duration": 18,
    "start_time": "2022-02-07T11:20:02.252Z"
   },
   {
    "duration": 43,
    "start_time": "2022-02-07T11:20:02.272Z"
   },
   {
    "duration": 45,
    "start_time": "2022-02-07T11:20:02.318Z"
   },
   {
    "duration": 15,
    "start_time": "2022-02-07T11:20:02.365Z"
   },
   {
    "duration": 1807,
    "start_time": "2022-02-07T11:21:23.672Z"
   },
   {
    "duration": 8,
    "start_time": "2022-02-07T11:21:25.481Z"
   },
   {
    "duration": 891,
    "start_time": "2022-02-07T11:21:25.492Z"
   },
   {
    "duration": 453,
    "start_time": "2022-02-07T11:21:26.387Z"
   },
   {
    "duration": 110,
    "start_time": "2022-02-07T11:21:26.843Z"
   },
   {
    "duration": 10,
    "start_time": "2022-02-07T11:21:26.955Z"
   },
   {
    "duration": 14,
    "start_time": "2022-02-07T11:21:26.968Z"
   },
   {
    "duration": 6,
    "start_time": "2022-02-07T11:21:26.986Z"
   },
   {
    "duration": 695,
    "start_time": "2022-02-07T11:21:26.996Z"
   },
   {
    "duration": 6,
    "start_time": "2022-02-07T11:21:27.693Z"
   },
   {
    "duration": 6,
    "start_time": "2022-02-07T11:21:27.702Z"
   },
   {
    "duration": 38,
    "start_time": "2022-02-07T11:21:27.711Z"
   },
   {
    "duration": 577,
    "start_time": "2022-02-07T11:21:27.752Z"
   },
   {
    "duration": 18,
    "start_time": "2022-02-07T11:21:28.333Z"
   },
   {
    "duration": 32,
    "start_time": "2022-02-07T11:21:28.354Z"
   },
   {
    "duration": 65,
    "start_time": "2022-02-07T11:21:28.389Z"
   },
   {
    "duration": 4,
    "start_time": "2022-02-07T11:21:28.456Z"
   },
   {
    "duration": 22,
    "start_time": "2022-02-07T11:21:28.463Z"
   },
   {
    "duration": 62,
    "start_time": "2022-02-07T11:21:28.487Z"
   },
   {
    "duration": 15,
    "start_time": "2022-02-07T11:21:28.552Z"
   },
   {
    "duration": 38,
    "start_time": "2022-02-07T11:21:28.570Z"
   },
   {
    "duration": 37,
    "start_time": "2022-02-07T11:21:28.611Z"
   },
   {
    "duration": 15,
    "start_time": "2022-02-07T11:21:28.653Z"
   },
   {
    "duration": 13,
    "start_time": "2022-02-07T11:21:28.671Z"
   },
   {
    "duration": 55,
    "start_time": "2022-02-07T11:21:28.686Z"
   },
   {
    "duration": 17,
    "start_time": "2022-02-07T11:21:28.743Z"
   },
   {
    "duration": 30,
    "start_time": "2022-02-07T11:21:28.762Z"
   },
   {
    "duration": 40,
    "start_time": "2022-02-07T11:21:28.794Z"
   },
   {
    "duration": 12,
    "start_time": "2022-02-07T11:21:28.836Z"
   },
   {
    "duration": 4,
    "start_time": "2022-02-07T11:21:28.850Z"
   },
   {
    "duration": 17,
    "start_time": "2022-02-07T11:21:28.856Z"
   },
   {
    "duration": 10,
    "start_time": "2022-02-07T11:21:28.876Z"
   },
   {
    "duration": 44,
    "start_time": "2022-02-07T11:21:28.889Z"
   },
   {
    "duration": 7,
    "start_time": "2022-02-07T11:21:28.936Z"
   },
   {
    "duration": 23,
    "start_time": "2022-02-07T11:21:28.945Z"
   },
   {
    "duration": 10,
    "start_time": "2022-02-07T11:21:28.971Z"
   },
   {
    "duration": 10,
    "start_time": "2022-02-07T11:21:28.983Z"
   },
   {
    "duration": 44,
    "start_time": "2022-02-07T11:21:28.995Z"
   },
   {
    "duration": 7,
    "start_time": "2022-02-07T11:21:29.041Z"
   },
   {
    "duration": 13,
    "start_time": "2022-02-07T11:21:29.050Z"
   },
   {
    "duration": 12,
    "start_time": "2022-02-07T11:21:29.066Z"
   },
   {
    "duration": 416,
    "start_time": "2022-02-07T11:21:29.080Z"
   },
   {
    "duration": 9,
    "start_time": "2022-02-07T11:21:29.498Z"
   },
   {
    "duration": 402,
    "start_time": "2022-02-07T11:21:29.509Z"
   },
   {
    "duration": 18,
    "start_time": "2022-02-07T11:21:29.914Z"
   },
   {
    "duration": 478,
    "start_time": "2022-02-07T11:21:29.934Z"
   },
   {
    "duration": 37,
    "start_time": "2022-02-07T11:21:30.414Z"
   },
   {
    "duration": 22,
    "start_time": "2022-02-07T11:21:30.454Z"
   },
   {
    "duration": 457,
    "start_time": "2022-02-07T11:21:30.479Z"
   },
   {
    "duration": 457,
    "start_time": "2022-02-07T11:21:30.938Z"
   },
   {
    "duration": 59,
    "start_time": "2022-02-07T11:21:31.397Z"
   },
   {
    "duration": 12,
    "start_time": "2022-02-07T11:21:31.458Z"
   },
   {
    "duration": 21,
    "start_time": "2022-02-07T11:21:31.473Z"
   },
   {
    "duration": 37,
    "start_time": "2022-02-07T11:21:31.496Z"
   },
   {
    "duration": 33,
    "start_time": "2022-02-07T11:21:31.535Z"
   },
   {
    "duration": 15,
    "start_time": "2022-02-07T11:21:31.571Z"
   },
   {
    "duration": 17,
    "start_time": "2022-02-07T11:21:31.588Z"
   },
   {
    "duration": 7,
    "start_time": "2022-02-07T11:21:31.608Z"
   },
   {
    "duration": 23,
    "start_time": "2022-02-07T11:21:31.618Z"
   },
   {
    "duration": 18,
    "start_time": "2022-02-07T11:21:31.644Z"
   },
   {
    "duration": 10,
    "start_time": "2022-02-07T11:21:31.665Z"
   },
   {
    "duration": 1147,
    "start_time": "2022-03-17T20:01:25.264Z"
   },
   {
    "duration": 5,
    "start_time": "2022-03-17T20:01:26.413Z"
   },
   {
    "duration": 2368,
    "start_time": "2022-03-17T20:01:26.419Z"
   },
   {
    "duration": 323,
    "start_time": "2022-03-17T20:01:28.789Z"
   },
   {
    "duration": 85,
    "start_time": "2022-03-17T20:01:29.114Z"
   },
   {
    "duration": 7,
    "start_time": "2022-03-17T20:01:29.200Z"
   },
   {
    "duration": 10,
    "start_time": "2022-03-17T20:01:29.208Z"
   },
   {
    "duration": 17,
    "start_time": "2022-03-17T20:01:29.220Z"
   },
   {
    "duration": 377,
    "start_time": "2022-03-17T20:01:29.239Z"
   },
   {
    "duration": 6,
    "start_time": "2022-03-17T20:01:29.618Z"
   },
   {
    "duration": 14,
    "start_time": "2022-03-17T20:01:29.625Z"
   },
   {
    "duration": 16,
    "start_time": "2022-03-17T20:01:29.640Z"
   },
   {
    "duration": 377,
    "start_time": "2022-03-17T20:01:29.658Z"
   },
   {
    "duration": 13,
    "start_time": "2022-03-17T20:01:30.037Z"
   },
   {
    "duration": 21,
    "start_time": "2022-03-17T20:01:30.052Z"
   },
   {
    "duration": 19,
    "start_time": "2022-03-17T20:01:30.074Z"
   },
   {
    "duration": 3,
    "start_time": "2022-03-17T20:01:30.095Z"
   },
   {
    "duration": 43,
    "start_time": "2022-03-17T20:01:30.099Z"
   },
   {
    "duration": 38,
    "start_time": "2022-03-17T20:01:30.144Z"
   },
   {
    "duration": 10,
    "start_time": "2022-03-17T20:01:30.184Z"
   },
   {
    "duration": 35,
    "start_time": "2022-03-17T20:01:30.196Z"
   },
   {
    "duration": 12,
    "start_time": "2022-03-17T20:01:30.232Z"
   },
   {
    "duration": 20,
    "start_time": "2022-03-17T20:01:30.246Z"
   },
   {
    "duration": 11,
    "start_time": "2022-03-17T20:01:30.268Z"
   },
   {
    "duration": 17,
    "start_time": "2022-03-17T20:01:30.281Z"
   },
   {
    "duration": 22,
    "start_time": "2022-03-17T20:01:30.300Z"
   },
   {
    "duration": 29,
    "start_time": "2022-03-17T20:01:30.324Z"
   },
   {
    "duration": 4,
    "start_time": "2022-03-17T20:01:30.357Z"
   },
   {
    "duration": 13,
    "start_time": "2022-03-17T20:01:30.363Z"
   },
   {
    "duration": 7,
    "start_time": "2022-03-17T20:01:30.378Z"
   },
   {
    "duration": 13,
    "start_time": "2022-03-17T20:01:30.386Z"
   },
   {
    "duration": 15,
    "start_time": "2022-03-17T20:01:30.400Z"
   },
   {
    "duration": 22,
    "start_time": "2022-03-17T20:01:30.416Z"
   },
   {
    "duration": 8,
    "start_time": "2022-03-17T20:01:30.440Z"
   },
   {
    "duration": 19,
    "start_time": "2022-03-17T20:01:30.450Z"
   },
   {
    "duration": 10,
    "start_time": "2022-03-17T20:01:30.470Z"
   },
   {
    "duration": 15,
    "start_time": "2022-03-17T20:01:30.482Z"
   },
   {
    "duration": 9,
    "start_time": "2022-03-17T20:01:30.499Z"
   },
   {
    "duration": 13,
    "start_time": "2022-03-17T20:01:30.510Z"
   },
   {
    "duration": 17,
    "start_time": "2022-03-17T20:01:30.524Z"
   },
   {
    "duration": 20,
    "start_time": "2022-03-17T20:01:30.543Z"
   },
   {
    "duration": 217,
    "start_time": "2022-03-17T20:01:30.565Z"
   },
   {
    "duration": 9,
    "start_time": "2022-03-17T20:01:30.784Z"
   },
   {
    "duration": 208,
    "start_time": "2022-03-17T20:01:30.794Z"
   },
   {
    "duration": 8,
    "start_time": "2022-03-17T20:01:31.004Z"
   },
   {
    "duration": 197,
    "start_time": "2022-03-17T20:01:31.014Z"
   },
   {
    "duration": 12,
    "start_time": "2022-03-17T20:01:31.213Z"
   },
   {
    "duration": 14,
    "start_time": "2022-03-17T20:01:31.237Z"
   },
   {
    "duration": 273,
    "start_time": "2022-03-17T20:01:31.253Z"
   },
   {
    "duration": 190,
    "start_time": "2022-03-17T20:01:31.527Z"
   },
   {
    "duration": 33,
    "start_time": "2022-03-17T20:01:31.719Z"
   },
   {
    "duration": 9,
    "start_time": "2022-03-17T20:01:31.754Z"
   },
   {
    "duration": 16,
    "start_time": "2022-03-17T20:01:31.764Z"
   },
   {
    "duration": 12,
    "start_time": "2022-03-17T20:01:31.782Z"
   },
   {
    "duration": 14,
    "start_time": "2022-03-17T20:01:31.796Z"
   },
   {
    "duration": 24,
    "start_time": "2022-03-17T20:01:31.812Z"
   },
   {
    "duration": 16,
    "start_time": "2022-03-17T20:01:31.838Z"
   },
   {
    "duration": 21,
    "start_time": "2022-03-17T20:01:31.855Z"
   },
   {
    "duration": 9,
    "start_time": "2022-03-17T20:01:31.877Z"
   },
   {
    "duration": 14,
    "start_time": "2022-03-17T20:01:31.887Z"
   },
   {
    "duration": 19,
    "start_time": "2022-03-17T20:01:31.903Z"
   }
  ],
  "kernelspec": {
   "display_name": "Python 3 (ipykernel)",
   "language": "python",
   "name": "python3"
  },
  "language_info": {
   "codemirror_mode": {
    "name": "ipython",
    "version": 3
   },
   "file_extension": ".py",
   "mimetype": "text/x-python",
   "name": "python",
   "nbconvert_exporter": "python",
   "pygments_lexer": "ipython3",
   "version": "3.9.5"
  },
  "toc": {
   "base_numbering": 1,
   "nav_menu": {},
   "number_sections": false,
   "sideBar": true,
   "skip_h1_title": false,
   "title_cell": "Table of Contents",
   "title_sidebar": "Contents",
   "toc_cell": false,
   "toc_position": {
    "height": "calc(100% - 180px)",
    "left": "10px",
    "top": "150px",
    "width": "339px"
   },
   "toc_section_display": true,
   "toc_window_display": true
  }
 },
 "nbformat": 4,
 "nbformat_minor": 2
}
