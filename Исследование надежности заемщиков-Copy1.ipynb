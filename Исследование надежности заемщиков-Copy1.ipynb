{
 "cells": [
  {
   "cell_type": "markdown",
   "metadata": {},
   "source": [
    "# Исследование надёжности заёмщиков <a id=\"1\"></a> \n",
    "\n",
    "Заказчик — кредитный отдел банка. Нужно разобраться, влияет ли семейное положение и количество детей клиента на факт погашения кредита в срок. Входные данные от банка — статистика о платёжеспособности клиентов.\n",
    "\n",
    "Результаты исследования будут учтены при построении модели **кредитного скоринга** — специальной системы, которая оценивает способность потенциального заёмщика вернуть кредит банку.  \n",
    "\n",
    "**Задача:** На основе статистики о платёжеспособности клиентов исследовать влияет ли семейное положение и количество детей клиента на факт возврата кредита в срок"
   ]
  },
  {
   "cell_type": "markdown",
   "metadata": {},
   "source": [
    "**Содержание проекта**\n",
    "1. [Описание проекта](#1)\n",
    "2. [Предобработка данных](#2)\n",
    "    * [Обработка пропусков](#2.1)\n",
    "    * [Замена типа данных](#2.2)\n",
    "    * [Обработка дубликатов](#2.3)\n",
    "    * [Лемматизация](#2.4)\n",
    "    * [Категоризация данных](#2.5)\n",
    "3. [Ответы на вопросы](#3)\n",
    "    * [Есть ли зависимость между наличием детей и возвратом кредита в срок?](#3.1)\n",
    "    * [Есть ли зависимость между семейным положением и возвратом кредита в срок?](#3.2)  \n",
    "    * [Есть ли зависимость между уровнем дохода и возвратом кредита в срок?](#3.3)\n",
    "    * [Как разные цели кредита влияют на его возврат в срок?](#3.4)\n",
    "4. [Общие выводы](#4)"
   ]
  },
  {
   "cell_type": "markdown",
   "metadata": {},
   "source": [
    "## Предобработка данных <a id=\"2\"></a> "
   ]
  },
  {
   "cell_type": "code",
   "execution_count": 1,
   "metadata": {
    "scrolled": true
   },
   "outputs": [
    {
     "data": {
      "text/html": [
       "<div>\n",
       "<style scoped>\n",
       "    .dataframe tbody tr th:only-of-type {\n",
       "        vertical-align: middle;\n",
       "    }\n",
       "\n",
       "    .dataframe tbody tr th {\n",
       "        vertical-align: top;\n",
       "    }\n",
       "\n",
       "    .dataframe thead th {\n",
       "        text-align: right;\n",
       "    }\n",
       "</style>\n",
       "<table border=\"1\" class=\"dataframe\">\n",
       "  <thead>\n",
       "    <tr style=\"text-align: right;\">\n",
       "      <th></th>\n",
       "      <th>children</th>\n",
       "      <th>days_employed</th>\n",
       "      <th>dob_years</th>\n",
       "      <th>education</th>\n",
       "      <th>education_id</th>\n",
       "      <th>family_status</th>\n",
       "      <th>family_status_id</th>\n",
       "      <th>gender</th>\n",
       "      <th>income_type</th>\n",
       "      <th>debt</th>\n",
       "      <th>total_income</th>\n",
       "      <th>purpose</th>\n",
       "    </tr>\n",
       "  </thead>\n",
       "  <tbody>\n",
       "    <tr>\n",
       "      <th>0</th>\n",
       "      <td>1</td>\n",
       "      <td>-8437.673028</td>\n",
       "      <td>42</td>\n",
       "      <td>высшее</td>\n",
       "      <td>0</td>\n",
       "      <td>женат / замужем</td>\n",
       "      <td>0</td>\n",
       "      <td>F</td>\n",
       "      <td>сотрудник</td>\n",
       "      <td>0</td>\n",
       "      <td>253875.639453</td>\n",
       "      <td>покупка жилья</td>\n",
       "    </tr>\n",
       "    <tr>\n",
       "      <th>1</th>\n",
       "      <td>1</td>\n",
       "      <td>-4024.803754</td>\n",
       "      <td>36</td>\n",
       "      <td>среднее</td>\n",
       "      <td>1</td>\n",
       "      <td>женат / замужем</td>\n",
       "      <td>0</td>\n",
       "      <td>F</td>\n",
       "      <td>сотрудник</td>\n",
       "      <td>0</td>\n",
       "      <td>112080.014102</td>\n",
       "      <td>приобретение автомобиля</td>\n",
       "    </tr>\n",
       "    <tr>\n",
       "      <th>2</th>\n",
       "      <td>0</td>\n",
       "      <td>-5623.422610</td>\n",
       "      <td>33</td>\n",
       "      <td>Среднее</td>\n",
       "      <td>1</td>\n",
       "      <td>женат / замужем</td>\n",
       "      <td>0</td>\n",
       "      <td>M</td>\n",
       "      <td>сотрудник</td>\n",
       "      <td>0</td>\n",
       "      <td>145885.952297</td>\n",
       "      <td>покупка жилья</td>\n",
       "    </tr>\n",
       "    <tr>\n",
       "      <th>3</th>\n",
       "      <td>3</td>\n",
       "      <td>-4124.747207</td>\n",
       "      <td>32</td>\n",
       "      <td>среднее</td>\n",
       "      <td>1</td>\n",
       "      <td>женат / замужем</td>\n",
       "      <td>0</td>\n",
       "      <td>M</td>\n",
       "      <td>сотрудник</td>\n",
       "      <td>0</td>\n",
       "      <td>267628.550329</td>\n",
       "      <td>дополнительное образование</td>\n",
       "    </tr>\n",
       "    <tr>\n",
       "      <th>4</th>\n",
       "      <td>0</td>\n",
       "      <td>340266.072047</td>\n",
       "      <td>53</td>\n",
       "      <td>среднее</td>\n",
       "      <td>1</td>\n",
       "      <td>гражданский брак</td>\n",
       "      <td>1</td>\n",
       "      <td>F</td>\n",
       "      <td>пенсионер</td>\n",
       "      <td>0</td>\n",
       "      <td>158616.077870</td>\n",
       "      <td>сыграть свадьбу</td>\n",
       "    </tr>\n",
       "  </tbody>\n",
       "</table>\n",
       "</div>"
      ],
      "text/plain": [
       "   children  days_employed  dob_years education  education_id  \\\n",
       "0         1   -8437.673028         42    высшее             0   \n",
       "1         1   -4024.803754         36   среднее             1   \n",
       "2         0   -5623.422610         33   Среднее             1   \n",
       "3         3   -4124.747207         32   среднее             1   \n",
       "4         0  340266.072047         53   среднее             1   \n",
       "\n",
       "      family_status  family_status_id gender income_type  debt   total_income  \\\n",
       "0   женат / замужем                 0      F   сотрудник     0  253875.639453   \n",
       "1   женат / замужем                 0      F   сотрудник     0  112080.014102   \n",
       "2   женат / замужем                 0      M   сотрудник     0  145885.952297   \n",
       "3   женат / замужем                 0      M   сотрудник     0  267628.550329   \n",
       "4  гражданский брак                 1      F   пенсионер     0  158616.077870   \n",
       "\n",
       "                      purpose  \n",
       "0               покупка жилья  \n",
       "1     приобретение автомобиля  \n",
       "2               покупка жилья  \n",
       "3  дополнительное образование  \n",
       "4             сыграть свадьбу  "
      ]
     },
     "metadata": {},
     "output_type": "display_data"
    },
    {
     "name": "stdout",
     "output_type": "stream",
     "text": [
      "<class 'pandas.core.frame.DataFrame'>\n",
      "RangeIndex: 21525 entries, 0 to 21524\n",
      "Data columns (total 12 columns):\n",
      " #   Column            Non-Null Count  Dtype  \n",
      "---  ------            --------------  -----  \n",
      " 0   children          21525 non-null  int64  \n",
      " 1   days_employed     19351 non-null  float64\n",
      " 2   dob_years         21525 non-null  int64  \n",
      " 3   education         21525 non-null  object \n",
      " 4   education_id      21525 non-null  int64  \n",
      " 5   family_status     21525 non-null  object \n",
      " 6   family_status_id  21525 non-null  int64  \n",
      " 7   gender            21525 non-null  object \n",
      " 8   income_type       21525 non-null  object \n",
      " 9   debt              21525 non-null  int64  \n",
      " 10  total_income      19351 non-null  float64\n",
      " 11  purpose           21525 non-null  object \n",
      "dtypes: float64(2), int64(5), object(5)\n",
      "memory usage: 2.0+ MB\n"
     ]
    }
   ],
   "source": [
    "import pandas as pd\n",
    "try:\n",
    "    data=pd.read_csv('https://code.s3.yandex.net/datasets/data.csv') #ссылка, работающая везде, где есть интернет\n",
    "except:\n",
    "    data=pd.read_csv('/yandex/data.csv') #локальный путь к файлу\n",
    "display(data.head())\n",
    "data.info()"
   ]
  },
  {
   "cell_type": "code",
   "execution_count": 2,
   "metadata": {
    "scrolled": true
   },
   "outputs": [
    {
     "data": {
      "text/html": [
       "<style  type=\"text/css\" >\n",
       "#T_00b89_row0_col0,#T_00b89_row2_col0,#T_00b89_row3_col0,#T_00b89_row4_col0,#T_00b89_row5_col0,#T_00b89_row6_col0,#T_00b89_row7_col0,#T_00b89_row8_col0,#T_00b89_row9_col0,#T_00b89_row11_col0{\n",
       "            background-color:  #3b4cc0;\n",
       "            color:  #f1f1f1;\n",
       "        }#T_00b89_row1_col0,#T_00b89_row10_col0{\n",
       "            background-color:  #b40426;\n",
       "            color:  #f1f1f1;\n",
       "        }</style><table id=\"T_00b89_\" ><thead>    <tr>        <th class=\"blank level0\" ></th>        <th class=\"col_heading level0 col0\" >0</th>    </tr></thead><tbody>\n",
       "                <tr>\n",
       "                        <th id=\"T_00b89_level0_row0\" class=\"row_heading level0 row0\" >children</th>\n",
       "                        <td id=\"T_00b89_row0_col0\" class=\"data row0 col0\" >0.000000</td>\n",
       "            </tr>\n",
       "            <tr>\n",
       "                        <th id=\"T_00b89_level0_row1\" class=\"row_heading level0 row1\" >days_employed</th>\n",
       "                        <td id=\"T_00b89_row1_col0\" class=\"data row1 col0\" >10.000000</td>\n",
       "            </tr>\n",
       "            <tr>\n",
       "                        <th id=\"T_00b89_level0_row2\" class=\"row_heading level0 row2\" >dob_years</th>\n",
       "                        <td id=\"T_00b89_row2_col0\" class=\"data row2 col0\" >0.000000</td>\n",
       "            </tr>\n",
       "            <tr>\n",
       "                        <th id=\"T_00b89_level0_row3\" class=\"row_heading level0 row3\" >education</th>\n",
       "                        <td id=\"T_00b89_row3_col0\" class=\"data row3 col0\" >0.000000</td>\n",
       "            </tr>\n",
       "            <tr>\n",
       "                        <th id=\"T_00b89_level0_row4\" class=\"row_heading level0 row4\" >education_id</th>\n",
       "                        <td id=\"T_00b89_row4_col0\" class=\"data row4 col0\" >0.000000</td>\n",
       "            </tr>\n",
       "            <tr>\n",
       "                        <th id=\"T_00b89_level0_row5\" class=\"row_heading level0 row5\" >family_status</th>\n",
       "                        <td id=\"T_00b89_row5_col0\" class=\"data row5 col0\" >0.000000</td>\n",
       "            </tr>\n",
       "            <tr>\n",
       "                        <th id=\"T_00b89_level0_row6\" class=\"row_heading level0 row6\" >family_status_id</th>\n",
       "                        <td id=\"T_00b89_row6_col0\" class=\"data row6 col0\" >0.000000</td>\n",
       "            </tr>\n",
       "            <tr>\n",
       "                        <th id=\"T_00b89_level0_row7\" class=\"row_heading level0 row7\" >gender</th>\n",
       "                        <td id=\"T_00b89_row7_col0\" class=\"data row7 col0\" >0.000000</td>\n",
       "            </tr>\n",
       "            <tr>\n",
       "                        <th id=\"T_00b89_level0_row8\" class=\"row_heading level0 row8\" >income_type</th>\n",
       "                        <td id=\"T_00b89_row8_col0\" class=\"data row8 col0\" >0.000000</td>\n",
       "            </tr>\n",
       "            <tr>\n",
       "                        <th id=\"T_00b89_level0_row9\" class=\"row_heading level0 row9\" >debt</th>\n",
       "                        <td id=\"T_00b89_row9_col0\" class=\"data row9 col0\" >0.000000</td>\n",
       "            </tr>\n",
       "            <tr>\n",
       "                        <th id=\"T_00b89_level0_row10\" class=\"row_heading level0 row10\" >total_income</th>\n",
       "                        <td id=\"T_00b89_row10_col0\" class=\"data row10 col0\" >10.000000</td>\n",
       "            </tr>\n",
       "            <tr>\n",
       "                        <th id=\"T_00b89_level0_row11\" class=\"row_heading level0 row11\" >purpose</th>\n",
       "                        <td id=\"T_00b89_row11_col0\" class=\"data row11 col0\" >0.000000</td>\n",
       "            </tr>\n",
       "    </tbody></table>"
      ],
      "text/plain": [
       "<pandas.io.formats.style.Styler at 0x7f90b38c5a90>"
      ]
     },
     "execution_count": 2,
     "metadata": {},
     "output_type": "execute_result"
    }
   ],
   "source": [
    "#Посмотрим процентное кол-во пропусков в столбцах\n",
    "pd.DataFrame(round(data.isna().mean()*100,0)).style.background_gradient('coolwarm')"
   ]
  },
  {
   "cell_type": "markdown",
   "metadata": {},
   "source": [
    "**Вывод**\n"
   ]
  },
  {
   "cell_type": "markdown",
   "metadata": {},
   "source": [
    "В датафрейме есть пропуски в столбцах 'days_emloyed' и 'total_income', которые составляют примерно 10% от общего кол-ва строк. Также в столбце 'days_employed' встречаются артефакты. На первый взгляд, можно сказать, что данные из этих столбцов не нужны для проведения исследования и их можно просто удалить, но 10% - это большой объем инйформации и его удаление может привезти к неточности результата и потери важной информации. Скорее всего, данные пропущены из-за различных кредитных программ банка (есть такие программы кредитования, в которых не требуется информация о стаже и ежемесячном доходе - для пенсионеров, зарплатных клиентов банка, постоянных клиентов с крупными оборотами по счету и т.д.). Либо же данные пропуски связаны с техническими сбоями при копировании данных и тд. Nan - это пропуск типа float. Также можем точно сказать, что пропущены количественные переменные. Поэтому обрабатывать пропуски следует методами для количественных переменных."
   ]
  },
  {
   "cell_type": "markdown",
   "metadata": {},
   "source": [
    "### Обработка пропусков  <a id=\"2.1\"></a> "
   ]
  },
  {
   "cell_type": "markdown",
   "metadata": {},
   "source": [
    "Пропуски бывают трёх видов: 1)Полностью случайные; 2)Случайные; 3)Неслучайные. \n",
    "    Изучив таблицу, мы можем сделать вывод, что в обоих случаях пропуски неслучайные, т.к. допущены нарочно, их нельзя с легкостью восстановить по данным других столбцов и они зависят от других значений, в том числе и от значений собственного столбца."
   ]
  },
  {
   "cell_type": "markdown",
   "metadata": {},
   "source": [
    "Начнем с обработки пропусков в столбце 'total_income'. "
   ]
  },
  {
   "cell_type": "code",
   "execution_count": 3,
   "metadata": {},
   "outputs": [
    {
     "name": "stdout",
     "output_type": "stream",
     "text": [
      "сотрудник          11119\n",
      "компаньон           5085\n",
      "пенсионер           3856\n",
      "госслужащий         1459\n",
      "предприниматель        2\n",
      "безработный            2\n",
      "студент                1\n",
      "в декрете              1\n",
      "Name: income_type, dtype: int64\n"
     ]
    }
   ],
   "source": [
    "#выведем на экран все уникальные значения столбца 'income_type' а также посмотрим их кол-во\n",
    "print(data['income_type'].value_counts()) "
   ]
  },
  {
   "cell_type": "markdown",
   "metadata": {},
   "source": [
    "Мы видим, что количество предпринимателей, безработных, студентов и находящихся в декрете ничтожно мало по сравнению с другими типами занятости, сравнивать их между с собой будет неккоректно, поэтому присоединим данные типы к категории 'госслужащий' и выведем на экран результат."
   ]
  },
  {
   "cell_type": "code",
   "execution_count": 4,
   "metadata": {},
   "outputs": [
    {
     "name": "stdout",
     "output_type": "stream",
     "text": [
      "сотрудник      11119\n",
      "компаньон       5085\n",
      "пенсионер       3856\n",
      "госслужащий     1465\n",
      "Name: income_type, dtype: int64\n"
     ]
    }
   ],
   "source": [
    "data.loc[data['income_type']=='студент', 'income_type']='госслужащий'\n",
    "data.loc[data['income_type']=='в декрете', 'income_type']='госслужащий'\n",
    "data.loc[data['income_type']=='предприниматель', 'income_type']='госслужащий'\n",
    "data.loc[data['income_type']=='безработный', 'income_type']='госслужащий'\n",
    "print(data['income_type'].value_counts()) "
   ]
  },
  {
   "cell_type": "markdown",
   "metadata": {},
   "source": [
    " Мы уже выяснили, что пропуски являются количественными переменными, поэтому мы будем использовать один из методов mean() или median() для заполнения таких пропусков. Но вначале, определимся на основе каких столбцов мы будем осуществлять группировку и корректировку по медиане или среднему "
   ]
  },
  {
   "cell_type": "code",
   "execution_count": 5,
   "metadata": {},
   "outputs": [
    {
     "data": {
      "text/html": [
       "<div>\n",
       "<style scoped>\n",
       "    .dataframe tbody tr th:only-of-type {\n",
       "        vertical-align: middle;\n",
       "    }\n",
       "\n",
       "    .dataframe tbody tr th {\n",
       "        vertical-align: top;\n",
       "    }\n",
       "\n",
       "    .dataframe thead th {\n",
       "        text-align: right;\n",
       "    }\n",
       "</style>\n",
       "<table border=\"1\" class=\"dataframe\">\n",
       "  <thead>\n",
       "    <tr style=\"text-align: right;\">\n",
       "      <th></th>\n",
       "      <th>children</th>\n",
       "      <th>days_employed</th>\n",
       "      <th>dob_years</th>\n",
       "      <th>education_id</th>\n",
       "      <th>family_status_id</th>\n",
       "      <th>debt</th>\n",
       "      <th>total_income</th>\n",
       "    </tr>\n",
       "  </thead>\n",
       "  <tbody>\n",
       "    <tr>\n",
       "      <th>children</th>\n",
       "      <td>1.000000</td>\n",
       "      <td>-0.138354</td>\n",
       "      <td>-0.174358</td>\n",
       "      <td>-0.012695</td>\n",
       "      <td>-0.091284</td>\n",
       "      <td>0.018470</td>\n",
       "      <td>0.018220</td>\n",
       "    </tr>\n",
       "    <tr>\n",
       "      <th>days_employed</th>\n",
       "      <td>-0.138354</td>\n",
       "      <td>1.000000</td>\n",
       "      <td>0.582643</td>\n",
       "      <td>0.080565</td>\n",
       "      <td>0.005726</td>\n",
       "      <td>-0.047110</td>\n",
       "      <td>-0.136648</td>\n",
       "    </tr>\n",
       "    <tr>\n",
       "      <th>dob_years</th>\n",
       "      <td>-0.174358</td>\n",
       "      <td>0.582643</td>\n",
       "      <td>1.000000</td>\n",
       "      <td>0.067467</td>\n",
       "      <td>-0.069988</td>\n",
       "      <td>-0.069620</td>\n",
       "      <td>-0.052911</td>\n",
       "    </tr>\n",
       "    <tr>\n",
       "      <th>education_id</th>\n",
       "      <td>-0.012695</td>\n",
       "      <td>0.080565</td>\n",
       "      <td>0.067467</td>\n",
       "      <td>1.000000</td>\n",
       "      <td>0.007876</td>\n",
       "      <td>0.052906</td>\n",
       "      <td>-0.178885</td>\n",
       "    </tr>\n",
       "    <tr>\n",
       "      <th>family_status_id</th>\n",
       "      <td>-0.091284</td>\n",
       "      <td>0.005726</td>\n",
       "      <td>-0.069988</td>\n",
       "      <td>0.007876</td>\n",
       "      <td>1.000000</td>\n",
       "      <td>0.020611</td>\n",
       "      <td>-0.009147</td>\n",
       "    </tr>\n",
       "    <tr>\n",
       "      <th>debt</th>\n",
       "      <td>0.018470</td>\n",
       "      <td>-0.047110</td>\n",
       "      <td>-0.069620</td>\n",
       "      <td>0.052906</td>\n",
       "      <td>0.020611</td>\n",
       "      <td>1.000000</td>\n",
       "      <td>-0.012475</td>\n",
       "    </tr>\n",
       "    <tr>\n",
       "      <th>total_income</th>\n",
       "      <td>0.018220</td>\n",
       "      <td>-0.136648</td>\n",
       "      <td>-0.052911</td>\n",
       "      <td>-0.178885</td>\n",
       "      <td>-0.009147</td>\n",
       "      <td>-0.012475</td>\n",
       "      <td>1.000000</td>\n",
       "    </tr>\n",
       "  </tbody>\n",
       "</table>\n",
       "</div>"
      ],
      "text/plain": [
       "                  children  days_employed  dob_years  education_id  \\\n",
       "children          1.000000      -0.138354  -0.174358     -0.012695   \n",
       "days_employed    -0.138354       1.000000   0.582643      0.080565   \n",
       "dob_years        -0.174358       0.582643   1.000000      0.067467   \n",
       "education_id     -0.012695       0.080565   0.067467      1.000000   \n",
       "family_status_id -0.091284       0.005726  -0.069988      0.007876   \n",
       "debt              0.018470      -0.047110  -0.069620      0.052906   \n",
       "total_income      0.018220      -0.136648  -0.052911     -0.178885   \n",
       "\n",
       "                  family_status_id      debt  total_income  \n",
       "children                 -0.091284  0.018470      0.018220  \n",
       "days_employed             0.005726 -0.047110     -0.136648  \n",
       "dob_years                -0.069988 -0.069620     -0.052911  \n",
       "education_id              0.007876  0.052906     -0.178885  \n",
       "family_status_id          1.000000  0.020611     -0.009147  \n",
       "debt                      0.020611  1.000000     -0.012475  \n",
       "total_income             -0.009147 -0.012475      1.000000  "
      ]
     },
     "execution_count": 5,
     "metadata": {},
     "output_type": "execute_result"
    }
   ],
   "source": [
    "data.corr()"
   ]
  },
  {
   "cell_type": "markdown",
   "metadata": {},
   "source": [
    "По коэффициенту корреляции столбец days_employed лучше всего заполнить на основе столбца dob_years. А на столбец total_income больше всех, но при этом не значительно влияет столбец children (всего 0.018220). Данная таблица конечно же не учитывает столбцы со строковыми данными, поэтому можем предположить, что тип занятости или другими словами \"должность\" больше влияет на величину дохода, чем дети или к примеру семейное положение."
   ]
  },
  {
   "cell_type": "markdown",
   "metadata": {},
   "source": [
    "Заполним пропуски в столце 'total_income' медианными значениями (среднее не подойдет,т.к слишком отдалено от реалий), но с корректировкой по типу занятости (для каждого типа найдем свою медиану и заполним данные)."
   ]
  },
  {
   "cell_type": "code",
   "execution_count": 6,
   "metadata": {
    "scrolled": true
   },
   "outputs": [
    {
     "data": {
      "text/html": [
       "<div>\n",
       "<style scoped>\n",
       "    .dataframe tbody tr th:only-of-type {\n",
       "        vertical-align: middle;\n",
       "    }\n",
       "\n",
       "    .dataframe tbody tr th {\n",
       "        vertical-align: top;\n",
       "    }\n",
       "\n",
       "    .dataframe thead th {\n",
       "        text-align: right;\n",
       "    }\n",
       "</style>\n",
       "<table border=\"1\" class=\"dataframe\">\n",
       "  <thead>\n",
       "    <tr style=\"text-align: right;\">\n",
       "      <th></th>\n",
       "      <th>children</th>\n",
       "      <th>days_employed</th>\n",
       "      <th>dob_years</th>\n",
       "      <th>education</th>\n",
       "      <th>education_id</th>\n",
       "      <th>family_status</th>\n",
       "      <th>family_status_id</th>\n",
       "      <th>gender</th>\n",
       "      <th>income_type</th>\n",
       "      <th>debt</th>\n",
       "      <th>total_income</th>\n",
       "      <th>purpose</th>\n",
       "    </tr>\n",
       "  </thead>\n",
       "  <tbody>\n",
       "    <tr>\n",
       "      <th>0</th>\n",
       "      <td>1</td>\n",
       "      <td>-8437.673028</td>\n",
       "      <td>42</td>\n",
       "      <td>высшее</td>\n",
       "      <td>0</td>\n",
       "      <td>женат / замужем</td>\n",
       "      <td>0</td>\n",
       "      <td>F</td>\n",
       "      <td>сотрудник</td>\n",
       "      <td>0</td>\n",
       "      <td>253875.639453</td>\n",
       "      <td>покупка жилья</td>\n",
       "    </tr>\n",
       "    <tr>\n",
       "      <th>1</th>\n",
       "      <td>1</td>\n",
       "      <td>-4024.803754</td>\n",
       "      <td>36</td>\n",
       "      <td>среднее</td>\n",
       "      <td>1</td>\n",
       "      <td>женат / замужем</td>\n",
       "      <td>0</td>\n",
       "      <td>F</td>\n",
       "      <td>сотрудник</td>\n",
       "      <td>0</td>\n",
       "      <td>112080.014102</td>\n",
       "      <td>приобретение автомобиля</td>\n",
       "    </tr>\n",
       "    <tr>\n",
       "      <th>2</th>\n",
       "      <td>0</td>\n",
       "      <td>-5623.422610</td>\n",
       "      <td>33</td>\n",
       "      <td>Среднее</td>\n",
       "      <td>1</td>\n",
       "      <td>женат / замужем</td>\n",
       "      <td>0</td>\n",
       "      <td>M</td>\n",
       "      <td>сотрудник</td>\n",
       "      <td>0</td>\n",
       "      <td>145885.952297</td>\n",
       "      <td>покупка жилья</td>\n",
       "    </tr>\n",
       "    <tr>\n",
       "      <th>3</th>\n",
       "      <td>3</td>\n",
       "      <td>-4124.747207</td>\n",
       "      <td>32</td>\n",
       "      <td>среднее</td>\n",
       "      <td>1</td>\n",
       "      <td>женат / замужем</td>\n",
       "      <td>0</td>\n",
       "      <td>M</td>\n",
       "      <td>сотрудник</td>\n",
       "      <td>0</td>\n",
       "      <td>267628.550329</td>\n",
       "      <td>дополнительное образование</td>\n",
       "    </tr>\n",
       "    <tr>\n",
       "      <th>4</th>\n",
       "      <td>0</td>\n",
       "      <td>340266.072047</td>\n",
       "      <td>53</td>\n",
       "      <td>среднее</td>\n",
       "      <td>1</td>\n",
       "      <td>гражданский брак</td>\n",
       "      <td>1</td>\n",
       "      <td>F</td>\n",
       "      <td>пенсионер</td>\n",
       "      <td>0</td>\n",
       "      <td>158616.077870</td>\n",
       "      <td>сыграть свадьбу</td>\n",
       "    </tr>\n",
       "  </tbody>\n",
       "</table>\n",
       "</div>"
      ],
      "text/plain": [
       "   children  days_employed  dob_years education  education_id  \\\n",
       "0         1   -8437.673028         42    высшее             0   \n",
       "1         1   -4024.803754         36   среднее             1   \n",
       "2         0   -5623.422610         33   Среднее             1   \n",
       "3         3   -4124.747207         32   среднее             1   \n",
       "4         0  340266.072047         53   среднее             1   \n",
       "\n",
       "      family_status  family_status_id gender income_type  debt   total_income  \\\n",
       "0   женат / замужем                 0      F   сотрудник     0  253875.639453   \n",
       "1   женат / замужем                 0      F   сотрудник     0  112080.014102   \n",
       "2   женат / замужем                 0      M   сотрудник     0  145885.952297   \n",
       "3   женат / замужем                 0      M   сотрудник     0  267628.550329   \n",
       "4  гражданский брак                 1      F   пенсионер     0  158616.077870   \n",
       "\n",
       "                      purpose  \n",
       "0               покупка жилья  \n",
       "1     приобретение автомобиля  \n",
       "2               покупка жилья  \n",
       "3  дополнительное образование  \n",
       "4             сыграть свадьбу  "
      ]
     },
     "execution_count": 6,
     "metadata": {},
     "output_type": "execute_result"
    }
   ],
   "source": [
    "#запишем функцию, которая заменит наши пропуски на медиану уровня дохода для каждого типа занятости. \n",
    "#В качестве переменных пропишем наш датасет, столбец с доходом и вид заработка.\n",
    "def median_total_income(df, value, category):\n",
    "    #для каждого типа занятости в списке уникальных значений\n",
    "    for type_unique in df[category].unique(): \n",
    "        #для каждого значения с пропуском и равному определенному типу занятости\n",
    "        df.loc[(df[value].isna())&(df[category] ==type_unique), value] = \\\n",
    "        df.loc[df[category] ==type_unique, value].median()   \n",
    "        #присваиваем значение медианы по данному типу занятости\n",
    "    return df #возвращаем весь заполненный датасет\n",
    "\n",
    "data = median_total_income(data, 'total_income', 'income_type')\n",
    "data.head()"
   ]
  },
  {
   "cell_type": "code",
   "execution_count": 7,
   "metadata": {},
   "outputs": [
    {
     "data": {
      "text/plain": [
       "0"
      ]
     },
     "execution_count": 7,
     "metadata": {},
     "output_type": "execute_result"
    }
   ],
   "source": [
    "data['total_income'].isna().sum()\n",
    "#проверим, что все пропуски в столбце 'total_income' заполнены. Отлично."
   ]
  },
  {
   "cell_type": "markdown",
   "metadata": {},
   "source": [
    "Столбец 'days_employed' содержит артефакты. Скорее всего при вводе данных указывали \"-\", не имея ввиду отрицательное число. Приведем к модулю значения столбца."
   ]
  },
  {
   "cell_type": "code",
   "execution_count": 8,
   "metadata": {},
   "outputs": [
    {
     "data": {
      "text/html": [
       "<div>\n",
       "<style scoped>\n",
       "    .dataframe tbody tr th:only-of-type {\n",
       "        vertical-align: middle;\n",
       "    }\n",
       "\n",
       "    .dataframe tbody tr th {\n",
       "        vertical-align: top;\n",
       "    }\n",
       "\n",
       "    .dataframe thead th {\n",
       "        text-align: right;\n",
       "    }\n",
       "</style>\n",
       "<table border=\"1\" class=\"dataframe\">\n",
       "  <thead>\n",
       "    <tr style=\"text-align: right;\">\n",
       "      <th></th>\n",
       "      <th>children</th>\n",
       "      <th>days_employed</th>\n",
       "      <th>dob_years</th>\n",
       "      <th>education</th>\n",
       "      <th>education_id</th>\n",
       "      <th>family_status</th>\n",
       "      <th>family_status_id</th>\n",
       "      <th>gender</th>\n",
       "      <th>income_type</th>\n",
       "      <th>debt</th>\n",
       "      <th>total_income</th>\n",
       "      <th>purpose</th>\n",
       "    </tr>\n",
       "  </thead>\n",
       "  <tbody>\n",
       "    <tr>\n",
       "      <th>0</th>\n",
       "      <td>1</td>\n",
       "      <td>8437.673028</td>\n",
       "      <td>42</td>\n",
       "      <td>высшее</td>\n",
       "      <td>0</td>\n",
       "      <td>женат / замужем</td>\n",
       "      <td>0</td>\n",
       "      <td>F</td>\n",
       "      <td>сотрудник</td>\n",
       "      <td>0</td>\n",
       "      <td>253875.639453</td>\n",
       "      <td>покупка жилья</td>\n",
       "    </tr>\n",
       "    <tr>\n",
       "      <th>1</th>\n",
       "      <td>1</td>\n",
       "      <td>4024.803754</td>\n",
       "      <td>36</td>\n",
       "      <td>среднее</td>\n",
       "      <td>1</td>\n",
       "      <td>женат / замужем</td>\n",
       "      <td>0</td>\n",
       "      <td>F</td>\n",
       "      <td>сотрудник</td>\n",
       "      <td>0</td>\n",
       "      <td>112080.014102</td>\n",
       "      <td>приобретение автомобиля</td>\n",
       "    </tr>\n",
       "    <tr>\n",
       "      <th>2</th>\n",
       "      <td>0</td>\n",
       "      <td>5623.422610</td>\n",
       "      <td>33</td>\n",
       "      <td>Среднее</td>\n",
       "      <td>1</td>\n",
       "      <td>женат / замужем</td>\n",
       "      <td>0</td>\n",
       "      <td>M</td>\n",
       "      <td>сотрудник</td>\n",
       "      <td>0</td>\n",
       "      <td>145885.952297</td>\n",
       "      <td>покупка жилья</td>\n",
       "    </tr>\n",
       "    <tr>\n",
       "      <th>3</th>\n",
       "      <td>3</td>\n",
       "      <td>4124.747207</td>\n",
       "      <td>32</td>\n",
       "      <td>среднее</td>\n",
       "      <td>1</td>\n",
       "      <td>женат / замужем</td>\n",
       "      <td>0</td>\n",
       "      <td>M</td>\n",
       "      <td>сотрудник</td>\n",
       "      <td>0</td>\n",
       "      <td>267628.550329</td>\n",
       "      <td>дополнительное образование</td>\n",
       "    </tr>\n",
       "    <tr>\n",
       "      <th>4</th>\n",
       "      <td>0</td>\n",
       "      <td>340266.072047</td>\n",
       "      <td>53</td>\n",
       "      <td>среднее</td>\n",
       "      <td>1</td>\n",
       "      <td>гражданский брак</td>\n",
       "      <td>1</td>\n",
       "      <td>F</td>\n",
       "      <td>пенсионер</td>\n",
       "      <td>0</td>\n",
       "      <td>158616.077870</td>\n",
       "      <td>сыграть свадьбу</td>\n",
       "    </tr>\n",
       "  </tbody>\n",
       "</table>\n",
       "</div>"
      ],
      "text/plain": [
       "   children  days_employed  dob_years education  education_id  \\\n",
       "0         1    8437.673028         42    высшее             0   \n",
       "1         1    4024.803754         36   среднее             1   \n",
       "2         0    5623.422610         33   Среднее             1   \n",
       "3         3    4124.747207         32   среднее             1   \n",
       "4         0  340266.072047         53   среднее             1   \n",
       "\n",
       "      family_status  family_status_id gender income_type  debt   total_income  \\\n",
       "0   женат / замужем                 0      F   сотрудник     0  253875.639453   \n",
       "1   женат / замужем                 0      F   сотрудник     0  112080.014102   \n",
       "2   женат / замужем                 0      M   сотрудник     0  145885.952297   \n",
       "3   женат / замужем                 0      M   сотрудник     0  267628.550329   \n",
       "4  гражданский брак                 1      F   пенсионер     0  158616.077870   \n",
       "\n",
       "                      purpose  \n",
       "0               покупка жилья  \n",
       "1     приобретение автомобиля  \n",
       "2               покупка жилья  \n",
       "3  дополнительное образование  \n",
       "4             сыграть свадьбу  "
      ]
     },
     "execution_count": 8,
     "metadata": {},
     "output_type": "execute_result"
    }
   ],
   "source": [
    "data['days_employed']=abs(data['days_employed'])\n",
    "data.head()"
   ]
  },
  {
   "cell_type": "markdown",
   "metadata": {},
   "source": [
    " Если посмотреть на значения столбца, можно заметить, что данные отражены явно некорректно. Если стаж выражен в днях, то в строке 4, 18, 24 и тд  стаж составляет более 1000 лет. Скорее всего в этих строках стаж отражен не в днях, а в часах или в минутах. Попробуем это исправить. Скорее всего в столбце отражалась дата трудоустройства, но теперь данные сбились. Попробуем восстановить данные. Мы знаем, что у нас есть распространенный формат даты и времени - unix time. Он хранит значение в секундах. В нашем столбце данные хранятся в днях - переведем для начала в секунды."
   ]
  },
  {
   "cell_type": "code",
   "execution_count": 9,
   "metadata": {},
   "outputs": [
    {
     "name": "stdout",
     "output_type": "stream",
     "text": [
      "401755.40047533\n",
      "24.14163324048118\n",
      "66914.72890682236\n"
     ]
    }
   ],
   "source": [
    "#изучим столбец более внимательно, посмотрим максимальное и минимальное значение, а также среднее:\n",
    "print(data['days_employed'].max()) \n",
    "print(data['days_employed'].min())\n",
    "print(data['days_employed'].mean())"
   ]
  },
  {
   "cell_type": "markdown",
   "metadata": {
    "scrolled": true
   },
   "source": [
    " Исходя из данных выше, можно сказать, что минимальное значение выражено все-таки в днях, а вот максимальное значение в часах (401755/24 = 16379, а уже 16379/365 = 45 лет - это уже более похоже на реальный стаж). Давайте будем считать, что стаж с 18 до 65 лет - это максимум 47 лет. Добавим еще 3 года  среднем, т.к. некоторые могут работать и после выхода на пенсию. Итого - 50 лет. Т.е значения выше 50*365 = 18250  будут считаться выраженными не в днях, а  часах, и будут подвергнуты корректировке. Кстати, если считать, что unix time ведет отсчет с 1970 года, то на данный момент стаж не может превышать 50 лет. "
   ]
  },
  {
   "cell_type": "code",
   "execution_count": 10,
   "metadata": {},
   "outputs": [
    {
     "name": "stdout",
     "output_type": "stream",
     "text": [
      "0     8437.673028\n",
      "1     4024.803754\n",
      "2     5623.422610\n",
      "3     4124.747207\n",
      "4    14177.753002\n",
      "5      926.185831\n",
      "6     2879.202052\n",
      "7      152.779569\n",
      "8     6929.865299\n",
      "9     2188.756445\n",
      "Name: days_employed, dtype: float64\n",
      "17615.563265627912\n"
     ]
    }
   ],
   "source": [
    "data['days_employed']=data['days_employed'].apply(lambda x: x if x<=18250 else x/24)\n",
    "print(data['days_employed'].head(10))\n",
    "print(data['days_employed'].max())"
   ]
  },
  {
   "cell_type": "code",
   "execution_count": 11,
   "metadata": {},
   "outputs": [],
   "source": [
    "#теперь весь стобец приведем к секундам\n",
    "data['days_employed']=data['days_employed'].apply(lambda x: x*86400)\n"
   ]
  },
  {
   "cell_type": "markdown",
   "metadata": {},
   "source": [
    " Сейчас следует заполнить пропуски, т.к потом, когда мы переведем данные в формат даты, мы уже не сможем заполнить данные медианой по группам.\n",
    "Мы уже выяснили, что данный столбец наиболее зависим по корреляции от столбца 'dob_years'. Разделим столбец 'dob_years' на 5 возрастных групп: "
   ]
  },
  {
   "cell_type": "code",
   "execution_count": 12,
   "metadata": {},
   "outputs": [],
   "source": [
    "data['group_year'] = pd.qcut(data['dob_years'], 5) "
   ]
  },
  {
   "cell_type": "code",
   "execution_count": 13,
   "metadata": {},
   "outputs": [
    {
     "data": {
      "text/plain": [
       "0        (39.0, 47.0]\n",
       "1        (31.0, 39.0]\n",
       "2        (31.0, 39.0]\n",
       "3        (31.0, 39.0]\n",
       "4        (47.0, 56.0]\n",
       "             ...     \n",
       "21520    (39.0, 47.0]\n",
       "21521    (56.0, 75.0]\n",
       "21522    (31.0, 39.0]\n",
       "21523    (31.0, 39.0]\n",
       "21524    (39.0, 47.0]\n",
       "Name: group_year, Length: 21525, dtype: category\n",
       "Categories (5, interval[float64]): [(-0.001, 31.0] < (31.0, 39.0] < (39.0, 47.0] < (47.0, 56.0] < (56.0, 75.0]]"
      ]
     },
     "execution_count": 13,
     "metadata": {},
     "output_type": "execute_result"
    }
   ],
   "source": [
    "data['group_year']"
   ]
  },
  {
   "cell_type": "code",
   "execution_count": 14,
   "metadata": {},
   "outputs": [],
   "source": [
    "#функция подсчета медианы первой возрастной группы\n",
    "def median1(age):\n",
    "    sorted_data = data[data['dob_years']<=31]\n",
    "    median_total_income= sorted_data['days_employed'].median()\n",
    "    return median_total_income"
   ]
  },
  {
   "cell_type": "code",
   "execution_count": 15,
   "metadata": {},
   "outputs": [],
   "source": [
    "#функция подсчета медианы второй возрастной группы\n",
    "def median2(age):\n",
    "    sorted_data = data.loc[(data['dob_years']>31)&(data['dob_years']<=39)]\n",
    "    median_total_income= sorted_data['days_employed'].median()\n",
    "    return median_total_income"
   ]
  },
  {
   "cell_type": "code",
   "execution_count": 16,
   "metadata": {},
   "outputs": [],
   "source": [
    "#функция подсчета медианы третьей возрастной группы\n",
    "def median3(age):\n",
    "    sorted_data = data.loc[(data['dob_years']>39)&(data['dob_years']<=47)]\n",
    "    median_total_income= sorted_data['days_employed'].median()\n",
    "    return median_total_income"
   ]
  },
  {
   "cell_type": "code",
   "execution_count": 17,
   "metadata": {},
   "outputs": [],
   "source": [
    "#функция подсчета медианы четвертой возрастной группы\n",
    "def median4(age):\n",
    "    sorted_data = data.loc[(data['dob_years']>47)&(data['dob_years']<=56)]\n",
    "    median_total_income= sorted_data['days_employed'].median()\n",
    "    return median_total_income"
   ]
  },
  {
   "cell_type": "code",
   "execution_count": 18,
   "metadata": {},
   "outputs": [],
   "source": [
    "#функция подсчета медианы пятой возрастной группы\n",
    "def median5(age):\n",
    "    sorted_data = data[data['dob_years']>56]\n",
    "    median_total_income= sorted_data['days_employed'].median()\n",
    "    return median_total_income"
   ]
  },
  {
   "cell_type": "code",
   "execution_count": 19,
   "metadata": {},
   "outputs": [],
   "source": [
    "#заполним пропуски в столбце 'days_employed' медианными значениями \n",
    "data.loc[(data['dob_years']<=31)&(data['days_employed'].isna()),'days_employed']=median1(data)\n",
    "data.loc[(data['dob_years']>31)&(data['dob_years']<=39)&(data['days_employed'].isna()),'days_employed']=median2(data)\n",
    "data.loc[(data['dob_years']>39)&(data['dob_years']<=47)&(data['days_employed'].isna()),'days_employed']=median3(data)\n",
    "data.loc[(data['dob_years']>47)&(data['dob_years']<=56)&(data['days_employed'].isna()),'days_employed']=median4(data)\n",
    "data.loc[(data['dob_years']>56)&(data['days_employed'].isna()),'days_employed']=median5(data)"
   ]
  },
  {
   "cell_type": "code",
   "execution_count": 20,
   "metadata": {},
   "outputs": [
    {
     "data": {
      "text/plain": [
       "0"
      ]
     },
     "execution_count": 20,
     "metadata": {},
     "output_type": "execute_result"
    }
   ],
   "source": [
    "data['days_employed'].isna().sum()"
   ]
  },
  {
   "cell_type": "markdown",
   "metadata": {},
   "source": [
    "Пропусков нет, теперь можем перевести весь столбец в формат даты. "
   ]
  },
  {
   "cell_type": "code",
   "execution_count": 21,
   "metadata": {},
   "outputs": [
    {
     "data": {
      "text/plain": [
       "0         729014949\n",
       "1         347743044\n",
       "2         485863713\n",
       "3         356378158\n",
       "4        1224957859\n",
       "            ...    \n",
       "21520     391332959\n",
       "21521    1238174654\n",
       "21522     182593171\n",
       "21523     268918419\n",
       "21524     171461455\n",
       "Name: days_employed, Length: 21525, dtype: int64"
      ]
     },
     "execution_count": 21,
     "metadata": {},
     "output_type": "execute_result"
    }
   ],
   "source": [
    "data['days_employed'].astype('int') #приведем столбец к формату int, чтобы далее корректно привести к формату datetime"
   ]
  },
  {
   "cell_type": "code",
   "execution_count": 22,
   "metadata": {},
   "outputs": [
    {
     "data": {
      "text/plain": [
       "'06.02.1993'"
      ]
     },
     "execution_count": 22,
     "metadata": {},
     "output_type": "execute_result"
    }
   ],
   "source": [
    "import time\n",
    "time.strftime(\"%d.%m.%Y\", time.localtime(729014949)) \n",
    "#таким методом мы можем привести весь столбец к формату datetime,\n",
    "#воспользуемся для удобства lambda функцией.\n"
   ]
  },
  {
   "cell_type": "code",
   "execution_count": 23,
   "metadata": {},
   "outputs": [
    {
     "data": {
      "text/html": [
       "<div>\n",
       "<style scoped>\n",
       "    .dataframe tbody tr th:only-of-type {\n",
       "        vertical-align: middle;\n",
       "    }\n",
       "\n",
       "    .dataframe tbody tr th {\n",
       "        vertical-align: top;\n",
       "    }\n",
       "\n",
       "    .dataframe thead th {\n",
       "        text-align: right;\n",
       "    }\n",
       "</style>\n",
       "<table border=\"1\" class=\"dataframe\">\n",
       "  <thead>\n",
       "    <tr style=\"text-align: right;\">\n",
       "      <th></th>\n",
       "      <th>children</th>\n",
       "      <th>days_employed</th>\n",
       "      <th>dob_years</th>\n",
       "      <th>education</th>\n",
       "      <th>education_id</th>\n",
       "      <th>family_status</th>\n",
       "      <th>family_status_id</th>\n",
       "      <th>gender</th>\n",
       "      <th>income_type</th>\n",
       "      <th>debt</th>\n",
       "      <th>total_income</th>\n",
       "      <th>purpose</th>\n",
       "      <th>group_year</th>\n",
       "    </tr>\n",
       "  </thead>\n",
       "  <tbody>\n",
       "    <tr>\n",
       "      <th>0</th>\n",
       "      <td>1</td>\n",
       "      <td>06.02.1993</td>\n",
       "      <td>42</td>\n",
       "      <td>высшее</td>\n",
       "      <td>0</td>\n",
       "      <td>женат / замужем</td>\n",
       "      <td>0</td>\n",
       "      <td>F</td>\n",
       "      <td>сотрудник</td>\n",
       "      <td>0</td>\n",
       "      <td>253875.639453</td>\n",
       "      <td>покупка жилья</td>\n",
       "      <td>(39.0, 47.0]</td>\n",
       "    </tr>\n",
       "    <tr>\n",
       "      <th>1</th>\n",
       "      <td>1</td>\n",
       "      <td>07.01.1981</td>\n",
       "      <td>36</td>\n",
       "      <td>среднее</td>\n",
       "      <td>1</td>\n",
       "      <td>женат / замужем</td>\n",
       "      <td>0</td>\n",
       "      <td>F</td>\n",
       "      <td>сотрудник</td>\n",
       "      <td>0</td>\n",
       "      <td>112080.014102</td>\n",
       "      <td>приобретение автомобиля</td>\n",
       "      <td>(31.0, 39.0]</td>\n",
       "    </tr>\n",
       "    <tr>\n",
       "      <th>2</th>\n",
       "      <td>0</td>\n",
       "      <td>25.05.1985</td>\n",
       "      <td>33</td>\n",
       "      <td>Среднее</td>\n",
       "      <td>1</td>\n",
       "      <td>женат / замужем</td>\n",
       "      <td>0</td>\n",
       "      <td>M</td>\n",
       "      <td>сотрудник</td>\n",
       "      <td>0</td>\n",
       "      <td>145885.952297</td>\n",
       "      <td>покупка жилья</td>\n",
       "      <td>(31.0, 39.0]</td>\n",
       "    </tr>\n",
       "    <tr>\n",
       "      <th>3</th>\n",
       "      <td>3</td>\n",
       "      <td>17.04.1981</td>\n",
       "      <td>32</td>\n",
       "      <td>среднее</td>\n",
       "      <td>1</td>\n",
       "      <td>женат / замужем</td>\n",
       "      <td>0</td>\n",
       "      <td>M</td>\n",
       "      <td>сотрудник</td>\n",
       "      <td>0</td>\n",
       "      <td>267628.550329</td>\n",
       "      <td>дополнительное образование</td>\n",
       "      <td>(31.0, 39.0]</td>\n",
       "    </tr>\n",
       "    <tr>\n",
       "      <th>4</th>\n",
       "      <td>0</td>\n",
       "      <td>25.10.2008</td>\n",
       "      <td>53</td>\n",
       "      <td>среднее</td>\n",
       "      <td>1</td>\n",
       "      <td>гражданский брак</td>\n",
       "      <td>1</td>\n",
       "      <td>F</td>\n",
       "      <td>пенсионер</td>\n",
       "      <td>0</td>\n",
       "      <td>158616.077870</td>\n",
       "      <td>сыграть свадьбу</td>\n",
       "      <td>(47.0, 56.0]</td>\n",
       "    </tr>\n",
       "  </tbody>\n",
       "</table>\n",
       "</div>"
      ],
      "text/plain": [
       "   children days_employed  dob_years education  education_id  \\\n",
       "0         1    06.02.1993         42    высшее             0   \n",
       "1         1    07.01.1981         36   среднее             1   \n",
       "2         0    25.05.1985         33   Среднее             1   \n",
       "3         3    17.04.1981         32   среднее             1   \n",
       "4         0    25.10.2008         53   среднее             1   \n",
       "\n",
       "      family_status  family_status_id gender income_type  debt   total_income  \\\n",
       "0   женат / замужем                 0      F   сотрудник     0  253875.639453   \n",
       "1   женат / замужем                 0      F   сотрудник     0  112080.014102   \n",
       "2   женат / замужем                 0      M   сотрудник     0  145885.952297   \n",
       "3   женат / замужем                 0      M   сотрудник     0  267628.550329   \n",
       "4  гражданский брак                 1      F   пенсионер     0  158616.077870   \n",
       "\n",
       "                      purpose    group_year  \n",
       "0               покупка жилья  (39.0, 47.0]  \n",
       "1     приобретение автомобиля  (31.0, 39.0]  \n",
       "2               покупка жилья  (31.0, 39.0]  \n",
       "3  дополнительное образование  (31.0, 39.0]  \n",
       "4             сыграть свадьбу  (47.0, 56.0]  "
      ]
     },
     "execution_count": 23,
     "metadata": {},
     "output_type": "execute_result"
    }
   ],
   "source": [
    "from datetime import datetime, timedelta\n",
    "data['days_employed']=data['days_employed'].apply(lambda x: time.strftime(\"%d.%m.%Y\", time.localtime(x)))\n",
    "data.head()"
   ]
  },
  {
   "cell_type": "markdown",
   "metadata": {},
   "source": [
    "Теперь исходные данные восстановлены. Но если взглянуть на столбец 'dob_years' к примеру в строке 3, возраст равен 32 годам, т.е у данного человека стаж начинается с двухлетнего возраста, аналогично и по многим другим строкам. Получается, что стаж больше возраста или равен ему. Поэтому отсюда можно сделать вывод, что столбец все-таки с неккоректными данными, и в дальнейшем в исследовании мы им пользоваться не будем."
   ]
  },
  {
   "cell_type": "code",
   "execution_count": 24,
   "metadata": {},
   "outputs": [
    {
     "data": {
      "text/html": [
       "<div>\n",
       "<style scoped>\n",
       "    .dataframe tbody tr th:only-of-type {\n",
       "        vertical-align: middle;\n",
       "    }\n",
       "\n",
       "    .dataframe tbody tr th {\n",
       "        vertical-align: top;\n",
       "    }\n",
       "\n",
       "    .dataframe thead th {\n",
       "        text-align: right;\n",
       "    }\n",
       "</style>\n",
       "<table border=\"1\" class=\"dataframe\">\n",
       "  <thead>\n",
       "    <tr style=\"text-align: right;\">\n",
       "      <th></th>\n",
       "      <th>children</th>\n",
       "      <th>days_employed</th>\n",
       "      <th>dob_years</th>\n",
       "      <th>education</th>\n",
       "      <th>education_id</th>\n",
       "      <th>family_status</th>\n",
       "      <th>family_status_id</th>\n",
       "      <th>gender</th>\n",
       "      <th>income_type</th>\n",
       "      <th>debt</th>\n",
       "      <th>total_income</th>\n",
       "      <th>purpose</th>\n",
       "      <th>group_year</th>\n",
       "    </tr>\n",
       "  </thead>\n",
       "  <tbody>\n",
       "    <tr>\n",
       "      <th>14735</th>\n",
       "      <td>0</td>\n",
       "      <td>21.03.1973</td>\n",
       "      <td>40</td>\n",
       "      <td>Среднее</td>\n",
       "      <td>1</td>\n",
       "      <td>гражданский брак</td>\n",
       "      <td>1</td>\n",
       "      <td>F</td>\n",
       "      <td>компаньон</td>\n",
       "      <td>0</td>\n",
       "      <td>203982.682943</td>\n",
       "      <td>сыграть свадьбу</td>\n",
       "      <td>(39.0, 47.0]</td>\n",
       "    </tr>\n",
       "    <tr>\n",
       "      <th>10855</th>\n",
       "      <td>0</td>\n",
       "      <td>03.11.1990</td>\n",
       "      <td>56</td>\n",
       "      <td>среднее</td>\n",
       "      <td>1</td>\n",
       "      <td>Не женат / не замужем</td>\n",
       "      <td>4</td>\n",
       "      <td>F</td>\n",
       "      <td>госслужащий</td>\n",
       "      <td>0</td>\n",
       "      <td>249879.759506</td>\n",
       "      <td>операции со своей недвижимостью</td>\n",
       "      <td>(47.0, 56.0]</td>\n",
       "    </tr>\n",
       "    <tr>\n",
       "      <th>8517</th>\n",
       "      <td>1</td>\n",
       "      <td>31.05.1978</td>\n",
       "      <td>33</td>\n",
       "      <td>высшее</td>\n",
       "      <td>0</td>\n",
       "      <td>гражданский брак</td>\n",
       "      <td>1</td>\n",
       "      <td>F</td>\n",
       "      <td>сотрудник</td>\n",
       "      <td>0</td>\n",
       "      <td>138839.875210</td>\n",
       "      <td>свадьба</td>\n",
       "      <td>(31.0, 39.0]</td>\n",
       "    </tr>\n",
       "    <tr>\n",
       "      <th>3239</th>\n",
       "      <td>0</td>\n",
       "      <td>07.12.1972</td>\n",
       "      <td>35</td>\n",
       "      <td>среднее</td>\n",
       "      <td>1</td>\n",
       "      <td>Не женат / не замужем</td>\n",
       "      <td>4</td>\n",
       "      <td>F</td>\n",
       "      <td>компаньон</td>\n",
       "      <td>0</td>\n",
       "      <td>83694.393699</td>\n",
       "      <td>заняться высшим образованием</td>\n",
       "      <td>(31.0, 39.0]</td>\n",
       "    </tr>\n",
       "    <tr>\n",
       "      <th>2639</th>\n",
       "      <td>0</td>\n",
       "      <td>28.08.1976</td>\n",
       "      <td>46</td>\n",
       "      <td>среднее</td>\n",
       "      <td>1</td>\n",
       "      <td>женат / замужем</td>\n",
       "      <td>0</td>\n",
       "      <td>M</td>\n",
       "      <td>компаньон</td>\n",
       "      <td>1</td>\n",
       "      <td>116896.346186</td>\n",
       "      <td>профильное образование</td>\n",
       "      <td>(39.0, 47.0]</td>\n",
       "    </tr>\n",
       "    <tr>\n",
       "      <th>973</th>\n",
       "      <td>0</td>\n",
       "      <td>05.10.1978</td>\n",
       "      <td>49</td>\n",
       "      <td>среднее</td>\n",
       "      <td>1</td>\n",
       "      <td>женат / замужем</td>\n",
       "      <td>0</td>\n",
       "      <td>F</td>\n",
       "      <td>сотрудник</td>\n",
       "      <td>0</td>\n",
       "      <td>142594.396847</td>\n",
       "      <td>операции с жильем</td>\n",
       "      <td>(47.0, 56.0]</td>\n",
       "    </tr>\n",
       "    <tr>\n",
       "      <th>16258</th>\n",
       "      <td>1</td>\n",
       "      <td>26.10.1976</td>\n",
       "      <td>47</td>\n",
       "      <td>среднее</td>\n",
       "      <td>1</td>\n",
       "      <td>гражданский брак</td>\n",
       "      <td>1</td>\n",
       "      <td>M</td>\n",
       "      <td>компаньон</td>\n",
       "      <td>0</td>\n",
       "      <td>349963.437017</td>\n",
       "      <td>на проведение свадьбы</td>\n",
       "      <td>(39.0, 47.0]</td>\n",
       "    </tr>\n",
       "    <tr>\n",
       "      <th>1492</th>\n",
       "      <td>0</td>\n",
       "      <td>31.03.2014</td>\n",
       "      <td>69</td>\n",
       "      <td>высшее</td>\n",
       "      <td>0</td>\n",
       "      <td>женат / замужем</td>\n",
       "      <td>0</td>\n",
       "      <td>M</td>\n",
       "      <td>пенсионер</td>\n",
       "      <td>0</td>\n",
       "      <td>104979.350488</td>\n",
       "      <td>получение дополнительного образования</td>\n",
       "      <td>(56.0, 75.0]</td>\n",
       "    </tr>\n",
       "    <tr>\n",
       "      <th>8842</th>\n",
       "      <td>0</td>\n",
       "      <td>05.10.1978</td>\n",
       "      <td>51</td>\n",
       "      <td>среднее</td>\n",
       "      <td>1</td>\n",
       "      <td>женат / замужем</td>\n",
       "      <td>0</td>\n",
       "      <td>M</td>\n",
       "      <td>сотрудник</td>\n",
       "      <td>0</td>\n",
       "      <td>142594.396847</td>\n",
       "      <td>недвижимость</td>\n",
       "      <td>(47.0, 56.0]</td>\n",
       "    </tr>\n",
       "    <tr>\n",
       "      <th>18812</th>\n",
       "      <td>0</td>\n",
       "      <td>28.12.1973</td>\n",
       "      <td>52</td>\n",
       "      <td>среднее</td>\n",
       "      <td>1</td>\n",
       "      <td>женат / замужем</td>\n",
       "      <td>0</td>\n",
       "      <td>F</td>\n",
       "      <td>сотрудник</td>\n",
       "      <td>0</td>\n",
       "      <td>482612.934778</td>\n",
       "      <td>покупка жилой недвижимости</td>\n",
       "      <td>(47.0, 56.0]</td>\n",
       "    </tr>\n",
       "  </tbody>\n",
       "</table>\n",
       "</div>"
      ],
      "text/plain": [
       "       children days_employed  dob_years education  education_id  \\\n",
       "14735         0    21.03.1973         40   Среднее             1   \n",
       "10855         0    03.11.1990         56   среднее             1   \n",
       "8517          1    31.05.1978         33    высшее             0   \n",
       "3239          0    07.12.1972         35   среднее             1   \n",
       "2639          0    28.08.1976         46   среднее             1   \n",
       "973           0    05.10.1978         49   среднее             1   \n",
       "16258         1    26.10.1976         47   среднее             1   \n",
       "1492          0    31.03.2014         69    высшее             0   \n",
       "8842          0    05.10.1978         51   среднее             1   \n",
       "18812         0    28.12.1973         52   среднее             1   \n",
       "\n",
       "               family_status  family_status_id gender  income_type  debt  \\\n",
       "14735       гражданский брак                 1      F    компаньон     0   \n",
       "10855  Не женат / не замужем                 4      F  госслужащий     0   \n",
       "8517        гражданский брак                 1      F    сотрудник     0   \n",
       "3239   Не женат / не замужем                 4      F    компаньон     0   \n",
       "2639         женат / замужем                 0      M    компаньон     1   \n",
       "973          женат / замужем                 0      F    сотрудник     0   \n",
       "16258       гражданский брак                 1      M    компаньон     0   \n",
       "1492         женат / замужем                 0      M    пенсионер     0   \n",
       "8842         женат / замужем                 0      M    сотрудник     0   \n",
       "18812        женат / замужем                 0      F    сотрудник     0   \n",
       "\n",
       "        total_income                                purpose    group_year  \n",
       "14735  203982.682943                        сыграть свадьбу  (39.0, 47.0]  \n",
       "10855  249879.759506        операции со своей недвижимостью  (47.0, 56.0]  \n",
       "8517   138839.875210                                свадьба  (31.0, 39.0]  \n",
       "3239    83694.393699           заняться высшим образованием  (31.0, 39.0]  \n",
       "2639   116896.346186                 профильное образование  (39.0, 47.0]  \n",
       "973    142594.396847                      операции с жильем  (47.0, 56.0]  \n",
       "16258  349963.437017                  на проведение свадьбы  (39.0, 47.0]  \n",
       "1492   104979.350488  получение дополнительного образования  (56.0, 75.0]  \n",
       "8842   142594.396847                           недвижимость  (47.0, 56.0]  \n",
       "18812  482612.934778             покупка жилой недвижимости  (47.0, 56.0]  "
      ]
     },
     "execution_count": 24,
     "metadata": {},
     "output_type": "execute_result"
    }
   ],
   "source": [
    "data.sample(10) # посмотрим рандомно несколько строк, чтобы исключить наличие скрытых пропусков "
   ]
  },
  {
   "cell_type": "markdown",
   "metadata": {},
   "source": [
    "Как мы видим, скрытых пропусков в таблице нет, но есть \"аномалии\", такие как значение -1 и 20 в столбце 'children'.Обработаем их. "
   ]
  },
  {
   "cell_type": "code",
   "execution_count": 25,
   "metadata": {},
   "outputs": [],
   "source": [
    "data=data.loc[(data.loc[:,'children']!=20)&(data.loc[:,'children']!=-1)] \n",
    "# мы удалили строки с данными аномалиями, т.к их меньше 1% от общего кол-ва и на исследование это не повлияет"
   ]
  },
  {
   "cell_type": "markdown",
   "metadata": {},
   "source": [
    "**Вывод**"
   ]
  },
  {
   "cell_type": "markdown",
   "metadata": {},
   "source": [
    "Пропуски в столбцах 'total_income' и 'days_employed' обработаны. Также мы привели к модулю столбец 'days_employed', тем самым избавившись от артефактов. И мы даже смогли восстановить данные из того столбца и привести их к формату даты. Правда даже после восстановления, данные являются неккоректными и их дальнейшее использование нецелесообразно."
   ]
  },
  {
   "cell_type": "markdown",
   "metadata": {},
   "source": [
    "### Замена типа данных  <a id=\"2.2\"></a> "
   ]
  },
  {
   "cell_type": "markdown",
   "metadata": {},
   "source": [
    "Поменяем тип данных в столбцах 'total_income'на целочисленный (int). Для этого воспользуемся методом astype(), который переведет тип данных в любой, который мы укажем в аргументе. Существует еще метод to_numeric(), но он переводит в тип float (вещественные числа), и в данном случае он нам не подходит."
   ]
  },
  {
   "cell_type": "code",
   "execution_count": 26,
   "metadata": {},
   "outputs": [
    {
     "name": "stdout",
     "output_type": "stream",
     "text": [
      "<class 'pandas.core.frame.DataFrame'>\n",
      "Int64Index: 21402 entries, 0 to 21524\n",
      "Data columns (total 13 columns):\n",
      " #   Column            Non-Null Count  Dtype   \n",
      "---  ------            --------------  -----   \n",
      " 0   children          21402 non-null  int64   \n",
      " 1   days_employed     21402 non-null  object  \n",
      " 2   dob_years         21402 non-null  int64   \n",
      " 3   education         21402 non-null  object  \n",
      " 4   education_id      21402 non-null  int64   \n",
      " 5   family_status     21402 non-null  object  \n",
      " 6   family_status_id  21402 non-null  int64   \n",
      " 7   gender            21402 non-null  object  \n",
      " 8   income_type       21402 non-null  object  \n",
      " 9   debt              21402 non-null  int64   \n",
      " 10  total_income      21402 non-null  int64   \n",
      " 11  purpose           21402 non-null  object  \n",
      " 12  group_year        21402 non-null  category\n",
      "dtypes: category(1), int64(6), object(6)\n",
      "memory usage: 2.1+ MB\n"
     ]
    }
   ],
   "source": [
    "data['total_income']=data['total_income'].astype(int)\n",
    "#Проверим изменения в даатфрейме\n",
    "data.info()"
   ]
  },
  {
   "cell_type": "markdown",
   "metadata": {},
   "source": [
    "**Вывод**"
   ]
  },
  {
   "cell_type": "markdown",
   "metadata": {},
   "source": [
    "Тип данных в столбцах заменен на целочисленный. Теперь мы можем приступать к обработке дубликатов."
   ]
  },
  {
   "cell_type": "markdown",
   "metadata": {},
   "source": [
    "### Обработка дубликатов  <a id=\"2.3\"></a> "
   ]
  },
  {
   "cell_type": "markdown",
   "metadata": {},
   "source": [
    "Дубликаты могли появиться в результате неправильного ввода данных, случайного копирования данных и т.д."
   ]
  },
  {
   "cell_type": "markdown",
   "metadata": {},
   "source": [
    "Найдем количество \"явных\" дубликатов."
   ]
  },
  {
   "cell_type": "code",
   "execution_count": 27,
   "metadata": {},
   "outputs": [
    {
     "name": "stdout",
     "output_type": "stream",
     "text": [
      "Количество дубликатов: 54\n"
     ]
    }
   ],
   "source": [
    "print(f'Количество дубликатов: {data.duplicated().sum()}')"
   ]
  },
  {
   "cell_type": "markdown",
   "metadata": {},
   "source": [
    "Но если посмотреть на таблицу, а именно на столбцы, содержащие строки (str), можно заметить, что данные записаны разным регистром, и возможно являются \"скрытыми\" дубликатами. Приведем все символы к нижнему регистру."
   ]
  },
  {
   "cell_type": "code",
   "execution_count": 28,
   "metadata": {},
   "outputs": [],
   "source": [
    "data['education']=data['education'].str.lower()\n",
    "data['family_status']=data['family_status'].str.lower()\n",
    "data['gender']=data['gender'].str.lower()\n",
    "data['income_type']=data['income_type'].str.lower()\n",
    "data['purpose']=data['purpose'].str.lower()"
   ]
  },
  {
   "cell_type": "code",
   "execution_count": 29,
   "metadata": {},
   "outputs": [
    {
     "name": "stdout",
     "output_type": "stream",
     "text": [
      "Количество дубликатов: 71\n"
     ]
    }
   ],
   "source": [
    "print(f'Количество дубликатов: {data.duplicated().sum()}')"
   ]
  },
  {
   "cell_type": "markdown",
   "metadata": {},
   "source": [
    "Таким образом мы выявили еще 17 скрытых дубликатов."
   ]
  },
  {
   "cell_type": "code",
   "execution_count": 30,
   "metadata": {},
   "outputs": [],
   "source": [
    "data=data.drop_duplicates().reset_index(drop=True)"
   ]
  },
  {
   "cell_type": "markdown",
   "metadata": {},
   "source": [
    "**Вывод**"
   ]
  },
  {
   "cell_type": "markdown",
   "metadata": {},
   "source": [
    "Мы отработали методы поиска дубликатов, в частности ручной поиск дубликатов. Теперь можно переходить к Лемматизации."
   ]
  },
  {
   "cell_type": "markdown",
   "metadata": {},
   "source": [
    "### Лемматизация <a id=\"2.4\"></a> "
   ]
  },
  {
   "cell_type": "code",
   "execution_count": 31,
   "metadata": {},
   "outputs": [],
   "source": [
    "from pymystem3 import Mystem # импортируем библиотеку для лемматизации\n",
    "m = Mystem()\n",
    "\n",
    "def lemmatize_purpose(string):# создаем функцию для лемматизации отдельной строки\n",
    "    lemma = m.lemmatize(string)\n",
    "    return lemma\n",
    "\n",
    "data['purpose'] = data['purpose'].apply(lemmatize_purpose)\n",
    "\n",
    "dest_str = ['жилье', 'автомобиль', 'образование', 'недвижимость', 'свадьба']\n",
    "\n",
    "def filter_purpose(srt_lem):\n",
    "    \"\"\"\n",
    "    создаем функцию, которая отсеивает ненужные слова, возвращая только основные понятия\n",
    "    \"\"\"\n",
    "    for filtr in dest_str:       # перебераем с помощью переменной filtr каждое понятие\n",
    "        if filtr in srt_lem:     # сравниваем со строкой из таблицы\n",
    "            return filtr         # в случае успеха функция возвращает основное понятие\n",
    "\n",
    "data['purpose'] = data['purpose'].apply(filter_purpose)"
   ]
  },
  {
   "cell_type": "code",
   "execution_count": 32,
   "metadata": {},
   "outputs": [
    {
     "data": {
      "text/html": [
       "<div>\n",
       "<style scoped>\n",
       "    .dataframe tbody tr th:only-of-type {\n",
       "        vertical-align: middle;\n",
       "    }\n",
       "\n",
       "    .dataframe tbody tr th {\n",
       "        vertical-align: top;\n",
       "    }\n",
       "\n",
       "    .dataframe thead th {\n",
       "        text-align: right;\n",
       "    }\n",
       "</style>\n",
       "<table border=\"1\" class=\"dataframe\">\n",
       "  <thead>\n",
       "    <tr style=\"text-align: right;\">\n",
       "      <th></th>\n",
       "      <th>children</th>\n",
       "      <th>days_employed</th>\n",
       "      <th>dob_years</th>\n",
       "      <th>education</th>\n",
       "      <th>education_id</th>\n",
       "      <th>family_status</th>\n",
       "      <th>family_status_id</th>\n",
       "      <th>gender</th>\n",
       "      <th>income_type</th>\n",
       "      <th>debt</th>\n",
       "      <th>total_income</th>\n",
       "      <th>purpose</th>\n",
       "      <th>group_year</th>\n",
       "    </tr>\n",
       "  </thead>\n",
       "  <tbody>\n",
       "    <tr>\n",
       "      <th>0</th>\n",
       "      <td>1</td>\n",
       "      <td>06.02.1993</td>\n",
       "      <td>42</td>\n",
       "      <td>высшее</td>\n",
       "      <td>0</td>\n",
       "      <td>женат / замужем</td>\n",
       "      <td>0</td>\n",
       "      <td>f</td>\n",
       "      <td>сотрудник</td>\n",
       "      <td>0</td>\n",
       "      <td>253875</td>\n",
       "      <td>жилье</td>\n",
       "      <td>(39.0, 47.0]</td>\n",
       "    </tr>\n",
       "    <tr>\n",
       "      <th>1</th>\n",
       "      <td>1</td>\n",
       "      <td>07.01.1981</td>\n",
       "      <td>36</td>\n",
       "      <td>среднее</td>\n",
       "      <td>1</td>\n",
       "      <td>женат / замужем</td>\n",
       "      <td>0</td>\n",
       "      <td>f</td>\n",
       "      <td>сотрудник</td>\n",
       "      <td>0</td>\n",
       "      <td>112080</td>\n",
       "      <td>автомобиль</td>\n",
       "      <td>(31.0, 39.0]</td>\n",
       "    </tr>\n",
       "    <tr>\n",
       "      <th>2</th>\n",
       "      <td>0</td>\n",
       "      <td>25.05.1985</td>\n",
       "      <td>33</td>\n",
       "      <td>среднее</td>\n",
       "      <td>1</td>\n",
       "      <td>женат / замужем</td>\n",
       "      <td>0</td>\n",
       "      <td>m</td>\n",
       "      <td>сотрудник</td>\n",
       "      <td>0</td>\n",
       "      <td>145885</td>\n",
       "      <td>жилье</td>\n",
       "      <td>(31.0, 39.0]</td>\n",
       "    </tr>\n",
       "    <tr>\n",
       "      <th>3</th>\n",
       "      <td>3</td>\n",
       "      <td>17.04.1981</td>\n",
       "      <td>32</td>\n",
       "      <td>среднее</td>\n",
       "      <td>1</td>\n",
       "      <td>женат / замужем</td>\n",
       "      <td>0</td>\n",
       "      <td>m</td>\n",
       "      <td>сотрудник</td>\n",
       "      <td>0</td>\n",
       "      <td>267628</td>\n",
       "      <td>образование</td>\n",
       "      <td>(31.0, 39.0]</td>\n",
       "    </tr>\n",
       "    <tr>\n",
       "      <th>4</th>\n",
       "      <td>0</td>\n",
       "      <td>25.10.2008</td>\n",
       "      <td>53</td>\n",
       "      <td>среднее</td>\n",
       "      <td>1</td>\n",
       "      <td>гражданский брак</td>\n",
       "      <td>1</td>\n",
       "      <td>f</td>\n",
       "      <td>пенсионер</td>\n",
       "      <td>0</td>\n",
       "      <td>158616</td>\n",
       "      <td>свадьба</td>\n",
       "      <td>(47.0, 56.0]</td>\n",
       "    </tr>\n",
       "  </tbody>\n",
       "</table>\n",
       "</div>"
      ],
      "text/plain": [
       "   children days_employed  dob_years education  education_id  \\\n",
       "0         1    06.02.1993         42    высшее             0   \n",
       "1         1    07.01.1981         36   среднее             1   \n",
       "2         0    25.05.1985         33   среднее             1   \n",
       "3         3    17.04.1981         32   среднее             1   \n",
       "4         0    25.10.2008         53   среднее             1   \n",
       "\n",
       "      family_status  family_status_id gender income_type  debt  total_income  \\\n",
       "0   женат / замужем                 0      f   сотрудник     0        253875   \n",
       "1   женат / замужем                 0      f   сотрудник     0        112080   \n",
       "2   женат / замужем                 0      m   сотрудник     0        145885   \n",
       "3   женат / замужем                 0      m   сотрудник     0        267628   \n",
       "4  гражданский брак                 1      f   пенсионер     0        158616   \n",
       "\n",
       "       purpose    group_year  \n",
       "0        жилье  (39.0, 47.0]  \n",
       "1   автомобиль  (31.0, 39.0]  \n",
       "2        жилье  (31.0, 39.0]  \n",
       "3  образование  (31.0, 39.0]  \n",
       "4      свадьба  (47.0, 56.0]  "
      ]
     },
     "execution_count": 32,
     "metadata": {},
     "output_type": "execute_result"
    }
   ],
   "source": [
    "data.head()"
   ]
  },
  {
   "cell_type": "markdown",
   "metadata": {},
   "source": [
    "**Вывод**"
   ]
  },
  {
   "cell_type": "markdown",
   "metadata": {},
   "source": [
    "Таким образом, мы выделили 5 основных целей оформления кредита: образование, свадьба, недвижимость, автомобиль, жилье. "
   ]
  },
  {
   "cell_type": "markdown",
   "metadata": {},
   "source": [
    "### Категоризация данных <a id=\"2.5\"></a> "
   ]
  },
  {
   "cell_type": "markdown",
   "metadata": {},
   "source": [
    "Мы видим, содержание столбцов 'education' и 'education_id', а также 'family_status' и 'family_status_id' можно объединить в словари."
   ]
  },
  {
   "cell_type": "code",
   "execution_count": 33,
   "metadata": {},
   "outputs": [
    {
     "name": "stdout",
     "output_type": "stream",
     "text": [
      "             education  education_id\n",
      "0               высшее             0\n",
      "1              среднее             1\n",
      "2  неоконченное высшее             2\n",
      "3            начальное             3\n",
      "4       ученая степень             4\n"
     ]
    }
   ],
   "source": [
    "#создадим новую таблицу, включающую в себя словарь из значений столбцов 'education' и 'education_id'\n",
    "education_name=data[['education','education_id']]\n",
    "#Удалим дубликаты в таблице и распечатаем её в порядке возрастания значений столбца education_id.\n",
    "print(education_name.drop_duplicates().reset_index(drop=True).sort_values(by='education_id'))"
   ]
  },
  {
   "cell_type": "markdown",
   "metadata": {},
   "source": [
    "Аналогично составим словарь по данным столбцов 'family_status' и 'family_status_id'."
   ]
  },
  {
   "cell_type": "code",
   "execution_count": 34,
   "metadata": {},
   "outputs": [
    {
     "name": "stdout",
     "output_type": "stream",
     "text": [
      "           family_status  family_status_id\n",
      "0        женат / замужем                 0\n",
      "1       гражданский брак                 1\n",
      "2         вдовец / вдова                 2\n",
      "3              в разводе                 3\n",
      "4  не женат / не замужем                 4\n"
     ]
    }
   ],
   "source": [
    "family_status_name=data[['family_status','family_status_id']]\n",
    "print(family_status_name.drop_duplicates().reset_index(drop=True).sort_values(by='family_status_id'))"
   ]
  },
  {
   "cell_type": "markdown",
   "metadata": {},
   "source": [
    "**Вывод**"
   ]
  },
  {
   "cell_type": "markdown",
   "metadata": {},
   "source": [
    "Категории выделены, можно приступать к ответам на вопросы."
   ]
  },
  {
   "cell_type": "markdown",
   "metadata": {},
   "source": [
    "## Ответы на вопросы <a id=\"3\"></a> "
   ]
  },
  {
   "cell_type": "markdown",
   "metadata": {},
   "source": [
    "- **Есть ли зависимость между наличием детей и возвратом кредита в срок?** <a id=\"3.1\"></a>"
   ]
  },
  {
   "cell_type": "code",
   "execution_count": 35,
   "metadata": {},
   "outputs": [
    {
     "data": {
      "text/html": [
       "<div>\n",
       "<style scoped>\n",
       "    .dataframe tbody tr th:only-of-type {\n",
       "        vertical-align: middle;\n",
       "    }\n",
       "\n",
       "    .dataframe tbody tr th {\n",
       "        vertical-align: top;\n",
       "    }\n",
       "\n",
       "    .dataframe thead tr th {\n",
       "        text-align: left;\n",
       "    }\n",
       "</style>\n",
       "<table border=\"1\" class=\"dataframe\">\n",
       "  <thead>\n",
       "    <tr>\n",
       "      <th></th>\n",
       "      <th>children</th>\n",
       "      <th colspan=\"2\" halign=\"left\">debt</th>\n",
       "    </tr>\n",
       "    <tr>\n",
       "      <th></th>\n",
       "      <th></th>\n",
       "      <th>sum</th>\n",
       "      <th>count</th>\n",
       "    </tr>\n",
       "  </thead>\n",
       "  <tbody>\n",
       "    <tr>\n",
       "      <th>0</th>\n",
       "      <td>0</td>\n",
       "      <td>1063</td>\n",
       "      <td>14091</td>\n",
       "    </tr>\n",
       "    <tr>\n",
       "      <th>1</th>\n",
       "      <td>1</td>\n",
       "      <td>444</td>\n",
       "      <td>4808</td>\n",
       "    </tr>\n",
       "    <tr>\n",
       "      <th>2</th>\n",
       "      <td>2</td>\n",
       "      <td>194</td>\n",
       "      <td>2052</td>\n",
       "    </tr>\n",
       "    <tr>\n",
       "      <th>3</th>\n",
       "      <td>3</td>\n",
       "      <td>27</td>\n",
       "      <td>330</td>\n",
       "    </tr>\n",
       "    <tr>\n",
       "      <th>4</th>\n",
       "      <td>4</td>\n",
       "      <td>4</td>\n",
       "      <td>41</td>\n",
       "    </tr>\n",
       "    <tr>\n",
       "      <th>5</th>\n",
       "      <td>5</td>\n",
       "      <td>0</td>\n",
       "      <td>9</td>\n",
       "    </tr>\n",
       "  </tbody>\n",
       "</table>\n",
       "</div>"
      ],
      "text/plain": [
       "  children  debt       \n",
       "             sum  count\n",
       "0        0  1063  14091\n",
       "1        1   444   4808\n",
       "2        2   194   2052\n",
       "3        3    27    330\n",
       "4        4     4     41\n",
       "5        5     0      9"
      ]
     },
     "metadata": {},
     "output_type": "display_data"
    }
   ],
   "source": [
    "table1=data.groupby('children')[['debt']].agg(['sum','count']).reset_index()\n",
    "display(table1)\n",
    "\n",
    "#выделим в отдельный столбец людей с просрочками, и в отдельный - общее количество людей. \n",
    "# И так по каждой группе столбца 'children'"
   ]
  },
  {
   "cell_type": "markdown",
   "metadata": {},
   "source": [
    " На этапе предобработки мы удалили ошибки в столбце 'children', равные -1 и 20. Также у нас присутствует группа с 5-ю детьми и в этой группе вообще отсутствуют \"должники\". Данная группа меньше 1% от общего кол-ва, и ее мы можем также отбросить. "
   ]
  },
  {
   "cell_type": "code",
   "execution_count": 36,
   "metadata": {},
   "outputs": [
    {
     "data": {
      "text/html": [
       "<div>\n",
       "<style scoped>\n",
       "    .dataframe tbody tr th:only-of-type {\n",
       "        vertical-align: middle;\n",
       "    }\n",
       "\n",
       "    .dataframe tbody tr th {\n",
       "        vertical-align: top;\n",
       "    }\n",
       "\n",
       "    .dataframe thead tr th {\n",
       "        text-align: left;\n",
       "    }\n",
       "\n",
       "    .dataframe thead tr:last-of-type th {\n",
       "        text-align: right;\n",
       "    }\n",
       "</style>\n",
       "<table border=\"1\" class=\"dataframe\">\n",
       "  <thead>\n",
       "    <tr>\n",
       "      <th></th>\n",
       "      <th colspan=\"3\" halign=\"left\">debt</th>\n",
       "    </tr>\n",
       "    <tr>\n",
       "      <th></th>\n",
       "      <th>count</th>\n",
       "      <th>sum</th>\n",
       "      <th>mean</th>\n",
       "    </tr>\n",
       "    <tr>\n",
       "      <th>children</th>\n",
       "      <th></th>\n",
       "      <th></th>\n",
       "      <th></th>\n",
       "    </tr>\n",
       "  </thead>\n",
       "  <tbody>\n",
       "    <tr>\n",
       "      <th>0</th>\n",
       "      <td>14091</td>\n",
       "      <td>1063</td>\n",
       "      <td>0.075438</td>\n",
       "    </tr>\n",
       "    <tr>\n",
       "      <th>1</th>\n",
       "      <td>4808</td>\n",
       "      <td>444</td>\n",
       "      <td>0.092346</td>\n",
       "    </tr>\n",
       "    <tr>\n",
       "      <th>2</th>\n",
       "      <td>2052</td>\n",
       "      <td>194</td>\n",
       "      <td>0.094542</td>\n",
       "    </tr>\n",
       "    <tr>\n",
       "      <th>3</th>\n",
       "      <td>330</td>\n",
       "      <td>27</td>\n",
       "      <td>0.081818</td>\n",
       "    </tr>\n",
       "    <tr>\n",
       "      <th>4</th>\n",
       "      <td>41</td>\n",
       "      <td>4</td>\n",
       "      <td>0.097561</td>\n",
       "    </tr>\n",
       "  </tbody>\n",
       "</table>\n",
       "</div>"
      ],
      "text/plain": [
       "           debt                \n",
       "          count   sum      mean\n",
       "children                       \n",
       "0         14091  1063  0.075438\n",
       "1          4808   444  0.092346\n",
       "2          2052   194  0.094542\n",
       "3           330    27  0.081818\n",
       "4            41     4  0.097561"
      ]
     },
     "metadata": {},
     "output_type": "display_data"
    }
   ],
   "source": [
    "table2=data.query('children !=5').groupby('children')[['debt']].agg(['count', 'sum', 'mean'])\n",
    "# также добавим функцию mean в таблицу, которая по сути здесь посчитает нам отношение \"должников\" к общему количеству.\n",
    "display(table2)"
   ]
  },
  {
   "cell_type": "markdown",
   "metadata": {},
   "source": [
    "**Вывод**"
   ]
  },
  {
   "cell_type": "markdown",
   "metadata": {},
   "source": [
    "Процент людей, у которых есть дети (1,2,3,4 ребенка) и были просрочки по кредиту, выше, чем процент людей с просрочками и без детей.  Данный вывод говорит нам о том, что люди с детьми допускают просрочки чаще, чем люди, у которых нет детей. Зависимость между количеством детей и количеством просрочек существует."
   ]
  },
  {
   "cell_type": "markdown",
   "metadata": {},
   "source": [
    "- **Есть ли зависимость между семейным положением и возвратом кредита в срок?** <a id=\"3.2\"></a>"
   ]
  },
  {
   "cell_type": "code",
   "execution_count": 37,
   "metadata": {
    "scrolled": false
   },
   "outputs": [
    {
     "data": {
      "text/html": [
       "<div>\n",
       "<style scoped>\n",
       "    .dataframe tbody tr th:only-of-type {\n",
       "        vertical-align: middle;\n",
       "    }\n",
       "\n",
       "    .dataframe tbody tr th {\n",
       "        vertical-align: top;\n",
       "    }\n",
       "\n",
       "    .dataframe thead tr th {\n",
       "        text-align: left;\n",
       "    }\n",
       "</style>\n",
       "<table border=\"1\" class=\"dataframe\">\n",
       "  <thead>\n",
       "    <tr>\n",
       "      <th></th>\n",
       "      <th>family_status</th>\n",
       "      <th colspan=\"3\" halign=\"left\">debt</th>\n",
       "    </tr>\n",
       "    <tr>\n",
       "      <th></th>\n",
       "      <th></th>\n",
       "      <th>sum</th>\n",
       "      <th>count</th>\n",
       "      <th>mean</th>\n",
       "    </tr>\n",
       "  </thead>\n",
       "  <tbody>\n",
       "    <tr>\n",
       "      <th>0</th>\n",
       "      <td>в разводе</td>\n",
       "      <td>84</td>\n",
       "      <td>1189</td>\n",
       "      <td>0.070648</td>\n",
       "    </tr>\n",
       "    <tr>\n",
       "      <th>1</th>\n",
       "      <td>вдовец / вдова</td>\n",
       "      <td>63</td>\n",
       "      <td>951</td>\n",
       "      <td>0.066246</td>\n",
       "    </tr>\n",
       "    <tr>\n",
       "      <th>2</th>\n",
       "      <td>гражданский брак</td>\n",
       "      <td>385</td>\n",
       "      <td>4134</td>\n",
       "      <td>0.093130</td>\n",
       "    </tr>\n",
       "    <tr>\n",
       "      <th>3</th>\n",
       "      <td>женат / замужем</td>\n",
       "      <td>927</td>\n",
       "      <td>12261</td>\n",
       "      <td>0.075606</td>\n",
       "    </tr>\n",
       "    <tr>\n",
       "      <th>4</th>\n",
       "      <td>не женат / не замужем</td>\n",
       "      <td>273</td>\n",
       "      <td>2796</td>\n",
       "      <td>0.097639</td>\n",
       "    </tr>\n",
       "  </tbody>\n",
       "</table>\n",
       "</div>"
      ],
      "text/plain": [
       "           family_status debt                 \n",
       "                          sum  count      mean\n",
       "0              в разводе   84   1189  0.070648\n",
       "1         вдовец / вдова   63    951  0.066246\n",
       "2       гражданский брак  385   4134  0.093130\n",
       "3        женат / замужем  927  12261  0.075606\n",
       "4  не женат / не замужем  273   2796  0.097639"
      ]
     },
     "metadata": {},
     "output_type": "display_data"
    }
   ],
   "source": [
    "#аналогично проверим вторую гипотезу\n",
    "table3=data.groupby('family_status')[['debt']].agg(['sum','count','mean']).reset_index()\n",
    "display(table3)\n"
   ]
  },
  {
   "cell_type": "markdown",
   "metadata": {},
   "source": [
    "**Вывод**"
   ]
  },
  {
   "cell_type": "markdown",
   "metadata": {},
   "source": [
    "Минимальное кол-во просрочек согласно результатам допускают люди в статусе \"вдовец/вдова\", максимальное - люди в статусе \"не женат/ не замужем\" и люди, находящиеся в гражданском браке."
   ]
  },
  {
   "cell_type": "markdown",
   "metadata": {},
   "source": [
    "- **Есть ли зависимость между уровнем дохода и возвратом кредита в срок?** <a id=\"3.3\"></a>"
   ]
  },
  {
   "cell_type": "markdown",
   "metadata": {},
   "source": [
    " Разделим на 4 группы столбец о доходе, чтобы сравнить их на предмет возврата кредита в срок. "
   ]
  },
  {
   "cell_type": "code",
   "execution_count": 38,
   "metadata": {},
   "outputs": [
    {
     "data": {
      "text/plain": [
       "0        (195831.5, 2265604.0]\n",
       "1         (107507.0, 142594.0]\n",
       "2         (142594.0, 195831.5]\n",
       "3        (195831.5, 2265604.0]\n",
       "4         (142594.0, 195831.5]\n",
       "                 ...          \n",
       "21326    (195831.5, 2265604.0]\n",
       "21327     (142594.0, 195831.5]\n",
       "21328    (20666.999, 107507.0]\n",
       "21329    (195831.5, 2265604.0]\n",
       "21330    (20666.999, 107507.0]\n",
       "Name: group_total, Length: 21331, dtype: category\n",
       "Categories (4, interval[float64]): [(20666.999, 107507.0] < (107507.0, 142594.0] < (142594.0, 195831.5] < (195831.5, 2265604.0]]"
      ]
     },
     "execution_count": 38,
     "metadata": {},
     "output_type": "execute_result"
    }
   ],
   "source": [
    "data['group_total'] = pd.qcut(data['total_income'],4)\n",
    "data['group_total']"
   ]
  },
  {
   "cell_type": "code",
   "execution_count": 39,
   "metadata": {},
   "outputs": [
    {
     "data": {
      "text/html": [
       "<div>\n",
       "<style scoped>\n",
       "    .dataframe tbody tr th:only-of-type {\n",
       "        vertical-align: middle;\n",
       "    }\n",
       "\n",
       "    .dataframe tbody tr th {\n",
       "        vertical-align: top;\n",
       "    }\n",
       "\n",
       "    .dataframe thead th {\n",
       "        text-align: right;\n",
       "    }\n",
       "</style>\n",
       "<table border=\"1\" class=\"dataframe\">\n",
       "  <thead>\n",
       "    <tr style=\"text-align: right;\">\n",
       "      <th></th>\n",
       "      <th>count</th>\n",
       "      <th>sum</th>\n",
       "      <th>results</th>\n",
       "    </tr>\n",
       "  </thead>\n",
       "  <tbody>\n",
       "    <tr>\n",
       "      <th>0</th>\n",
       "      <td>5333</td>\n",
       "      <td>427</td>\n",
       "      <td>0.080068</td>\n",
       "    </tr>\n",
       "    <tr>\n",
       "      <th>1</th>\n",
       "      <td>5450</td>\n",
       "      <td>480</td>\n",
       "      <td>0.088073</td>\n",
       "    </tr>\n",
       "    <tr>\n",
       "      <th>2</th>\n",
       "      <td>5215</td>\n",
       "      <td>444</td>\n",
       "      <td>0.085139</td>\n",
       "    </tr>\n",
       "    <tr>\n",
       "      <th>3</th>\n",
       "      <td>5333</td>\n",
       "      <td>381</td>\n",
       "      <td>0.071442</td>\n",
       "    </tr>\n",
       "  </tbody>\n",
       "</table>\n",
       "</div>"
      ],
      "text/plain": [
       "   count  sum   results\n",
       "0   5333  427  0.080068\n",
       "1   5450  480  0.088073\n",
       "2   5215  444  0.085139\n",
       "3   5333  381  0.071442"
      ]
     },
     "metadata": {},
     "output_type": "display_data"
    }
   ],
   "source": [
    "#отфильтруем таблицу со значениями total_income первой группы\n",
    "total_income_group1= data.loc[data.loc[:,'total_income']<=107507] \n",
    "count1=total_income_group1['debt'].count()  #далее считаем общее количество людей с доходом меньше среднего и кол-во таких людей с просрочками\n",
    "sum1=total_income_group1['debt'].sum()\n",
    "\n",
    "#аналогично для второй группы\n",
    "total_income_group2 = data.loc[(data.loc[:,'total_income']>107507)&(data.loc[:,'total_income']<=142594)]\n",
    "count2= total_income_group2['debt'].count()\n",
    "sum2=total_income_group2['debt'].sum()\n",
    "\n",
    "#для третьей группы\n",
    "total_income_group3 = data.loc[(data.loc[:,'total_income']>142594)&(data.loc[:,'total_income']<=195831.5)]\n",
    "count3= total_income_group3['debt'].count()\n",
    "sum3=total_income_group3['debt'].sum()\n",
    "\n",
    "#для четвертой группы\n",
    "total_income_group4 = data.loc[(data.loc[:,'total_income']>195831.5)]\n",
    "count4= total_income_group4['debt'].count()\n",
    "sum4=total_income_group4['debt'].sum()\n",
    "#создадим датафрейм, в котором наглядно будет виден результат исследования\n",
    "columns=['count','sum','results']\n",
    "value=[[count1, sum1, sum1/count1],[count2, sum2, sum2/count2], [count3, sum3, sum3/count3],[count4, sum4, sum4/count4]]\n",
    "finish_table = pd.DataFrame(data=value, columns = columns)\n",
    "display(finish_table)\n"
   ]
  },
  {
   "cell_type": "markdown",
   "metadata": {},
   "source": [
    "**Вывод**"
   ]
  },
  {
   "cell_type": "markdown",
   "metadata": {},
   "source": [
    "Из таблицы видно, что люди с доходом первых трёх групп допускают примерно одинаковое количество просрочек. А люди с доходом выше 195 тыс. допускают меньше просрочек, чем люди с меньшим доходом."
   ]
  },
  {
   "cell_type": "markdown",
   "metadata": {},
   "source": [
    "- **Как разные цели кредита влияют на его возврат в срок?** <a id=\"3.4\"></a>"
   ]
  },
  {
   "cell_type": "code",
   "execution_count": 40,
   "metadata": {
    "scrolled": true
   },
   "outputs": [
    {
     "data": {
      "text/html": [
       "<div>\n",
       "<style scoped>\n",
       "    .dataframe tbody tr th:only-of-type {\n",
       "        vertical-align: middle;\n",
       "    }\n",
       "\n",
       "    .dataframe tbody tr th {\n",
       "        vertical-align: top;\n",
       "    }\n",
       "\n",
       "    .dataframe thead tr th {\n",
       "        text-align: left;\n",
       "    }\n",
       "</style>\n",
       "<table border=\"1\" class=\"dataframe\">\n",
       "  <thead>\n",
       "    <tr>\n",
       "      <th></th>\n",
       "      <th>purpose</th>\n",
       "      <th colspan=\"3\" halign=\"left\">debt</th>\n",
       "    </tr>\n",
       "    <tr>\n",
       "      <th></th>\n",
       "      <th></th>\n",
       "      <th>sum</th>\n",
       "      <th>count</th>\n",
       "      <th>mean</th>\n",
       "    </tr>\n",
       "  </thead>\n",
       "  <tbody>\n",
       "    <tr>\n",
       "      <th>0</th>\n",
       "      <td>автомобиль</td>\n",
       "      <td>400</td>\n",
       "      <td>4279</td>\n",
       "      <td>0.093480</td>\n",
       "    </tr>\n",
       "    <tr>\n",
       "      <th>1</th>\n",
       "      <td>жилье</td>\n",
       "      <td>308</td>\n",
       "      <td>4437</td>\n",
       "      <td>0.069416</td>\n",
       "    </tr>\n",
       "    <tr>\n",
       "      <th>2</th>\n",
       "      <td>недвижимость</td>\n",
       "      <td>472</td>\n",
       "      <td>6314</td>\n",
       "      <td>0.074755</td>\n",
       "    </tr>\n",
       "    <tr>\n",
       "      <th>3</th>\n",
       "      <td>образование</td>\n",
       "      <td>369</td>\n",
       "      <td>3988</td>\n",
       "      <td>0.092528</td>\n",
       "    </tr>\n",
       "    <tr>\n",
       "      <th>4</th>\n",
       "      <td>свадьба</td>\n",
       "      <td>183</td>\n",
       "      <td>2313</td>\n",
       "      <td>0.079118</td>\n",
       "    </tr>\n",
       "  </tbody>\n",
       "</table>\n",
       "</div>"
      ],
      "text/plain": [
       "        purpose debt                \n",
       "                 sum count      mean\n",
       "0    автомобиль  400  4279  0.093480\n",
       "1         жилье  308  4437  0.069416\n",
       "2  недвижимость  472  6314  0.074755\n",
       "3   образование  369  3988  0.092528\n",
       "4       свадьба  183  2313  0.079118"
      ]
     },
     "metadata": {},
     "output_type": "display_data"
    }
   ],
   "source": [
    "try:\n",
    "    table9=data.groupby('purpose')[['debt']].agg(['sum','count','mean']).reset_index()\n",
    "    display(table9)\n",
    "except:\n",
    "    print('Вывод результата невозможен. Проверь вводимые данные')"
   ]
  },
  {
   "cell_type": "markdown",
   "metadata": {},
   "source": [
    "**Вывод**"
   ]
  },
  {
   "cell_type": "markdown",
   "metadata": {},
   "source": [
    "Из результата можно сделать следующие выводы: Наибольшее количество просрочек допускается по кредитам на приобретение автомобиля и на образование. Меньше всего просрочек по кредитам на приобретение жилья."
   ]
  },
  {
   "cell_type": "markdown",
   "metadata": {},
   "source": [
    "## Общий вывод <a id=\"4\"></a>"
   ]
  },
  {
   "cell_type": "code",
   "execution_count": 41,
   "metadata": {},
   "outputs": [
    {
     "data": {
      "text/html": [
       "<div>\n",
       "<style scoped>\n",
       "    .dataframe tbody tr th:only-of-type {\n",
       "        vertical-align: middle;\n",
       "    }\n",
       "\n",
       "    .dataframe tbody tr th {\n",
       "        vertical-align: top;\n",
       "    }\n",
       "\n",
       "    .dataframe thead th {\n",
       "        text-align: right;\n",
       "    }\n",
       "</style>\n",
       "<table border=\"1\" class=\"dataframe\">\n",
       "  <thead>\n",
       "    <tr style=\"text-align: right;\">\n",
       "      <th></th>\n",
       "      <th>purpose</th>\n",
       "      <th>автомобиль</th>\n",
       "      <th>жилье</th>\n",
       "      <th>недвижимость</th>\n",
       "      <th>образование</th>\n",
       "      <th>свадьба</th>\n",
       "    </tr>\n",
       "    <tr>\n",
       "      <th>family_status</th>\n",
       "      <th>children</th>\n",
       "      <th></th>\n",
       "      <th></th>\n",
       "      <th></th>\n",
       "      <th></th>\n",
       "      <th></th>\n",
       "    </tr>\n",
       "  </thead>\n",
       "  <tbody>\n",
       "    <tr>\n",
       "      <th rowspan=\"5\" valign=\"top\">в разводе</th>\n",
       "      <th>0</th>\n",
       "      <td>13.0</td>\n",
       "      <td>13.0</td>\n",
       "      <td>16.0</td>\n",
       "      <td>13.0</td>\n",
       "      <td>NaN</td>\n",
       "    </tr>\n",
       "    <tr>\n",
       "      <th>1</th>\n",
       "      <td>6.0</td>\n",
       "      <td>6.0</td>\n",
       "      <td>7.0</td>\n",
       "      <td>2.0</td>\n",
       "      <td>NaN</td>\n",
       "    </tr>\n",
       "    <tr>\n",
       "      <th>2</th>\n",
       "      <td>2.0</td>\n",
       "      <td>0.0</td>\n",
       "      <td>3.0</td>\n",
       "      <td>2.0</td>\n",
       "      <td>NaN</td>\n",
       "    </tr>\n",
       "    <tr>\n",
       "      <th>3</th>\n",
       "      <td>0.0</td>\n",
       "      <td>0.0</td>\n",
       "      <td>1.0</td>\n",
       "      <td>NaN</td>\n",
       "      <td>NaN</td>\n",
       "    </tr>\n",
       "    <tr>\n",
       "      <th>4</th>\n",
       "      <td>0.0</td>\n",
       "      <td>NaN</td>\n",
       "      <td>NaN</td>\n",
       "      <td>NaN</td>\n",
       "      <td>NaN</td>\n",
       "    </tr>\n",
       "    <tr>\n",
       "      <th rowspan=\"5\" valign=\"top\">вдовец / вдова</th>\n",
       "      <th>0</th>\n",
       "      <td>19.0</td>\n",
       "      <td>8.0</td>\n",
       "      <td>14.0</td>\n",
       "      <td>12.0</td>\n",
       "      <td>NaN</td>\n",
       "    </tr>\n",
       "    <tr>\n",
       "      <th>1</th>\n",
       "      <td>0.0</td>\n",
       "      <td>2.0</td>\n",
       "      <td>2.0</td>\n",
       "      <td>3.0</td>\n",
       "      <td>NaN</td>\n",
       "    </tr>\n",
       "    <tr>\n",
       "      <th>2</th>\n",
       "      <td>1.0</td>\n",
       "      <td>2.0</td>\n",
       "      <td>0.0</td>\n",
       "      <td>0.0</td>\n",
       "      <td>NaN</td>\n",
       "    </tr>\n",
       "    <tr>\n",
       "      <th>3</th>\n",
       "      <td>NaN</td>\n",
       "      <td>0.0</td>\n",
       "      <td>0.0</td>\n",
       "      <td>0.0</td>\n",
       "      <td>NaN</td>\n",
       "    </tr>\n",
       "    <tr>\n",
       "      <th>4</th>\n",
       "      <td>NaN</td>\n",
       "      <td>0.0</td>\n",
       "      <td>NaN</td>\n",
       "      <td>NaN</td>\n",
       "      <td>NaN</td>\n",
       "    </tr>\n",
       "    <tr>\n",
       "      <th rowspan=\"5\" valign=\"top\">гражданский брак</th>\n",
       "      <th>0</th>\n",
       "      <td>28.0</td>\n",
       "      <td>18.0</td>\n",
       "      <td>33.0</td>\n",
       "      <td>35.0</td>\n",
       "      <td>115.0</td>\n",
       "    </tr>\n",
       "    <tr>\n",
       "      <th>1</th>\n",
       "      <td>17.0</td>\n",
       "      <td>14.0</td>\n",
       "      <td>18.0</td>\n",
       "      <td>18.0</td>\n",
       "      <td>51.0</td>\n",
       "    </tr>\n",
       "    <tr>\n",
       "      <th>2</th>\n",
       "      <td>4.0</td>\n",
       "      <td>4.0</td>\n",
       "      <td>4.0</td>\n",
       "      <td>6.0</td>\n",
       "      <td>12.0</td>\n",
       "    </tr>\n",
       "    <tr>\n",
       "      <th>3</th>\n",
       "      <td>2.0</td>\n",
       "      <td>0.0</td>\n",
       "      <td>0.0</td>\n",
       "      <td>1.0</td>\n",
       "      <td>5.0</td>\n",
       "    </tr>\n",
       "    <tr>\n",
       "      <th>4</th>\n",
       "      <td>0.0</td>\n",
       "      <td>0.0</td>\n",
       "      <td>0.0</td>\n",
       "      <td>NaN</td>\n",
       "      <td>0.0</td>\n",
       "    </tr>\n",
       "    <tr>\n",
       "      <th rowspan=\"5\" valign=\"top\">женат / замужем</th>\n",
       "      <th>0</th>\n",
       "      <td>119.0</td>\n",
       "      <td>114.0</td>\n",
       "      <td>165.0</td>\n",
       "      <td>118.0</td>\n",
       "      <td>NaN</td>\n",
       "    </tr>\n",
       "    <tr>\n",
       "      <th>1</th>\n",
       "      <td>67.0</td>\n",
       "      <td>42.0</td>\n",
       "      <td>80.0</td>\n",
       "      <td>57.0</td>\n",
       "      <td>NaN</td>\n",
       "    </tr>\n",
       "    <tr>\n",
       "      <th>2</th>\n",
       "      <td>36.0</td>\n",
       "      <td>29.0</td>\n",
       "      <td>43.0</td>\n",
       "      <td>37.0</td>\n",
       "      <td>NaN</td>\n",
       "    </tr>\n",
       "    <tr>\n",
       "      <th>3</th>\n",
       "      <td>3.0</td>\n",
       "      <td>6.0</td>\n",
       "      <td>5.0</td>\n",
       "      <td>3.0</td>\n",
       "      <td>NaN</td>\n",
       "    </tr>\n",
       "    <tr>\n",
       "      <th>4</th>\n",
       "      <td>1.0</td>\n",
       "      <td>1.0</td>\n",
       "      <td>1.0</td>\n",
       "      <td>0.0</td>\n",
       "      <td>NaN</td>\n",
       "    </tr>\n",
       "    <tr>\n",
       "      <th rowspan=\"5\" valign=\"top\">не женат / не замужем</th>\n",
       "      <th>0</th>\n",
       "      <td>64.0</td>\n",
       "      <td>39.0</td>\n",
       "      <td>56.0</td>\n",
       "      <td>51.0</td>\n",
       "      <td>NaN</td>\n",
       "    </tr>\n",
       "    <tr>\n",
       "      <th>1</th>\n",
       "      <td>13.0</td>\n",
       "      <td>8.0</td>\n",
       "      <td>21.0</td>\n",
       "      <td>10.0</td>\n",
       "      <td>NaN</td>\n",
       "    </tr>\n",
       "    <tr>\n",
       "      <th>2</th>\n",
       "      <td>5.0</td>\n",
       "      <td>1.0</td>\n",
       "      <td>2.0</td>\n",
       "      <td>1.0</td>\n",
       "      <td>NaN</td>\n",
       "    </tr>\n",
       "    <tr>\n",
       "      <th>3</th>\n",
       "      <td>0.0</td>\n",
       "      <td>NaN</td>\n",
       "      <td>1.0</td>\n",
       "      <td>0.0</td>\n",
       "      <td>NaN</td>\n",
       "    </tr>\n",
       "    <tr>\n",
       "      <th>4</th>\n",
       "      <td>NaN</td>\n",
       "      <td>1.0</td>\n",
       "      <td>NaN</td>\n",
       "      <td>0.0</td>\n",
       "      <td>NaN</td>\n",
       "    </tr>\n",
       "  </tbody>\n",
       "</table>\n",
       "</div>"
      ],
      "text/plain": [
       "purpose                         автомобиль  жилье  недвижимость  образование  \\\n",
       "family_status         children                                                 \n",
       "в разводе             0               13.0   13.0          16.0         13.0   \n",
       "                      1                6.0    6.0           7.0          2.0   \n",
       "                      2                2.0    0.0           3.0          2.0   \n",
       "                      3                0.0    0.0           1.0          NaN   \n",
       "                      4                0.0    NaN           NaN          NaN   \n",
       "вдовец / вдова        0               19.0    8.0          14.0         12.0   \n",
       "                      1                0.0    2.0           2.0          3.0   \n",
       "                      2                1.0    2.0           0.0          0.0   \n",
       "                      3                NaN    0.0           0.0          0.0   \n",
       "                      4                NaN    0.0           NaN          NaN   \n",
       "гражданский брак      0               28.0   18.0          33.0         35.0   \n",
       "                      1               17.0   14.0          18.0         18.0   \n",
       "                      2                4.0    4.0           4.0          6.0   \n",
       "                      3                2.0    0.0           0.0          1.0   \n",
       "                      4                0.0    0.0           0.0          NaN   \n",
       "женат / замужем       0              119.0  114.0         165.0        118.0   \n",
       "                      1               67.0   42.0          80.0         57.0   \n",
       "                      2               36.0   29.0          43.0         37.0   \n",
       "                      3                3.0    6.0           5.0          3.0   \n",
       "                      4                1.0    1.0           1.0          0.0   \n",
       "не женат / не замужем 0               64.0   39.0          56.0         51.0   \n",
       "                      1               13.0    8.0          21.0         10.0   \n",
       "                      2                5.0    1.0           2.0          1.0   \n",
       "                      3                0.0    NaN           1.0          0.0   \n",
       "                      4                NaN    1.0           NaN          0.0   \n",
       "\n",
       "purpose                         свадьба  \n",
       "family_status         children           \n",
       "в разводе             0             NaN  \n",
       "                      1             NaN  \n",
       "                      2             NaN  \n",
       "                      3             NaN  \n",
       "                      4             NaN  \n",
       "вдовец / вдова        0             NaN  \n",
       "                      1             NaN  \n",
       "                      2             NaN  \n",
       "                      3             NaN  \n",
       "                      4             NaN  \n",
       "гражданский брак      0           115.0  \n",
       "                      1            51.0  \n",
       "                      2            12.0  \n",
       "                      3             5.0  \n",
       "                      4             0.0  \n",
       "женат / замужем       0             NaN  \n",
       "                      1             NaN  \n",
       "                      2             NaN  \n",
       "                      3             NaN  \n",
       "                      4             NaN  \n",
       "не женат / не замужем 0             NaN  \n",
       "                      1             NaN  \n",
       "                      2             NaN  \n",
       "                      3             NaN  \n",
       "                      4             NaN  "
      ]
     },
     "execution_count": 41,
     "metadata": {},
     "output_type": "execute_result"
    }
   ],
   "source": [
    "#создадим сводную таблицу из данных датафрейма\n",
    "result=data.query('children !=-1 and children!=20 and children!=5 and gender!=\"XNA\"').pivot_table(\n",
    "    index = ['family_status','children'], \n",
    "    columns = 'purpose',\n",
    "    values = 'debt', \n",
    "    aggfunc = 'sum')\n",
    "result"
   ]
  },
  {
   "cell_type": "markdown",
   "metadata": {},
   "source": [
    "Из сводной таблицы ниже видно, например, что количество  замужних людей с двумя детьми, оформивших кредит на автомобиль и допустивших просрочку -  36 человек от общего числа в этой категории. В то же время людей с 2 детьми и в разводе, оформивших кредит на автомобиль и допустивших просрочку - всего двое и т.п.\n"
   ]
  },
  {
   "cell_type": "markdown",
   "metadata": {},
   "source": [
    "Но данная информация не наглядна для общего вывода, более разумно собрать данные из таблиц нашего исследования:"
   ]
  },
  {
   "cell_type": "code",
   "execution_count": 42,
   "metadata": {},
   "outputs": [
    {
     "data": {
      "text/html": [
       "<div>\n",
       "<style scoped>\n",
       "    .dataframe tbody tr th:only-of-type {\n",
       "        vertical-align: middle;\n",
       "    }\n",
       "\n",
       "    .dataframe tbody tr th {\n",
       "        vertical-align: top;\n",
       "    }\n",
       "\n",
       "    .dataframe thead tr th {\n",
       "        text-align: left;\n",
       "    }\n",
       "\n",
       "    .dataframe thead tr:last-of-type th {\n",
       "        text-align: right;\n",
       "    }\n",
       "</style>\n",
       "<table border=\"1\" class=\"dataframe\">\n",
       "  <thead>\n",
       "    <tr>\n",
       "      <th></th>\n",
       "      <th colspan=\"3\" halign=\"left\">debt</th>\n",
       "    </tr>\n",
       "    <tr>\n",
       "      <th></th>\n",
       "      <th>count</th>\n",
       "      <th>sum</th>\n",
       "      <th>mean</th>\n",
       "    </tr>\n",
       "    <tr>\n",
       "      <th>children</th>\n",
       "      <th></th>\n",
       "      <th></th>\n",
       "      <th></th>\n",
       "    </tr>\n",
       "  </thead>\n",
       "  <tbody>\n",
       "    <tr>\n",
       "      <th>0</th>\n",
       "      <td>14091</td>\n",
       "      <td>1063</td>\n",
       "      <td>0.075438</td>\n",
       "    </tr>\n",
       "    <tr>\n",
       "      <th>1</th>\n",
       "      <td>4808</td>\n",
       "      <td>444</td>\n",
       "      <td>0.092346</td>\n",
       "    </tr>\n",
       "    <tr>\n",
       "      <th>2</th>\n",
       "      <td>2052</td>\n",
       "      <td>194</td>\n",
       "      <td>0.094542</td>\n",
       "    </tr>\n",
       "    <tr>\n",
       "      <th>3</th>\n",
       "      <td>330</td>\n",
       "      <td>27</td>\n",
       "      <td>0.081818</td>\n",
       "    </tr>\n",
       "    <tr>\n",
       "      <th>4</th>\n",
       "      <td>41</td>\n",
       "      <td>4</td>\n",
       "      <td>0.097561</td>\n",
       "    </tr>\n",
       "  </tbody>\n",
       "</table>\n",
       "</div>"
      ],
      "text/plain": [
       "           debt                \n",
       "          count   sum      mean\n",
       "children                       \n",
       "0         14091  1063  0.075438\n",
       "1          4808   444  0.092346\n",
       "2          2052   194  0.094542\n",
       "3           330    27  0.081818\n",
       "4            41     4  0.097561"
      ]
     },
     "metadata": {},
     "output_type": "display_data"
    },
    {
     "data": {
      "text/html": [
       "<div>\n",
       "<style scoped>\n",
       "    .dataframe tbody tr th:only-of-type {\n",
       "        vertical-align: middle;\n",
       "    }\n",
       "\n",
       "    .dataframe tbody tr th {\n",
       "        vertical-align: top;\n",
       "    }\n",
       "\n",
       "    .dataframe thead tr th {\n",
       "        text-align: left;\n",
       "    }\n",
       "</style>\n",
       "<table border=\"1\" class=\"dataframe\">\n",
       "  <thead>\n",
       "    <tr>\n",
       "      <th></th>\n",
       "      <th>family_status</th>\n",
       "      <th colspan=\"3\" halign=\"left\">debt</th>\n",
       "    </tr>\n",
       "    <tr>\n",
       "      <th></th>\n",
       "      <th></th>\n",
       "      <th>sum</th>\n",
       "      <th>count</th>\n",
       "      <th>mean</th>\n",
       "    </tr>\n",
       "  </thead>\n",
       "  <tbody>\n",
       "    <tr>\n",
       "      <th>0</th>\n",
       "      <td>в разводе</td>\n",
       "      <td>84</td>\n",
       "      <td>1189</td>\n",
       "      <td>0.070648</td>\n",
       "    </tr>\n",
       "    <tr>\n",
       "      <th>1</th>\n",
       "      <td>вдовец / вдова</td>\n",
       "      <td>63</td>\n",
       "      <td>951</td>\n",
       "      <td>0.066246</td>\n",
       "    </tr>\n",
       "    <tr>\n",
       "      <th>2</th>\n",
       "      <td>гражданский брак</td>\n",
       "      <td>385</td>\n",
       "      <td>4134</td>\n",
       "      <td>0.093130</td>\n",
       "    </tr>\n",
       "    <tr>\n",
       "      <th>3</th>\n",
       "      <td>женат / замужем</td>\n",
       "      <td>927</td>\n",
       "      <td>12261</td>\n",
       "      <td>0.075606</td>\n",
       "    </tr>\n",
       "    <tr>\n",
       "      <th>4</th>\n",
       "      <td>не женат / не замужем</td>\n",
       "      <td>273</td>\n",
       "      <td>2796</td>\n",
       "      <td>0.097639</td>\n",
       "    </tr>\n",
       "  </tbody>\n",
       "</table>\n",
       "</div>"
      ],
      "text/plain": [
       "           family_status debt                 \n",
       "                          sum  count      mean\n",
       "0              в разводе   84   1189  0.070648\n",
       "1         вдовец / вдова   63    951  0.066246\n",
       "2       гражданский брак  385   4134  0.093130\n",
       "3        женат / замужем  927  12261  0.075606\n",
       "4  не женат / не замужем  273   2796  0.097639"
      ]
     },
     "metadata": {},
     "output_type": "display_data"
    },
    {
     "data": {
      "text/html": [
       "<div>\n",
       "<style scoped>\n",
       "    .dataframe tbody tr th:only-of-type {\n",
       "        vertical-align: middle;\n",
       "    }\n",
       "\n",
       "    .dataframe tbody tr th {\n",
       "        vertical-align: top;\n",
       "    }\n",
       "\n",
       "    .dataframe thead tr th {\n",
       "        text-align: left;\n",
       "    }\n",
       "</style>\n",
       "<table border=\"1\" class=\"dataframe\">\n",
       "  <thead>\n",
       "    <tr>\n",
       "      <th></th>\n",
       "      <th>purpose</th>\n",
       "      <th colspan=\"3\" halign=\"left\">debt</th>\n",
       "    </tr>\n",
       "    <tr>\n",
       "      <th></th>\n",
       "      <th></th>\n",
       "      <th>sum</th>\n",
       "      <th>count</th>\n",
       "      <th>mean</th>\n",
       "    </tr>\n",
       "  </thead>\n",
       "  <tbody>\n",
       "    <tr>\n",
       "      <th>0</th>\n",
       "      <td>автомобиль</td>\n",
       "      <td>400</td>\n",
       "      <td>4279</td>\n",
       "      <td>0.093480</td>\n",
       "    </tr>\n",
       "    <tr>\n",
       "      <th>1</th>\n",
       "      <td>жилье</td>\n",
       "      <td>308</td>\n",
       "      <td>4437</td>\n",
       "      <td>0.069416</td>\n",
       "    </tr>\n",
       "    <tr>\n",
       "      <th>2</th>\n",
       "      <td>недвижимость</td>\n",
       "      <td>472</td>\n",
       "      <td>6314</td>\n",
       "      <td>0.074755</td>\n",
       "    </tr>\n",
       "    <tr>\n",
       "      <th>3</th>\n",
       "      <td>образование</td>\n",
       "      <td>369</td>\n",
       "      <td>3988</td>\n",
       "      <td>0.092528</td>\n",
       "    </tr>\n",
       "    <tr>\n",
       "      <th>4</th>\n",
       "      <td>свадьба</td>\n",
       "      <td>183</td>\n",
       "      <td>2313</td>\n",
       "      <td>0.079118</td>\n",
       "    </tr>\n",
       "  </tbody>\n",
       "</table>\n",
       "</div>"
      ],
      "text/plain": [
       "        purpose debt                \n",
       "                 sum count      mean\n",
       "0    автомобиль  400  4279  0.093480\n",
       "1         жилье  308  4437  0.069416\n",
       "2  недвижимость  472  6314  0.074755\n",
       "3   образование  369  3988  0.092528\n",
       "4       свадьба  183  2313  0.079118"
      ]
     },
     "metadata": {},
     "output_type": "display_data"
    },
    {
     "data": {
      "text/html": [
       "<div>\n",
       "<style scoped>\n",
       "    .dataframe tbody tr th:only-of-type {\n",
       "        vertical-align: middle;\n",
       "    }\n",
       "\n",
       "    .dataframe tbody tr th {\n",
       "        vertical-align: top;\n",
       "    }\n",
       "\n",
       "    .dataframe thead th {\n",
       "        text-align: right;\n",
       "    }\n",
       "</style>\n",
       "<table border=\"1\" class=\"dataframe\">\n",
       "  <thead>\n",
       "    <tr style=\"text-align: right;\">\n",
       "      <th></th>\n",
       "      <th>count</th>\n",
       "      <th>sum</th>\n",
       "      <th>results</th>\n",
       "    </tr>\n",
       "  </thead>\n",
       "  <tbody>\n",
       "    <tr>\n",
       "      <th>0</th>\n",
       "      <td>5333</td>\n",
       "      <td>427</td>\n",
       "      <td>0.080068</td>\n",
       "    </tr>\n",
       "    <tr>\n",
       "      <th>1</th>\n",
       "      <td>5450</td>\n",
       "      <td>480</td>\n",
       "      <td>0.088073</td>\n",
       "    </tr>\n",
       "    <tr>\n",
       "      <th>2</th>\n",
       "      <td>5215</td>\n",
       "      <td>444</td>\n",
       "      <td>0.085139</td>\n",
       "    </tr>\n",
       "    <tr>\n",
       "      <th>3</th>\n",
       "      <td>5333</td>\n",
       "      <td>381</td>\n",
       "      <td>0.071442</td>\n",
       "    </tr>\n",
       "  </tbody>\n",
       "</table>\n",
       "</div>"
      ],
      "text/plain": [
       "   count  sum   results\n",
       "0   5333  427  0.080068\n",
       "1   5450  480  0.088073\n",
       "2   5215  444  0.085139\n",
       "3   5333  381  0.071442"
      ]
     },
     "metadata": {},
     "output_type": "display_data"
    }
   ],
   "source": [
    "display(table2)\n",
    "display(table3)\n",
    "display(table9)\n",
    "display(finish_table)"
   ]
  },
  {
   "cell_type": "markdown",
   "metadata": {},
   "source": [
    "**Заключение:** Исходя из результатов таблицы можно сделать вывод, что вероятнее всего просрочку допустит человек с доходом ниже 195 тысячи рублей, семейное положение которого: \"не женат\\не замужем\" с детьми и целью кредита является приобретение автомобиля или образование."
   ]
  }
 ],
 "metadata": {
  "ExecuteTimeLog": [
   {
    "duration": 909,
    "start_time": "2021-06-12T09:58:25.621Z"
   },
   {
    "duration": 82,
    "start_time": "2021-06-12T10:12:48.887Z"
   },
   {
    "duration": 122,
    "start_time": "2021-06-12T10:14:53.414Z"
   },
   {
    "duration": 103,
    "start_time": "2021-06-12T10:15:15.534Z"
   },
   {
    "duration": 123,
    "start_time": "2021-06-12T10:15:51.182Z"
   },
   {
    "duration": 127,
    "start_time": "2021-06-12T10:16:10.725Z"
   },
   {
    "duration": 93,
    "start_time": "2021-06-12T10:44:39.904Z"
   },
   {
    "duration": 93,
    "start_time": "2021-06-12T10:53:18.746Z"
   },
   {
    "duration": 94,
    "start_time": "2021-06-12T10:55:05.228Z"
   },
   {
    "duration": 92,
    "start_time": "2021-06-12T10:55:19.907Z"
   },
   {
    "duration": 141,
    "start_time": "2021-06-12T10:57:23.109Z"
   },
   {
    "duration": 98,
    "start_time": "2021-06-12T10:57:29.298Z"
   },
   {
    "duration": 97,
    "start_time": "2021-06-12T10:58:03.186Z"
   },
   {
    "duration": 117,
    "start_time": "2021-06-12T10:58:46.650Z"
   },
   {
    "duration": 119,
    "start_time": "2021-06-12T10:59:42.570Z"
   },
   {
    "duration": 99,
    "start_time": "2021-06-12T11:00:15.867Z"
   },
   {
    "duration": 100,
    "start_time": "2021-06-12T11:00:35.530Z"
   },
   {
    "duration": 99,
    "start_time": "2021-06-12T11:00:53.218Z"
   },
   {
    "duration": 118,
    "start_time": "2021-06-12T11:01:27.186Z"
   },
   {
    "duration": 145,
    "start_time": "2021-06-12T11:01:57.644Z"
   },
   {
    "duration": 142,
    "start_time": "2021-06-12T11:26:16.676Z"
   },
   {
    "duration": 157,
    "start_time": "2021-06-12T11:39:28.913Z"
   },
   {
    "duration": 144,
    "start_time": "2021-06-12T12:21:04.241Z"
   },
   {
    "duration": 12,
    "start_time": "2021-06-12T12:27:23.894Z"
   },
   {
    "duration": 10,
    "start_time": "2021-06-12T12:28:17.764Z"
   },
   {
    "duration": 15,
    "start_time": "2021-06-12T12:28:31.834Z"
   },
   {
    "duration": 8,
    "start_time": "2021-06-12T12:28:50.809Z"
   },
   {
    "duration": 8,
    "start_time": "2021-06-12T12:30:26.211Z"
   },
   {
    "duration": 7,
    "start_time": "2021-06-12T12:31:41.707Z"
   },
   {
    "duration": 6,
    "start_time": "2021-06-12T12:31:55.983Z"
   },
   {
    "duration": 12,
    "start_time": "2021-06-12T12:36:28.895Z"
   },
   {
    "duration": 13,
    "start_time": "2021-06-12T12:37:15.507Z"
   },
   {
    "duration": 11,
    "start_time": "2021-06-12T12:38:05.129Z"
   },
   {
    "duration": 13,
    "start_time": "2021-06-12T12:38:24.984Z"
   },
   {
    "duration": 17,
    "start_time": "2021-06-12T12:39:25.335Z"
   },
   {
    "duration": 19,
    "start_time": "2021-06-12T12:39:49.830Z"
   },
   {
    "duration": 37,
    "start_time": "2021-06-12T12:40:56.254Z"
   },
   {
    "duration": 33,
    "start_time": "2021-06-12T12:47:06.623Z"
   },
   {
    "duration": 8,
    "start_time": "2021-06-12T12:53:49.911Z"
   },
   {
    "duration": 9,
    "start_time": "2021-06-12T12:54:41.743Z"
   },
   {
    "duration": 8954,
    "start_time": "2021-06-12T12:56:26.330Z"
   },
   {
    "duration": 152,
    "start_time": "2021-06-12T12:56:57.401Z"
   },
   {
    "duration": 317,
    "start_time": "2021-06-12T13:00:52.949Z"
   },
   {
    "duration": 368,
    "start_time": "2021-06-12T13:01:33.007Z"
   },
   {
    "duration": 359,
    "start_time": "2021-06-12T13:21:47.438Z"
   },
   {
    "duration": 353,
    "start_time": "2021-06-12T13:22:20.843Z"
   },
   {
    "duration": 337,
    "start_time": "2021-06-12T13:27:56.302Z"
   },
   {
    "duration": 34,
    "start_time": "2021-06-12T13:32:25.832Z"
   },
   {
    "duration": 4,
    "start_time": "2021-06-12T13:34:41.886Z"
   },
   {
    "duration": 9,
    "start_time": "2021-06-12T13:35:04.675Z"
   },
   {
    "duration": 4,
    "start_time": "2021-06-12T13:37:22.660Z"
   },
   {
    "duration": 8,
    "start_time": "2021-06-12T13:37:25.510Z"
   },
   {
    "duration": 320,
    "start_time": "2021-06-12T13:37:41.214Z"
   },
   {
    "duration": 4,
    "start_time": "2021-06-12T13:37:44.262Z"
   },
   {
    "duration": 8,
    "start_time": "2021-06-12T13:37:45.840Z"
   },
   {
    "duration": 389,
    "start_time": "2021-06-12T13:37:57.255Z"
   },
   {
    "duration": 4,
    "start_time": "2021-06-12T13:38:10.252Z"
   },
   {
    "duration": 11,
    "start_time": "2021-06-12T13:38:12.485Z"
   },
   {
    "duration": 388,
    "start_time": "2021-06-12T13:38:38.253Z"
   },
   {
    "duration": 35,
    "start_time": "2021-06-12T13:38:52.958Z"
   },
   {
    "duration": 4,
    "start_time": "2021-06-12T13:39:08.515Z"
   },
   {
    "duration": 10,
    "start_time": "2021-06-12T13:39:10.069Z"
   },
   {
    "duration": 326,
    "start_time": "2021-06-12T13:39:34.765Z"
   },
   {
    "duration": 8,
    "start_time": "2021-06-12T13:42:24.839Z"
   },
   {
    "duration": 10,
    "start_time": "2021-06-12T13:51:54.253Z"
   },
   {
    "duration": 9,
    "start_time": "2021-06-12T13:52:37.328Z"
   },
   {
    "duration": 787,
    "start_time": "2021-06-17T09:06:19.830Z"
   },
   {
    "duration": 751,
    "start_time": "2021-06-17T09:09:30.528Z"
   },
   {
    "duration": 1136,
    "start_time": "2021-06-17T09:10:56.127Z"
   },
   {
    "duration": 302,
    "start_time": "2021-06-17T09:14:00.480Z"
   },
   {
    "duration": 513,
    "start_time": "2021-06-17T09:19:26.345Z"
   },
   {
    "duration": 30,
    "start_time": "2021-06-17T09:23:27.322Z"
   },
   {
    "duration": 94,
    "start_time": "2021-06-17T09:35:29.694Z"
   },
   {
    "duration": 86,
    "start_time": "2021-06-17T09:36:17.748Z"
   },
   {
    "duration": 515,
    "start_time": "2021-06-17T09:36:44.908Z"
   },
   {
    "duration": 51,
    "start_time": "2021-06-17T09:37:21.943Z"
   },
   {
    "duration": 49,
    "start_time": "2021-06-17T09:38:21.825Z"
   },
   {
    "duration": 56,
    "start_time": "2021-06-17T09:38:46.849Z"
   },
   {
    "duration": 46,
    "start_time": "2021-06-17T09:39:12.025Z"
   },
   {
    "duration": 15,
    "start_time": "2021-06-17T09:39:31.645Z"
   },
   {
    "duration": 5,
    "start_time": "2021-06-17T10:55:04.094Z"
   },
   {
    "duration": 8,
    "start_time": "2021-06-17T10:55:16.846Z"
   },
   {
    "duration": 5,
    "start_time": "2021-06-17T10:56:28.622Z"
   },
   {
    "duration": 5,
    "start_time": "2021-06-17T10:58:11.619Z"
   },
   {
    "duration": 4,
    "start_time": "2021-06-17T11:02:24.606Z"
   },
   {
    "duration": 19,
    "start_time": "2021-06-17T11:03:03.689Z"
   },
   {
    "duration": 22,
    "start_time": "2021-06-17T11:03:30.214Z"
   },
   {
    "duration": 6,
    "start_time": "2021-06-17T11:03:53.605Z"
   },
   {
    "duration": 989,
    "start_time": "2021-06-17T11:09:40.128Z"
   },
   {
    "duration": 376,
    "start_time": "2021-06-17T11:09:41.120Z"
   },
   {
    "duration": -1705,
    "start_time": "2021-06-17T11:09:43.205Z"
   },
   {
    "duration": -1709,
    "start_time": "2021-06-17T11:09:43.211Z"
   },
   {
    "duration": -1714,
    "start_time": "2021-06-17T11:09:43.218Z"
   },
   {
    "duration": -1717,
    "start_time": "2021-06-17T11:09:43.224Z"
   },
   {
    "duration": -1723,
    "start_time": "2021-06-17T11:09:43.231Z"
   },
   {
    "duration": -1727,
    "start_time": "2021-06-17T11:09:43.238Z"
   },
   {
    "duration": -1731,
    "start_time": "2021-06-17T11:09:43.243Z"
   },
   {
    "duration": -1735,
    "start_time": "2021-06-17T11:09:43.249Z"
   },
   {
    "duration": -1740,
    "start_time": "2021-06-17T11:09:43.255Z"
   },
   {
    "duration": 684,
    "start_time": "2021-06-17T11:10:05.254Z"
   },
   {
    "duration": 1012,
    "start_time": "2021-06-17T11:12:02.263Z"
   },
   {
    "duration": 810,
    "start_time": "2021-06-17T11:12:03.278Z"
   },
   {
    "duration": 15,
    "start_time": "2021-06-17T11:12:04.091Z"
   },
   {
    "duration": 30,
    "start_time": "2021-06-17T11:12:04.109Z"
   },
   {
    "duration": 87,
    "start_time": "2021-06-17T11:12:04.142Z"
   },
   {
    "duration": 6,
    "start_time": "2021-06-17T11:12:04.232Z"
   },
   {
    "duration": 13,
    "start_time": "2021-06-17T11:12:04.240Z"
   },
   {
    "duration": 10,
    "start_time": "2021-06-17T11:12:04.256Z"
   },
   {
    "duration": 7,
    "start_time": "2021-06-17T11:12:04.269Z"
   },
   {
    "duration": 23,
    "start_time": "2021-06-17T11:12:04.300Z"
   },
   {
    "duration": 6,
    "start_time": "2021-06-17T11:12:04.325Z"
   },
   {
    "duration": 19,
    "start_time": "2021-06-17T11:17:22.510Z"
   },
   {
    "duration": 1025,
    "start_time": "2021-06-17T11:23:29.936Z"
   },
   {
    "duration": 726,
    "start_time": "2021-06-17T11:23:30.964Z"
   },
   {
    "duration": 9,
    "start_time": "2021-06-17T11:23:31.702Z"
   },
   {
    "duration": 34,
    "start_time": "2021-06-17T11:23:31.714Z"
   },
   {
    "duration": 71,
    "start_time": "2021-06-17T11:23:31.751Z"
   },
   {
    "duration": 6,
    "start_time": "2021-06-17T11:23:31.824Z"
   },
   {
    "duration": 7,
    "start_time": "2021-06-17T11:23:31.832Z"
   },
   {
    "duration": 5,
    "start_time": "2021-06-17T11:23:31.842Z"
   },
   {
    "duration": 11,
    "start_time": "2021-06-17T11:23:31.850Z"
   },
   {
    "duration": 52,
    "start_time": "2021-06-17T11:23:31.863Z"
   },
   {
    "duration": 6,
    "start_time": "2021-06-17T11:23:31.918Z"
   },
   {
    "duration": 33,
    "start_time": "2021-06-17T11:23:31.926Z"
   },
   {
    "duration": 21,
    "start_time": "2021-06-17T11:23:31.962Z"
   },
   {
    "duration": 64,
    "start_time": "2021-06-17T11:23:32.002Z"
   },
   {
    "duration": 999,
    "start_time": "2021-06-17T11:28:44.735Z"
   },
   {
    "duration": 687,
    "start_time": "2021-06-17T11:28:45.736Z"
   },
   {
    "duration": 10,
    "start_time": "2021-06-17T11:28:46.426Z"
   },
   {
    "duration": 30,
    "start_time": "2021-06-17T11:28:46.439Z"
   },
   {
    "duration": 74,
    "start_time": "2021-06-17T11:28:46.472Z"
   },
   {
    "duration": 6,
    "start_time": "2021-06-17T11:28:46.548Z"
   },
   {
    "duration": 10,
    "start_time": "2021-06-17T11:28:46.556Z"
   },
   {
    "duration": 4,
    "start_time": "2021-06-17T11:28:46.570Z"
   },
   {
    "duration": 5,
    "start_time": "2021-06-17T11:28:46.602Z"
   },
   {
    "duration": 24,
    "start_time": "2021-06-17T11:28:46.611Z"
   },
   {
    "duration": 6,
    "start_time": "2021-06-17T11:28:46.638Z"
   },
   {
    "duration": 55,
    "start_time": "2021-06-17T11:28:46.646Z"
   },
   {
    "duration": 22,
    "start_time": "2021-06-17T11:28:46.703Z"
   },
   {
    "duration": 537,
    "start_time": "2021-06-17T11:28:46.728Z"
   },
   {
    "duration": 33,
    "start_time": "2021-06-17T11:31:56.406Z"
   },
   {
    "duration": 20,
    "start_time": "2021-06-17T11:32:53.549Z"
   },
   {
    "duration": 1283,
    "start_time": "2021-06-17T11:33:03.558Z"
   },
   {
    "duration": 984,
    "start_time": "2021-06-17T11:33:04.845Z"
   },
   {
    "duration": 15,
    "start_time": "2021-06-17T11:33:05.834Z"
   },
   {
    "duration": 56,
    "start_time": "2021-06-17T11:33:05.853Z"
   },
   {
    "duration": 51,
    "start_time": "2021-06-17T11:33:05.912Z"
   },
   {
    "duration": 35,
    "start_time": "2021-06-17T11:33:05.965Z"
   },
   {
    "duration": 5,
    "start_time": "2021-06-17T11:33:06.003Z"
   },
   {
    "duration": 7,
    "start_time": "2021-06-17T11:33:06.012Z"
   },
   {
    "duration": 8,
    "start_time": "2021-06-17T11:33:06.022Z"
   },
   {
    "duration": 24,
    "start_time": "2021-06-17T11:33:06.033Z"
   },
   {
    "duration": 41,
    "start_time": "2021-06-17T11:33:06.060Z"
   },
   {
    "duration": 20,
    "start_time": "2021-06-17T11:33:06.103Z"
   },
   {
    "duration": 22,
    "start_time": "2021-06-17T11:33:06.126Z"
   },
   {
    "duration": 105,
    "start_time": "2021-06-17T11:33:06.152Z"
   },
   {
    "duration": 18,
    "start_time": "2021-06-17T11:33:06.259Z"
   },
   {
    "duration": 32,
    "start_time": "2021-06-17T11:33:29.509Z"
   },
   {
    "duration": 29,
    "start_time": "2021-06-17T11:34:32.730Z"
   },
   {
    "duration": 383,
    "start_time": "2021-06-17T11:40:03.685Z"
   },
   {
    "duration": 4491,
    "start_time": "2021-06-17T11:40:44.584Z"
   },
   {
    "duration": 17,
    "start_time": "2021-06-17T11:41:14.001Z"
   },
   {
    "duration": 16,
    "start_time": "2021-06-17T11:44:53.398Z"
   },
   {
    "duration": 14,
    "start_time": "2021-06-17T11:45:45.181Z"
   },
   {
    "duration": 21,
    "start_time": "2021-06-17T12:14:22.978Z"
   },
   {
    "duration": 22,
    "start_time": "2021-06-17T12:15:07.939Z"
   },
   {
    "duration": 15,
    "start_time": "2021-06-17T12:17:37.266Z"
   },
   {
    "duration": 22,
    "start_time": "2021-06-17T12:17:49.777Z"
   },
   {
    "duration": 35,
    "start_time": "2021-06-17T12:25:47.825Z"
   },
   {
    "duration": 32,
    "start_time": "2021-06-17T12:34:00.750Z"
   },
   {
    "duration": 26,
    "start_time": "2021-06-17T12:37:38.333Z"
   },
   {
    "duration": 99,
    "start_time": "2021-06-17T12:44:16.138Z"
   },
   {
    "duration": 106,
    "start_time": "2021-06-17T12:45:16.749Z"
   },
   {
    "duration": 1090,
    "start_time": "2021-06-17T12:45:28.122Z"
   },
   {
    "duration": 717,
    "start_time": "2021-06-17T12:45:29.214Z"
   },
   {
    "duration": 10,
    "start_time": "2021-06-17T12:45:29.935Z"
   },
   {
    "duration": 44,
    "start_time": "2021-06-17T12:45:29.948Z"
   },
   {
    "duration": 50,
    "start_time": "2021-06-17T12:45:30.001Z"
   },
   {
    "duration": 7,
    "start_time": "2021-06-17T12:45:30.054Z"
   },
   {
    "duration": 39,
    "start_time": "2021-06-17T12:45:30.064Z"
   },
   {
    "duration": 10,
    "start_time": "2021-06-17T12:45:30.108Z"
   },
   {
    "duration": 9,
    "start_time": "2021-06-17T12:45:30.122Z"
   },
   {
    "duration": 25,
    "start_time": "2021-06-17T12:45:30.134Z"
   },
   {
    "duration": 6,
    "start_time": "2021-06-17T12:45:30.162Z"
   },
   {
    "duration": 42,
    "start_time": "2021-06-17T12:45:30.170Z"
   },
   {
    "duration": 21,
    "start_time": "2021-06-17T12:45:30.215Z"
   },
   {
    "duration": 94,
    "start_time": "2021-06-17T12:45:30.239Z"
   },
   {
    "duration": 34,
    "start_time": "2021-06-17T12:45:30.335Z"
   },
   {
    "duration": 45,
    "start_time": "2021-06-17T12:45:30.372Z"
   },
   {
    "duration": 5187,
    "start_time": "2021-06-17T12:45:30.420Z"
   },
   {
    "duration": 17,
    "start_time": "2021-06-17T12:45:35.610Z"
   },
   {
    "duration": 23,
    "start_time": "2021-06-17T12:45:35.630Z"
   },
   {
    "duration": 15,
    "start_time": "2021-06-17T12:45:35.655Z"
   },
   {
    "duration": 23,
    "start_time": "2021-06-17T12:45:35.701Z"
   },
   {
    "duration": 35,
    "start_time": "2021-06-17T12:45:35.727Z"
   },
   {
    "duration": 55,
    "start_time": "2021-06-17T12:45:35.766Z"
   },
   {
    "duration": 98,
    "start_time": "2021-06-17T12:45:35.823Z"
   },
   {
    "duration": 82,
    "start_time": "2021-06-17T12:46:54.328Z"
   },
   {
    "duration": 96,
    "start_time": "2021-06-17T12:47:14.968Z"
   },
   {
    "duration": 85,
    "start_time": "2021-06-17T12:47:31.435Z"
   },
   {
    "duration": 100,
    "start_time": "2021-06-17T12:47:50.723Z"
   },
   {
    "duration": 17,
    "start_time": "2021-06-17T12:48:31.806Z"
   },
   {
    "duration": 18,
    "start_time": "2021-06-17T12:49:03.965Z"
   },
   {
    "duration": 15,
    "start_time": "2021-06-17T12:51:24.781Z"
   },
   {
    "duration": 1277,
    "start_time": "2021-06-17T12:55:47.793Z"
   },
   {
    "duration": 702,
    "start_time": "2021-06-17T12:55:49.073Z"
   },
   {
    "duration": 10,
    "start_time": "2021-06-17T12:55:49.778Z"
   },
   {
    "duration": 30,
    "start_time": "2021-06-17T12:55:49.801Z"
   },
   {
    "duration": 69,
    "start_time": "2021-06-17T12:55:49.833Z"
   },
   {
    "duration": 6,
    "start_time": "2021-06-17T12:55:49.904Z"
   },
   {
    "duration": 8,
    "start_time": "2021-06-17T12:55:49.912Z"
   },
   {
    "duration": 4,
    "start_time": "2021-06-17T12:55:49.924Z"
   },
   {
    "duration": 6,
    "start_time": "2021-06-17T12:55:49.930Z"
   },
   {
    "duration": 26,
    "start_time": "2021-06-17T12:55:49.938Z"
   },
   {
    "duration": 6,
    "start_time": "2021-06-17T12:55:50.000Z"
   },
   {
    "duration": 22,
    "start_time": "2021-06-17T12:55:50.009Z"
   },
   {
    "duration": 22,
    "start_time": "2021-06-17T12:55:50.033Z"
   },
   {
    "duration": 96,
    "start_time": "2021-06-17T12:55:50.057Z"
   },
   {
    "duration": 51,
    "start_time": "2021-06-17T12:55:50.155Z"
   },
   {
    "duration": 29,
    "start_time": "2021-06-17T12:55:50.208Z"
   },
   {
    "duration": 4487,
    "start_time": "2021-06-17T12:55:50.240Z"
   },
   {
    "duration": 17,
    "start_time": "2021-06-17T12:55:54.730Z"
   },
   {
    "duration": 16,
    "start_time": "2021-06-17T12:55:54.749Z"
   },
   {
    "duration": 39,
    "start_time": "2021-06-17T12:55:54.767Z"
   },
   {
    "duration": 23,
    "start_time": "2021-06-17T12:55:54.808Z"
   },
   {
    "duration": 34,
    "start_time": "2021-06-17T12:55:54.833Z"
   },
   {
    "duration": 25,
    "start_time": "2021-06-17T12:55:54.900Z"
   },
   {
    "duration": 396,
    "start_time": "2021-06-17T12:55:54.928Z"
   },
   {
    "duration": 22,
    "start_time": "2021-06-17T12:56:19.062Z"
   },
   {
    "duration": 33,
    "start_time": "2021-06-17T12:56:35.401Z"
   },
   {
    "duration": 16,
    "start_time": "2021-06-17T12:57:03.975Z"
   },
   {
    "duration": 284,
    "start_time": "2021-06-17T13:03:41.015Z"
   },
   {
    "duration": 22,
    "start_time": "2021-06-17T13:03:58.959Z"
   },
   {
    "duration": 275,
    "start_time": "2021-06-17T13:10:59.333Z"
   },
   {
    "duration": 511,
    "start_time": "2021-06-17T13:13:36.305Z"
   },
   {
    "duration": 583,
    "start_time": "2021-06-17T13:29:04.869Z"
   },
   {
    "duration": 260,
    "start_time": "2021-06-17T13:29:37.135Z"
   },
   {
    "duration": 1052,
    "start_time": "2021-06-17T13:31:26.685Z"
   },
   {
    "duration": 744,
    "start_time": "2021-06-17T13:31:27.743Z"
   },
   {
    "duration": 17,
    "start_time": "2021-06-17T13:31:28.491Z"
   },
   {
    "duration": 29,
    "start_time": "2021-06-17T13:31:28.510Z"
   },
   {
    "duration": 72,
    "start_time": "2021-06-17T13:31:28.542Z"
   },
   {
    "duration": 6,
    "start_time": "2021-06-17T13:31:28.616Z"
   },
   {
    "duration": 6,
    "start_time": "2021-06-17T13:31:28.624Z"
   },
   {
    "duration": 4,
    "start_time": "2021-06-17T13:31:28.634Z"
   },
   {
    "duration": 7,
    "start_time": "2021-06-17T13:31:28.641Z"
   },
   {
    "duration": 58,
    "start_time": "2021-06-17T13:31:28.651Z"
   },
   {
    "duration": 7,
    "start_time": "2021-06-17T13:31:28.711Z"
   },
   {
    "duration": 19,
    "start_time": "2021-06-17T13:31:28.721Z"
   },
   {
    "duration": 20,
    "start_time": "2021-06-17T13:31:28.743Z"
   },
   {
    "duration": 96,
    "start_time": "2021-06-17T13:31:28.765Z"
   },
   {
    "duration": 54,
    "start_time": "2021-06-17T13:31:28.864Z"
   },
   {
    "duration": 30,
    "start_time": "2021-06-17T13:31:28.920Z"
   },
   {
    "duration": 4616,
    "start_time": "2021-06-17T13:31:28.953Z"
   },
   {
    "duration": 17,
    "start_time": "2021-06-17T13:31:33.572Z"
   },
   {
    "duration": 15,
    "start_time": "2021-06-17T13:31:33.601Z"
   },
   {
    "duration": 14,
    "start_time": "2021-06-17T13:31:33.619Z"
   },
   {
    "duration": 23,
    "start_time": "2021-06-17T13:31:33.636Z"
   },
   {
    "duration": 71,
    "start_time": "2021-06-17T13:31:33.661Z"
   },
   {
    "duration": 25,
    "start_time": "2021-06-17T13:31:33.734Z"
   },
   {
    "duration": 50,
    "start_time": "2021-06-17T13:31:33.761Z"
   },
   {
    "duration": 363,
    "start_time": "2021-06-17T13:31:33.813Z"
   },
   {
    "duration": -1706,
    "start_time": "2021-06-17T13:31:35.884Z"
   },
   {
    "duration": 286,
    "start_time": "2021-06-17T13:32:56.205Z"
   },
   {
    "duration": 1034,
    "start_time": "2021-06-17T13:33:24.917Z"
   },
   {
    "duration": 714,
    "start_time": "2021-06-17T13:33:25.954Z"
   },
   {
    "duration": 10,
    "start_time": "2021-06-17T13:33:26.672Z"
   },
   {
    "duration": 42,
    "start_time": "2021-06-17T13:33:26.685Z"
   },
   {
    "duration": 72,
    "start_time": "2021-06-17T13:33:26.730Z"
   },
   {
    "duration": 7,
    "start_time": "2021-06-17T13:33:26.804Z"
   },
   {
    "duration": 9,
    "start_time": "2021-06-17T13:33:26.813Z"
   },
   {
    "duration": 4,
    "start_time": "2021-06-17T13:33:26.826Z"
   },
   {
    "duration": 6,
    "start_time": "2021-06-17T13:33:26.833Z"
   },
   {
    "duration": 59,
    "start_time": "2021-06-17T13:33:26.841Z"
   },
   {
    "duration": 7,
    "start_time": "2021-06-17T13:33:26.903Z"
   },
   {
    "duration": 20,
    "start_time": "2021-06-17T13:33:26.913Z"
   },
   {
    "duration": 25,
    "start_time": "2021-06-17T13:33:26.935Z"
   },
   {
    "duration": 106,
    "start_time": "2021-06-17T13:33:26.963Z"
   },
   {
    "duration": 57,
    "start_time": "2021-06-17T13:33:27.071Z"
   },
   {
    "duration": 32,
    "start_time": "2021-06-17T13:33:27.131Z"
   },
   {
    "duration": 4697,
    "start_time": "2021-06-17T13:33:27.166Z"
   },
   {
    "duration": 18,
    "start_time": "2021-06-17T13:33:31.865Z"
   },
   {
    "duration": 16,
    "start_time": "2021-06-17T13:33:31.901Z"
   },
   {
    "duration": 16,
    "start_time": "2021-06-17T13:33:31.920Z"
   },
   {
    "duration": 26,
    "start_time": "2021-06-17T13:33:31.938Z"
   },
   {
    "duration": 70,
    "start_time": "2021-06-17T13:33:31.967Z"
   },
   {
    "duration": 26,
    "start_time": "2021-06-17T13:33:32.042Z"
   },
   {
    "duration": 49,
    "start_time": "2021-06-17T13:33:32.070Z"
   },
   {
    "duration": 610,
    "start_time": "2021-06-17T13:33:32.121Z"
   },
   {
    "duration": 1431,
    "start_time": "2021-06-17T13:35:03.932Z"
   },
   {
    "duration": 1149,
    "start_time": "2021-06-17T13:35:05.366Z"
   },
   {
    "duration": 10,
    "start_time": "2021-06-17T13:35:06.518Z"
   },
   {
    "duration": 38,
    "start_time": "2021-06-17T13:35:06.531Z"
   },
   {
    "duration": 70,
    "start_time": "2021-06-17T13:35:06.571Z"
   },
   {
    "duration": 6,
    "start_time": "2021-06-17T13:35:06.644Z"
   },
   {
    "duration": 14,
    "start_time": "2021-06-17T13:35:06.653Z"
   },
   {
    "duration": 31,
    "start_time": "2021-06-17T13:35:06.671Z"
   },
   {
    "duration": 15,
    "start_time": "2021-06-17T13:35:06.705Z"
   },
   {
    "duration": 35,
    "start_time": "2021-06-17T13:35:06.723Z"
   },
   {
    "duration": 5,
    "start_time": "2021-06-17T13:35:06.761Z"
   },
   {
    "duration": 32,
    "start_time": "2021-06-17T13:35:06.769Z"
   },
   {
    "duration": 21,
    "start_time": "2021-06-17T13:35:06.804Z"
   },
   {
    "duration": 93,
    "start_time": "2021-06-17T13:35:06.827Z"
   },
   {
    "duration": 35,
    "start_time": "2021-06-17T13:35:06.922Z"
   },
   {
    "duration": 52,
    "start_time": "2021-06-17T13:35:06.960Z"
   },
   {
    "duration": 4608,
    "start_time": "2021-06-17T13:35:07.015Z"
   },
   {
    "duration": 18,
    "start_time": "2021-06-17T13:35:11.625Z"
   },
   {
    "duration": 24,
    "start_time": "2021-06-17T13:35:11.645Z"
   },
   {
    "duration": 34,
    "start_time": "2021-06-17T13:35:11.672Z"
   },
   {
    "duration": 22,
    "start_time": "2021-06-17T13:35:11.709Z"
   },
   {
    "duration": 43,
    "start_time": "2021-06-17T13:35:11.734Z"
   },
   {
    "duration": 45,
    "start_time": "2021-06-17T13:35:11.781Z"
   },
   {
    "duration": 21,
    "start_time": "2021-06-17T13:35:11.829Z"
   },
   {
    "duration": 1998,
    "start_time": "2021-06-17T13:35:11.853Z"
   },
   {
    "duration": 1016,
    "start_time": "2021-06-17T13:38:09.223Z"
   },
   {
    "duration": 711,
    "start_time": "2021-06-17T13:38:10.242Z"
   },
   {
    "duration": 10,
    "start_time": "2021-06-17T13:38:10.956Z"
   },
   {
    "duration": 49,
    "start_time": "2021-06-17T13:38:10.968Z"
   },
   {
    "duration": 48,
    "start_time": "2021-06-17T13:38:11.019Z"
   },
   {
    "duration": 6,
    "start_time": "2021-06-17T13:38:11.069Z"
   },
   {
    "duration": 26,
    "start_time": "2021-06-17T13:38:11.077Z"
   },
   {
    "duration": 5,
    "start_time": "2021-06-17T13:38:11.107Z"
   },
   {
    "duration": 5,
    "start_time": "2021-06-17T13:38:11.115Z"
   },
   {
    "duration": 23,
    "start_time": "2021-06-17T13:38:11.122Z"
   },
   {
    "duration": 5,
    "start_time": "2021-06-17T13:38:11.148Z"
   },
   {
    "duration": 63,
    "start_time": "2021-06-17T13:38:11.155Z"
   },
   {
    "duration": 21,
    "start_time": "2021-06-17T13:38:11.220Z"
   },
   {
    "duration": 93,
    "start_time": "2021-06-17T13:38:11.244Z"
   },
   {
    "duration": 32,
    "start_time": "2021-06-17T13:38:11.340Z"
   },
   {
    "duration": 70,
    "start_time": "2021-06-17T13:38:11.374Z"
   },
   {
    "duration": 4534,
    "start_time": "2021-06-17T13:38:11.447Z"
   },
   {
    "duration": 24,
    "start_time": "2021-06-17T13:38:15.984Z"
   },
   {
    "duration": 29,
    "start_time": "2021-06-17T13:38:16.011Z"
   },
   {
    "duration": 17,
    "start_time": "2021-06-17T13:38:16.043Z"
   },
   {
    "duration": 50,
    "start_time": "2021-06-17T13:38:16.064Z"
   },
   {
    "duration": 36,
    "start_time": "2021-06-17T13:38:16.117Z"
   },
   {
    "duration": 56,
    "start_time": "2021-06-17T13:38:16.159Z"
   },
   {
    "duration": 23,
    "start_time": "2021-06-17T13:38:16.217Z"
   },
   {
    "duration": 636,
    "start_time": "2021-06-17T13:38:16.243Z"
   },
   {
    "duration": 5,
    "start_time": "2021-06-17T13:53:00.574Z"
   },
   {
    "duration": 1217,
    "start_time": "2021-06-17T13:53:59.513Z"
   },
   {
    "duration": 806,
    "start_time": "2021-06-17T13:54:00.732Z"
   },
   {
    "duration": 10,
    "start_time": "2021-06-17T13:54:01.543Z"
   },
   {
    "duration": 49,
    "start_time": "2021-06-17T13:54:01.557Z"
   },
   {
    "duration": 51,
    "start_time": "2021-06-17T13:54:01.609Z"
   },
   {
    "duration": 6,
    "start_time": "2021-06-17T13:54:01.664Z"
   },
   {
    "duration": 5,
    "start_time": "2021-06-17T13:54:01.702Z"
   },
   {
    "duration": 12,
    "start_time": "2021-06-17T13:54:01.710Z"
   },
   {
    "duration": 13,
    "start_time": "2021-06-17T13:54:01.725Z"
   },
   {
    "duration": 34,
    "start_time": "2021-06-17T13:54:01.740Z"
   },
   {
    "duration": 6,
    "start_time": "2021-06-17T13:54:01.777Z"
   },
   {
    "duration": 32,
    "start_time": "2021-06-17T13:54:01.785Z"
   },
   {
    "duration": 21,
    "start_time": "2021-06-17T13:54:01.819Z"
   },
   {
    "duration": 92,
    "start_time": "2021-06-17T13:54:01.842Z"
   },
   {
    "duration": 33,
    "start_time": "2021-06-17T13:54:01.936Z"
   },
   {
    "duration": 50,
    "start_time": "2021-06-17T13:54:01.972Z"
   },
   {
    "duration": 4591,
    "start_time": "2021-06-17T13:54:02.025Z"
   },
   {
    "duration": 18,
    "start_time": "2021-06-17T13:54:06.619Z"
   },
   {
    "duration": 17,
    "start_time": "2021-06-17T13:54:06.640Z"
   },
   {
    "duration": 44,
    "start_time": "2021-06-17T13:54:06.660Z"
   },
   {
    "duration": 24,
    "start_time": "2021-06-17T13:54:06.707Z"
   },
   {
    "duration": 34,
    "start_time": "2021-06-17T13:54:06.733Z"
   },
   {
    "duration": 27,
    "start_time": "2021-06-17T13:54:06.800Z"
   },
   {
    "duration": 22,
    "start_time": "2021-06-17T13:54:06.830Z"
   },
   {
    "duration": 45,
    "start_time": "2021-06-17T13:54:06.855Z"
   },
   {
    "duration": 33,
    "start_time": "2021-06-17T13:55:14.638Z"
   },
   {
    "duration": 21,
    "start_time": "2021-06-17T13:56:18.359Z"
   },
   {
    "duration": 25,
    "start_time": "2021-06-17T13:56:30.526Z"
   },
   {
    "duration": 381,
    "start_time": "2021-06-17T14:05:54.744Z"
   },
   {
    "duration": 279,
    "start_time": "2021-06-17T14:07:16.336Z"
   },
   {
    "duration": 302,
    "start_time": "2021-06-17T14:14:41.114Z"
   },
   {
    "duration": 5047,
    "start_time": "2021-06-17T14:15:30.162Z"
   },
   {
    "duration": 4881,
    "start_time": "2021-06-17T14:15:48.699Z"
   },
   {
    "duration": 68,
    "start_time": "2021-06-17T14:17:02.773Z"
   },
   {
    "duration": 55,
    "start_time": "2021-06-17T14:18:22.886Z"
   },
   {
    "duration": 14,
    "start_time": "2021-06-17T14:18:50.599Z"
   },
   {
    "duration": 50,
    "start_time": "2021-06-17T14:21:44.844Z"
   },
   {
    "duration": 99,
    "start_time": "2021-06-17T14:24:02.226Z"
   },
   {
    "duration": 12,
    "start_time": "2021-06-17T14:24:12.725Z"
   },
   {
    "duration": 53,
    "start_time": "2021-06-17T14:25:33.216Z"
   },
   {
    "duration": 63,
    "start_time": "2021-06-17T14:29:00.665Z"
   },
   {
    "duration": 89,
    "start_time": "2021-06-17T14:37:09.810Z"
   },
   {
    "duration": 9,
    "start_time": "2021-06-17T15:03:33.510Z"
   },
   {
    "duration": 5518,
    "start_time": "2021-06-17T15:07:06.381Z"
   },
   {
    "duration": 14,
    "start_time": "2021-06-17T15:08:06.043Z"
   },
   {
    "duration": 16,
    "start_time": "2021-06-17T15:08:35.603Z"
   },
   {
    "duration": 11,
    "start_time": "2021-06-17T15:09:05.161Z"
   },
   {
    "duration": 7103,
    "start_time": "2021-06-17T15:09:27.169Z"
   },
   {
    "duration": 9,
    "start_time": "2021-06-17T15:10:09.471Z"
   },
   {
    "duration": 8,
    "start_time": "2021-06-17T15:10:24.048Z"
   },
   {
    "duration": 366,
    "start_time": "2021-06-17T15:10:35.624Z"
   },
   {
    "duration": 1740,
    "start_time": "2021-06-17T15:10:46.216Z"
   },
   {
    "duration": 7,
    "start_time": "2021-06-17T15:11:11.443Z"
   },
   {
    "duration": 8,
    "start_time": "2021-06-17T15:11:22.221Z"
   },
   {
    "duration": 9314,
    "start_time": "2021-06-17T15:18:18.816Z"
   },
   {
    "duration": 7535,
    "start_time": "2021-06-17T15:19:15.160Z"
   },
   {
    "duration": 5,
    "start_time": "2021-06-17T15:19:50.443Z"
   },
   {
    "duration": 11,
    "start_time": "2021-06-17T15:20:09.326Z"
   },
   {
    "duration": 447,
    "start_time": "2021-06-17T15:21:09.287Z"
   },
   {
    "duration": 321,
    "start_time": "2021-06-17T15:21:17.078Z"
   },
   {
    "duration": 7609,
    "start_time": "2021-06-17T15:21:26.625Z"
   },
   {
    "duration": 8,
    "start_time": "2021-06-17T15:21:41.510Z"
   },
   {
    "duration": 6,
    "start_time": "2021-06-17T15:22:19.384Z"
   },
   {
    "duration": 9,
    "start_time": "2021-06-17T15:22:44.962Z"
   },
   {
    "duration": 88,
    "start_time": "2021-06-17T15:24:20.267Z"
   },
   {
    "duration": 99,
    "start_time": "2021-06-17T15:25:06.776Z"
   },
   {
    "duration": 1180,
    "start_time": "2021-06-17T15:25:35.165Z"
   },
   {
    "duration": 7,
    "start_time": "2021-06-17T15:36:37.876Z"
   },
   {
    "duration": 6,
    "start_time": "2021-06-17T15:37:19.657Z"
   },
   {
    "duration": 10,
    "start_time": "2021-06-17T15:37:28.602Z"
   },
   {
    "duration": 10,
    "start_time": "2021-06-17T15:37:34.502Z"
   },
   {
    "duration": 1244,
    "start_time": "2021-06-17T15:37:47.133Z"
   },
   {
    "duration": 762,
    "start_time": "2021-06-17T15:37:48.379Z"
   },
   {
    "duration": 9,
    "start_time": "2021-06-17T15:37:49.144Z"
   },
   {
    "duration": 68,
    "start_time": "2021-06-17T15:37:49.157Z"
   },
   {
    "duration": 55,
    "start_time": "2021-06-17T15:37:49.228Z"
   },
   {
    "duration": 30,
    "start_time": "2021-06-17T15:37:49.286Z"
   },
   {
    "duration": 6,
    "start_time": "2021-06-17T15:37:49.318Z"
   },
   {
    "duration": 5,
    "start_time": "2021-06-17T15:37:49.327Z"
   },
   {
    "duration": 5,
    "start_time": "2021-06-17T15:37:49.335Z"
   },
   {
    "duration": 69,
    "start_time": "2021-06-17T15:37:49.343Z"
   },
   {
    "duration": 7,
    "start_time": "2021-06-17T15:37:49.415Z"
   },
   {
    "duration": 23,
    "start_time": "2021-06-17T15:37:49.425Z"
   },
   {
    "duration": 21,
    "start_time": "2021-06-17T15:37:49.450Z"
   },
   {
    "duration": 89,
    "start_time": "2021-06-17T15:37:49.474Z"
   },
   {
    "duration": 48,
    "start_time": "2021-06-17T15:37:49.565Z"
   },
   {
    "duration": 31,
    "start_time": "2021-06-17T15:37:49.617Z"
   },
   {
    "duration": 4870,
    "start_time": "2021-06-17T15:37:49.651Z"
   },
   {
    "duration": 16,
    "start_time": "2021-06-17T15:37:54.524Z"
   },
   {
    "duration": 18,
    "start_time": "2021-06-17T15:37:54.542Z"
   },
   {
    "duration": 50,
    "start_time": "2021-06-17T15:37:54.563Z"
   },
   {
    "duration": 23,
    "start_time": "2021-06-17T15:37:54.615Z"
   },
   {
    "duration": 36,
    "start_time": "2021-06-17T15:37:54.641Z"
   },
   {
    "duration": 12,
    "start_time": "2021-06-17T15:37:54.704Z"
   },
   {
    "duration": 30,
    "start_time": "2021-06-17T15:37:54.720Z"
   },
   {
    "duration": 66,
    "start_time": "2021-06-17T15:37:54.753Z"
   },
   {
    "duration": 27,
    "start_time": "2021-06-17T15:37:54.822Z"
   },
   {
    "duration": 91,
    "start_time": "2021-06-17T15:37:54.851Z"
   },
   {
    "duration": 10,
    "start_time": "2021-06-17T15:38:18.364Z"
   },
   {
    "duration": 6,
    "start_time": "2021-06-17T15:38:51.628Z"
   },
   {
    "duration": 7,
    "start_time": "2021-06-17T15:40:17.389Z"
   },
   {
    "duration": 27,
    "start_time": "2021-06-17T15:41:05.728Z"
   },
   {
    "duration": 7,
    "start_time": "2021-06-17T15:41:13.374Z"
   },
   {
    "duration": 16,
    "start_time": "2021-06-17T15:42:13.776Z"
   },
   {
    "duration": 1087,
    "start_time": "2021-06-17T15:45:27.566Z"
   },
   {
    "duration": 756,
    "start_time": "2021-06-17T15:45:28.656Z"
   },
   {
    "duration": 10,
    "start_time": "2021-06-17T15:45:29.415Z"
   },
   {
    "duration": 29,
    "start_time": "2021-06-17T15:45:29.428Z"
   },
   {
    "duration": 87,
    "start_time": "2021-06-17T15:45:29.459Z"
   },
   {
    "duration": 5,
    "start_time": "2021-06-17T15:45:29.548Z"
   },
   {
    "duration": 5,
    "start_time": "2021-06-17T15:45:29.556Z"
   },
   {
    "duration": 6,
    "start_time": "2021-06-17T15:45:29.565Z"
   },
   {
    "duration": 39,
    "start_time": "2021-06-17T15:45:29.574Z"
   },
   {
    "duration": 25,
    "start_time": "2021-06-17T15:45:29.616Z"
   },
   {
    "duration": 6,
    "start_time": "2021-06-17T15:45:29.644Z"
   },
   {
    "duration": 26,
    "start_time": "2021-06-17T15:45:29.653Z"
   },
   {
    "duration": 30,
    "start_time": "2021-06-17T15:45:29.701Z"
   },
   {
    "duration": 94,
    "start_time": "2021-06-17T15:45:29.734Z"
   },
   {
    "duration": 32,
    "start_time": "2021-06-17T15:45:29.831Z"
   },
   {
    "duration": 62,
    "start_time": "2021-06-17T15:45:29.866Z"
   },
   {
    "duration": 5020,
    "start_time": "2021-06-17T15:45:29.930Z"
   },
   {
    "duration": 22,
    "start_time": "2021-06-17T15:45:34.953Z"
   },
   {
    "duration": 39,
    "start_time": "2021-06-17T15:45:34.977Z"
   },
   {
    "duration": 17,
    "start_time": "2021-06-17T15:45:35.019Z"
   },
   {
    "duration": 24,
    "start_time": "2021-06-17T15:45:35.041Z"
   },
   {
    "duration": 76,
    "start_time": "2021-06-17T15:45:35.068Z"
   },
   {
    "duration": 28,
    "start_time": "2021-06-17T15:45:35.149Z"
   },
   {
    "duration": 51,
    "start_time": "2021-06-17T15:45:35.180Z"
   },
   {
    "duration": 25,
    "start_time": "2021-06-17T15:45:35.234Z"
   },
   {
    "duration": 91,
    "start_time": "2021-06-17T15:45:35.262Z"
   },
   {
    "duration": 506,
    "start_time": "2021-06-17T15:48:17.451Z"
   },
   {
    "duration": 48,
    "start_time": "2021-06-17T15:48:30.462Z"
   },
   {
    "duration": 1142,
    "start_time": "2021-06-17T15:57:11.028Z"
   },
   {
    "duration": 709,
    "start_time": "2021-06-17T15:57:12.173Z"
   },
   {
    "duration": 21,
    "start_time": "2021-06-17T15:57:12.887Z"
   },
   {
    "duration": 40,
    "start_time": "2021-06-17T15:57:12.912Z"
   },
   {
    "duration": 82,
    "start_time": "2021-06-17T15:57:12.955Z"
   },
   {
    "duration": 6,
    "start_time": "2021-06-17T15:57:13.040Z"
   },
   {
    "duration": 6,
    "start_time": "2021-06-17T15:57:13.048Z"
   },
   {
    "duration": 4,
    "start_time": "2021-06-17T15:57:13.058Z"
   },
   {
    "duration": 35,
    "start_time": "2021-06-17T15:57:13.065Z"
   },
   {
    "duration": 28,
    "start_time": "2021-06-17T15:57:13.102Z"
   },
   {
    "duration": 6,
    "start_time": "2021-06-17T15:57:13.132Z"
   },
   {
    "duration": 24,
    "start_time": "2021-06-17T15:57:13.140Z"
   },
   {
    "duration": 45,
    "start_time": "2021-06-17T15:57:13.166Z"
   },
   {
    "duration": 68,
    "start_time": "2021-06-17T15:57:13.214Z"
   },
   {
    "duration": 48,
    "start_time": "2021-06-17T15:57:13.284Z"
   },
   {
    "duration": 27,
    "start_time": "2021-06-17T15:57:13.335Z"
   },
   {
    "duration": 4481,
    "start_time": "2021-06-17T15:57:13.365Z"
   },
   {
    "duration": 18,
    "start_time": "2021-06-17T15:57:17.848Z"
   },
   {
    "duration": 35,
    "start_time": "2021-06-17T15:57:17.868Z"
   },
   {
    "duration": 15,
    "start_time": "2021-06-17T15:57:17.905Z"
   },
   {
    "duration": 23,
    "start_time": "2021-06-17T15:57:17.923Z"
   },
   {
    "duration": 66,
    "start_time": "2021-06-17T15:57:17.948Z"
   },
   {
    "duration": 25,
    "start_time": "2021-06-17T15:57:18.018Z"
   },
   {
    "duration": 19,
    "start_time": "2021-06-17T15:57:18.046Z"
   },
   {
    "duration": 51,
    "start_time": "2021-06-17T15:57:18.067Z"
   },
   {
    "duration": 53,
    "start_time": "2021-06-17T15:57:18.121Z"
   },
   {
    "duration": 48,
    "start_time": "2021-06-17T15:57:18.176Z"
   },
   {
    "duration": 149,
    "start_time": "2021-06-17T16:02:32.788Z"
   },
   {
    "duration": 970,
    "start_time": "2021-06-17T16:03:35.537Z"
   },
   {
    "duration": 711,
    "start_time": "2021-06-17T16:03:36.510Z"
   },
   {
    "duration": 10,
    "start_time": "2021-06-17T16:03:37.224Z"
   },
   {
    "duration": 32,
    "start_time": "2021-06-17T16:03:37.237Z"
   },
   {
    "duration": 76,
    "start_time": "2021-06-17T16:03:37.272Z"
   },
   {
    "duration": 7,
    "start_time": "2021-06-17T16:03:37.352Z"
   },
   {
    "duration": 40,
    "start_time": "2021-06-17T16:03:37.362Z"
   },
   {
    "duration": 4,
    "start_time": "2021-06-17T16:03:37.408Z"
   },
   {
    "duration": 12,
    "start_time": "2021-06-17T16:03:37.416Z"
   },
   {
    "duration": 28,
    "start_time": "2021-06-17T16:03:37.431Z"
   },
   {
    "duration": 6,
    "start_time": "2021-06-17T16:03:37.462Z"
   },
   {
    "duration": 47,
    "start_time": "2021-06-17T16:03:37.470Z"
   },
   {
    "duration": 20,
    "start_time": "2021-06-17T16:03:37.520Z"
   },
   {
    "duration": 95,
    "start_time": "2021-06-17T16:03:37.542Z"
   },
   {
    "duration": 31,
    "start_time": "2021-06-17T16:03:37.640Z"
   },
   {
    "duration": 48,
    "start_time": "2021-06-17T16:03:37.673Z"
   },
   {
    "duration": 4492,
    "start_time": "2021-06-17T16:03:37.724Z"
   },
   {
    "duration": 17,
    "start_time": "2021-06-17T16:03:42.219Z"
   },
   {
    "duration": 16,
    "start_time": "2021-06-17T16:03:42.238Z"
   },
   {
    "duration": 43,
    "start_time": "2021-06-17T16:03:42.257Z"
   },
   {
    "duration": 23,
    "start_time": "2021-06-17T16:03:42.303Z"
   },
   {
    "duration": 35,
    "start_time": "2021-06-17T16:03:42.328Z"
   },
   {
    "duration": 26,
    "start_time": "2021-06-17T16:03:42.401Z"
   },
   {
    "duration": 24,
    "start_time": "2021-06-17T16:03:42.431Z"
   },
   {
    "duration": 57,
    "start_time": "2021-06-17T16:03:42.457Z"
   },
   {
    "duration": 56,
    "start_time": "2021-06-17T16:03:42.516Z"
   },
   {
    "duration": 45,
    "start_time": "2021-06-17T16:03:42.575Z"
   },
   {
    "duration": 1317,
    "start_time": "2021-06-18T11:45:11.355Z"
   },
   {
    "duration": 835,
    "start_time": "2021-06-18T11:45:12.675Z"
   },
   {
    "duration": 10,
    "start_time": "2021-06-18T11:45:13.514Z"
   },
   {
    "duration": 35,
    "start_time": "2021-06-18T11:45:13.527Z"
   },
   {
    "duration": 81,
    "start_time": "2021-06-18T11:45:13.565Z"
   },
   {
    "duration": 7,
    "start_time": "2021-06-18T11:45:13.648Z"
   },
   {
    "duration": 9,
    "start_time": "2021-06-18T11:45:13.657Z"
   },
   {
    "duration": 34,
    "start_time": "2021-06-18T11:45:13.668Z"
   },
   {
    "duration": 4,
    "start_time": "2021-06-18T11:45:13.709Z"
   },
   {
    "duration": 26,
    "start_time": "2021-06-18T11:45:13.718Z"
   },
   {
    "duration": 8,
    "start_time": "2021-06-18T11:45:13.746Z"
   },
   {
    "duration": 19,
    "start_time": "2021-06-18T11:45:13.800Z"
   },
   {
    "duration": 30,
    "start_time": "2021-06-18T11:45:13.822Z"
   },
   {
    "duration": 145,
    "start_time": "2021-06-18T11:45:13.855Z"
   },
   {
    "duration": 53,
    "start_time": "2021-06-18T11:45:14.004Z"
   },
   {
    "duration": 53,
    "start_time": "2021-06-18T11:45:14.060Z"
   },
   {
    "duration": 5175,
    "start_time": "2021-06-18T11:45:14.116Z"
   },
   {
    "duration": 17,
    "start_time": "2021-06-18T11:45:19.294Z"
   },
   {
    "duration": 24,
    "start_time": "2021-06-18T11:45:19.314Z"
   },
   {
    "duration": 30,
    "start_time": "2021-06-18T11:45:19.341Z"
   },
   {
    "duration": 51,
    "start_time": "2021-06-18T11:45:19.374Z"
   },
   {
    "duration": 72,
    "start_time": "2021-06-18T11:45:19.429Z"
   },
   {
    "duration": 43,
    "start_time": "2021-06-18T11:45:19.504Z"
   },
   {
    "duration": 58,
    "start_time": "2021-06-18T11:45:19.550Z"
   },
   {
    "duration": 39,
    "start_time": "2021-06-18T11:45:19.612Z"
   },
   {
    "duration": 113,
    "start_time": "2021-06-18T11:45:19.654Z"
   },
   {
    "duration": 57,
    "start_time": "2021-06-18T11:45:19.775Z"
   },
   {
    "duration": 1351,
    "start_time": "2021-06-19T19:13:17.468Z"
   },
   {
    "duration": 669,
    "start_time": "2021-06-19T19:13:18.822Z"
   },
   {
    "duration": 9,
    "start_time": "2021-06-19T19:13:19.494Z"
   },
   {
    "duration": 51,
    "start_time": "2021-06-19T19:13:19.506Z"
   },
   {
    "duration": 48,
    "start_time": "2021-06-19T19:13:19.559Z"
   },
   {
    "duration": 6,
    "start_time": "2021-06-19T19:13:19.610Z"
   },
   {
    "duration": 6,
    "start_time": "2021-06-19T19:13:19.618Z"
   },
   {
    "duration": 33,
    "start_time": "2021-06-19T19:13:19.628Z"
   },
   {
    "duration": 5,
    "start_time": "2021-06-19T19:13:19.664Z"
   },
   {
    "duration": 5,
    "start_time": "2021-06-19T19:13:19.672Z"
   },
   {
    "duration": 25,
    "start_time": "2021-06-19T19:13:19.680Z"
   },
   {
    "duration": 5,
    "start_time": "2021-06-19T19:13:19.708Z"
   },
   {
    "duration": 61,
    "start_time": "2021-06-19T19:13:19.715Z"
   },
   {
    "duration": 23,
    "start_time": "2021-06-19T19:13:19.778Z"
   },
   {
    "duration": 102,
    "start_time": "2021-06-19T19:13:19.804Z"
   },
   {
    "duration": 31,
    "start_time": "2021-06-19T19:13:19.908Z"
   },
   {
    "duration": 40,
    "start_time": "2021-06-19T19:13:19.942Z"
   },
   {
    "duration": 4702,
    "start_time": "2021-06-19T19:13:19.985Z"
   },
   {
    "duration": 18,
    "start_time": "2021-06-19T19:13:24.690Z"
   },
   {
    "duration": 17,
    "start_time": "2021-06-19T19:13:24.711Z"
   },
   {
    "duration": 17,
    "start_time": "2021-06-19T19:13:24.756Z"
   },
   {
    "duration": 34,
    "start_time": "2021-06-19T19:13:24.776Z"
   },
   {
    "duration": 84,
    "start_time": "2021-06-19T19:13:24.817Z"
   },
   {
    "duration": 56,
    "start_time": "2021-06-19T19:13:24.905Z"
   },
   {
    "duration": 32,
    "start_time": "2021-06-19T19:13:24.964Z"
   },
   {
    "duration": 63,
    "start_time": "2021-06-19T19:13:24.999Z"
   },
   {
    "duration": 58,
    "start_time": "2021-06-19T19:13:25.065Z"
   },
   {
    "duration": 44,
    "start_time": "2021-06-19T19:13:25.126Z"
   },
   {
    "duration": 83,
    "start_time": "2021-06-19T19:33:00.764Z"
   },
   {
    "duration": 3800,
    "start_time": "2021-06-19T19:35:17.727Z"
   },
   {
    "duration": 6,
    "start_time": "2021-06-19T20:03:49.898Z"
   },
   {
    "duration": 35,
    "start_time": "2021-06-19T20:26:06.512Z"
   },
   {
    "duration": 58,
    "start_time": "2021-06-19T20:27:34.008Z"
   },
   {
    "duration": 1133,
    "start_time": "2021-06-19T20:28:35.005Z"
   },
   {
    "duration": 691,
    "start_time": "2021-06-19T20:28:36.140Z"
   },
   {
    "duration": 9,
    "start_time": "2021-06-19T20:28:36.835Z"
   },
   {
    "duration": 41,
    "start_time": "2021-06-19T20:28:36.847Z"
   },
   {
    "duration": 88,
    "start_time": "2021-06-19T20:28:36.890Z"
   },
   {
    "duration": 7,
    "start_time": "2021-06-19T20:28:36.981Z"
   },
   {
    "duration": 20,
    "start_time": "2021-06-19T20:28:36.990Z"
   },
   {
    "duration": 8,
    "start_time": "2021-06-19T20:28:37.014Z"
   },
   {
    "duration": 58,
    "start_time": "2021-06-19T20:28:37.025Z"
   },
   {
    "duration": 5,
    "start_time": "2021-06-19T20:28:37.085Z"
   },
   {
    "duration": 18,
    "start_time": "2021-06-19T20:28:37.093Z"
   },
   {
    "duration": 15,
    "start_time": "2021-06-19T20:28:37.114Z"
   },
   {
    "duration": 43,
    "start_time": "2021-06-19T20:28:37.131Z"
   },
   {
    "duration": 7,
    "start_time": "2021-06-19T20:28:37.177Z"
   },
   {
    "duration": 29,
    "start_time": "2021-06-19T20:28:37.187Z"
   },
   {
    "duration": 56,
    "start_time": "2021-06-19T20:28:37.219Z"
   },
   {
    "duration": 87,
    "start_time": "2021-06-19T20:28:37.278Z"
   },
   {
    "duration": 36,
    "start_time": "2021-06-19T20:28:37.367Z"
   },
   {
    "duration": 55,
    "start_time": "2021-06-19T20:28:37.406Z"
   },
   {
    "duration": 5165,
    "start_time": "2021-06-19T20:28:37.464Z"
   },
   {
    "duration": 17,
    "start_time": "2021-06-19T20:28:42.632Z"
   },
   {
    "duration": 18,
    "start_time": "2021-06-19T20:28:42.661Z"
   },
   {
    "duration": 14,
    "start_time": "2021-06-19T20:28:42.683Z"
   },
   {
    "duration": 21,
    "start_time": "2021-06-19T20:28:42.700Z"
   },
   {
    "duration": 69,
    "start_time": "2021-06-19T20:28:42.724Z"
   },
   {
    "duration": 26,
    "start_time": "2021-06-19T20:28:42.796Z"
   },
   {
    "duration": 55,
    "start_time": "2021-06-19T20:28:42.824Z"
   },
   {
    "duration": 27,
    "start_time": "2021-06-19T20:28:42.882Z"
   },
   {
    "duration": 91,
    "start_time": "2021-06-19T20:28:42.912Z"
   },
   {
    "duration": 56,
    "start_time": "2021-06-19T20:28:43.006Z"
   },
   {
    "duration": 89,
    "start_time": "2021-06-19T20:29:54.684Z"
   },
   {
    "duration": 21,
    "start_time": "2021-06-19T20:31:01.772Z"
   },
   {
    "duration": 42,
    "start_time": "2021-06-19T20:36:20.330Z"
   },
   {
    "duration": 8,
    "start_time": "2021-06-19T20:37:10.213Z"
   },
   {
    "duration": 5,
    "start_time": "2021-06-19T20:38:45.216Z"
   },
   {
    "duration": 6,
    "start_time": "2021-06-19T20:59:01.037Z"
   },
   {
    "duration": 542,
    "start_time": "2021-06-19T21:06:19.889Z"
   },
   {
    "duration": 261,
    "start_time": "2021-06-19T21:17:14.259Z"
   },
   {
    "duration": 109,
    "start_time": "2021-06-19T21:18:42.150Z"
   },
   {
    "duration": 994,
    "start_time": "2021-06-19T21:18:57.601Z"
   },
   {
    "duration": 695,
    "start_time": "2021-06-19T21:18:58.598Z"
   },
   {
    "duration": 10,
    "start_time": "2021-06-19T21:18:59.297Z"
   },
   {
    "duration": 33,
    "start_time": "2021-06-19T21:18:59.310Z"
   },
   {
    "duration": 65,
    "start_time": "2021-06-19T21:18:59.345Z"
   },
   {
    "duration": 6,
    "start_time": "2021-06-19T21:18:59.412Z"
   },
   {
    "duration": 35,
    "start_time": "2021-06-19T21:18:59.421Z"
   },
   {
    "duration": 23,
    "start_time": "2021-06-19T21:18:59.461Z"
   },
   {
    "duration": 347,
    "start_time": "2021-06-19T21:18:59.487Z"
   },
   {
    "duration": -2799,
    "start_time": "2021-06-19T21:19:02.635Z"
   },
   {
    "duration": -2806,
    "start_time": "2021-06-19T21:19:02.644Z"
   },
   {
    "duration": -2814,
    "start_time": "2021-06-19T21:19:02.653Z"
   },
   {
    "duration": -2822,
    "start_time": "2021-06-19T21:19:02.663Z"
   },
   {
    "duration": -2861,
    "start_time": "2021-06-19T21:19:02.703Z"
   },
   {
    "duration": -2871,
    "start_time": "2021-06-19T21:19:02.714Z"
   },
   {
    "duration": -2880,
    "start_time": "2021-06-19T21:19:02.725Z"
   },
   {
    "duration": -2887,
    "start_time": "2021-06-19T21:19:02.733Z"
   },
   {
    "duration": -2896,
    "start_time": "2021-06-19T21:19:02.744Z"
   },
   {
    "duration": -2905,
    "start_time": "2021-06-19T21:19:02.754Z"
   },
   {
    "duration": -2911,
    "start_time": "2021-06-19T21:19:02.762Z"
   },
   {
    "duration": -2918,
    "start_time": "2021-06-19T21:19:02.770Z"
   },
   {
    "duration": -2925,
    "start_time": "2021-06-19T21:19:02.779Z"
   },
   {
    "duration": -2932,
    "start_time": "2021-06-19T21:19:02.787Z"
   },
   {
    "duration": -2940,
    "start_time": "2021-06-19T21:19:02.797Z"
   },
   {
    "duration": -2960,
    "start_time": "2021-06-19T21:19:02.818Z"
   },
   {
    "duration": -2964,
    "start_time": "2021-06-19T21:19:02.827Z"
   },
   {
    "duration": -2971,
    "start_time": "2021-06-19T21:19:02.835Z"
   },
   {
    "duration": -2982,
    "start_time": "2021-06-19T21:19:02.847Z"
   },
   {
    "duration": -2990,
    "start_time": "2021-06-19T21:19:02.857Z"
   },
   {
    "duration": 28,
    "start_time": "2021-06-19T21:19:43.846Z"
   },
   {
    "duration": 22,
    "start_time": "2021-06-19T21:19:48.261Z"
   },
   {
    "duration": 1738,
    "start_time": "2021-06-19T21:20:01.732Z"
   },
   {
    "duration": 883,
    "start_time": "2021-06-19T21:20:03.473Z"
   },
   {
    "duration": 12,
    "start_time": "2021-06-19T21:20:04.360Z"
   },
   {
    "duration": 30,
    "start_time": "2021-06-19T21:20:04.376Z"
   },
   {
    "duration": 84,
    "start_time": "2021-06-19T21:20:04.408Z"
   },
   {
    "duration": 7,
    "start_time": "2021-06-19T21:20:04.494Z"
   },
   {
    "duration": 6,
    "start_time": "2021-06-19T21:20:04.503Z"
   },
   {
    "duration": 55,
    "start_time": "2021-06-19T21:20:04.513Z"
   },
   {
    "duration": 829,
    "start_time": "2021-06-19T21:20:04.572Z"
   },
   {
    "duration": -2845,
    "start_time": "2021-06-19T21:20:08.250Z"
   },
   {
    "duration": -2853,
    "start_time": "2021-06-19T21:20:08.260Z"
   },
   {
    "duration": -2862,
    "start_time": "2021-06-19T21:20:08.271Z"
   },
   {
    "duration": -2870,
    "start_time": "2021-06-19T21:20:08.281Z"
   },
   {
    "duration": -2879,
    "start_time": "2021-06-19T21:20:08.292Z"
   },
   {
    "duration": -2886,
    "start_time": "2021-06-19T21:20:08.301Z"
   },
   {
    "duration": -2895,
    "start_time": "2021-06-19T21:20:08.312Z"
   },
   {
    "duration": -2902,
    "start_time": "2021-06-19T21:20:08.321Z"
   },
   {
    "duration": -2910,
    "start_time": "2021-06-19T21:20:08.331Z"
   },
   {
    "duration": -2918,
    "start_time": "2021-06-19T21:20:08.341Z"
   },
   {
    "duration": -2941,
    "start_time": "2021-06-19T21:20:08.366Z"
   },
   {
    "duration": -2950,
    "start_time": "2021-06-19T21:20:08.377Z"
   },
   {
    "duration": -2956,
    "start_time": "2021-06-19T21:20:08.387Z"
   },
   {
    "duration": -2963,
    "start_time": "2021-06-19T21:20:08.396Z"
   },
   {
    "duration": -2971,
    "start_time": "2021-06-19T21:20:08.406Z"
   },
   {
    "duration": -2979,
    "start_time": "2021-06-19T21:20:08.416Z"
   },
   {
    "duration": -2986,
    "start_time": "2021-06-19T21:20:08.426Z"
   },
   {
    "duration": -2993,
    "start_time": "2021-06-19T21:20:08.435Z"
   },
   {
    "duration": -2990,
    "start_time": "2021-06-19T21:20:08.445Z"
   },
   {
    "duration": -2998,
    "start_time": "2021-06-19T21:20:08.455Z"
   },
   {
    "duration": 19,
    "start_time": "2021-06-19T21:21:25.207Z"
   },
   {
    "duration": 2938,
    "start_time": "2021-06-19T21:21:37.235Z"
   },
   {
    "duration": 711,
    "start_time": "2021-06-19T21:21:40.176Z"
   },
   {
    "duration": 10,
    "start_time": "2021-06-19T21:21:40.891Z"
   },
   {
    "duration": 69,
    "start_time": "2021-06-19T21:21:40.905Z"
   },
   {
    "duration": 87,
    "start_time": "2021-06-19T21:21:40.978Z"
   },
   {
    "duration": 7,
    "start_time": "2021-06-19T21:21:41.069Z"
   },
   {
    "duration": 27,
    "start_time": "2021-06-19T21:21:41.079Z"
   },
   {
    "duration": 91,
    "start_time": "2021-06-19T21:21:41.109Z"
   },
   {
    "duration": -2943,
    "start_time": "2021-06-19T21:21:44.147Z"
   },
   {
    "duration": -2978,
    "start_time": "2021-06-19T21:21:44.184Z"
   },
   {
    "duration": -2999,
    "start_time": "2021-06-19T21:21:44.206Z"
   },
   {
    "duration": -3008,
    "start_time": "2021-06-19T21:21:44.217Z"
   },
   {
    "duration": -3017,
    "start_time": "2021-06-19T21:21:44.227Z"
   },
   {
    "duration": -3025,
    "start_time": "2021-06-19T21:21:44.236Z"
   },
   {
    "duration": -3033,
    "start_time": "2021-06-19T21:21:44.246Z"
   },
   {
    "duration": -3042,
    "start_time": "2021-06-19T21:21:44.256Z"
   },
   {
    "duration": -3051,
    "start_time": "2021-06-19T21:21:44.266Z"
   },
   {
    "duration": -3059,
    "start_time": "2021-06-19T21:21:44.275Z"
   },
   {
    "duration": -3080,
    "start_time": "2021-06-19T21:21:44.298Z"
   },
   {
    "duration": -3088,
    "start_time": "2021-06-19T21:21:44.307Z"
   },
   {
    "duration": -3099,
    "start_time": "2021-06-19T21:21:44.319Z"
   },
   {
    "duration": -3107,
    "start_time": "2021-06-19T21:21:44.328Z"
   },
   {
    "duration": -3114,
    "start_time": "2021-06-19T21:21:44.337Z"
   },
   {
    "duration": -3122,
    "start_time": "2021-06-19T21:21:44.346Z"
   },
   {
    "duration": -3129,
    "start_time": "2021-06-19T21:21:44.355Z"
   },
   {
    "duration": -3136,
    "start_time": "2021-06-19T21:21:44.363Z"
   },
   {
    "duration": -3145,
    "start_time": "2021-06-19T21:21:44.373Z"
   },
   {
    "duration": -3154,
    "start_time": "2021-06-19T21:21:44.383Z"
   },
   {
    "duration": -3162,
    "start_time": "2021-06-19T21:21:44.393Z"
   },
   {
    "duration": 23,
    "start_time": "2021-06-19T21:23:30.768Z"
   },
   {
    "duration": 28,
    "start_time": "2021-06-19T21:24:06.018Z"
   },
   {
    "duration": 25,
    "start_time": "2021-06-19T21:24:52.306Z"
   },
   {
    "duration": 1245,
    "start_time": "2021-06-19T21:25:03.891Z"
   },
   {
    "duration": 717,
    "start_time": "2021-06-19T21:25:05.139Z"
   },
   {
    "duration": 16,
    "start_time": "2021-06-19T21:25:05.859Z"
   },
   {
    "duration": 33,
    "start_time": "2021-06-19T21:25:05.878Z"
   },
   {
    "duration": 77,
    "start_time": "2021-06-19T21:25:05.914Z"
   },
   {
    "duration": 7,
    "start_time": "2021-06-19T21:25:05.993Z"
   },
   {
    "duration": 31,
    "start_time": "2021-06-19T21:25:06.002Z"
   },
   {
    "duration": 40,
    "start_time": "2021-06-19T21:25:06.037Z"
   },
   {
    "duration": 349,
    "start_time": "2021-06-19T21:25:06.080Z"
   },
   {
    "duration": -2867,
    "start_time": "2021-06-19T21:25:09.300Z"
   },
   {
    "duration": -2875,
    "start_time": "2021-06-19T21:25:09.310Z"
   },
   {
    "duration": -2881,
    "start_time": "2021-06-19T21:25:09.318Z"
   },
   {
    "duration": -2888,
    "start_time": "2021-06-19T21:25:09.327Z"
   },
   {
    "duration": -2895,
    "start_time": "2021-06-19T21:25:09.336Z"
   },
   {
    "duration": -2901,
    "start_time": "2021-06-19T21:25:09.344Z"
   },
   {
    "duration": -2907,
    "start_time": "2021-06-19T21:25:09.352Z"
   },
   {
    "duration": -2914,
    "start_time": "2021-06-19T21:25:09.361Z"
   },
   {
    "duration": -2919,
    "start_time": "2021-06-19T21:25:09.369Z"
   },
   {
    "duration": -2926,
    "start_time": "2021-06-19T21:25:09.378Z"
   },
   {
    "duration": -2943,
    "start_time": "2021-06-19T21:25:09.397Z"
   },
   {
    "duration": -2949,
    "start_time": "2021-06-19T21:25:09.405Z"
   },
   {
    "duration": -2956,
    "start_time": "2021-06-19T21:25:09.413Z"
   },
   {
    "duration": -2964,
    "start_time": "2021-06-19T21:25:09.423Z"
   },
   {
    "duration": -2971,
    "start_time": "2021-06-19T21:25:09.431Z"
   },
   {
    "duration": -2979,
    "start_time": "2021-06-19T21:25:09.440Z"
   },
   {
    "duration": -2986,
    "start_time": "2021-06-19T21:25:09.448Z"
   },
   {
    "duration": -2992,
    "start_time": "2021-06-19T21:25:09.456Z"
   },
   {
    "duration": -2999,
    "start_time": "2021-06-19T21:25:09.464Z"
   },
   {
    "duration": -3007,
    "start_time": "2021-06-19T21:25:09.473Z"
   },
   {
    "duration": 16,
    "start_time": "2021-06-19T21:25:34.933Z"
   },
   {
    "duration": 16,
    "start_time": "2021-06-19T21:26:01.236Z"
   },
   {
    "duration": 257,
    "start_time": "2021-06-19T21:26:03.370Z"
   },
   {
    "duration": 5,
    "start_time": "2021-06-19T21:28:04.229Z"
   },
   {
    "duration": 1189,
    "start_time": "2021-06-19T21:31:04.392Z"
   },
   {
    "duration": 669,
    "start_time": "2021-06-19T21:31:05.583Z"
   },
   {
    "duration": 12,
    "start_time": "2021-06-19T21:31:06.255Z"
   },
   {
    "duration": 33,
    "start_time": "2021-06-19T21:31:06.270Z"
   },
   {
    "duration": 87,
    "start_time": "2021-06-19T21:31:06.306Z"
   },
   {
    "duration": 7,
    "start_time": "2021-06-19T21:31:06.396Z"
   },
   {
    "duration": 21,
    "start_time": "2021-06-19T21:31:06.406Z"
   },
   {
    "duration": 19,
    "start_time": "2021-06-19T21:31:06.464Z"
   },
   {
    "duration": 1262,
    "start_time": "2021-06-19T21:31:06.487Z"
   },
   {
    "duration": -2885,
    "start_time": "2021-06-19T21:31:10.637Z"
   },
   {
    "duration": -2895,
    "start_time": "2021-06-19T21:31:10.650Z"
   },
   {
    "duration": -2905,
    "start_time": "2021-06-19T21:31:10.661Z"
   },
   {
    "duration": -2914,
    "start_time": "2021-06-19T21:31:10.671Z"
   },
   {
    "duration": -2921,
    "start_time": "2021-06-19T21:31:10.680Z"
   },
   {
    "duration": -2934,
    "start_time": "2021-06-19T21:31:10.694Z"
   },
   {
    "duration": -2944,
    "start_time": "2021-06-19T21:31:10.705Z"
   },
   {
    "duration": -2952,
    "start_time": "2021-06-19T21:31:10.714Z"
   },
   {
    "duration": -2959,
    "start_time": "2021-06-19T21:31:10.723Z"
   },
   {
    "duration": -2980,
    "start_time": "2021-06-19T21:31:10.745Z"
   },
   {
    "duration": -2989,
    "start_time": "2021-06-19T21:31:10.757Z"
   },
   {
    "duration": -2998,
    "start_time": "2021-06-19T21:31:10.768Z"
   },
   {
    "duration": -3010,
    "start_time": "2021-06-19T21:31:10.781Z"
   },
   {
    "duration": -3017,
    "start_time": "2021-06-19T21:31:10.790Z"
   },
   {
    "duration": -3026,
    "start_time": "2021-06-19T21:31:10.801Z"
   },
   {
    "duration": -3034,
    "start_time": "2021-06-19T21:31:10.811Z"
   },
   {
    "duration": -3043,
    "start_time": "2021-06-19T21:31:10.822Z"
   },
   {
    "duration": -3051,
    "start_time": "2021-06-19T21:31:10.832Z"
   },
   {
    "duration": -3082,
    "start_time": "2021-06-19T21:31:10.865Z"
   },
   {
    "duration": -3091,
    "start_time": "2021-06-19T21:31:10.876Z"
   },
   {
    "duration": 974,
    "start_time": "2021-06-19T21:32:56.874Z"
   },
   {
    "duration": 703,
    "start_time": "2021-06-19T21:32:57.850Z"
   },
   {
    "duration": 14,
    "start_time": "2021-06-19T21:32:58.558Z"
   },
   {
    "duration": 46,
    "start_time": "2021-06-19T21:32:58.576Z"
   },
   {
    "duration": 106,
    "start_time": "2021-06-19T21:32:58.626Z"
   },
   {
    "duration": 23,
    "start_time": "2021-06-19T21:32:58.735Z"
   },
   {
    "duration": 36,
    "start_time": "2021-06-19T21:32:58.761Z"
   },
   {
    "duration": 1254,
    "start_time": "2021-06-19T21:32:58.803Z"
   },
   {
    "duration": -2903,
    "start_time": "2021-06-19T21:33:02.964Z"
   },
   {
    "duration": -2930,
    "start_time": "2021-06-19T21:33:02.992Z"
   },
   {
    "duration": -2938,
    "start_time": "2021-06-19T21:33:03.002Z"
   },
   {
    "duration": -2947,
    "start_time": "2021-06-19T21:33:03.012Z"
   },
   {
    "duration": -2956,
    "start_time": "2021-06-19T21:33:03.023Z"
   },
   {
    "duration": -2968,
    "start_time": "2021-06-19T21:33:03.036Z"
   },
   {
    "duration": -2977,
    "start_time": "2021-06-19T21:33:03.047Z"
   },
   {
    "duration": -2985,
    "start_time": "2021-06-19T21:33:03.056Z"
   },
   {
    "duration": -3009,
    "start_time": "2021-06-19T21:33:03.081Z"
   },
   {
    "duration": -3025,
    "start_time": "2021-06-19T21:33:03.099Z"
   },
   {
    "duration": -3033,
    "start_time": "2021-06-19T21:33:03.108Z"
   },
   {
    "duration": -3039,
    "start_time": "2021-06-19T21:33:03.116Z"
   },
   {
    "duration": -3052,
    "start_time": "2021-06-19T21:33:03.130Z"
   },
   {
    "duration": -3058,
    "start_time": "2021-06-19T21:33:03.138Z"
   },
   {
    "duration": -3066,
    "start_time": "2021-06-19T21:33:03.147Z"
   },
   {
    "duration": -3073,
    "start_time": "2021-06-19T21:33:03.155Z"
   },
   {
    "duration": -3080,
    "start_time": "2021-06-19T21:33:03.164Z"
   },
   {
    "duration": -3087,
    "start_time": "2021-06-19T21:33:03.172Z"
   },
   {
    "duration": -3107,
    "start_time": "2021-06-19T21:33:03.193Z"
   },
   {
    "duration": -3116,
    "start_time": "2021-06-19T21:33:03.204Z"
   },
   {
    "duration": 1348,
    "start_time": "2021-06-20T10:45:36.739Z"
   },
   {
    "duration": 740,
    "start_time": "2021-06-20T10:45:38.090Z"
   },
   {
    "duration": 10,
    "start_time": "2021-06-20T10:45:38.834Z"
   },
   {
    "duration": 31,
    "start_time": "2021-06-20T10:45:38.847Z"
   },
   {
    "duration": 83,
    "start_time": "2021-06-20T10:45:38.882Z"
   },
   {
    "duration": 7,
    "start_time": "2021-06-20T10:45:38.968Z"
   },
   {
    "duration": 21,
    "start_time": "2021-06-20T10:45:38.977Z"
   },
   {
    "duration": 1326,
    "start_time": "2021-06-20T10:45:39.025Z"
   },
   {
    "duration": -3346,
    "start_time": "2021-06-20T10:45:43.700Z"
   },
   {
    "duration": -3362,
    "start_time": "2021-06-20T10:45:43.717Z"
   },
   {
    "duration": -3378,
    "start_time": "2021-06-20T10:45:43.735Z"
   },
   {
    "duration": -3388,
    "start_time": "2021-06-20T10:45:43.746Z"
   },
   {
    "duration": -3412,
    "start_time": "2021-06-20T10:45:43.771Z"
   },
   {
    "duration": -3465,
    "start_time": "2021-06-20T10:45:43.825Z"
   },
   {
    "duration": -3482,
    "start_time": "2021-06-20T10:45:43.844Z"
   },
   {
    "duration": -3493,
    "start_time": "2021-06-20T10:45:43.856Z"
   },
   {
    "duration": -3511,
    "start_time": "2021-06-20T10:45:43.875Z"
   },
   {
    "duration": -3520,
    "start_time": "2021-06-20T10:45:43.885Z"
   },
   {
    "duration": -3531,
    "start_time": "2021-06-20T10:45:43.898Z"
   },
   {
    "duration": -3539,
    "start_time": "2021-06-20T10:45:43.907Z"
   },
   {
    "duration": -3552,
    "start_time": "2021-06-20T10:45:43.921Z"
   },
   {
    "duration": -3580,
    "start_time": "2021-06-20T10:45:43.950Z"
   },
   {
    "duration": -3596,
    "start_time": "2021-06-20T10:45:43.968Z"
   },
   {
    "duration": -3610,
    "start_time": "2021-06-20T10:45:43.983Z"
   },
   {
    "duration": -3621,
    "start_time": "2021-06-20T10:45:43.996Z"
   },
   {
    "duration": -3633,
    "start_time": "2021-06-20T10:45:44.009Z"
   },
   {
    "duration": -3640,
    "start_time": "2021-06-20T10:45:44.018Z"
   },
   {
    "duration": -3656,
    "start_time": "2021-06-20T10:45:44.035Z"
   },
   {
    "duration": 9,
    "start_time": "2021-06-20T10:50:45.324Z"
   },
   {
    "duration": 8,
    "start_time": "2021-06-20T10:51:24.014Z"
   },
   {
    "duration": 271,
    "start_time": "2021-06-20T11:17:32.993Z"
   },
   {
    "duration": 271,
    "start_time": "2021-06-20T11:21:19.113Z"
   },
   {
    "duration": 5286,
    "start_time": "2021-06-20T11:21:29.712Z"
   },
   {
    "duration": 22,
    "start_time": "2021-06-20T11:24:54.748Z"
   },
   {
    "duration": 23,
    "start_time": "2021-06-20T11:25:34.271Z"
   },
   {
    "duration": 24,
    "start_time": "2021-06-20T11:26:53.765Z"
   },
   {
    "duration": 15,
    "start_time": "2021-06-20T11:27:07.388Z"
   },
   {
    "duration": 1334,
    "start_time": "2021-06-20T11:34:51.146Z"
   },
   {
    "duration": 1268,
    "start_time": "2021-06-20T11:35:04.349Z"
   },
   {
    "duration": 16,
    "start_time": "2021-06-20T11:35:24.666Z"
   },
   {
    "duration": 16,
    "start_time": "2021-06-20T11:35:58.797Z"
   },
   {
    "duration": 18,
    "start_time": "2021-06-20T11:36:17.115Z"
   },
   {
    "duration": 15,
    "start_time": "2021-06-20T11:36:28.323Z"
   },
   {
    "duration": 1072,
    "start_time": "2021-06-20T11:36:37.476Z"
   },
   {
    "duration": 773,
    "start_time": "2021-06-20T11:36:38.550Z"
   },
   {
    "duration": 9,
    "start_time": "2021-06-20T11:36:39.327Z"
   },
   {
    "duration": 28,
    "start_time": "2021-06-20T11:36:39.339Z"
   },
   {
    "duration": 80,
    "start_time": "2021-06-20T11:36:39.369Z"
   },
   {
    "duration": 6,
    "start_time": "2021-06-20T11:36:39.452Z"
   },
   {
    "duration": 19,
    "start_time": "2021-06-20T11:36:39.460Z"
   },
   {
    "duration": 10,
    "start_time": "2021-06-20T11:36:39.482Z"
   },
   {
    "duration": 18,
    "start_time": "2021-06-20T11:36:39.525Z"
   },
   {
    "duration": 15,
    "start_time": "2021-06-20T11:36:39.546Z"
   },
   {
    "duration": 92,
    "start_time": "2021-06-20T11:36:39.564Z"
   },
   {
    "duration": -217,
    "start_time": "2021-06-20T11:36:39.876Z"
   },
   {
    "duration": -232,
    "start_time": "2021-06-20T11:36:39.893Z"
   },
   {
    "duration": -238,
    "start_time": "2021-06-20T11:36:39.901Z"
   },
   {
    "duration": -245,
    "start_time": "2021-06-20T11:36:39.910Z"
   },
   {
    "duration": -251,
    "start_time": "2021-06-20T11:36:39.918Z"
   },
   {
    "duration": -277,
    "start_time": "2021-06-20T11:36:39.946Z"
   },
   {
    "duration": -283,
    "start_time": "2021-06-20T11:36:39.954Z"
   },
   {
    "duration": -311,
    "start_time": "2021-06-20T11:36:39.984Z"
   },
   {
    "duration": -318,
    "start_time": "2021-06-20T11:36:39.993Z"
   },
   {
    "duration": -325,
    "start_time": "2021-06-20T11:36:40.002Z"
   },
   {
    "duration": -330,
    "start_time": "2021-06-20T11:36:40.010Z"
   },
   {
    "duration": -337,
    "start_time": "2021-06-20T11:36:40.018Z"
   },
   {
    "duration": -343,
    "start_time": "2021-06-20T11:36:40.026Z"
   },
   {
    "duration": -353,
    "start_time": "2021-06-20T11:36:40.037Z"
   },
   {
    "duration": -361,
    "start_time": "2021-06-20T11:36:40.046Z"
   },
   {
    "duration": -383,
    "start_time": "2021-06-20T11:36:40.070Z"
   },
   {
    "duration": -403,
    "start_time": "2021-06-20T11:36:40.092Z"
   },
   {
    "duration": -411,
    "start_time": "2021-06-20T11:36:40.101Z"
   },
   {
    "duration": -417,
    "start_time": "2021-06-20T11:36:40.108Z"
   },
   {
    "duration": -424,
    "start_time": "2021-06-20T11:36:40.117Z"
   },
   {
    "duration": 409,
    "start_time": "2021-06-20T11:39:12.680Z"
   },
   {
    "duration": 5077,
    "start_time": "2021-06-20T11:42:57.030Z"
   },
   {
    "duration": 17,
    "start_time": "2021-06-20T11:43:48.320Z"
   },
   {
    "duration": 13,
    "start_time": "2021-06-20T11:44:40.784Z"
   },
   {
    "duration": 17,
    "start_time": "2021-06-20T11:45:11.070Z"
   },
   {
    "duration": 293,
    "start_time": "2021-06-20T11:45:27.494Z"
   },
   {
    "duration": 1240,
    "start_time": "2021-06-20T11:45:43.536Z"
   },
   {
    "duration": 829,
    "start_time": "2021-06-20T11:45:44.779Z"
   },
   {
    "duration": 17,
    "start_time": "2021-06-20T11:45:45.611Z"
   },
   {
    "duration": 39,
    "start_time": "2021-06-20T11:45:45.631Z"
   },
   {
    "duration": 92,
    "start_time": "2021-06-20T11:45:45.674Z"
   },
   {
    "duration": 7,
    "start_time": "2021-06-20T11:45:45.769Z"
   },
   {
    "duration": 19,
    "start_time": "2021-06-20T11:45:45.779Z"
   },
   {
    "duration": 7,
    "start_time": "2021-06-20T11:45:45.827Z"
   },
   {
    "duration": 18,
    "start_time": "2021-06-20T11:45:45.838Z"
   },
   {
    "duration": 463,
    "start_time": "2021-06-20T11:45:45.859Z"
   },
   {
    "duration": -130,
    "start_time": "2021-06-20T11:45:46.455Z"
   },
   {
    "duration": -140,
    "start_time": "2021-06-20T11:45:46.467Z"
   },
   {
    "duration": -150,
    "start_time": "2021-06-20T11:45:46.479Z"
   },
   {
    "duration": -162,
    "start_time": "2021-06-20T11:45:46.493Z"
   },
   {
    "duration": -170,
    "start_time": "2021-06-20T11:45:46.504Z"
   },
   {
    "duration": -193,
    "start_time": "2021-06-20T11:45:46.529Z"
   },
   {
    "duration": -203,
    "start_time": "2021-06-20T11:45:46.541Z"
   },
   {
    "duration": -214,
    "start_time": "2021-06-20T11:45:46.553Z"
   },
   {
    "duration": -222,
    "start_time": "2021-06-20T11:45:46.563Z"
   },
   {
    "duration": -232,
    "start_time": "2021-06-20T11:45:46.575Z"
   },
   {
    "duration": -241,
    "start_time": "2021-06-20T11:45:46.585Z"
   },
   {
    "duration": -249,
    "start_time": "2021-06-20T11:45:46.595Z"
   },
   {
    "duration": -259,
    "start_time": "2021-06-20T11:45:46.606Z"
   },
   {
    "duration": -267,
    "start_time": "2021-06-20T11:45:46.616Z"
   },
   {
    "duration": -286,
    "start_time": "2021-06-20T11:45:46.636Z"
   },
   {
    "duration": -298,
    "start_time": "2021-06-20T11:45:46.651Z"
   },
   {
    "duration": -304,
    "start_time": "2021-06-20T11:45:46.659Z"
   },
   {
    "duration": -311,
    "start_time": "2021-06-20T11:45:46.668Z"
   },
   {
    "duration": -316,
    "start_time": "2021-06-20T11:45:46.675Z"
   },
   {
    "duration": -323,
    "start_time": "2021-06-20T11:45:46.684Z"
   },
   {
    "duration": 34,
    "start_time": "2021-06-20T11:46:27.596Z"
   },
   {
    "duration": 53,
    "start_time": "2021-06-20T12:01:01.526Z"
   },
   {
    "duration": 1080,
    "start_time": "2021-06-20T12:01:14.327Z"
   },
   {
    "duration": 862,
    "start_time": "2021-06-20T12:01:15.410Z"
   },
   {
    "duration": 12,
    "start_time": "2021-06-20T12:01:16.277Z"
   },
   {
    "duration": 58,
    "start_time": "2021-06-20T12:01:16.293Z"
   },
   {
    "duration": 79,
    "start_time": "2021-06-20T12:01:16.354Z"
   },
   {
    "duration": 8,
    "start_time": "2021-06-20T12:01:16.435Z"
   },
   {
    "duration": 31,
    "start_time": "2021-06-20T12:01:16.447Z"
   },
   {
    "duration": 9,
    "start_time": "2021-06-20T12:01:16.482Z"
   },
   {
    "duration": 25,
    "start_time": "2021-06-20T12:01:16.526Z"
   },
   {
    "duration": 78,
    "start_time": "2021-06-20T12:01:16.555Z"
   },
   {
    "duration": 6,
    "start_time": "2021-06-20T12:01:16.636Z"
   },
   {
    "duration": 7,
    "start_time": "2021-06-20T12:01:16.647Z"
   },
   {
    "duration": 31,
    "start_time": "2021-06-20T12:01:16.657Z"
   },
   {
    "duration": 6,
    "start_time": "2021-06-20T12:01:16.690Z"
   },
   {
    "duration": 23,
    "start_time": "2021-06-20T12:01:16.725Z"
   },
   {
    "duration": 29,
    "start_time": "2021-06-20T12:01:16.752Z"
   },
   {
    "duration": 105,
    "start_time": "2021-06-20T12:01:16.784Z"
   },
   {
    "duration": 60,
    "start_time": "2021-06-20T12:01:16.892Z"
   },
   {
    "duration": 34,
    "start_time": "2021-06-20T12:01:16.954Z"
   },
   {
    "duration": 5634,
    "start_time": "2021-06-20T12:01:16.990Z"
   },
   {
    "duration": 22,
    "start_time": "2021-06-20T12:01:22.627Z"
   },
   {
    "duration": 19,
    "start_time": "2021-06-20T12:01:22.652Z"
   },
   {
    "duration": 48,
    "start_time": "2021-06-20T12:01:22.676Z"
   },
   {
    "duration": 30,
    "start_time": "2021-06-20T12:01:22.728Z"
   },
   {
    "duration": 64,
    "start_time": "2021-06-20T12:01:22.760Z"
   },
   {
    "duration": 30,
    "start_time": "2021-06-20T12:01:22.827Z"
   },
   {
    "duration": 25,
    "start_time": "2021-06-20T12:01:22.859Z"
   },
   {
    "duration": 59,
    "start_time": "2021-06-20T12:01:22.887Z"
   },
   {
    "duration": 80,
    "start_time": "2021-06-20T12:01:22.949Z"
   },
   {
    "duration": 34,
    "start_time": "2021-06-20T12:01:23.031Z"
   },
   {
    "duration": 30,
    "start_time": "2021-06-20T12:03:05.106Z"
   },
   {
    "duration": 992,
    "start_time": "2021-06-20T12:03:27.969Z"
   },
   {
    "duration": 833,
    "start_time": "2021-06-20T12:03:28.964Z"
   },
   {
    "duration": 12,
    "start_time": "2021-06-20T12:03:29.802Z"
   },
   {
    "duration": 40,
    "start_time": "2021-06-20T12:03:29.826Z"
   },
   {
    "duration": 85,
    "start_time": "2021-06-20T12:03:29.869Z"
   },
   {
    "duration": 7,
    "start_time": "2021-06-20T12:03:29.957Z"
   },
   {
    "duration": 21,
    "start_time": "2021-06-20T12:03:29.966Z"
   },
   {
    "duration": 7,
    "start_time": "2021-06-20T12:03:29.989Z"
   },
   {
    "duration": 21,
    "start_time": "2021-06-20T12:03:30.029Z"
   },
   {
    "duration": 35,
    "start_time": "2021-06-20T12:03:30.053Z"
   },
   {
    "duration": 6,
    "start_time": "2021-06-20T12:03:30.125Z"
   },
   {
    "duration": 15,
    "start_time": "2021-06-20T12:03:30.133Z"
   },
   {
    "duration": 30,
    "start_time": "2021-06-20T12:03:30.152Z"
   },
   {
    "duration": 6,
    "start_time": "2021-06-20T12:03:30.185Z"
   },
   {
    "duration": 51,
    "start_time": "2021-06-20T12:03:30.193Z"
   },
   {
    "duration": 29,
    "start_time": "2021-06-20T12:03:30.247Z"
   },
   {
    "duration": 102,
    "start_time": "2021-06-20T12:03:30.278Z"
   },
   {
    "duration": 48,
    "start_time": "2021-06-20T12:03:30.383Z"
   },
   {
    "duration": 38,
    "start_time": "2021-06-20T12:03:30.434Z"
   },
   {
    "duration": 5471,
    "start_time": "2021-06-20T12:03:30.474Z"
   },
   {
    "duration": 20,
    "start_time": "2021-06-20T12:03:35.948Z"
   },
   {
    "duration": 27,
    "start_time": "2021-06-20T12:03:35.971Z"
   },
   {
    "duration": 43,
    "start_time": "2021-06-20T12:03:36.000Z"
   },
   {
    "duration": 31,
    "start_time": "2021-06-20T12:03:36.046Z"
   },
   {
    "duration": 54,
    "start_time": "2021-06-20T12:03:36.081Z"
   },
   {
    "duration": 26,
    "start_time": "2021-06-20T12:03:36.137Z"
   },
   {
    "duration": 22,
    "start_time": "2021-06-20T12:03:36.167Z"
   },
   {
    "duration": 55,
    "start_time": "2021-06-20T12:03:36.192Z"
   },
   {
    "duration": 89,
    "start_time": "2021-06-20T12:03:36.250Z"
   },
   {
    "duration": 34,
    "start_time": "2021-06-20T12:03:36.342Z"
   },
   {
    "duration": 1039,
    "start_time": "2021-06-20T12:04:44.415Z"
   },
   {
    "duration": 741,
    "start_time": "2021-06-20T12:04:45.457Z"
   },
   {
    "duration": 10,
    "start_time": "2021-06-20T12:04:46.201Z"
   },
   {
    "duration": 28,
    "start_time": "2021-06-20T12:04:46.225Z"
   },
   {
    "duration": 70,
    "start_time": "2021-06-20T12:04:46.255Z"
   },
   {
    "duration": 5,
    "start_time": "2021-06-20T12:04:46.328Z"
   },
   {
    "duration": 20,
    "start_time": "2021-06-20T12:04:46.335Z"
   },
   {
    "duration": 9,
    "start_time": "2021-06-20T12:04:46.360Z"
   },
   {
    "duration": 58,
    "start_time": "2021-06-20T12:04:46.373Z"
   },
   {
    "duration": 47,
    "start_time": "2021-06-20T12:04:46.434Z"
   },
   {
    "duration": 5,
    "start_time": "2021-06-20T12:04:46.484Z"
   },
   {
    "duration": 37,
    "start_time": "2021-06-20T12:04:46.492Z"
   },
   {
    "duration": 30,
    "start_time": "2021-06-20T12:04:46.533Z"
   },
   {
    "duration": 8,
    "start_time": "2021-06-20T12:04:46.566Z"
   },
   {
    "duration": 54,
    "start_time": "2021-06-20T12:04:46.577Z"
   },
   {
    "duration": 23,
    "start_time": "2021-06-20T12:04:46.633Z"
   },
   {
    "duration": 84,
    "start_time": "2021-06-20T12:04:46.658Z"
   },
   {
    "duration": 33,
    "start_time": "2021-06-20T12:04:46.745Z"
   },
   {
    "duration": 61,
    "start_time": "2021-06-20T12:04:46.780Z"
   },
   {
    "duration": 4705,
    "start_time": "2021-06-20T12:04:46.843Z"
   },
   {
    "duration": 16,
    "start_time": "2021-06-20T12:04:51.551Z"
   },
   {
    "duration": 22,
    "start_time": "2021-06-20T12:04:51.570Z"
   },
   {
    "duration": 36,
    "start_time": "2021-06-20T12:04:51.597Z"
   },
   {
    "duration": 29,
    "start_time": "2021-06-20T12:04:51.636Z"
   },
   {
    "duration": 65,
    "start_time": "2021-06-20T12:04:51.668Z"
   },
   {
    "duration": 28,
    "start_time": "2021-06-20T12:04:51.736Z"
   },
   {
    "duration": 23,
    "start_time": "2021-06-20T12:04:51.767Z"
   },
   {
    "duration": 58,
    "start_time": "2021-06-20T12:04:51.792Z"
   },
   {
    "duration": 83,
    "start_time": "2021-06-20T12:04:51.853Z"
   },
   {
    "duration": 28,
    "start_time": "2021-06-20T12:04:51.938Z"
   },
   {
    "duration": 1081,
    "start_time": "2021-06-20T12:07:11.492Z"
   },
   {
    "duration": 842,
    "start_time": "2021-06-20T12:07:12.576Z"
   },
   {
    "duration": 13,
    "start_time": "2021-06-20T12:07:13.426Z"
   },
   {
    "duration": 41,
    "start_time": "2021-06-20T12:07:13.443Z"
   },
   {
    "duration": 89,
    "start_time": "2021-06-20T12:07:13.487Z"
   },
   {
    "duration": 6,
    "start_time": "2021-06-20T12:07:13.579Z"
   },
   {
    "duration": 39,
    "start_time": "2021-06-20T12:07:13.587Z"
   },
   {
    "duration": 9,
    "start_time": "2021-06-20T12:07:13.631Z"
   },
   {
    "duration": 17,
    "start_time": "2021-06-20T12:07:13.645Z"
   },
   {
    "duration": 69,
    "start_time": "2021-06-20T12:07:13.666Z"
   },
   {
    "duration": 4,
    "start_time": "2021-06-20T12:07:13.739Z"
   },
   {
    "duration": 24,
    "start_time": "2021-06-20T12:07:13.746Z"
   },
   {
    "duration": 27,
    "start_time": "2021-06-20T12:07:13.773Z"
   },
   {
    "duration": 8,
    "start_time": "2021-06-20T12:07:13.802Z"
   },
   {
    "duration": 22,
    "start_time": "2021-06-20T12:07:13.825Z"
   },
   {
    "duration": 23,
    "start_time": "2021-06-20T12:07:13.850Z"
   },
   {
    "duration": 105,
    "start_time": "2021-06-20T12:07:13.875Z"
   },
   {
    "duration": 47,
    "start_time": "2021-06-20T12:07:13.982Z"
   },
   {
    "duration": 30,
    "start_time": "2021-06-20T12:07:14.031Z"
   },
   {
    "duration": 4617,
    "start_time": "2021-06-20T12:07:14.064Z"
   },
   {
    "duration": 17,
    "start_time": "2021-06-20T12:07:18.684Z"
   },
   {
    "duration": 35,
    "start_time": "2021-06-20T12:07:18.704Z"
   },
   {
    "duration": 21,
    "start_time": "2021-06-20T12:07:18.745Z"
   },
   {
    "duration": 25,
    "start_time": "2021-06-20T12:07:18.769Z"
   },
   {
    "duration": 60,
    "start_time": "2021-06-20T12:07:18.796Z"
   },
   {
    "duration": 24,
    "start_time": "2021-06-20T12:07:18.858Z"
   },
   {
    "duration": 53,
    "start_time": "2021-06-20T12:07:18.884Z"
   },
   {
    "duration": 25,
    "start_time": "2021-06-20T12:07:18.940Z"
   },
   {
    "duration": 85,
    "start_time": "2021-06-20T12:07:18.967Z"
   },
   {
    "duration": 27,
    "start_time": "2021-06-20T12:07:19.054Z"
   },
   {
    "duration": 8,
    "start_time": "2021-06-20T12:08:40.979Z"
   },
   {
    "duration": 7,
    "start_time": "2021-06-20T12:13:16.644Z"
   },
   {
    "duration": 6,
    "start_time": "2021-06-20T12:17:24.253Z"
   },
   {
    "duration": 52,
    "start_time": "2021-06-20T12:18:44.612Z"
   },
   {
    "duration": 2692,
    "start_time": "2021-06-20T12:19:11.185Z"
   },
   {
    "duration": 94,
    "start_time": "2021-06-20T12:19:55.734Z"
   },
   {
    "duration": 4,
    "start_time": "2021-06-20T12:20:05.725Z"
   },
   {
    "duration": 321,
    "start_time": "2021-06-20T12:23:17.604Z"
   },
   {
    "duration": 5,
    "start_time": "2021-06-20T12:24:15.504Z"
   },
   {
    "duration": 1040,
    "start_time": "2021-06-20T12:24:58.991Z"
   },
   {
    "duration": 751,
    "start_time": "2021-06-20T12:25:00.033Z"
   },
   {
    "duration": 9,
    "start_time": "2021-06-20T12:25:00.788Z"
   },
   {
    "duration": 49,
    "start_time": "2021-06-20T12:25:00.799Z"
   },
   {
    "duration": 55,
    "start_time": "2021-06-20T12:25:00.851Z"
   },
   {
    "duration": 8,
    "start_time": "2021-06-20T12:25:00.925Z"
   },
   {
    "duration": 41,
    "start_time": "2021-06-20T12:25:00.935Z"
   },
   {
    "duration": 11,
    "start_time": "2021-06-20T12:25:00.980Z"
   },
   {
    "duration": 50,
    "start_time": "2021-06-20T12:25:00.994Z"
   },
   {
    "duration": 29,
    "start_time": "2021-06-20T12:25:01.046Z"
   },
   {
    "duration": 8,
    "start_time": "2021-06-20T12:25:01.078Z"
   },
   {
    "duration": 36,
    "start_time": "2021-06-20T12:25:01.089Z"
   },
   {
    "duration": 4,
    "start_time": "2021-06-20T12:25:01.128Z"
   },
   {
    "duration": 15,
    "start_time": "2021-06-20T12:25:01.135Z"
   },
   {
    "duration": 35,
    "start_time": "2021-06-20T12:25:01.152Z"
   },
   {
    "duration": 6,
    "start_time": "2021-06-20T12:25:01.190Z"
   },
   {
    "duration": 45,
    "start_time": "2021-06-20T12:25:01.198Z"
   },
   {
    "duration": 22,
    "start_time": "2021-06-20T12:25:01.246Z"
   },
   {
    "duration": 97,
    "start_time": "2021-06-20T12:25:01.270Z"
   },
   {
    "duration": 56,
    "start_time": "2021-06-20T12:25:01.370Z"
   },
   {
    "duration": 29,
    "start_time": "2021-06-20T12:25:01.429Z"
   },
   {
    "duration": 4841,
    "start_time": "2021-06-20T12:25:01.461Z"
   },
   {
    "duration": 27,
    "start_time": "2021-06-20T12:25:06.306Z"
   },
   {
    "duration": 17,
    "start_time": "2021-06-20T12:25:06.337Z"
   },
   {
    "duration": 17,
    "start_time": "2021-06-20T12:25:06.357Z"
   },
   {
    "duration": 61,
    "start_time": "2021-06-20T12:25:06.377Z"
   },
   {
    "duration": 34,
    "start_time": "2021-06-20T12:25:06.441Z"
   },
   {
    "duration": 58,
    "start_time": "2021-06-20T12:25:06.478Z"
   },
   {
    "duration": 23,
    "start_time": "2021-06-20T12:25:06.538Z"
   },
   {
    "duration": 26,
    "start_time": "2021-06-20T12:25:06.564Z"
   },
   {
    "duration": 84,
    "start_time": "2021-06-20T12:25:06.592Z"
   },
   {
    "duration": 52,
    "start_time": "2021-06-20T12:25:06.679Z"
   },
   {
    "duration": 5,
    "start_time": "2021-06-20T12:28:54.563Z"
   },
   {
    "duration": 383,
    "start_time": "2021-06-20T12:33:03.044Z"
   },
   {
    "duration": 5,
    "start_time": "2021-06-20T12:34:31.522Z"
   },
   {
    "duration": 49,
    "start_time": "2021-06-20T12:40:11.605Z"
   },
   {
    "duration": 1314,
    "start_time": "2021-06-20T12:40:20.716Z"
   },
   {
    "duration": 935,
    "start_time": "2021-06-20T12:40:22.032Z"
   },
   {
    "duration": 10,
    "start_time": "2021-06-20T12:40:22.971Z"
   },
   {
    "duration": 47,
    "start_time": "2021-06-20T12:40:22.984Z"
   },
   {
    "duration": 51,
    "start_time": "2021-06-20T12:40:23.033Z"
   },
   {
    "duration": 6,
    "start_time": "2021-06-20T12:40:23.087Z"
   },
   {
    "duration": 18,
    "start_time": "2021-06-20T12:40:23.124Z"
   },
   {
    "duration": 8,
    "start_time": "2021-06-20T12:40:23.146Z"
   },
   {
    "duration": 21,
    "start_time": "2021-06-20T12:40:23.158Z"
   },
   {
    "duration": 54,
    "start_time": "2021-06-20T12:40:23.182Z"
   },
   {
    "duration": 10,
    "start_time": "2021-06-20T12:40:23.239Z"
   },
   {
    "duration": 73,
    "start_time": "2021-06-20T12:40:23.252Z"
   },
   {
    "duration": 6,
    "start_time": "2021-06-20T12:40:23.328Z"
   },
   {
    "duration": 6,
    "start_time": "2021-06-20T12:40:23.337Z"
   },
   {
    "duration": 726,
    "start_time": "2021-06-20T12:40:23.346Z"
   },
   {
    "duration": -131,
    "start_time": "2021-06-20T12:40:24.207Z"
   },
   {
    "duration": -140,
    "start_time": "2021-06-20T12:40:24.218Z"
   },
   {
    "duration": -148,
    "start_time": "2021-06-20T12:40:24.227Z"
   },
   {
    "duration": -155,
    "start_time": "2021-06-20T12:40:24.235Z"
   },
   {
    "duration": -162,
    "start_time": "2021-06-20T12:40:24.244Z"
   },
   {
    "duration": -168,
    "start_time": "2021-06-20T12:40:24.251Z"
   },
   {
    "duration": -178,
    "start_time": "2021-06-20T12:40:24.262Z"
   },
   {
    "duration": -185,
    "start_time": "2021-06-20T12:40:24.270Z"
   },
   {
    "duration": -191,
    "start_time": "2021-06-20T12:40:24.278Z"
   },
   {
    "duration": -197,
    "start_time": "2021-06-20T12:40:24.286Z"
   },
   {
    "duration": -218,
    "start_time": "2021-06-20T12:40:24.308Z"
   },
   {
    "duration": -224,
    "start_time": "2021-06-20T12:40:24.315Z"
   },
   {
    "duration": -231,
    "start_time": "2021-06-20T12:40:24.324Z"
   },
   {
    "duration": -237,
    "start_time": "2021-06-20T12:40:24.331Z"
   },
   {
    "duration": -245,
    "start_time": "2021-06-20T12:40:24.340Z"
   },
   {
    "duration": -251,
    "start_time": "2021-06-20T12:40:24.348Z"
   },
   {
    "duration": -259,
    "start_time": "2021-06-20T12:40:24.357Z"
   },
   {
    "duration": 1354,
    "start_time": "2021-06-20T12:41:05.878Z"
   },
   {
    "duration": 6,
    "start_time": "2021-06-20T12:53:12.384Z"
   },
   {
    "duration": 91,
    "start_time": "2021-06-20T12:57:08.832Z"
   },
   {
    "duration": 86,
    "start_time": "2021-06-20T12:59:40.779Z"
   },
   {
    "duration": 992,
    "start_time": "2021-06-20T12:59:58.151Z"
   },
   {
    "duration": 734,
    "start_time": "2021-06-20T12:59:59.146Z"
   },
   {
    "duration": 9,
    "start_time": "2021-06-20T12:59:59.884Z"
   },
   {
    "duration": 52,
    "start_time": "2021-06-20T12:59:59.895Z"
   },
   {
    "duration": 49,
    "start_time": "2021-06-20T12:59:59.949Z"
   },
   {
    "duration": 25,
    "start_time": "2021-06-20T13:00:00.001Z"
   },
   {
    "duration": 20,
    "start_time": "2021-06-20T13:00:00.029Z"
   },
   {
    "duration": 11,
    "start_time": "2021-06-20T13:00:00.053Z"
   },
   {
    "duration": 17,
    "start_time": "2021-06-20T13:00:00.067Z"
   },
   {
    "duration": 50,
    "start_time": "2021-06-20T13:00:00.087Z"
   },
   {
    "duration": 9,
    "start_time": "2021-06-20T13:00:00.139Z"
   },
   {
    "duration": 9,
    "start_time": "2021-06-20T13:00:00.150Z"
   },
   {
    "duration": 2476,
    "start_time": "2021-06-20T13:00:00.161Z"
   },
   {
    "duration": -112,
    "start_time": "2021-06-20T13:00:02.753Z"
   },
   {
    "duration": -120,
    "start_time": "2021-06-20T13:00:02.762Z"
   },
   {
    "duration": -126,
    "start_time": "2021-06-20T13:00:02.774Z"
   },
   {
    "duration": -135,
    "start_time": "2021-06-20T13:00:02.785Z"
   },
   {
    "duration": -142,
    "start_time": "2021-06-20T13:00:02.794Z"
   },
   {
    "duration": -165,
    "start_time": "2021-06-20T13:00:02.818Z"
   },
   {
    "duration": -183,
    "start_time": "2021-06-20T13:00:02.838Z"
   },
   {
    "duration": -208,
    "start_time": "2021-06-20T13:00:02.865Z"
   },
   {
    "duration": -232,
    "start_time": "2021-06-20T13:00:02.890Z"
   },
   {
    "duration": -248,
    "start_time": "2021-06-20T13:00:02.916Z"
   },
   {
    "duration": -256,
    "start_time": "2021-06-20T13:00:02.927Z"
   },
   {
    "duration": -265,
    "start_time": "2021-06-20T13:00:02.938Z"
   },
   {
    "duration": -275,
    "start_time": "2021-06-20T13:00:02.950Z"
   },
   {
    "duration": -281,
    "start_time": "2021-06-20T13:00:02.959Z"
   },
   {
    "duration": -287,
    "start_time": "2021-06-20T13:00:02.967Z"
   },
   {
    "duration": -294,
    "start_time": "2021-06-20T13:00:02.976Z"
   },
   {
    "duration": -300,
    "start_time": "2021-06-20T13:00:02.984Z"
   },
   {
    "duration": -307,
    "start_time": "2021-06-20T13:00:02.993Z"
   },
   {
    "duration": -311,
    "start_time": "2021-06-20T13:00:03.001Z"
   },
   {
    "duration": -284,
    "start_time": "2021-06-20T13:00:03.009Z"
   },
   {
    "duration": 1072,
    "start_time": "2021-06-20T13:00:30.441Z"
   },
   {
    "duration": 722,
    "start_time": "2021-06-20T13:00:31.516Z"
   },
   {
    "duration": 9,
    "start_time": "2021-06-20T13:00:32.241Z"
   },
   {
    "duration": 37,
    "start_time": "2021-06-20T13:00:32.253Z"
   },
   {
    "duration": 70,
    "start_time": "2021-06-20T13:00:32.292Z"
   },
   {
    "duration": 5,
    "start_time": "2021-06-20T13:00:32.365Z"
   },
   {
    "duration": 28,
    "start_time": "2021-06-20T13:00:32.372Z"
   },
   {
    "duration": 25,
    "start_time": "2021-06-20T13:00:32.403Z"
   },
   {
    "duration": 21,
    "start_time": "2021-06-20T13:00:32.431Z"
   },
   {
    "duration": 18,
    "start_time": "2021-06-20T13:00:32.454Z"
   },
   {
    "duration": 11,
    "start_time": "2021-06-20T13:00:32.474Z"
   },
   {
    "duration": 39,
    "start_time": "2021-06-20T13:00:32.487Z"
   },
   {
    "duration": 1982,
    "start_time": "2021-06-20T13:00:32.528Z"
   },
   {
    "duration": -172,
    "start_time": "2021-06-20T13:00:34.685Z"
   },
   {
    "duration": -184,
    "start_time": "2021-06-20T13:00:34.699Z"
   },
   {
    "duration": -195,
    "start_time": "2021-06-20T13:00:34.711Z"
   },
   {
    "duration": -215,
    "start_time": "2021-06-20T13:00:34.732Z"
   },
   {
    "duration": -225,
    "start_time": "2021-06-20T13:00:34.744Z"
   },
   {
    "duration": -234,
    "start_time": "2021-06-20T13:00:34.754Z"
   },
   {
    "duration": -283,
    "start_time": "2021-06-20T13:00:34.804Z"
   },
   {
    "duration": -308,
    "start_time": "2021-06-20T13:00:34.830Z"
   },
   {
    "duration": -332,
    "start_time": "2021-06-20T13:00:34.856Z"
   },
   {
    "duration": -342,
    "start_time": "2021-06-20T13:00:34.867Z"
   },
   {
    "duration": -371,
    "start_time": "2021-06-20T13:00:34.897Z"
   },
   {
    "duration": -392,
    "start_time": "2021-06-20T13:00:34.920Z"
   },
   {
    "duration": -416,
    "start_time": "2021-06-20T13:00:34.946Z"
   },
   {
    "duration": -436,
    "start_time": "2021-06-20T13:00:34.968Z"
   },
   {
    "duration": -457,
    "start_time": "2021-06-20T13:00:34.990Z"
   },
   {
    "duration": -466,
    "start_time": "2021-06-20T13:00:35.000Z"
   },
   {
    "duration": -481,
    "start_time": "2021-06-20T13:00:35.017Z"
   },
   {
    "duration": -496,
    "start_time": "2021-06-20T13:00:35.033Z"
   },
   {
    "duration": -513,
    "start_time": "2021-06-20T13:00:35.051Z"
   },
   {
    "duration": -523,
    "start_time": "2021-06-20T13:00:35.062Z"
   },
   {
    "duration": 1918,
    "start_time": "2021-06-20T13:01:30.121Z"
   },
   {
    "duration": 29,
    "start_time": "2021-06-20T13:03:04.958Z"
   },
   {
    "duration": 1475,
    "start_time": "2021-06-20T13:03:26.535Z"
   },
   {
    "duration": 363,
    "start_time": "2021-06-20T13:03:50.642Z"
   },
   {
    "duration": 1037,
    "start_time": "2021-06-20T13:03:59.100Z"
   },
   {
    "duration": 794,
    "start_time": "2021-06-20T13:04:00.140Z"
   },
   {
    "duration": 9,
    "start_time": "2021-06-20T13:04:00.938Z"
   },
   {
    "duration": 66,
    "start_time": "2021-06-20T13:04:00.950Z"
   },
   {
    "duration": 58,
    "start_time": "2021-06-20T13:04:01.018Z"
   },
   {
    "duration": 7,
    "start_time": "2021-06-20T13:04:01.079Z"
   },
   {
    "duration": 47,
    "start_time": "2021-06-20T13:04:01.089Z"
   },
   {
    "duration": 8,
    "start_time": "2021-06-20T13:04:01.140Z"
   },
   {
    "duration": 44,
    "start_time": "2021-06-20T13:04:01.153Z"
   },
   {
    "duration": 39,
    "start_time": "2021-06-20T13:04:01.200Z"
   },
   {
    "duration": 16,
    "start_time": "2021-06-20T13:04:01.242Z"
   },
   {
    "duration": 31,
    "start_time": "2021-06-20T13:04:01.261Z"
   },
   {
    "duration": 2039,
    "start_time": "2021-06-20T13:04:01.295Z"
   },
   {
    "duration": -1396,
    "start_time": "2021-06-20T13:04:04.733Z"
   },
   {
    "duration": -1403,
    "start_time": "2021-06-20T13:04:04.742Z"
   },
   {
    "duration": -1411,
    "start_time": "2021-06-20T13:04:04.751Z"
   },
   {
    "duration": -1417,
    "start_time": "2021-06-20T13:04:04.759Z"
   },
   {
    "duration": -1425,
    "start_time": "2021-06-20T13:04:04.768Z"
   },
   {
    "duration": -1432,
    "start_time": "2021-06-20T13:04:04.777Z"
   },
   {
    "duration": -1440,
    "start_time": "2021-06-20T13:04:04.786Z"
   },
   {
    "duration": -1447,
    "start_time": "2021-06-20T13:04:04.795Z"
   },
   {
    "duration": -1455,
    "start_time": "2021-06-20T13:04:04.804Z"
   },
   {
    "duration": -1462,
    "start_time": "2021-06-20T13:04:04.812Z"
   },
   {
    "duration": -1480,
    "start_time": "2021-06-20T13:04:04.831Z"
   },
   {
    "duration": -1486,
    "start_time": "2021-06-20T13:04:04.838Z"
   },
   {
    "duration": -1493,
    "start_time": "2021-06-20T13:04:04.847Z"
   },
   {
    "duration": -1501,
    "start_time": "2021-06-20T13:04:04.856Z"
   },
   {
    "duration": -1508,
    "start_time": "2021-06-20T13:04:04.864Z"
   },
   {
    "duration": -1514,
    "start_time": "2021-06-20T13:04:04.871Z"
   },
   {
    "duration": -1522,
    "start_time": "2021-06-20T13:04:04.880Z"
   },
   {
    "duration": -1527,
    "start_time": "2021-06-20T13:04:04.887Z"
   },
   {
    "duration": -1533,
    "start_time": "2021-06-20T13:04:04.895Z"
   },
   {
    "duration": -1539,
    "start_time": "2021-06-20T13:04:04.902Z"
   },
   {
    "duration": 1209,
    "start_time": "2021-06-20T13:06:00.683Z"
   },
   {
    "duration": 1441,
    "start_time": "2021-06-20T13:06:01.895Z"
   },
   {
    "duration": 9,
    "start_time": "2021-06-20T13:06:03.339Z"
   },
   {
    "duration": 39,
    "start_time": "2021-06-20T13:06:03.351Z"
   },
   {
    "duration": 70,
    "start_time": "2021-06-20T13:06:03.393Z"
   },
   {
    "duration": 7,
    "start_time": "2021-06-20T13:06:03.465Z"
   },
   {
    "duration": 30,
    "start_time": "2021-06-20T13:06:03.474Z"
   },
   {
    "duration": 8,
    "start_time": "2021-06-20T13:06:03.524Z"
   },
   {
    "duration": 27,
    "start_time": "2021-06-20T13:06:03.534Z"
   },
   {
    "duration": 27,
    "start_time": "2021-06-20T13:06:03.563Z"
   },
   {
    "duration": 6,
    "start_time": "2021-06-20T13:06:03.592Z"
   },
   {
    "duration": 3347,
    "start_time": "2021-06-20T13:06:03.600Z"
   },
   {
    "duration": -123,
    "start_time": "2021-06-20T13:06:07.075Z"
   },
   {
    "duration": -146,
    "start_time": "2021-06-20T13:06:07.100Z"
   },
   {
    "duration": -167,
    "start_time": "2021-06-20T13:06:07.123Z"
   },
   {
    "duration": -191,
    "start_time": "2021-06-20T13:06:07.148Z"
   },
   {
    "duration": -198,
    "start_time": "2021-06-20T13:06:07.157Z"
   },
   {
    "duration": -219,
    "start_time": "2021-06-20T13:06:07.179Z"
   },
   {
    "duration": -226,
    "start_time": "2021-06-20T13:06:07.187Z"
   },
   {
    "duration": -232,
    "start_time": "2021-06-20T13:06:07.195Z"
   },
   {
    "duration": -239,
    "start_time": "2021-06-20T13:06:07.203Z"
   },
   {
    "duration": -245,
    "start_time": "2021-06-20T13:06:07.211Z"
   },
   {
    "duration": -252,
    "start_time": "2021-06-20T13:06:07.219Z"
   },
   {
    "duration": -258,
    "start_time": "2021-06-20T13:06:07.227Z"
   },
   {
    "duration": -265,
    "start_time": "2021-06-20T13:06:07.235Z"
   },
   {
    "duration": -271,
    "start_time": "2021-06-20T13:06:07.243Z"
   },
   {
    "duration": -294,
    "start_time": "2021-06-20T13:06:07.267Z"
   },
   {
    "duration": -304,
    "start_time": "2021-06-20T13:06:07.279Z"
   },
   {
    "duration": -311,
    "start_time": "2021-06-20T13:06:07.287Z"
   },
   {
    "duration": -318,
    "start_time": "2021-06-20T13:06:07.296Z"
   },
   {
    "duration": -323,
    "start_time": "2021-06-20T13:06:07.303Z"
   },
   {
    "duration": -335,
    "start_time": "2021-06-20T13:06:07.316Z"
   },
   {
    "duration": 935,
    "start_time": "2021-06-20T13:08:27.782Z"
   },
   {
    "duration": 1187,
    "start_time": "2021-06-20T13:08:28.720Z"
   },
   {
    "duration": 14,
    "start_time": "2021-06-20T13:08:29.911Z"
   },
   {
    "duration": 41,
    "start_time": "2021-06-20T13:08:29.929Z"
   },
   {
    "duration": 85,
    "start_time": "2021-06-20T13:08:29.973Z"
   },
   {
    "duration": 63,
    "start_time": "2021-06-20T13:08:30.061Z"
   },
   {
    "duration": 20,
    "start_time": "2021-06-20T13:08:30.126Z"
   },
   {
    "duration": 12,
    "start_time": "2021-06-20T13:08:30.149Z"
   },
   {
    "duration": 75,
    "start_time": "2021-06-20T13:08:30.164Z"
   },
   {
    "duration": 22,
    "start_time": "2021-06-20T13:08:30.242Z"
   },
   {
    "duration": 24,
    "start_time": "2021-06-20T13:08:30.267Z"
   },
   {
    "duration": 30,
    "start_time": "2021-06-20T13:08:30.294Z"
   },
   {
    "duration": 2070,
    "start_time": "2021-06-20T13:08:30.326Z"
   },
   {
    "duration": -164,
    "start_time": "2021-06-20T13:08:32.562Z"
   },
   {
    "duration": -177,
    "start_time": "2021-06-20T13:08:32.577Z"
   },
   {
    "duration": -187,
    "start_time": "2021-06-20T13:08:32.588Z"
   },
   {
    "duration": -196,
    "start_time": "2021-06-20T13:08:32.599Z"
   },
   {
    "duration": -242,
    "start_time": "2021-06-20T13:08:32.646Z"
   },
   {
    "duration": -250,
    "start_time": "2021-06-20T13:08:32.656Z"
   },
   {
    "duration": -262,
    "start_time": "2021-06-20T13:08:32.669Z"
   },
   {
    "duration": -271,
    "start_time": "2021-06-20T13:08:32.680Z"
   },
   {
    "duration": -300,
    "start_time": "2021-06-20T13:08:32.710Z"
   },
   {
    "duration": -313,
    "start_time": "2021-06-20T13:08:32.725Z"
   },
   {
    "duration": -327,
    "start_time": "2021-06-20T13:08:32.740Z"
   },
   {
    "duration": -371,
    "start_time": "2021-06-20T13:08:32.786Z"
   },
   {
    "duration": -383,
    "start_time": "2021-06-20T13:08:32.799Z"
   },
   {
    "duration": -390,
    "start_time": "2021-06-20T13:08:32.808Z"
   },
   {
    "duration": -398,
    "start_time": "2021-06-20T13:08:32.817Z"
   },
   {
    "duration": -405,
    "start_time": "2021-06-20T13:08:32.826Z"
   },
   {
    "duration": -413,
    "start_time": "2021-06-20T13:08:32.835Z"
   },
   {
    "duration": -419,
    "start_time": "2021-06-20T13:08:32.843Z"
   },
   {
    "duration": -426,
    "start_time": "2021-06-20T13:08:32.852Z"
   },
   {
    "duration": -432,
    "start_time": "2021-06-20T13:08:32.860Z"
   },
   {
    "duration": 1735,
    "start_time": "2021-06-20T13:11:01.157Z"
   },
   {
    "duration": 991,
    "start_time": "2021-06-20T13:11:36.826Z"
   },
   {
    "duration": 790,
    "start_time": "2021-06-20T13:11:37.825Z"
   },
   {
    "duration": 9,
    "start_time": "2021-06-20T13:11:38.625Z"
   },
   {
    "duration": 45,
    "start_time": "2021-06-20T13:11:38.636Z"
   },
   {
    "duration": 62,
    "start_time": "2021-06-20T13:11:38.684Z"
   },
   {
    "duration": 7,
    "start_time": "2021-06-20T13:11:38.748Z"
   },
   {
    "duration": 38,
    "start_time": "2021-06-20T13:11:38.759Z"
   },
   {
    "duration": 6,
    "start_time": "2021-06-20T13:11:38.801Z"
   },
   {
    "duration": 16,
    "start_time": "2021-06-20T13:11:38.825Z"
   },
   {
    "duration": 22,
    "start_time": "2021-06-20T13:11:38.844Z"
   },
   {
    "duration": 101,
    "start_time": "2021-06-20T13:11:38.868Z"
   },
   {
    "duration": -204,
    "start_time": "2021-06-20T13:11:39.176Z"
   },
   {
    "duration": -212,
    "start_time": "2021-06-20T13:11:39.186Z"
   },
   {
    "duration": -221,
    "start_time": "2021-06-20T13:11:39.197Z"
   },
   {
    "duration": -234,
    "start_time": "2021-06-20T13:11:39.211Z"
   },
   {
    "duration": -242,
    "start_time": "2021-06-20T13:11:39.221Z"
   },
   {
    "duration": -251,
    "start_time": "2021-06-20T13:11:39.231Z"
   },
   {
    "duration": -259,
    "start_time": "2021-06-20T13:11:39.241Z"
   },
   {
    "duration": -324,
    "start_time": "2021-06-20T13:11:39.307Z"
   },
   {
    "duration": -332,
    "start_time": "2021-06-20T13:11:39.316Z"
   },
   {
    "duration": -341,
    "start_time": "2021-06-20T13:11:39.327Z"
   },
   {
    "duration": -350,
    "start_time": "2021-06-20T13:11:39.337Z"
   },
   {
    "duration": -361,
    "start_time": "2021-06-20T13:11:39.349Z"
   },
   {
    "duration": -369,
    "start_time": "2021-06-20T13:11:39.359Z"
   },
   {
    "duration": -379,
    "start_time": "2021-06-20T13:11:39.370Z"
   },
   {
    "duration": -393,
    "start_time": "2021-06-20T13:11:39.385Z"
   },
   {
    "duration": -402,
    "start_time": "2021-06-20T13:11:39.396Z"
   },
   {
    "duration": -424,
    "start_time": "2021-06-20T13:11:39.419Z"
   },
   {
    "duration": -436,
    "start_time": "2021-06-20T13:11:39.433Z"
   },
   {
    "duration": -444,
    "start_time": "2021-06-20T13:11:39.442Z"
   },
   {
    "duration": -455,
    "start_time": "2021-06-20T13:11:39.455Z"
   },
   {
    "duration": -463,
    "start_time": "2021-06-20T13:11:39.464Z"
   },
   {
    "duration": -472,
    "start_time": "2021-06-20T13:11:39.475Z"
   },
   {
    "duration": 33,
    "start_time": "2021-06-20T13:12:04.484Z"
   },
   {
    "duration": 6,
    "start_time": "2021-06-20T13:12:13.644Z"
   },
   {
    "duration": 1406,
    "start_time": "2021-06-20T13:12:15.515Z"
   },
   {
    "duration": 1922,
    "start_time": "2021-06-20T13:12:47.711Z"
   },
   {
    "duration": 1016,
    "start_time": "2021-06-20T13:35:24.188Z"
   },
   {
    "duration": 737,
    "start_time": "2021-06-20T13:35:25.207Z"
   },
   {
    "duration": 9,
    "start_time": "2021-06-20T13:35:25.947Z"
   },
   {
    "duration": 36,
    "start_time": "2021-06-20T13:35:25.959Z"
   },
   {
    "duration": 67,
    "start_time": "2021-06-20T13:35:25.998Z"
   },
   {
    "duration": 6,
    "start_time": "2021-06-20T13:35:26.067Z"
   },
   {
    "duration": 21,
    "start_time": "2021-06-20T13:35:26.075Z"
   },
   {
    "duration": 9,
    "start_time": "2021-06-20T13:35:26.125Z"
   },
   {
    "duration": 17,
    "start_time": "2021-06-20T13:35:26.137Z"
   },
   {
    "duration": 17,
    "start_time": "2021-06-20T13:35:26.156Z"
   },
   {
    "duration": 7,
    "start_time": "2021-06-20T13:35:26.176Z"
   },
   {
    "duration": 5,
    "start_time": "2021-06-20T13:35:26.224Z"
   },
   {
    "duration": 92,
    "start_time": "2021-06-20T13:35:26.232Z"
   },
   {
    "duration": 4,
    "start_time": "2021-06-20T13:35:26.326Z"
   },
   {
    "duration": 9,
    "start_time": "2021-06-20T13:35:26.332Z"
   },
   {
    "duration": 684,
    "start_time": "2021-06-20T13:35:26.343Z"
   },
   {
    "duration": -150,
    "start_time": "2021-06-20T13:35:27.182Z"
   },
   {
    "duration": -164,
    "start_time": "2021-06-20T13:35:27.198Z"
   },
   {
    "duration": -174,
    "start_time": "2021-06-20T13:35:27.211Z"
   },
   {
    "duration": -238,
    "start_time": "2021-06-20T13:35:27.276Z"
   },
   {
    "duration": -251,
    "start_time": "2021-06-20T13:35:27.292Z"
   },
   {
    "duration": -262,
    "start_time": "2021-06-20T13:35:27.305Z"
   },
   {
    "duration": -271,
    "start_time": "2021-06-20T13:35:27.316Z"
   },
   {
    "duration": -282,
    "start_time": "2021-06-20T13:35:27.328Z"
   },
   {
    "duration": -290,
    "start_time": "2021-06-20T13:35:27.339Z"
   },
   {
    "duration": -301,
    "start_time": "2021-06-20T13:35:27.352Z"
   },
   {
    "duration": -310,
    "start_time": "2021-06-20T13:35:27.363Z"
   },
   {
    "duration": -344,
    "start_time": "2021-06-20T13:35:27.399Z"
   },
   {
    "duration": -398,
    "start_time": "2021-06-20T13:35:27.455Z"
   },
   {
    "duration": -413,
    "start_time": "2021-06-20T13:35:27.472Z"
   },
   {
    "duration": -426,
    "start_time": "2021-06-20T13:35:27.487Z"
   },
   {
    "duration": -453,
    "start_time": "2021-06-20T13:35:27.516Z"
   },
   {
    "duration": -467,
    "start_time": "2021-06-20T13:35:27.532Z"
   },
   {
    "duration": 1335,
    "start_time": "2021-06-20T15:59:23.748Z"
   },
   {
    "duration": 829,
    "start_time": "2021-06-20T15:59:25.087Z"
   },
   {
    "duration": 10,
    "start_time": "2021-06-20T15:59:25.925Z"
   },
   {
    "duration": 32,
    "start_time": "2021-06-20T15:59:25.939Z"
   },
   {
    "duration": 52,
    "start_time": "2021-06-20T15:59:25.973Z"
   },
   {
    "duration": 49,
    "start_time": "2021-06-20T15:59:26.028Z"
   },
   {
    "duration": 5,
    "start_time": "2021-06-20T15:59:26.080Z"
   },
   {
    "duration": 44,
    "start_time": "2021-06-20T15:59:26.089Z"
   },
   {
    "duration": 7,
    "start_time": "2021-06-20T15:59:26.136Z"
   },
   {
    "duration": 20,
    "start_time": "2021-06-20T15:59:26.145Z"
   },
   {
    "duration": 16,
    "start_time": "2021-06-20T15:59:26.167Z"
   },
   {
    "duration": 40,
    "start_time": "2021-06-20T15:59:26.185Z"
   },
   {
    "duration": 5,
    "start_time": "2021-06-20T15:59:26.228Z"
   },
   {
    "duration": 90,
    "start_time": "2021-06-20T15:59:26.235Z"
   },
   {
    "duration": 5,
    "start_time": "2021-06-20T15:59:26.327Z"
   },
   {
    "duration": 8,
    "start_time": "2021-06-20T15:59:26.334Z"
   },
   {
    "duration": 674,
    "start_time": "2021-06-20T15:59:26.344Z"
   },
   {
    "duration": -633,
    "start_time": "2021-06-20T15:59:27.655Z"
   },
   {
    "duration": -753,
    "start_time": "2021-06-20T15:59:27.776Z"
   },
   {
    "duration": -770,
    "start_time": "2021-06-20T15:59:27.794Z"
   },
   {
    "duration": -788,
    "start_time": "2021-06-20T15:59:27.814Z"
   },
   {
    "duration": -804,
    "start_time": "2021-06-20T15:59:27.831Z"
   },
   {
    "duration": -830,
    "start_time": "2021-06-20T15:59:27.858Z"
   },
   {
    "duration": -872,
    "start_time": "2021-06-20T15:59:27.902Z"
   },
   {
    "duration": -901,
    "start_time": "2021-06-20T15:59:27.932Z"
   },
   {
    "duration": -917,
    "start_time": "2021-06-20T15:59:27.949Z"
   },
   {
    "duration": -934,
    "start_time": "2021-06-20T15:59:27.968Z"
   },
   {
    "duration": -967,
    "start_time": "2021-06-20T15:59:28.002Z"
   },
   {
    "duration": -997,
    "start_time": "2021-06-20T15:59:28.034Z"
   },
   {
    "duration": -1009,
    "start_time": "2021-06-20T15:59:28.047Z"
   },
   {
    "duration": -1025,
    "start_time": "2021-06-20T15:59:28.064Z"
   },
   {
    "duration": -1036,
    "start_time": "2021-06-20T15:59:28.077Z"
   },
   {
    "duration": -1050,
    "start_time": "2021-06-20T15:59:28.092Z"
   },
   {
    "duration": -1074,
    "start_time": "2021-06-20T15:59:28.117Z"
   },
   {
    "duration": 974,
    "start_time": "2021-06-20T17:23:46.708Z"
   },
   {
    "duration": 786,
    "start_time": "2021-06-20T17:23:47.684Z"
   },
   {
    "duration": 14,
    "start_time": "2021-06-20T17:23:48.474Z"
   },
   {
    "duration": 52,
    "start_time": "2021-06-20T17:23:48.491Z"
   },
   {
    "duration": 24,
    "start_time": "2021-06-20T17:23:48.546Z"
   },
   {
    "duration": 83,
    "start_time": "2021-06-20T17:23:48.573Z"
   },
   {
    "duration": 7,
    "start_time": "2021-06-20T17:23:48.659Z"
   },
   {
    "duration": 21,
    "start_time": "2021-06-20T17:23:48.669Z"
   },
   {
    "duration": 35,
    "start_time": "2021-06-20T17:23:48.693Z"
   },
   {
    "duration": 16,
    "start_time": "2021-06-20T17:23:48.730Z"
   },
   {
    "duration": 12,
    "start_time": "2021-06-20T17:23:48.748Z"
   },
   {
    "duration": 15,
    "start_time": "2021-06-20T17:23:48.762Z"
   },
   {
    "duration": 11,
    "start_time": "2021-06-20T17:23:48.779Z"
   },
   {
    "duration": 4,
    "start_time": "2021-06-20T17:23:48.825Z"
   },
   {
    "duration": 9,
    "start_time": "2021-06-20T17:23:48.831Z"
   },
   {
    "duration": 6,
    "start_time": "2021-06-20T17:23:48.842Z"
   },
   {
    "duration": 4,
    "start_time": "2021-06-20T17:23:48.852Z"
   },
   {
    "duration": 6,
    "start_time": "2021-06-20T17:23:48.858Z"
   },
   {
    "duration": 87,
    "start_time": "2021-06-20T17:23:48.866Z"
   },
   {
    "duration": 6,
    "start_time": "2021-06-20T17:23:48.955Z"
   },
   {
    "duration": 10,
    "start_time": "2021-06-20T17:23:48.964Z"
   },
   {
    "duration": 7,
    "start_time": "2021-06-20T17:23:48.977Z"
   },
   {
    "duration": 66,
    "start_time": "2021-06-20T17:23:49.027Z"
   },
   {
    "duration": 1181,
    "start_time": "2021-06-20T17:23:49.096Z"
   },
   {
    "duration": -307,
    "start_time": "2021-06-20T17:23:50.587Z"
   },
   {
    "duration": -319,
    "start_time": "2021-06-20T17:23:50.601Z"
   },
   {
    "duration": -330,
    "start_time": "2021-06-20T17:23:50.614Z"
   },
   {
    "duration": -341,
    "start_time": "2021-06-20T17:23:50.626Z"
   },
   {
    "duration": -352,
    "start_time": "2021-06-20T17:23:50.639Z"
   },
   {
    "duration": -362,
    "start_time": "2021-06-20T17:23:50.650Z"
   },
   {
    "duration": -388,
    "start_time": "2021-06-20T17:23:50.677Z"
   },
   {
    "duration": -397,
    "start_time": "2021-06-20T17:23:50.688Z"
   },
   {
    "duration": -410,
    "start_time": "2021-06-20T17:23:50.702Z"
   },
   {
    "duration": -420,
    "start_time": "2021-06-20T17:23:50.713Z"
   },
   {
    "duration": -436,
    "start_time": "2021-06-20T17:23:50.731Z"
   },
   {
    "duration": -448,
    "start_time": "2021-06-20T17:23:50.744Z"
   },
   {
    "duration": -461,
    "start_time": "2021-06-20T17:23:50.758Z"
   },
   {
    "duration": -470,
    "start_time": "2021-06-20T17:23:50.769Z"
   },
   {
    "duration": -497,
    "start_time": "2021-06-20T17:23:50.797Z"
   },
   {
    "duration": 305,
    "start_time": "2021-06-20T17:36:29.339Z"
   },
   {
    "duration": 30,
    "start_time": "2021-06-20T17:36:36.881Z"
   },
   {
    "duration": 24,
    "start_time": "2021-06-20T17:37:04.442Z"
   },
   {
    "duration": 24,
    "start_time": "2021-06-20T17:37:22.581Z"
   },
   {
    "duration": 24,
    "start_time": "2021-06-20T17:37:28.837Z"
   },
   {
    "duration": 25,
    "start_time": "2021-06-20T17:37:34.900Z"
   },
   {
    "duration": 25,
    "start_time": "2021-06-20T17:37:43.715Z"
   },
   {
    "duration": 17,
    "start_time": "2021-06-20T17:42:22.244Z"
   },
   {
    "duration": 19,
    "start_time": "2021-06-20T17:42:47.253Z"
   },
   {
    "duration": 1406,
    "start_time": "2021-06-20T17:47:29.511Z"
   },
   {
    "duration": 860,
    "start_time": "2021-06-20T17:47:30.919Z"
   },
   {
    "duration": 9,
    "start_time": "2021-06-20T17:47:31.783Z"
   },
   {
    "duration": 51,
    "start_time": "2021-06-20T17:47:31.796Z"
   },
   {
    "duration": 21,
    "start_time": "2021-06-20T17:47:31.849Z"
   },
   {
    "duration": 74,
    "start_time": "2021-06-20T17:47:31.873Z"
   },
   {
    "duration": 7,
    "start_time": "2021-06-20T17:47:31.949Z"
   },
   {
    "duration": 21,
    "start_time": "2021-06-20T17:47:31.960Z"
   },
   {
    "duration": 40,
    "start_time": "2021-06-20T17:47:31.984Z"
   },
   {
    "duration": 16,
    "start_time": "2021-06-20T17:47:32.027Z"
   },
   {
    "duration": 11,
    "start_time": "2021-06-20T17:47:32.046Z"
   },
   {
    "duration": 15,
    "start_time": "2021-06-20T17:47:32.060Z"
   },
   {
    "duration": 53,
    "start_time": "2021-06-20T17:47:32.077Z"
   },
   {
    "duration": 7,
    "start_time": "2021-06-20T17:47:32.133Z"
   },
   {
    "duration": 10,
    "start_time": "2021-06-20T17:47:32.142Z"
   },
   {
    "duration": 15,
    "start_time": "2021-06-20T17:47:32.154Z"
   },
   {
    "duration": 7,
    "start_time": "2021-06-20T17:47:32.171Z"
   },
   {
    "duration": 43,
    "start_time": "2021-06-20T17:47:32.180Z"
   },
   {
    "duration": 43,
    "start_time": "2021-06-20T17:47:32.226Z"
   },
   {
    "duration": 6,
    "start_time": "2021-06-20T17:47:32.271Z"
   },
   {
    "duration": 19,
    "start_time": "2021-06-20T17:47:32.279Z"
   },
   {
    "duration": 7,
    "start_time": "2021-06-20T17:47:32.325Z"
   },
   {
    "duration": 72,
    "start_time": "2021-06-20T17:47:32.337Z"
   },
   {
    "duration": 27,
    "start_time": "2021-06-20T17:47:32.424Z"
   },
   {
    "duration": 19,
    "start_time": "2021-06-20T17:47:32.454Z"
   },
   {
    "duration": 54,
    "start_time": "2021-06-20T17:47:32.476Z"
   },
   {
    "duration": 66,
    "start_time": "2021-06-20T17:47:32.532Z"
   },
   {
    "duration": 54,
    "start_time": "2021-06-20T17:47:32.601Z"
   },
   {
    "duration": 33,
    "start_time": "2021-06-20T17:47:32.657Z"
   },
   {
    "duration": 5175,
    "start_time": "2021-06-20T17:47:32.692Z"
   },
   {
    "duration": 21,
    "start_time": "2021-06-20T17:47:37.870Z"
   },
   {
    "duration": 38,
    "start_time": "2021-06-20T17:47:37.893Z"
   },
   {
    "duration": 18,
    "start_time": "2021-06-20T17:47:37.933Z"
   },
   {
    "duration": 25,
    "start_time": "2021-06-20T17:47:37.953Z"
   },
   {
    "duration": 71,
    "start_time": "2021-06-20T17:47:37.980Z"
   },
   {
    "duration": 28,
    "start_time": "2021-06-20T17:47:38.053Z"
   },
   {
    "duration": 52,
    "start_time": "2021-06-20T17:47:38.083Z"
   },
   {
    "duration": 27,
    "start_time": "2021-06-20T17:47:38.138Z"
   },
   {
    "duration": 86,
    "start_time": "2021-06-20T17:47:38.168Z"
   },
   {
    "duration": 32,
    "start_time": "2021-06-20T17:47:38.257Z"
   },
   {
    "duration": 12,
    "start_time": "2021-06-20T17:59:21.227Z"
   },
   {
    "duration": 996,
    "start_time": "2021-06-20T17:59:28.054Z"
   },
   {
    "duration": 857,
    "start_time": "2021-06-20T17:59:29.053Z"
   },
   {
    "duration": 17,
    "start_time": "2021-06-20T17:59:29.914Z"
   },
   {
    "duration": 33,
    "start_time": "2021-06-20T17:59:29.934Z"
   },
   {
    "duration": 54,
    "start_time": "2021-06-20T17:59:29.970Z"
   },
   {
    "duration": 51,
    "start_time": "2021-06-20T17:59:30.027Z"
   },
   {
    "duration": 6,
    "start_time": "2021-06-20T17:59:30.080Z"
   },
   {
    "duration": 50,
    "start_time": "2021-06-20T17:59:30.089Z"
   },
   {
    "duration": 27,
    "start_time": "2021-06-20T17:59:30.142Z"
   },
   {
    "duration": 28,
    "start_time": "2021-06-20T17:59:30.172Z"
   },
   {
    "duration": 27,
    "start_time": "2021-06-20T17:59:30.202Z"
   },
   {
    "duration": 24,
    "start_time": "2021-06-20T17:59:30.232Z"
   },
   {
    "duration": 18,
    "start_time": "2021-06-20T17:59:30.258Z"
   },
   {
    "duration": 18,
    "start_time": "2021-06-20T17:59:30.279Z"
   },
   {
    "duration": 21,
    "start_time": "2021-06-20T17:59:30.300Z"
   },
   {
    "duration": 20,
    "start_time": "2021-06-20T17:59:30.323Z"
   },
   {
    "duration": 17,
    "start_time": "2021-06-20T17:59:30.345Z"
   },
   {
    "duration": 16,
    "start_time": "2021-06-20T17:59:30.365Z"
   },
   {
    "duration": 61,
    "start_time": "2021-06-20T17:59:30.383Z"
   },
   {
    "duration": 6,
    "start_time": "2021-06-20T17:59:30.447Z"
   },
   {
    "duration": 37,
    "start_time": "2021-06-20T17:59:30.456Z"
   },
   {
    "duration": 13,
    "start_time": "2021-06-20T17:59:30.495Z"
   },
   {
    "duration": 76,
    "start_time": "2021-06-20T17:59:30.513Z"
   },
   {
    "duration": 36,
    "start_time": "2021-06-20T17:59:30.591Z"
   },
   {
    "duration": 11,
    "start_time": "2021-06-20T17:59:30.629Z"
   },
   {
    "duration": 33,
    "start_time": "2021-06-20T17:59:30.642Z"
   },
   {
    "duration": 47,
    "start_time": "2021-06-20T17:59:30.677Z"
   },
   {
    "duration": 67,
    "start_time": "2021-06-20T17:59:30.726Z"
   },
   {
    "duration": 57,
    "start_time": "2021-06-20T17:59:30.795Z"
   },
   {
    "duration": 34,
    "start_time": "2021-06-20T17:59:30.855Z"
   },
   {
    "duration": 5075,
    "start_time": "2021-06-20T17:59:30.892Z"
   },
   {
    "duration": 22,
    "start_time": "2021-06-20T17:59:35.969Z"
   },
   {
    "duration": 36,
    "start_time": "2021-06-20T17:59:35.993Z"
   },
   {
    "duration": 15,
    "start_time": "2021-06-20T17:59:36.031Z"
   },
   {
    "duration": 37,
    "start_time": "2021-06-20T17:59:36.050Z"
   },
   {
    "duration": 76,
    "start_time": "2021-06-20T17:59:36.090Z"
   },
   {
    "duration": 62,
    "start_time": "2021-06-20T17:59:36.170Z"
   },
   {
    "duration": 35,
    "start_time": "2021-06-20T17:59:36.235Z"
   },
   {
    "duration": 64,
    "start_time": "2021-06-20T17:59:36.274Z"
   },
   {
    "duration": 100,
    "start_time": "2021-06-20T17:59:36.341Z"
   },
   {
    "duration": 35,
    "start_time": "2021-06-20T17:59:36.444Z"
   },
   {
    "duration": 95,
    "start_time": "2021-06-20T18:08:39.289Z"
   },
   {
    "duration": 31,
    "start_time": "2021-06-20T18:08:54.021Z"
   },
   {
    "duration": 91,
    "start_time": "2021-06-20T18:21:25.131Z"
   },
   {
    "duration": 29,
    "start_time": "2021-06-20T18:21:50.199Z"
   },
   {
    "duration": 5234,
    "start_time": "2021-06-20T18:39:16.775Z"
   },
   {
    "duration": 5579,
    "start_time": "2021-06-20T18:40:07.122Z"
   },
   {
    "duration": 35,
    "start_time": "2021-06-20T18:41:18.854Z"
   },
   {
    "duration": 985,
    "start_time": "2021-06-20T18:46:59.455Z"
   },
   {
    "duration": 764,
    "start_time": "2021-06-20T18:47:00.443Z"
   },
   {
    "duration": 17,
    "start_time": "2021-06-20T18:47:01.211Z"
   },
   {
    "duration": 45,
    "start_time": "2021-06-20T18:47:01.231Z"
   },
   {
    "duration": 23,
    "start_time": "2021-06-20T18:47:01.280Z"
   },
   {
    "duration": 54,
    "start_time": "2021-06-20T18:47:01.324Z"
   },
   {
    "duration": 8,
    "start_time": "2021-06-20T18:47:01.381Z"
   },
   {
    "duration": 49,
    "start_time": "2021-06-20T18:47:01.393Z"
   },
   {
    "duration": 36,
    "start_time": "2021-06-20T18:47:01.445Z"
   },
   {
    "duration": 77,
    "start_time": "2021-06-20T18:47:01.484Z"
   },
   {
    "duration": 19,
    "start_time": "2021-06-20T18:47:01.564Z"
   },
   {
    "duration": 37,
    "start_time": "2021-06-20T18:47:01.586Z"
   },
   {
    "duration": 29,
    "start_time": "2021-06-20T18:47:01.625Z"
   },
   {
    "duration": 14,
    "start_time": "2021-06-20T18:47:01.657Z"
   },
   {
    "duration": 25,
    "start_time": "2021-06-20T18:47:01.673Z"
   },
   {
    "duration": 15,
    "start_time": "2021-06-20T18:47:01.701Z"
   },
   {
    "duration": 20,
    "start_time": "2021-06-20T18:47:01.718Z"
   },
   {
    "duration": 11,
    "start_time": "2021-06-20T18:47:01.740Z"
   },
   {
    "duration": 53,
    "start_time": "2021-06-20T18:47:01.754Z"
   },
   {
    "duration": 6,
    "start_time": "2021-06-20T18:47:01.809Z"
   },
   {
    "duration": 16,
    "start_time": "2021-06-20T18:47:01.817Z"
   },
   {
    "duration": 21,
    "start_time": "2021-06-20T18:47:01.836Z"
   },
   {
    "duration": 86,
    "start_time": "2021-06-20T18:47:01.862Z"
   },
   {
    "duration": 29,
    "start_time": "2021-06-20T18:47:01.952Z"
   },
   {
    "duration": 41,
    "start_time": "2021-06-20T18:47:01.983Z"
   },
   {
    "duration": 19,
    "start_time": "2021-06-20T18:47:02.027Z"
   },
   {
    "duration": 33,
    "start_time": "2021-06-20T18:47:02.049Z"
   },
   {
    "duration": 123,
    "start_time": "2021-06-20T18:47:02.085Z"
   },
   {
    "duration": 61,
    "start_time": "2021-06-20T18:47:02.211Z"
   },
   {
    "duration": 61,
    "start_time": "2021-06-20T18:47:02.275Z"
   },
   {
    "duration": 4785,
    "start_time": "2021-06-20T18:47:02.339Z"
   },
   {
    "duration": 22,
    "start_time": "2021-06-20T18:47:07.126Z"
   },
   {
    "duration": 19,
    "start_time": "2021-06-20T18:47:07.151Z"
   },
   {
    "duration": 16,
    "start_time": "2021-06-20T18:47:07.172Z"
   },
   {
    "duration": 52,
    "start_time": "2021-06-20T18:47:07.190Z"
   },
   {
    "duration": 33,
    "start_time": "2021-06-20T18:47:07.245Z"
   },
   {
    "duration": 59,
    "start_time": "2021-06-20T18:47:07.281Z"
   },
   {
    "duration": 20,
    "start_time": "2021-06-20T18:47:07.342Z"
   },
   {
    "duration": 61,
    "start_time": "2021-06-20T18:47:07.364Z"
   },
   {
    "duration": 24,
    "start_time": "2021-06-20T18:47:07.428Z"
   },
   {
    "duration": 77,
    "start_time": "2021-06-20T18:47:07.454Z"
   },
   {
    "duration": 32,
    "start_time": "2021-06-20T18:47:07.533Z"
   },
   {
    "duration": 1015,
    "start_time": "2021-06-20T19:00:34.876Z"
   },
   {
    "duration": 817,
    "start_time": "2021-06-20T19:00:35.895Z"
   },
   {
    "duration": 10,
    "start_time": "2021-06-20T19:00:36.725Z"
   },
   {
    "duration": 30,
    "start_time": "2021-06-20T19:00:36.739Z"
   },
   {
    "duration": 53,
    "start_time": "2021-06-20T19:00:36.772Z"
   },
   {
    "duration": 52,
    "start_time": "2021-06-20T19:00:36.828Z"
   },
   {
    "duration": 6,
    "start_time": "2021-06-20T19:00:36.883Z"
   },
   {
    "duration": 47,
    "start_time": "2021-06-20T19:00:36.893Z"
   },
   {
    "duration": 8,
    "start_time": "2021-06-20T19:00:36.943Z"
   },
   {
    "duration": 28,
    "start_time": "2021-06-20T19:00:36.953Z"
   },
   {
    "duration": 18,
    "start_time": "2021-06-20T19:00:36.983Z"
   },
   {
    "duration": 14,
    "start_time": "2021-06-20T19:00:37.023Z"
   },
   {
    "duration": 15,
    "start_time": "2021-06-20T19:00:37.039Z"
   },
   {
    "duration": 18,
    "start_time": "2021-06-20T19:00:37.056Z"
   },
   {
    "duration": 24,
    "start_time": "2021-06-20T19:00:37.077Z"
   },
   {
    "duration": 7,
    "start_time": "2021-06-20T19:00:37.104Z"
   },
   {
    "duration": 16,
    "start_time": "2021-06-20T19:00:37.114Z"
   },
   {
    "duration": 17,
    "start_time": "2021-06-20T19:00:37.132Z"
   },
   {
    "duration": 48,
    "start_time": "2021-06-20T19:00:37.152Z"
   },
   {
    "duration": 6,
    "start_time": "2021-06-20T19:00:37.203Z"
   },
   {
    "duration": 9,
    "start_time": "2021-06-20T19:00:37.223Z"
   },
   {
    "duration": 17,
    "start_time": "2021-06-20T19:00:37.234Z"
   },
   {
    "duration": 80,
    "start_time": "2021-06-20T19:00:37.255Z"
   },
   {
    "duration": 29,
    "start_time": "2021-06-20T19:00:37.338Z"
   },
   {
    "duration": 11,
    "start_time": "2021-06-20T19:00:37.369Z"
   },
   {
    "duration": 49,
    "start_time": "2021-06-20T19:00:37.383Z"
   },
   {
    "duration": 23,
    "start_time": "2021-06-20T19:00:37.435Z"
   },
   {
    "duration": 94,
    "start_time": "2021-06-20T19:00:37.461Z"
   },
   {
    "duration": 37,
    "start_time": "2021-06-20T19:00:37.558Z"
   },
   {
    "duration": 49,
    "start_time": "2021-06-20T19:00:37.597Z"
   },
   {
    "duration": 5064,
    "start_time": "2021-06-20T19:00:37.649Z"
   },
   {
    "duration": 28,
    "start_time": "2021-06-20T19:00:42.716Z"
   },
   {
    "duration": 23,
    "start_time": "2021-06-20T19:00:42.746Z"
   },
   {
    "duration": 16,
    "start_time": "2021-06-20T19:00:42.772Z"
   },
   {
    "duration": 48,
    "start_time": "2021-06-20T19:00:42.791Z"
   },
   {
    "duration": 34,
    "start_time": "2021-06-20T19:00:42.841Z"
   },
   {
    "duration": 55,
    "start_time": "2021-06-20T19:00:42.878Z"
   },
   {
    "duration": 21,
    "start_time": "2021-06-20T19:00:42.935Z"
   },
   {
    "duration": 69,
    "start_time": "2021-06-20T19:00:42.958Z"
   },
   {
    "duration": 27,
    "start_time": "2021-06-20T19:00:43.030Z"
   },
   {
    "duration": 84,
    "start_time": "2021-06-20T19:00:43.059Z"
   },
   {
    "duration": 29,
    "start_time": "2021-06-20T19:00:43.145Z"
   },
   {
    "duration": 46,
    "start_time": "2021-06-20T19:08:33.761Z"
   },
   {
    "duration": 93,
    "start_time": "2021-06-20T19:10:33.794Z"
   },
   {
    "duration": 33,
    "start_time": "2021-06-20T19:10:42.645Z"
   },
   {
    "duration": 39,
    "start_time": "2021-06-20T19:11:35.508Z"
   },
   {
    "duration": 1105,
    "start_time": "2021-06-20T19:14:19.726Z"
   },
   {
    "duration": 754,
    "start_time": "2021-06-20T19:14:20.834Z"
   },
   {
    "duration": 9,
    "start_time": "2021-06-20T19:14:21.591Z"
   },
   {
    "duration": 45,
    "start_time": "2021-06-20T19:14:21.602Z"
   },
   {
    "duration": 21,
    "start_time": "2021-06-20T19:14:21.649Z"
   },
   {
    "duration": 75,
    "start_time": "2021-06-20T19:14:21.673Z"
   },
   {
    "duration": 7,
    "start_time": "2021-06-20T19:14:21.752Z"
   },
   {
    "duration": 30,
    "start_time": "2021-06-20T19:14:21.764Z"
   },
   {
    "duration": 31,
    "start_time": "2021-06-20T19:14:21.798Z"
   },
   {
    "duration": 31,
    "start_time": "2021-06-20T19:14:21.832Z"
   },
   {
    "duration": 25,
    "start_time": "2021-06-20T19:14:21.866Z"
   },
   {
    "duration": 30,
    "start_time": "2021-06-20T19:14:21.894Z"
   },
   {
    "duration": 13,
    "start_time": "2021-06-20T19:14:21.927Z"
   },
   {
    "duration": 13,
    "start_time": "2021-06-20T19:14:21.943Z"
   },
   {
    "duration": 22,
    "start_time": "2021-06-20T19:14:21.959Z"
   },
   {
    "duration": 16,
    "start_time": "2021-06-20T19:14:21.983Z"
   },
   {
    "duration": 16,
    "start_time": "2021-06-20T19:14:22.001Z"
   },
   {
    "duration": 16,
    "start_time": "2021-06-20T19:14:22.020Z"
   },
   {
    "duration": 58,
    "start_time": "2021-06-20T19:14:22.038Z"
   },
   {
    "duration": 6,
    "start_time": "2021-06-20T19:14:22.099Z"
   },
   {
    "duration": 34,
    "start_time": "2021-06-20T19:14:22.108Z"
   },
   {
    "duration": 17,
    "start_time": "2021-06-20T19:14:22.145Z"
   },
   {
    "duration": 95,
    "start_time": "2021-06-20T19:14:22.167Z"
   },
   {
    "duration": 30,
    "start_time": "2021-06-20T19:14:22.265Z"
   },
   {
    "duration": 33,
    "start_time": "2021-06-20T19:14:22.298Z"
   },
   {
    "duration": 23,
    "start_time": "2021-06-20T19:14:22.334Z"
   },
   {
    "duration": 25,
    "start_time": "2021-06-20T19:14:22.360Z"
   },
   {
    "duration": 92,
    "start_time": "2021-06-20T19:14:22.388Z"
   },
   {
    "duration": 52,
    "start_time": "2021-06-20T19:14:22.483Z"
   },
   {
    "duration": 35,
    "start_time": "2021-06-20T19:14:22.538Z"
   },
   {
    "duration": 4500,
    "start_time": "2021-06-20T19:14:22.575Z"
   },
   {
    "duration": 22,
    "start_time": "2021-06-20T19:14:27.078Z"
   },
   {
    "duration": 34,
    "start_time": "2021-06-20T19:14:27.102Z"
   },
   {
    "duration": 15,
    "start_time": "2021-06-20T19:14:27.139Z"
   },
   {
    "duration": 22,
    "start_time": "2021-06-20T19:14:27.157Z"
   },
   {
    "duration": 68,
    "start_time": "2021-06-20T19:14:27.182Z"
   },
   {
    "duration": 25,
    "start_time": "2021-06-20T19:14:27.253Z"
   },
   {
    "duration": 49,
    "start_time": "2021-06-20T19:14:27.280Z"
   },
   {
    "duration": 34,
    "start_time": "2021-06-20T19:14:27.331Z"
   },
   {
    "duration": 25,
    "start_time": "2021-06-20T19:14:27.368Z"
   },
   {
    "duration": 84,
    "start_time": "2021-06-20T19:14:27.395Z"
   },
   {
    "duration": 60,
    "start_time": "2021-06-20T19:14:27.481Z"
   },
   {
    "duration": 1103,
    "start_time": "2021-06-21T18:24:27.192Z"
   },
   {
    "duration": 761,
    "start_time": "2021-06-21T18:24:28.298Z"
   },
   {
    "duration": 17,
    "start_time": "2021-06-21T18:24:29.063Z"
   },
   {
    "duration": 30,
    "start_time": "2021-06-21T18:24:29.083Z"
   },
   {
    "duration": 61,
    "start_time": "2021-06-21T18:24:29.116Z"
   },
   {
    "duration": 53,
    "start_time": "2021-06-21T18:24:29.179Z"
   },
   {
    "duration": 24,
    "start_time": "2021-06-21T18:24:29.235Z"
   },
   {
    "duration": 24,
    "start_time": "2021-06-21T18:24:29.266Z"
   },
   {
    "duration": 8,
    "start_time": "2021-06-21T18:24:29.294Z"
   },
   {
    "duration": 63,
    "start_time": "2021-06-21T18:24:29.306Z"
   },
   {
    "duration": 12,
    "start_time": "2021-06-21T18:24:29.373Z"
   },
   {
    "duration": 15,
    "start_time": "2021-06-21T18:24:29.389Z"
   },
   {
    "duration": 50,
    "start_time": "2021-06-21T18:24:29.406Z"
   },
   {
    "duration": 5,
    "start_time": "2021-06-21T18:24:29.460Z"
   },
   {
    "duration": 9,
    "start_time": "2021-06-21T18:24:29.468Z"
   },
   {
    "duration": 8,
    "start_time": "2021-06-21T18:24:29.480Z"
   },
   {
    "duration": 6,
    "start_time": "2021-06-21T18:24:29.490Z"
   },
   {
    "duration": 12,
    "start_time": "2021-06-21T18:24:29.500Z"
   },
   {
    "duration": 48,
    "start_time": "2021-06-21T18:24:29.558Z"
   },
   {
    "duration": 6,
    "start_time": "2021-06-21T18:24:29.608Z"
   },
   {
    "duration": 11,
    "start_time": "2021-06-21T18:24:29.617Z"
   },
   {
    "duration": 7,
    "start_time": "2021-06-21T18:24:29.658Z"
   },
   {
    "duration": 105,
    "start_time": "2021-06-21T18:24:29.674Z"
   },
   {
    "duration": 27,
    "start_time": "2021-06-21T18:24:29.782Z"
   },
   {
    "duration": 17,
    "start_time": "2021-06-21T18:24:29.812Z"
   },
   {
    "duration": 42,
    "start_time": "2021-06-21T18:24:29.832Z"
   },
   {
    "duration": 30,
    "start_time": "2021-06-21T18:24:29.878Z"
   },
   {
    "duration": 114,
    "start_time": "2021-06-21T18:24:29.911Z"
   },
   {
    "duration": 58,
    "start_time": "2021-06-21T18:24:30.027Z"
   },
   {
    "duration": 32,
    "start_time": "2021-06-21T18:24:30.088Z"
   },
   {
    "duration": 5374,
    "start_time": "2021-06-21T18:24:30.123Z"
   },
   {
    "duration": 22,
    "start_time": "2021-06-21T18:24:35.500Z"
   },
   {
    "duration": 47,
    "start_time": "2021-06-21T18:24:35.525Z"
   },
   {
    "duration": 24,
    "start_time": "2021-06-21T18:24:35.575Z"
   },
   {
    "duration": 23,
    "start_time": "2021-06-21T18:24:35.603Z"
   },
   {
    "duration": 41,
    "start_time": "2021-06-21T18:24:35.663Z"
   },
   {
    "duration": 49,
    "start_time": "2021-06-21T18:24:35.707Z"
   },
   {
    "duration": 21,
    "start_time": "2021-06-21T18:24:35.759Z"
   },
   {
    "duration": 40,
    "start_time": "2021-06-21T18:24:35.782Z"
   },
   {
    "duration": 34,
    "start_time": "2021-06-21T18:24:35.857Z"
   },
   {
    "duration": 100,
    "start_time": "2021-06-21T18:24:35.894Z"
   },
   {
    "duration": 43,
    "start_time": "2021-06-21T18:24:35.997Z"
   },
   {
    "duration": 21,
    "start_time": "2021-06-21T18:25:54.797Z"
   },
   {
    "duration": 684,
    "start_time": "2022-03-17T14:12:00.195Z"
   },
   {
    "duration": 2191,
    "start_time": "2022-03-17T14:12:00.881Z"
   },
   {
    "duration": 10,
    "start_time": "2022-03-17T14:12:03.074Z"
   },
   {
    "duration": 21,
    "start_time": "2022-03-17T14:12:03.087Z"
   },
   {
    "duration": 35,
    "start_time": "2022-03-17T14:12:03.110Z"
   },
   {
    "duration": 34,
    "start_time": "2022-03-17T14:12:03.147Z"
   },
   {
    "duration": 5,
    "start_time": "2022-03-17T14:12:03.183Z"
   },
   {
    "duration": 17,
    "start_time": "2022-03-17T14:12:03.190Z"
   },
   {
    "duration": 32,
    "start_time": "2022-03-17T14:12:03.209Z"
   },
   {
    "duration": 34,
    "start_time": "2022-03-17T14:12:03.244Z"
   },
   {
    "duration": 14,
    "start_time": "2022-03-17T14:12:03.280Z"
   },
   {
    "duration": 30,
    "start_time": "2022-03-17T14:12:03.295Z"
   },
   {
    "duration": 10,
    "start_time": "2022-03-17T14:12:03.327Z"
   },
   {
    "duration": 13,
    "start_time": "2022-03-17T14:12:03.340Z"
   },
   {
    "duration": 8,
    "start_time": "2022-03-17T14:12:03.355Z"
   },
   {
    "duration": 8,
    "start_time": "2022-03-17T14:12:03.365Z"
   },
   {
    "duration": 7,
    "start_time": "2022-03-17T14:12:03.375Z"
   },
   {
    "duration": 33,
    "start_time": "2022-03-17T14:12:03.384Z"
   },
   {
    "duration": 41,
    "start_time": "2022-03-17T14:12:03.419Z"
   },
   {
    "duration": 6,
    "start_time": "2022-03-17T14:12:03.461Z"
   },
   {
    "duration": 10,
    "start_time": "2022-03-17T14:12:03.468Z"
   },
   {
    "duration": 7,
    "start_time": "2022-03-17T14:12:03.480Z"
   },
   {
    "duration": 64,
    "start_time": "2022-03-17T14:12:03.489Z"
   },
   {
    "duration": 23,
    "start_time": "2022-03-17T14:12:03.555Z"
   },
   {
    "duration": 9,
    "start_time": "2022-03-17T14:12:03.580Z"
   },
   {
    "duration": 47,
    "start_time": "2022-03-17T14:12:03.591Z"
   },
   {
    "duration": 27,
    "start_time": "2022-03-17T14:12:03.640Z"
   },
   {
    "duration": 67,
    "start_time": "2022-03-17T14:12:03.671Z"
   },
   {
    "duration": 29,
    "start_time": "2022-03-17T14:12:03.739Z"
   },
   {
    "duration": 31,
    "start_time": "2022-03-17T14:12:03.770Z"
   },
   {
    "duration": 3792,
    "start_time": "2022-03-17T14:12:03.803Z"
   },
   {
    "duration": 15,
    "start_time": "2022-03-17T14:12:07.597Z"
   },
   {
    "duration": 26,
    "start_time": "2022-03-17T14:12:07.613Z"
   },
   {
    "duration": 11,
    "start_time": "2022-03-17T14:12:07.640Z"
   },
   {
    "duration": 17,
    "start_time": "2022-03-17T14:12:07.653Z"
   },
   {
    "duration": 22,
    "start_time": "2022-03-17T14:12:07.672Z"
   },
   {
    "duration": 46,
    "start_time": "2022-03-17T14:12:07.695Z"
   },
   {
    "duration": 11,
    "start_time": "2022-03-17T14:12:07.743Z"
   },
   {
    "duration": 40,
    "start_time": "2022-03-17T14:12:07.756Z"
   },
   {
    "duration": 16,
    "start_time": "2022-03-17T14:12:07.798Z"
   },
   {
    "duration": 50,
    "start_time": "2022-03-17T14:12:07.816Z"
   },
   {
    "duration": 23,
    "start_time": "2022-03-17T14:12:07.868Z"
   },
   {
    "duration": 667,
    "start_time": "2022-03-17T14:23:48.196Z"
   },
   {
    "duration": 317,
    "start_time": "2022-03-17T14:23:48.865Z"
   },
   {
    "duration": 5,
    "start_time": "2022-03-17T14:23:49.184Z"
   },
   {
    "duration": 17,
    "start_time": "2022-03-17T14:23:49.192Z"
   },
   {
    "duration": 29,
    "start_time": "2022-03-17T14:23:49.210Z"
   },
   {
    "duration": 30,
    "start_time": "2022-03-17T14:23:49.241Z"
   },
   {
    "duration": 4,
    "start_time": "2022-03-17T14:23:49.272Z"
   },
   {
    "duration": 16,
    "start_time": "2022-03-17T14:23:49.278Z"
   },
   {
    "duration": 6,
    "start_time": "2022-03-17T14:23:49.296Z"
   },
   {
    "duration": 47,
    "start_time": "2022-03-17T14:23:49.305Z"
   },
   {
    "duration": 15,
    "start_time": "2022-03-17T14:23:49.354Z"
   },
   {
    "duration": 9,
    "start_time": "2022-03-17T14:23:49.370Z"
   },
   {
    "duration": 9,
    "start_time": "2022-03-17T14:23:49.381Z"
   },
   {
    "duration": 6,
    "start_time": "2022-03-17T14:23:49.392Z"
   },
   {
    "duration": 13,
    "start_time": "2022-03-17T14:23:49.399Z"
   },
   {
    "duration": 25,
    "start_time": "2022-03-17T14:23:49.414Z"
   },
   {
    "duration": 11,
    "start_time": "2022-03-17T14:23:49.441Z"
   },
   {
    "duration": 19,
    "start_time": "2022-03-17T14:23:49.454Z"
   },
   {
    "duration": 31,
    "start_time": "2022-03-17T14:23:49.476Z"
   },
   {
    "duration": 12,
    "start_time": "2022-03-17T14:23:49.509Z"
   },
   {
    "duration": 24,
    "start_time": "2022-03-17T14:23:49.522Z"
   },
   {
    "duration": 29,
    "start_time": "2022-03-17T14:23:49.548Z"
   },
   {
    "duration": 50,
    "start_time": "2022-03-17T14:23:49.579Z"
   },
   {
    "duration": 17,
    "start_time": "2022-03-17T14:23:49.630Z"
   },
   {
    "duration": 8,
    "start_time": "2022-03-17T14:23:49.649Z"
   },
   {
    "duration": 25,
    "start_time": "2022-03-17T14:23:49.659Z"
   },
   {
    "duration": 21,
    "start_time": "2022-03-17T14:23:49.686Z"
   },
   {
    "duration": 63,
    "start_time": "2022-03-17T14:23:49.711Z"
   },
   {
    "duration": 30,
    "start_time": "2022-03-17T14:23:49.776Z"
   },
   {
    "duration": 49,
    "start_time": "2022-03-17T14:23:49.808Z"
   },
   {
    "duration": 3647,
    "start_time": "2022-03-17T14:23:49.859Z"
   },
   {
    "duration": 16,
    "start_time": "2022-03-17T14:23:53.508Z"
   },
   {
    "duration": 13,
    "start_time": "2022-03-17T14:23:53.538Z"
   },
   {
    "duration": 11,
    "start_time": "2022-03-17T14:23:53.552Z"
   },
   {
    "duration": 21,
    "start_time": "2022-03-17T14:23:53.565Z"
   },
   {
    "duration": 53,
    "start_time": "2022-03-17T14:23:53.588Z"
   },
   {
    "duration": 18,
    "start_time": "2022-03-17T14:23:53.643Z"
   },
   {
    "duration": 12,
    "start_time": "2022-03-17T14:23:53.663Z"
   },
   {
    "duration": 26,
    "start_time": "2022-03-17T14:23:53.677Z"
   },
   {
    "duration": 47,
    "start_time": "2022-03-17T14:23:53.705Z"
   },
   {
    "duration": 42,
    "start_time": "2022-03-17T14:23:53.754Z"
   },
   {
    "duration": 48,
    "start_time": "2022-03-17T14:23:53.798Z"
   }
  ],
  "kernelspec": {
   "display_name": "Python 3 (ipykernel)",
   "language": "python",
   "name": "python3"
  },
  "language_info": {
   "codemirror_mode": {
    "name": "ipython",
    "version": 3
   },
   "file_extension": ".py",
   "mimetype": "text/x-python",
   "name": "python",
   "nbconvert_exporter": "python",
   "pygments_lexer": "ipython3",
   "version": "3.9.5"
  },
  "toc": {
   "base_numbering": 1,
   "nav_menu": {},
   "number_sections": true,
   "sideBar": true,
   "skip_h1_title": true,
   "title_cell": "Table of Contents",
   "title_sidebar": "Contents",
   "toc_cell": false,
   "toc_position": {},
   "toc_section_display": true,
   "toc_window_display": false
  }
 },
 "nbformat": 4,
 "nbformat_minor": 2
}
