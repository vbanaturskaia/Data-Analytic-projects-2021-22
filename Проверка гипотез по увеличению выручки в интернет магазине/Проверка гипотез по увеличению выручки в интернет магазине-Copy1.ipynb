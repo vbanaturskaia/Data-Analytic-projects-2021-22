{
 "cells": [
  {
   "cell_type": "markdown",
   "metadata": {},
   "source": [
    "# A/B тестирование. Приоритизация гипотез. Анализ."
   ]
  },
  {
   "cell_type": "markdown",
   "metadata": {},
   "source": [
    "**Содержание проекта**\n",
    "1. [Описание проекта](#1)\n",
    "2. [Предобработка данных](#2)\n",
    "    * [Выводы](#2.1)\n",
    "3. [Приоритизация гипотез](#3)\n",
    "    * [Выводы](#3.1)\n",
    "4. [Анализ А/В теста](#4)\n",
    "    * [График кумулятивной выручки по группам](#4.1)  \n",
    "    * [График кумулятивного среднего чека по группам](#4.2)\n",
    "    * [График относительного изменения кумулятивного среднего чека](#4.3)\n",
    "    * [График кумулятивной конверсии по группам](#4.4)\n",
    "    * [График относительного изменения кумулятивной конверсии](#4.5)\n",
    "    * [Точечный график количества заказов по пользователям](#4.6)\n",
    "    * [Расчет выборочных перцентилей количества заказов на пользователя](#4.7)\n",
    "    * [Точечный график стоимостей заказов](#4.8)\n",
    "    * [Расчет выборочных перцентилей стоимости заказов](#4.9)\n",
    "    * [Расчет статистической значимости различий между группами по «сырым» данным](#4.10)\n",
    "    * [Расчет статистической значимости различий между группами по фильтрованным данным](#4.11)\n",
    "5. [Выводы и результаты А/В теста](#5)"
   ]
  },
  {
   "cell_type": "markdown",
   "metadata": {},
   "source": [
    "## Описание проекта  <a id=\"1\"></a> \n",
    "\n",
    "**Контекст**  \n",
    "Вы — аналитик крупного интернет-магазина. Вместе с отделом маркетинга вы подготовили список гипотез для увеличения выручки.\n",
    "Приоритизируйте гипотезы, запустите A/B-тест и проанализируйте результаты.  \n",
    "  \n",
    "**Таблица hypothesis содержит:**  \n",
    "- Hypothesis — краткое описание гипотезы;  \n",
    "- Reach — охват пользователей по 10-балльной шкале;\n",
    "- Impact — влияние на пользователей по 10-балльной шкале;\n",
    "- Confidence — уверенность в гипотезе по 10-балльной шкале;\n",
    "- Efforts — затраты ресурсов на проверку гипотезы по 10-балльной шкале. Чем больше значение Efforts, тем дороже проверка гипотезы.  \n",
    "\n",
    "**Таблица orders содержит:**\n",
    "- transactionId — идентификатор заказа;\n",
    "- visitorId — идентификатор пользователя, совершившего заказ;\n",
    "- date — дата, когда был совершён заказ;\n",
    "- revenue — выручка заказа;\n",
    "- group — группа A/B-теста, в которую попал заказ.  \n",
    "\n",
    "**Таблица visitors содержит:**  \n",
    "- date — дата;\n",
    "- group — группа A/B-теста;\n",
    "- visitors — количество пользователей в указанную дату в указанной группе A/B-теста"
   ]
  },
  {
   "cell_type": "markdown",
   "metadata": {},
   "source": [
    "##  Предобработка данных  <a id=\"2\"></a> "
   ]
  },
  {
   "cell_type": "code",
   "execution_count": 1,
   "metadata": {},
   "outputs": [],
   "source": [
    "import pandas as pd\n",
    "import numpy as np\n",
    "import matplotlib.pyplot as plt\n",
    "import math\n",
    "from scipy import stats as st\n",
    "import datetime as dt\n",
    "import warnings\n",
    "warnings.filterwarnings('ignore') #отключим всплывающие предупреждения питона"
   ]
  },
  {
   "cell_type": "code",
   "execution_count": 2,
   "metadata": {},
   "outputs": [],
   "source": [
    "def first_look (df):\n",
    "    '''Функция получения первичной информации о датафрейме'''\n",
    "    print ('------------- Первые 5 строк ------------')\n",
    "    display(df.head())\n",
    "    print('')\n",
    "    print('')\n",
    "    print ('------------- Типы данных ------------')\n",
    "    print (df.info())\n",
    "    print('')\n",
    "    print('')\n",
    "    print ('------------- Пропуски ------------')\n",
    "    count = 0\n",
    "    for element in df.columns:\n",
    "        if df[element].isna().sum() > 0:\n",
    "            print(element, ' - ', df[element].isna().sum(), 'пропусков')\n",
    "            count = +1\n",
    "        if count == 0:\n",
    "            print('Пропусков НЕТ')\n",
    "    print('')\n",
    "    print('')\n",
    "    print('--------------Дубликаты--------------')\n",
    "    print(df.duplicated().sum(), 'дубликатов')"
   ]
  },
  {
   "cell_type": "code",
   "execution_count": 3,
   "metadata": {},
   "outputs": [],
   "source": [
    "hypothesis, orders, visitors = (\n",
    "    pd.read_csv('https://code.s3.yandex.net/datasets/hypothesis.csv'),  # данные для первой части \n",
    "    pd.read_csv('https://code.s3.yandex.net/datasets/orders.csv'),  # данные для второй части - о заказах\n",
    "    pd.read_csv('https://code.s3.yandex.net/datasets/visitors.csv'),  # данные для второй части - о посеттелях\n",
    ")"
   ]
  },
  {
   "cell_type": "code",
   "execution_count": 4,
   "metadata": {},
   "outputs": [
    {
     "name": "stdout",
     "output_type": "stream",
     "text": [
      "------------- Первые 5 строк ------------\n"
     ]
    },
    {
     "data": {
      "text/html": [
       "<div>\n",
       "<style scoped>\n",
       "    .dataframe tbody tr th:only-of-type {\n",
       "        vertical-align: middle;\n",
       "    }\n",
       "\n",
       "    .dataframe tbody tr th {\n",
       "        vertical-align: top;\n",
       "    }\n",
       "\n",
       "    .dataframe thead th {\n",
       "        text-align: right;\n",
       "    }\n",
       "</style>\n",
       "<table border=\"1\" class=\"dataframe\">\n",
       "  <thead>\n",
       "    <tr style=\"text-align: right;\">\n",
       "      <th></th>\n",
       "      <th>Hypothesis</th>\n",
       "      <th>Reach</th>\n",
       "      <th>Impact</th>\n",
       "      <th>Confidence</th>\n",
       "      <th>Efforts</th>\n",
       "    </tr>\n",
       "  </thead>\n",
       "  <tbody>\n",
       "    <tr>\n",
       "      <th>0</th>\n",
       "      <td>Добавить два новых канала привлечения трафика,...</td>\n",
       "      <td>3</td>\n",
       "      <td>10</td>\n",
       "      <td>8</td>\n",
       "      <td>6</td>\n",
       "    </tr>\n",
       "    <tr>\n",
       "      <th>1</th>\n",
       "      <td>Запустить собственную службу доставки, что сок...</td>\n",
       "      <td>2</td>\n",
       "      <td>5</td>\n",
       "      <td>4</td>\n",
       "      <td>10</td>\n",
       "    </tr>\n",
       "    <tr>\n",
       "      <th>2</th>\n",
       "      <td>Добавить блоки рекомендаций товаров на сайт ин...</td>\n",
       "      <td>8</td>\n",
       "      <td>3</td>\n",
       "      <td>7</td>\n",
       "      <td>3</td>\n",
       "    </tr>\n",
       "    <tr>\n",
       "      <th>3</th>\n",
       "      <td>Изменить структура категорий, что увеличит кон...</td>\n",
       "      <td>8</td>\n",
       "      <td>3</td>\n",
       "      <td>3</td>\n",
       "      <td>8</td>\n",
       "    </tr>\n",
       "    <tr>\n",
       "      <th>4</th>\n",
       "      <td>Изменить цвет фона главной страницы, чтобы уве...</td>\n",
       "      <td>3</td>\n",
       "      <td>1</td>\n",
       "      <td>1</td>\n",
       "      <td>1</td>\n",
       "    </tr>\n",
       "  </tbody>\n",
       "</table>\n",
       "</div>"
      ],
      "text/plain": [
       "                                          Hypothesis  Reach  Impact  \\\n",
       "0  Добавить два новых канала привлечения трафика,...      3      10   \n",
       "1  Запустить собственную службу доставки, что сок...      2       5   \n",
       "2  Добавить блоки рекомендаций товаров на сайт ин...      8       3   \n",
       "3  Изменить структура категорий, что увеличит кон...      8       3   \n",
       "4  Изменить цвет фона главной страницы, чтобы уве...      3       1   \n",
       "\n",
       "   Confidence  Efforts  \n",
       "0           8        6  \n",
       "1           4       10  \n",
       "2           7        3  \n",
       "3           3        8  \n",
       "4           1        1  "
      ]
     },
     "metadata": {},
     "output_type": "display_data"
    },
    {
     "name": "stdout",
     "output_type": "stream",
     "text": [
      "\n",
      "\n",
      "------------- Типы данных ------------\n",
      "<class 'pandas.core.frame.DataFrame'>\n",
      "RangeIndex: 9 entries, 0 to 8\n",
      "Data columns (total 5 columns):\n",
      " #   Column      Non-Null Count  Dtype \n",
      "---  ------      --------------  ----- \n",
      " 0   Hypothesis  9 non-null      object\n",
      " 1   Reach       9 non-null      int64 \n",
      " 2   Impact      9 non-null      int64 \n",
      " 3   Confidence  9 non-null      int64 \n",
      " 4   Efforts     9 non-null      int64 \n",
      "dtypes: int64(4), object(1)\n",
      "memory usage: 488.0+ bytes\n",
      "None\n",
      "\n",
      "\n",
      "------------- Пропуски ------------\n",
      "Пропусков НЕТ\n",
      "Пропусков НЕТ\n",
      "Пропусков НЕТ\n",
      "Пропусков НЕТ\n",
      "Пропусков НЕТ\n",
      "\n",
      "\n",
      "--------------Дубликаты--------------\n",
      "0 дубликатов\n",
      "------------- Первые 5 строк ------------\n"
     ]
    },
    {
     "data": {
      "text/html": [
       "<div>\n",
       "<style scoped>\n",
       "    .dataframe tbody tr th:only-of-type {\n",
       "        vertical-align: middle;\n",
       "    }\n",
       "\n",
       "    .dataframe tbody tr th {\n",
       "        vertical-align: top;\n",
       "    }\n",
       "\n",
       "    .dataframe thead th {\n",
       "        text-align: right;\n",
       "    }\n",
       "</style>\n",
       "<table border=\"1\" class=\"dataframe\">\n",
       "  <thead>\n",
       "    <tr style=\"text-align: right;\">\n",
       "      <th></th>\n",
       "      <th>transactionId</th>\n",
       "      <th>visitorId</th>\n",
       "      <th>date</th>\n",
       "      <th>revenue</th>\n",
       "      <th>group</th>\n",
       "    </tr>\n",
       "  </thead>\n",
       "  <tbody>\n",
       "    <tr>\n",
       "      <th>0</th>\n",
       "      <td>3667963787</td>\n",
       "      <td>3312258926</td>\n",
       "      <td>2019-08-15</td>\n",
       "      <td>1650</td>\n",
       "      <td>B</td>\n",
       "    </tr>\n",
       "    <tr>\n",
       "      <th>1</th>\n",
       "      <td>2804400009</td>\n",
       "      <td>3642806036</td>\n",
       "      <td>2019-08-15</td>\n",
       "      <td>730</td>\n",
       "      <td>B</td>\n",
       "    </tr>\n",
       "    <tr>\n",
       "      <th>2</th>\n",
       "      <td>2961555356</td>\n",
       "      <td>4069496402</td>\n",
       "      <td>2019-08-15</td>\n",
       "      <td>400</td>\n",
       "      <td>A</td>\n",
       "    </tr>\n",
       "    <tr>\n",
       "      <th>3</th>\n",
       "      <td>3797467345</td>\n",
       "      <td>1196621759</td>\n",
       "      <td>2019-08-15</td>\n",
       "      <td>9759</td>\n",
       "      <td>B</td>\n",
       "    </tr>\n",
       "    <tr>\n",
       "      <th>4</th>\n",
       "      <td>2282983706</td>\n",
       "      <td>2322279887</td>\n",
       "      <td>2019-08-15</td>\n",
       "      <td>2308</td>\n",
       "      <td>B</td>\n",
       "    </tr>\n",
       "  </tbody>\n",
       "</table>\n",
       "</div>"
      ],
      "text/plain": [
       "   transactionId   visitorId        date  revenue group\n",
       "0     3667963787  3312258926  2019-08-15     1650     B\n",
       "1     2804400009  3642806036  2019-08-15      730     B\n",
       "2     2961555356  4069496402  2019-08-15      400     A\n",
       "3     3797467345  1196621759  2019-08-15     9759     B\n",
       "4     2282983706  2322279887  2019-08-15     2308     B"
      ]
     },
     "metadata": {},
     "output_type": "display_data"
    },
    {
     "name": "stdout",
     "output_type": "stream",
     "text": [
      "\n",
      "\n",
      "------------- Типы данных ------------\n",
      "<class 'pandas.core.frame.DataFrame'>\n",
      "RangeIndex: 1197 entries, 0 to 1196\n",
      "Data columns (total 5 columns):\n",
      " #   Column         Non-Null Count  Dtype \n",
      "---  ------         --------------  ----- \n",
      " 0   transactionId  1197 non-null   int64 \n",
      " 1   visitorId      1197 non-null   int64 \n",
      " 2   date           1197 non-null   object\n",
      " 3   revenue        1197 non-null   int64 \n",
      " 4   group          1197 non-null   object\n",
      "dtypes: int64(3), object(2)\n",
      "memory usage: 46.9+ KB\n",
      "None\n",
      "\n",
      "\n",
      "------------- Пропуски ------------\n",
      "Пропусков НЕТ\n",
      "Пропусков НЕТ\n",
      "Пропусков НЕТ\n",
      "Пропусков НЕТ\n",
      "Пропусков НЕТ\n",
      "\n",
      "\n",
      "--------------Дубликаты--------------\n",
      "0 дубликатов\n",
      "------------- Первые 5 строк ------------\n"
     ]
    },
    {
     "data": {
      "text/html": [
       "<div>\n",
       "<style scoped>\n",
       "    .dataframe tbody tr th:only-of-type {\n",
       "        vertical-align: middle;\n",
       "    }\n",
       "\n",
       "    .dataframe tbody tr th {\n",
       "        vertical-align: top;\n",
       "    }\n",
       "\n",
       "    .dataframe thead th {\n",
       "        text-align: right;\n",
       "    }\n",
       "</style>\n",
       "<table border=\"1\" class=\"dataframe\">\n",
       "  <thead>\n",
       "    <tr style=\"text-align: right;\">\n",
       "      <th></th>\n",
       "      <th>date</th>\n",
       "      <th>group</th>\n",
       "      <th>visitors</th>\n",
       "    </tr>\n",
       "  </thead>\n",
       "  <tbody>\n",
       "    <tr>\n",
       "      <th>0</th>\n",
       "      <td>2019-08-01</td>\n",
       "      <td>A</td>\n",
       "      <td>719</td>\n",
       "    </tr>\n",
       "    <tr>\n",
       "      <th>1</th>\n",
       "      <td>2019-08-02</td>\n",
       "      <td>A</td>\n",
       "      <td>619</td>\n",
       "    </tr>\n",
       "    <tr>\n",
       "      <th>2</th>\n",
       "      <td>2019-08-03</td>\n",
       "      <td>A</td>\n",
       "      <td>507</td>\n",
       "    </tr>\n",
       "    <tr>\n",
       "      <th>3</th>\n",
       "      <td>2019-08-04</td>\n",
       "      <td>A</td>\n",
       "      <td>717</td>\n",
       "    </tr>\n",
       "    <tr>\n",
       "      <th>4</th>\n",
       "      <td>2019-08-05</td>\n",
       "      <td>A</td>\n",
       "      <td>756</td>\n",
       "    </tr>\n",
       "  </tbody>\n",
       "</table>\n",
       "</div>"
      ],
      "text/plain": [
       "         date group  visitors\n",
       "0  2019-08-01     A       719\n",
       "1  2019-08-02     A       619\n",
       "2  2019-08-03     A       507\n",
       "3  2019-08-04     A       717\n",
       "4  2019-08-05     A       756"
      ]
     },
     "metadata": {},
     "output_type": "display_data"
    },
    {
     "name": "stdout",
     "output_type": "stream",
     "text": [
      "\n",
      "\n",
      "------------- Типы данных ------------\n",
      "<class 'pandas.core.frame.DataFrame'>\n",
      "RangeIndex: 62 entries, 0 to 61\n",
      "Data columns (total 3 columns):\n",
      " #   Column    Non-Null Count  Dtype \n",
      "---  ------    --------------  ----- \n",
      " 0   date      62 non-null     object\n",
      " 1   group     62 non-null     object\n",
      " 2   visitors  62 non-null     int64 \n",
      "dtypes: int64(1), object(2)\n",
      "memory usage: 1.6+ KB\n",
      "None\n",
      "\n",
      "\n",
      "------------- Пропуски ------------\n",
      "Пропусков НЕТ\n",
      "Пропусков НЕТ\n",
      "Пропусков НЕТ\n",
      "\n",
      "\n",
      "--------------Дубликаты--------------\n",
      "0 дубликатов\n"
     ]
    }
   ],
   "source": [
    "data_list=[hypothesis, orders, visitors]\n",
    "for data in data_list:\n",
    "    first_look(data)"
   ]
  },
  {
   "cell_type": "code",
   "execution_count": 5,
   "metadata": {},
   "outputs": [],
   "source": [
    "#приведем столбцы, содержащие дату к нужному формату:\n",
    "time_format = '%Y-%m-%d'\n",
    "orders['date'] = pd.to_datetime(orders['date'], format = time_format)\n",
    "visitors['date']= pd.to_datetime(visitors['date'], format = time_format)"
   ]
  },
  {
   "cell_type": "code",
   "execution_count": 6,
   "metadata": {},
   "outputs": [],
   "source": [
    "#приведем названия столбцов датафреймов к нижнему регистру и добавим змеиный регистр\n",
    "hypothesis.columns = hypothesis.columns.str.lower()\n",
    "orders=orders.rename(columns={\n",
    "    'transactionId':'transaction_id',\n",
    "    'visitorId':'visitor_id'\n",
    "})"
   ]
  },
  {
   "cell_type": "code",
   "execution_count": 7,
   "metadata": {},
   "outputs": [],
   "source": [
    "#добавим отображаемое кол-во символов в столбце, чтобы удобнее было читать название гипотезы в столбце hypothesis\n",
    "pd.options.display.max_colwidth = 120"
   ]
  },
  {
   "cell_type": "markdown",
   "metadata": {},
   "source": [
    "### Вывод: <a id=\"2.1\"></a> "
   ]
  },
  {
   "cell_type": "markdown",
   "metadata": {},
   "source": [
    "Данные не содержат пропусков и дубликатов. Столбцы, содержащие даты, были приведены к нужному формату. Также были упорядочены названия столбцов."
   ]
  },
  {
   "cell_type": "markdown",
   "metadata": {},
   "source": [
    "## Приоритизация гипотез. <a id=\"3\"></a> "
   ]
  },
  {
   "cell_type": "markdown",
   "metadata": {},
   "source": [
    "Примените фреймворк ICE для приоритизации гипотез. Отсортируйте их по убыванию приоритета."
   ]
  },
  {
   "cell_type": "code",
   "execution_count": 8,
   "metadata": {},
   "outputs": [
    {
     "data": {
      "text/html": [
       "<div>\n",
       "<style scoped>\n",
       "    .dataframe tbody tr th:only-of-type {\n",
       "        vertical-align: middle;\n",
       "    }\n",
       "\n",
       "    .dataframe tbody tr th {\n",
       "        vertical-align: top;\n",
       "    }\n",
       "\n",
       "    .dataframe thead th {\n",
       "        text-align: right;\n",
       "    }\n",
       "</style>\n",
       "<table border=\"1\" class=\"dataframe\">\n",
       "  <thead>\n",
       "    <tr style=\"text-align: right;\">\n",
       "      <th></th>\n",
       "      <th>hypothesis</th>\n",
       "      <th>ICE</th>\n",
       "    </tr>\n",
       "  </thead>\n",
       "  <tbody>\n",
       "    <tr>\n",
       "      <th>8</th>\n",
       "      <td>Запустить акцию, дающую скидку на товар в день рождения</td>\n",
       "      <td>16.200000</td>\n",
       "    </tr>\n",
       "    <tr>\n",
       "      <th>0</th>\n",
       "      <td>Добавить два новых канала привлечения трафика, что позволит привлекать на 30% больше пользователей</td>\n",
       "      <td>13.333333</td>\n",
       "    </tr>\n",
       "    <tr>\n",
       "      <th>7</th>\n",
       "      <td>Добавить форму подписки на все основные страницы, чтобы собрать базу клиентов для email-рассылок</td>\n",
       "      <td>11.200000</td>\n",
       "    </tr>\n",
       "    <tr>\n",
       "      <th>6</th>\n",
       "      <td>Показать на главной странице баннеры с актуальными акциями и распродажами, чтобы увеличить конверсию</td>\n",
       "      <td>8.000000</td>\n",
       "    </tr>\n",
       "    <tr>\n",
       "      <th>2</th>\n",
       "      <td>Добавить блоки рекомендаций товаров на сайт интернет магазина, чтобы повысить конверсию и средний чек заказа</td>\n",
       "      <td>7.000000</td>\n",
       "    </tr>\n",
       "    <tr>\n",
       "      <th>1</th>\n",
       "      <td>Запустить собственную службу доставки, что сократит срок доставки заказов</td>\n",
       "      <td>2.000000</td>\n",
       "    </tr>\n",
       "    <tr>\n",
       "      <th>5</th>\n",
       "      <td>Добавить страницу отзывов клиентов о магазине, что позволит увеличить количество заказов</td>\n",
       "      <td>1.333333</td>\n",
       "    </tr>\n",
       "    <tr>\n",
       "      <th>3</th>\n",
       "      <td>Изменить структура категорий, что увеличит конверсию, т.к. пользователи быстрее найдут нужный товар</td>\n",
       "      <td>1.125000</td>\n",
       "    </tr>\n",
       "    <tr>\n",
       "      <th>4</th>\n",
       "      <td>Изменить цвет фона главной страницы, чтобы увеличить вовлеченность пользователей</td>\n",
       "      <td>1.000000</td>\n",
       "    </tr>\n",
       "  </tbody>\n",
       "</table>\n",
       "</div>"
      ],
      "text/plain": [
       "                                                                                                     hypothesis  \\\n",
       "8                                                       Запустить акцию, дающую скидку на товар в день рождения   \n",
       "0            Добавить два новых канала привлечения трафика, что позволит привлекать на 30% больше пользователей   \n",
       "7              Добавить форму подписки на все основные страницы, чтобы собрать базу клиентов для email-рассылок   \n",
       "6          Показать на главной странице баннеры с актуальными акциями и распродажами, чтобы увеличить конверсию   \n",
       "2  Добавить блоки рекомендаций товаров на сайт интернет магазина, чтобы повысить конверсию и средний чек заказа   \n",
       "1                                     Запустить собственную службу доставки, что сократит срок доставки заказов   \n",
       "5                      Добавить страницу отзывов клиентов о магазине, что позволит увеличить количество заказов   \n",
       "3           Изменить структура категорий, что увеличит конверсию, т.к. пользователи быстрее найдут нужный товар   \n",
       "4                              Изменить цвет фона главной страницы, чтобы увеличить вовлеченность пользователей   \n",
       "\n",
       "         ICE  \n",
       "8  16.200000  \n",
       "0  13.333333  \n",
       "7  11.200000  \n",
       "6   8.000000  \n",
       "2   7.000000  \n",
       "1   2.000000  \n",
       "5   1.333333  \n",
       "3   1.125000  \n",
       "4   1.000000  "
      ]
     },
     "metadata": {},
     "output_type": "display_data"
    }
   ],
   "source": [
    "# фреймворк ICE рассчитывается по формуле: ICE= (Impact*Confidence)/Efforts\n",
    "hypothesis['ICE']=(\n",
    "    hypothesis['impact']*hypothesis['confidence']\n",
    ")/hypothesis['efforts']\n",
    "display(hypothesis[['hypothesis','ICE']].sort_values(by='ICE', ascending=False))"
   ]
  },
  {
   "cell_type": "markdown",
   "metadata": {},
   "source": [
    "Наиболее перспективные гипотезы по методу ICE: 9, 1 и 8 гипотезы. Данный метод учитывает только силу влияния на пользователей (Impact)."
   ]
  },
  {
   "cell_type": "code",
   "execution_count": 9,
   "metadata": {},
   "outputs": [
    {
     "data": {
      "text/html": [
       "<div>\n",
       "<style scoped>\n",
       "    .dataframe tbody tr th:only-of-type {\n",
       "        vertical-align: middle;\n",
       "    }\n",
       "\n",
       "    .dataframe tbody tr th {\n",
       "        vertical-align: top;\n",
       "    }\n",
       "\n",
       "    .dataframe thead th {\n",
       "        text-align: right;\n",
       "    }\n",
       "</style>\n",
       "<table border=\"1\" class=\"dataframe\">\n",
       "  <thead>\n",
       "    <tr style=\"text-align: right;\">\n",
       "      <th></th>\n",
       "      <th>hypothesis</th>\n",
       "      <th>RICE</th>\n",
       "    </tr>\n",
       "  </thead>\n",
       "  <tbody>\n",
       "    <tr>\n",
       "      <th>7</th>\n",
       "      <td>Добавить форму подписки на все основные страницы, чтобы собрать базу клиентов для email-рассылок</td>\n",
       "      <td>112.0</td>\n",
       "    </tr>\n",
       "    <tr>\n",
       "      <th>2</th>\n",
       "      <td>Добавить блоки рекомендаций товаров на сайт интернет магазина, чтобы повысить конверсию и средний чек заказа</td>\n",
       "      <td>56.0</td>\n",
       "    </tr>\n",
       "    <tr>\n",
       "      <th>0</th>\n",
       "      <td>Добавить два новых канала привлечения трафика, что позволит привлекать на 30% больше пользователей</td>\n",
       "      <td>40.0</td>\n",
       "    </tr>\n",
       "    <tr>\n",
       "      <th>6</th>\n",
       "      <td>Показать на главной странице баннеры с актуальными акциями и распродажами, чтобы увеличить конверсию</td>\n",
       "      <td>40.0</td>\n",
       "    </tr>\n",
       "    <tr>\n",
       "      <th>8</th>\n",
       "      <td>Запустить акцию, дающую скидку на товар в день рождения</td>\n",
       "      <td>16.2</td>\n",
       "    </tr>\n",
       "    <tr>\n",
       "      <th>3</th>\n",
       "      <td>Изменить структура категорий, что увеличит конверсию, т.к. пользователи быстрее найдут нужный товар</td>\n",
       "      <td>9.0</td>\n",
       "    </tr>\n",
       "    <tr>\n",
       "      <th>1</th>\n",
       "      <td>Запустить собственную службу доставки, что сократит срок доставки заказов</td>\n",
       "      <td>4.0</td>\n",
       "    </tr>\n",
       "    <tr>\n",
       "      <th>5</th>\n",
       "      <td>Добавить страницу отзывов клиентов о магазине, что позволит увеличить количество заказов</td>\n",
       "      <td>4.0</td>\n",
       "    </tr>\n",
       "    <tr>\n",
       "      <th>4</th>\n",
       "      <td>Изменить цвет фона главной страницы, чтобы увеличить вовлеченность пользователей</td>\n",
       "      <td>3.0</td>\n",
       "    </tr>\n",
       "  </tbody>\n",
       "</table>\n",
       "</div>"
      ],
      "text/plain": [
       "                                                                                                     hypothesis  \\\n",
       "7              Добавить форму подписки на все основные страницы, чтобы собрать базу клиентов для email-рассылок   \n",
       "2  Добавить блоки рекомендаций товаров на сайт интернет магазина, чтобы повысить конверсию и средний чек заказа   \n",
       "0            Добавить два новых канала привлечения трафика, что позволит привлекать на 30% больше пользователей   \n",
       "6          Показать на главной странице баннеры с актуальными акциями и распродажами, чтобы увеличить конверсию   \n",
       "8                                                       Запустить акцию, дающую скидку на товар в день рождения   \n",
       "3           Изменить структура категорий, что увеличит конверсию, т.к. пользователи быстрее найдут нужный товар   \n",
       "1                                     Запустить собственную службу доставки, что сократит срок доставки заказов   \n",
       "5                      Добавить страницу отзывов клиентов о магазине, что позволит увеличить количество заказов   \n",
       "4                              Изменить цвет фона главной страницы, чтобы увеличить вовлеченность пользователей   \n",
       "\n",
       "    RICE  \n",
       "7  112.0  \n",
       "2   56.0  \n",
       "0   40.0  \n",
       "6   40.0  \n",
       "8   16.2  \n",
       "3    9.0  \n",
       "1    4.0  \n",
       "5    4.0  \n",
       "4    3.0  "
      ]
     },
     "metadata": {},
     "output_type": "display_data"
    }
   ],
   "source": [
    "# Применим фреймворк RICE. Формула расчета RICE=(Reach*Impact*Confidence)/Efforts\n",
    "hypothesis['RICE']=(\n",
    "    hypothesis['reach']*hypothesis['impact']*hypothesis['confidence']\n",
    ")/hypothesis['efforts']\n",
    "display(hypothesis[['hypothesis','RICE']].sort_values(by='RICE',ascending=False))"
   ]
  },
  {
   "cell_type": "markdown",
   "metadata": {},
   "source": [
    "### Выводы: <a id=\"3.1\"></a> "
   ]
  },
  {
   "cell_type": "markdown",
   "metadata": {},
   "source": [
    "Наиболее перспективные гипотезы по методу RICE: 8, 3, 1 и 7 гипотезы. Восьмая гипотеза на первом месте, т.к. у нее параметр Reach равен 10 и это наибольшее значение среди остальных гипотез, т.е данная гипотеза затронет больше пользователей, чем остальные."
   ]
  },
  {
   "cell_type": "markdown",
   "metadata": {},
   "source": [
    "##  Анализ A/B-теста <a id=\"4\"></a> "
   ]
  },
  {
   "cell_type": "markdown",
   "metadata": {},
   "source": [
    "Чтобы построить графики, нужно собрать кумулятивные данные. Объявим датафрейм cumulativeData со столбцами:  \n",
    "- date — дата;\n",
    "- group — группа A/B-теста (A или B);\n",
    "- orders — кумулятивное количество заказов на указанную дату в указанной группе;\n",
    "- buyers — кумулятивное количество пользователей, совершивших хотя бы один заказ, на указанную дату в указанной группе;\n",
    "- revenue — кумулятивная выручка на указанную дату в указанной группе (средний чек);\n",
    "- visitors — кумулятивное количество посетителей интернет-магазина на указанную дату в определённой группе."
   ]
  },
  {
   "cell_type": "code",
   "execution_count": 10,
   "metadata": {},
   "outputs": [],
   "source": [
    "# создаем массив уникальных пар значений дат и групп теста\n",
    "datesGroups = orders[['date','group']].drop_duplicates()"
   ]
  },
  {
   "cell_type": "code",
   "execution_count": 11,
   "metadata": {},
   "outputs": [
    {
     "data": {
      "text/html": [
       "<div>\n",
       "<style scoped>\n",
       "    .dataframe tbody tr th:only-of-type {\n",
       "        vertical-align: middle;\n",
       "    }\n",
       "\n",
       "    .dataframe tbody tr th {\n",
       "        vertical-align: top;\n",
       "    }\n",
       "\n",
       "    .dataframe thead th {\n",
       "        text-align: right;\n",
       "    }\n",
       "</style>\n",
       "<table border=\"1\" class=\"dataframe\">\n",
       "  <thead>\n",
       "    <tr style=\"text-align: right;\">\n",
       "      <th></th>\n",
       "      <th>transaction_id</th>\n",
       "      <th>visitor_id</th>\n",
       "      <th>date</th>\n",
       "      <th>revenue</th>\n",
       "      <th>group</th>\n",
       "    </tr>\n",
       "  </thead>\n",
       "  <tbody>\n",
       "    <tr>\n",
       "      <th>0</th>\n",
       "      <td>3667963787</td>\n",
       "      <td>3312258926</td>\n",
       "      <td>2019-08-15</td>\n",
       "      <td>1650</td>\n",
       "      <td>B</td>\n",
       "    </tr>\n",
       "    <tr>\n",
       "      <th>1</th>\n",
       "      <td>2804400009</td>\n",
       "      <td>3642806036</td>\n",
       "      <td>2019-08-15</td>\n",
       "      <td>730</td>\n",
       "      <td>B</td>\n",
       "    </tr>\n",
       "    <tr>\n",
       "      <th>2</th>\n",
       "      <td>2961555356</td>\n",
       "      <td>4069496402</td>\n",
       "      <td>2019-08-15</td>\n",
       "      <td>400</td>\n",
       "      <td>A</td>\n",
       "    </tr>\n",
       "    <tr>\n",
       "      <th>3</th>\n",
       "      <td>3797467345</td>\n",
       "      <td>1196621759</td>\n",
       "      <td>2019-08-15</td>\n",
       "      <td>9759</td>\n",
       "      <td>B</td>\n",
       "    </tr>\n",
       "    <tr>\n",
       "      <th>4</th>\n",
       "      <td>2282983706</td>\n",
       "      <td>2322279887</td>\n",
       "      <td>2019-08-15</td>\n",
       "      <td>2308</td>\n",
       "      <td>B</td>\n",
       "    </tr>\n",
       "    <tr>\n",
       "      <th>...</th>\n",
       "      <td>...</td>\n",
       "      <td>...</td>\n",
       "      <td>...</td>\n",
       "      <td>...</td>\n",
       "      <td>...</td>\n",
       "    </tr>\n",
       "    <tr>\n",
       "      <th>1192</th>\n",
       "      <td>2662137336</td>\n",
       "      <td>3733762160</td>\n",
       "      <td>2019-08-14</td>\n",
       "      <td>6490</td>\n",
       "      <td>B</td>\n",
       "    </tr>\n",
       "    <tr>\n",
       "      <th>1193</th>\n",
       "      <td>2203539145</td>\n",
       "      <td>370388673</td>\n",
       "      <td>2019-08-14</td>\n",
       "      <td>3190</td>\n",
       "      <td>A</td>\n",
       "    </tr>\n",
       "    <tr>\n",
       "      <th>1194</th>\n",
       "      <td>1807773912</td>\n",
       "      <td>573423106</td>\n",
       "      <td>2019-08-14</td>\n",
       "      <td>10550</td>\n",
       "      <td>A</td>\n",
       "    </tr>\n",
       "    <tr>\n",
       "      <th>1195</th>\n",
       "      <td>1947021204</td>\n",
       "      <td>1614305549</td>\n",
       "      <td>2019-08-14</td>\n",
       "      <td>100</td>\n",
       "      <td>A</td>\n",
       "    </tr>\n",
       "    <tr>\n",
       "      <th>1196</th>\n",
       "      <td>3936777065</td>\n",
       "      <td>2108080724</td>\n",
       "      <td>2019-08-15</td>\n",
       "      <td>202740</td>\n",
       "      <td>B</td>\n",
       "    </tr>\n",
       "  </tbody>\n",
       "</table>\n",
       "<p>1197 rows × 5 columns</p>\n",
       "</div>"
      ],
      "text/plain": [
       "      transaction_id  visitor_id       date  revenue group\n",
       "0         3667963787  3312258926 2019-08-15     1650     B\n",
       "1         2804400009  3642806036 2019-08-15      730     B\n",
       "2         2961555356  4069496402 2019-08-15      400     A\n",
       "3         3797467345  1196621759 2019-08-15     9759     B\n",
       "4         2282983706  2322279887 2019-08-15     2308     B\n",
       "...              ...         ...        ...      ...   ...\n",
       "1192      2662137336  3733762160 2019-08-14     6490     B\n",
       "1193      2203539145   370388673 2019-08-14     3190     A\n",
       "1194      1807773912   573423106 2019-08-14    10550     A\n",
       "1195      1947021204  1614305549 2019-08-14      100     A\n",
       "1196      3936777065  2108080724 2019-08-15   202740     B\n",
       "\n",
       "[1197 rows x 5 columns]"
      ]
     },
     "execution_count": 11,
     "metadata": {},
     "output_type": "execute_result"
    }
   ],
   "source": [
    "orders"
   ]
  },
  {
   "cell_type": "code",
   "execution_count": 12,
   "metadata": {},
   "outputs": [],
   "source": [
    "# получаем агрегированные кумулятивные по дням данные о заказах \n",
    "ordersAggregated = datesGroups.apply(\n",
    "    lambda x: orders[\n",
    "        np.logical_and(\n",
    "            orders['date'] <= x['date'], orders['group'] == x['group']\n",
    "        )\n",
    "    ].agg(\n",
    "        {\n",
    "            'date': 'max',\n",
    "            'group': 'max',\n",
    "            'transaction_id': 'nunique',\n",
    "            'visitor_id': 'nunique',\n",
    "            'revenue': 'sum',\n",
    "        }\n",
    "    ),\n",
    "    axis=1,\n",
    ").sort_values(by=['date', 'group'])"
   ]
  },
  {
   "cell_type": "code",
   "execution_count": 13,
   "metadata": {},
   "outputs": [],
   "source": [
    "#Аналогично получим агрегированные кумулятивные по дням данные о посетителях интернет-магазина\n",
    "visitorsAggregated = datesGroups.apply(\n",
    "    lambda x: visitors[\n",
    "        np.logical_and(\n",
    "            visitors['date'] <= x['date'], visitors['group'] == x['group']\n",
    "        )\n",
    "    ].agg({'date': 'max', 'group': 'max', 'visitors': 'sum'}),\n",
    "    axis=1,\n",
    ").sort_values(by=['date', 'group'])\n",
    "\n",
    "# объединяем кумулятивные данные в одной таблице и присваиваем ее столбцам понятные названия\n",
    "cumulativeData = ordersAggregated.merge(\n",
    "    visitorsAggregated, left_on=['date', 'group'], right_on=['date', 'group']\n",
    ")\n",
    "cumulativeData.columns = [\n",
    "    'date',\n",
    "    'group',\n",
    "    'orders',\n",
    "    'buyers',\n",
    "    'revenue',\n",
    "    'visitors',\n",
    "]"
   ]
  },
  {
   "cell_type": "markdown",
   "metadata": {},
   "source": [
    " <a id=\"4.1\"></a> "
   ]
  },
  {
   "cell_type": "code",
   "execution_count": 14,
   "metadata": {},
   "outputs": [
    {
     "data": {
      "image/png": "[encoded data removed]",
      "text/plain": [
       "<Figure size 432x288 with 1 Axes>"
      ]
     },
     "metadata": {
      "needs_background": "light"
     },
     "output_type": "display_data"
    }
   ],
   "source": [
    "# датафрейм с кумулятивным количеством заказов и кумулятивной выручкой по дням в группе А\n",
    "cumulativeRevenueA = cumulativeData[cumulativeData['group']=='A'][['date','revenue', 'orders']]\n",
    "\n",
    "# датафрейм с кумулятивным количеством заказов и кумулятивной выручкой по дням в группе B\n",
    "cumulativeRevenueB = cumulativeData[cumulativeData['group']=='B'][['date','revenue', 'orders']]\n",
    "\n",
    "# Строим график выручки группы А\n",
    "plt.plot(cumulativeRevenueA['date'], cumulativeRevenueA['revenue'], label='A')\n",
    "\n",
    "# Строим график выручки группы B\n",
    "plt.plot(cumulativeRevenueB['date'], cumulativeRevenueB['revenue'], label='B')\n",
    "plt.title('График кумулятивной выручки по группам')\n",
    "plt.xlabel('Дата наблюдения')\n",
    "plt.ylabel('Объем выручки')\n",
    "plt.xticks(rotation=20)\n",
    "plt.legend();"
   ]
  },
  {
   "cell_type": "markdown",
   "metadata": {},
   "source": [
    " Выручка почти равномерно увеличивается в течение всего теста. Выручка группы В почти в 1,5 раза больше выручки группы А в конце исследуемого периода.\n",
    "Однако графики выручки обеих групп в нескольких точках резко растут. Это может сигнализировать о всплесках числа заказов, либо о появлении очень дорогих заказов в выборке. "
   ]
  },
  {
   "cell_type": "markdown",
   "metadata": {},
   "source": [
    "Построим графики среднего чека по группам — разделим кумулятивную выручку на кумулятивное число заказов:  <a id=\"4.2\"></a> "
   ]
  },
  {
   "cell_type": "code",
   "execution_count": 15,
   "metadata": {},
   "outputs": [
    {
     "data": {
      "image/png": "[encoded data removed]",
      "text/plain": [
       "<Figure size 432x288 with 1 Axes>"
      ]
     },
     "metadata": {
      "needs_background": "light"
     },
     "output_type": "display_data"
    }
   ],
   "source": [
    "plt.plot(cumulativeRevenueA['date'], cumulativeRevenueA['revenue']/cumulativeRevenueA['orders'], label='A')\n",
    "plt.plot(cumulativeRevenueB['date'], cumulativeRevenueB['revenue']/cumulativeRevenueB['orders'], label='B')\n",
    "plt.title('График среднего чека по группам')\n",
    "plt.xlabel('Дата наблюдения')\n",
    "plt.ylabel('Размер среднего чека')\n",
    "plt.xticks(rotation=20)\n",
    "plt.legend();"
   ]
  },
  {
   "cell_type": "markdown",
   "metadata": {},
   "source": [
    "Средний чек становится равномерным ближе к концу теста. Возможно, в обе группы теста попали крупные заказы (резкий всплеск на графике). Нужно больше данных, чтобы прийти к реальному среднему чеку и установиться на его уровне."
   ]
  },
  {
   "cell_type": "markdown",
   "metadata": {},
   "source": [
    "Построим график относительного различия для среднего чека.  <a id=\"4.3\"></a> "
   ]
  },
  {
   "cell_type": "code",
   "execution_count": 16,
   "metadata": {},
   "outputs": [
    {
     "data": {
      "image/png": "[encoded data removed]",
      "text/plain": [
       "<Figure size 432x288 with 1 Axes>"
      ]
     },
     "metadata": {
      "needs_background": "light"
     },
     "output_type": "display_data"
    }
   ],
   "source": [
    "# собираем данные в одном датафрейме\n",
    "mergedCumulativeRevenue = cumulativeRevenueA.merge(cumulativeRevenueB, left_on='date', right_on='date', how='left', suffixes=['A', 'B'])\n",
    "\n",
    "# cтроим отношение средних чеков\n",
    "plt.plot(mergedCumulativeRevenue['date'], (mergedCumulativeRevenue['revenueB']/mergedCumulativeRevenue['ordersB'])/(mergedCumulativeRevenue['revenueA']/mergedCumulativeRevenue['ordersA'])-1)\n",
    "\n",
    "# добавляем ось X\n",
    "plt.axhline(y=0, color='black', linestyle='--')\n",
    "plt.xticks(rotation=20)\n",
    "plt.title('График относительного изменения кумулятивного среднего чека')\n",
    "plt.xlabel('Дата наблюдения')\n",
    "plt.ylabel('относительные значения');"
   ]
  },
  {
   "cell_type": "markdown",
   "metadata": {},
   "source": [
    "В нескольких точках график различия между сегментами резко «скачет». Скорее всего результат искажают \"выбросы\"."
   ]
  },
  {
   "cell_type": "markdown",
   "metadata": {},
   "source": [
    "Аналогично проанализируем график кумулятивной конверсии.  <a id=\"4.4\"></a> "
   ]
  },
  {
   "cell_type": "code",
   "execution_count": 17,
   "metadata": {},
   "outputs": [
    {
     "data": {
      "image/png": "[encoded data removed]",
      "text/plain": [
       "<Figure size 432x288 with 1 Axes>"
      ]
     },
     "metadata": {
      "needs_background": "light"
     },
     "output_type": "display_data"
    }
   ],
   "source": [
    "# считаем кумулятивную конверсию\n",
    "cumulativeData['conversion'] = cumulativeData['orders']/cumulativeData['visitors']\n",
    "\n",
    "# отделяем данные по группе A\n",
    "cumulativeDataA = cumulativeData[cumulativeData['group']=='A']\n",
    "\n",
    "# отделяем данные по группе B\n",
    "cumulativeDataB = cumulativeData[cumulativeData['group']=='B']\n",
    "\n",
    "# строим графики\n",
    "plt.plot(cumulativeDataA['date'], cumulativeDataA['conversion'], label='A')\n",
    "plt.plot(cumulativeDataB['date'], cumulativeDataB['conversion'], label='B')\n",
    "plt.legend()\n",
    "plt.xticks(rotation=20)\n",
    "# задаем масштаб осей\n",
    "plt.axis([dt.datetime(2019, 7, 31), dt.datetime(2019, 9, 1), 0.0275, 0.0375])\n",
    "plt.title('График кумулятивной конверсии по группам')\n",
    "plt.xlabel('Дата наблюдения')\n",
    "plt.ylabel('конверсия');\n"
   ]
  },
  {
   "cell_type": "markdown",
   "metadata": {},
   "source": [
    "В начале теста конверсия группы А была больше конверсии группы В,но постепенно сегмент В начинает приходить в норму и его конверсия становится больше конверсии группы А."
   ]
  },
  {
   "cell_type": "markdown",
   "metadata": {},
   "source": [
    "Построим график относительного различия кумулятивных конверсий.  <a id=\"4.5\"></a> "
   ]
  },
  {
   "cell_type": "code",
   "execution_count": 18,
   "metadata": {},
   "outputs": [
    {
     "data": {
      "image/png": "[encoded data removed]",
      "text/plain": [
       "<Figure size 432x288 with 1 Axes>"
      ]
     },
     "metadata": {
      "needs_background": "light"
     },
     "output_type": "display_data"
    }
   ],
   "source": [
    "mergedCumulativeConversions = cumulativeDataA[['date','conversion']].merge(cumulativeDataB[['date','conversion']], left_on='date', right_on='date', how='left', suffixes=['A', 'B'])\n",
    "\n",
    "plt.plot(mergedCumulativeConversions['date'], mergedCumulativeConversions['conversionB']/mergedCumulativeConversions['conversionA']-1, label=\"Относительный прирост конверсии группы B относительно группы A\")\n",
    "plt.legend()\n",
    "\n",
    "plt.axhline(y=0, color='black', linestyle='--')\n",
    "plt.axhline(y=-0.1, color='grey', linestyle='--')\n",
    "plt.axis([dt.datetime(2019, 7, 31), dt.datetime(2019, 9, 1), -0.5, 0.5])\n",
    "plt.xticks(rotation=20)\n",
    "plt.title('График относительного изменения кумулятивной конверсии')\n",
    "plt.xlabel('Дата наблюдения')\n",
    "plt.ylabel('относительные единицы');"
   ]
  },
  {
   "cell_type": "markdown",
   "metadata": {},
   "source": [
    "Почти изначально конверсия группы В лидирует относительно конверсии группы А. Она зафикисровалась примерно на уровне 20% прироста относительно группы А."
   ]
  },
  {
   "cell_type": "markdown",
   "metadata": {},
   "source": [
    "Построем точечный график количества заказов по пользователям. <a id=\"4.6\"></a> "
   ]
  },
  {
   "cell_type": "code",
   "execution_count": 19,
   "metadata": {},
   "outputs": [],
   "source": [
    "#создадим датафрейм с данными о числе заказов по пользователям\n",
    "ordersByUsers=(\n",
    "    orders.groupby('visitor_id', as_index=False)\n",
    "    .agg({'transaction_id': pd.Series.nunique})\n",
    "    .rename(columns={'transaction_id':'orders'})\n",
    "    .sort_values(by='orders',ascending=False)\n",
    ")"
   ]
  },
  {
   "cell_type": "code",
   "execution_count": 20,
   "metadata": {},
   "outputs": [
    {
     "data": {
      "image/png": "[encoded data removed]",
      "text/plain": [
       "<Figure size 432x288 with 1 Axes>"
      ]
     },
     "metadata": {
      "needs_background": "light"
     },
     "output_type": "display_data"
    }
   ],
   "source": [
    "# серия из чисел от 0 до количества наблюдений в ordersByUsers\n",
    "x_values = pd.Series(range(0,len(ordersByUsers)))\n",
    "\n",
    "plt.scatter(x_values, ordersByUsers['orders'])\n",
    "plt.title('Точечный график количества заказов по пользователям')\n",
    "plt.xlabel('Количество пользователей')\n",
    "plt.ylabel('Количество заказов');"
   ]
  },
  {
   "cell_type": "markdown",
   "metadata": {},
   "source": [
    "Пользователей, совершивших более 2 заказов очень мало. Но для того, чтобы определить, 2 заказа это много или мало, необходимо рассчитать перцентили заказов.  <a id=\"4.7\"></a> "
   ]
  },
  {
   "cell_type": "code",
   "execution_count": 21,
   "metadata": {},
   "outputs": [
    {
     "name": "stdout",
     "output_type": "stream",
     "text": [
      "[2. 4.]\n"
     ]
    }
   ],
   "source": [
    "# Метод np.percentile('column', [percentile1, percentile2, percentile3]) находит перцентили.\n",
    "print(np.percentile(ordersByUsers['orders'], [95, 99]))"
   ]
  },
  {
   "cell_type": "markdown",
   "metadata": {},
   "source": [
    "Не более 5% пользователей совершали более 2 заказов, не более 1 % пользователей - больше четырех заказов.  <a id=\"4.8\"></a> "
   ]
  },
  {
   "cell_type": "code",
   "execution_count": 22,
   "metadata": {},
   "outputs": [
    {
     "data": {
      "image/png": "[encoded data removed]",
      "text/plain": [
       "<Figure size 432x288 with 1 Axes>"
      ]
     },
     "metadata": {
      "needs_background": "light"
     },
     "output_type": "display_data"
    }
   ],
   "source": [
    "#Построем точечный график стоимостей заказов\n",
    "x_values = pd.Series(range(0, len(orders['revenue'])))\n",
    "plt.scatter(x_values, orders['revenue'])\n",
    "plt.axis([0, 1210, 0, 250000])\n",
    "plt.title('Точечный график стоимостей заказов')\n",
    "plt.xlabel('Количество пользователей')\n",
    "plt.ylabel('Стоимость заказов');"
   ]
  },
  {
   "cell_type": "markdown",
   "metadata": {},
   "source": [
    "Заказов стоимостью выше 50 тыс рублей почти нет, есть отдельные выбросы в районе 210 тыс рублей и заказ стоимостью выше 1,2 млн рублей. Посчитаем выборочные перцентили.  <a id=\"4.9\"></a> "
   ]
  },
  {
   "cell_type": "code",
   "execution_count": 23,
   "metadata": {},
   "outputs": [
    {
     "name": "stdout",
     "output_type": "stream",
     "text": [
      "[28000.  58233.2]\n"
     ]
    }
   ],
   "source": [
    "print(np.percentile(orders['revenue'],[95,99]))"
   ]
  },
  {
   "cell_type": "markdown",
   "metadata": {},
   "source": [
    "Не более, чем у 5% заказов стоимость выше 28 тысяч рублей. И не более чем у 1% чек выше 58 тысячи рыблей."
   ]
  },
  {
   "cell_type": "markdown",
   "metadata": {},
   "source": [
    "Посчитаем статистическую значимость различий в конверсии и среднем чеке между группами по «сырым» данным — без удаления аномальных пользователей.  <a id=\"4.10\"></a> "
   ]
  },
  {
   "cell_type": "code",
   "execution_count": 24,
   "metadata": {},
   "outputs": [
    {
     "data": {
      "text/html": [
       "<div>\n",
       "<style scoped>\n",
       "    .dataframe tbody tr th:only-of-type {\n",
       "        vertical-align: middle;\n",
       "    }\n",
       "\n",
       "    .dataframe tbody tr th {\n",
       "        vertical-align: top;\n",
       "    }\n",
       "\n",
       "    .dataframe thead th {\n",
       "        text-align: right;\n",
       "    }\n",
       "</style>\n",
       "<table border=\"1\" class=\"dataframe\">\n",
       "  <thead>\n",
       "    <tr style=\"text-align: right;\">\n",
       "      <th></th>\n",
       "      <th>date</th>\n",
       "      <th>ordersPerDateA</th>\n",
       "      <th>revenuePerDateA</th>\n",
       "      <th>ordersPerDateB</th>\n",
       "      <th>revenuePerDateB</th>\n",
       "      <th>ordersCummulativeA</th>\n",
       "      <th>revenueCummulativeA</th>\n",
       "      <th>ordersCummulativeB</th>\n",
       "      <th>revenueCummulativeB</th>\n",
       "      <th>visitorsPerDateA</th>\n",
       "      <th>visitorsPerDateB</th>\n",
       "      <th>visitorsCummulativeA</th>\n",
       "      <th>visitorsCummulativeB</th>\n",
       "    </tr>\n",
       "  </thead>\n",
       "  <tbody>\n",
       "    <tr>\n",
       "      <th>0</th>\n",
       "      <td>2019-08-01</td>\n",
       "      <td>24</td>\n",
       "      <td>148579</td>\n",
       "      <td>21</td>\n",
       "      <td>101217</td>\n",
       "      <td>24</td>\n",
       "      <td>148579</td>\n",
       "      <td>21</td>\n",
       "      <td>101217</td>\n",
       "      <td>719</td>\n",
       "      <td>713</td>\n",
       "      <td>719</td>\n",
       "      <td>713</td>\n",
       "    </tr>\n",
       "    <tr>\n",
       "      <th>1</th>\n",
       "      <td>2019-08-02</td>\n",
       "      <td>20</td>\n",
       "      <td>93822</td>\n",
       "      <td>24</td>\n",
       "      <td>165531</td>\n",
       "      <td>44</td>\n",
       "      <td>242401</td>\n",
       "      <td>45</td>\n",
       "      <td>266748</td>\n",
       "      <td>619</td>\n",
       "      <td>581</td>\n",
       "      <td>1338</td>\n",
       "      <td>1294</td>\n",
       "    </tr>\n",
       "    <tr>\n",
       "      <th>2</th>\n",
       "      <td>2019-08-03</td>\n",
       "      <td>24</td>\n",
       "      <td>112473</td>\n",
       "      <td>16</td>\n",
       "      <td>114248</td>\n",
       "      <td>68</td>\n",
       "      <td>354874</td>\n",
       "      <td>61</td>\n",
       "      <td>380996</td>\n",
       "      <td>507</td>\n",
       "      <td>509</td>\n",
       "      <td>1845</td>\n",
       "      <td>1803</td>\n",
       "    </tr>\n",
       "    <tr>\n",
       "      <th>3</th>\n",
       "      <td>2019-08-04</td>\n",
       "      <td>16</td>\n",
       "      <td>70825</td>\n",
       "      <td>17</td>\n",
       "      <td>108571</td>\n",
       "      <td>84</td>\n",
       "      <td>425699</td>\n",
       "      <td>78</td>\n",
       "      <td>489567</td>\n",
       "      <td>717</td>\n",
       "      <td>770</td>\n",
       "      <td>2562</td>\n",
       "      <td>2573</td>\n",
       "    </tr>\n",
       "    <tr>\n",
       "      <th>4</th>\n",
       "      <td>2019-08-05</td>\n",
       "      <td>25</td>\n",
       "      <td>124218</td>\n",
       "      <td>23</td>\n",
       "      <td>92428</td>\n",
       "      <td>109</td>\n",
       "      <td>549917</td>\n",
       "      <td>101</td>\n",
       "      <td>581995</td>\n",
       "      <td>756</td>\n",
       "      <td>707</td>\n",
       "      <td>3318</td>\n",
       "      <td>3280</td>\n",
       "    </tr>\n",
       "  </tbody>\n",
       "</table>\n",
       "</div>"
      ],
      "text/plain": [
       "        date  ordersPerDateA  revenuePerDateA  ordersPerDateB  \\\n",
       "0 2019-08-01              24           148579              21   \n",
       "1 2019-08-02              20            93822              24   \n",
       "2 2019-08-03              24           112473              16   \n",
       "3 2019-08-04              16            70825              17   \n",
       "4 2019-08-05              25           124218              23   \n",
       "\n",
       "   revenuePerDateB  ordersCummulativeA  revenueCummulativeA  \\\n",
       "0           101217                  24               148579   \n",
       "1           165531                  44               242401   \n",
       "2           114248                  68               354874   \n",
       "3           108571                  84               425699   \n",
       "4            92428                 109               549917   \n",
       "\n",
       "   ordersCummulativeB  revenueCummulativeB  visitorsPerDateA  \\\n",
       "0                  21               101217               719   \n",
       "1                  45               266748               619   \n",
       "2                  61               380996               507   \n",
       "3                  78               489567               717   \n",
       "4                 101               581995               756   \n",
       "\n",
       "   visitorsPerDateB  visitorsCummulativeA  visitorsCummulativeB  \n",
       "0               713                   719                   713  \n",
       "1               581                  1338                  1294  \n",
       "2               509                  1845                  1803  \n",
       "3               770                  2562                  2573  \n",
       "4               707                  3318                  3280  "
      ]
     },
     "metadata": {},
     "output_type": "display_data"
    }
   ],
   "source": [
    "#считаем количество пользователей в выбранную дату в группе A:\n",
    "visitorsADaily = visitors[visitors['group'] == 'A'][['date', 'visitors']] \n",
    "visitorsADaily.columns = ['date', 'visitorsPerDateA']\n",
    "\n",
    "# количество пользователей до выбранной даты включительно в группе A:\n",
    "visitorsACummulative = visitorsADaily.apply(\n",
    "    lambda x: visitorsADaily[visitorsADaily['date'] <= x['date']].agg(\n",
    "        {'date': 'max', 'visitorsPerDateA': 'sum'}\n",
    "    ),\n",
    "    axis=1,\n",
    ")\n",
    "visitorsACummulative.columns = ['date', 'visitorsCummulativeA']\n",
    "\n",
    "#количество пользователей в выбранную дату в группе B:\n",
    "visitorsBDaily = visitors[visitors['group'] == 'B'][['date', 'visitors']]\n",
    "visitorsBDaily.columns = ['date', 'visitorsPerDateB']\n",
    "\n",
    "# количество пользователей до выбранной даты включительно в группе B:\n",
    "visitorsBCummulative = visitorsBDaily.apply(\n",
    "    lambda x: visitorsBDaily[visitorsBDaily['date'] <= x['date']].agg(\n",
    "        {'date': 'max', 'visitorsPerDateB': 'sum'}\n",
    "    ),\n",
    "    axis=1,\n",
    ")\n",
    "visitorsBCummulative.columns = ['date', 'visitorsCummulativeB']\n",
    "\n",
    "#количество заказов и суммарная выручка в выбранную дату в группе A;\n",
    "ordersADaily = (\n",
    "    orders[orders['group'] == 'A'][['date', 'transaction_id', 'visitor_id', 'revenue']]\n",
    "    .groupby('date', as_index=False)\n",
    "    .agg({'transaction_id': pd.Series.nunique, 'revenue': 'sum'})\n",
    ")\n",
    "ordersADaily.columns = ['date', 'ordersPerDateA', 'revenuePerDateA']\n",
    "\n",
    "#суммарное число заказов и суммарная выручка до выбранной даты включительно в группе A;\n",
    "ordersACummulative = ordersADaily.apply(\n",
    "    lambda x: ordersADaily[ordersADaily['date'] <= x['date']].agg(\n",
    "        {'date': 'max', 'ordersPerDateA': 'sum', 'revenuePerDateA': 'sum'}\n",
    "    ),\n",
    "    axis=1,\n",
    ").sort_values(by=['date'])\n",
    "ordersACummulative.columns = [\n",
    "    'date',\n",
    "    'ordersCummulativeA',\n",
    "    'revenueCummulativeA',\n",
    "]\n",
    "\n",
    "#количество заказов и суммарная выручка в выбранную дату в группе В;\n",
    "ordersBDaily = (\n",
    "    orders[orders['group'] == 'B'][['date', 'transaction_id', 'visitor_id', 'revenue']]\n",
    "    .groupby('date', as_index=False)\n",
    "    .agg({'transaction_id': pd.Series.nunique, 'revenue': 'sum'})\n",
    ")\n",
    "ordersBDaily.columns = ['date', 'ordersPerDateB', 'revenuePerDateB']\n",
    "\n",
    "#суммарное число заказов и суммарная выручка до выбранной даты включительно в группе В;\n",
    "ordersBCummulative = ordersBDaily.apply(\n",
    "    lambda x: ordersBDaily[ordersBDaily['date'] <= x['date']].agg(\n",
    "        {'date': 'max', 'ordersPerDateB': 'sum', 'revenuePerDateB': 'sum'}\n",
    "    ),\n",
    "    axis=1,\n",
    ").sort_values(by=['date'])\n",
    "ordersBCummulative.columns = [\n",
    "    'date',\n",
    "    'ordersCummulativeB',\n",
    "    'revenueCummulativeB',\n",
    "]\n",
    "\n",
    "#объединяем все таблицы в одну:\n",
    "data = (\n",
    "    ordersADaily.merge(\n",
    "        ordersBDaily, left_on='date', right_on='date', how='left'\n",
    "    )\n",
    "    .merge(ordersACummulative, left_on='date', right_on='date', how='left')\n",
    "    .merge(ordersBCummulative, left_on='date', right_on='date', how='left')\n",
    "    .merge(visitorsADaily, left_on='date', right_on='date', how='left')\n",
    "    .merge(visitorsBDaily, left_on='date', right_on='date', how='left')\n",
    "    .merge(visitorsACummulative, left_on='date', right_on='date', how='left')\n",
    "    .merge(visitorsBCummulative, left_on='date', right_on='date', how='left')\n",
    ")\n",
    "\n",
    "display(data.head(5))"
   ]
  },
  {
   "cell_type": "code",
   "execution_count": 25,
   "metadata": {},
   "outputs": [],
   "source": [
    "#Создадим переменные ordersByUsersA и ordersByUsersB со столбцами ['userId', 'orders']. \n",
    "#В них для пользователей, которые заказывали хотя бы 1 раз, укажем число совершённых заказов.\n",
    "\n",
    "ordersByUsersA = (\n",
    "    orders[orders['group'] == 'A']\n",
    "    .groupby('visitor_id', as_index=False)\n",
    "    .agg({'transaction_id': pd.Series.nunique})\n",
    "    .rename(columns={'visitor_id':'userId', 'transaction_id':'orders'})\n",
    ")\n",
    "\n",
    "ordersByUsersB = (\n",
    "    orders[orders['group'] == 'B']\n",
    "    .groupby('visitor_id', as_index=False)\n",
    "    .agg({'transaction_id': pd.Series.nunique})\n",
    "    .rename(columns={'visitor_id':'userId', 'transaction_id':'orders'})\n",
    ")"
   ]
  },
  {
   "cell_type": "code",
   "execution_count": 26,
   "metadata": {},
   "outputs": [],
   "source": [
    "#Объявим переменные sampleA и sampleB, в которых пользователям из разных групп будет соответствовать количество заказов. \n",
    "#Тем, кто ничего не заказал, будут соответствовать нули. \n",
    "#Это нужно, чтобы подготовить выборки к проверке критерием Манна-Уитни.\n",
    "\n",
    "sampleA = pd.concat(\n",
    "    [\n",
    "        ordersByUsersA['orders'],\n",
    "        pd.Series(\n",
    "            0,\n",
    "            index=np.arange(\n",
    "                data['visitorsPerDateA'].sum() - len(ordersByUsersA['orders'])\n",
    "            ),\n",
    "            name='orders',\n",
    "        ),\n",
    "    ],\n",
    "    axis=0,\n",
    ")\n",
    "\n",
    "sampleB = pd.concat(\n",
    "    [\n",
    "        ordersByUsersB['orders'],\n",
    "        pd.Series(\n",
    "            0,\n",
    "            index=np.arange(\n",
    "                data['visitorsPerDateB'].sum() - len(ordersByUsersB['orders'])\n",
    "            ),\n",
    "            name='orders',\n",
    "        ),\n",
    "    ],\n",
    "    axis=0,\n",
    ")\n"
   ]
  },
  {
   "cell_type": "markdown",
   "metadata": {},
   "source": [
    "В sampleA сохранили выборку, где каждый элемент — число заказов определённого пользователя, в том числе ноль. Значит, число элементов sampleA — это количество пользователей, сумма всех элементов — количество заказов. Чтобы получить конверсию в группе, поделим сумму заказов на число пользователей — найдём среднее в выборке sampleA методом mean(). Аналогично найдём конверсию группы B: SampleB.mean().\n",
    "Выведем относительный прирост конверсии группы B: конверсия группы B / конверсия группы A - 1. Округлим до трёх знаков после запятой."
   ]
  },
  {
   "cell_type": "markdown",
   "metadata": {},
   "source": [
    "Формируем нулевую и альтернативную гипотезу.  \n",
    "Н0: Конверсия группы А не имеет статистически значимое различие от конверсии группы В  \n",
    "Н1: Конверсия группы А имеет статистически значимое различие от конверсии группы В"
   ]
  },
  {
   "cell_type": "code",
   "execution_count": 27,
   "metadata": {},
   "outputs": [
    {
     "name": "stdout",
     "output_type": "stream",
     "text": [
      "0.017\n",
      "0.138\n"
     ]
    }
   ],
   "source": [
    "print(\"{0:.3f}\".format(st.mannwhitneyu(sampleA, sampleB)[1]))\n",
    "\n",
    "print(\"{0:.3f}\".format(sampleB.mean() / sampleA.mean() - 1))"
   ]
  },
  {
   "cell_type": "markdown",
   "metadata": {},
   "source": [
    "Первое число — p-value = 0.008 меньше 0.05. Значит, нулевую гипотезу о том, что статистически значимых различий в конверсии между группами нет, отвергаем. Относительный выигрыш группы B равен 13.8% — второе число в выводе."
   ]
  },
  {
   "cell_type": "markdown",
   "metadata": {},
   "source": [
    "Формируем нулевую и альтернативную гипотезу.  \n",
    "Н0: Средний чек группы А не имеет статистически значимое различие от среднего чека группы В  \n",
    "Н1: Средний чек группы А имеет статистически значимое различие от среднего чека группы В"
   ]
  },
  {
   "cell_type": "code",
   "execution_count": 28,
   "metadata": {},
   "outputs": [
    {
     "name": "stdout",
     "output_type": "stream",
     "text": [
      "0.729\n",
      "0.259\n"
     ]
    }
   ],
   "source": [
    "#аналогично рассчитаем статистическую значимость различий в среднем чеке заказа между группами по «сырым» данным\n",
    "\n",
    "print('{0:.3f}'.format(st.mannwhitneyu(orders[orders['group']=='A']['revenue'], orders[orders['group']=='B']['revenue'])[1]))\n",
    "print('{0:.3f}'.format(orders[orders['group']=='B']['revenue'].mean()/orders[orders['group']=='A']['revenue'].mean()-1))"
   ]
  },
  {
   "cell_type": "markdown",
   "metadata": {},
   "source": [
    "P-value значительно больше 0.05. Значит, причин отвергать нулевую гипотезу и считать, что в среднем чеке есть различия, нет. Однако, средний чек группы B значительно выше среднего чека группы A (на 25,9%)."
   ]
  },
  {
   "cell_type": "markdown",
   "metadata": {},
   "source": [
    "Далее проведем аналогичные расчеты статистической значимости по \"очищенным\" данным. Исходя из расчета выборочных перцентилей, проведем срез данных:с числом заказов больше 2 — usersWithManyOrders и пользователей, совершивших заказы дороже 30 000 — usersWithExpensiveOrders. Объединим их в таблице abnormalUsers.  <a id=\"4.11\"></a> "
   ]
  },
  {
   "cell_type": "code",
   "execution_count": 29,
   "metadata": {},
   "outputs": [
    {
     "name": "stdout",
     "output_type": "stream",
     "text": [
      "Всего (68,) аномальных пользователей\n"
     ]
    }
   ],
   "source": [
    "usersWithManyOrders = pd.concat(\n",
    "    [\n",
    "        ordersByUsersA[ordersByUsersA['orders'] > 2]['userId'],\n",
    "        ordersByUsersB[ordersByUsersB['orders'] > 2]['userId'],\n",
    "    ],\n",
    "    axis=0,\n",
    ")\n",
    "usersWithExpensiveOrders = orders[orders['revenue'] > 30000]['visitor_id']\n",
    "abnormalUsers = (\n",
    "    pd.concat([usersWithManyOrders, usersWithExpensiveOrders], axis=0)\n",
    "    .drop_duplicates()\n",
    "    .sort_values()\n",
    ")\n",
    "\n",
    "print(f'Всего {abnormalUsers.shape} аномальных пользователей')"
   ]
  },
  {
   "cell_type": "code",
   "execution_count": 30,
   "metadata": {},
   "outputs": [],
   "source": [
    "sampleAFiltered = pd.concat(\n",
    "    [\n",
    "        ordersByUsersA[\n",
    "            np.logical_not(ordersByUsersA['userId'].isin(abnormalUsers))\n",
    "        ]['orders'],\n",
    "        pd.Series(\n",
    "            0,\n",
    "            index=np.arange(\n",
    "                data['visitorsPerDateA'].sum() - len(ordersByUsersA['orders'])\n",
    "            ),\n",
    "            name='orders',\n",
    "        ),\n",
    "    ],\n",
    "    axis=0,\n",
    ")\n",
    "\n",
    "sampleBFiltered = pd.concat(\n",
    "    [\n",
    "        ordersByUsersB[\n",
    "            np.logical_not(ordersByUsersB['userId'].isin(abnormalUsers))\n",
    "        ]['orders'],\n",
    "        pd.Series(\n",
    "            0,\n",
    "            index=np.arange(\n",
    "                data['visitorsPerDateB'].sum() - len(ordersByUsersB['orders'])\n",
    "            ),\n",
    "            name='orders',\n",
    "        ),\n",
    "    ],\n",
    "    axis=0,\n",
    ")"
   ]
  },
  {
   "cell_type": "markdown",
   "metadata": {},
   "source": [
    "Формируем нулевую и альтернативную гипотезу.  \n",
    "Н0: Конверсия группы А не имеет статистически значимое различие от конверсии группы В  \n",
    "Н1: Конверсия группы А имеет статистически значимое различие от конверсии группы В"
   ]
  },
  {
   "cell_type": "code",
   "execution_count": 31,
   "metadata": {},
   "outputs": [
    {
     "name": "stdout",
     "output_type": "stream",
     "text": [
      "0.013\n",
      "0.172\n"
     ]
    }
   ],
   "source": [
    "print('{0:.3f}'.format(st.mannwhitneyu(sampleAFiltered, sampleBFiltered)[1]))\n",
    "print('{0:.3f}'.format(sampleBFiltered.mean()/sampleAFiltered.mean()-1))"
   ]
  },
  {
   "cell_type": "markdown",
   "metadata": {},
   "source": [
    "Результаты по конверсии практически не изменились. Нулевую гипотезу о том, что статистически значимых различий в конверсии между группами нет, также отвергаем (p-value<0.05). Относительный выигрыш группы B равен 17.2% "
   ]
  },
  {
   "cell_type": "markdown",
   "metadata": {},
   "source": [
    "Формируем нулевую и альтернативную гипотезу.  \n",
    "Н0: Средний чек группы А не имеет статистически значимое различие от среднего чека группы В  \n",
    "Н1: Средний чек группы А имеет статистически значимое различие от среднего чека группы В"
   ]
  },
  {
   "cell_type": "code",
   "execution_count": 32,
   "metadata": {},
   "outputs": [
    {
     "name": "stdout",
     "output_type": "stream",
     "text": [
      "0.720\n",
      "-0.023\n"
     ]
    }
   ],
   "source": [
    "#посчитаем по среднему чеку:\n",
    "print(\n",
    "    '{0:.3f}'.format(\n",
    "        st.mannwhitneyu(\n",
    "            orders[\n",
    "                np.logical_and(\n",
    "                    orders['group'] == 'A',\n",
    "                    np.logical_not(orders['visitor_id'].isin(abnormalUsers)),\n",
    "                )\n",
    "            ]['revenue'],\n",
    "            orders[\n",
    "                np.logical_and(\n",
    "                    orders['group'] == 'B',\n",
    "                    np.logical_not(orders['visitor_id'].isin(abnormalUsers)),\n",
    "                )\n",
    "            ]['revenue'],\n",
    "        )[1]\n",
    "    )\n",
    ")\n",
    "\n",
    "print(\n",
    "    \"{0:.3f}\".format(\n",
    "        orders[\n",
    "            np.logical_and(\n",
    "                orders['group'] == 'B',\n",
    "                np.logical_not(orders['visitor_id'].isin(abnormalUsers)),\n",
    "            )\n",
    "        ]['revenue'].mean()\n",
    "        / orders[\n",
    "            np.logical_and(\n",
    "                orders['group'] == 'A',\n",
    "                np.logical_not(orders['visitor_id'].isin(abnormalUsers)),\n",
    "            )\n",
    "        ]['revenue'].mean()\n",
    "        - 1\n",
    "    )\n",
    ")"
   ]
  },
  {
   "cell_type": "markdown",
   "metadata": {},
   "source": [
    "Статистическая разница между двумя группами по среднему чеку также не выявлена. Но разница между сегментами резко изменилась в противоположную сторону: средний чек группы В ниже на 2,3%, чем в группе А."
   ]
  },
  {
   "cell_type": "markdown",
   "metadata": {},
   "source": [
    "## Выводы и решение по результатам А/В теста  <a id=\"5\"></a> "
   ]
  },
  {
   "cell_type": "markdown",
   "metadata": {},
   "source": [
    "- Есть статистически значимое различие по конверсии между группами и по «сырым», и по данным после фильтрации аномалий. Относительный выигрыш группы В - 17%.\n",
    "- Статистическая разница между двумя группами по среднему чеку не выявлена.\n",
    "- График различия конверсии между группами сообщает, что результаты группы B превосходят результаты группы A и видна тенденция роста. \n",
    "- [График относительного изменения кумулятивного среднего чека](#4.3) неоднороден из-за выбросов, по нему нельзя сделать корректные выводы.\n",
    "- По [графику кумулятивной выручки по группам](#4.1) видно, что выручка группы В превышает выручку группы А на протяжении всего теста.    \n",
    "\n",
    "**Исходя из обнаруженных фактов, тест следует остановить и признать его успешным. Победа группы В.**"
   ]
  }
 ],
 "metadata": {
  "ExecuteTimeLog": [
   {
    "duration": 1473,
    "start_time": "2022-02-07T15:40:00.752Z"
   },
   {
    "duration": 6,
    "start_time": "2022-02-07T15:40:02.227Z"
   },
   {
    "duration": 316,
    "start_time": "2022-02-07T15:40:03.454Z"
   },
   {
    "duration": 44,
    "start_time": "2022-02-07T15:40:05.295Z"
   },
   {
    "duration": 284,
    "start_time": "2022-02-07T15:43:01.465Z"
   },
   {
    "duration": 1281,
    "start_time": "2022-02-07T15:43:45.119Z"
   },
   {
    "duration": 4,
    "start_time": "2022-02-07T15:43:46.402Z"
   },
   {
    "duration": 142,
    "start_time": "2022-02-07T15:43:46.408Z"
   },
   {
    "duration": 38,
    "start_time": "2022-02-07T15:43:46.551Z"
   },
   {
    "duration": 5,
    "start_time": "2022-02-07T15:43:46.591Z"
   },
   {
    "duration": 5,
    "start_time": "2022-02-07T15:58:22.431Z"
   },
   {
    "duration": 13,
    "start_time": "2022-02-07T15:58:39.874Z"
   },
   {
    "duration": 11,
    "start_time": "2022-02-07T16:05:12.787Z"
   },
   {
    "duration": 10,
    "start_time": "2022-02-07T16:07:00.272Z"
   },
   {
    "duration": 10,
    "start_time": "2022-02-07T16:11:49.077Z"
   },
   {
    "duration": 9,
    "start_time": "2022-02-07T16:12:35.278Z"
   },
   {
    "duration": 6,
    "start_time": "2022-02-07T16:24:55.017Z"
   },
   {
    "duration": 4877,
    "start_time": "2022-02-07T16:35:59.915Z"
   },
   {
    "duration": -19,
    "start_time": "2022-02-07T16:36:04.813Z"
   },
   {
    "duration": 189,
    "start_time": "2022-02-07T16:37:02.004Z"
   },
   {
    "duration": 5188,
    "start_time": "2022-02-07T16:37:53.312Z"
   },
   {
    "duration": 1367,
    "start_time": "2022-02-07T16:38:44.654Z"
   },
   {
    "duration": 4,
    "start_time": "2022-02-07T16:38:46.024Z"
   },
   {
    "duration": 282,
    "start_time": "2022-02-07T16:38:46.030Z"
   },
   {
    "duration": 39,
    "start_time": "2022-02-07T16:38:46.313Z"
   },
   {
    "duration": 6,
    "start_time": "2022-02-07T16:38:46.353Z"
   },
   {
    "duration": 11,
    "start_time": "2022-02-07T16:38:46.361Z"
   },
   {
    "duration": 11,
    "start_time": "2022-02-07T16:38:46.373Z"
   },
   {
    "duration": 10,
    "start_time": "2022-02-07T16:38:46.386Z"
   },
   {
    "duration": 8,
    "start_time": "2022-02-07T16:38:46.397Z"
   },
   {
    "duration": 5198,
    "start_time": "2022-02-07T16:38:46.407Z"
   },
   {
    "duration": -44,
    "start_time": "2022-02-07T16:38:51.651Z"
   },
   {
    "duration": -53,
    "start_time": "2022-02-07T16:38:51.661Z"
   },
   {
    "duration": 4759,
    "start_time": "2022-02-07T16:39:52.522Z"
   },
   {
    "duration": 13,
    "start_time": "2022-02-07T16:47:08.159Z"
   },
   {
    "duration": 180,
    "start_time": "2022-02-07T16:48:45.820Z"
   },
   {
    "duration": 144,
    "start_time": "2022-02-07T16:49:55.297Z"
   },
   {
    "duration": 229,
    "start_time": "2022-02-07T16:50:04.215Z"
   },
   {
    "duration": 203,
    "start_time": "2022-02-07T16:51:28.522Z"
   },
   {
    "duration": 195,
    "start_time": "2022-02-07T16:51:52.983Z"
   },
   {
    "duration": 203,
    "start_time": "2022-02-07T16:54:27.618Z"
   },
   {
    "duration": 213,
    "start_time": "2022-02-07T16:54:47.672Z"
   },
   {
    "duration": 1338,
    "start_time": "2022-02-07T17:09:53.530Z"
   },
   {
    "duration": 5,
    "start_time": "2022-02-07T17:09:54.870Z"
   },
   {
    "duration": 134,
    "start_time": "2022-02-07T17:09:54.877Z"
   },
   {
    "duration": 41,
    "start_time": "2022-02-07T17:09:55.013Z"
   },
   {
    "duration": 7,
    "start_time": "2022-02-07T17:09:55.056Z"
   },
   {
    "duration": 22,
    "start_time": "2022-02-07T17:09:55.064Z"
   },
   {
    "duration": 12,
    "start_time": "2022-02-07T17:09:55.088Z"
   },
   {
    "duration": 12,
    "start_time": "2022-02-07T17:09:55.103Z"
   },
   {
    "duration": 15,
    "start_time": "2022-02-07T17:09:55.117Z"
   },
   {
    "duration": 20,
    "start_time": "2022-02-07T17:09:55.133Z"
   },
   {
    "duration": 185,
    "start_time": "2022-02-07T17:09:55.154Z"
   },
   {
    "duration": 166,
    "start_time": "2022-02-07T17:09:55.341Z"
   },
   {
    "duration": 225,
    "start_time": "2022-02-07T17:09:55.509Z"
   },
   {
    "duration": 190,
    "start_time": "2022-02-07T17:14:46.890Z"
   },
   {
    "duration": 198,
    "start_time": "2022-02-07T17:15:44.616Z"
   },
   {
    "duration": 304,
    "start_time": "2022-02-07T17:22:16.363Z"
   },
   {
    "duration": 297,
    "start_time": "2022-02-07T17:33:11.393Z"
   },
   {
    "duration": 9,
    "start_time": "2022-02-07T17:41:08.460Z"
   },
   {
    "duration": 181,
    "start_time": "2022-02-07T17:42:18.674Z"
   },
   {
    "duration": 193,
    "start_time": "2022-02-07T17:42:46.206Z"
   },
   {
    "duration": 558,
    "start_time": "2022-02-07T17:44:03.315Z"
   },
   {
    "duration": 1323,
    "start_time": "2022-02-07T17:44:41.297Z"
   },
   {
    "duration": 5,
    "start_time": "2022-02-07T17:44:42.622Z"
   },
   {
    "duration": 292,
    "start_time": "2022-02-07T17:44:42.629Z"
   },
   {
    "duration": 38,
    "start_time": "2022-02-07T17:44:42.923Z"
   },
   {
    "duration": 6,
    "start_time": "2022-02-07T17:44:42.963Z"
   },
   {
    "duration": 9,
    "start_time": "2022-02-07T17:44:42.970Z"
   },
   {
    "duration": 13,
    "start_time": "2022-02-07T17:44:42.981Z"
   },
   {
    "duration": 10,
    "start_time": "2022-02-07T17:44:42.996Z"
   },
   {
    "duration": 20,
    "start_time": "2022-02-07T17:44:43.008Z"
   },
   {
    "duration": 13,
    "start_time": "2022-02-07T17:44:43.030Z"
   },
   {
    "duration": 191,
    "start_time": "2022-02-07T17:44:43.045Z"
   },
   {
    "duration": 155,
    "start_time": "2022-02-07T17:44:43.238Z"
   },
   {
    "duration": 222,
    "start_time": "2022-02-07T17:44:43.395Z"
   },
   {
    "duration": 199,
    "start_time": "2022-02-07T17:44:43.619Z"
   },
   {
    "duration": 304,
    "start_time": "2022-02-07T17:44:43.820Z"
   },
   {
    "duration": 190,
    "start_time": "2022-02-07T17:44:44.126Z"
   },
   {
    "duration": 190,
    "start_time": "2022-02-07T17:45:58.562Z"
   },
   {
    "duration": 301,
    "start_time": "2022-02-07T17:50:24.967Z"
   },
   {
    "duration": 334,
    "start_time": "2022-02-07T17:54:12.949Z"
   },
   {
    "duration": 400,
    "start_time": "2022-02-07T17:54:24.897Z"
   },
   {
    "duration": 302,
    "start_time": "2022-02-07T17:56:07.704Z"
   },
   {
    "duration": 129,
    "start_time": "2022-02-07T18:06:21.251Z"
   },
   {
    "duration": 280,
    "start_time": "2022-02-07T18:08:36.432Z"
   },
   {
    "duration": 316,
    "start_time": "2022-02-07T18:10:13.258Z"
   },
   {
    "duration": 5,
    "start_time": "2022-02-07T18:22:40.859Z"
   },
   {
    "duration": 298,
    "start_time": "2022-02-07T18:28:25.375Z"
   },
   {
    "duration": 261,
    "start_time": "2022-02-07T18:28:50.910Z"
   },
   {
    "duration": 5,
    "start_time": "2022-02-07T18:32:07.079Z"
   },
   {
    "duration": 1442,
    "start_time": "2022-02-08T05:06:11.184Z"
   },
   {
    "duration": 5,
    "start_time": "2022-02-08T05:06:12.628Z"
   },
   {
    "duration": 364,
    "start_time": "2022-02-08T05:06:12.635Z"
   },
   {
    "duration": 40,
    "start_time": "2022-02-08T05:06:13.001Z"
   },
   {
    "duration": 9,
    "start_time": "2022-02-08T05:06:13.043Z"
   },
   {
    "duration": 8,
    "start_time": "2022-02-08T05:06:13.054Z"
   },
   {
    "duration": 13,
    "start_time": "2022-02-08T05:06:13.063Z"
   },
   {
    "duration": 51,
    "start_time": "2022-02-08T05:06:13.078Z"
   },
   {
    "duration": 5,
    "start_time": "2022-02-08T05:06:13.131Z"
   },
   {
    "duration": 14,
    "start_time": "2022-02-08T05:06:13.137Z"
   },
   {
    "duration": 210,
    "start_time": "2022-02-08T05:06:13.153Z"
   },
   {
    "duration": 169,
    "start_time": "2022-02-08T05:06:13.364Z"
   },
   {
    "duration": 248,
    "start_time": "2022-02-08T05:06:13.534Z"
   },
   {
    "duration": 230,
    "start_time": "2022-02-08T05:06:13.784Z"
   },
   {
    "duration": 357,
    "start_time": "2022-02-08T05:06:14.015Z"
   },
   {
    "duration": 231,
    "start_time": "2022-02-08T05:06:14.374Z"
   },
   {
    "duration": 360,
    "start_time": "2022-02-08T05:06:14.606Z"
   },
   {
    "duration": 156,
    "start_time": "2022-02-08T05:06:14.968Z"
   },
   {
    "duration": 310,
    "start_time": "2022-02-08T05:06:15.126Z"
   },
   {
    "duration": 4,
    "start_time": "2022-02-08T05:06:15.438Z"
   },
   {
    "duration": 322,
    "start_time": "2022-02-08T05:06:15.443Z"
   },
   {
    "duration": 3,
    "start_time": "2022-02-08T05:06:15.767Z"
   },
   {
    "duration": 438,
    "start_time": "2022-02-08T05:24:00.790Z"
   },
   {
    "duration": 262,
    "start_time": "2022-02-08T05:24:46.374Z"
   },
   {
    "duration": 262,
    "start_time": "2022-02-08T05:24:55.617Z"
   },
   {
    "duration": 103,
    "start_time": "2022-02-08T05:31:07.435Z"
   },
   {
    "duration": 8,
    "start_time": "2022-02-08T05:31:14.976Z"
   },
   {
    "duration": 6,
    "start_time": "2022-02-08T05:37:15.502Z"
   },
   {
    "duration": 198,
    "start_time": "2022-02-08T05:42:28.485Z"
   },
   {
    "duration": 9,
    "start_time": "2022-02-08T05:42:41.979Z"
   },
   {
    "duration": 10,
    "start_time": "2022-02-08T05:47:17.569Z"
   },
   {
    "duration": 4710,
    "start_time": "2022-02-08T05:55:26.869Z"
   },
   {
    "duration": 1270,
    "start_time": "2022-02-08T05:56:45.028Z"
   },
   {
    "duration": 6,
    "start_time": "2022-02-08T05:56:46.300Z"
   },
   {
    "duration": 115,
    "start_time": "2022-02-08T05:56:46.308Z"
   },
   {
    "duration": 41,
    "start_time": "2022-02-08T05:56:46.425Z"
   },
   {
    "duration": 7,
    "start_time": "2022-02-08T05:56:46.468Z"
   },
   {
    "duration": 8,
    "start_time": "2022-02-08T05:56:46.476Z"
   },
   {
    "duration": 32,
    "start_time": "2022-02-08T05:56:46.486Z"
   },
   {
    "duration": 10,
    "start_time": "2022-02-08T05:56:46.520Z"
   },
   {
    "duration": 6,
    "start_time": "2022-02-08T05:56:46.531Z"
   },
   {
    "duration": 11,
    "start_time": "2022-02-08T05:56:46.538Z"
   },
   {
    "duration": 199,
    "start_time": "2022-02-08T05:56:46.550Z"
   },
   {
    "duration": 167,
    "start_time": "2022-02-08T05:56:46.750Z"
   },
   {
    "duration": 223,
    "start_time": "2022-02-08T05:56:46.919Z"
   },
   {
    "duration": 209,
    "start_time": "2022-02-08T05:56:47.144Z"
   },
   {
    "duration": 285,
    "start_time": "2022-02-08T05:56:47.355Z"
   },
   {
    "duration": 206,
    "start_time": "2022-02-08T05:56:47.641Z"
   },
   {
    "duration": 309,
    "start_time": "2022-02-08T05:56:47.849Z"
   },
   {
    "duration": 117,
    "start_time": "2022-02-08T05:56:48.159Z"
   },
   {
    "duration": 312,
    "start_time": "2022-02-08T05:56:48.278Z"
   },
   {
    "duration": 3,
    "start_time": "2022-02-08T05:56:48.592Z"
   },
   {
    "duration": 323,
    "start_time": "2022-02-08T05:56:48.597Z"
   },
   {
    "duration": 4,
    "start_time": "2022-02-08T05:56:48.922Z"
   },
   {
    "duration": 272,
    "start_time": "2022-02-08T05:56:48.928Z"
   },
   {
    "duration": 120,
    "start_time": "2022-02-08T05:56:49.201Z"
   },
   {
    "duration": 6,
    "start_time": "2022-02-08T05:56:49.322Z"
   },
   {
    "duration": 9,
    "start_time": "2022-02-08T05:56:49.330Z"
   },
   {
    "duration": 8,
    "start_time": "2022-02-08T05:56:49.341Z"
   },
   {
    "duration": 4765,
    "start_time": "2022-02-08T05:56:49.351Z"
   },
   {
    "duration": 9,
    "start_time": "2022-02-08T05:57:13.728Z"
   },
   {
    "duration": 10,
    "start_time": "2022-02-08T05:58:23.317Z"
   },
   {
    "duration": 9,
    "start_time": "2022-02-08T05:59:22.388Z"
   },
   {
    "duration": 9,
    "start_time": "2022-02-08T06:00:40.782Z"
   },
   {
    "duration": 9,
    "start_time": "2022-02-08T06:04:44.603Z"
   },
   {
    "duration": 8,
    "start_time": "2022-02-08T06:05:05.888Z"
   },
   {
    "duration": 199,
    "start_time": "2022-02-08T06:09:47.054Z"
   },
   {
    "duration": 14,
    "start_time": "2022-02-08T06:10:04.964Z"
   },
   {
    "duration": 1432,
    "start_time": "2022-02-08T06:28:11.223Z"
   },
   {
    "duration": 5,
    "start_time": "2022-02-08T06:28:12.657Z"
   },
   {
    "duration": 245,
    "start_time": "2022-02-08T06:28:12.664Z"
   },
   {
    "duration": 44,
    "start_time": "2022-02-08T06:28:12.911Z"
   },
   {
    "duration": 6,
    "start_time": "2022-02-08T06:28:12.957Z"
   },
   {
    "duration": 6,
    "start_time": "2022-02-08T06:28:12.965Z"
   },
   {
    "duration": 44,
    "start_time": "2022-02-08T06:28:12.972Z"
   },
   {
    "duration": 10,
    "start_time": "2022-02-08T06:28:13.019Z"
   },
   {
    "duration": 7,
    "start_time": "2022-02-08T06:28:13.031Z"
   },
   {
    "duration": 12,
    "start_time": "2022-02-08T06:28:13.039Z"
   },
   {
    "duration": 219,
    "start_time": "2022-02-08T06:28:13.053Z"
   },
   {
    "duration": 165,
    "start_time": "2022-02-08T06:28:13.274Z"
   },
   {
    "duration": 244,
    "start_time": "2022-02-08T06:28:13.441Z"
   },
   {
    "duration": 231,
    "start_time": "2022-02-08T06:28:13.687Z"
   },
   {
    "duration": 338,
    "start_time": "2022-02-08T06:28:13.920Z"
   },
   {
    "duration": 230,
    "start_time": "2022-02-08T06:28:14.260Z"
   },
   {
    "duration": 360,
    "start_time": "2022-02-08T06:28:14.492Z"
   },
   {
    "duration": 124,
    "start_time": "2022-02-08T06:28:14.854Z"
   },
   {
    "duration": 348,
    "start_time": "2022-02-08T06:28:14.979Z"
   },
   {
    "duration": 4,
    "start_time": "2022-02-08T06:28:15.329Z"
   },
   {
    "duration": 319,
    "start_time": "2022-02-08T06:28:15.335Z"
   },
   {
    "duration": 4,
    "start_time": "2022-02-08T06:28:15.655Z"
   },
   {
    "duration": 281,
    "start_time": "2022-02-08T06:28:15.662Z"
   },
   {
    "duration": 126,
    "start_time": "2022-02-08T06:28:15.945Z"
   },
   {
    "duration": 6,
    "start_time": "2022-02-08T06:28:16.073Z"
   },
   {
    "duration": 8,
    "start_time": "2022-02-08T06:28:16.081Z"
   },
   {
    "duration": 26,
    "start_time": "2022-02-08T06:28:16.091Z"
   },
   {
    "duration": 8,
    "start_time": "2022-02-08T06:28:16.119Z"
   },
   {
    "duration": 8,
    "start_time": "2022-02-08T06:28:16.129Z"
   },
   {
    "duration": 8,
    "start_time": "2022-02-08T06:28:16.138Z"
   },
   {
    "duration": 13,
    "start_time": "2022-02-08T06:28:16.147Z"
   },
   {
    "duration": 1017,
    "start_time": "2022-02-08T06:34:06.580Z"
   },
   {
    "duration": 6,
    "start_time": "2022-02-08T06:34:07.599Z"
   },
   {
    "duration": 129,
    "start_time": "2022-02-08T06:34:07.613Z"
   },
   {
    "duration": 41,
    "start_time": "2022-02-08T06:34:07.744Z"
   },
   {
    "duration": 7,
    "start_time": "2022-02-08T06:34:07.786Z"
   },
   {
    "duration": 5,
    "start_time": "2022-02-08T06:34:07.795Z"
   },
   {
    "duration": 16,
    "start_time": "2022-02-08T06:34:07.802Z"
   },
   {
    "duration": 11,
    "start_time": "2022-02-08T06:34:07.821Z"
   },
   {
    "duration": 6,
    "start_time": "2022-02-08T06:34:07.834Z"
   },
   {
    "duration": 13,
    "start_time": "2022-02-08T06:34:07.841Z"
   },
   {
    "duration": 222,
    "start_time": "2022-02-08T06:34:07.855Z"
   },
   {
    "duration": 158,
    "start_time": "2022-02-08T06:34:08.079Z"
   },
   {
    "duration": 228,
    "start_time": "2022-02-08T06:34:08.239Z"
   },
   {
    "duration": 230,
    "start_time": "2022-02-08T06:34:08.468Z"
   },
   {
    "duration": 345,
    "start_time": "2022-02-08T06:34:08.700Z"
   },
   {
    "duration": 222,
    "start_time": "2022-02-08T06:34:09.047Z"
   },
   {
    "duration": 323,
    "start_time": "2022-02-08T06:34:09.271Z"
   },
   {
    "duration": 103,
    "start_time": "2022-02-08T06:34:09.596Z"
   },
   {
    "duration": 314,
    "start_time": "2022-02-08T06:34:09.700Z"
   },
   {
    "duration": 5,
    "start_time": "2022-02-08T06:34:10.016Z"
   },
   {
    "duration": 319,
    "start_time": "2022-02-08T06:34:10.022Z"
   },
   {
    "duration": 4,
    "start_time": "2022-02-08T06:34:10.343Z"
   },
   {
    "duration": 282,
    "start_time": "2022-02-08T06:34:10.350Z"
   },
   {
    "duration": 134,
    "start_time": "2022-02-08T06:34:10.634Z"
   },
   {
    "duration": 6,
    "start_time": "2022-02-08T06:34:10.770Z"
   },
   {
    "duration": 8,
    "start_time": "2022-02-08T06:34:10.778Z"
   },
   {
    "duration": 28,
    "start_time": "2022-02-08T06:34:10.788Z"
   },
   {
    "duration": 9,
    "start_time": "2022-02-08T06:34:10.817Z"
   },
   {
    "duration": 7,
    "start_time": "2022-02-08T06:34:10.828Z"
   },
   {
    "duration": 7,
    "start_time": "2022-02-08T06:34:10.836Z"
   },
   {
    "duration": 13,
    "start_time": "2022-02-08T06:34:10.845Z"
   },
   {
    "duration": 1008,
    "start_time": "2022-02-08T06:35:04.499Z"
   },
   {
    "duration": 5,
    "start_time": "2022-02-08T06:35:05.509Z"
   },
   {
    "duration": 123,
    "start_time": "2022-02-08T06:35:05.515Z"
   },
   {
    "duration": 40,
    "start_time": "2022-02-08T06:35:05.640Z"
   },
   {
    "duration": 6,
    "start_time": "2022-02-08T06:35:05.681Z"
   },
   {
    "duration": 8,
    "start_time": "2022-02-08T06:35:05.689Z"
   },
   {
    "duration": 17,
    "start_time": "2022-02-08T06:35:05.698Z"
   },
   {
    "duration": 10,
    "start_time": "2022-02-08T06:35:05.718Z"
   },
   {
    "duration": 6,
    "start_time": "2022-02-08T06:35:05.730Z"
   },
   {
    "duration": 13,
    "start_time": "2022-02-08T06:35:05.738Z"
   },
   {
    "duration": 217,
    "start_time": "2022-02-08T06:35:05.752Z"
   },
   {
    "duration": 165,
    "start_time": "2022-02-08T06:35:05.971Z"
   },
   {
    "duration": 232,
    "start_time": "2022-02-08T06:35:06.138Z"
   },
   {
    "duration": 228,
    "start_time": "2022-02-08T06:35:06.371Z"
   },
   {
    "duration": 346,
    "start_time": "2022-02-08T06:35:06.601Z"
   },
   {
    "duration": 223,
    "start_time": "2022-02-08T06:35:06.949Z"
   },
   {
    "duration": 364,
    "start_time": "2022-02-08T06:35:07.174Z"
   },
   {
    "duration": 127,
    "start_time": "2022-02-08T06:35:07.540Z"
   },
   {
    "duration": 283,
    "start_time": "2022-02-08T06:35:07.669Z"
   },
   {
    "duration": 4,
    "start_time": "2022-02-08T06:35:07.954Z"
   },
   {
    "duration": 300,
    "start_time": "2022-02-08T06:35:07.960Z"
   },
   {
    "duration": 4,
    "start_time": "2022-02-08T06:35:08.262Z"
   },
   {
    "duration": 277,
    "start_time": "2022-02-08T06:35:08.269Z"
   },
   {
    "duration": 126,
    "start_time": "2022-02-08T06:35:08.548Z"
   },
   {
    "duration": 7,
    "start_time": "2022-02-08T06:35:08.676Z"
   },
   {
    "duration": 9,
    "start_time": "2022-02-08T06:35:08.684Z"
   },
   {
    "duration": 27,
    "start_time": "2022-02-08T06:35:08.694Z"
   },
   {
    "duration": 8,
    "start_time": "2022-02-08T06:35:08.723Z"
   },
   {
    "duration": 8,
    "start_time": "2022-02-08T06:35:08.733Z"
   },
   {
    "duration": 8,
    "start_time": "2022-02-08T06:35:08.743Z"
   },
   {
    "duration": 14,
    "start_time": "2022-02-08T06:35:08.753Z"
   },
   {
    "duration": 220,
    "start_time": "2022-02-08T06:54:22.458Z"
   },
   {
    "duration": 77,
    "start_time": "2022-02-08T06:54:32.555Z"
   },
   {
    "duration": 1096,
    "start_time": "2022-02-08T06:54:32.691Z"
   },
   {
    "duration": 5,
    "start_time": "2022-02-08T06:54:33.788Z"
   },
   {
    "duration": 151,
    "start_time": "2022-02-08T06:54:33.795Z"
   },
   {
    "duration": 44,
    "start_time": "2022-02-08T06:54:33.948Z"
   },
   {
    "duration": 7,
    "start_time": "2022-02-08T06:54:33.994Z"
   },
   {
    "duration": 6,
    "start_time": "2022-02-08T06:54:34.003Z"
   },
   {
    "duration": 12,
    "start_time": "2022-02-08T06:54:34.012Z"
   },
   {
    "duration": 10,
    "start_time": "2022-02-08T06:54:34.027Z"
   },
   {
    "duration": 6,
    "start_time": "2022-02-08T06:54:34.039Z"
   },
   {
    "duration": 13,
    "start_time": "2022-02-08T06:54:34.047Z"
   },
   {
    "duration": 218,
    "start_time": "2022-02-08T06:54:34.061Z"
   },
   {
    "duration": 169,
    "start_time": "2022-02-08T06:54:34.281Z"
   },
   {
    "duration": 237,
    "start_time": "2022-02-08T06:54:34.452Z"
   },
   {
    "duration": 221,
    "start_time": "2022-02-08T06:54:34.691Z"
   },
   {
    "duration": 333,
    "start_time": "2022-02-08T06:54:34.914Z"
   },
   {
    "duration": 215,
    "start_time": "2022-02-08T06:54:35.249Z"
   },
   {
    "duration": 346,
    "start_time": "2022-02-08T06:54:35.466Z"
   },
   {
    "duration": 127,
    "start_time": "2022-02-08T06:54:35.814Z"
   },
   {
    "duration": 309,
    "start_time": "2022-02-08T06:54:35.942Z"
   },
   {
    "duration": 3,
    "start_time": "2022-02-08T06:54:36.253Z"
   },
   {
    "duration": 295,
    "start_time": "2022-02-08T06:54:36.258Z"
   },
   {
    "duration": 4,
    "start_time": "2022-02-08T06:54:36.555Z"
   },
   {
    "duration": 285,
    "start_time": "2022-02-08T06:54:36.562Z"
   },
   {
    "duration": 122,
    "start_time": "2022-02-08T06:54:36.849Z"
   },
   {
    "duration": 5,
    "start_time": "2022-02-08T06:54:36.973Z"
   },
   {
    "duration": 16,
    "start_time": "2022-02-08T06:54:36.980Z"
   },
   {
    "duration": 18,
    "start_time": "2022-02-08T06:54:36.997Z"
   },
   {
    "duration": 8,
    "start_time": "2022-02-08T06:54:37.016Z"
   },
   {
    "duration": 7,
    "start_time": "2022-02-08T06:54:37.026Z"
   },
   {
    "duration": 7,
    "start_time": "2022-02-08T06:54:37.034Z"
   },
   {
    "duration": 12,
    "start_time": "2022-02-08T06:54:37.043Z"
   },
   {
    "duration": 1060,
    "start_time": "2022-02-08T06:55:07.833Z"
   },
   {
    "duration": 5,
    "start_time": "2022-02-08T06:55:08.895Z"
   },
   {
    "duration": 137,
    "start_time": "2022-02-08T06:55:08.902Z"
   },
   {
    "duration": 45,
    "start_time": "2022-02-08T06:55:09.041Z"
   },
   {
    "duration": 6,
    "start_time": "2022-02-08T06:55:09.088Z"
   },
   {
    "duration": 17,
    "start_time": "2022-02-08T06:55:09.096Z"
   },
   {
    "duration": 25,
    "start_time": "2022-02-08T06:55:09.115Z"
   },
   {
    "duration": 10,
    "start_time": "2022-02-08T06:55:09.143Z"
   },
   {
    "duration": 5,
    "start_time": "2022-02-08T06:55:09.155Z"
   },
   {
    "duration": 19,
    "start_time": "2022-02-08T06:55:09.162Z"
   },
   {
    "duration": 201,
    "start_time": "2022-02-08T06:55:09.183Z"
   },
   {
    "duration": 173,
    "start_time": "2022-02-08T06:55:09.386Z"
   },
   {
    "duration": 253,
    "start_time": "2022-02-08T06:55:09.561Z"
   },
   {
    "duration": 230,
    "start_time": "2022-02-08T06:55:09.815Z"
   },
   {
    "duration": 324,
    "start_time": "2022-02-08T06:55:10.046Z"
   },
   {
    "duration": 221,
    "start_time": "2022-02-08T06:55:10.372Z"
   },
   {
    "duration": 355,
    "start_time": "2022-02-08T06:55:10.594Z"
   },
   {
    "duration": 115,
    "start_time": "2022-02-08T06:55:10.951Z"
   },
   {
    "duration": 292,
    "start_time": "2022-02-08T06:55:11.068Z"
   },
   {
    "duration": 4,
    "start_time": "2022-02-08T06:55:11.362Z"
   },
   {
    "duration": 328,
    "start_time": "2022-02-08T06:55:11.368Z"
   },
   {
    "duration": 4,
    "start_time": "2022-02-08T06:55:11.697Z"
   },
   {
    "duration": 306,
    "start_time": "2022-02-08T06:55:11.712Z"
   },
   {
    "duration": 154,
    "start_time": "2022-02-08T06:55:12.020Z"
   },
   {
    "duration": 6,
    "start_time": "2022-02-08T06:55:12.176Z"
   },
   {
    "duration": 9,
    "start_time": "2022-02-08T06:55:12.183Z"
   },
   {
    "duration": 23,
    "start_time": "2022-02-08T06:55:12.194Z"
   },
   {
    "duration": 9,
    "start_time": "2022-02-08T06:55:12.218Z"
   },
   {
    "duration": 8,
    "start_time": "2022-02-08T06:55:12.229Z"
   },
   {
    "duration": 7,
    "start_time": "2022-02-08T06:55:12.239Z"
   },
   {
    "duration": 14,
    "start_time": "2022-02-08T06:55:12.248Z"
   },
   {
    "duration": 926,
    "start_time": "2022-02-08T07:01:36.053Z"
   },
   {
    "duration": 5,
    "start_time": "2022-02-08T07:01:36.981Z"
   },
   {
    "duration": 141,
    "start_time": "2022-02-08T07:01:36.987Z"
   },
   {
    "duration": 39,
    "start_time": "2022-02-08T07:01:37.129Z"
   },
   {
    "duration": 6,
    "start_time": "2022-02-08T07:01:37.170Z"
   },
   {
    "duration": 6,
    "start_time": "2022-02-08T07:01:37.178Z"
   },
   {
    "duration": 28,
    "start_time": "2022-02-08T07:01:37.185Z"
   },
   {
    "duration": 10,
    "start_time": "2022-02-08T07:01:37.215Z"
   },
   {
    "duration": 6,
    "start_time": "2022-02-08T07:01:37.227Z"
   },
   {
    "duration": 12,
    "start_time": "2022-02-08T07:01:37.234Z"
   },
   {
    "duration": 206,
    "start_time": "2022-02-08T07:01:37.247Z"
   },
   {
    "duration": 159,
    "start_time": "2022-02-08T07:01:37.455Z"
   },
   {
    "duration": 229,
    "start_time": "2022-02-08T07:01:37.616Z"
   },
   {
    "duration": 216,
    "start_time": "2022-02-08T07:01:37.847Z"
   },
   {
    "duration": 300,
    "start_time": "2022-02-08T07:01:38.065Z"
   },
   {
    "duration": 210,
    "start_time": "2022-02-08T07:01:38.367Z"
   },
   {
    "duration": 347,
    "start_time": "2022-02-08T07:01:38.578Z"
   },
   {
    "duration": 120,
    "start_time": "2022-02-08T07:01:38.927Z"
   },
   {
    "duration": 283,
    "start_time": "2022-02-08T07:01:39.048Z"
   },
   {
    "duration": 4,
    "start_time": "2022-02-08T07:01:39.332Z"
   },
   {
    "duration": 296,
    "start_time": "2022-02-08T07:01:39.337Z"
   },
   {
    "duration": 4,
    "start_time": "2022-02-08T07:01:39.635Z"
   },
   {
    "duration": 276,
    "start_time": "2022-02-08T07:01:39.643Z"
   },
   {
    "duration": 122,
    "start_time": "2022-02-08T07:01:39.922Z"
   },
   {
    "duration": 6,
    "start_time": "2022-02-08T07:01:40.046Z"
   },
   {
    "duration": 16,
    "start_time": "2022-02-08T07:01:40.054Z"
   },
   {
    "duration": 11,
    "start_time": "2022-02-08T07:01:40.071Z"
   },
   {
    "duration": 11,
    "start_time": "2022-02-08T07:01:40.083Z"
   },
   {
    "duration": 8,
    "start_time": "2022-02-08T07:01:40.113Z"
   },
   {
    "duration": 7,
    "start_time": "2022-02-08T07:01:40.123Z"
   },
   {
    "duration": 12,
    "start_time": "2022-02-08T07:01:40.132Z"
   },
   {
    "duration": 988,
    "start_time": "2022-02-09T11:14:25.477Z"
   },
   {
    "duration": 5,
    "start_time": "2022-02-09T11:14:26.466Z"
   },
   {
    "duration": 289,
    "start_time": "2022-02-09T11:14:26.473Z"
   },
   {
    "duration": 37,
    "start_time": "2022-02-09T11:14:26.764Z"
   },
   {
    "duration": 6,
    "start_time": "2022-02-09T11:14:26.802Z"
   },
   {
    "duration": 7,
    "start_time": "2022-02-09T11:14:26.809Z"
   },
   {
    "duration": 18,
    "start_time": "2022-02-09T11:14:26.817Z"
   },
   {
    "duration": 11,
    "start_time": "2022-02-09T11:14:26.860Z"
   },
   {
    "duration": 8,
    "start_time": "2022-02-09T11:14:26.873Z"
   },
   {
    "duration": 14,
    "start_time": "2022-02-09T11:14:26.882Z"
   },
   {
    "duration": 202,
    "start_time": "2022-02-09T11:14:26.898Z"
   },
   {
    "duration": 157,
    "start_time": "2022-02-09T11:14:27.102Z"
   },
   {
    "duration": 215,
    "start_time": "2022-02-09T11:14:27.261Z"
   },
   {
    "duration": 207,
    "start_time": "2022-02-09T11:14:27.477Z"
   },
   {
    "duration": 300,
    "start_time": "2022-02-09T11:14:27.685Z"
   },
   {
    "duration": 201,
    "start_time": "2022-02-09T11:14:27.987Z"
   },
   {
    "duration": 306,
    "start_time": "2022-02-09T11:14:28.190Z"
   },
   {
    "duration": 106,
    "start_time": "2022-02-09T11:14:28.498Z"
   },
   {
    "duration": 267,
    "start_time": "2022-02-09T11:14:28.606Z"
   },
   {
    "duration": 4,
    "start_time": "2022-02-09T11:14:28.875Z"
   },
   {
    "duration": 311,
    "start_time": "2022-02-09T11:14:28.881Z"
   },
   {
    "duration": 5,
    "start_time": "2022-02-09T11:14:29.194Z"
   },
   {
    "duration": 274,
    "start_time": "2022-02-09T11:14:29.202Z"
   },
   {
    "duration": 118,
    "start_time": "2022-02-09T11:14:29.478Z"
   },
   {
    "duration": 6,
    "start_time": "2022-02-09T11:14:29.598Z"
   },
   {
    "duration": 9,
    "start_time": "2022-02-09T11:14:29.606Z"
   },
   {
    "duration": 8,
    "start_time": "2022-02-09T11:14:29.617Z"
   },
   {
    "duration": 8,
    "start_time": "2022-02-09T11:14:29.627Z"
   },
   {
    "duration": 28,
    "start_time": "2022-02-09T11:14:29.636Z"
   },
   {
    "duration": 20,
    "start_time": "2022-02-09T11:14:29.666Z"
   },
   {
    "duration": 17,
    "start_time": "2022-02-09T11:14:29.688Z"
   },
   {
    "duration": 1303,
    "start_time": "2022-02-09T19:39:08.161Z"
   },
   {
    "duration": 7,
    "start_time": "2022-02-09T19:39:09.467Z"
   },
   {
    "duration": 455,
    "start_time": "2022-02-09T19:39:09.477Z"
   },
   {
    "duration": 60,
    "start_time": "2022-02-09T19:39:09.935Z"
   },
   {
    "duration": 31,
    "start_time": "2022-02-09T19:39:09.998Z"
   },
   {
    "duration": 8,
    "start_time": "2022-02-09T19:39:10.031Z"
   },
   {
    "duration": 8,
    "start_time": "2022-02-09T19:39:10.042Z"
   },
   {
    "duration": 16,
    "start_time": "2022-02-09T19:39:10.055Z"
   },
   {
    "duration": 53,
    "start_time": "2022-02-09T19:39:10.075Z"
   },
   {
    "duration": 8,
    "start_time": "2022-02-09T19:39:10.131Z"
   },
   {
    "duration": 18,
    "start_time": "2022-02-09T19:39:10.142Z"
   },
   {
    "duration": 341,
    "start_time": "2022-02-09T19:39:10.162Z"
   },
   {
    "duration": 274,
    "start_time": "2022-02-09T19:39:10.506Z"
   },
   {
    "duration": 332,
    "start_time": "2022-02-09T19:39:10.783Z"
   },
   {
    "duration": 334,
    "start_time": "2022-02-09T19:39:11.117Z"
   },
   {
    "duration": 416,
    "start_time": "2022-02-09T19:39:11.453Z"
   },
   {
    "duration": 321,
    "start_time": "2022-02-09T19:39:11.871Z"
   },
   {
    "duration": 479,
    "start_time": "2022-02-09T19:39:12.194Z"
   },
   {
    "duration": 217,
    "start_time": "2022-02-09T19:39:12.676Z"
   },
   {
    "duration": 408,
    "start_time": "2022-02-09T19:39:12.895Z"
   },
   {
    "duration": 17,
    "start_time": "2022-02-09T19:39:13.306Z"
   },
   {
    "duration": 425,
    "start_time": "2022-02-09T19:39:13.326Z"
   },
   {
    "duration": 6,
    "start_time": "2022-02-09T19:39:13.757Z"
   },
   {
    "duration": 465,
    "start_time": "2022-02-09T19:39:13.766Z"
   },
   {
    "duration": 241,
    "start_time": "2022-02-09T19:39:14.233Z"
   },
   {
    "duration": 9,
    "start_time": "2022-02-09T19:39:14.476Z"
   },
   {
    "duration": 11,
    "start_time": "2022-02-09T19:39:14.488Z"
   },
   {
    "duration": 14,
    "start_time": "2022-02-09T19:39:14.523Z"
   },
   {
    "duration": 15,
    "start_time": "2022-02-09T19:39:14.539Z"
   },
   {
    "duration": 13,
    "start_time": "2022-02-09T19:39:14.556Z"
   },
   {
    "duration": 52,
    "start_time": "2022-02-09T19:39:14.572Z"
   },
   {
    "duration": 21,
    "start_time": "2022-02-09T19:39:14.627Z"
   },
   {
    "duration": 1347,
    "start_time": "2022-02-09T19:39:40.831Z"
   },
   {
    "duration": 7,
    "start_time": "2022-02-09T19:39:42.180Z"
   },
   {
    "duration": 154,
    "start_time": "2022-02-09T19:39:42.191Z"
   },
   {
    "duration": 59,
    "start_time": "2022-02-09T19:39:42.348Z"
   },
   {
    "duration": 18,
    "start_time": "2022-02-09T19:39:42.410Z"
   },
   {
    "duration": 8,
    "start_time": "2022-02-09T19:39:42.430Z"
   },
   {
    "duration": 7,
    "start_time": "2022-02-09T19:39:42.441Z"
   },
   {
    "duration": 16,
    "start_time": "2022-02-09T19:39:42.452Z"
   },
   {
    "duration": 15,
    "start_time": "2022-02-09T19:39:42.471Z"
   },
   {
    "duration": 7,
    "start_time": "2022-02-09T19:39:42.524Z"
   },
   {
    "duration": 19,
    "start_time": "2022-02-09T19:39:42.533Z"
   },
   {
    "duration": 328,
    "start_time": "2022-02-09T19:39:42.555Z"
   },
   {
    "duration": 308,
    "start_time": "2022-02-09T19:39:42.886Z"
   },
   {
    "duration": 382,
    "start_time": "2022-02-09T19:39:43.197Z"
   },
   {
    "duration": 369,
    "start_time": "2022-02-09T19:39:43.581Z"
   },
   {
    "duration": 412,
    "start_time": "2022-02-09T19:39:43.953Z"
   },
   {
    "duration": 314,
    "start_time": "2022-02-09T19:39:44.369Z"
   },
   {
    "duration": 476,
    "start_time": "2022-02-09T19:39:44.686Z"
   },
   {
    "duration": 201,
    "start_time": "2022-02-09T19:39:45.165Z"
   },
   {
    "duration": 379,
    "start_time": "2022-02-09T19:39:45.369Z"
   },
   {
    "duration": 7,
    "start_time": "2022-02-09T19:39:45.751Z"
   },
   {
    "duration": 391,
    "start_time": "2022-02-09T19:39:45.760Z"
   },
   {
    "duration": 6,
    "start_time": "2022-02-09T19:39:46.158Z"
   },
   {
    "duration": 489,
    "start_time": "2022-02-09T19:39:46.167Z"
   },
   {
    "duration": 230,
    "start_time": "2022-02-09T19:39:46.658Z"
   },
   {
    "duration": 8,
    "start_time": "2022-02-09T19:39:46.891Z"
   },
   {
    "duration": 28,
    "start_time": "2022-02-09T19:39:46.901Z"
   },
   {
    "duration": 15,
    "start_time": "2022-02-09T19:39:46.931Z"
   },
   {
    "duration": 16,
    "start_time": "2022-02-09T19:39:46.949Z"
   },
   {
    "duration": 12,
    "start_time": "2022-02-09T19:39:46.968Z"
   },
   {
    "duration": 50,
    "start_time": "2022-02-09T19:39:46.982Z"
   },
   {
    "duration": 19,
    "start_time": "2022-02-09T19:39:47.034Z"
   },
   {
    "duration": 1381,
    "start_time": "2022-02-09T19:40:07.573Z"
   },
   {
    "duration": 7,
    "start_time": "2022-02-09T19:40:08.957Z"
   },
   {
    "duration": 158,
    "start_time": "2022-02-09T19:40:08.968Z"
   },
   {
    "duration": 102,
    "start_time": "2022-02-09T19:40:09.130Z"
   },
   {
    "duration": 8,
    "start_time": "2022-02-09T19:40:09.235Z"
   },
   {
    "duration": 7,
    "start_time": "2022-02-09T19:40:09.246Z"
   },
   {
    "duration": 4,
    "start_time": "2022-02-09T19:40:09.255Z"
   },
   {
    "duration": 16,
    "start_time": "2022-02-09T19:40:09.263Z"
   },
   {
    "duration": 51,
    "start_time": "2022-02-09T19:40:09.282Z"
   },
   {
    "duration": 9,
    "start_time": "2022-02-09T19:40:09.335Z"
   },
   {
    "duration": 18,
    "start_time": "2022-02-09T19:40:09.347Z"
   },
   {
    "duration": 411,
    "start_time": "2022-02-09T19:40:09.368Z"
   },
   {
    "duration": 332,
    "start_time": "2022-02-09T19:40:09.782Z"
   },
   {
    "duration": 360,
    "start_time": "2022-02-09T19:40:10.124Z"
   },
   {
    "duration": 338,
    "start_time": "2022-02-09T19:40:10.487Z"
   },
   {
    "duration": 508,
    "start_time": "2022-02-09T19:40:10.828Z"
   },
   {
    "duration": 345,
    "start_time": "2022-02-09T19:40:11.339Z"
   },
   {
    "duration": 480,
    "start_time": "2022-02-09T19:40:11.686Z"
   },
   {
    "duration": 188,
    "start_time": "2022-02-09T19:40:12.168Z"
   },
   {
    "duration": 371,
    "start_time": "2022-02-09T19:40:12.358Z"
   },
   {
    "duration": 6,
    "start_time": "2022-02-09T19:40:12.732Z"
   },
   {
    "duration": 400,
    "start_time": "2022-02-09T19:40:12.741Z"
   },
   {
    "duration": 6,
    "start_time": "2022-02-09T19:40:13.146Z"
   },
   {
    "duration": 492,
    "start_time": "2022-02-09T19:40:13.155Z"
   },
   {
    "duration": 215,
    "start_time": "2022-02-09T19:40:13.650Z"
   },
   {
    "duration": 8,
    "start_time": "2022-02-09T19:40:13.868Z"
   },
   {
    "duration": 13,
    "start_time": "2022-02-09T19:40:13.879Z"
   },
   {
    "duration": 34,
    "start_time": "2022-02-09T19:40:13.895Z"
   },
   {
    "duration": 14,
    "start_time": "2022-02-09T19:40:13.931Z"
   },
   {
    "duration": 15,
    "start_time": "2022-02-09T19:40:13.948Z"
   },
   {
    "duration": 9,
    "start_time": "2022-02-09T19:40:13.965Z"
   },
   {
    "duration": 59,
    "start_time": "2022-02-09T19:40:13.977Z"
   },
   {
    "duration": 1397,
    "start_time": "2022-02-09T19:40:47.321Z"
   },
   {
    "duration": 7,
    "start_time": "2022-02-09T19:40:48.721Z"
   },
   {
    "duration": 135,
    "start_time": "2022-02-09T19:40:48.731Z"
   },
   {
    "duration": 61,
    "start_time": "2022-02-09T19:40:48.869Z"
   },
   {
    "duration": 10,
    "start_time": "2022-02-09T19:40:48.932Z"
   },
   {
    "duration": 13,
    "start_time": "2022-02-09T19:40:48.944Z"
   },
   {
    "duration": 8,
    "start_time": "2022-02-09T19:40:48.959Z"
   },
   {
    "duration": 20,
    "start_time": "2022-02-09T19:40:48.970Z"
   },
   {
    "duration": 16,
    "start_time": "2022-02-09T19:40:48.993Z"
   },
   {
    "duration": 10,
    "start_time": "2022-02-09T19:40:49.011Z"
   },
   {
    "duration": 21,
    "start_time": "2022-02-09T19:40:49.023Z"
   },
   {
    "duration": 377,
    "start_time": "2022-02-09T19:40:49.046Z"
   },
   {
    "duration": 380,
    "start_time": "2022-02-09T19:40:49.426Z"
   },
   {
    "duration": 340,
    "start_time": "2022-02-09T19:40:49.809Z"
   },
   {
    "duration": 322,
    "start_time": "2022-02-09T19:40:50.151Z"
   },
   {
    "duration": 449,
    "start_time": "2022-02-09T19:40:50.476Z"
   },
   {
    "duration": 334,
    "start_time": "2022-02-09T19:40:50.928Z"
   },
   {
    "duration": 480,
    "start_time": "2022-02-09T19:40:51.265Z"
   },
   {
    "duration": 199,
    "start_time": "2022-02-09T19:40:51.748Z"
   },
   {
    "duration": 389,
    "start_time": "2022-02-09T19:40:51.949Z"
   },
   {
    "duration": 6,
    "start_time": "2022-02-09T19:40:52.340Z"
   },
   {
    "duration": 405,
    "start_time": "2022-02-09T19:40:52.349Z"
   },
   {
    "duration": 5,
    "start_time": "2022-02-09T19:40:52.759Z"
   },
   {
    "duration": 468,
    "start_time": "2022-02-09T19:40:52.767Z"
   },
   {
    "duration": 254,
    "start_time": "2022-02-09T19:40:53.238Z"
   },
   {
    "duration": 9,
    "start_time": "2022-02-09T19:40:53.494Z"
   },
   {
    "duration": 24,
    "start_time": "2022-02-09T19:40:53.505Z"
   },
   {
    "duration": 13,
    "start_time": "2022-02-09T19:40:53.531Z"
   },
   {
    "duration": 12,
    "start_time": "2022-02-09T19:40:53.547Z"
   },
   {
    "duration": 11,
    "start_time": "2022-02-09T19:40:53.561Z"
   },
   {
    "duration": 51,
    "start_time": "2022-02-09T19:40:53.574Z"
   },
   {
    "duration": 21,
    "start_time": "2022-02-09T19:40:53.628Z"
   },
   {
    "duration": 331,
    "start_time": "2022-02-09T19:44:53.642Z"
   },
   {
    "duration": 319,
    "start_time": "2022-02-09T19:45:21.282Z"
   },
   {
    "duration": 486,
    "start_time": "2022-02-09T19:45:34.573Z"
   },
   {
    "duration": 316,
    "start_time": "2022-02-09T19:45:46.439Z"
   },
   {
    "duration": 325,
    "start_time": "2022-02-09T19:48:21.579Z"
   },
   {
    "duration": 333,
    "start_time": "2022-02-09T19:48:46.700Z"
   },
   {
    "duration": 346,
    "start_time": "2022-02-09T19:49:19.980Z"
   },
   {
    "duration": 334,
    "start_time": "2022-02-09T19:49:36.274Z"
   },
   {
    "duration": 312,
    "start_time": "2022-02-09T19:50:14.678Z"
   },
   {
    "duration": 522,
    "start_time": "2022-02-09T19:50:40.668Z"
   },
   {
    "duration": 422,
    "start_time": "2022-02-09T19:52:08.107Z"
   },
   {
    "duration": 417,
    "start_time": "2022-02-09T19:52:26.598Z"
   },
   {
    "duration": 405,
    "start_time": "2022-02-09T19:52:36.186Z"
   },
   {
    "duration": 485,
    "start_time": "2022-02-09T19:52:46.127Z"
   },
   {
    "duration": 92,
    "start_time": "2022-02-09T19:54:23.350Z"
   },
   {
    "duration": 132,
    "start_time": "2022-02-09T19:54:45.734Z"
   },
   {
    "duration": 1412,
    "start_time": "2022-02-09T20:04:53.757Z"
   },
   {
    "duration": 7,
    "start_time": "2022-02-09T20:04:55.175Z"
   },
   {
    "duration": 202,
    "start_time": "2022-02-09T20:04:55.184Z"
   },
   {
    "duration": 61,
    "start_time": "2022-02-09T20:04:55.389Z"
   },
   {
    "duration": 8,
    "start_time": "2022-02-09T20:04:55.453Z"
   },
   {
    "duration": 8,
    "start_time": "2022-02-09T20:04:55.464Z"
   },
   {
    "duration": 11,
    "start_time": "2022-02-09T20:04:55.474Z"
   },
   {
    "duration": 40,
    "start_time": "2022-02-09T20:04:55.490Z"
   },
   {
    "duration": 16,
    "start_time": "2022-02-09T20:04:55.533Z"
   },
   {
    "duration": 8,
    "start_time": "2022-02-09T20:04:55.551Z"
   },
   {
    "duration": 19,
    "start_time": "2022-02-09T20:04:55.561Z"
   },
   {
    "duration": 330,
    "start_time": "2022-02-09T20:04:55.623Z"
   },
   {
    "duration": 288,
    "start_time": "2022-02-09T20:04:55.956Z"
   },
   {
    "duration": 363,
    "start_time": "2022-02-09T20:04:56.247Z"
   },
   {
    "duration": 352,
    "start_time": "2022-02-09T20:04:56.612Z"
   },
   {
    "duration": 441,
    "start_time": "2022-02-09T20:04:56.967Z"
   },
   {
    "duration": 339,
    "start_time": "2022-02-09T20:04:57.410Z"
   },
   {
    "duration": 452,
    "start_time": "2022-02-09T20:04:57.751Z"
   },
   {
    "duration": 306,
    "start_time": "2022-02-09T20:04:58.206Z"
   },
   {
    "duration": 400,
    "start_time": "2022-02-09T20:04:58.515Z"
   },
   {
    "duration": 10,
    "start_time": "2022-02-09T20:04:58.917Z"
   },
   {
    "duration": 391,
    "start_time": "2022-02-09T20:04:58.929Z"
   },
   {
    "duration": 5,
    "start_time": "2022-02-09T20:04:59.323Z"
   },
   {
    "duration": 462,
    "start_time": "2022-02-09T20:04:59.330Z"
   },
   {
    "duration": 224,
    "start_time": "2022-02-09T20:04:59.795Z"
   },
   {
    "duration": 9,
    "start_time": "2022-02-09T20:05:00.024Z"
   },
   {
    "duration": 16,
    "start_time": "2022-02-09T20:05:00.035Z"
   },
   {
    "duration": 14,
    "start_time": "2022-02-09T20:05:00.053Z"
   },
   {
    "duration": 12,
    "start_time": "2022-02-09T20:05:00.070Z"
   },
   {
    "duration": 12,
    "start_time": "2022-02-09T20:05:00.123Z"
   },
   {
    "duration": 11,
    "start_time": "2022-02-09T20:05:00.137Z"
   },
   {
    "duration": 19,
    "start_time": "2022-02-09T20:05:00.151Z"
   },
   {
    "duration": 1331,
    "start_time": "2022-02-09T20:09:29.954Z"
   },
   {
    "duration": 8,
    "start_time": "2022-02-09T20:09:31.287Z"
   },
   {
    "duration": 165,
    "start_time": "2022-02-09T20:09:31.298Z"
   },
   {
    "duration": 64,
    "start_time": "2022-02-09T20:09:31.466Z"
   },
   {
    "duration": 9,
    "start_time": "2022-02-09T20:09:31.532Z"
   },
   {
    "duration": 7,
    "start_time": "2022-02-09T20:09:31.544Z"
   },
   {
    "duration": 6,
    "start_time": "2022-02-09T20:09:31.553Z"
   },
   {
    "duration": 21,
    "start_time": "2022-02-09T20:09:31.562Z"
   },
   {
    "duration": 44,
    "start_time": "2022-02-09T20:09:31.586Z"
   },
   {
    "duration": 11,
    "start_time": "2022-02-09T20:09:31.633Z"
   },
   {
    "duration": 20,
    "start_time": "2022-02-09T20:09:31.646Z"
   },
   {
    "duration": 335,
    "start_time": "2022-02-09T20:09:31.669Z"
   },
   {
    "duration": 277,
    "start_time": "2022-02-09T20:09:32.006Z"
   },
   {
    "duration": 346,
    "start_time": "2022-02-09T20:09:32.285Z"
   },
   {
    "duration": 337,
    "start_time": "2022-02-09T20:09:32.634Z"
   },
   {
    "duration": 505,
    "start_time": "2022-02-09T20:09:32.973Z"
   },
   {
    "duration": 347,
    "start_time": "2022-02-09T20:09:33.480Z"
   },
   {
    "duration": 449,
    "start_time": "2022-02-09T20:09:33.829Z"
   },
   {
    "duration": 187,
    "start_time": "2022-02-09T20:09:34.281Z"
   },
   {
    "duration": 377,
    "start_time": "2022-02-09T20:09:34.471Z"
   },
   {
    "duration": 6,
    "start_time": "2022-02-09T20:09:34.851Z"
   },
   {
    "duration": 390,
    "start_time": "2022-02-09T20:09:34.860Z"
   },
   {
    "duration": 5,
    "start_time": "2022-02-09T20:09:35.255Z"
   },
   {
    "duration": 468,
    "start_time": "2022-02-09T20:09:35.263Z"
   },
   {
    "duration": 243,
    "start_time": "2022-02-09T20:09:35.733Z"
   },
   {
    "duration": 8,
    "start_time": "2022-02-09T20:09:35.979Z"
   },
   {
    "duration": 34,
    "start_time": "2022-02-09T20:09:35.989Z"
   },
   {
    "duration": 15,
    "start_time": "2022-02-09T20:09:36.026Z"
   },
   {
    "duration": 16,
    "start_time": "2022-02-09T20:09:36.044Z"
   },
   {
    "duration": 13,
    "start_time": "2022-02-09T20:09:36.063Z"
   },
   {
    "duration": 46,
    "start_time": "2022-02-09T20:09:36.078Z"
   },
   {
    "duration": 22,
    "start_time": "2022-02-09T20:09:36.127Z"
   },
   {
    "duration": 1395,
    "start_time": "2022-02-10T09:30:05.147Z"
   },
   {
    "duration": 9,
    "start_time": "2022-02-10T09:30:06.545Z"
   },
   {
    "duration": 428,
    "start_time": "2022-02-10T09:30:06.557Z"
   },
   {
    "duration": 90,
    "start_time": "2022-02-10T09:30:06.988Z"
   },
   {
    "duration": 10,
    "start_time": "2022-02-10T09:30:07.081Z"
   },
   {
    "duration": 9,
    "start_time": "2022-02-10T09:30:07.093Z"
   },
   {
    "duration": 8,
    "start_time": "2022-02-10T09:30:07.104Z"
   },
   {
    "duration": 27,
    "start_time": "2022-02-10T09:30:07.116Z"
   },
   {
    "duration": 16,
    "start_time": "2022-02-10T09:30:07.171Z"
   },
   {
    "duration": 13,
    "start_time": "2022-02-10T09:30:07.190Z"
   },
   {
    "duration": 29,
    "start_time": "2022-02-10T09:30:07.205Z"
   },
   {
    "duration": 332,
    "start_time": "2022-02-10T09:30:07.237Z"
   },
   {
    "duration": 281,
    "start_time": "2022-02-10T09:30:07.571Z"
   },
   {
    "duration": 368,
    "start_time": "2022-02-10T09:30:07.855Z"
   },
   {
    "duration": 458,
    "start_time": "2022-02-10T09:30:08.226Z"
   },
   {
    "duration": 431,
    "start_time": "2022-02-10T09:30:08.687Z"
   },
   {
    "duration": 352,
    "start_time": "2022-02-10T09:30:09.122Z"
   },
   {
    "duration": 467,
    "start_time": "2022-02-10T09:30:09.476Z"
   },
   {
    "duration": 484,
    "start_time": "2022-02-10T09:30:09.946Z"
   },
   {
    "duration": 456,
    "start_time": "2022-02-10T09:30:10.432Z"
   },
   {
    "duration": 5,
    "start_time": "2022-02-10T09:30:10.891Z"
   },
   {
    "duration": 413,
    "start_time": "2022-02-10T09:30:10.898Z"
   },
   {
    "duration": 5,
    "start_time": "2022-02-10T09:30:11.316Z"
   },
   {
    "duration": 462,
    "start_time": "2022-02-10T09:30:11.323Z"
   },
   {
    "duration": 235,
    "start_time": "2022-02-10T09:30:11.787Z"
   },
   {
    "duration": 9,
    "start_time": "2022-02-10T09:30:12.025Z"
   },
   {
    "duration": 14,
    "start_time": "2022-02-10T09:30:12.036Z"
   },
   {
    "duration": 16,
    "start_time": "2022-02-10T09:30:12.068Z"
   },
   {
    "duration": 16,
    "start_time": "2022-02-10T09:30:12.086Z"
   },
   {
    "duration": 15,
    "start_time": "2022-02-10T09:30:12.104Z"
   },
   {
    "duration": 10,
    "start_time": "2022-02-10T09:30:12.122Z"
   },
   {
    "duration": 49,
    "start_time": "2022-02-10T09:30:12.135Z"
   },
   {
    "duration": 1240,
    "start_time": "2022-03-18T06:02:28.436Z"
   },
   {
    "duration": 5,
    "start_time": "2022-03-18T06:02:29.679Z"
   },
   {
    "duration": 342,
    "start_time": "2022-03-18T06:02:29.685Z"
   },
   {
    "duration": 58,
    "start_time": "2022-03-18T06:02:30.030Z"
   },
   {
    "duration": 6,
    "start_time": "2022-03-18T06:02:30.090Z"
   },
   {
    "duration": 22,
    "start_time": "2022-03-18T06:02:30.098Z"
   },
   {
    "duration": 29,
    "start_time": "2022-03-18T06:02:30.122Z"
   },
   {
    "duration": 36,
    "start_time": "2022-03-18T06:02:30.153Z"
   },
   {
    "duration": 21,
    "start_time": "2022-03-18T06:02:30.190Z"
   },
   {
    "duration": 26,
    "start_time": "2022-03-18T06:02:30.215Z"
   },
   {
    "duration": 26,
    "start_time": "2022-03-18T06:02:30.243Z"
   },
   {
    "duration": 163,
    "start_time": "2022-03-18T06:02:30.271Z"
   },
   {
    "duration": 144,
    "start_time": "2022-03-18T06:02:30.435Z"
   },
   {
    "duration": 282,
    "start_time": "2022-03-18T06:02:30.581Z"
   },
   {
    "duration": 205,
    "start_time": "2022-03-18T06:02:30.865Z"
   },
   {
    "duration": 321,
    "start_time": "2022-03-18T06:02:31.073Z"
   },
   {
    "duration": 196,
    "start_time": "2022-03-18T06:02:31.396Z"
   },
   {
    "duration": 417,
    "start_time": "2022-03-18T06:02:31.595Z"
   },
   {
    "duration": 0,
    "start_time": "2022-03-18T06:02:32.014Z"
   },
   {
    "duration": 0,
    "start_time": "2022-03-18T06:02:32.015Z"
   },
   {
    "duration": 0,
    "start_time": "2022-03-18T06:02:32.016Z"
   },
   {
    "duration": 0,
    "start_time": "2022-03-18T06:02:32.017Z"
   },
   {
    "duration": 0,
    "start_time": "2022-03-18T06:02:32.018Z"
   },
   {
    "duration": 0,
    "start_time": "2022-03-18T06:02:32.020Z"
   },
   {
    "duration": 0,
    "start_time": "2022-03-18T06:02:32.037Z"
   },
   {
    "duration": 0,
    "start_time": "2022-03-18T06:02:32.038Z"
   },
   {
    "duration": 0,
    "start_time": "2022-03-18T06:02:32.039Z"
   },
   {
    "duration": 0,
    "start_time": "2022-03-18T06:02:32.040Z"
   },
   {
    "duration": 0,
    "start_time": "2022-03-18T06:02:32.041Z"
   },
   {
    "duration": 0,
    "start_time": "2022-03-18T06:02:32.042Z"
   },
   {
    "duration": 0,
    "start_time": "2022-03-18T06:02:32.043Z"
   },
   {
    "duration": 0,
    "start_time": "2022-03-18T06:02:32.044Z"
   },
   {
    "duration": 343,
    "start_time": "2022-03-18T06:03:32.613Z"
   },
   {
    "duration": 335,
    "start_time": "2022-03-18T06:04:07.717Z"
   },
   {
    "duration": 287,
    "start_time": "2022-03-18T06:05:17.696Z"
   },
   {
    "duration": 1084,
    "start_time": "2022-03-18T06:05:27.983Z"
   },
   {
    "duration": 4,
    "start_time": "2022-03-18T06:05:29.069Z"
   },
   {
    "duration": 131,
    "start_time": "2022-03-18T06:05:29.075Z"
   },
   {
    "duration": 53,
    "start_time": "2022-03-18T06:05:29.208Z"
   },
   {
    "duration": 6,
    "start_time": "2022-03-18T06:05:29.263Z"
   },
   {
    "duration": 8,
    "start_time": "2022-03-18T06:05:29.271Z"
   },
   {
    "duration": 6,
    "start_time": "2022-03-18T06:05:29.280Z"
   },
   {
    "duration": 15,
    "start_time": "2022-03-18T06:05:29.287Z"
   },
   {
    "duration": 10,
    "start_time": "2022-03-18T06:05:29.304Z"
   },
   {
    "duration": 5,
    "start_time": "2022-03-18T06:05:29.340Z"
   },
   {
    "duration": 19,
    "start_time": "2022-03-18T06:05:29.347Z"
   },
   {
    "duration": 169,
    "start_time": "2022-03-18T06:05:29.368Z"
   },
   {
    "duration": 132,
    "start_time": "2022-03-18T06:05:29.539Z"
   },
   {
    "duration": 283,
    "start_time": "2022-03-18T06:05:29.673Z"
   },
   {
    "duration": 190,
    "start_time": "2022-03-18T06:05:29.958Z"
   },
   {
    "duration": 311,
    "start_time": "2022-03-18T06:05:30.150Z"
   },
   {
    "duration": 202,
    "start_time": "2022-03-18T06:05:30.463Z"
   },
   {
    "duration": 309,
    "start_time": "2022-03-18T06:05:30.667Z"
   },
   {
    "duration": 134,
    "start_time": "2022-03-18T06:05:30.978Z"
   },
   {
    "duration": 140,
    "start_time": "2022-03-18T06:05:31.114Z"
   },
   {
    "duration": 4,
    "start_time": "2022-03-18T06:05:31.256Z"
   },
   {
    "duration": 151,
    "start_time": "2022-03-18T06:05:31.262Z"
   },
   {
    "duration": 4,
    "start_time": "2022-03-18T06:05:31.415Z"
   },
   {
    "duration": 246,
    "start_time": "2022-03-18T06:05:31.421Z"
   },
   {
    "duration": 130,
    "start_time": "2022-03-18T06:05:31.668Z"
   },
   {
    "duration": 6,
    "start_time": "2022-03-18T06:05:31.800Z"
   },
   {
    "duration": 38,
    "start_time": "2022-03-18T06:05:31.808Z"
   },
   {
    "duration": 10,
    "start_time": "2022-03-18T06:05:31.850Z"
   },
   {
    "duration": 8,
    "start_time": "2022-03-18T06:05:31.862Z"
   },
   {
    "duration": 8,
    "start_time": "2022-03-18T06:05:31.872Z"
   },
   {
    "duration": 23,
    "start_time": "2022-03-18T06:05:31.882Z"
   },
   {
    "duration": 38,
    "start_time": "2022-03-18T06:05:31.907Z"
   }
  ],
  "kernelspec": {
   "display_name": "Python 3 (ipykernel)",
   "language": "python",
   "name": "python3"
  },
  "language_info": {
   "codemirror_mode": {
    "name": "ipython",
    "version": 3
   },
   "file_extension": ".py",
   "mimetype": "text/x-python",
   "name": "python",
   "nbconvert_exporter": "python",
   "pygments_lexer": "ipython3",
   "version": "3.9.5"
  },
  "toc": {
   "base_numbering": 1,
   "nav_menu": {},
   "number_sections": true,
   "sideBar": true,
   "skip_h1_title": true,
   "title_cell": "Table of Contents",
   "title_sidebar": "Contents",
   "toc_cell": false,
   "toc_position": {},
   "toc_section_display": true,
   "toc_window_display": false
  }
 },
 "nbformat": 4,
 "nbformat_minor": 2
}
