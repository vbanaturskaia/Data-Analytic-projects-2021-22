{
 "cells": [
  {
   "cell_type": "code",
   "execution_count": 1,
   "metadata": {
    "id": "nlZBlglMDWKe"
   },
   "outputs": [],
   "source": [
    "import pandas as pd\n",
    "import matplotlib.pyplot as plt\n",
    "from sqlalchemy import create_engine \n",
    "import seaborn as sns\n",
    "from plotly import graph_objects as go"
   ]
  },
  {
   "cell_type": "markdown",
   "metadata": {
    "id": "XnOE3n28DWKg"
   },
   "source": [
    "### Конфигурация для подключения к базе данных `data-analyst-advanced-sql`\n",
    "Эта база данных содержит схему `stackoverflow`, с которой вы будете работать в проекте"
   ]
  },
  {
   "cell_type": "code",
   "execution_count": 2,
   "metadata": {
    "id": "6p-yGp7qDWKg"
   },
   "outputs": [],
   "source": [
    "db_config = {\n",
    "    'user': 'praktikum_student', # имя пользователя\n",
    "    'pwd': 'Sdf4$2;d-d30pp', # пароль\n",
    "    'host': 'rc1b-wcoijxj3yxfsf3fs.mdb.yandexcloud.net',\n",
    "    'port': 6432, # порт подключения\n",
    "    'db': 'data-analyst-advanced-sql' # название базы данных\n",
    "}  \n",
    "\n",
    "connection_string = 'postgresql://{}:{}@{}:{}/{}'.format(\n",
    "    db_config['user'],\n",
    "    db_config['pwd'],\n",
    "    db_config['host'],\n",
    "    db_config['port'],\n",
    "    db_config['db'],\n",
    ")"
   ]
  },
  {
   "cell_type": "markdown",
   "metadata": {
    "id": "2Rg8ZpS0DWKh"
   },
   "source": [
    "Создание подключения"
   ]
  },
  {
   "cell_type": "code",
   "execution_count": 3,
   "metadata": {
    "id": "DamCUTR6DWKi"
   },
   "outputs": [],
   "source": [
    "engine = create_engine(connection_string) "
   ]
  },
  {
   "cell_type": "markdown",
   "metadata": {
    "id": "bel8XeSlDWKj"
   },
   "source": [
    "Пример запроса к базе данных\n",
    "\n",
    "`sample_df` является pandas-датафреймом."
   ]
  },
  {
   "cell_type": "code",
   "execution_count": 4,
   "metadata": {
    "id": "6Z_fw0yLDWKk"
   },
   "outputs": [],
   "source": [
    "query = '''\n",
    "SELECT *\n",
    "FROM stackoverflow.users\n",
    "LIMIT 10;\n",
    "'''\n",
    "\n",
    "sample_df = pd.read_sql_query(query, con=engine) "
   ]
  },
  {
   "cell_type": "code",
   "execution_count": 5,
   "metadata": {
    "id": "ZpuZ290oDWKk",
    "outputId": "22785a0a-e2bc-4559-ec3c-4879c4b377eb"
   },
   "outputs": [
    {
     "data": {
      "text/html": [
       "<div>\n",
       "<style scoped>\n",
       "    .dataframe tbody tr th:only-of-type {\n",
       "        vertical-align: middle;\n",
       "    }\n",
       "\n",
       "    .dataframe tbody tr th {\n",
       "        vertical-align: top;\n",
       "    }\n",
       "\n",
       "    .dataframe thead th {\n",
       "        text-align: right;\n",
       "    }\n",
       "</style>\n",
       "<table border=\"1\" class=\"dataframe\">\n",
       "  <thead>\n",
       "    <tr style=\"text-align: right;\">\n",
       "      <th></th>\n",
       "      <th>id</th>\n",
       "      <th>creation_date</th>\n",
       "      <th>display_name</th>\n",
       "      <th>last_access_date</th>\n",
       "      <th>location</th>\n",
       "      <th>reputation</th>\n",
       "      <th>views</th>\n",
       "    </tr>\n",
       "  </thead>\n",
       "  <tbody>\n",
       "    <tr>\n",
       "      <td>0</td>\n",
       "      <td>1</td>\n",
       "      <td>2008-07-31 14:22:31</td>\n",
       "      <td>Jeff Atwood</td>\n",
       "      <td>2018-08-29 02:34:23</td>\n",
       "      <td>El Cerrito, CA</td>\n",
       "      <td>44300</td>\n",
       "      <td>408587</td>\n",
       "    </tr>\n",
       "    <tr>\n",
       "      <td>1</td>\n",
       "      <td>2</td>\n",
       "      <td>2008-07-31 14:22:31</td>\n",
       "      <td>Geoff Dalgas</td>\n",
       "      <td>2018-08-23 17:31:56</td>\n",
       "      <td>Corvallis, OR</td>\n",
       "      <td>3491</td>\n",
       "      <td>23966</td>\n",
       "    </tr>\n",
       "    <tr>\n",
       "      <td>2</td>\n",
       "      <td>3</td>\n",
       "      <td>2008-07-31 14:22:31</td>\n",
       "      <td>Jarrod Dixon</td>\n",
       "      <td>2018-08-30 20:56:24</td>\n",
       "      <td>Raleigh, NC, United States</td>\n",
       "      <td>13418</td>\n",
       "      <td>24396</td>\n",
       "    </tr>\n",
       "    <tr>\n",
       "      <td>3</td>\n",
       "      <td>4</td>\n",
       "      <td>2008-07-31 14:22:31</td>\n",
       "      <td>Joel Spolsky</td>\n",
       "      <td>2018-08-14 22:18:15</td>\n",
       "      <td>New York, NY</td>\n",
       "      <td>28768</td>\n",
       "      <td>73755</td>\n",
       "    </tr>\n",
       "    <tr>\n",
       "      <td>4</td>\n",
       "      <td>5</td>\n",
       "      <td>2008-07-31 14:22:31</td>\n",
       "      <td>Jon Galloway</td>\n",
       "      <td>2018-08-29 16:48:36</td>\n",
       "      <td>San Diego, CA</td>\n",
       "      <td>39172</td>\n",
       "      <td>11700</td>\n",
       "    </tr>\n",
       "    <tr>\n",
       "      <td>5</td>\n",
       "      <td>8</td>\n",
       "      <td>2008-07-31 21:33:24</td>\n",
       "      <td>Eggs McLaren</td>\n",
       "      <td>2018-04-09 02:04:56</td>\n",
       "      <td>None</td>\n",
       "      <td>942</td>\n",
       "      <td>6372</td>\n",
       "    </tr>\n",
       "    <tr>\n",
       "      <td>6</td>\n",
       "      <td>9</td>\n",
       "      <td>2008-07-31 21:35:27</td>\n",
       "      <td>Kevin Dente</td>\n",
       "      <td>2018-08-30 18:18:03</td>\n",
       "      <td>Oakland, CA</td>\n",
       "      <td>14337</td>\n",
       "      <td>4949</td>\n",
       "    </tr>\n",
       "    <tr>\n",
       "      <td>7</td>\n",
       "      <td>11</td>\n",
       "      <td>2008-08-01 00:59:11</td>\n",
       "      <td>Anonymous User</td>\n",
       "      <td>2008-08-01 00:59:11</td>\n",
       "      <td>None</td>\n",
       "      <td>1890</td>\n",
       "      <td>2123</td>\n",
       "    </tr>\n",
       "    <tr>\n",
       "      <td>8</td>\n",
       "      <td>13</td>\n",
       "      <td>2008-08-01 04:18:05</td>\n",
       "      <td>Chris Jester-Young</td>\n",
       "      <td>2018-08-30 02:47:23</td>\n",
       "      <td>Raleigh, NC, United States</td>\n",
       "      <td>177138</td>\n",
       "      <td>35414</td>\n",
       "    </tr>\n",
       "    <tr>\n",
       "      <td>9</td>\n",
       "      <td>17</td>\n",
       "      <td>2008-08-01 12:02:22</td>\n",
       "      <td>Nick Berardi</td>\n",
       "      <td>2018-01-22 01:35:38</td>\n",
       "      <td>Issaquah, WA</td>\n",
       "      <td>44443</td>\n",
       "      <td>4786</td>\n",
       "    </tr>\n",
       "  </tbody>\n",
       "</table>\n",
       "</div>"
      ],
      "text/plain": [
       "   id       creation_date        display_name    last_access_date  \\\n",
       "0   1 2008-07-31 14:22:31         Jeff Atwood 2018-08-29 02:34:23   \n",
       "1   2 2008-07-31 14:22:31        Geoff Dalgas 2018-08-23 17:31:56   \n",
       "2   3 2008-07-31 14:22:31        Jarrod Dixon 2018-08-30 20:56:24   \n",
       "3   4 2008-07-31 14:22:31        Joel Spolsky 2018-08-14 22:18:15   \n",
       "4   5 2008-07-31 14:22:31        Jon Galloway 2018-08-29 16:48:36   \n",
       "5   8 2008-07-31 21:33:24        Eggs McLaren 2018-04-09 02:04:56   \n",
       "6   9 2008-07-31 21:35:27         Kevin Dente 2018-08-30 18:18:03   \n",
       "7  11 2008-08-01 00:59:11      Anonymous User 2008-08-01 00:59:11   \n",
       "8  13 2008-08-01 04:18:05  Chris Jester-Young 2018-08-30 02:47:23   \n",
       "9  17 2008-08-01 12:02:22        Nick Berardi 2018-01-22 01:35:38   \n",
       "\n",
       "                     location  reputation   views  \n",
       "0              El Cerrito, CA       44300  408587  \n",
       "1               Corvallis, OR        3491   23966  \n",
       "2  Raleigh, NC, United States       13418   24396  \n",
       "3                New York, NY       28768   73755  \n",
       "4               San Diego, CA       39172   11700  \n",
       "5                        None         942    6372  \n",
       "6                 Oakland, CA       14337    4949  \n",
       "7                        None        1890    2123  \n",
       "8  Raleigh, NC, United States      177138   35414  \n",
       "9                Issaquah, WA       44443    4786  "
      ]
     },
     "execution_count": 5,
     "metadata": {},
     "output_type": "execute_result"
    }
   ],
   "source": [
    "sample_df"
   ]
  },
  {
   "cell_type": "markdown",
   "metadata": {
    "id": "gnBMXkDBDWKm"
   },
   "source": [
    "# Задание 1"
   ]
  },
  {
   "cell_type": "markdown",
   "metadata": {
    "id": "vHsfOrrNDWKn"
   },
   "source": [
    "Выведите общую сумму просмотров постов за каждый месяц 2008 года. Если данных за какой-либо месяц в базе нет, такой месяц можно пропустить. Результат отсортируйте по убыванию общего количества просмотров."
   ]
  },
  {
   "cell_type": "markdown",
   "metadata": {
    "id": "N5rTgGNmDWKn"
   },
   "source": [
    "| month_date  | total_views |\n",
    "| ------------- | ------------- |\n",
    "| 2008-09-01  | 452928568  |\n",
    "| 2008-10-01  | 365400138  |\n",
    "| ...         | ... |"
   ]
  },
  {
   "cell_type": "code",
   "execution_count": 6,
   "metadata": {
    "id": "eWvykcXTDWKo"
   },
   "outputs": [],
   "source": [
    "# напишите запрос\n",
    "query = '''\n",
    "SELECT DATE_TRUNC('month',creation_date) AS month_date,\n",
    "       SUM (views_count) AS total_views\n",
    "FROM stackoverflow.posts\n",
    "WHERE DATE_TRUNC('year',creation_date) BETWEEN '2008-01-01' AND '2008-12-31'\n",
    "GROUP BY month_date\n",
    "ORDER BY total_views DESC;\n",
    "'''\n",
    "\n",
    "# выполните запрос\n",
    "total_views = pd.read_sql_query(query, con=engine) "
   ]
  },
  {
   "cell_type": "code",
   "execution_count": 7,
   "metadata": {},
   "outputs": [
    {
     "data": {
      "text/html": [
       "<div>\n",
       "<style scoped>\n",
       "    .dataframe tbody tr th:only-of-type {\n",
       "        vertical-align: middle;\n",
       "    }\n",
       "\n",
       "    .dataframe tbody tr th {\n",
       "        vertical-align: top;\n",
       "    }\n",
       "\n",
       "    .dataframe thead th {\n",
       "        text-align: right;\n",
       "    }\n",
       "</style>\n",
       "<table border=\"1\" class=\"dataframe\">\n",
       "  <thead>\n",
       "    <tr style=\"text-align: right;\">\n",
       "      <th></th>\n",
       "      <th>month_date</th>\n",
       "      <th>total_views</th>\n",
       "    </tr>\n",
       "  </thead>\n",
       "  <tbody>\n",
       "    <tr>\n",
       "      <td>0</td>\n",
       "      <td>2008-09-01</td>\n",
       "      <td>452928568</td>\n",
       "    </tr>\n",
       "    <tr>\n",
       "      <td>1</td>\n",
       "      <td>2008-10-01</td>\n",
       "      <td>365400138</td>\n",
       "    </tr>\n",
       "    <tr>\n",
       "      <td>2</td>\n",
       "      <td>2008-11-01</td>\n",
       "      <td>221759651</td>\n",
       "    </tr>\n",
       "    <tr>\n",
       "      <td>3</td>\n",
       "      <td>2008-12-01</td>\n",
       "      <td>197792841</td>\n",
       "    </tr>\n",
       "    <tr>\n",
       "      <td>4</td>\n",
       "      <td>2008-08-01</td>\n",
       "      <td>131367083</td>\n",
       "    </tr>\n",
       "    <tr>\n",
       "      <td>5</td>\n",
       "      <td>2008-07-01</td>\n",
       "      <td>669895</td>\n",
       "    </tr>\n",
       "  </tbody>\n",
       "</table>\n",
       "</div>"
      ],
      "text/plain": [
       "  month_date  total_views\n",
       "0 2008-09-01    452928568\n",
       "1 2008-10-01    365400138\n",
       "2 2008-11-01    221759651\n",
       "3 2008-12-01    197792841\n",
       "4 2008-08-01    131367083\n",
       "5 2008-07-01       669895"
      ]
     },
     "execution_count": 7,
     "metadata": {},
     "output_type": "execute_result"
    }
   ],
   "source": [
    "total_views"
   ]
  },
  {
   "cell_type": "markdown",
   "metadata": {
    "id": "XMr_UeU6DWKo"
   },
   "source": [
    "<details>\n",
    "\n",
    "<summary>Подсказка</summary>\n",
    "\n",
    "Используйте функцию для усечения даты, а затем сгруппируйте и отсортируйте данные.\n",
    "</details>"
   ]
  },
  {
   "cell_type": "markdown",
   "metadata": {
    "id": "I_ZvhOxkDWKp"
   },
   "source": [
    "Проанализируйте итоговую таблицу. Отличаются ли данные за разные месяцы? С чем могут быть связаны отличия?"
   ]
  },
  {
   "cell_type": "code",
   "execution_count": 8,
   "metadata": {
    "id": "luxSj17oDWKq"
   },
   "outputs": [],
   "source": [
    "# напишите ваш ответ здесь\n",
    "# Наибольшее количество просмотров постов - осенью, наименьшее - летом (июль, август). \n",
    "# Такое различие может быть связано с актуальностью тем постов именно в осенний период \n",
    "#(возможно темы постов - школа, универстет, налоговая отчетность и т.п)"
   ]
  },
  {
   "cell_type": "markdown",
   "metadata": {
    "id": "FziIXkn5DWKr"
   },
   "source": [
    "# Задание 2"
   ]
  },
  {
   "cell_type": "markdown",
   "metadata": {
    "id": "fTGESZvYDWKr"
   },
   "source": [
    "Выведите список имён самых активных пользователей, которые в первый месяц после регистрации (включая день регистрации) дали больше 100 ответов. Вопросы, которые задавали пользователи, не учитывайте. Отсортируйте результат по полю с именами в лексикографическом порядке."
   ]
  },
  {
   "cell_type": "markdown",
   "metadata": {
    "id": "W5-tv6Y3DWKs"
   },
   "source": [
    "| display_name |\n",
    "| ------------ |\n",
    "| 1800 INFORMATION |\n",
    "| Adam Bellaire |\n",
    "| Adam Davis |\n",
    "| ... |"
   ]
  },
  {
   "cell_type": "code",
   "execution_count": 9,
   "metadata": {
    "id": "fIO-y-YjDWKt"
   },
   "outputs": [],
   "source": [
    "# напишите запрос\n",
    "query = '''\n",
    "WITH filtr AS (SELECT u.id,\n",
    "                      u.display_name,\n",
    "                      u.creation_date AS data_reg,\n",
    "                      u.creation_date+ INTERVAL '1 MONTH' AS new_date\n",
    "               FROM stackoverflow.users u),\n",
    "filtr2 AS (               \n",
    "SELECT filtr.display_name,\n",
    "      COUNT(p.id) AS count_answer\n",
    "FROM stackoverflow.posts p\n",
    "JOIN stackoverflow.post_types pt ON p.post_type_id=pt.id\n",
    "JOIN filtr ON filtr.id=p.user_id\n",
    "WHERE pt.type='Answer' AND (creation_date BETWEEN data_reg AND new_date)\n",
    "GROUP BY filtr.display_name)\n",
    "SELECT display_name\n",
    "FROM filtr2\n",
    "WHERE count_answer>100\n",
    "ORDER BY display_name\n",
    "'''\n",
    "# выполните запрос\n",
    "display_name = pd.read_sql_query(query, con=engine) "
   ]
  },
  {
   "cell_type": "code",
   "execution_count": 10,
   "metadata": {},
   "outputs": [
    {
     "data": {
      "text/html": [
       "<div>\n",
       "<style scoped>\n",
       "    .dataframe tbody tr th:only-of-type {\n",
       "        vertical-align: middle;\n",
       "    }\n",
       "\n",
       "    .dataframe tbody tr th {\n",
       "        vertical-align: top;\n",
       "    }\n",
       "\n",
       "    .dataframe thead th {\n",
       "        text-align: right;\n",
       "    }\n",
       "</style>\n",
       "<table border=\"1\" class=\"dataframe\">\n",
       "  <thead>\n",
       "    <tr style=\"text-align: right;\">\n",
       "      <th></th>\n",
       "      <th>display_name</th>\n",
       "    </tr>\n",
       "  </thead>\n",
       "  <tbody>\n",
       "    <tr>\n",
       "      <td>0</td>\n",
       "      <td>1800 INFORMATION</td>\n",
       "    </tr>\n",
       "    <tr>\n",
       "      <td>1</td>\n",
       "      <td>Adam Bellaire</td>\n",
       "    </tr>\n",
       "    <tr>\n",
       "      <td>2</td>\n",
       "      <td>Adam Davis</td>\n",
       "    </tr>\n",
       "    <tr>\n",
       "      <td>3</td>\n",
       "      <td>Adam Liss</td>\n",
       "    </tr>\n",
       "    <tr>\n",
       "      <td>4</td>\n",
       "      <td>Alan</td>\n",
       "    </tr>\n",
       "    <tr>\n",
       "      <td>5</td>\n",
       "      <td>Amy B</td>\n",
       "    </tr>\n",
       "    <tr>\n",
       "      <td>6</td>\n",
       "      <td>Ben Hoffstein</td>\n",
       "    </tr>\n",
       "    <tr>\n",
       "      <td>7</td>\n",
       "      <td>Brian</td>\n",
       "    </tr>\n",
       "    <tr>\n",
       "      <td>8</td>\n",
       "      <td>Cade Roux</td>\n",
       "    </tr>\n",
       "    <tr>\n",
       "      <td>9</td>\n",
       "      <td>CesarB</td>\n",
       "    </tr>\n",
       "  </tbody>\n",
       "</table>\n",
       "</div>"
      ],
      "text/plain": [
       "       display_name\n",
       "0  1800 INFORMATION\n",
       "1     Adam Bellaire\n",
       "2        Adam Davis\n",
       "3         Adam Liss\n",
       "4              Alan\n",
       "5             Amy B\n",
       "6     Ben Hoffstein\n",
       "7             Brian\n",
       "8         Cade Roux\n",
       "9            CesarB"
      ]
     },
     "execution_count": 10,
     "metadata": {},
     "output_type": "execute_result"
    }
   ],
   "source": [
    "display_name.head(10)"
   ]
  },
  {
   "cell_type": "markdown",
   "metadata": {
    "id": "YIqqc-7HDWKt"
   },
   "source": [
    "<details>\n",
    "\n",
    "<summary>Подсказка</summary>\n",
    "\n",
    "Вам нужно присоединить несколько таблиц — изучите внимательнее описание базы. Чтобы добавить промежуток времени к дате, используйте ключевое слово `INTERVAL`, например, так: `<дата> + INTERVAL '1 year 2 months 3 days'`.</details>"
   ]
  },
  {
   "cell_type": "markdown",
   "metadata": {
    "id": "JhM2xXj5DWKu"
   },
   "source": [
    "# Задание 3"
   ]
  },
  {
   "cell_type": "markdown",
   "metadata": {
    "id": "IS6xPqyyDWKu"
   },
   "source": [
    "Выведите количество постов за 2008 год по месяцам. Отберите посты от пользователей, которые зарегистрировались в сентябре 2008 года и сделали хотя бы один пост в декабре того же года. Отсортируйте таблицу по значению месяца по убыванию."
   ]
  },
  {
   "cell_type": "markdown",
   "metadata": {
    "id": "WmjhjV2xDWKv"
   },
   "source": [
    "| month | count |\n",
    "| ------|------ |\n",
    "| 2008-12-01 | 17641 |\n",
    "| 2008-11-01 | 182984 |\n",
    "| ... | ... |"
   ]
  },
  {
   "cell_type": "code",
   "execution_count": 11,
   "metadata": {
    "id": "kVu0FB8WDWKv"
   },
   "outputs": [],
   "source": [
    "# напишите запрос\n",
    "query = '''\n",
    "SELECT DATE_TRUNC('month',p.creation_date) AS month_date,\n",
    "       COUNT (p.views_count) AS total_views\n",
    "FROM stackoverflow.posts p\n",
    "WHERE p.user_id IN (SELECT u.id AS filtr_id\n",
    "                    FROM stackoverflow.users u\n",
    "                    RIGHT JOIN stackoverflow.posts p ON u.id=p.user_id\n",
    "                    WHERE (CAST(DATE_TRUNC ('month', u.creation_date) AS date) = '2008-09-01')\n",
    "                    AND (CAST(DATE_TRUNC ('month', p.creation_date) AS date) = '2008-12-01')) \n",
    "GROUP BY month_date                    \n",
    "ORDER BY month_date DESC;\n",
    "'''\n",
    "\n",
    "# выполните запрос\n",
    "tab=pd.read_sql_query(query, con=engine) "
   ]
  },
  {
   "cell_type": "code",
   "execution_count": 12,
   "metadata": {},
   "outputs": [
    {
     "data": {
      "text/html": [
       "<div>\n",
       "<style scoped>\n",
       "    .dataframe tbody tr th:only-of-type {\n",
       "        vertical-align: middle;\n",
       "    }\n",
       "\n",
       "    .dataframe tbody tr th {\n",
       "        vertical-align: top;\n",
       "    }\n",
       "\n",
       "    .dataframe thead th {\n",
       "        text-align: right;\n",
       "    }\n",
       "</style>\n",
       "<table border=\"1\" class=\"dataframe\">\n",
       "  <thead>\n",
       "    <tr style=\"text-align: right;\">\n",
       "      <th></th>\n",
       "      <th>month_date</th>\n",
       "      <th>total_views</th>\n",
       "    </tr>\n",
       "  </thead>\n",
       "  <tbody>\n",
       "    <tr>\n",
       "      <td>0</td>\n",
       "      <td>2008-12-01</td>\n",
       "      <td>17641</td>\n",
       "    </tr>\n",
       "    <tr>\n",
       "      <td>1</td>\n",
       "      <td>2008-11-01</td>\n",
       "      <td>18294</td>\n",
       "    </tr>\n",
       "    <tr>\n",
       "      <td>2</td>\n",
       "      <td>2008-10-01</td>\n",
       "      <td>27171</td>\n",
       "    </tr>\n",
       "    <tr>\n",
       "      <td>3</td>\n",
       "      <td>2008-09-01</td>\n",
       "      <td>24870</td>\n",
       "    </tr>\n",
       "    <tr>\n",
       "      <td>4</td>\n",
       "      <td>2008-08-01</td>\n",
       "      <td>32</td>\n",
       "    </tr>\n",
       "  </tbody>\n",
       "</table>\n",
       "</div>"
      ],
      "text/plain": [
       "  month_date  total_views\n",
       "0 2008-12-01        17641\n",
       "1 2008-11-01        18294\n",
       "2 2008-10-01        27171\n",
       "3 2008-09-01        24870\n",
       "4 2008-08-01           32"
      ]
     },
     "execution_count": 12,
     "metadata": {},
     "output_type": "execute_result"
    }
   ],
   "source": [
    "tab"
   ]
  },
  {
   "cell_type": "markdown",
   "metadata": {
    "id": "nWf0JsTMDWKx"
   },
   "source": [
    "<details>\n",
    "\n",
    "<summary>Подсказка</summary>\n",
    "\n",
    "Сначала найдите идентификаторы пользователей, которые зарегистрировались в сентябре 2008 года и оставили хотя бы один пост в декабре. Затем используйте результат для среза и посчитайте посты по месяцам.</details>"
   ]
  },
  {
   "cell_type": "markdown",
   "metadata": {
    "id": "Vnxn9DVHDWKx"
   },
   "source": [
    "Изучите данные: есть ли в них аномалии? Предположите, почему могли появиться аномальные значения."
   ]
  },
  {
   "cell_type": "code",
   "execution_count": 13,
   "metadata": {
    "id": "CEIGGQ6ODWKy"
   },
   "outputs": [],
   "source": [
    "# напишите ваш ответ здесь\n",
    "# Аномально то, что в выборку, зарегистрировавшихся пользователей в сентябре, попали посты августа. \n",
    "#Возможно, если постом считается ответ на вопрос, то пользователь мог не регистрироваться"
   ]
  },
  {
   "cell_type": "markdown",
   "metadata": {
    "id": "5Pcizm0DDWKz"
   },
   "source": [
    "# Задание 4"
   ]
  },
  {
   "cell_type": "markdown",
   "metadata": {
    "id": "KUZPF6vHDWKz"
   },
   "source": [
    "Используя данные о постах, выведите несколько полей:\n",
    "\n",
    "- идентификатор пользователя, который написал пост;\n",
    "- дата создания поста;\n",
    "- количество просмотров у текущего поста;\n",
    "- сумму просмотров постов автора с накоплением.\n",
    "\n",
    "Данные в таблице должны быть отсортированы по возрастанию идентификаторов пользователей, а данные об одном и том же пользователе — по возрастанию даты создания поста."
   ]
  },
  {
   "cell_type": "markdown",
   "metadata": {
    "id": "ZpsTUVDYDWK0"
   },
   "source": [
    "| user_id | creation_date | views_count | cumulative_count |\n",
    "| ------ | -------------- | ----------- | ---------------- |\n",
    "| 1 | 2008-07-31 23:41:00  | 480476   | 480476  |\n",
    "| 1 | 2008-07-31 23:55:38  | 136033 | 616509  | \n",
    "| 1 | 2008-07-31 23:56:41  | 0 |  616509  |\n",
    "| ... | ... | ... | ... |\n",
    "| 2 | 2008-07-31 23:56:41 | 79087  | 79087 |\n",
    "| 2 | 2008-08-01 05:09:56 | 65443 | 144530 |\n",
    "| ... | ...  | ...  | ...  |"
   ]
  },
  {
   "cell_type": "code",
   "execution_count": 14,
   "metadata": {
    "id": "hDoJhMzfDWK0"
   },
   "outputs": [],
   "source": [
    "# напишите запрос\n",
    "query = '''\n",
    "SELECT user_id,\n",
    "       creation_date,\n",
    "       views_count,\n",
    "       SUM(views_count) OVER (PARTITION BY user_id ORDER BY creation_date) AS views_cum\n",
    "FROM stackoverflow.posts p   \n",
    "ORDER BY user_id, creation_date\n",
    "'''\n",
    "\n",
    "# выполните запрос\n",
    "views_cum=pd.read_sql_query(query, con=engine) "
   ]
  },
  {
   "cell_type": "code",
   "execution_count": 15,
   "metadata": {},
   "outputs": [
    {
     "data": {
      "text/html": [
       "<div>\n",
       "<style scoped>\n",
       "    .dataframe tbody tr th:only-of-type {\n",
       "        vertical-align: middle;\n",
       "    }\n",
       "\n",
       "    .dataframe tbody tr th {\n",
       "        vertical-align: top;\n",
       "    }\n",
       "\n",
       "    .dataframe thead th {\n",
       "        text-align: right;\n",
       "    }\n",
       "</style>\n",
       "<table border=\"1\" class=\"dataframe\">\n",
       "  <thead>\n",
       "    <tr style=\"text-align: right;\">\n",
       "      <th></th>\n",
       "      <th>user_id</th>\n",
       "      <th>creation_date</th>\n",
       "      <th>views_count</th>\n",
       "      <th>views_cum</th>\n",
       "    </tr>\n",
       "  </thead>\n",
       "  <tbody>\n",
       "    <tr>\n",
       "      <td>0</td>\n",
       "      <td>1</td>\n",
       "      <td>2008-07-31 23:41:00</td>\n",
       "      <td>480476</td>\n",
       "      <td>480476</td>\n",
       "    </tr>\n",
       "    <tr>\n",
       "      <td>1</td>\n",
       "      <td>1</td>\n",
       "      <td>2008-07-31 23:55:38</td>\n",
       "      <td>136033</td>\n",
       "      <td>616509</td>\n",
       "    </tr>\n",
       "    <tr>\n",
       "      <td>2</td>\n",
       "      <td>1</td>\n",
       "      <td>2008-07-31 23:56:41</td>\n",
       "      <td>0</td>\n",
       "      <td>616509</td>\n",
       "    </tr>\n",
       "    <tr>\n",
       "      <td>3</td>\n",
       "      <td>1</td>\n",
       "      <td>2008-08-04 02:45:08</td>\n",
       "      <td>0</td>\n",
       "      <td>616509</td>\n",
       "    </tr>\n",
       "    <tr>\n",
       "      <td>4</td>\n",
       "      <td>1</td>\n",
       "      <td>2008-08-04 04:31:03</td>\n",
       "      <td>0</td>\n",
       "      <td>616509</td>\n",
       "    </tr>\n",
       "    <tr>\n",
       "      <td>...</td>\n",
       "      <td>...</td>\n",
       "      <td>...</td>\n",
       "      <td>...</td>\n",
       "      <td>...</td>\n",
       "    </tr>\n",
       "    <tr>\n",
       "      <td>243791</td>\n",
       "      <td>5696608</td>\n",
       "      <td>2008-12-23 16:00:37</td>\n",
       "      <td>0</td>\n",
       "      <td>2804</td>\n",
       "    </tr>\n",
       "    <tr>\n",
       "      <td>243792</td>\n",
       "      <td>5696608</td>\n",
       "      <td>2008-12-23 17:35:09</td>\n",
       "      <td>0</td>\n",
       "      <td>2804</td>\n",
       "    </tr>\n",
       "    <tr>\n",
       "      <td>243793</td>\n",
       "      <td>5696608</td>\n",
       "      <td>2008-12-24 01:02:48</td>\n",
       "      <td>0</td>\n",
       "      <td>2804</td>\n",
       "    </tr>\n",
       "    <tr>\n",
       "      <td>243794</td>\n",
       "      <td>5696608</td>\n",
       "      <td>2008-12-30 14:34:45</td>\n",
       "      <td>0</td>\n",
       "      <td>2804</td>\n",
       "    </tr>\n",
       "    <tr>\n",
       "      <td>243795</td>\n",
       "      <td>5696608</td>\n",
       "      <td>2008-12-30 16:32:12</td>\n",
       "      <td>0</td>\n",
       "      <td>2804</td>\n",
       "    </tr>\n",
       "  </tbody>\n",
       "</table>\n",
       "<p>243796 rows × 4 columns</p>\n",
       "</div>"
      ],
      "text/plain": [
       "        user_id       creation_date  views_count  views_cum\n",
       "0             1 2008-07-31 23:41:00       480476     480476\n",
       "1             1 2008-07-31 23:55:38       136033     616509\n",
       "2             1 2008-07-31 23:56:41            0     616509\n",
       "3             1 2008-08-04 02:45:08            0     616509\n",
       "4             1 2008-08-04 04:31:03            0     616509\n",
       "...         ...                 ...          ...        ...\n",
       "243791  5696608 2008-12-23 16:00:37            0       2804\n",
       "243792  5696608 2008-12-23 17:35:09            0       2804\n",
       "243793  5696608 2008-12-24 01:02:48            0       2804\n",
       "243794  5696608 2008-12-30 14:34:45            0       2804\n",
       "243795  5696608 2008-12-30 16:32:12            0       2804\n",
       "\n",
       "[243796 rows x 4 columns]"
      ]
     },
     "execution_count": 15,
     "metadata": {},
     "output_type": "execute_result"
    }
   ],
   "source": [
    "views_cum"
   ]
  },
  {
   "cell_type": "markdown",
   "metadata": {
    "id": "toidOivXDWK1"
   },
   "source": [
    "<details>\n",
    "\n",
    "<summary>Подсказка</summary>\n",
    "\n",
    "Для подсчёта суммы с накоплением используйте оконную функцию.\n",
    "</details>"
   ]
  },
  {
   "cell_type": "markdown",
   "metadata": {
    "id": "N0kHRHvIDWK2"
   },
   "source": [
    "# Задание 5"
   ]
  },
  {
   "cell_type": "markdown",
   "metadata": {
    "id": "gBgvmPtODWK2"
   },
   "source": [
    "Найдите среднее количество постов пользователей в день за август 2008 года. Отберите данные о пользователях, которые опубликовали больше 120 постов за август. Дни без публикаций не учитывайте. \n",
    "\n",
    "Отсортируйте результат по возрастанию среднего количества постов. Значения можно не округлять."
   ]
  },
  {
   "cell_type": "markdown",
   "metadata": {
    "id": "nfzR08BODWK3"
   },
   "source": [
    "| user_id | avg_daily |\n",
    "| ------- | --------- |\n",
    "| 116     | 4.8076923076923077 |\n",
    "| 234     | 5.3043478260869565 |\n",
    "| ...     | ... |"
   ]
  },
  {
   "cell_type": "code",
   "execution_count": 16,
   "metadata": {
    "id": "YFyPNz5GDWK3"
   },
   "outputs": [],
   "source": [
    "# напишите запрос\n",
    "query = '''\n",
    "WITH id_top AS (SELECT p.user_id,\n",
    "                       COUNT(p.id) AS post_count\n",
    "                FROM stackoverflow.posts p  \n",
    "                WHERE DATE_TRUNC('month', p.creation_date):: date = '2008-08-01' \n",
    "                GROUP BY 1\n",
    "                HAVING COUNT(p.id)>120),\n",
    "days_top AS (SELECT p.user_id,\n",
    "                    COUNT(DISTINCT DATE_TRUNC('days',p.creation_date)::date) AS days_post\n",
    "             FROM stackoverflow.posts p  \n",
    "             WHERE DATE_TRUNC('month', p.creation_date):: date = '2008-08-01' \n",
    "             GROUP BY 1)\n",
    "SELECT days_top.user_id,\n",
    "        (post_count::float/days_post::float) avg_daily\n",
    "FROM days_top\n",
    "JOIN id_top  ON id_top.user_id=days_top.user_id\n",
    "ORDER BY avg_daily\n",
    "\n",
    "                \n",
    "'''\n",
    "\n",
    "# выполните запрос\n",
    "avg_daily=pd.read_sql_query(query, con=engine)"
   ]
  },
  {
   "cell_type": "code",
   "execution_count": 17,
   "metadata": {},
   "outputs": [
    {
     "data": {
      "text/html": [
       "<div>\n",
       "<style scoped>\n",
       "    .dataframe tbody tr th:only-of-type {\n",
       "        vertical-align: middle;\n",
       "    }\n",
       "\n",
       "    .dataframe tbody tr th {\n",
       "        vertical-align: top;\n",
       "    }\n",
       "\n",
       "    .dataframe thead th {\n",
       "        text-align: right;\n",
       "    }\n",
       "</style>\n",
       "<table border=\"1\" class=\"dataframe\">\n",
       "  <thead>\n",
       "    <tr style=\"text-align: right;\">\n",
       "      <th></th>\n",
       "      <th>user_id</th>\n",
       "      <th>avg_daily</th>\n",
       "    </tr>\n",
       "  </thead>\n",
       "  <tbody>\n",
       "    <tr>\n",
       "      <td>0</td>\n",
       "      <td>116</td>\n",
       "      <td>4.777778</td>\n",
       "    </tr>\n",
       "    <tr>\n",
       "      <td>1</td>\n",
       "      <td>234</td>\n",
       "      <td>5.208333</td>\n",
       "    </tr>\n",
       "    <tr>\n",
       "      <td>2</td>\n",
       "      <td>91</td>\n",
       "      <td>5.681818</td>\n",
       "    </tr>\n",
       "    <tr>\n",
       "      <td>3</td>\n",
       "      <td>905</td>\n",
       "      <td>7.000000</td>\n",
       "    </tr>\n",
       "    <tr>\n",
       "      <td>4</td>\n",
       "      <td>383</td>\n",
       "      <td>7.277778</td>\n",
       "    </tr>\n",
       "  </tbody>\n",
       "</table>\n",
       "</div>"
      ],
      "text/plain": [
       "   user_id  avg_daily\n",
       "0      116   4.777778\n",
       "1      234   5.208333\n",
       "2       91   5.681818\n",
       "3      905   7.000000\n",
       "4      383   7.277778"
      ]
     },
     "execution_count": 17,
     "metadata": {},
     "output_type": "execute_result"
    }
   ],
   "source": [
    "avg_daily"
   ]
  },
  {
   "cell_type": "markdown",
   "metadata": {
    "id": "5Gs8kiJvDWK4"
   },
   "source": [
    "<details>\n",
    "\n",
    "<summary>Подсказка</summary>\n",
    "\n",
    "Сначала найдите идентификаторы пользователей, которые написали более 120 постов за август. Используя этот запрос в качестве подзапроса для среза, найдите и сохраните во временную таблицу идентификаторы нужных пользователей, дни августа и количество постов в день. В основном запросе сгруппируйте данные по пользователям и найдите для каждого из них среднее количество постов.\n",
    "</details>"
   ]
  },
  {
   "cell_type": "markdown",
   "metadata": {
    "id": "EQ0dcFH4DWK5"
   },
   "source": [
    "# Задание 6"
   ]
  },
  {
   "cell_type": "markdown",
   "metadata": {
    "id": "c7flfg_hDWK5"
   },
   "source": [
    "Сколько в среднем дней в период с 1 по 7 декабря 2008 года включительно пользователи взаимодействовали с платформой? Для каждого пользователя отберите дни, в которые он или она опубликовали хотя бы один пост. Нужно получить одно целое число — не забудьте округлить результат. "
   ]
  },
  {
   "cell_type": "markdown",
   "metadata": {
    "id": "RC1Ibzm9DWK6"
   },
   "source": [
    "| result |\n",
    "| -----  |\n",
    "| <целое число> |"
   ]
  },
  {
   "cell_type": "code",
   "execution_count": 18,
   "metadata": {
    "id": "kZ7LXTr6DWK6"
   },
   "outputs": [],
   "source": [
    "# напишите запрос\n",
    "query = '''\n",
    "SELECT ROUND(AVG(count_number)) AS result\n",
    "FROM (SELECT user_id,\n",
    "             COUNT(DISTINCT(DATE_TRUNC('day', creation_date))) AS count_number\n",
    "      FROM stackoverflow.posts \n",
    "      WHERE (DATE_TRUNC('day', creation_date))>='2008-12-01' AND\n",
    "      (DATE_TRUNC('day', creation_date))<='2008-12-07'\n",
    "      GROUP BY user_id) AS t1\n",
    "'''\n",
    "\n",
    "# выполните запрос\n",
    "result=pd.read_sql_query(query, con=engine)"
   ]
  },
  {
   "cell_type": "code",
   "execution_count": 19,
   "metadata": {},
   "outputs": [
    {
     "data": {
      "text/html": [
       "<div>\n",
       "<style scoped>\n",
       "    .dataframe tbody tr th:only-of-type {\n",
       "        vertical-align: middle;\n",
       "    }\n",
       "\n",
       "    .dataframe tbody tr th {\n",
       "        vertical-align: top;\n",
       "    }\n",
       "\n",
       "    .dataframe thead th {\n",
       "        text-align: right;\n",
       "    }\n",
       "</style>\n",
       "<table border=\"1\" class=\"dataframe\">\n",
       "  <thead>\n",
       "    <tr style=\"text-align: right;\">\n",
       "      <th></th>\n",
       "      <th>result</th>\n",
       "    </tr>\n",
       "  </thead>\n",
       "  <tbody>\n",
       "    <tr>\n",
       "      <td>0</td>\n",
       "      <td>2.0</td>\n",
       "    </tr>\n",
       "  </tbody>\n",
       "</table>\n",
       "</div>"
      ],
      "text/plain": [
       "   result\n",
       "0     2.0"
      ]
     },
     "execution_count": 19,
     "metadata": {},
     "output_type": "execute_result"
    }
   ],
   "source": [
    "result"
   ]
  },
  {
   "cell_type": "markdown",
   "metadata": {
    "id": "2K5G3xuBDWK7"
   },
   "source": [
    "<details>\n",
    "\n",
    "<summary>Подсказка</summary>\n",
    "\n",
    "Посчитайте, сколько активных дней было у каждого пользователя. Добавьте данные во временную таблицу и используйте в основном запросе.\n",
    "</details>"
   ]
  },
  {
   "cell_type": "markdown",
   "metadata": {
    "id": "UJFtNNggDWK7"
   },
   "source": [
    "Проанализируйте итоговую таблицу — какие выводы можно сделать?"
   ]
  },
  {
   "cell_type": "code",
   "execution_count": 20,
   "metadata": {
    "id": "LfUuYz-1DWK8"
   },
   "outputs": [],
   "source": [
    "# напишите ваш ответ здесь\n",
    "# в среднем в период с 1 по 7 декабря 2008 года включительно пользователи взаимодействовали с платформой 2 раза "
   ]
  },
  {
   "cell_type": "markdown",
   "metadata": {
    "id": "wfOmqmfLDWK8"
   },
   "source": [
    "# Задание 7"
   ]
  },
  {
   "cell_type": "markdown",
   "metadata": {
    "id": "X4ARQimADWK9"
   },
   "source": [
    "Выведите историю активности каждого пользователя в таком виде: идентификатор пользователя, дата публикации поста. Отсортируйте вывод по возрастанию идентификаторов пользователей, а для каждого пользователя — по возрастанию даты публикации.\n",
    "\n",
    "Добавьте в таблицу новое поле: для каждого поста в нём будет указано название месяца предпоследней публикации пользователя относительно текущей. Если такой публикации нет, укажите `NULL`.\n",
    "\n",
    "Посмотрите внимательно на образец таблицы: для первых двух постов предпоследней публикации нет, но, начиная с третьего поста, в новое поле входит нужный месяц. Для следующего пользователя в первые две записи поля `second_last_month` тоже войдёт `NULL`."
   ]
  },
  {
   "cell_type": "markdown",
   "metadata": {
    "id": "IGPjRP01DWK9"
   },
   "source": [
    "| user_id | creation_date | second_last_month |\n",
    "| ------- | ------------- | ----------------- |\n",
    "| 1       | 2008-07-31 23:41:00 | NULL |\n",
    "| 1       | 2008-07-31 23:55:38 | NULL |\n",
    "| 1       | 2008-07-31 23:56:41 | Июль |\n",
    "| 1       | 2008-08-04 02:45:08 | Июль |\n",
    "| 1       | 2008-08-04 04:31:03 | Июль |\n",
    "| 1       | 2008-08-04 08:04:42 | Август |\n",
    "| ... | ... | ... |"
   ]
  },
  {
   "cell_type": "code",
   "execution_count": 21,
   "metadata": {
    "id": "HzI1vhaMDWK-"
   },
   "outputs": [],
   "source": [
    "# напишите запрос\n",
    "query = '''\n",
    "WITH tb AS (\n",
    "SELECT user_id,\n",
    "       creation_date,\n",
    "       LAG(creation_date,2,NULL) OVER(PARTITION BY user_id ORDER BY creation_date) AS second_last_month\n",
    "FROM stackoverflow.posts \n",
    "ORDER BY user_id, creation_date)\n",
    "SELECT user_id,\n",
    "       creation_date,\n",
    "       CASE\n",
    "           WHEN EXTRACT(MONTH FROM second_last_month)=1 THEN 'Январь'\n",
    "           WHEN EXTRACT(MONTH FROM second_last_month)=2 THEN 'Февраль'\n",
    "           WHEN EXTRACT(MONTH FROM second_last_month)=3 THEN 'Март'\n",
    "           WHEN EXTRACT(MONTH FROM second_last_month)=4 THEN 'Апрель'\n",
    "           WHEN EXTRACT(MONTH FROM second_last_month)=5 THEN 'Май'\n",
    "           WHEN EXTRACT(MONTH FROM second_last_month)=6 THEN 'Июнь'\n",
    "           WHEN EXTRACT(MONTH FROM second_last_month)=7 THEN 'Июль'\n",
    "           WHEN EXTRACT(MONTH FROM second_last_month)=8 THEN 'Август'\n",
    "           WHEN EXTRACT(MONTH FROM second_last_month)=9 THEN 'Сентябрь'\n",
    "           WHEN EXTRACT(MONTH FROM second_last_month)=10 THEN 'Октябрь'\n",
    "           WHEN EXTRACT(MONTH FROM second_last_month)=11 THEN 'Ноябрь'\n",
    "           WHEN EXTRACT(MONTH FROM second_last_month)=12 THEN 'Декабрь'\n",
    "       END    \n",
    "FROM tb\n",
    "'''\n",
    "\n",
    "# выполните запрос\n",
    "second_last_month=pd.read_sql_query(query, con=engine)"
   ]
  },
  {
   "cell_type": "code",
   "execution_count": 22,
   "metadata": {},
   "outputs": [
    {
     "data": {
      "text/html": [
       "<div>\n",
       "<style scoped>\n",
       "    .dataframe tbody tr th:only-of-type {\n",
       "        vertical-align: middle;\n",
       "    }\n",
       "\n",
       "    .dataframe tbody tr th {\n",
       "        vertical-align: top;\n",
       "    }\n",
       "\n",
       "    .dataframe thead th {\n",
       "        text-align: right;\n",
       "    }\n",
       "</style>\n",
       "<table border=\"1\" class=\"dataframe\">\n",
       "  <thead>\n",
       "    <tr style=\"text-align: right;\">\n",
       "      <th></th>\n",
       "      <th>user_id</th>\n",
       "      <th>creation_date</th>\n",
       "      <th>case</th>\n",
       "    </tr>\n",
       "  </thead>\n",
       "  <tbody>\n",
       "    <tr>\n",
       "      <td>0</td>\n",
       "      <td>1</td>\n",
       "      <td>2008-07-31 23:41:00</td>\n",
       "      <td>None</td>\n",
       "    </tr>\n",
       "    <tr>\n",
       "      <td>1</td>\n",
       "      <td>1</td>\n",
       "      <td>2008-07-31 23:55:38</td>\n",
       "      <td>None</td>\n",
       "    </tr>\n",
       "    <tr>\n",
       "      <td>2</td>\n",
       "      <td>1</td>\n",
       "      <td>2008-07-31 23:56:41</td>\n",
       "      <td>Июль</td>\n",
       "    </tr>\n",
       "    <tr>\n",
       "      <td>3</td>\n",
       "      <td>1</td>\n",
       "      <td>2008-08-04 02:45:08</td>\n",
       "      <td>Июль</td>\n",
       "    </tr>\n",
       "    <tr>\n",
       "      <td>4</td>\n",
       "      <td>1</td>\n",
       "      <td>2008-08-04 04:31:03</td>\n",
       "      <td>Июль</td>\n",
       "    </tr>\n",
       "    <tr>\n",
       "      <td>5</td>\n",
       "      <td>1</td>\n",
       "      <td>2008-08-04 08:04:42</td>\n",
       "      <td>Август</td>\n",
       "    </tr>\n",
       "    <tr>\n",
       "      <td>6</td>\n",
       "      <td>1</td>\n",
       "      <td>2008-08-10 08:28:52</td>\n",
       "      <td>Август</td>\n",
       "    </tr>\n",
       "    <tr>\n",
       "      <td>7</td>\n",
       "      <td>1</td>\n",
       "      <td>2008-08-11 19:23:47</td>\n",
       "      <td>Август</td>\n",
       "    </tr>\n",
       "    <tr>\n",
       "      <td>8</td>\n",
       "      <td>1</td>\n",
       "      <td>2008-08-12 00:30:43</td>\n",
       "      <td>Август</td>\n",
       "    </tr>\n",
       "    <tr>\n",
       "      <td>9</td>\n",
       "      <td>1</td>\n",
       "      <td>2008-08-12 04:59:35</td>\n",
       "      <td>Август</td>\n",
       "    </tr>\n",
       "  </tbody>\n",
       "</table>\n",
       "</div>"
      ],
      "text/plain": [
       "   user_id       creation_date    case\n",
       "0        1 2008-07-31 23:41:00    None\n",
       "1        1 2008-07-31 23:55:38    None\n",
       "2        1 2008-07-31 23:56:41    Июль\n",
       "3        1 2008-08-04 02:45:08    Июль\n",
       "4        1 2008-08-04 04:31:03    Июль\n",
       "5        1 2008-08-04 08:04:42  Август\n",
       "6        1 2008-08-10 08:28:52  Август\n",
       "7        1 2008-08-11 19:23:47  Август\n",
       "8        1 2008-08-12 00:30:43  Август\n",
       "9        1 2008-08-12 04:59:35  Август"
      ]
     },
     "execution_count": 22,
     "metadata": {},
     "output_type": "execute_result"
    }
   ],
   "source": [
    "second_last_month.head(10)"
   ]
  },
  {
   "cell_type": "markdown",
   "metadata": {
    "id": "7dqoKkncDWK_"
   },
   "source": [
    "<details>\n",
    "\n",
    "<summary>Подсказка</summary>\n",
    "\n",
    "Преобразовать результат оконной функции в нужное значение вам поможет аналог условного оператора в SQL: `CASE <поле> WHEN <старое значение> THEN <новое значение> END`.\n",
    "</details>"
   ]
  },
  {
   "cell_type": "markdown",
   "metadata": {
    "id": "tf9qq2yzDWK_"
   },
   "source": [
    "# Задание 8"
   ]
  },
  {
   "cell_type": "markdown",
   "metadata": {
    "id": "gfwLVXBYDWLA"
   },
   "source": [
    "Рассчитайте аналог Retention Rate по месяцам для пользователей StackOverflow. Объедините пользователей в когорты по месяцу их первого поста. Возвращение определяйте по наличию поста в текущем месяце. "
   ]
  },
  {
   "cell_type": "markdown",
   "metadata": {
    "id": "6jKaI53tDWLB"
   },
   "source": [
    "| cohort_dt | session_date | users_cnt | cohort_users_cnt | retention_rate |\n",
    "| --------- | ------------ | --------- | ---------------- | -------------- |\n",
    "| 2008-07-01 00:00:00 | 2008-07-01 00:00:00 | 3 | 3 | 100 |\n",
    "| 2008-07-01 00:00:00 | 2008-08-01 00:00:00 | 2 | 3 | 66,67 |\n",
    "| 2008-07-01 00:00:00 | 2008-09-01 00:00:00 | 1 | 3 | 33,33 |\n",
    "| 2008-07-01 00:00:00 | 2008-10-01 00:00:00 | 2 | 3 | 66,67 |\n",
    "| 2008-07-01 00:00:00 | 2008-11-01 00:00:00 | 1 | 3 | 33,33 |\n",
    "| 2008-07-01 00:00:00 | 2008-12-01 00:00:00 | 2 | 3 | 66,67 |\n",
    "| 2008-08-01 00:00:00 | 2008-08-01 00:00:00 | 2151 | 2151 | 100 | \n",
    "| ... | ... | ... | ... | ... |"
   ]
  },
  {
   "cell_type": "code",
   "execution_count": 23,
   "metadata": {
    "id": "LUgFmwmTDWLB"
   },
   "outputs": [],
   "source": [
    "# напишите запрос\n",
    "query = '''\n",
    "WITH profile AS\n",
    "  (SELECT u.id,\n",
    "          DATE_TRUNC('month', MIN(p.creation_date))::date AS date_first_post\n",
    "   FROM stackoverflow.users u\n",
    "   JOIN stackoverflow.posts p ON u.id = p.user_id\n",
    "   GROUP BY 1),\n",
    "sessions AS   \n",
    "    (SELECT profile.date_first_post,\n",
    "            DATE_TRUNC('month',p.creation_date)::date AS date_post,\n",
    "            COUNT(DISTINCT(profile.id)) AS users_cnt\n",
    "     FROM stackoverflow.posts p\n",
    "     JOIN profile ON profile.id=p.user_id\n",
    "     GROUP BY profile.date_first_post, DATE_TRUNC('month',p.creation_date)::date),\n",
    "cohort AS      \n",
    "    (SELECT COUNT(DISTINCT(profile.id)) AS cohort_size,\n",
    "            profile.date_first_post AS date_cohort     \n",
    "     FROM stackoverflow.posts p\n",
    "     JOIN profile ON profile.id=p.user_id\n",
    "     GROUP BY profile.date_first_post)    \n",
    "SELECT cohort.date_cohort AS cohort_dt,\n",
    "       sessions.date_post AS session_date,\n",
    "       sessions.users_cnt,\n",
    "       cohort.cohort_size AS cohort_users_cnt,\n",
    "       ROUND(sessions.users_cnt *100.0/cohort.cohort_size,2) AS retention_rate\n",
    "FROM sessions\n",
    "JOIN cohort ON sessions.date_first_post=cohort.date_cohort\n",
    "\n",
    "'''\n",
    "\n",
    "# выполните запрос\n",
    "retention_rate=pd.read_sql_query(query, con=engine)"
   ]
  },
  {
   "cell_type": "code",
   "execution_count": 24,
   "metadata": {},
   "outputs": [
    {
     "data": {
      "text/html": [
       "<div>\n",
       "<style scoped>\n",
       "    .dataframe tbody tr th:only-of-type {\n",
       "        vertical-align: middle;\n",
       "    }\n",
       "\n",
       "    .dataframe tbody tr th {\n",
       "        vertical-align: top;\n",
       "    }\n",
       "\n",
       "    .dataframe thead th {\n",
       "        text-align: right;\n",
       "    }\n",
       "</style>\n",
       "<table border=\"1\" class=\"dataframe\">\n",
       "  <thead>\n",
       "    <tr style=\"text-align: right;\">\n",
       "      <th></th>\n",
       "      <th>cohort_dt</th>\n",
       "      <th>session_date</th>\n",
       "      <th>users_cnt</th>\n",
       "      <th>cohort_users_cnt</th>\n",
       "      <th>retention_rate</th>\n",
       "    </tr>\n",
       "  </thead>\n",
       "  <tbody>\n",
       "    <tr>\n",
       "      <td>0</td>\n",
       "      <td>2008-07-01</td>\n",
       "      <td>2008-07-01</td>\n",
       "      <td>3</td>\n",
       "      <td>3</td>\n",
       "      <td>100.00</td>\n",
       "    </tr>\n",
       "    <tr>\n",
       "      <td>1</td>\n",
       "      <td>2008-07-01</td>\n",
       "      <td>2008-08-01</td>\n",
       "      <td>2</td>\n",
       "      <td>3</td>\n",
       "      <td>66.67</td>\n",
       "    </tr>\n",
       "    <tr>\n",
       "      <td>2</td>\n",
       "      <td>2008-07-01</td>\n",
       "      <td>2008-09-01</td>\n",
       "      <td>1</td>\n",
       "      <td>3</td>\n",
       "      <td>33.33</td>\n",
       "    </tr>\n",
       "    <tr>\n",
       "      <td>3</td>\n",
       "      <td>2008-07-01</td>\n",
       "      <td>2008-10-01</td>\n",
       "      <td>2</td>\n",
       "      <td>3</td>\n",
       "      <td>66.67</td>\n",
       "    </tr>\n",
       "    <tr>\n",
       "      <td>4</td>\n",
       "      <td>2008-07-01</td>\n",
       "      <td>2008-11-01</td>\n",
       "      <td>1</td>\n",
       "      <td>3</td>\n",
       "      <td>33.33</td>\n",
       "    </tr>\n",
       "    <tr>\n",
       "      <td>5</td>\n",
       "      <td>2008-07-01</td>\n",
       "      <td>2008-12-01</td>\n",
       "      <td>2</td>\n",
       "      <td>3</td>\n",
       "      <td>66.67</td>\n",
       "    </tr>\n",
       "    <tr>\n",
       "      <td>6</td>\n",
       "      <td>2008-08-01</td>\n",
       "      <td>2008-08-01</td>\n",
       "      <td>2151</td>\n",
       "      <td>2151</td>\n",
       "      <td>100.00</td>\n",
       "    </tr>\n",
       "    <tr>\n",
       "      <td>7</td>\n",
       "      <td>2008-08-01</td>\n",
       "      <td>2008-09-01</td>\n",
       "      <td>1571</td>\n",
       "      <td>2151</td>\n",
       "      <td>73.04</td>\n",
       "    </tr>\n",
       "    <tr>\n",
       "      <td>8</td>\n",
       "      <td>2008-08-01</td>\n",
       "      <td>2008-10-01</td>\n",
       "      <td>1275</td>\n",
       "      <td>2151</td>\n",
       "      <td>59.27</td>\n",
       "    </tr>\n",
       "    <tr>\n",
       "      <td>9</td>\n",
       "      <td>2008-08-01</td>\n",
       "      <td>2008-11-01</td>\n",
       "      <td>1050</td>\n",
       "      <td>2151</td>\n",
       "      <td>48.81</td>\n",
       "    </tr>\n",
       "    <tr>\n",
       "      <td>10</td>\n",
       "      <td>2008-08-01</td>\n",
       "      <td>2008-12-01</td>\n",
       "      <td>894</td>\n",
       "      <td>2151</td>\n",
       "      <td>41.56</td>\n",
       "    </tr>\n",
       "    <tr>\n",
       "      <td>11</td>\n",
       "      <td>2008-09-01</td>\n",
       "      <td>2008-09-01</td>\n",
       "      <td>7678</td>\n",
       "      <td>7678</td>\n",
       "      <td>100.00</td>\n",
       "    </tr>\n",
       "    <tr>\n",
       "      <td>12</td>\n",
       "      <td>2008-09-01</td>\n",
       "      <td>2008-10-01</td>\n",
       "      <td>4132</td>\n",
       "      <td>7678</td>\n",
       "      <td>53.82</td>\n",
       "    </tr>\n",
       "    <tr>\n",
       "      <td>13</td>\n",
       "      <td>2008-09-01</td>\n",
       "      <td>2008-11-01</td>\n",
       "      <td>2966</td>\n",
       "      <td>7678</td>\n",
       "      <td>38.63</td>\n",
       "    </tr>\n",
       "    <tr>\n",
       "      <td>14</td>\n",
       "      <td>2008-09-01</td>\n",
       "      <td>2008-12-01</td>\n",
       "      <td>2500</td>\n",
       "      <td>7678</td>\n",
       "      <td>32.56</td>\n",
       "    </tr>\n",
       "    <tr>\n",
       "      <td>15</td>\n",
       "      <td>2008-10-01</td>\n",
       "      <td>2008-10-01</td>\n",
       "      <td>3629</td>\n",
       "      <td>3629</td>\n",
       "      <td>100.00</td>\n",
       "    </tr>\n",
       "    <tr>\n",
       "      <td>16</td>\n",
       "      <td>2008-10-01</td>\n",
       "      <td>2008-11-01</td>\n",
       "      <td>1640</td>\n",
       "      <td>3629</td>\n",
       "      <td>45.19</td>\n",
       "    </tr>\n",
       "    <tr>\n",
       "      <td>17</td>\n",
       "      <td>2008-10-01</td>\n",
       "      <td>2008-12-01</td>\n",
       "      <td>1221</td>\n",
       "      <td>3629</td>\n",
       "      <td>33.65</td>\n",
       "    </tr>\n",
       "    <tr>\n",
       "      <td>18</td>\n",
       "      <td>2008-11-01</td>\n",
       "      <td>2008-11-01</td>\n",
       "      <td>2852</td>\n",
       "      <td>2852</td>\n",
       "      <td>100.00</td>\n",
       "    </tr>\n",
       "    <tr>\n",
       "      <td>19</td>\n",
       "      <td>2008-11-01</td>\n",
       "      <td>2008-12-01</td>\n",
       "      <td>1151</td>\n",
       "      <td>2852</td>\n",
       "      <td>40.36</td>\n",
       "    </tr>\n",
       "    <tr>\n",
       "      <td>20</td>\n",
       "      <td>2008-12-01</td>\n",
       "      <td>2008-12-01</td>\n",
       "      <td>2536</td>\n",
       "      <td>2536</td>\n",
       "      <td>100.00</td>\n",
       "    </tr>\n",
       "  </tbody>\n",
       "</table>\n",
       "</div>"
      ],
      "text/plain": [
       "     cohort_dt session_date  users_cnt  cohort_users_cnt  retention_rate\n",
       "0   2008-07-01   2008-07-01          3                 3          100.00\n",
       "1   2008-07-01   2008-08-01          2                 3           66.67\n",
       "2   2008-07-01   2008-09-01          1                 3           33.33\n",
       "3   2008-07-01   2008-10-01          2                 3           66.67\n",
       "4   2008-07-01   2008-11-01          1                 3           33.33\n",
       "5   2008-07-01   2008-12-01          2                 3           66.67\n",
       "6   2008-08-01   2008-08-01       2151              2151          100.00\n",
       "7   2008-08-01   2008-09-01       1571              2151           73.04\n",
       "8   2008-08-01   2008-10-01       1275              2151           59.27\n",
       "9   2008-08-01   2008-11-01       1050              2151           48.81\n",
       "10  2008-08-01   2008-12-01        894              2151           41.56\n",
       "11  2008-09-01   2008-09-01       7678              7678          100.00\n",
       "12  2008-09-01   2008-10-01       4132              7678           53.82\n",
       "13  2008-09-01   2008-11-01       2966              7678           38.63\n",
       "14  2008-09-01   2008-12-01       2500              7678           32.56\n",
       "15  2008-10-01   2008-10-01       3629              3629          100.00\n",
       "16  2008-10-01   2008-11-01       1640              3629           45.19\n",
       "17  2008-10-01   2008-12-01       1221              3629           33.65\n",
       "18  2008-11-01   2008-11-01       2852              2852          100.00\n",
       "19  2008-11-01   2008-12-01       1151              2852           40.36\n",
       "20  2008-12-01   2008-12-01       2536              2536          100.00"
      ]
     },
     "execution_count": 24,
     "metadata": {},
     "output_type": "execute_result"
    }
   ],
   "source": [
    "retention_rate"
   ]
  },
  {
   "cell_type": "markdown",
   "metadata": {
    "id": "Yavb5o9JDWLB"
   },
   "source": [
    "<details>\n",
    "\n",
    "<summary>Подсказка</summary>\n",
    "\n",
    "Вспомните, как выглядел запрос для расчёта Retention Rate в теории. Создайте две временные таблицы: `profile` и `sessions` (в ней будет информация о публикациях), а затем используйте их в основном запросе.\n",
    "\n",
    "Во временной таблице `profile` вам понадобятся три поля:\n",
    "- идентификатор пользователя;\n",
    "- дата первого поста пользователя, усечённая до месяца (признак начала когорты);\n",
    "- количество пользователей этой когорты.\n",
    "</details>"
   ]
  },
  {
   "cell_type": "markdown",
   "metadata": {
    "id": "_msBtnb2DWLC"
   },
   "source": [
    "Постройте тепловую карту Retention Rate. Какие аномалии или другие необычные явления удалось выявить? Сформулируйте гипотезы о возможных причинах."
   ]
  },
  {
   "cell_type": "code",
   "execution_count": 25,
   "metadata": {
    "id": "qAEJc8H1DWLC"
   },
   "outputs": [],
   "source": [
    "# постройте тепловую карту Retention Rate"
   ]
  },
  {
   "cell_type": "code",
   "execution_count": 26,
   "metadata": {},
   "outputs": [],
   "source": [
    "retention_rate_pivot=retention_rate.pivot_table(\n",
    "    index='cohort_dt',\n",
    "    columns='session_date',\n",
    "    values='retention_rate',\n",
    ") \n"
   ]
  },
  {
   "cell_type": "code",
   "execution_count": 27,
   "metadata": {},
   "outputs": [
    {
     "data": {
      "image/png": "[encoded data removed]",
      "text/plain": [
       "<Figure size 1152x1152 with 2 Axes>"
      ]
     },
     "metadata": {
      "needs_background": "light"
     },
     "output_type": "display_data"
    }
   ],
   "source": [
    "# строим хитмэп\n",
    "\n",
    "plt.figure(figsize=(16, 16)) # задаём размер графика\n",
    "sns.heatmap(retention_rate_pivot, # датафрейм с данными\n",
    "            annot=True, # добавляем подписи\n",
    "            fmt='') # задаём исходный формат\n",
    "plt.title('Тепловая карта') # название графика\n",
    "plt.show()"
   ]
  },
  {
   "cell_type": "code",
   "execution_count": 28,
   "metadata": {
    "id": "EgOfIsI4DWLC"
   },
   "outputs": [],
   "source": [
    "# опишите аномалии или другие необычные явления и сформулируйте гипотезы \n",
    "#Удержание первой когорты не убывает по экспоненциальному закону, оно растет на 3ом и 5ом лайфтайме\n",
    "#Скорее всего, ошибка в исходных данных"
   ]
  },
  {
   "cell_type": "markdown",
   "metadata": {
    "id": "1k7oPWt5DWLK"
   },
   "source": [
    "# Задание 9"
   ]
  },
  {
   "cell_type": "markdown",
   "metadata": {
    "id": "ALsYVSyRDWLM"
   },
   "source": [
    "На сколько процентов менялось количество постов ежемесячно с 1 сентября по 31 декабря 2008 года? Отобразите таблицу со следующими полями:\n",
    "\n",
    "- номер месяца;\n",
    "- количество постов за месяц;\n",
    "- процент, который показывает, насколько изменилось количество постов в текущем месяце по сравнению с предыдущим.\n",
    "\n",
    "Если постов стало меньше, значение процента должно быть отрицательным, если больше — положительным."
   ]
  },
  {
   "cell_type": "markdown",
   "metadata": {
    "id": "u4E2zF8DDWLM"
   },
   "source": [
    "| creation_month | posts_count | percentage |\n",
    "| -------------- | ----------- | ---------- |\n",
    "| 9 | 70731 | NULL |\n",
    "| 10 | 63102 | -11 |\n",
    "| ... | ... | ... |"
   ]
  },
  {
   "cell_type": "code",
   "execution_count": 29,
   "metadata": {},
   "outputs": [],
   "source": [
    "# напишите запрос\n",
    "query = '''\n",
    "WITH VV AS (\n",
    "SELECT CAST(DATE_TRUNC('month', creation_date) AS date) AS creation_month,\n",
    "       COUNT(id) AS posts_count\n",
    "FROM stackoverflow.posts    \n",
    "WHERE DATE_TRUNC('day', creation_date) BETWEEN '2008-09-01' AND '2008-12-31'\n",
    "GROUP BY 1) \n",
    "SELECT *,\n",
    "        ROUND(((LAG(posts_count) OVER()-posts_count::numeric) /LAG(posts_count) OVER())*100,2) AS percentage\n",
    "FROM VV\n",
    "'''\n",
    "\n",
    "# выполните запрос\n",
    "percentage=pd.read_sql_query(query, con=engine)"
   ]
  },
  {
   "cell_type": "code",
   "execution_count": 30,
   "metadata": {},
   "outputs": [
    {
     "data": {
      "text/html": [
       "<div>\n",
       "<style scoped>\n",
       "    .dataframe tbody tr th:only-of-type {\n",
       "        vertical-align: middle;\n",
       "    }\n",
       "\n",
       "    .dataframe tbody tr th {\n",
       "        vertical-align: top;\n",
       "    }\n",
       "\n",
       "    .dataframe thead th {\n",
       "        text-align: right;\n",
       "    }\n",
       "</style>\n",
       "<table border=\"1\" class=\"dataframe\">\n",
       "  <thead>\n",
       "    <tr style=\"text-align: right;\">\n",
       "      <th></th>\n",
       "      <th>creation_month</th>\n",
       "      <th>posts_count</th>\n",
       "      <th>percentage</th>\n",
       "    </tr>\n",
       "  </thead>\n",
       "  <tbody>\n",
       "    <tr>\n",
       "      <td>0</td>\n",
       "      <td>2008-09-01</td>\n",
       "      <td>70371</td>\n",
       "      <td>NaN</td>\n",
       "    </tr>\n",
       "    <tr>\n",
       "      <td>1</td>\n",
       "      <td>2008-10-01</td>\n",
       "      <td>63102</td>\n",
       "      <td>10.33</td>\n",
       "    </tr>\n",
       "    <tr>\n",
       "      <td>2</td>\n",
       "      <td>2008-11-01</td>\n",
       "      <td>46975</td>\n",
       "      <td>25.56</td>\n",
       "    </tr>\n",
       "    <tr>\n",
       "      <td>3</td>\n",
       "      <td>2008-12-01</td>\n",
       "      <td>44592</td>\n",
       "      <td>5.07</td>\n",
       "    </tr>\n",
       "  </tbody>\n",
       "</table>\n",
       "</div>"
      ],
      "text/plain": [
       "  creation_month  posts_count  percentage\n",
       "0     2008-09-01        70371         NaN\n",
       "1     2008-10-01        63102       10.33\n",
       "2     2008-11-01        46975       25.56\n",
       "3     2008-12-01        44592        5.07"
      ]
     },
     "execution_count": 30,
     "metadata": {},
     "output_type": "execute_result"
    }
   ],
   "source": [
    "percentage"
   ]
  },
  {
   "cell_type": "markdown",
   "metadata": {
    "id": "G0VSDL4HDWLO"
   },
   "source": [
    "<details>\n",
    "\n",
    "<summary>Подсказка</summary>\n",
    "\n",
    "Эту задачу стоит декомпозировать. Сформируйте запрос, который отобразит номер месяца и количество постов. Затем можно использовать оконную функцию, которая вернёт значение за предыдущий месяц, и посчитать процент.\n",
    "</details>"
   ]
  },
  {
   "cell_type": "markdown",
   "metadata": {
    "id": "9NQE2y_MDWLP"
   },
   "source": [
    "Постройте круговую диаграмму с количеством постов по месяцам."
   ]
  },
  {
   "cell_type": "code",
   "execution_count": 31,
   "metadata": {
    "id": "377ABjiVDWLP"
   },
   "outputs": [],
   "source": [
    "# постройте круговую диаграмму с количеством постов по месяцам"
   ]
  },
  {
   "cell_type": "code",
   "execution_count": 32,
   "metadata": {},
   "outputs": [
    {
     "data": {
      "image/png": "[encoded data removed]",
      "text/plain": [
       "<Figure size 432x288 with 1 Axes>"
      ]
     },
     "metadata": {},
     "output_type": "display_data"
    }
   ],
   "source": [
    "vals = percentage['posts_count']\n",
    "labels = percentage['creation_month']\n",
    "myexp = [0.2, 0, 0, 0]\n",
    "fig, ax = plt.subplots()\n",
    "ax.pie(vals, labels=labels, autopct='%1.1f%%', shadow=True,explode = myexp, wedgeprops={'lw':1, 'ls':'--','edgecolor':\"k\"})\n",
    "ax.axis(\"equal\")\n",
    "plt.title(\"Количество постов по месяцам\");"
   ]
  },
  {
   "cell_type": "markdown",
   "metadata": {
    "id": "uw7qMtafDWLP"
   },
   "source": [
    "# Задание 10"
   ]
  },
  {
   "cell_type": "markdown",
   "metadata": {
    "id": "oRBpWKx3DWLQ"
   },
   "source": [
    "Выгрузите данные активности пользователя, который опубликовал больше всего постов за всё время. Выведите данные за октябрь 2008 года в таком виде:\n",
    "\n",
    "- номер недели;\n",
    "- дата и время последнего поста, опубликованного на этой неделе."
   ]
  },
  {
   "cell_type": "markdown",
   "metadata": {
    "id": "XjAWSn_3DWLQ"
   },
   "source": [
    "| week_creation | creation_date |\n",
    "| ------------- | ------------- |\n",
    "| 40 | 2008-10-05 09:00:58 |\n",
    "| 41 | 2008-10-12 21:22:23 |\n",
    "| ... | ... |"
   ]
  },
  {
   "cell_type": "code",
   "execution_count": 33,
   "metadata": {
    "id": "r5F5fSkwDWLQ"
   },
   "outputs": [],
   "source": [
    "# напишите запрос\n",
    "query = '''\n",
    "WITH last AS(\n",
    "SELECT EXTRACT(WEEK FROM creation_date) AS week_creation,\n",
    "       LAST_VALUE(creation_date) OVER (PARTITION BY EXTRACT(WEEK FROM creation_date) ORDER BY creation_date ROWS BETWEEN CURRENT ROW AND UNBOUNDED FOLLOWING) AS creation_date\n",
    "FROM stackoverflow.posts\n",
    "WHERE user_id IN (\n",
    "    SELECT user_id\n",
    "    FROM stackoverflow.posts \n",
    "    GROUP BY 1\n",
    "    ORDER BY COUNT(id) DESC\n",
    "    LIMIT 1) AND DATE_TRUNC('month',creation_date)='2008-10-01')\n",
    "SELECT *\n",
    "FROM last\n",
    "GROUP BY 1,2\n",
    "ORDER BY 1\n",
    "'''\n",
    "\n",
    "# выполните запрос\n",
    "top_user=pd.read_sql_query(query, con=engine)"
   ]
  },
  {
   "cell_type": "code",
   "execution_count": 34,
   "metadata": {
    "scrolled": true
   },
   "outputs": [
    {
     "data": {
      "text/html": [
       "<div>\n",
       "<style scoped>\n",
       "    .dataframe tbody tr th:only-of-type {\n",
       "        vertical-align: middle;\n",
       "    }\n",
       "\n",
       "    .dataframe tbody tr th {\n",
       "        vertical-align: top;\n",
       "    }\n",
       "\n",
       "    .dataframe thead th {\n",
       "        text-align: right;\n",
       "    }\n",
       "</style>\n",
       "<table border=\"1\" class=\"dataframe\">\n",
       "  <thead>\n",
       "    <tr style=\"text-align: right;\">\n",
       "      <th></th>\n",
       "      <th>week_creation</th>\n",
       "      <th>creation_date</th>\n",
       "    </tr>\n",
       "  </thead>\n",
       "  <tbody>\n",
       "    <tr>\n",
       "      <td>0</td>\n",
       "      <td>40.0</td>\n",
       "      <td>2008-10-05 09:00:58</td>\n",
       "    </tr>\n",
       "    <tr>\n",
       "      <td>1</td>\n",
       "      <td>41.0</td>\n",
       "      <td>2008-10-12 21:22:23</td>\n",
       "    </tr>\n",
       "    <tr>\n",
       "      <td>2</td>\n",
       "      <td>42.0</td>\n",
       "      <td>2008-10-19 06:49:30</td>\n",
       "    </tr>\n",
       "    <tr>\n",
       "      <td>3</td>\n",
       "      <td>43.0</td>\n",
       "      <td>2008-10-26 21:44:36</td>\n",
       "    </tr>\n",
       "    <tr>\n",
       "      <td>4</td>\n",
       "      <td>44.0</td>\n",
       "      <td>2008-10-31 22:16:01</td>\n",
       "    </tr>\n",
       "  </tbody>\n",
       "</table>\n",
       "</div>"
      ],
      "text/plain": [
       "   week_creation       creation_date\n",
       "0           40.0 2008-10-05 09:00:58\n",
       "1           41.0 2008-10-12 21:22:23\n",
       "2           42.0 2008-10-19 06:49:30\n",
       "3           43.0 2008-10-26 21:44:36\n",
       "4           44.0 2008-10-31 22:16:01"
      ]
     },
     "execution_count": 34,
     "metadata": {},
     "output_type": "execute_result"
    }
   ],
   "source": [
    "top_user"
   ]
  },
  {
   "cell_type": "markdown",
   "metadata": {
    "id": "KAcmxvLgDWLR"
   },
   "source": [
    "<details>\n",
    "\n",
    "<summary>Подсказка</summary>\n",
    "\n",
    "Декомпозируйте задачу:\n",
    "- Найдите пользователя, который опубликовал больше всего постов.\n",
    "- Найдите дату и время создания каждого поста этого пользователя и номер недели.\n",
    "- Отобразите данные только о последних постах пользователя. Для этого можно использовать оконную функцию.\n",
    "</details>"
   ]
  }
 ],
 "metadata": {
  "ExecuteTimeLog": [
   {
    "duration": 681,
    "start_time": "2021-12-18T12:43:25.081Z"
   },
   {
    "duration": 3,
    "start_time": "2021-12-18T12:43:27.847Z"
   },
   {
    "duration": 29,
    "start_time": "2021-12-18T12:43:29.126Z"
   },
   {
    "duration": 215,
    "start_time": "2021-12-18T12:43:30.462Z"
   },
   {
    "duration": 12,
    "start_time": "2021-12-18T12:43:32.831Z"
   },
   {
    "duration": 2,
    "start_time": "2021-12-18T12:50:08.406Z"
   },
   {
    "duration": 151,
    "start_time": "2021-12-18T12:50:39.773Z"
   },
   {
    "duration": 7,
    "start_time": "2021-12-18T12:50:48.892Z"
   },
   {
    "duration": 2,
    "start_time": "2021-12-18T12:54:35.988Z"
   },
   {
    "duration": 378,
    "start_time": "2021-12-18T13:03:39.483Z"
   },
   {
    "duration": 194,
    "start_time": "2021-12-18T13:04:16.322Z"
   },
   {
    "duration": 6,
    "start_time": "2021-12-18T13:04:30.352Z"
   },
   {
    "duration": 146,
    "start_time": "2021-12-18T13:05:12.864Z"
   },
   {
    "duration": 6,
    "start_time": "2021-12-18T13:05:13.707Z"
   },
   {
    "duration": 152,
    "start_time": "2021-12-18T13:05:18.608Z"
   },
   {
    "duration": 6,
    "start_time": "2021-12-18T13:05:19.417Z"
   },
   {
    "duration": 162,
    "start_time": "2021-12-18T13:05:44.000Z"
   },
   {
    "duration": 6,
    "start_time": "2021-12-18T13:05:44.786Z"
   },
   {
    "duration": 396,
    "start_time": "2021-12-18T14:37:21.262Z"
   },
   {
    "duration": 294,
    "start_time": "2021-12-18T14:37:57.295Z"
   },
   {
    "duration": 35,
    "start_time": "2021-12-18T14:40:04.277Z"
   },
   {
    "duration": 7,
    "start_time": "2021-12-18T14:40:08.016Z"
   },
   {
    "duration": 147,
    "start_time": "2021-12-18T14:40:32.308Z"
   },
   {
    "duration": 8,
    "start_time": "2021-12-18T14:40:42.444Z"
   },
   {
    "duration": 7,
    "start_time": "2021-12-18T14:40:53.548Z"
   },
   {
    "duration": 35,
    "start_time": "2021-12-18T14:41:34.053Z"
   },
   {
    "duration": 9,
    "start_time": "2021-12-18T14:41:35.731Z"
   },
   {
    "duration": 2,
    "start_time": "2021-12-18T14:49:09.314Z"
   },
   {
    "duration": 509,
    "start_time": "2021-12-18T14:49:34.762Z"
   },
   {
    "duration": 7,
    "start_time": "2021-12-18T14:49:38.906Z"
   },
   {
    "duration": 2152,
    "start_time": "2021-12-18T14:50:50.617Z"
   },
   {
    "duration": 13,
    "start_time": "2021-12-18T14:51:06.138Z"
   },
   {
    "duration": 280,
    "start_time": "2021-12-18T14:54:11.637Z"
   },
   {
    "duration": 1700,
    "start_time": "2021-12-18T14:54:34.057Z"
   },
   {
    "duration": 14,
    "start_time": "2021-12-18T14:54:35.758Z"
   },
   {
    "duration": 1083,
    "start_time": "2021-12-18T14:55:23.879Z"
   },
   {
    "duration": 13,
    "start_time": "2021-12-18T14:55:27.849Z"
   },
   {
    "duration": 230,
    "start_time": "2021-12-18T14:56:16.912Z"
   },
   {
    "duration": 6,
    "start_time": "2021-12-18T14:56:18.871Z"
   },
   {
    "duration": 991,
    "start_time": "2021-12-18T14:56:37.199Z"
   },
   {
    "duration": 14,
    "start_time": "2021-12-18T14:56:40.048Z"
   },
   {
    "duration": 282,
    "start_time": "2021-12-18T14:59:08.559Z"
   },
   {
    "duration": 1076,
    "start_time": "2021-12-18T14:59:37.087Z"
   },
   {
    "duration": 15,
    "start_time": "2021-12-18T14:59:39.254Z"
   },
   {
    "duration": 305,
    "start_time": "2021-12-18T15:03:18.493Z"
   },
   {
    "duration": 703,
    "start_time": "2021-12-18T15:04:09.311Z"
   },
   {
    "duration": 392,
    "start_time": "2021-12-18T15:04:38.638Z"
   },
   {
    "duration": 341,
    "start_time": "2021-12-18T15:04:59.974Z"
   },
   {
    "duration": 662,
    "start_time": "2021-12-18T15:05:07.765Z"
   },
   {
    "duration": 631,
    "start_time": "2021-12-18T15:05:24.966Z"
   },
   {
    "duration": 3,
    "start_time": "2021-12-18T15:05:47.174Z"
   },
   {
    "duration": 590,
    "start_time": "2021-12-18T15:05:55.500Z"
   },
   {
    "duration": 624,
    "start_time": "2021-12-18T15:06:21.269Z"
   },
   {
    "duration": 3,
    "start_time": "2021-12-18T15:06:35.269Z"
   },
   {
    "duration": 577,
    "start_time": "2021-12-18T15:06:37.149Z"
   },
   {
    "duration": 4,
    "start_time": "2021-12-18T15:07:30.788Z"
   },
   {
    "duration": 760,
    "start_time": "2021-12-18T15:07:32.373Z"
   },
   {
    "duration": 3,
    "start_time": "2021-12-18T15:07:44.453Z"
   },
   {
    "duration": 415,
    "start_time": "2021-12-18T15:07:45.589Z"
   },
   {
    "duration": 3,
    "start_time": "2021-12-18T15:08:06.341Z"
   },
   {
    "duration": 800,
    "start_time": "2021-12-18T15:08:07.357Z"
   },
   {
    "duration": 2,
    "start_time": "2021-12-18T15:08:27.284Z"
   },
   {
    "duration": 684,
    "start_time": "2021-12-18T15:08:28.356Z"
   },
   {
    "duration": 3,
    "start_time": "2021-12-18T15:08:42.563Z"
   },
   {
    "duration": 757,
    "start_time": "2021-12-18T15:08:43.348Z"
   },
   {
    "duration": 3,
    "start_time": "2021-12-18T15:11:16.307Z"
   },
   {
    "duration": 750,
    "start_time": "2021-12-18T15:11:17.364Z"
   },
   {
    "duration": 3,
    "start_time": "2021-12-18T15:11:47.467Z"
   },
   {
    "duration": 195,
    "start_time": "2021-12-18T15:11:48.331Z"
   },
   {
    "duration": 8,
    "start_time": "2021-12-18T15:11:50.803Z"
   },
   {
    "duration": 3,
    "start_time": "2021-12-18T15:14:45.546Z"
   },
   {
    "duration": 313,
    "start_time": "2021-12-18T15:14:47.274Z"
   },
   {
    "duration": 3,
    "start_time": "2021-12-18T15:15:01.425Z"
   },
   {
    "duration": 250,
    "start_time": "2021-12-18T15:15:02.442Z"
   },
   {
    "duration": 7,
    "start_time": "2021-12-18T15:15:03.346Z"
   },
   {
    "duration": 218,
    "start_time": "2021-12-18T15:16:23.138Z"
   },
   {
    "duration": 6,
    "start_time": "2021-12-18T15:16:24.801Z"
   },
   {
    "duration": 646,
    "start_time": "2021-12-18T17:29:51.334Z"
   },
   {
    "duration": 5,
    "start_time": "2021-12-18T17:29:51.982Z"
   },
   {
    "duration": 102,
    "start_time": "2021-12-18T17:29:51.988Z"
   },
   {
    "duration": 238,
    "start_time": "2021-12-18T17:29:52.092Z"
   },
   {
    "duration": 13,
    "start_time": "2021-12-18T17:29:52.332Z"
   },
   {
    "duration": 144,
    "start_time": "2021-12-18T17:29:52.347Z"
   },
   {
    "duration": 6,
    "start_time": "2021-12-18T17:29:52.493Z"
   },
   {
    "duration": 5,
    "start_time": "2021-12-18T17:29:52.502Z"
   },
   {
    "duration": 225,
    "start_time": "2021-12-18T17:29:52.509Z"
   },
   {
    "duration": 6,
    "start_time": "2021-12-18T17:29:52.736Z"
   },
   {
    "duration": 133,
    "start_time": "2021-12-18T17:29:52.744Z"
   },
   {
    "duration": 8,
    "start_time": "2021-12-18T17:29:52.879Z"
   },
   {
    "duration": 7,
    "start_time": "2021-12-18T17:29:52.889Z"
   },
   {
    "duration": 894,
    "start_time": "2021-12-18T17:29:52.897Z"
   },
   {
    "duration": 9,
    "start_time": "2021-12-18T17:29:53.793Z"
   },
   {
    "duration": 9,
    "start_time": "2021-12-18T17:29:53.804Z"
   },
   {
    "duration": 7,
    "start_time": "2021-12-18T17:29:53.815Z"
   },
   {
    "duration": 5,
    "start_time": "2021-12-18T17:29:53.823Z"
   },
   {
    "duration": 6,
    "start_time": "2021-12-18T17:29:53.829Z"
   },
   {
    "duration": 7,
    "start_time": "2021-12-18T17:29:53.837Z"
   },
   {
    "duration": 5,
    "start_time": "2021-12-18T17:29:53.846Z"
   },
   {
    "duration": 4,
    "start_time": "2021-12-18T17:29:53.853Z"
   },
   {
    "duration": 4,
    "start_time": "2021-12-18T17:29:53.860Z"
   },
   {
    "duration": 4,
    "start_time": "2021-12-18T17:29:53.866Z"
   },
   {
    "duration": 17,
    "start_time": "2021-12-18T17:29:53.871Z"
   },
   {
    "duration": 391,
    "start_time": "2021-12-18T17:45:30.420Z"
   },
   {
    "duration": 313,
    "start_time": "2021-12-18T17:45:41.219Z"
   },
   {
    "duration": 279,
    "start_time": "2021-12-18T17:46:05.451Z"
   },
   {
    "duration": 286,
    "start_time": "2021-12-18T17:46:23.347Z"
   },
   {
    "duration": 180,
    "start_time": "2021-12-18T17:46:34.730Z"
   },
   {
    "duration": 13,
    "start_time": "2021-12-18T17:46:36.323Z"
   },
   {
    "duration": 156,
    "start_time": "2021-12-18T17:47:48.635Z"
   },
   {
    "duration": 10,
    "start_time": "2021-12-18T17:47:50.258Z"
   },
   {
    "duration": 356,
    "start_time": "2021-12-18T17:51:54.968Z"
   },
   {
    "duration": 291,
    "start_time": "2021-12-18T17:52:35.722Z"
   },
   {
    "duration": 295,
    "start_time": "2021-12-18T17:52:54.035Z"
   },
   {
    "duration": 277,
    "start_time": "2021-12-18T17:54:01.233Z"
   },
   {
    "duration": 327,
    "start_time": "2021-12-18T17:54:51.392Z"
   },
   {
    "duration": 10,
    "start_time": "2021-12-18T17:54:55.049Z"
   },
   {
    "duration": 162,
    "start_time": "2021-12-18T17:57:20.431Z"
   },
   {
    "duration": 10,
    "start_time": "2021-12-18T17:57:21.351Z"
   },
   {
    "duration": 152,
    "start_time": "2021-12-18T18:04:10.285Z"
   },
   {
    "duration": 10,
    "start_time": "2021-12-18T18:04:11.029Z"
   },
   {
    "duration": 374,
    "start_time": "2021-12-18T18:05:55.180Z"
   },
   {
    "duration": 107,
    "start_time": "2021-12-18T18:06:15.413Z"
   },
   {
    "duration": 12,
    "start_time": "2021-12-18T18:06:16.197Z"
   },
   {
    "duration": 151,
    "start_time": "2021-12-18T18:06:39.188Z"
   },
   {
    "duration": 13,
    "start_time": "2021-12-18T18:06:40.108Z"
   },
   {
    "duration": 119,
    "start_time": "2021-12-18T18:06:47.677Z"
   },
   {
    "duration": 10,
    "start_time": "2021-12-18T18:06:48.556Z"
   },
   {
    "duration": 110,
    "start_time": "2021-12-18T18:07:50.940Z"
   },
   {
    "duration": 9,
    "start_time": "2021-12-18T18:07:51.820Z"
   },
   {
    "duration": 310,
    "start_time": "2021-12-18T18:12:20.755Z"
   },
   {
    "duration": 112,
    "start_time": "2021-12-18T18:12:32.819Z"
   },
   {
    "duration": 9,
    "start_time": "2021-12-18T18:12:34.187Z"
   },
   {
    "duration": 104,
    "start_time": "2021-12-18T18:14:11.802Z"
   },
   {
    "duration": 6,
    "start_time": "2021-12-18T18:14:12.650Z"
   },
   {
    "duration": 95,
    "start_time": "2021-12-18T18:22:05.816Z"
   },
   {
    "duration": 5,
    "start_time": "2021-12-18T18:22:06.576Z"
   },
   {
    "duration": 294,
    "start_time": "2021-12-18T18:22:35.287Z"
   },
   {
    "duration": 80,
    "start_time": "2021-12-18T18:22:41.880Z"
   },
   {
    "duration": 6,
    "start_time": "2021-12-18T18:22:43.718Z"
   },
   {
    "duration": 75,
    "start_time": "2021-12-18T18:23:15.071Z"
   },
   {
    "duration": 9,
    "start_time": "2021-12-18T18:23:15.704Z"
   },
   {
    "duration": 76,
    "start_time": "2021-12-18T18:23:37.551Z"
   },
   {
    "duration": 5,
    "start_time": "2021-12-18T18:23:38.264Z"
   },
   {
    "duration": 73,
    "start_time": "2021-12-18T18:24:02.488Z"
   },
   {
    "duration": 7,
    "start_time": "2021-12-18T18:24:03.007Z"
   },
   {
    "duration": 293,
    "start_time": "2021-12-18T18:46:11.697Z"
   },
   {
    "duration": 95,
    "start_time": "2021-12-18T18:46:31.721Z"
   },
   {
    "duration": 9,
    "start_time": "2021-12-18T18:46:32.673Z"
   },
   {
    "duration": 346,
    "start_time": "2021-12-18T18:49:44.936Z"
   },
   {
    "duration": 82,
    "start_time": "2021-12-18T18:49:54.968Z"
   },
   {
    "duration": 6,
    "start_time": "2021-12-18T18:49:56.008Z"
   },
   {
    "duration": 71,
    "start_time": "2021-12-18T18:50:24.320Z"
   },
   {
    "duration": 7,
    "start_time": "2021-12-18T18:50:26.868Z"
   },
   {
    "duration": 77,
    "start_time": "2021-12-18T18:50:58.963Z"
   },
   {
    "duration": 8,
    "start_time": "2021-12-18T18:50:59.639Z"
   },
   {
    "duration": 290,
    "start_time": "2021-12-18T18:54:48.094Z"
   },
   {
    "duration": 102,
    "start_time": "2021-12-18T18:54:59.729Z"
   },
   {
    "duration": 514,
    "start_time": "2021-12-18T18:56:04.317Z"
   },
   {
    "duration": 282,
    "start_time": "2021-12-18T19:11:26.594Z"
   },
   {
    "duration": 326,
    "start_time": "2021-12-18T19:11:41.866Z"
   },
   {
    "duration": 100,
    "start_time": "2021-12-18T19:11:54.130Z"
   },
   {
    "duration": 6,
    "start_time": "2021-12-18T19:11:55.074Z"
   },
   {
    "duration": 71,
    "start_time": "2021-12-18T19:17:52.424Z"
   },
   {
    "duration": 6,
    "start_time": "2021-12-18T19:17:53.087Z"
   },
   {
    "duration": 73,
    "start_time": "2021-12-18T19:21:03.151Z"
   },
   {
    "duration": 6,
    "start_time": "2021-12-18T19:21:04.094Z"
   },
   {
    "duration": 112,
    "start_time": "2021-12-18T19:29:18.109Z"
   },
   {
    "duration": 8,
    "start_time": "2021-12-18T19:29:18.860Z"
   },
   {
    "duration": 125,
    "start_time": "2021-12-18T19:29:44.932Z"
   },
   {
    "duration": 8,
    "start_time": "2021-12-18T19:29:45.748Z"
   },
   {
    "duration": 104,
    "start_time": "2021-12-18T19:30:54.835Z"
   },
   {
    "duration": 7,
    "start_time": "2021-12-18T19:30:55.539Z"
   },
   {
    "duration": 110,
    "start_time": "2021-12-18T19:31:46.843Z"
   },
   {
    "duration": 7,
    "start_time": "2021-12-18T19:31:47.659Z"
   },
   {
    "duration": 152,
    "start_time": "2021-12-18T19:32:06.772Z"
   },
   {
    "duration": 7,
    "start_time": "2021-12-18T19:32:07.667Z"
   },
   {
    "duration": 112,
    "start_time": "2021-12-18T19:32:13.475Z"
   },
   {
    "duration": 7,
    "start_time": "2021-12-18T19:32:14.116Z"
   },
   {
    "duration": 273,
    "start_time": "2021-12-18T19:32:54.484Z"
   },
   {
    "duration": 111,
    "start_time": "2021-12-18T19:33:08.476Z"
   },
   {
    "duration": 6,
    "start_time": "2021-12-18T19:33:09.379Z"
   },
   {
    "duration": 828,
    "start_time": "2021-12-18T19:33:37.019Z"
   },
   {
    "duration": 4,
    "start_time": "2021-12-18T19:33:37.850Z"
   },
   {
    "duration": 43,
    "start_time": "2021-12-18T19:33:37.856Z"
   },
   {
    "duration": 207,
    "start_time": "2021-12-18T19:33:37.903Z"
   },
   {
    "duration": 14,
    "start_time": "2021-12-18T19:33:38.112Z"
   },
   {
    "duration": 136,
    "start_time": "2021-12-18T19:33:38.128Z"
   },
   {
    "duration": 6,
    "start_time": "2021-12-18T19:33:38.265Z"
   },
   {
    "duration": 9,
    "start_time": "2021-12-18T19:33:38.273Z"
   },
   {
    "duration": 288,
    "start_time": "2021-12-18T19:33:38.284Z"
   },
   {
    "duration": 6,
    "start_time": "2021-12-18T19:33:38.574Z"
   },
   {
    "duration": 185,
    "start_time": "2021-12-18T19:33:38.582Z"
   },
   {
    "duration": 8,
    "start_time": "2021-12-18T19:33:38.768Z"
   },
   {
    "duration": 5,
    "start_time": "2021-12-18T19:33:38.777Z"
   },
   {
    "duration": 1000,
    "start_time": "2021-12-18T19:33:38.783Z"
   },
   {
    "duration": 16,
    "start_time": "2021-12-18T19:33:39.784Z"
   },
   {
    "duration": 107,
    "start_time": "2021-12-18T19:33:39.805Z"
   },
   {
    "duration": 6,
    "start_time": "2021-12-18T19:33:39.914Z"
   },
   {
    "duration": 71,
    "start_time": "2021-12-18T19:33:39.922Z"
   },
   {
    "duration": 6,
    "start_time": "2021-12-18T19:33:39.995Z"
   },
   {
    "duration": 7,
    "start_time": "2021-12-18T19:33:40.003Z"
   },
   {
    "duration": 5,
    "start_time": "2021-12-18T19:33:40.011Z"
   },
   {
    "duration": 7,
    "start_time": "2021-12-18T19:33:40.018Z"
   },
   {
    "duration": 4,
    "start_time": "2021-12-18T19:33:40.028Z"
   },
   {
    "duration": 10,
    "start_time": "2021-12-18T19:33:40.034Z"
   },
   {
    "duration": 8,
    "start_time": "2021-12-18T19:33:40.046Z"
   },
   {
    "duration": 9,
    "start_time": "2021-12-18T19:33:40.056Z"
   },
   {
    "duration": 12,
    "start_time": "2021-12-18T19:33:40.067Z"
   },
   {
    "duration": 638,
    "start_time": "2021-12-18T19:50:32.245Z"
   },
   {
    "duration": 9,
    "start_time": "2021-12-18T19:50:33.764Z"
   },
   {
    "duration": 830,
    "start_time": "2021-12-18T20:00:45.850Z"
   },
   {
    "duration": 14,
    "start_time": "2021-12-18T20:00:46.778Z"
   },
   {
    "duration": 986,
    "start_time": "2021-12-18T20:01:24.802Z"
   },
   {
    "duration": 9,
    "start_time": "2021-12-18T20:01:26.394Z"
   },
   {
    "duration": 807,
    "start_time": "2021-12-18T20:01:48.841Z"
   },
   {
    "duration": 10,
    "start_time": "2021-12-18T20:01:50.090Z"
   },
   {
    "duration": 56,
    "start_time": "2021-12-18T20:02:09.195Z"
   },
   {
    "duration": 7,
    "start_time": "2021-12-18T20:02:10.331Z"
   },
   {
    "duration": 1099,
    "start_time": "2021-12-18T20:02:15.267Z"
   },
   {
    "duration": 13,
    "start_time": "2021-12-18T20:02:16.986Z"
   },
   {
    "duration": 371,
    "start_time": "2021-12-18T20:02:43.450Z"
   },
   {
    "duration": 831,
    "start_time": "2021-12-18T20:02:51.586Z"
   },
   {
    "duration": 10,
    "start_time": "2021-12-18T20:02:53.082Z"
   },
   {
    "duration": 285,
    "start_time": "2021-12-18T20:05:19.409Z"
   },
   {
    "duration": 342,
    "start_time": "2021-12-18T20:06:45.697Z"
   },
   {
    "duration": 748,
    "start_time": "2021-12-18T20:06:57.825Z"
   },
   {
    "duration": 10,
    "start_time": "2021-12-18T20:06:59.368Z"
   },
   {
    "duration": 1111,
    "start_time": "2021-12-18T20:09:19.305Z"
   },
   {
    "duration": 10,
    "start_time": "2021-12-18T20:09:21.728Z"
   },
   {
    "duration": 8,
    "start_time": "2021-12-18T20:10:08.183Z"
   },
   {
    "duration": 728,
    "start_time": "2021-12-18T20:13:51.131Z"
   },
   {
    "duration": 3,
    "start_time": "2021-12-18T20:13:51.860Z"
   },
   {
    "duration": 37,
    "start_time": "2021-12-18T20:13:51.867Z"
   },
   {
    "duration": 187,
    "start_time": "2021-12-18T20:13:51.906Z"
   },
   {
    "duration": 12,
    "start_time": "2021-12-18T20:13:52.095Z"
   },
   {
    "duration": 124,
    "start_time": "2021-12-18T20:13:52.109Z"
   },
   {
    "duration": 6,
    "start_time": "2021-12-18T20:13:52.235Z"
   },
   {
    "duration": 4,
    "start_time": "2021-12-18T20:13:52.243Z"
   },
   {
    "duration": 215,
    "start_time": "2021-12-18T20:13:52.249Z"
   },
   {
    "duration": 7,
    "start_time": "2021-12-18T20:13:52.466Z"
   },
   {
    "duration": 125,
    "start_time": "2021-12-18T20:13:52.475Z"
   },
   {
    "duration": 6,
    "start_time": "2021-12-18T20:13:52.601Z"
   },
   {
    "duration": 5,
    "start_time": "2021-12-18T20:13:52.609Z"
   },
   {
    "duration": 888,
    "start_time": "2021-12-18T20:13:52.615Z"
   },
   {
    "duration": 11,
    "start_time": "2021-12-18T20:13:53.505Z"
   },
   {
    "duration": 108,
    "start_time": "2021-12-18T20:13:53.518Z"
   },
   {
    "duration": 7,
    "start_time": "2021-12-18T20:13:53.627Z"
   },
   {
    "duration": 68,
    "start_time": "2021-12-18T20:13:53.636Z"
   },
   {
    "duration": 5,
    "start_time": "2021-12-18T20:13:53.706Z"
   },
   {
    "duration": 4,
    "start_time": "2021-12-18T20:13:53.713Z"
   },
   {
    "duration": 953,
    "start_time": "2021-12-18T20:13:53.719Z"
   },
   {
    "duration": 12,
    "start_time": "2021-12-18T20:13:54.676Z"
   },
   {
    "duration": 3,
    "start_time": "2021-12-18T20:13:54.690Z"
   },
   {
    "duration": 5,
    "start_time": "2021-12-18T20:13:54.694Z"
   },
   {
    "duration": 5,
    "start_time": "2021-12-18T20:13:54.701Z"
   },
   {
    "duration": 5,
    "start_time": "2021-12-18T20:13:54.707Z"
   },
   {
    "duration": 4,
    "start_time": "2021-12-18T20:13:54.714Z"
   },
   {
    "duration": 3,
    "start_time": "2021-12-18T20:13:54.720Z"
   },
   {
    "duration": 900,
    "start_time": "2021-12-18T20:27:19.199Z"
   },
   {
    "duration": 11,
    "start_time": "2021-12-18T20:27:28.375Z"
   },
   {
    "duration": 829,
    "start_time": "2021-12-18T20:28:03.760Z"
   },
   {
    "duration": 10,
    "start_time": "2021-12-18T20:28:05.135Z"
   },
   {
    "duration": 8,
    "start_time": "2021-12-18T20:28:43.816Z"
   },
   {
    "duration": 829,
    "start_time": "2021-12-18T20:31:02.328Z"
   },
   {
    "duration": 8,
    "start_time": "2021-12-18T20:31:03.998Z"
   },
   {
    "duration": 326,
    "start_time": "2021-12-18T20:31:10.902Z"
   },
   {
    "duration": 836,
    "start_time": "2021-12-18T20:31:18.167Z"
   },
   {
    "duration": 8,
    "start_time": "2021-12-18T20:31:19.719Z"
   },
   {
    "duration": 275,
    "start_time": "2021-12-18T20:31:57.990Z"
   },
   {
    "duration": 276,
    "start_time": "2021-12-18T20:32:15.215Z"
   },
   {
    "duration": 889,
    "start_time": "2021-12-18T20:33:14.318Z"
   },
   {
    "duration": 7,
    "start_time": "2021-12-18T20:33:16.126Z"
   },
   {
    "duration": 866,
    "start_time": "2021-12-18T20:33:35.533Z"
   },
   {
    "duration": 8,
    "start_time": "2021-12-18T20:33:36.966Z"
   },
   {
    "duration": 675,
    "start_time": "2021-12-18T20:34:01.301Z"
   },
   {
    "duration": 9,
    "start_time": "2021-12-18T20:34:02.543Z"
   },
   {
    "duration": 619,
    "start_time": "2021-12-18T20:34:51.429Z"
   },
   {
    "duration": 11,
    "start_time": "2021-12-18T20:34:52.293Z"
   },
   {
    "duration": 652,
    "start_time": "2021-12-18T20:35:19.742Z"
   },
   {
    "duration": 7,
    "start_time": "2021-12-18T20:35:20.565Z"
   },
   {
    "duration": 275,
    "start_time": "2021-12-18T20:35:35.093Z"
   },
   {
    "duration": 269,
    "start_time": "2021-12-18T20:35:48.318Z"
   },
   {
    "duration": 274,
    "start_time": "2021-12-18T20:35:53.725Z"
   },
   {
    "duration": 7,
    "start_time": "2021-12-18T20:35:54.652Z"
   },
   {
    "duration": 304,
    "start_time": "2021-12-18T20:37:28.973Z"
   },
   {
    "duration": 7,
    "start_time": "2021-12-18T20:37:29.853Z"
   },
   {
    "duration": 618,
    "start_time": "2021-12-18T20:38:06.620Z"
   },
   {
    "duration": 7,
    "start_time": "2021-12-18T20:38:07.388Z"
   },
   {
    "duration": 271,
    "start_time": "2021-12-18T20:38:18.700Z"
   },
   {
    "duration": 309,
    "start_time": "2021-12-18T20:38:23.662Z"
   },
   {
    "duration": 7,
    "start_time": "2021-12-18T20:38:25.773Z"
   },
   {
    "duration": 308,
    "start_time": "2021-12-18T20:47:40.545Z"
   },
   {
    "duration": 180,
    "start_time": "2021-12-18T20:48:12.122Z"
   },
   {
    "duration": 7,
    "start_time": "2021-12-18T20:48:13.147Z"
   },
   {
    "duration": 314,
    "start_time": "2021-12-18T20:51:01.417Z"
   },
   {
    "duration": 7,
    "start_time": "2021-12-18T20:51:02.336Z"
   },
   {
    "duration": 1025,
    "start_time": "2021-12-18T20:53:08.890Z"
   },
   {
    "duration": 7,
    "start_time": "2021-12-18T20:53:11.560Z"
   },
   {
    "duration": 736,
    "start_time": "2021-12-18T20:55:05.170Z"
   },
   {
    "duration": 8,
    "start_time": "2021-12-18T20:55:07.128Z"
   },
   {
    "duration": 293,
    "start_time": "2021-12-18T21:03:34.663Z"
   },
   {
    "duration": 279,
    "start_time": "2021-12-18T21:03:53.766Z"
   },
   {
    "duration": 277,
    "start_time": "2021-12-18T21:04:36.205Z"
   },
   {
    "duration": 445,
    "start_time": "2021-12-18T21:05:24.548Z"
   },
   {
    "duration": 9,
    "start_time": "2021-12-18T21:05:26.125Z"
   },
   {
    "duration": 9,
    "start_time": "2021-12-18T21:07:07.500Z"
   },
   {
    "duration": 276,
    "start_time": "2021-12-18T21:30:07.374Z"
   },
   {
    "duration": 327,
    "start_time": "2021-12-18T21:30:19.262Z"
   },
   {
    "duration": 185,
    "start_time": "2021-12-18T21:30:43.517Z"
   },
   {
    "duration": 7,
    "start_time": "2021-12-18T21:30:44.308Z"
   },
   {
    "duration": 145,
    "start_time": "2021-12-18T21:31:32.924Z"
   },
   {
    "duration": 6,
    "start_time": "2021-12-18T21:31:33.845Z"
   },
   {
    "duration": 128,
    "start_time": "2021-12-18T21:32:28.924Z"
   },
   {
    "duration": 6,
    "start_time": "2021-12-18T21:32:29.605Z"
   },
   {
    "duration": 297,
    "start_time": "2021-12-18T21:36:54.163Z"
   },
   {
    "duration": 281,
    "start_time": "2021-12-18T21:37:12.596Z"
   },
   {
    "duration": 211,
    "start_time": "2021-12-18T21:38:49.459Z"
   },
   {
    "duration": 7,
    "start_time": "2021-12-18T21:38:51.018Z"
   },
   {
    "duration": 130,
    "start_time": "2021-12-18T21:41:23.090Z"
   },
   {
    "duration": 7,
    "start_time": "2021-12-18T21:41:23.754Z"
   },
   {
    "duration": 192,
    "start_time": "2021-12-18T21:41:29.970Z"
   },
   {
    "duration": 7,
    "start_time": "2021-12-18T21:41:30.658Z"
   },
   {
    "duration": 112,
    "start_time": "2021-12-18T21:41:48.386Z"
   },
   {
    "duration": 8,
    "start_time": "2021-12-18T21:41:49.241Z"
   },
   {
    "duration": 131,
    "start_time": "2021-12-18T21:42:20.953Z"
   },
   {
    "duration": 7,
    "start_time": "2021-12-18T21:42:21.874Z"
   },
   {
    "duration": 125,
    "start_time": "2021-12-18T21:42:55.570Z"
   },
   {
    "duration": 7,
    "start_time": "2021-12-18T21:42:56.561Z"
   },
   {
    "duration": 113,
    "start_time": "2021-12-18T21:43:09.433Z"
   },
   {
    "duration": 7,
    "start_time": "2021-12-18T21:43:10.417Z"
   },
   {
    "duration": 203,
    "start_time": "2021-12-18T21:43:38.835Z"
   },
   {
    "duration": 8,
    "start_time": "2021-12-18T21:43:39.626Z"
   },
   {
    "duration": 121,
    "start_time": "2021-12-18T21:46:27.073Z"
   },
   {
    "duration": 7,
    "start_time": "2021-12-18T21:46:27.872Z"
   },
   {
    "duration": 203,
    "start_time": "2021-12-18T21:46:46.593Z"
   },
   {
    "duration": 7,
    "start_time": "2021-12-18T21:46:47.360Z"
   },
   {
    "duration": 112,
    "start_time": "2021-12-18T21:48:19.416Z"
   },
   {
    "duration": 9,
    "start_time": "2021-12-18T21:48:20.088Z"
   },
   {
    "duration": 271,
    "start_time": "2021-12-18T21:50:28.168Z"
   },
   {
    "duration": 277,
    "start_time": "2021-12-18T21:54:45.664Z"
   },
   {
    "duration": 278,
    "start_time": "2021-12-18T21:54:58.070Z"
   },
   {
    "duration": 138,
    "start_time": "2021-12-18T21:55:25.120Z"
   },
   {
    "duration": 6,
    "start_time": "2021-12-18T21:55:26.350Z"
   },
   {
    "duration": 135,
    "start_time": "2021-12-18T21:56:17.951Z"
   },
   {
    "duration": 7,
    "start_time": "2021-12-18T21:56:18.790Z"
   },
   {
    "duration": 117,
    "start_time": "2021-12-18T21:57:05.326Z"
   },
   {
    "duration": 6,
    "start_time": "2021-12-18T21:57:06.134Z"
   },
   {
    "duration": 210,
    "start_time": "2021-12-18T21:57:25.445Z"
   },
   {
    "duration": 8,
    "start_time": "2021-12-18T21:57:27.013Z"
   },
   {
    "duration": 116,
    "start_time": "2021-12-18T21:57:45.109Z"
   },
   {
    "duration": 7,
    "start_time": "2021-12-18T21:57:46.062Z"
   },
   {
    "duration": 136,
    "start_time": "2021-12-18T21:58:12.365Z"
   },
   {
    "duration": 7,
    "start_time": "2021-12-18T21:58:12.773Z"
   },
   {
    "duration": 124,
    "start_time": "2021-12-18T22:01:21.844Z"
   },
   {
    "duration": 7,
    "start_time": "2021-12-18T22:01:24.364Z"
   },
   {
    "duration": 130,
    "start_time": "2021-12-18T22:03:34.067Z"
   },
   {
    "duration": 7,
    "start_time": "2021-12-18T22:03:34.803Z"
   },
   {
    "duration": 135,
    "start_time": "2021-12-18T22:03:51.243Z"
   },
   {
    "duration": 6,
    "start_time": "2021-12-18T22:03:52.516Z"
   },
   {
    "duration": 358,
    "start_time": "2021-12-18T22:04:01.787Z"
   },
   {
    "duration": 7,
    "start_time": "2021-12-18T22:04:02.453Z"
   },
   {
    "duration": 520,
    "start_time": "2021-12-18T22:04:41.653Z"
   },
   {
    "duration": 113,
    "start_time": "2021-12-18T22:05:10.036Z"
   },
   {
    "duration": 8,
    "start_time": "2021-12-18T22:05:10.964Z"
   },
   {
    "duration": 175,
    "start_time": "2021-12-18T22:10:33.857Z"
   },
   {
    "duration": 7,
    "start_time": "2021-12-18T22:10:34.521Z"
   },
   {
    "duration": 161,
    "start_time": "2021-12-18T22:11:12.761Z"
   },
   {
    "duration": 9,
    "start_time": "2021-12-18T22:11:13.515Z"
   },
   {
    "duration": 3,
    "start_time": "2021-12-18T22:13:17.802Z"
   },
   {
    "duration": 90,
    "start_time": "2021-12-18T22:13:40.377Z"
   },
   {
    "duration": 5,
    "start_time": "2021-12-18T22:13:47.913Z"
   },
   {
    "duration": 150,
    "start_time": "2021-12-18T22:14:05.585Z"
   },
   {
    "duration": 8,
    "start_time": "2021-12-18T22:14:06.184Z"
   },
   {
    "duration": 144,
    "start_time": "2021-12-18T22:14:16.985Z"
   },
   {
    "duration": 8,
    "start_time": "2021-12-18T22:14:17.722Z"
   },
   {
    "duration": 89,
    "start_time": "2021-12-18T22:14:25.113Z"
   },
   {
    "duration": 6,
    "start_time": "2021-12-18T22:14:32.200Z"
   },
   {
    "duration": 300,
    "start_time": "2021-12-18T22:17:21.717Z"
   },
   {
    "duration": 124,
    "start_time": "2021-12-18T22:17:29.256Z"
   },
   {
    "duration": 10,
    "start_time": "2021-12-18T22:17:30.432Z"
   },
   {
    "duration": 132,
    "start_time": "2021-12-18T22:20:05.992Z"
   },
   {
    "duration": 12,
    "start_time": "2021-12-18T22:20:06.912Z"
   },
   {
    "duration": 128,
    "start_time": "2021-12-18T22:21:03.552Z"
   },
   {
    "duration": 9,
    "start_time": "2021-12-18T22:21:04.344Z"
   },
   {
    "duration": 301,
    "start_time": "2021-12-18T22:22:07.766Z"
   },
   {
    "duration": 9,
    "start_time": "2021-12-18T22:22:08.455Z"
   },
   {
    "duration": 138,
    "start_time": "2021-12-18T22:22:24.800Z"
   },
   {
    "duration": 9,
    "start_time": "2021-12-18T22:22:26.968Z"
   },
   {
    "duration": 215,
    "start_time": "2021-12-18T22:22:44.698Z"
   },
   {
    "duration": 11,
    "start_time": "2021-12-18T22:22:45.511Z"
   },
   {
    "duration": 232,
    "start_time": "2021-12-18T22:23:14.766Z"
   },
   {
    "duration": 200,
    "start_time": "2021-12-18T22:23:30.951Z"
   },
   {
    "duration": 10,
    "start_time": "2021-12-18T22:23:34.471Z"
   },
   {
    "duration": 125,
    "start_time": "2021-12-18T22:24:18.509Z"
   },
   {
    "duration": 10,
    "start_time": "2021-12-18T22:24:19.198Z"
   },
   {
    "duration": 132,
    "start_time": "2021-12-18T22:24:23.846Z"
   },
   {
    "duration": 13,
    "start_time": "2021-12-18T22:24:24.390Z"
   },
   {
    "duration": 321,
    "start_time": "2021-12-18T22:28:19.765Z"
   },
   {
    "duration": 140,
    "start_time": "2021-12-18T22:28:52.101Z"
   },
   {
    "duration": 10,
    "start_time": "2021-12-18T22:28:53.277Z"
   },
   {
    "duration": 277,
    "start_time": "2021-12-18T22:29:36.629Z"
   },
   {
    "duration": 281,
    "start_time": "2021-12-18T22:29:45.069Z"
   },
   {
    "duration": 134,
    "start_time": "2021-12-18T22:29:56.493Z"
   },
   {
    "duration": 10,
    "start_time": "2021-12-18T22:29:59.452Z"
   },
   {
    "duration": 148,
    "start_time": "2021-12-18T22:30:14.389Z"
   },
   {
    "duration": 9,
    "start_time": "2021-12-18T22:30:15.580Z"
   },
   {
    "duration": 141,
    "start_time": "2021-12-18T22:31:01.102Z"
   },
   {
    "duration": 7,
    "start_time": "2021-12-18T22:31:02.220Z"
   },
   {
    "duration": 129,
    "start_time": "2021-12-18T22:31:20.796Z"
   },
   {
    "duration": 7,
    "start_time": "2021-12-18T22:31:21.508Z"
   },
   {
    "duration": 788,
    "start_time": "2021-12-18T22:31:42.673Z"
   },
   {
    "duration": 3,
    "start_time": "2021-12-18T22:31:43.463Z"
   },
   {
    "duration": 36,
    "start_time": "2021-12-18T22:31:43.468Z"
   },
   {
    "duration": 198,
    "start_time": "2021-12-18T22:31:43.507Z"
   },
   {
    "duration": 12,
    "start_time": "2021-12-18T22:31:43.707Z"
   },
   {
    "duration": 156,
    "start_time": "2021-12-18T22:31:43.720Z"
   },
   {
    "duration": 6,
    "start_time": "2021-12-18T22:31:43.877Z"
   },
   {
    "duration": 5,
    "start_time": "2021-12-18T22:31:43.886Z"
   },
   {
    "duration": 265,
    "start_time": "2021-12-18T22:31:43.893Z"
   },
   {
    "duration": 6,
    "start_time": "2021-12-18T22:31:44.159Z"
   },
   {
    "duration": 157,
    "start_time": "2021-12-18T22:31:44.166Z"
   },
   {
    "duration": 6,
    "start_time": "2021-12-18T22:31:44.324Z"
   },
   {
    "duration": 4,
    "start_time": "2021-12-18T22:31:44.332Z"
   },
   {
    "duration": 941,
    "start_time": "2021-12-18T22:31:44.337Z"
   },
   {
    "duration": 18,
    "start_time": "2021-12-18T22:31:45.280Z"
   },
   {
    "duration": 129,
    "start_time": "2021-12-18T22:31:45.300Z"
   },
   {
    "duration": 6,
    "start_time": "2021-12-18T22:31:45.430Z"
   },
   {
    "duration": 76,
    "start_time": "2021-12-18T22:31:45.437Z"
   },
   {
    "duration": 5,
    "start_time": "2021-12-18T22:31:45.515Z"
   },
   {
    "duration": 6,
    "start_time": "2021-12-18T22:31:45.521Z"
   },
   {
    "duration": 1058,
    "start_time": "2021-12-18T22:31:45.529Z"
   },
   {
    "duration": 9,
    "start_time": "2021-12-18T22:31:46.594Z"
   },
   {
    "duration": 436,
    "start_time": "2021-12-18T22:31:46.606Z"
   },
   {
    "duration": 9,
    "start_time": "2021-12-18T22:31:47.044Z"
   },
   {
    "duration": 5,
    "start_time": "2021-12-18T22:31:47.054Z"
   },
   {
    "duration": 5,
    "start_time": "2021-12-18T22:31:47.060Z"
   },
   {
    "duration": 136,
    "start_time": "2021-12-18T22:31:47.066Z"
   },
   {
    "duration": 6,
    "start_time": "2021-12-18T22:31:47.204Z"
   },
   {
    "duration": 5,
    "start_time": "2021-12-18T22:31:47.211Z"
   },
   {
    "duration": 142,
    "start_time": "2021-12-18T22:31:47.217Z"
   },
   {
    "duration": 6,
    "start_time": "2021-12-18T22:31:47.361Z"
   },
   {
    "duration": 13,
    "start_time": "2021-12-18T22:40:05.060Z"
   },
   {
    "duration": 282,
    "start_time": "2021-12-18T22:40:08.565Z"
   },
   {
    "duration": 541,
    "start_time": "2021-12-18T22:40:44.091Z"
   },
   {
    "duration": 536,
    "start_time": "2021-12-18T22:40:58.635Z"
   },
   {
    "duration": 311,
    "start_time": "2021-12-18T22:45:54.569Z"
   },
   {
    "duration": 469,
    "start_time": "2021-12-18T22:46:56.889Z"
   },
   {
    "duration": 101,
    "start_time": "2021-12-18T22:48:27.696Z"
   },
   {
    "duration": 211,
    "start_time": "2021-12-18T22:48:39.914Z"
   },
   {
    "duration": 92,
    "start_time": "2021-12-18T22:55:44.831Z"
   },
   {
    "duration": 318,
    "start_time": "2021-12-18T22:56:47.134Z"
   },
   {
    "duration": 95,
    "start_time": "2021-12-18T22:57:26.832Z"
   },
   {
    "duration": 89,
    "start_time": "2021-12-18T22:57:34.599Z"
   },
   {
    "duration": 379,
    "start_time": "2021-12-18T22:58:20.048Z"
   },
   {
    "duration": 68,
    "start_time": "2021-12-18T22:58:39.648Z"
   },
   {
    "duration": 368,
    "start_time": "2021-12-18T23:05:08.928Z"
   },
   {
    "duration": 83,
    "start_time": "2021-12-18T23:06:16.653Z"
   },
   {
    "duration": 92,
    "start_time": "2021-12-18T23:06:40.557Z"
   },
   {
    "duration": 82,
    "start_time": "2021-12-18T23:06:46.916Z"
   },
   {
    "duration": 82,
    "start_time": "2021-12-18T23:06:53.389Z"
   },
   {
    "duration": 75,
    "start_time": "2021-12-18T23:08:45.307Z"
   },
   {
    "duration": 76,
    "start_time": "2021-12-18T23:08:58.218Z"
   },
   {
    "duration": 88,
    "start_time": "2021-12-18T23:09:10.659Z"
   },
   {
    "duration": 1483,
    "start_time": "2021-12-18T23:09:31.967Z"
   },
   {
    "duration": 3,
    "start_time": "2021-12-18T23:09:33.452Z"
   },
   {
    "duration": 23,
    "start_time": "2021-12-18T23:09:33.459Z"
   },
   {
    "duration": 190,
    "start_time": "2021-12-18T23:09:33.483Z"
   },
   {
    "duration": 13,
    "start_time": "2021-12-18T23:09:33.674Z"
   },
   {
    "duration": 143,
    "start_time": "2021-12-18T23:09:33.689Z"
   },
   {
    "duration": 6,
    "start_time": "2021-12-18T23:09:33.835Z"
   },
   {
    "duration": 3,
    "start_time": "2021-12-18T23:09:33.844Z"
   },
   {
    "duration": 263,
    "start_time": "2021-12-18T23:09:33.849Z"
   },
   {
    "duration": 6,
    "start_time": "2021-12-18T23:09:34.114Z"
   },
   {
    "duration": 173,
    "start_time": "2021-12-18T23:09:34.122Z"
   },
   {
    "duration": 9,
    "start_time": "2021-12-18T23:09:34.296Z"
   },
   {
    "duration": 3,
    "start_time": "2021-12-18T23:09:34.307Z"
   },
   {
    "duration": 922,
    "start_time": "2021-12-18T23:09:34.312Z"
   },
   {
    "duration": 12,
    "start_time": "2021-12-18T23:09:35.236Z"
   },
   {
    "duration": 153,
    "start_time": "2021-12-18T23:09:35.250Z"
   },
   {
    "duration": 6,
    "start_time": "2021-12-18T23:09:35.404Z"
   },
   {
    "duration": 68,
    "start_time": "2021-12-18T23:09:35.412Z"
   },
   {
    "duration": 5,
    "start_time": "2021-12-18T23:09:35.482Z"
   },
   {
    "duration": 5,
    "start_time": "2021-12-18T23:09:35.489Z"
   },
   {
    "duration": 980,
    "start_time": "2021-12-18T23:09:35.496Z"
   },
   {
    "duration": 7,
    "start_time": "2021-12-18T23:09:36.479Z"
   },
   {
    "duration": 449,
    "start_time": "2021-12-18T23:09:36.489Z"
   },
   {
    "duration": 8,
    "start_time": "2021-12-18T23:09:36.940Z"
   },
   {
    "duration": 4,
    "start_time": "2021-12-18T23:09:36.950Z"
   },
   {
    "duration": 13,
    "start_time": "2021-12-18T23:09:36.955Z"
   },
   {
    "duration": 572,
    "start_time": "2021-12-18T23:09:36.970Z"
   },
   {
    "duration": 3,
    "start_time": "2021-12-18T23:09:37.543Z"
   },
   {
    "duration": 120,
    "start_time": "2021-12-18T23:09:37.547Z"
   },
   {
    "duration": 6,
    "start_time": "2021-12-18T23:09:37.668Z"
   },
   {
    "duration": 4,
    "start_time": "2021-12-18T23:09:37.676Z"
   },
   {
    "duration": 84,
    "start_time": "2021-12-18T23:09:37.682Z"
   },
   {
    "duration": 128,
    "start_time": "2021-12-18T23:09:37.767Z"
   },
   {
    "duration": 9,
    "start_time": "2021-12-18T23:09:37.897Z"
   },
   {
    "duration": 1784,
    "start_time": "2021-12-18T23:16:22.191Z"
   },
   {
    "duration": 3,
    "start_time": "2021-12-18T23:16:23.977Z"
   },
   {
    "duration": 43,
    "start_time": "2021-12-18T23:16:23.985Z"
   },
   {
    "duration": 200,
    "start_time": "2021-12-18T23:16:24.030Z"
   },
   {
    "duration": 13,
    "start_time": "2021-12-18T23:16:24.232Z"
   },
   {
    "duration": 134,
    "start_time": "2021-12-18T23:16:24.247Z"
   },
   {
    "duration": 7,
    "start_time": "2021-12-18T23:16:24.383Z"
   },
   {
    "duration": 4,
    "start_time": "2021-12-18T23:16:24.392Z"
   },
   {
    "duration": 221,
    "start_time": "2021-12-18T23:16:24.397Z"
   },
   {
    "duration": 7,
    "start_time": "2021-12-18T23:16:24.620Z"
   },
   {
    "duration": 127,
    "start_time": "2021-12-18T23:16:24.628Z"
   },
   {
    "duration": 8,
    "start_time": "2021-12-18T23:16:24.757Z"
   },
   {
    "duration": 4,
    "start_time": "2021-12-18T23:16:24.766Z"
   },
   {
    "duration": 823,
    "start_time": "2021-12-18T23:16:24.772Z"
   },
   {
    "duration": 12,
    "start_time": "2021-12-18T23:16:25.596Z"
   },
   {
    "duration": 118,
    "start_time": "2021-12-18T23:16:25.609Z"
   },
   {
    "duration": 7,
    "start_time": "2021-12-18T23:16:25.728Z"
   },
   {
    "duration": 74,
    "start_time": "2021-12-18T23:16:25.736Z"
   },
   {
    "duration": 7,
    "start_time": "2021-12-18T23:16:25.811Z"
   },
   {
    "duration": 4,
    "start_time": "2021-12-18T23:16:25.819Z"
   },
   {
    "duration": 953,
    "start_time": "2021-12-18T23:16:25.825Z"
   },
   {
    "duration": 9,
    "start_time": "2021-12-18T23:16:26.781Z"
   },
   {
    "duration": 436,
    "start_time": "2021-12-18T23:16:26.792Z"
   },
   {
    "duration": 8,
    "start_time": "2021-12-18T23:16:27.230Z"
   },
   {
    "duration": 4,
    "start_time": "2021-12-18T23:16:27.240Z"
   },
   {
    "duration": 14,
    "start_time": "2021-12-18T23:16:27.245Z"
   },
   {
    "duration": 610,
    "start_time": "2021-12-18T23:16:27.260Z"
   },
   {
    "duration": 2,
    "start_time": "2021-12-18T23:16:27.871Z"
   },
   {
    "duration": 231,
    "start_time": "2021-12-18T23:16:27.875Z"
   },
   {
    "duration": 7,
    "start_time": "2021-12-18T23:16:28.107Z"
   },
   {
    "duration": 4,
    "start_time": "2021-12-18T23:16:28.115Z"
   },
   {
    "duration": 80,
    "start_time": "2021-12-18T23:16:28.121Z"
   },
   {
    "duration": 201,
    "start_time": "2021-12-18T23:16:28.203Z"
   },
   {
    "duration": 7,
    "start_time": "2021-12-18T23:16:28.406Z"
   },
   {
    "duration": 20102,
    "start_time": "2021-12-19T04:46:03.899Z"
   },
   {
    "duration": 3,
    "start_time": "2021-12-19T04:46:24.003Z"
   },
   {
    "duration": 26,
    "start_time": "2021-12-19T04:46:24.008Z"
   },
   {
    "duration": 211,
    "start_time": "2021-12-19T04:46:24.035Z"
   },
   {
    "duration": 11,
    "start_time": "2021-12-19T04:46:24.248Z"
   },
   {
    "duration": 144,
    "start_time": "2021-12-19T04:46:24.260Z"
   },
   {
    "duration": 7,
    "start_time": "2021-12-19T04:46:24.406Z"
   },
   {
    "duration": 4,
    "start_time": "2021-12-19T04:46:24.415Z"
   },
   {
    "duration": 250,
    "start_time": "2021-12-19T04:46:24.420Z"
   },
   {
    "duration": 5,
    "start_time": "2021-12-19T04:46:24.672Z"
   },
   {
    "duration": 149,
    "start_time": "2021-12-19T04:46:24.679Z"
   },
   {
    "duration": 6,
    "start_time": "2021-12-19T04:46:24.829Z"
   },
   {
    "duration": 6,
    "start_time": "2021-12-19T04:46:24.836Z"
   },
   {
    "duration": 905,
    "start_time": "2021-12-19T04:46:24.843Z"
   },
   {
    "duration": 9,
    "start_time": "2021-12-19T04:46:25.749Z"
   },
   {
    "duration": 123,
    "start_time": "2021-12-19T04:46:25.760Z"
   },
   {
    "duration": 5,
    "start_time": "2021-12-19T04:46:25.885Z"
   },
   {
    "duration": 76,
    "start_time": "2021-12-19T04:46:25.892Z"
   },
   {
    "duration": 5,
    "start_time": "2021-12-19T04:46:25.969Z"
   },
   {
    "duration": 5,
    "start_time": "2021-12-19T04:46:25.975Z"
   },
   {
    "duration": 970,
    "start_time": "2021-12-19T04:46:25.981Z"
   },
   {
    "duration": 7,
    "start_time": "2021-12-19T04:46:26.952Z"
   },
   {
    "duration": 437,
    "start_time": "2021-12-19T04:46:26.962Z"
   },
   {
    "duration": 8,
    "start_time": "2021-12-19T04:46:27.401Z"
   },
   {
    "duration": 3,
    "start_time": "2021-12-19T04:46:27.411Z"
   },
   {
    "duration": 14,
    "start_time": "2021-12-19T04:46:27.415Z"
   },
   {
    "duration": 507,
    "start_time": "2021-12-19T04:46:27.431Z"
   },
   {
    "duration": 2,
    "start_time": "2021-12-19T04:46:27.940Z"
   },
   {
    "duration": 146,
    "start_time": "2021-12-19T04:46:27.943Z"
   },
   {
    "duration": 7,
    "start_time": "2021-12-19T04:46:28.090Z"
   },
   {
    "duration": 7,
    "start_time": "2021-12-19T04:46:28.099Z"
   },
   {
    "duration": 86,
    "start_time": "2021-12-19T04:46:28.108Z"
   },
   {
    "duration": 145,
    "start_time": "2021-12-19T04:46:28.196Z"
   },
   {
    "duration": 8,
    "start_time": "2021-12-19T04:46:28.343Z"
   },
   {
    "duration": 7,
    "start_time": "2021-12-19T04:49:24.484Z"
   },
   {
    "duration": 1612,
    "start_time": "2021-12-19T09:26:43.607Z"
   },
   {
    "duration": 4,
    "start_time": "2021-12-19T09:26:45.220Z"
   },
   {
    "duration": 27,
    "start_time": "2021-12-19T09:26:45.226Z"
   },
   {
    "duration": 33,
    "start_time": "2021-12-19T09:26:45.255Z"
   },
   {
    "duration": 14,
    "start_time": "2021-12-19T09:26:45.290Z"
   },
   {
    "duration": 118,
    "start_time": "2021-12-19T09:26:45.305Z"
   },
   {
    "duration": 8,
    "start_time": "2021-12-19T09:26:45.425Z"
   },
   {
    "duration": 4,
    "start_time": "2021-12-19T09:26:45.435Z"
   },
   {
    "duration": 224,
    "start_time": "2021-12-19T09:26:45.441Z"
   },
   {
    "duration": 7,
    "start_time": "2021-12-19T09:26:45.666Z"
   },
   {
    "duration": 138,
    "start_time": "2021-12-19T09:26:45.675Z"
   },
   {
    "duration": 6,
    "start_time": "2021-12-19T09:26:45.815Z"
   },
   {
    "duration": 4,
    "start_time": "2021-12-19T09:26:45.823Z"
   },
   {
    "duration": 893,
    "start_time": "2021-12-19T09:26:45.829Z"
   },
   {
    "duration": 11,
    "start_time": "2021-12-19T09:26:46.724Z"
   },
   {
    "duration": 97,
    "start_time": "2021-12-19T09:26:46.736Z"
   },
   {
    "duration": 7,
    "start_time": "2021-12-19T09:26:46.835Z"
   },
   {
    "duration": 80,
    "start_time": "2021-12-19T09:26:46.844Z"
   },
   {
    "duration": 6,
    "start_time": "2021-12-19T09:26:46.925Z"
   },
   {
    "duration": 4,
    "start_time": "2021-12-19T09:26:46.933Z"
   },
   {
    "duration": 1368,
    "start_time": "2021-12-19T09:26:46.938Z"
   },
   {
    "duration": 9,
    "start_time": "2021-12-19T09:26:48.308Z"
   },
   {
    "duration": 613,
    "start_time": "2021-12-19T09:26:48.322Z"
   },
   {
    "duration": 11,
    "start_time": "2021-12-19T09:26:48.937Z"
   },
   {
    "duration": 3,
    "start_time": "2021-12-19T09:26:48.951Z"
   },
   {
    "duration": 15,
    "start_time": "2021-12-19T09:26:48.956Z"
   },
   {
    "duration": 600,
    "start_time": "2021-12-19T09:26:48.973Z"
   },
   {
    "duration": 3,
    "start_time": "2021-12-19T09:26:49.575Z"
   },
   {
    "duration": 155,
    "start_time": "2021-12-19T09:26:49.580Z"
   },
   {
    "duration": 8,
    "start_time": "2021-12-19T09:26:49.737Z"
   },
   {
    "duration": 3,
    "start_time": "2021-12-19T09:26:49.747Z"
   },
   {
    "duration": 91,
    "start_time": "2021-12-19T09:26:49.752Z"
   },
   {
    "duration": 124,
    "start_time": "2021-12-19T09:26:49.845Z"
   },
   {
    "duration": 7,
    "start_time": "2021-12-19T09:26:49.970Z"
   },
   {
    "duration": 469,
    "start_time": "2021-12-19T09:27:37.879Z"
   },
   {
    "duration": 398,
    "start_time": "2021-12-19T09:27:53.087Z"
   },
   {
    "duration": 88,
    "start_time": "2021-12-19T09:28:26.295Z"
   },
   {
    "duration": 9,
    "start_time": "2021-12-19T09:28:27.335Z"
   },
   {
    "duration": 104,
    "start_time": "2021-12-19T09:30:29.717Z"
   },
   {
    "duration": 7,
    "start_time": "2021-12-19T09:30:30.558Z"
   },
   {
    "duration": 184,
    "start_time": "2021-12-19T09:31:10.086Z"
   },
   {
    "duration": 7,
    "start_time": "2021-12-19T09:31:11.190Z"
   },
   {
    "duration": 178,
    "start_time": "2021-12-19T09:31:19.621Z"
   },
   {
    "duration": 7,
    "start_time": "2021-12-19T09:31:21.357Z"
   },
   {
    "duration": 99,
    "start_time": "2021-12-19T09:31:54.661Z"
   },
   {
    "duration": 8,
    "start_time": "2021-12-19T09:31:55.405Z"
   },
   {
    "duration": 136,
    "start_time": "2021-12-19T09:32:44.069Z"
   },
   {
    "duration": 8,
    "start_time": "2021-12-19T09:32:48.228Z"
   },
   {
    "duration": 107,
    "start_time": "2021-12-19T09:33:00.782Z"
   },
   {
    "duration": 7,
    "start_time": "2021-12-19T09:33:02.070Z"
   },
   {
    "duration": 94,
    "start_time": "2021-12-19T09:33:25.989Z"
   },
   {
    "duration": 8,
    "start_time": "2021-12-19T09:33:26.732Z"
   },
   {
    "duration": 1593,
    "start_time": "2021-12-19T10:35:58.579Z"
   },
   {
    "duration": 3,
    "start_time": "2021-12-19T10:36:00.174Z"
   },
   {
    "duration": 29,
    "start_time": "2021-12-19T10:36:00.179Z"
   },
   {
    "duration": 26,
    "start_time": "2021-12-19T10:36:00.210Z"
   },
   {
    "duration": 13,
    "start_time": "2021-12-19T10:36:00.238Z"
   },
   {
    "duration": 102,
    "start_time": "2021-12-19T10:36:00.254Z"
   },
   {
    "duration": 7,
    "start_time": "2021-12-19T10:36:00.358Z"
   },
   {
    "duration": 13,
    "start_time": "2021-12-19T10:36:00.367Z"
   },
   {
    "duration": 194,
    "start_time": "2021-12-19T10:36:00.381Z"
   },
   {
    "duration": 6,
    "start_time": "2021-12-19T10:36:00.577Z"
   },
   {
    "duration": 101,
    "start_time": "2021-12-19T10:36:00.585Z"
   },
   {
    "duration": 7,
    "start_time": "2021-12-19T10:36:00.688Z"
   },
   {
    "duration": 6,
    "start_time": "2021-12-19T10:36:00.697Z"
   },
   {
    "duration": 958,
    "start_time": "2021-12-19T10:36:00.705Z"
   },
   {
    "duration": 12,
    "start_time": "2021-12-19T10:36:01.664Z"
   },
   {
    "duration": 100,
    "start_time": "2021-12-19T10:36:01.678Z"
   },
   {
    "duration": 7,
    "start_time": "2021-12-19T10:36:01.779Z"
   },
   {
    "duration": 68,
    "start_time": "2021-12-19T10:36:01.789Z"
   },
   {
    "duration": 6,
    "start_time": "2021-12-19T10:36:01.859Z"
   },
   {
    "duration": 4,
    "start_time": "2021-12-19T10:36:01.867Z"
   },
   {
    "duration": 1020,
    "start_time": "2021-12-19T10:36:01.873Z"
   },
   {
    "duration": 18,
    "start_time": "2021-12-19T10:36:02.896Z"
   },
   {
    "duration": 627,
    "start_time": "2021-12-19T10:36:02.916Z"
   },
   {
    "duration": 10,
    "start_time": "2021-12-19T10:36:03.544Z"
   },
   {
    "duration": 7,
    "start_time": "2021-12-19T10:36:03.556Z"
   },
   {
    "duration": 1263,
    "start_time": "2021-12-19T10:36:03.564Z"
   },
   {
    "duration": 909,
    "start_time": "2021-12-19T10:36:03.920Z"
   },
   {
    "duration": 907,
    "start_time": "2021-12-19T10:36:03.924Z"
   },
   {
    "duration": 906,
    "start_time": "2021-12-19T10:36:03.926Z"
   },
   {
    "duration": 904,
    "start_time": "2021-12-19T10:36:03.930Z"
   },
   {
    "duration": 902,
    "start_time": "2021-12-19T10:36:03.933Z"
   },
   {
    "duration": 901,
    "start_time": "2021-12-19T10:36:03.936Z"
   },
   {
    "duration": 899,
    "start_time": "2021-12-19T10:36:03.939Z"
   },
   {
    "duration": 897,
    "start_time": "2021-12-19T10:36:03.942Z"
   },
   {
    "duration": 17,
    "start_time": "2021-12-19T10:37:05.979Z"
   },
   {
    "duration": 603,
    "start_time": "2021-12-19T10:37:11.059Z"
   },
   {
    "duration": 110,
    "start_time": "2021-12-19T10:43:41.657Z"
   },
   {
    "duration": 2,
    "start_time": "2021-12-19T10:44:56.448Z"
   },
   {
    "duration": 109,
    "start_time": "2021-12-19T10:44:59.863Z"
   },
   {
    "duration": 8,
    "start_time": "2021-12-19T10:45:01.240Z"
   },
   {
    "duration": 106,
    "start_time": "2021-12-19T10:45:37.321Z"
   },
   {
    "duration": 7,
    "start_time": "2021-12-19T10:45:38.280Z"
   },
   {
    "duration": 1549,
    "start_time": "2021-12-19T10:47:09.545Z"
   },
   {
    "duration": 3,
    "start_time": "2021-12-19T10:47:11.096Z"
   },
   {
    "duration": 28,
    "start_time": "2021-12-19T10:47:11.104Z"
   },
   {
    "duration": 20,
    "start_time": "2021-12-19T10:47:11.134Z"
   },
   {
    "duration": 12,
    "start_time": "2021-12-19T10:47:11.156Z"
   },
   {
    "duration": 117,
    "start_time": "2021-12-19T10:47:11.170Z"
   },
   {
    "duration": 6,
    "start_time": "2021-12-19T10:47:11.289Z"
   },
   {
    "duration": 4,
    "start_time": "2021-12-19T10:47:11.297Z"
   },
   {
    "duration": 225,
    "start_time": "2021-12-19T10:47:11.302Z"
   },
   {
    "duration": 6,
    "start_time": "2021-12-19T10:47:11.529Z"
   },
   {
    "duration": 141,
    "start_time": "2021-12-19T10:47:11.537Z"
   },
   {
    "duration": 6,
    "start_time": "2021-12-19T10:47:11.680Z"
   },
   {
    "duration": 5,
    "start_time": "2021-12-19T10:47:11.688Z"
   },
   {
    "duration": 967,
    "start_time": "2021-12-19T10:47:11.695Z"
   },
   {
    "duration": 11,
    "start_time": "2021-12-19T10:47:12.663Z"
   },
   {
    "duration": 104,
    "start_time": "2021-12-19T10:47:12.676Z"
   },
   {
    "duration": 6,
    "start_time": "2021-12-19T10:47:12.783Z"
   },
   {
    "duration": 47,
    "start_time": "2021-12-19T10:47:12.790Z"
   },
   {
    "duration": 6,
    "start_time": "2021-12-19T10:47:12.839Z"
   },
   {
    "duration": 13,
    "start_time": "2021-12-19T10:47:12.846Z"
   },
   {
    "duration": 950,
    "start_time": "2021-12-19T10:47:12.860Z"
   },
   {
    "duration": 8,
    "start_time": "2021-12-19T10:47:13.813Z"
   },
   {
    "duration": 615,
    "start_time": "2021-12-19T10:47:13.823Z"
   },
   {
    "duration": 10,
    "start_time": "2021-12-19T10:47:14.439Z"
   },
   {
    "duration": 3,
    "start_time": "2021-12-19T10:47:14.451Z"
   },
   {
    "duration": 15,
    "start_time": "2021-12-19T10:47:14.455Z"
   },
   {
    "duration": 608,
    "start_time": "2021-12-19T10:47:14.472Z"
   },
   {
    "duration": 2,
    "start_time": "2021-12-19T10:47:15.082Z"
   },
   {
    "duration": 127,
    "start_time": "2021-12-19T10:47:15.085Z"
   },
   {
    "duration": 6,
    "start_time": "2021-12-19T10:47:15.214Z"
   },
   {
    "duration": 5,
    "start_time": "2021-12-19T10:47:15.222Z"
   },
   {
    "duration": 89,
    "start_time": "2021-12-19T10:47:15.228Z"
   },
   {
    "duration": 111,
    "start_time": "2021-12-19T10:47:15.319Z"
   },
   {
    "duration": 7,
    "start_time": "2021-12-19T10:47:15.432Z"
   },
   {
    "duration": 28817,
    "start_time": "2021-12-20T04:19:38.333Z"
   },
   {
    "duration": 3,
    "start_time": "2021-12-20T04:20:07.152Z"
   },
   {
    "duration": 28,
    "start_time": "2021-12-20T04:20:07.157Z"
   },
   {
    "duration": 213,
    "start_time": "2021-12-20T04:20:07.186Z"
   },
   {
    "duration": 12,
    "start_time": "2021-12-20T04:20:07.401Z"
   },
   {
    "duration": 191,
    "start_time": "2021-12-20T04:20:07.414Z"
   },
   {
    "duration": 7,
    "start_time": "2021-12-20T04:20:07.606Z"
   },
   {
    "duration": 3,
    "start_time": "2021-12-20T04:20:07.616Z"
   },
   {
    "duration": 265,
    "start_time": "2021-12-20T04:20:07.621Z"
   },
   {
    "duration": 7,
    "start_time": "2021-12-20T04:20:07.888Z"
   },
   {
    "duration": 151,
    "start_time": "2021-12-20T04:20:07.896Z"
   },
   {
    "duration": 7,
    "start_time": "2021-12-20T04:20:08.048Z"
   },
   {
    "duration": 8,
    "start_time": "2021-12-20T04:20:08.056Z"
   },
   {
    "duration": 858,
    "start_time": "2021-12-20T04:20:08.066Z"
   },
   {
    "duration": 10,
    "start_time": "2021-12-20T04:20:08.925Z"
   },
   {
    "duration": 127,
    "start_time": "2021-12-20T04:20:08.936Z"
   },
   {
    "duration": 6,
    "start_time": "2021-12-20T04:20:09.064Z"
   },
   {
    "duration": 78,
    "start_time": "2021-12-20T04:20:09.072Z"
   },
   {
    "duration": 4,
    "start_time": "2021-12-20T04:20:09.152Z"
   },
   {
    "duration": 4,
    "start_time": "2021-12-20T04:20:09.158Z"
   },
   {
    "duration": 978,
    "start_time": "2021-12-20T04:20:09.163Z"
   },
   {
    "duration": 8,
    "start_time": "2021-12-20T04:20:10.142Z"
   },
   {
    "duration": 618,
    "start_time": "2021-12-20T04:20:10.153Z"
   },
   {
    "duration": 8,
    "start_time": "2021-12-20T04:20:10.773Z"
   },
   {
    "duration": 3,
    "start_time": "2021-12-20T04:20:10.783Z"
   },
   {
    "duration": 13,
    "start_time": "2021-12-20T04:20:10.788Z"
   },
   {
    "duration": 505,
    "start_time": "2021-12-20T04:20:10.802Z"
   },
   {
    "duration": 2,
    "start_time": "2021-12-20T04:20:11.308Z"
   },
   {
    "duration": 156,
    "start_time": "2021-12-20T04:20:11.312Z"
   },
   {
    "duration": 8,
    "start_time": "2021-12-20T04:20:11.469Z"
   },
   {
    "duration": 2,
    "start_time": "2021-12-20T04:20:11.479Z"
   },
   {
    "duration": 77,
    "start_time": "2021-12-20T04:20:11.483Z"
   },
   {
    "duration": 140,
    "start_time": "2021-12-20T04:20:11.562Z"
   },
   {
    "duration": 6,
    "start_time": "2021-12-20T04:20:11.704Z"
   },
   {
    "duration": 38,
    "start_time": "2021-12-20T04:21:41.624Z"
   }
  ],
  "colab": {
   "name": "AdvancedSQLProjectTemplate_edited_upd.ipynb",
   "provenance": []
  },
  "kernelspec": {
   "display_name": "Python 3 (ipykernel)",
   "language": "python",
   "name": "python3"
  },
  "language_info": {
   "codemirror_mode": {
    "name": "ipython",
    "version": 3
   },
   "file_extension": ".py",
   "mimetype": "text/x-python",
   "name": "python",
   "nbconvert_exporter": "python",
   "pygments_lexer": "ipython3",
   "version": "3.9.5"
  },
  "toc": {
   "base_numbering": 1,
   "nav_menu": {},
   "number_sections": true,
   "sideBar": true,
   "skip_h1_title": true,
   "title_cell": "Table of Contents",
   "title_sidebar": "Contents",
   "toc_cell": false,
   "toc_position": {},
   "toc_section_display": true,
   "toc_window_display": false
  }
 },
 "nbformat": 4,
 "nbformat_minor": 1
}
